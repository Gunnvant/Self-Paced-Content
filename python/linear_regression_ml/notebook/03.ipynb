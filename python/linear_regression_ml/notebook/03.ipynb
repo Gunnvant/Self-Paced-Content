{
 "cells": [
  {
   "cell_type": "markdown",
   "id": "93fd0d75-fb70-4726-8a20-70ecd9ed4089",
   "metadata": {},
   "source": [
    "### Gradient Descent\n",
    "\n",
    "Minimize $x^2-8x$\n",
    "\n",
    "**Grad Update equation**\n",
    "\n",
    "$x_{new} = x_{old} - \\eta\\frac{\\partial{f}}{\\partial{x}}$"
   ]
  },
  {
   "cell_type": "code",
   "execution_count": 1,
   "id": "7c3269b7-3e17-443d-bf6f-21d5a2b3c700",
   "metadata": {
    "tags": []
   },
   "outputs": [],
   "source": [
    "def f(x):\n",
    "    return x**2-8*x\n",
    "def grad_f(x):\n",
    "    return 2*x-8"
   ]
  },
  {
   "cell_type": "code",
   "execution_count": 2,
   "id": "d48e5496-bc36-4a50-83f6-c6c219c5d247",
   "metadata": {
    "tags": []
   },
   "outputs": [],
   "source": [
    "x_old = 2\n",
    "eta = 0.1\n",
    "for i in range(100):\n",
    "    x_new = x_old - eta*grad_f(x_old)\n",
    "    x_old = x_new"
   ]
  },
  {
   "cell_type": "code",
   "execution_count": 3,
   "id": "3b6b3ccc-775a-420f-931b-ad5b4cdb3541",
   "metadata": {
    "tags": []
   },
   "outputs": [
    {
     "data": {
      "text/plain": [
       "3.9999999995925926"
      ]
     },
     "execution_count": 3,
     "metadata": {},
     "output_type": "execute_result"
    }
   ],
   "source": [
    "x_new"
   ]
  },
  {
   "cell_type": "markdown",
   "id": "bcab947d-cb47-4df8-9006-94b90b34d74d",
   "metadata": {
    "tags": []
   },
   "source": [
    "### Create a stopping criteria\n"
   ]
  },
  {
   "cell_type": "code",
   "execution_count": 6,
   "id": "b8213e20-b175-422a-a4ac-e802397ff8ca",
   "metadata": {
    "tags": []
   },
   "outputs": [
    {
     "name": "stdout",
     "output_type": "stream",
     "text": [
      "3.988194083792826\n"
     ]
    }
   ],
   "source": [
    "stopping_criterion = 0.0001\n",
    "x_old = 2\n",
    "eta = 0.1\n",
    "while True:\n",
    "    f_old = f(x_old)\n",
    "    x_new = x_old - eta*grad_f(x_old)\n",
    "    f_new = f(x_new)\n",
    "    if abs(f_new-f_old)<stopping_criterion:\n",
    "        break\n",
    "    x_old = x_new\n",
    "print(x_new)   "
   ]
  },
  {
   "cell_type": "code",
   "execution_count": null,
   "id": "a0c0e442-d892-407a-9302-ee9824f7b1fd",
   "metadata": {},
   "outputs": [],
   "source": []
  }
 ],
 "metadata": {
  "kernelspec": {
   "display_name": "Python 3 (ipykernel)",
   "language": "python",
   "name": "python3"
  },
  "language_info": {
   "codemirror_mode": {
    "name": "ipython",
    "version": 3
   },
   "file_extension": ".py",
   "mimetype": "text/x-python",
   "name": "python",
   "nbconvert_exporter": "python",
   "pygments_lexer": "ipython3",
   "version": "3.9.16"
  }
 },
 "nbformat": 4,
 "nbformat_minor": 5
}
