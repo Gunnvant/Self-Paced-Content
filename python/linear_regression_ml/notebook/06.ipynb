{
 "cells": [
  {
   "cell_type": "markdown",
   "id": "50b6bd3c-1d71-4a40-ba82-c7238da20603",
   "metadata": {},
   "source": [
    "### Model performance out of sample"
   ]
  },
  {
   "cell_type": "code",
   "execution_count": 1,
   "id": "4ed16dfa-fefb-431f-8e80-c191feb17205",
   "metadata": {
    "tags": []
   },
   "outputs": [],
   "source": [
    "import pandas as pd\n",
    "df = pd.read_csv(\"../data/mobile_new.csv\")"
   ]
  },
  {
   "cell_type": "code",
   "execution_count": 2,
   "id": "1b7dabab-3beb-414e-a219-5f1520bdae8c",
   "metadata": {
    "tags": []
   },
   "outputs": [
    {
     "data": {
      "text/html": [
       "<div>\n",
       "<style scoped>\n",
       "    .dataframe tbody tr th:only-of-type {\n",
       "        vertical-align: middle;\n",
       "    }\n",
       "\n",
       "    .dataframe tbody tr th {\n",
       "        vertical-align: top;\n",
       "    }\n",
       "\n",
       "    .dataframe thead th {\n",
       "        text-align: right;\n",
       "    }\n",
       "</style>\n",
       "<table border=\"1\" class=\"dataframe\">\n",
       "  <thead>\n",
       "    <tr style=\"text-align: right;\">\n",
       "      <th></th>\n",
       "      <th>screen_size</th>\n",
       "      <th>rear_camera_mp</th>\n",
       "      <th>front_camera_mp</th>\n",
       "      <th>ram</th>\n",
       "      <th>battery</th>\n",
       "      <th>weight</th>\n",
       "      <th>normalized_used_price</th>\n",
       "    </tr>\n",
       "  </thead>\n",
       "  <tbody>\n",
       "    <tr>\n",
       "      <th>0</th>\n",
       "      <td>14.5</td>\n",
       "      <td>13.0</td>\n",
       "      <td>5.0</td>\n",
       "      <td>3.0</td>\n",
       "      <td>3020.0</td>\n",
       "      <td>146.0</td>\n",
       "      <td>4.307572</td>\n",
       "    </tr>\n",
       "    <tr>\n",
       "      <th>1</th>\n",
       "      <td>17.3</td>\n",
       "      <td>13.0</td>\n",
       "      <td>16.0</td>\n",
       "      <td>8.0</td>\n",
       "      <td>4300.0</td>\n",
       "      <td>213.0</td>\n",
       "      <td>5.162097</td>\n",
       "    </tr>\n",
       "  </tbody>\n",
       "</table>\n",
       "</div>"
      ],
      "text/plain": [
       "   screen_size  rear_camera_mp  front_camera_mp  ram  battery  weight  \\\n",
       "0         14.5            13.0              5.0  3.0   3020.0   146.0   \n",
       "1         17.3            13.0             16.0  8.0   4300.0   213.0   \n",
       "\n",
       "   normalized_used_price  \n",
       "0               4.307572  \n",
       "1               5.162097  "
      ]
     },
     "execution_count": 2,
     "metadata": {},
     "output_type": "execute_result"
    }
   ],
   "source": [
    "df.head(2)"
   ]
  },
  {
   "cell_type": "markdown",
   "id": "af68b6bb-3639-4bba-925e-7bb7213a9097",
   "metadata": {},
   "source": [
    "### Train and validation set approach"
   ]
  },
  {
   "cell_type": "code",
   "execution_count": 3,
   "id": "9f0b5e73-78e1-4a16-8018-8ba705802906",
   "metadata": {
    "tags": []
   },
   "outputs": [],
   "source": [
    "from sklearn.model_selection import train_test_split"
   ]
  },
  {
   "cell_type": "code",
   "execution_count": 4,
   "id": "a1a4e3b7-0c56-4143-8e56-3a9f62400407",
   "metadata": {
    "tags": []
   },
   "outputs": [],
   "source": [
    "X = df[['screen_size','rear_camera_mp','front_camera_mp','ram']].values\n",
    "y = df['normalized_used_price'].values"
   ]
  },
  {
   "cell_type": "code",
   "execution_count": 5,
   "id": "c802eab1-5fb2-45b8-b039-de81d193df37",
   "metadata": {
    "tags": []
   },
   "outputs": [],
   "source": [
    "X_train,X_test,y_train,y_test = train_test_split(X,y,test_size=0.20)"
   ]
  },
  {
   "cell_type": "code",
   "execution_count": 6,
   "id": "3ae94678-0d37-489b-a693-f9b9326524ba",
   "metadata": {
    "tags": []
   },
   "outputs": [],
   "source": [
    "from sklearn.linear_model import LinearRegression"
   ]
  },
  {
   "cell_type": "code",
   "execution_count": 7,
   "id": "f6abe3ea-a158-4448-bf31-44903bfa4976",
   "metadata": {
    "tags": []
   },
   "outputs": [],
   "source": [
    "reg = LinearRegression().fit(X_train,y_train)"
   ]
  },
  {
   "cell_type": "code",
   "execution_count": 10,
   "id": "e9684bb1-881d-49df-b611-4c210ad665da",
   "metadata": {
    "tags": []
   },
   "outputs": [],
   "source": [
    "pred_train = reg.predict(X_train)"
   ]
  },
  {
   "cell_type": "code",
   "execution_count": 8,
   "id": "18f4d98c-5b84-449f-95ea-2ceb09afc42d",
   "metadata": {
    "tags": []
   },
   "outputs": [],
   "source": [
    "pred_test = reg.predict(X_test)"
   ]
  },
  {
   "cell_type": "code",
   "execution_count": 9,
   "id": "abef463b-c09f-4334-84b9-6058ac782767",
   "metadata": {
    "tags": []
   },
   "outputs": [],
   "source": [
    "from sklearn.metrics import r2_score"
   ]
  },
  {
   "cell_type": "code",
   "execution_count": 11,
   "id": "ec9cf786-1228-46cb-8019-abd4b5d86e25",
   "metadata": {
    "tags": []
   },
   "outputs": [],
   "source": [
    "def adj_r(r,n,p):\n",
    "    return 1-(1-r*r)*(n-1)/(n-p-1)"
   ]
  },
  {
   "cell_type": "code",
   "execution_count": 12,
   "id": "c197c649-79cf-4e6e-b117-34c976885cde",
   "metadata": {
    "tags": []
   },
   "outputs": [
    {
     "data": {
      "text/plain": [
       "0.7356317777975838"
      ]
     },
     "execution_count": 12,
     "metadata": {},
     "output_type": "execute_result"
    }
   ],
   "source": [
    "r2_score(y_train,pred_train)"
   ]
  },
  {
   "cell_type": "code",
   "execution_count": 14,
   "id": "aa7e811e-11ca-4e7a-98c6-0c447fb07866",
   "metadata": {
    "tags": []
   },
   "outputs": [
    {
     "data": {
      "text/plain": [
       "0.5404481957556424"
      ]
     },
     "execution_count": 14,
     "metadata": {},
     "output_type": "execute_result"
    }
   ],
   "source": [
    "adj_r(0.7356317777975838,len(X_train),4)"
   ]
  },
  {
   "cell_type": "code",
   "execution_count": 13,
   "id": "c4bc77c5-05f2-402e-ab17-f0d3dd83e906",
   "metadata": {
    "tags": []
   },
   "outputs": [
    {
     "data": {
      "text/plain": [
       "0.6529094115504623"
      ]
     },
     "execution_count": 13,
     "metadata": {},
     "output_type": "execute_result"
    }
   ],
   "source": [
    "r2_score(y_test,pred_test)"
   ]
  },
  {
   "cell_type": "code",
   "execution_count": 15,
   "id": "5726b6a5-cf49-47ae-a07e-ff3ee9e634a8",
   "metadata": {
    "tags": []
   },
   "outputs": [
    {
     "data": {
      "text/plain": [
       "0.4227438106629866"
      ]
     },
     "execution_count": 15,
     "metadata": {},
     "output_type": "execute_result"
    }
   ],
   "source": [
    "adj_r(0.6529094115504623,len(X_test),4)"
   ]
  },
  {
   "cell_type": "markdown",
   "id": "7d8647f3-4cd1-4696-903a-ff2d4811478d",
   "metadata": {},
   "source": [
    "### K-Fold Cross Validation"
   ]
  },
  {
   "cell_type": "code",
   "execution_count": 16,
   "id": "c9d9bf3b-cab4-45d7-a5bb-75f69e82be15",
   "metadata": {
    "tags": []
   },
   "outputs": [],
   "source": [
    "from sklearn.model_selection import KFold"
   ]
  },
  {
   "cell_type": "code",
   "execution_count": 20,
   "id": "c352a521-c9eb-4ca4-a023-a953da39eba7",
   "metadata": {},
   "outputs": [],
   "source": [
    "kf = KFold(n_splits=3)"
   ]
  },
  {
   "cell_type": "code",
   "execution_count": 27,
   "id": "418b1306-32d3-4155-95ce-92552662800d",
   "metadata": {
    "tags": []
   },
   "outputs": [],
   "source": [
    "sample_data = np.arange(51)"
   ]
  },
  {
   "cell_type": "code",
   "execution_count": 29,
   "id": "d04bfbee-7f30-4e94-bece-9165573b7ce4",
   "metadata": {
    "tags": []
   },
   "outputs": [
    {
     "name": "stdout",
     "output_type": "stream",
     "text": [
      "Fold : 1, num_train_idx: 34, num_test_idx: 17\n",
      "Train_Idx: [17 18 19 20 21 22 23 24 25 26 27 28 29 30 31 32 33 34 35 36 37 38 39 40\n",
      " 41 42 43 44 45 46 47 48 49 50]\n",
      "Test_Idx: [ 0  1  2  3  4  5  6  7  8  9 10 11 12 13 14 15 16]\n",
      "Fold : 2, num_train_idx: 34, num_test_idx: 17\n",
      "Train_Idx: [ 0  1  2  3  4  5  6  7  8  9 10 11 12 13 14 15 16 34 35 36 37 38 39 40\n",
      " 41 42 43 44 45 46 47 48 49 50]\n",
      "Test_Idx: [17 18 19 20 21 22 23 24 25 26 27 28 29 30 31 32 33]\n",
      "Fold : 3, num_train_idx: 34, num_test_idx: 17\n",
      "Train_Idx: [ 0  1  2  3  4  5  6  7  8  9 10 11 12 13 14 15 16 17 18 19 20 21 22 23\n",
      " 24 25 26 27 28 29 30 31 32 33]\n",
      "Test_Idx: [34 35 36 37 38 39 40 41 42 43 44 45 46 47 48 49 50]\n"
     ]
    }
   ],
   "source": [
    "for idx, (train_idx,test_idx) in enumerate(kf.split(sample_data)):\n",
    "    print(f\"Fold : {idx+1}, num_train_idx: {train_idx.shape[0]}, num_test_idx: {test_idx.shape[0]}\")\n",
    "    print(f\"Train_Idx: {train_idx}\")\n",
    "    print(f\"Test_Idx: {test_idx}\")"
   ]
  },
  {
   "cell_type": "code",
   "execution_count": 24,
   "id": "c723ec52-b697-4bff-a298-867123454ac1",
   "metadata": {
    "tags": []
   },
   "outputs": [
    {
     "name": "stdout",
     "output_type": "stream",
     "text": [
      "Fold : 1\n",
      "Adjusted R Squared : 0.5476086757512183\n",
      "Fold : 2\n",
      "Adjusted R Squared : 0.4699653288061859\n",
      "Fold : 3\n",
      "Adjusted R Squared : 0.47423543353915665\n"
     ]
    }
   ],
   "source": [
    "for idx, (train_idx,test_idx) in enumerate(kf.split(X,y)):\n",
    "    print(f\"Fold : {idx+1}\")\n",
    "    x_train,y_train = X[train_idx],y[train_idx]\n",
    "    x_test,y_test = X[test_idx],y[test_idx]\n",
    "    m = LinearRegression().fit(x_train,y_train)\n",
    "    preds = m.predict(x_test)\n",
    "    r = r2_score(y_test,preds)\n",
    "    ad_r = adj_r(r=r,n=len(x_test),p=4)\n",
    "    print(f\"Adjusted R Squared : {ad_r}\")"
   ]
  },
  {
   "cell_type": "code",
   "execution_count": 30,
   "id": "416ba2cd-1ac6-4b17-8bb5-030239d95598",
   "metadata": {
    "tags": []
   },
   "outputs": [],
   "source": [
    "df_new = df.sample(frac=1)"
   ]
  },
  {
   "cell_type": "code",
   "execution_count": 31,
   "id": "aebfe889-5dcf-4d92-9d30-13e36c5317d6",
   "metadata": {
    "tags": []
   },
   "outputs": [],
   "source": [
    "X = df[['screen_size','rear_camera_mp','front_camera_mp','ram']].values\n",
    "y = df['normalized_used_price'].values"
   ]
  },
  {
   "cell_type": "code",
   "execution_count": 32,
   "id": "0a5a25a1-2900-4e63-9bd9-6ab924e124b4",
   "metadata": {
    "tags": []
   },
   "outputs": [
    {
     "name": "stdout",
     "output_type": "stream",
     "text": [
      "Fold : 1\n",
      "Adjusted R Squared : 0.5476086757512183\n",
      "Fold : 2\n",
      "Adjusted R Squared : 0.4699653288061859\n",
      "Fold : 3\n",
      "Adjusted R Squared : 0.47423543353915665\n"
     ]
    }
   ],
   "source": [
    "for idx, (train_idx,test_idx) in enumerate(kf.split(X,y)):\n",
    "    print(f\"Fold : {idx+1}\")\n",
    "    x_train,y_train = X[train_idx],y[train_idx]\n",
    "    x_test,y_test = X[test_idx],y[test_idx]\n",
    "    m = LinearRegression().fit(x_train,y_train)\n",
    "    preds = m.predict(x_test)\n",
    "    r = r2_score(y_test,preds)\n",
    "    ad_r = adj_r(r=r,n=len(x_test),p=4)\n",
    "    print(f\"Adjusted R Squared : {ad_r}\")"
   ]
  },
  {
   "cell_type": "code",
   "execution_count": null,
   "id": "292e69db-f7a8-4836-912e-b296b1d4fc88",
   "metadata": {},
   "outputs": [],
   "source": []
  }
 ],
 "metadata": {
  "kernelspec": {
   "display_name": "Python 3 (ipykernel)",
   "language": "python",
   "name": "python3"
  },
  "language_info": {
   "codemirror_mode": {
    "name": "ipython",
    "version": 3
   },
   "file_extension": ".py",
   "mimetype": "text/x-python",
   "name": "python",
   "nbconvert_exporter": "python",
   "pygments_lexer": "ipython3",
   "version": "3.9.16"
  }
 },
 "nbformat": 4,
 "nbformat_minor": 5
}
