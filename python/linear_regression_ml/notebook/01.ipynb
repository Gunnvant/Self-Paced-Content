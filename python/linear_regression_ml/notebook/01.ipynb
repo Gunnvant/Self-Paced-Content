{
 "cells": [
  {
   "cell_type": "markdown",
   "id": "472008d4-258a-413f-8235-fd83081af160",
   "metadata": {},
   "source": [
    "### Linear Regression: Matrix Representation\n",
    "\n",
    "$y = X\\beta$"
   ]
  },
  {
   "cell_type": "code",
   "execution_count": 1,
   "id": "56c93a23-4ab3-44a6-bb2e-320cdffd6d9a",
   "metadata": {
    "tags": []
   },
   "outputs": [],
   "source": [
    "import numpy as np"
   ]
  },
  {
   "cell_type": "code",
   "execution_count": 2,
   "id": "f072bfba-a893-4710-aafc-31e807f945b0",
   "metadata": {
    "tags": []
   },
   "outputs": [],
   "source": [
    "data = np.array([[0.9,0.8],[0.7,0.6],[1.1,0.4],[0.2,1.5]])"
   ]
  },
  {
   "cell_type": "code",
   "execution_count": 3,
   "id": "dd9d6eee-cc5a-449b-80f3-478f07fd8fb4",
   "metadata": {
    "tags": []
   },
   "outputs": [
    {
     "data": {
      "text/plain": [
       "array([[0.9, 0.8],\n",
       "       [0.7, 0.6],\n",
       "       [1.1, 0.4],\n",
       "       [0.2, 1.5]])"
      ]
     },
     "execution_count": 3,
     "metadata": {},
     "output_type": "execute_result"
    }
   ],
   "source": [
    "data ### Advertising activity on TV and Radio"
   ]
  },
  {
   "cell_type": "markdown",
   "id": "d21f74da-51ef-45c7-9292-4ce72d9a0718",
   "metadata": {},
   "source": [
    "If we are estimating the following model\n",
    "\n",
    "$y = \\beta_0 +\\beta_1TV+\\beta_2Radio$\n",
    "\n",
    "We will need beta matrix and the data matrix"
   ]
  },
  {
   "cell_type": "code",
   "execution_count": 4,
   "id": "79d723c8-9a12-4b35-b9fe-7a71c1c47c07",
   "metadata": {
    "tags": []
   },
   "outputs": [
    {
     "data": {
      "text/plain": [
       "(4, 2)"
      ]
     },
     "execution_count": 4,
     "metadata": {},
     "output_type": "execute_result"
    }
   ],
   "source": [
    "data.shape"
   ]
  },
  {
   "cell_type": "code",
   "execution_count": 6,
   "id": "b17d919f-6c62-47de-a713-c2d6dbea0f8e",
   "metadata": {
    "tags": []
   },
   "outputs": [],
   "source": [
    "beta = np.array([[1.5],[0.2],[0.7]])"
   ]
  },
  {
   "cell_type": "code",
   "execution_count": 7,
   "id": "7aff270f-1b35-4e8c-8ad0-931d368a5a34",
   "metadata": {
    "tags": []
   },
   "outputs": [
    {
     "data": {
      "text/plain": [
       "(3, 1)"
      ]
     },
     "execution_count": 7,
     "metadata": {},
     "output_type": "execute_result"
    }
   ],
   "source": [
    "beta.shape"
   ]
  },
  {
   "cell_type": "code",
   "execution_count": 8,
   "id": "b9c2407e-44ed-41fc-80e4-0ddcb7a31fed",
   "metadata": {
    "tags": []
   },
   "outputs": [],
   "source": [
    "ones = np.array([[1],[1],[1],[1]])"
   ]
  },
  {
   "cell_type": "code",
   "execution_count": 9,
   "id": "9f746b3f-8daa-4f43-ad20-6a8ceada5699",
   "metadata": {
    "tags": []
   },
   "outputs": [],
   "source": [
    "X = np.concatenate((ones,data),axis=1)"
   ]
  },
  {
   "cell_type": "code",
   "execution_count": 10,
   "id": "0e876d91-6319-42b8-80c2-899f60aec107",
   "metadata": {
    "tags": []
   },
   "outputs": [
    {
     "data": {
      "text/plain": [
       "array([[2.24],\n",
       "       [2.06],\n",
       "       [2.  ],\n",
       "       [2.59]])"
      ]
     },
     "execution_count": 10,
     "metadata": {},
     "output_type": "execute_result"
    }
   ],
   "source": [
    "np.matmul(X,beta)"
   ]
  },
  {
   "cell_type": "code",
   "execution_count": null,
   "id": "3f35e755-99e2-4481-acfe-62ce667772af",
   "metadata": {},
   "outputs": [],
   "source": []
  }
 ],
 "metadata": {
  "kernelspec": {
   "display_name": "Python 3 (ipykernel)",
   "language": "python",
   "name": "python3"
  },
  "language_info": {
   "codemirror_mode": {
    "name": "ipython",
    "version": 3
   },
   "file_extension": ".py",
   "mimetype": "text/x-python",
   "name": "python",
   "nbconvert_exporter": "python",
   "pygments_lexer": "ipython3",
   "version": "3.9.16"
  }
 },
 "nbformat": 4,
 "nbformat_minor": 5
}
