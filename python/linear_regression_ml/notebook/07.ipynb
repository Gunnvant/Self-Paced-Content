{
 "cells": [
  {
   "cell_type": "code",
   "execution_count": 1,
   "id": "9acd83ea-fdfd-4518-bd61-7c607a97bf18",
   "metadata": {
    "tags": []
   },
   "outputs": [],
   "source": [
    "import pandas as pd\n",
    "df = pd.read_csv(\"../data/mobile_new.csv\")"
   ]
  },
  {
   "cell_type": "markdown",
   "id": "b81da5f4-085d-49df-868f-7368ca7b0a4b",
   "metadata": {},
   "source": [
    "### Ridge Regression\n",
    "\n",
    "In ridge regression we assign the L2 panalty. It has the following form\n",
    "\n",
    "$RSS+\\lambda\\sum\\beta_{i}^2$\n",
    "\n",
    "$\\lambda$ controls the severity of the penaty, if $\\lambda$ is a big number then coefficent estimates will be shrunk aggressively"
   ]
  },
  {
   "cell_type": "code",
   "execution_count": 2,
   "id": "3c6d3698-5c69-4e7d-820e-66c8cfec64d9",
   "metadata": {
    "tags": []
   },
   "outputs": [
    {
     "data": {
      "text/html": [
       "<div>\n",
       "<style scoped>\n",
       "    .dataframe tbody tr th:only-of-type {\n",
       "        vertical-align: middle;\n",
       "    }\n",
       "\n",
       "    .dataframe tbody tr th {\n",
       "        vertical-align: top;\n",
       "    }\n",
       "\n",
       "    .dataframe thead th {\n",
       "        text-align: right;\n",
       "    }\n",
       "</style>\n",
       "<table border=\"1\" class=\"dataframe\">\n",
       "  <thead>\n",
       "    <tr style=\"text-align: right;\">\n",
       "      <th></th>\n",
       "      <th>screen_size</th>\n",
       "      <th>rear_camera_mp</th>\n",
       "      <th>front_camera_mp</th>\n",
       "      <th>ram</th>\n",
       "      <th>battery</th>\n",
       "      <th>weight</th>\n",
       "      <th>normalized_used_price</th>\n",
       "    </tr>\n",
       "  </thead>\n",
       "  <tbody>\n",
       "    <tr>\n",
       "      <th>0</th>\n",
       "      <td>14.5</td>\n",
       "      <td>13.0</td>\n",
       "      <td>5.0</td>\n",
       "      <td>3.0</td>\n",
       "      <td>3020.0</td>\n",
       "      <td>146.0</td>\n",
       "      <td>4.307572</td>\n",
       "    </tr>\n",
       "    <tr>\n",
       "      <th>1</th>\n",
       "      <td>17.3</td>\n",
       "      <td>13.0</td>\n",
       "      <td>16.0</td>\n",
       "      <td>8.0</td>\n",
       "      <td>4300.0</td>\n",
       "      <td>213.0</td>\n",
       "      <td>5.162097</td>\n",
       "    </tr>\n",
       "  </tbody>\n",
       "</table>\n",
       "</div>"
      ],
      "text/plain": [
       "   screen_size  rear_camera_mp  front_camera_mp  ram  battery  weight  \\\n",
       "0         14.5            13.0              5.0  3.0   3020.0   146.0   \n",
       "1         17.3            13.0             16.0  8.0   4300.0   213.0   \n",
       "\n",
       "   normalized_used_price  \n",
       "0               4.307572  \n",
       "1               5.162097  "
      ]
     },
     "execution_count": 2,
     "metadata": {},
     "output_type": "execute_result"
    }
   ],
   "source": [
    "df.head(2)"
   ]
  },
  {
   "cell_type": "code",
   "execution_count": 3,
   "id": "8d8e5d02-4166-4d31-a4dd-f9069776cb95",
   "metadata": {
    "tags": []
   },
   "outputs": [],
   "source": [
    "X = df[['screen_size','rear_camera_mp','front_camera_mp','ram']].values\n",
    "y = df['normalized_used_price'].values"
   ]
  },
  {
   "cell_type": "code",
   "execution_count": 4,
   "id": "3caf4a97-e168-455d-9357-12dd6346d6a8",
   "metadata": {
    "tags": []
   },
   "outputs": [],
   "source": [
    "from sklearn.linear_model import Ridge"
   ]
  },
  {
   "cell_type": "code",
   "execution_count": 5,
   "id": "fdd63d5d-d218-4f83-b69a-73c2da43a8a1",
   "metadata": {
    "tags": []
   },
   "outputs": [],
   "source": [
    "m = Ridge(alpha=2) ### alpha<->lambda\n",
    "m = m.fit(X,y)"
   ]
  },
  {
   "cell_type": "code",
   "execution_count": 6,
   "id": "18f0bb74-8536-43e5-beac-3b62ae874ebe",
   "metadata": {
    "tags": []
   },
   "outputs": [
    {
     "data": {
      "text/plain": [
       "2.5411183543988445"
      ]
     },
     "execution_count": 6,
     "metadata": {},
     "output_type": "execute_result"
    }
   ],
   "source": [
    "m.intercept_"
   ]
  },
  {
   "cell_type": "code",
   "execution_count": 7,
   "id": "355f65de-9db9-43a0-beb6-efb31e85b4f5",
   "metadata": {
    "tags": []
   },
   "outputs": [
    {
     "data": {
      "text/plain": [
       "array([0.06748184, 0.04462648, 0.02173224, 0.08243674])"
      ]
     },
     "execution_count": 7,
     "metadata": {},
     "output_type": "execute_result"
    }
   ],
   "source": [
    "m.coef_"
   ]
  },
  {
   "cell_type": "code",
   "execution_count": 14,
   "id": "816fa4da-2fd4-46b5-a2f6-4ed57a25f859",
   "metadata": {
    "tags": []
   },
   "outputs": [],
   "source": [
    "### Increase the alpha to a large value\n",
    "m = Ridge(alpha=10000000) ### alpha<->lambda\n",
    "m = m.fit(X,y)"
   ]
  },
  {
   "cell_type": "code",
   "execution_count": 15,
   "id": "a3494bbc-3e18-4d98-8013-1724d95121c0",
   "metadata": {
    "tags": []
   },
   "outputs": [
    {
     "data": {
      "text/plain": [
       "4.324640365540873"
      ]
     },
     "execution_count": 15,
     "metadata": {},
     "output_type": "execute_result"
    }
   ],
   "source": [
    "m.intercept_"
   ]
  },
  {
   "cell_type": "code",
   "execution_count": 16,
   "id": "30401556-e043-4aa9-9e94-eee9d034ea2d",
   "metadata": {
    "tags": []
   },
   "outputs": [
    {
     "data": {
      "text/plain": [
       "array([0.00044214, 0.00052555, 0.00072357, 0.00011395])"
      ]
     },
     "execution_count": 16,
     "metadata": {},
     "output_type": "execute_result"
    }
   ],
   "source": [
    "m.coef_ ## coefficient values have descreased"
   ]
  },
  {
   "cell_type": "markdown",
   "id": "6bb0e771-2413-4aa4-8b87-1923e7ea91ea",
   "metadata": {},
   "source": [
    "### How to choose $\\lambda$ or $\\alpha$?\n",
    "\n",
    "Use kfold cross validation. For each value of lambda or alpha, find out what is the average value of a performance metric: $adj r^2$ or MSE"
   ]
  },
  {
   "cell_type": "code",
   "execution_count": 17,
   "id": "7066a612-2f4b-4fe5-b256-a3a0796cdfe4",
   "metadata": {
    "tags": []
   },
   "outputs": [],
   "source": [
    "from sklearn.model_selection import GridSearchCV"
   ]
  },
  {
   "cell_type": "code",
   "execution_count": 33,
   "id": "6b4a4ad1-caa5-44c3-b271-8292e1c40367",
   "metadata": {
    "tags": []
   },
   "outputs": [],
   "source": [
    "import numpy as np\n",
    "lambda_grid = np.arange(1,100,2)"
   ]
  },
  {
   "cell_type": "code",
   "execution_count": 34,
   "id": "d032aaea-ad74-459a-9e29-853935b0a5f4",
   "metadata": {
    "tags": []
   },
   "outputs": [],
   "source": [
    "m = GridSearchCV(Ridge(),param_grid = {'alpha':lambda_grid},cv=3)"
   ]
  },
  {
   "cell_type": "code",
   "execution_count": null,
   "id": "ad41a348-5bed-455b-9c80-95944a5a4e27",
   "metadata": {},
   "outputs": [],
   "source": [
    "m=m.fit(X,y)"
   ]
  },
  {
   "cell_type": "code",
   "execution_count": 37,
   "id": "bc0f1aab-f1a4-4b7f-8879-202fb6816b59",
   "metadata": {
    "tags": []
   },
   "outputs": [
    {
     "data": {
      "text/plain": [
       "{'alpha': 1}"
      ]
     },
     "execution_count": 37,
     "metadata": {},
     "output_type": "execute_result"
    }
   ],
   "source": [
    "m.best_params_"
   ]
  },
  {
   "cell_type": "markdown",
   "id": "4c0a0f92-440b-4ad4-9aba-24162d5b7394",
   "metadata": {
    "tags": []
   },
   "source": [
    "### We can change the pefromance metric by defining our own scoring function"
   ]
  },
  {
   "cell_type": "code",
   "execution_count": 42,
   "id": "a8b6e61b-4b5d-4e5a-9485-edc91cb8623d",
   "metadata": {
    "tags": []
   },
   "outputs": [],
   "source": [
    "m =  GridSearchCV(Ridge(),param_grid={'alpha':lambda_grid},cv=3,scoring='neg_mean_squared_error') ### ref: https://scikit-learn.org/stable/modules/model_evaluation.html#scoring\n",
    "m = m.fit(X,y)                "
   ]
  },
  {
   "cell_type": "code",
   "execution_count": 43,
   "id": "9c0ad10b-903a-47ce-8b91-ca0921f96d0d",
   "metadata": {
    "tags": []
   },
   "outputs": [
    {
     "data": {
      "text/plain": [
       "{'alpha': 1}"
      ]
     },
     "execution_count": 43,
     "metadata": {},
     "output_type": "execute_result"
    }
   ],
   "source": [
    "m.best_params_"
   ]
  },
  {
   "cell_type": "markdown",
   "id": "ed0bcce3-54a3-431e-8efc-98f27c50ae7c",
   "metadata": {},
   "source": [
    "## Lasso Regression\n",
    "\n",
    "In lasso regression we use the L1 norm and minimize the following cost function:\n",
    "\n",
    "$RSS+\\lambda\\sum|\\beta_i|$"
   ]
  },
  {
   "cell_type": "code",
   "execution_count": 44,
   "id": "e72a7f60-4105-47d8-8f75-5e1ae8cf76c3",
   "metadata": {
    "tags": []
   },
   "outputs": [],
   "source": [
    "from sklearn.linear_model import Lasso"
   ]
  },
  {
   "cell_type": "code",
   "execution_count": 49,
   "id": "768c58a7-d1e9-46d6-bebf-42006a9bbd8d",
   "metadata": {
    "tags": []
   },
   "outputs": [],
   "source": [
    "m = Lasso(alpha = 1) ## alpha<-> lambda"
   ]
  },
  {
   "cell_type": "code",
   "execution_count": 50,
   "id": "c9ac5306-4d52-47af-904f-4a8b7dfbcb2b",
   "metadata": {
    "tags": []
   },
   "outputs": [],
   "source": [
    "m = m.fit(X,y)"
   ]
  },
  {
   "cell_type": "code",
   "execution_count": 51,
   "id": "0cd2a30e-172c-4381-9a7d-3b040cf56394",
   "metadata": {
    "tags": []
   },
   "outputs": [
    {
     "data": {
      "text/plain": [
       "3.9099283227258845"
      ]
     },
     "execution_count": 51,
     "metadata": {},
     "output_type": "execute_result"
    }
   ],
   "source": [
    "m.intercept_"
   ]
  },
  {
   "cell_type": "code",
   "execution_count": 52,
   "id": "a6c79062-34b8-4501-ac26-96e8573150a1",
   "metadata": {
    "tags": []
   },
   "outputs": [
    {
     "data": {
      "text/plain": [
       "array([0.01261408, 0.01236221, 0.02330867, 0.        ])"
      ]
     },
     "execution_count": 52,
     "metadata": {},
     "output_type": "execute_result"
    }
   ],
   "source": [
    "m.coef_ ## l1 penalty is severe, you can see some of the coeff have been made zero"
   ]
  },
  {
   "cell_type": "markdown",
   "id": "b22162c0-1a98-4638-86d7-75242b8adfad",
   "metadata": {},
   "source": [
    "### How to choose $\\lambda$ or $\\alpha$?\n",
    "\n",
    "Use kfold cross validation. For each value of lambda or alpha, find out what is the average value of a performance metric: $adj r^2$ or MSE"
   ]
  },
  {
   "cell_type": "code",
   "execution_count": 55,
   "id": "1eaf9e88-3ae6-4d2b-a0bf-fa4c6e79a885",
   "metadata": {
    "tags": []
   },
   "outputs": [],
   "source": [
    "alpha_grid = np.arange(0.1,4,0.1)"
   ]
  },
  {
   "cell_type": "code",
   "execution_count": 56,
   "id": "22dd7530-dafe-4c36-910f-f3846528f1a5",
   "metadata": {
    "tags": []
   },
   "outputs": [],
   "source": [
    "m =  GridSearchCV(Lasso(),param_grid={'alpha':alpha_grid},cv=3,scoring='neg_mean_squared_error') ### ref: https://scikit-learn.org/stable/modules/model_evaluation.html#scoring\n",
    "m = m.fit(X,y) "
   ]
  },
  {
   "cell_type": "code",
   "execution_count": 57,
   "id": "ef81a9ae-d34f-4258-8164-49d514e96a3a",
   "metadata": {
    "tags": []
   },
   "outputs": [
    {
     "data": {
      "text/plain": [
       "{'alpha': 0.1}"
      ]
     },
     "execution_count": 57,
     "metadata": {},
     "output_type": "execute_result"
    }
   ],
   "source": [
    "m.best_params_"
   ]
  },
  {
   "cell_type": "code",
   "execution_count": null,
   "id": "a8a9e145-9dda-44c4-8500-06f575269c33",
   "metadata": {},
   "outputs": [],
   "source": []
  }
 ],
 "metadata": {
  "kernelspec": {
   "display_name": "Python 3 (ipykernel)",
   "language": "python",
   "name": "python3"
  },
  "language_info": {
   "codemirror_mode": {
    "name": "ipython",
    "version": 3
   },
   "file_extension": ".py",
   "mimetype": "text/x-python",
   "name": "python",
   "nbconvert_exporter": "python",
   "pygments_lexer": "ipython3",
   "version": "3.9.16"
  }
 },
 "nbformat": 4,
 "nbformat_minor": 5
}
