{
 "cells": [
  {
   "cell_type": "code",
   "execution_count": 1,
   "id": "312b3716-b28a-47e2-89a6-3440171ae04c",
   "metadata": {
    "tags": []
   },
   "outputs": [],
   "source": [
    "import pandas as pd"
   ]
  },
  {
   "cell_type": "code",
   "execution_count": 2,
   "id": "8b6f05e9-5027-4606-a549-74e914013296",
   "metadata": {
    "tags": []
   },
   "outputs": [],
   "source": [
    "df = pd.read_csv(\"../data/mobile_new.csv\")"
   ]
  },
  {
   "cell_type": "code",
   "execution_count": 3,
   "id": "1aadaa80-da9f-472f-821d-1081c5393dcd",
   "metadata": {
    "tags": []
   },
   "outputs": [
    {
     "data": {
      "text/html": [
       "<div>\n",
       "<style scoped>\n",
       "    .dataframe tbody tr th:only-of-type {\n",
       "        vertical-align: middle;\n",
       "    }\n",
       "\n",
       "    .dataframe tbody tr th {\n",
       "        vertical-align: top;\n",
       "    }\n",
       "\n",
       "    .dataframe thead th {\n",
       "        text-align: right;\n",
       "    }\n",
       "</style>\n",
       "<table border=\"1\" class=\"dataframe\">\n",
       "  <thead>\n",
       "    <tr style=\"text-align: right;\">\n",
       "      <th></th>\n",
       "      <th>screen_size</th>\n",
       "      <th>rear_camera_mp</th>\n",
       "      <th>front_camera_mp</th>\n",
       "      <th>ram</th>\n",
       "      <th>battery</th>\n",
       "      <th>weight</th>\n",
       "      <th>normalized_used_price</th>\n",
       "    </tr>\n",
       "  </thead>\n",
       "  <tbody>\n",
       "    <tr>\n",
       "      <th>0</th>\n",
       "      <td>14.5</td>\n",
       "      <td>13.0</td>\n",
       "      <td>5.0</td>\n",
       "      <td>3.0</td>\n",
       "      <td>3020.0</td>\n",
       "      <td>146.0</td>\n",
       "      <td>4.307572</td>\n",
       "    </tr>\n",
       "    <tr>\n",
       "      <th>1</th>\n",
       "      <td>17.3</td>\n",
       "      <td>13.0</td>\n",
       "      <td>16.0</td>\n",
       "      <td>8.0</td>\n",
       "      <td>4300.0</td>\n",
       "      <td>213.0</td>\n",
       "      <td>5.162097</td>\n",
       "    </tr>\n",
       "  </tbody>\n",
       "</table>\n",
       "</div>"
      ],
      "text/plain": [
       "   screen_size  rear_camera_mp  front_camera_mp  ram  battery  weight  \\\n",
       "0         14.5            13.0              5.0  3.0   3020.0   146.0   \n",
       "1         17.3            13.0             16.0  8.0   4300.0   213.0   \n",
       "\n",
       "   normalized_used_price  \n",
       "0               4.307572  \n",
       "1               5.162097  "
      ]
     },
     "execution_count": 3,
     "metadata": {},
     "output_type": "execute_result"
    }
   ],
   "source": [
    "df.head(2)"
   ]
  },
  {
   "cell_type": "code",
   "execution_count": 4,
   "id": "202ca161-0d92-4a1e-bce2-b4830efeab24",
   "metadata": {
    "tags": []
   },
   "outputs": [],
   "source": [
    "cols_x = ['screen_size','rear_camera_mp','front_camera_mp','ram','battery','weight']\n",
    "predictor = df[cols_x].values\n",
    "target = df['normalized_used_price'].values"
   ]
  },
  {
   "cell_type": "markdown",
   "id": "6cc6463e-cb2b-47f8-ba35-0d5042f3ee80",
   "metadata": {},
   "source": [
    "**We are estimating the following model:**\n",
    "\n",
    "$price = \\beta_0 +\\beta_1ScreenSize+\\beta_2RearCameraMp+\\beta_3FrontCameraMp+\\beta_4Ram+\\beta_5Battery+\\beta_6Weight$\n",
    "\n"
   ]
  },
  {
   "cell_type": "code",
   "execution_count": 5,
   "id": "23db10a5-2d6a-4bb3-a8e3-e04fb9038b73",
   "metadata": {
    "tags": []
   },
   "outputs": [],
   "source": [
    "y = target.reshape((target.shape[0],1))"
   ]
  },
  {
   "cell_type": "code",
   "execution_count": 6,
   "id": "542e6ac1-f200-4ab9-8bf6-7313d3f52b3f",
   "metadata": {
    "tags": []
   },
   "outputs": [
    {
     "data": {
      "text/plain": [
       "(3257, 1)"
      ]
     },
     "execution_count": 6,
     "metadata": {},
     "output_type": "execute_result"
    }
   ],
   "source": [
    "y.shape"
   ]
  },
  {
   "cell_type": "code",
   "execution_count": 7,
   "id": "c0db281b-00f2-4d78-be88-e4e049bac632",
   "metadata": {
    "tags": []
   },
   "outputs": [],
   "source": [
    "import numpy as np\n",
    "ones = np.ones(shape=(len(predictor),1))"
   ]
  },
  {
   "cell_type": "code",
   "execution_count": 8,
   "id": "92cc81ee-8651-48d1-bf7a-540d5beaf295",
   "metadata": {
    "tags": []
   },
   "outputs": [],
   "source": [
    "X = np.concatenate((ones,predictor),axis=1)"
   ]
  },
  {
   "cell_type": "markdown",
   "id": "3d32ae76-7b5d-460f-bb70-d0ff859fefaf",
   "metadata": {},
   "source": [
    "The solution to ols estimation is:\n",
    "\n",
    "$(X^TX)^{-1}X^Ty$"
   ]
  },
  {
   "cell_type": "code",
   "execution_count": 9,
   "id": "ece834cb-57f8-44f9-bd70-b37ed3909265",
   "metadata": {
    "tags": []
   },
   "outputs": [],
   "source": [
    "xtx = np.matmul(X.T,X)\n",
    "xtx_inv = np.linalg.inv(xtx)\n",
    "xty = np.matmul(X.T,y)\n",
    "beta = np.matmul(xtx_inv,xty)"
   ]
  },
  {
   "cell_type": "code",
   "execution_count": 10,
   "id": "8da9bba5-cac5-4f8f-a63b-591f96f1cd4a",
   "metadata": {
    "tags": []
   },
   "outputs": [
    {
     "data": {
      "text/plain": [
       "array([[2.60431100e+00],\n",
       "       [4.34366961e-02],\n",
       "       [4.65033268e-02],\n",
       "       [2.32221449e-02],\n",
       "       [8.61220509e-02],\n",
       "       [1.98394591e-05],\n",
       "       [8.86128950e-04]])"
      ]
     },
     "execution_count": 10,
     "metadata": {},
     "output_type": "execute_result"
    }
   ],
   "source": [
    "beta"
   ]
  },
  {
   "cell_type": "markdown",
   "id": "1e811dd5-52cd-40ee-868a-cf386ddf4cb5",
   "metadata": {},
   "source": [
    "## Comparing the results with a standard implimentation\n",
    "Comparing this with the implementation in sklearn (standard python ml library)"
   ]
  },
  {
   "cell_type": "code",
   "execution_count": 11,
   "id": "693de753-d8e4-4de8-86a9-c92ca41a3ebd",
   "metadata": {
    "tags": []
   },
   "outputs": [],
   "source": [
    "import sklearn.linear_model as lm"
   ]
  },
  {
   "cell_type": "code",
   "execution_count": 12,
   "id": "10cbeb02-7728-4a07-91a2-b9f412034dbc",
   "metadata": {
    "tags": []
   },
   "outputs": [],
   "source": [
    "mod = lm.LinearRegression()"
   ]
  },
  {
   "cell_type": "code",
   "execution_count": 13,
   "id": "9917e188-0ac7-4153-b971-1d45fdc62448",
   "metadata": {
    "tags": []
   },
   "outputs": [],
   "source": [
    "mod = mod.fit(predictor,target)"
   ]
  },
  {
   "cell_type": "code",
   "execution_count": 14,
   "id": "998ab2d7-6b9b-4539-9bd5-c19f7be6e731",
   "metadata": {
    "tags": []
   },
   "outputs": [
    {
     "data": {
      "text/plain": [
       "array([4.34366961e-02, 4.65033268e-02, 2.32221449e-02, 8.61220509e-02,\n",
       "       1.98394591e-05, 8.86128950e-04])"
      ]
     },
     "execution_count": 14,
     "metadata": {},
     "output_type": "execute_result"
    }
   ],
   "source": [
    "mod.coef_"
   ]
  },
  {
   "cell_type": "code",
   "execution_count": 15,
   "id": "e8f2435a-7cbd-44b7-bd71-7416bac9e214",
   "metadata": {
    "tags": []
   },
   "outputs": [
    {
     "data": {
      "text/plain": [
       "2.6043110043587614"
      ]
     },
     "execution_count": 15,
     "metadata": {},
     "output_type": "execute_result"
    }
   ],
   "source": [
    "mod.intercept_"
   ]
  },
  {
   "cell_type": "code",
   "execution_count": null,
   "id": "db844f62-dc47-4d35-886c-914a1656aeef",
   "metadata": {},
   "outputs": [],
   "source": []
  }
 ],
 "metadata": {
  "kernelspec": {
   "display_name": "Python 3 (ipykernel)",
   "language": "python",
   "name": "python3"
  },
  "language_info": {
   "codemirror_mode": {
    "name": "ipython",
    "version": 3
   },
   "file_extension": ".py",
   "mimetype": "text/x-python",
   "name": "python",
   "nbconvert_exporter": "python",
   "pygments_lexer": "ipython3",
   "version": "3.10.10"
  }
 },
 "nbformat": 4,
 "nbformat_minor": 5
}
