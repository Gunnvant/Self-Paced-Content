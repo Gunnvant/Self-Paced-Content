{
 "cells": [
  {
   "cell_type": "markdown",
   "id": "8cdb324a-e11e-4c93-b62b-bd8bbec43e2a",
   "metadata": {
    "tags": []
   },
   "source": [
    "### Linear Regression: Gradient Descent\n",
    "\n",
    "We will estimate a model of the following form:\n",
    "\n",
    "$y=\\beta_0+\\beta_1x$\n",
    "\n",
    "To estimate this model we can use following update equations:\n",
    "\n",
    "$\\beta_{0New} = \\beta_{0Old}-\\eta\\frac{\\partial{MSE}}{\\partial{\\beta_0}}$\n",
    "\n",
    "$\\beta_{1New} = \\beta_{1Old}-\\eta\\frac{\\partial{MSE}}{\\partial{\\beta_1}}$\n",
    "\n",
    "The derivative will be computed as follows:\n",
    "\n",
    "$\\frac{\\partial{MSE}}{\\partial{\\beta_0}} = -\\frac{2}{N}\\sum{e_i}$\n",
    "\n",
    "$\\frac{\\partial{MSE}}{\\partial{\\beta_1}} = -\\frac{2}{N}\\sum{e_ix_i}$\n",
    "\n",
    "\n",
    "Here $e_i = (y_i-\\hat{y})$"
   ]
  },
  {
   "cell_type": "code",
   "execution_count": 1,
   "id": "84a74fda-a379-4dd7-a875-8cdaf59fc3a9",
   "metadata": {
    "tags": []
   },
   "outputs": [
    {
     "data": {
      "text/html": [
       "<div>\n",
       "<style scoped>\n",
       "    .dataframe tbody tr th:only-of-type {\n",
       "        vertical-align: middle;\n",
       "    }\n",
       "\n",
       "    .dataframe tbody tr th {\n",
       "        vertical-align: top;\n",
       "    }\n",
       "\n",
       "    .dataframe thead th {\n",
       "        text-align: right;\n",
       "    }\n",
       "</style>\n",
       "<table border=\"1\" class=\"dataframe\">\n",
       "  <thead>\n",
       "    <tr style=\"text-align: right;\">\n",
       "      <th></th>\n",
       "      <th>screen_size</th>\n",
       "      <th>rear_camera_mp</th>\n",
       "      <th>front_camera_mp</th>\n",
       "      <th>ram</th>\n",
       "      <th>battery</th>\n",
       "      <th>weight</th>\n",
       "      <th>normalized_used_price</th>\n",
       "    </tr>\n",
       "  </thead>\n",
       "  <tbody>\n",
       "    <tr>\n",
       "      <th>0</th>\n",
       "      <td>14.5</td>\n",
       "      <td>13.0</td>\n",
       "      <td>5.0</td>\n",
       "      <td>3.0</td>\n",
       "      <td>3020.0</td>\n",
       "      <td>146.0</td>\n",
       "      <td>4.307572</td>\n",
       "    </tr>\n",
       "    <tr>\n",
       "      <th>1</th>\n",
       "      <td>17.3</td>\n",
       "      <td>13.0</td>\n",
       "      <td>16.0</td>\n",
       "      <td>8.0</td>\n",
       "      <td>4300.0</td>\n",
       "      <td>213.0</td>\n",
       "      <td>5.162097</td>\n",
       "    </tr>\n",
       "  </tbody>\n",
       "</table>\n",
       "</div>"
      ],
      "text/plain": [
       "   screen_size  rear_camera_mp  front_camera_mp  ram  battery  weight  \\\n",
       "0         14.5            13.0              5.0  3.0   3020.0   146.0   \n",
       "1         17.3            13.0             16.0  8.0   4300.0   213.0   \n",
       "\n",
       "   normalized_used_price  \n",
       "0               4.307572  \n",
       "1               5.162097  "
      ]
     },
     "execution_count": 1,
     "metadata": {},
     "output_type": "execute_result"
    }
   ],
   "source": [
    "import pandas as pd\n",
    "df = pd.read_csv(\"../data/mobile_new.csv\")\n",
    "df.head(2)"
   ]
  },
  {
   "cell_type": "markdown",
   "id": "23805454-d3e2-44d2-990d-c99342b946f4",
   "metadata": {},
   "source": [
    "Following model will be built:\n",
    "\n",
    "$price = \\beta_0+\\beta_1ScreenSize$"
   ]
  },
  {
   "cell_type": "code",
   "execution_count": 2,
   "id": "385f763c-af8a-4d97-a331-c7cacec2135c",
   "metadata": {
    "tags": []
   },
   "outputs": [],
   "source": [
    "import numpy as np\n",
    "def get_mse(actual,preds):\n",
    "    diff = actual-preds\n",
    "    diff_sq = diff**2\n",
    "    return diff_sq.sum()/len(preds)\n",
    "\n",
    "def get_predictions(beta0,beta1,X):\n",
    "    preds = []\n",
    "    for xi in X:\n",
    "        p_i = beta0+beta1*xi\n",
    "        preds.append(p_i)\n",
    "    return np.array(preds)\n",
    "\n",
    "def get_grad_b0(y,preds):\n",
    "    diff = y-preds\n",
    "    return -1*(2/len(y))*diff.sum()\n",
    "\n",
    "def get_grad_b1(y,preds,X):\n",
    "    diff = y-preds\n",
    "    sum_ex = 0 \n",
    "    for e_i,x_i in zip(diff,X):\n",
    "        sum_ex+=e_i*x_i\n",
    "    return -1*(2/len(y))*sum_ex\n",
    "        "
   ]
  },
  {
   "cell_type": "code",
   "execution_count": 3,
   "id": "2c6f33b3-ef9c-467f-9cd7-291f231a20b3",
   "metadata": {
    "tags": []
   },
   "outputs": [],
   "source": [
    "y = df['normalized_used_price'].values\n",
    "X = df['screen_size'].values"
   ]
  },
  {
   "cell_type": "code",
   "execution_count": 4,
   "id": "ba3515b4-85fd-45ca-84a5-eb6361dec802",
   "metadata": {
    "tags": []
   },
   "outputs": [
    {
     "name": "stdout",
     "output_type": "stream",
     "text": [
      "beta_0: 1.8114857561419435, beta_1: 0.17917102121258988, mse: 0.33354378118444955\n"
     ]
    }
   ],
   "source": [
    "beta0_old = 2\n",
    "beta1_old = 3\n",
    "eta = 0.001\n",
    "stopping_criteria = 0.0001\n",
    "while True:\n",
    "    preds_old = get_predictions(beta0_old,beta1_old,X)\n",
    "    grad_b0 = get_grad_b0(y,preds_old)\n",
    "    grad_b1 = get_grad_b1(y,preds_old,X)\n",
    "    beta0_new = beta0_old-eta*grad_b0\n",
    "    beta1_new = beta1_old-eta*grad_b1\n",
    "    preds_new = get_predictions(beta0_new,beta1_new,X)\n",
    "    error_old = get_mse(y,preds_old)\n",
    "    error_new = get_mse(y,preds_new)\n",
    "    if abs(error_old-error_new)<stopping_criteria:\n",
    "        break\n",
    "    else:\n",
    "        beta0_old = beta0_new\n",
    "        beta1_old = beta1_new\n",
    "print(f\"beta_0: {beta0_new}, beta_1: {beta1_new}, mse: {error_new}\")"
   ]
  },
  {
   "cell_type": "code",
   "execution_count": null,
   "id": "8aa7f2ee-20cd-41f2-a3e5-6563fe1b15d9",
   "metadata": {},
   "outputs": [],
   "source": []
  }
 ],
 "metadata": {
  "kernelspec": {
   "display_name": "Python 3 (ipykernel)",
   "language": "python",
   "name": "python3"
  },
  "language_info": {
   "codemirror_mode": {
    "name": "ipython",
    "version": 3
   },
   "file_extension": ".py",
   "mimetype": "text/x-python",
   "name": "python",
   "nbconvert_exporter": "python",
   "pygments_lexer": "ipython3",
   "version": "3.10.10"
  }
 },
 "nbformat": 4,
 "nbformat_minor": 5
}
