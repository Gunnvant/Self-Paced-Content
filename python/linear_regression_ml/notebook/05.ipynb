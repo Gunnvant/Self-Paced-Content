{
 "cells": [
  {
   "cell_type": "code",
   "execution_count": 1,
   "id": "e9333d00-9bfd-4277-8342-27ad044d5e0e",
   "metadata": {
    "tags": []
   },
   "outputs": [],
   "source": [
    "import pandas as pd\n",
    "df = pd.read_csv(\"../data/mobile_new.csv\")"
   ]
  },
  {
   "cell_type": "code",
   "execution_count": 2,
   "id": "f3989bcc-1bb4-477b-8cb8-d5d21f20a721",
   "metadata": {
    "tags": []
   },
   "outputs": [
    {
     "data": {
      "text/html": [
       "<div>\n",
       "<style scoped>\n",
       "    .dataframe tbody tr th:only-of-type {\n",
       "        vertical-align: middle;\n",
       "    }\n",
       "\n",
       "    .dataframe tbody tr th {\n",
       "        vertical-align: top;\n",
       "    }\n",
       "\n",
       "    .dataframe thead th {\n",
       "        text-align: right;\n",
       "    }\n",
       "</style>\n",
       "<table border=\"1\" class=\"dataframe\">\n",
       "  <thead>\n",
       "    <tr style=\"text-align: right;\">\n",
       "      <th></th>\n",
       "      <th>screen_size</th>\n",
       "      <th>rear_camera_mp</th>\n",
       "      <th>front_camera_mp</th>\n",
       "      <th>ram</th>\n",
       "      <th>battery</th>\n",
       "      <th>weight</th>\n",
       "      <th>normalized_used_price</th>\n",
       "    </tr>\n",
       "  </thead>\n",
       "  <tbody>\n",
       "    <tr>\n",
       "      <th>0</th>\n",
       "      <td>14.5</td>\n",
       "      <td>13.0</td>\n",
       "      <td>5.0</td>\n",
       "      <td>3.0</td>\n",
       "      <td>3020.0</td>\n",
       "      <td>146.0</td>\n",
       "      <td>4.307572</td>\n",
       "    </tr>\n",
       "    <tr>\n",
       "      <th>1</th>\n",
       "      <td>17.3</td>\n",
       "      <td>13.0</td>\n",
       "      <td>16.0</td>\n",
       "      <td>8.0</td>\n",
       "      <td>4300.0</td>\n",
       "      <td>213.0</td>\n",
       "      <td>5.162097</td>\n",
       "    </tr>\n",
       "  </tbody>\n",
       "</table>\n",
       "</div>"
      ],
      "text/plain": [
       "   screen_size  rear_camera_mp  front_camera_mp  ram  battery  weight  \\\n",
       "0         14.5            13.0              5.0  3.0   3020.0   146.0   \n",
       "1         17.3            13.0             16.0  8.0   4300.0   213.0   \n",
       "\n",
       "   normalized_used_price  \n",
       "0               4.307572  \n",
       "1               5.162097  "
      ]
     },
     "execution_count": 2,
     "metadata": {},
     "output_type": "execute_result"
    }
   ],
   "source": [
    "df.head(2)"
   ]
  },
  {
   "cell_type": "markdown",
   "id": "46221261-893f-4a4d-9c7d-1a620126806e",
   "metadata": {},
   "source": [
    "### R Squared\n",
    "\n",
    "We can build models with increasing number of predictors and see what is the effect of this on R Squared.\n",
    "\n",
    "- Model 1: $price = \\beta_0+\\beta_1ScreenSize$\n",
    "- Model 2: $price = \\beta_0+\\beta_1ScreenSize+\\beta_2RearCameraMP$\n",
    "- Model 3: $price = \\beta_0+\\beta_1ScreenSize+\\beta_2RearCameraMP+\\beta_4FrontCameraMP$\n",
    "- Model 4: $price = \\beta_0+\\beta_1ScreenSize+\\beta_2RearCameraMP+\\beta_4FrontCameraMP+\\beta_5Ram$\n",
    "- Model 5: $price = \\beta_0+\\beta_1ScreenSize+\\beta_2RearCameraMP+\\beta_4FrontCameraMP+\\beta_5Ram+\\beta_6Battery$\n",
    "- Model 6: $price = \\beta_0+\\beta_1ScreenSize+\\beta_2RearCameraMP+\\beta_4FrontCameraMP+\\beta_5Ram+\\beta_6Battery\\beta_7Weight$"
   ]
  },
  {
   "cell_type": "code",
   "execution_count": 3,
   "id": "32724ecd-a3e7-41c0-83ee-6012c5333234",
   "metadata": {
    "tags": []
   },
   "outputs": [],
   "source": [
    "from sklearn import linear_model\n",
    "from sklearn.metrics import r2_score\n",
    "reg = linear_model.LinearRegression()"
   ]
  },
  {
   "cell_type": "code",
   "execution_count": 4,
   "id": "a302330c-0a93-4b27-a949-0b5c3fc79c80",
   "metadata": {
    "tags": []
   },
   "outputs": [],
   "source": [
    "## Model 1\n",
    "X = df[['screen_size']].values\n",
    "y = df['normalized_used_price'].values"
   ]
  },
  {
   "cell_type": "code",
   "execution_count": 5,
   "id": "62382cd9-31cb-4158-889f-07580f2ff32e",
   "metadata": {
    "tags": []
   },
   "outputs": [],
   "source": [
    "m1 = reg.fit(X,y)"
   ]
  },
  {
   "cell_type": "code",
   "execution_count": 6,
   "id": "3d3526bb-386e-4c0f-9ddf-e3f5fe6f162d",
   "metadata": {
    "tags": []
   },
   "outputs": [
    {
     "data": {
      "text/plain": [
       "0.37271873646115306"
      ]
     },
     "execution_count": 6,
     "metadata": {},
     "output_type": "execute_result"
    }
   ],
   "source": [
    "preds = m1.predict(X)\n",
    "r2_score(y,preds)"
   ]
  },
  {
   "cell_type": "code",
   "execution_count": 7,
   "id": "06355e34-fd76-4086-987f-2357f0c0c428",
   "metadata": {
    "tags": []
   },
   "outputs": [],
   "source": [
    "config_m1 = {'r':r2_score(y,preds),'n':len(X),'p':1}"
   ]
  },
  {
   "cell_type": "code",
   "execution_count": 8,
   "id": "369013be-4da4-4153-8712-09c5546cfa34",
   "metadata": {
    "tags": []
   },
   "outputs": [
    {
     "data": {
      "text/plain": [
       "0.624105405744466"
      ]
     },
     "execution_count": 8,
     "metadata": {},
     "output_type": "execute_result"
    }
   ],
   "source": [
    "## Model 2\n",
    "X = df[['screen_size','rear_camera_mp']].values\n",
    "y = df['normalized_used_price'].values\n",
    "m2 = reg.fit(X,y)\n",
    "preds = m2.predict(X)\n",
    "r2_score(y,preds)"
   ]
  },
  {
   "cell_type": "code",
   "execution_count": 9,
   "id": "dfd4a75f-0e2b-4059-8cf6-846fc709c65b",
   "metadata": {
    "tags": []
   },
   "outputs": [],
   "source": [
    "config_m2 = {'r':r2_score(y,preds),'n':len(X),'p':2}"
   ]
  },
  {
   "cell_type": "code",
   "execution_count": 10,
   "id": "d04f3b01-3ac1-40fc-a608-fdb79f48738c",
   "metadata": {
    "tags": []
   },
   "outputs": [
    {
     "data": {
      "text/plain": [
       "0.6965978244613198"
      ]
     },
     "execution_count": 10,
     "metadata": {},
     "output_type": "execute_result"
    }
   ],
   "source": [
    "## Model 3\n",
    "X = df[['screen_size','rear_camera_mp','front_camera_mp']].values\n",
    "y = df['normalized_used_price'].values\n",
    "m3 = reg.fit(X,y)\n",
    "preds = m3.predict(X)\n",
    "r2_score(y,preds)"
   ]
  },
  {
   "cell_type": "code",
   "execution_count": 11,
   "id": "de931976-ac52-48c4-afda-7f6f73cfdaa6",
   "metadata": {
    "tags": []
   },
   "outputs": [],
   "source": [
    "config_m3 = {'r':r2_score(y,preds),'n':len(X),'p':3}"
   ]
  },
  {
   "cell_type": "code",
   "execution_count": 12,
   "id": "5d723c45-1509-4546-b3e2-2d5f5073b718",
   "metadata": {
    "tags": []
   },
   "outputs": [
    {
     "data": {
      "text/plain": [
       "0.7207596508671616"
      ]
     },
     "execution_count": 12,
     "metadata": {},
     "output_type": "execute_result"
    }
   ],
   "source": [
    "## Model 4\n",
    "X = df[['screen_size','rear_camera_mp','front_camera_mp','ram']].values\n",
    "y = df['normalized_used_price'].values\n",
    "m4 = reg.fit(X,y)\n",
    "preds = m4.predict(X)\n",
    "r2_score(y,preds)"
   ]
  },
  {
   "cell_type": "code",
   "execution_count": 13,
   "id": "8714f110-d09d-4dd5-afcb-0082922f4d68",
   "metadata": {
    "tags": []
   },
   "outputs": [],
   "source": [
    "config_m4 = {'r':r2_score(y,preds),'n':len(X),'p':4}"
   ]
  },
  {
   "cell_type": "code",
   "execution_count": 14,
   "id": "03eb1b5d-1e5c-4753-9a5f-5920891ffd86",
   "metadata": {
    "tags": []
   },
   "outputs": [
    {
     "data": {
      "text/plain": [
       "0.7227265974524962"
      ]
     },
     "execution_count": 14,
     "metadata": {},
     "output_type": "execute_result"
    }
   ],
   "source": [
    "## Model 5\n",
    "X = df[['screen_size','rear_camera_mp','front_camera_mp','ram','battery']].values\n",
    "y = df['normalized_used_price'].values\n",
    "m5 = reg.fit(X,y)\n",
    "preds = m5.predict(X)\n",
    "r2_score(y,preds)"
   ]
  },
  {
   "cell_type": "code",
   "execution_count": 15,
   "id": "00e6003f-6dc2-41bc-ad4a-1555ab90ac87",
   "metadata": {
    "tags": []
   },
   "outputs": [],
   "source": [
    "config_m5 = {'r':r2_score(y,preds),'n':len(X),'p':5}"
   ]
  },
  {
   "cell_type": "code",
   "execution_count": 16,
   "id": "f5c295e8-f35f-47a1-8450-d1b80acf2127",
   "metadata": {
    "tags": []
   },
   "outputs": [
    {
     "data": {
      "text/plain": [
       "0.7267105781749856"
      ]
     },
     "execution_count": 16,
     "metadata": {},
     "output_type": "execute_result"
    }
   ],
   "source": [
    "## Model 6\n",
    "X = df[['screen_size','rear_camera_mp','front_camera_mp','ram','battery','weight']].values\n",
    "y = df['normalized_used_price'].values\n",
    "m6 = reg.fit(X,y)\n",
    "preds = m6.predict(X)\n",
    "r2_score(y,preds)"
   ]
  },
  {
   "cell_type": "code",
   "execution_count": 17,
   "id": "06cd8f03-eaa3-451a-aba1-e9f37d98a5f4",
   "metadata": {
    "tags": []
   },
   "outputs": [],
   "source": [
    "config_m6 = {'r':r2_score(y,preds),'n':len(X),'p':6}"
   ]
  },
  {
   "cell_type": "markdown",
   "id": "4c8c0f24-b3cc-4f3f-8632-e9356a4e0106",
   "metadata": {},
   "source": [
    "### Adjusted R Squared\n",
    "\n",
    "Sklearn doesn't have a native implimentation, but we can always create one as we know\n",
    "\n",
    "$Adj R^2 = 1-\\frac{(1-R^2)(n-1)}{(n-p-1)}$"
   ]
  },
  {
   "cell_type": "code",
   "execution_count": 18,
   "id": "23078746-5d5b-42cc-97f5-4758a1d75104",
   "metadata": {
    "tags": []
   },
   "outputs": [],
   "source": [
    "def adj_r(r,n,p):\n",
    "    return 1-(1-r*r)*(n-1)/(n-p-1)"
   ]
  },
  {
   "cell_type": "code",
   "execution_count": 19,
   "id": "29d664da-aacd-4c8e-8feb-a3e193f852c7",
   "metadata": {
    "tags": []
   },
   "outputs": [
    {
     "data": {
      "text/plain": [
       "0.1386547155741782"
      ]
     },
     "execution_count": 19,
     "metadata": {},
     "output_type": "execute_result"
    }
   ],
   "source": [
    "adj_r(**config_m1)"
   ]
  },
  {
   "cell_type": "code",
   "execution_count": 20,
   "id": "347115f1-8987-4ded-96b4-e6b3aaeaeef3",
   "metadata": {
    "tags": []
   },
   "outputs": [
    {
     "data": {
      "text/plain": [
       "0.389132331638948"
      ]
     },
     "execution_count": 20,
     "metadata": {},
     "output_type": "execute_result"
    }
   ],
   "source": [
    "adj_r(**config_m2)"
   ]
  },
  {
   "cell_type": "code",
   "execution_count": 21,
   "id": "c9a3f0ae-c11c-476f-a52f-b089cc9f0a66",
   "metadata": {
    "tags": []
   },
   "outputs": [
    {
     "data": {
      "text/plain": [
       "0.48477381204059555"
      ]
     },
     "execution_count": 21,
     "metadata": {},
     "output_type": "execute_result"
    }
   ],
   "source": [
    "adj_r(**config_m3)"
   ]
  },
  {
   "cell_type": "code",
   "execution_count": 22,
   "id": "866e7666-ac06-430e-93af-521affa0eebf",
   "metadata": {
    "tags": []
   },
   "outputs": [
    {
     "data": {
      "text/plain": [
       "0.518903446611287"
      ]
     },
     "execution_count": 22,
     "metadata": {},
     "output_type": "execute_result"
    }
   ],
   "source": [
    "adj_r(**config_m4)"
   ]
  },
  {
   "cell_type": "code",
   "execution_count": 23,
   "id": "fb028059-3500-448a-9c63-27abfa135972",
   "metadata": {
    "tags": []
   },
   "outputs": [
    {
     "data": {
      "text/plain": [
       "0.5215990895324807"
      ]
     },
     "execution_count": 23,
     "metadata": {},
     "output_type": "execute_result"
    }
   ],
   "source": [
    "adj_r(**config_m5)"
   ]
  },
  {
   "cell_type": "code",
   "execution_count": 24,
   "id": "f1b7e073-ea26-4824-acce-e2815413f3b6",
   "metadata": {
    "tags": []
   },
   "outputs": [
    {
     "data": {
      "text/plain": [
       "0.5272370796888337"
      ]
     },
     "execution_count": 24,
     "metadata": {},
     "output_type": "execute_result"
    }
   ],
   "source": [
    "adj_r(**config_m6)"
   ]
  },
  {
   "cell_type": "markdown",
   "id": "d2a4ee2d-b90b-4ba9-ae1f-28a8bf89106b",
   "metadata": {},
   "source": [
    "### Summarizing results"
   ]
  },
  {
   "cell_type": "code",
   "execution_count": 25,
   "id": "6c566400-d871-4f3c-915a-23d067e07ccd",
   "metadata": {
    "tags": []
   },
   "outputs": [
    {
     "data": {
      "text/html": [
       "<div>\n",
       "<style scoped>\n",
       "    .dataframe tbody tr th:only-of-type {\n",
       "        vertical-align: middle;\n",
       "    }\n",
       "\n",
       "    .dataframe tbody tr th {\n",
       "        vertical-align: top;\n",
       "    }\n",
       "\n",
       "    .dataframe thead th {\n",
       "        text-align: right;\n",
       "    }\n",
       "</style>\n",
       "<table border=\"1\" class=\"dataframe\">\n",
       "  <thead>\n",
       "    <tr style=\"text-align: right;\">\n",
       "      <th></th>\n",
       "      <th>R Squared</th>\n",
       "      <th>Adj R Squared</th>\n",
       "    </tr>\n",
       "  </thead>\n",
       "  <tbody>\n",
       "    <tr>\n",
       "      <th>0</th>\n",
       "      <td>0.372719</td>\n",
       "      <td>0.138655</td>\n",
       "    </tr>\n",
       "    <tr>\n",
       "      <th>1</th>\n",
       "      <td>0.624105</td>\n",
       "      <td>0.389132</td>\n",
       "    </tr>\n",
       "    <tr>\n",
       "      <th>2</th>\n",
       "      <td>0.696598</td>\n",
       "      <td>0.484774</td>\n",
       "    </tr>\n",
       "    <tr>\n",
       "      <th>3</th>\n",
       "      <td>0.720760</td>\n",
       "      <td>0.518903</td>\n",
       "    </tr>\n",
       "    <tr>\n",
       "      <th>4</th>\n",
       "      <td>0.722727</td>\n",
       "      <td>0.521599</td>\n",
       "    </tr>\n",
       "    <tr>\n",
       "      <th>5</th>\n",
       "      <td>0.726711</td>\n",
       "      <td>0.527237</td>\n",
       "    </tr>\n",
       "  </tbody>\n",
       "</table>\n",
       "</div>"
      ],
      "text/plain": [
       "   R Squared  Adj R Squared\n",
       "0   0.372719       0.138655\n",
       "1   0.624105       0.389132\n",
       "2   0.696598       0.484774\n",
       "3   0.720760       0.518903\n",
       "4   0.722727       0.521599\n",
       "5   0.726711       0.527237"
      ]
     },
     "execution_count": 25,
     "metadata": {},
     "output_type": "execute_result"
    }
   ],
   "source": [
    "pd.DataFrame({'R Squared':[config_m1['r'],\n",
    "                           config_m2['r'],\n",
    "                           config_m3['r'],\n",
    "                           config_m4['r'],\n",
    "                           config_m5['r'],\n",
    "                           config_m6['r']],\n",
    "             'Adj R Squared':[adj_r(**config_m1),\n",
    "                             adj_r(**config_m2),\n",
    "                             adj_r(**config_m3),\n",
    "                             adj_r(**config_m4),\n",
    "                             adj_r(**config_m5),\n",
    "                             adj_r(**config_m6)]})"
   ]
  },
  {
   "cell_type": "code",
   "execution_count": null,
   "id": "072e23ac-7e77-4ad9-9dd2-a01fa40889f9",
   "metadata": {},
   "outputs": [],
   "source": []
  }
 ],
 "metadata": {
  "kernelspec": {
   "display_name": "Python 3 (ipykernel)",
   "language": "python",
   "name": "python3"
  },
  "language_info": {
   "codemirror_mode": {
    "name": "ipython",
    "version": 3
   },
   "file_extension": ".py",
   "mimetype": "text/x-python",
   "name": "python",
   "nbconvert_exporter": "python",
   "pygments_lexer": "ipython3",
   "version": "3.9.16"
  }
 },
 "nbformat": 4,
 "nbformat_minor": 5
}
