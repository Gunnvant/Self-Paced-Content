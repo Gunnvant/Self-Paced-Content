{
 "cells": [
  {
   "cell_type": "code",
   "execution_count": 1,
   "id": "5f6f31d5-2c22-4906-a05a-04d511fa4e03",
   "metadata": {},
   "outputs": [],
   "source": [
    "import pandas as pd\n",
    "df = pd.read_csv('./data/power_gen.csv')"
   ]
  },
  {
   "cell_type": "markdown",
   "id": "8073c7f0-dec3-4270-a6ca-1c41eafc8f7c",
   "metadata": {},
   "source": [
    "**Q1** Use the dataset `./data/power_gen.csv`. This dataset contains information on the electrical power generated across time from `09/01/2017` to `12/22/2022` [dataset link](https://www.kaggle.com/datasets/arvindnagaonkar/power-generation-data?select=PowerGeneration.csv). It has been the belief that in summer months (April-September) the power production is more than that in winter months (October-March). Given that we have now actual data, can we do a hypothesis test and verify our hypothesis?"
   ]
  },
  {
   "cell_type": "markdown",
   "id": "05c1f6e9-c6dc-4d11-9230-96bd70883202",
   "metadata": {},
   "source": [
    "**Solution**:\n",
    "- H0: The average electricity production in Winter Months and Summer Months is same\n",
    "- Ha: The average is different"
   ]
  },
  {
   "cell_type": "code",
   "execution_count": 2,
   "id": "43a14ace-cea5-464a-8504-75d25653114c",
   "metadata": {},
   "outputs": [
    {
     "data": {
      "text/html": [
       "<div>\n",
       "<style scoped>\n",
       "    .dataframe tbody tr th:only-of-type {\n",
       "        vertical-align: middle;\n",
       "    }\n",
       "\n",
       "    .dataframe tbody tr th {\n",
       "        vertical-align: top;\n",
       "    }\n",
       "\n",
       "    .dataframe thead th {\n",
       "        text-align: right;\n",
       "    }\n",
       "</style>\n",
       "<table border=\"1\" class=\"dataframe\">\n",
       "  <thead>\n",
       "    <tr style=\"text-align: right;\">\n",
       "      <th></th>\n",
       "      <th>Dates</th>\n",
       "      <th>Power Station</th>\n",
       "      <th>Monitored Cap.(MW)</th>\n",
       "      <th>Total Cap. Under Maintenace (MW)</th>\n",
       "      <th>Planned Maintanence (MW)</th>\n",
       "      <th>Forced Maintanence(MW)</th>\n",
       "      <th>Other Reasons (MW)</th>\n",
       "      <th>Programme or Expected(MU)</th>\n",
       "      <th>Actual(MU)</th>\n",
       "      <th>Excess(+) / Shortfall (-)</th>\n",
       "      <th>Deviation</th>\n",
       "    </tr>\n",
       "  </thead>\n",
       "  <tbody>\n",
       "    <tr>\n",
       "      <th>0</th>\n",
       "      <td>2017-09-01</td>\n",
       "      <td>Delhi</td>\n",
       "      <td>2235.4</td>\n",
       "      <td>135.0</td>\n",
       "      <td>0.0</td>\n",
       "      <td>135.0</td>\n",
       "      <td>0</td>\n",
       "      <td>13</td>\n",
       "      <td>18</td>\n",
       "      <td>5.0</td>\n",
       "      <td>0.0</td>\n",
       "    </tr>\n",
       "    <tr>\n",
       "      <th>1</th>\n",
       "      <td>2017-09-01</td>\n",
       "      <td>Haryana</td>\n",
       "      <td>2720.0</td>\n",
       "      <td>2470.0</td>\n",
       "      <td>0.0</td>\n",
       "      <td>2470.0</td>\n",
       "      <td>0</td>\n",
       "      <td>28</td>\n",
       "      <td>7</td>\n",
       "      <td>-21.8</td>\n",
       "      <td>0.0</td>\n",
       "    </tr>\n",
       "  </tbody>\n",
       "</table>\n",
       "</div>"
      ],
      "text/plain": [
       "        Dates Power Station  Monitored Cap.(MW)  \\\n",
       "0  2017-09-01         Delhi              2235.4   \n",
       "1  2017-09-01       Haryana              2720.0   \n",
       "\n",
       "   Total Cap. Under Maintenace (MW)  Planned Maintanence (MW)  \\\n",
       "0                             135.0                       0.0   \n",
       "1                            2470.0                       0.0   \n",
       "\n",
       "   Forced Maintanence(MW)  Other Reasons (MW)  Programme or Expected(MU)  \\\n",
       "0                   135.0                   0                         13   \n",
       "1                  2470.0                   0                         28   \n",
       "\n",
       "   Actual(MU)  Excess(+) / Shortfall (-)  Deviation  \n",
       "0          18                        5.0        0.0  \n",
       "1           7                      -21.8        0.0  "
      ]
     },
     "execution_count": 2,
     "metadata": {},
     "output_type": "execute_result"
    }
   ],
   "source": [
    "df.head(2)"
   ]
  },
  {
   "cell_type": "code",
   "execution_count": 3,
   "id": "6f52f66f-ae55-4854-9634-eb916fd65c0e",
   "metadata": {},
   "outputs": [],
   "source": [
    "df['Dates'] = pd.to_datetime(df['Dates'])"
   ]
  },
  {
   "cell_type": "code",
   "execution_count": 4,
   "id": "25d2fcd0-b2bb-47a7-b51e-0fa8bdd3f188",
   "metadata": {},
   "outputs": [],
   "source": [
    "df['Months'] = df['Dates'].dt.month"
   ]
  },
  {
   "cell_type": "code",
   "execution_count": 5,
   "id": "adf6da1a-64c6-4164-b07d-b95ea76dcf77",
   "metadata": {},
   "outputs": [],
   "source": [
    "winters = df.query(\"Months in (10,11,12,1,2,3)\").groupby('Dates')['Actual(MU)'].mean()\n",
    "summers = df.query(\"Months in (4,5,6,7,8,9)\").groupby('Dates')['Actual(MU)'].mean()"
   ]
  },
  {
   "cell_type": "code",
   "execution_count": 6,
   "id": "94155f63-ed4d-4008-95bc-549ae67d7621",
   "metadata": {},
   "outputs": [],
   "source": [
    "import scipy.stats as stats"
   ]
  },
  {
   "cell_type": "code",
   "execution_count": 7,
   "id": "e9b1c01d-1aca-43ad-be52-c11854391e9c",
   "metadata": {},
   "outputs": [
    {
     "data": {
      "text/plain": [
       "Ttest_indResult(statistic=-15.046418947767783, pvalue=2.3056142404452155e-48)"
      ]
     },
     "execution_count": 7,
     "metadata": {},
     "output_type": "execute_result"
    }
   ],
   "source": [
    "stats.ttest_ind(winters,\n",
    "                summers,equal_var=True)"
   ]
  },
  {
   "cell_type": "markdown",
   "id": "91ec6869-8fe3-4a21-b611-6bf4be686332",
   "metadata": {},
   "source": [
    "**Conclusion**\n",
    "\n",
    "Since the pvalue is small we can reject the H0"
   ]
  },
  {
   "cell_type": "markdown",
   "id": "ade187fb-a042-44d8-b087-2da19d395bab",
   "metadata": {},
   "source": [
    "**Q2** Use the dataset `./data/power_gen.csv`. This dataset contains information on the electrical power generated across time from `09/01/2017` to `12/22/2022` [dataset link](https://www.kaggle.com/datasets/arvindnagaonkar/power-generation-data?select=PowerGeneration.csv). It has been the belief that year on year power production is increasing and is significantly different.(Consider data from 2018 to 2022)Given that we have now actual data, can we do a hypothesis test and verify our hypothesis? You may want to read about Post-Hoc testing before you answer this question. In the pre-read videos this content has been explained."
   ]
  },
  {
   "cell_type": "markdown",
   "id": "eacbbcce-d43c-4b9c-ba8a-cf3469532e0b",
   "metadata": {},
   "source": [
    "**Solution**\n",
    "\n",
    "- H0: Average daily power productions is same across 2018 to 2022\n",
    "- Ha: Average daily power productions is different across 2018 to 2022"
   ]
  },
  {
   "cell_type": "code",
   "execution_count": 8,
   "id": "27ebb463-929a-4eca-bc5e-90d1cabd7456",
   "metadata": {},
   "outputs": [],
   "source": [
    "df['Years'] = df['Dates'].dt.year"
   ]
  },
  {
   "cell_type": "code",
   "execution_count": 9,
   "id": "06ee1949-b8d4-4e88-b741-a993c1671a7d",
   "metadata": {},
   "outputs": [],
   "source": [
    "from scipy.stats import f_oneway"
   ]
  },
  {
   "cell_type": "code",
   "execution_count": 10,
   "id": "c2f1c6fb-dbca-4acb-b04d-9264b08b82a3",
   "metadata": {},
   "outputs": [],
   "source": [
    "groups = []\n",
    "for year in [2018,2019,2020,2021,2022]:\n",
    "    groups.append(df.query(f\"Years=={year}\").groupby('Dates')['Actual(MU)'].mean().values)   "
   ]
  },
  {
   "cell_type": "code",
   "execution_count": 11,
   "id": "82e9d551-ab66-4dc2-8b13-a8f9b3bde77f",
   "metadata": {},
   "outputs": [
    {
     "data": {
      "text/plain": [
       "F_onewayResult(statistic=142.00049471260826, pvalue=4.467946695342016e-105)"
      ]
     },
     "execution_count": 11,
     "metadata": {},
     "output_type": "execute_result"
    }
   ],
   "source": [
    "f_oneway(*groups)"
   ]
  },
  {
   "cell_type": "markdown",
   "id": "3254d0f5-43d9-475b-a007-12be3ea1b2c2",
   "metadata": {},
   "source": [
    "**We can reject H0. But we don't know which groups are different. We can carry out a posthoc test**"
   ]
  },
  {
   "cell_type": "code",
   "execution_count": 12,
   "id": "2fa620ee-4677-4a47-bdb1-239cc96d341b",
   "metadata": {},
   "outputs": [],
   "source": [
    "dfs = []\n",
    "for year in [2018,2019,2020,2021,2022]:\n",
    "    vals = df.query(f\"Years=={year}\").groupby('Dates')['Actual(MU)'].mean().values\n",
    "    years = [year]*len(vals)\n",
    "    res = pd.DataFrame({'Production':vals,'Year':years})\n",
    "    dfs.append(res)"
   ]
  },
  {
   "cell_type": "code",
   "execution_count": 13,
   "id": "33d670a4-442b-4a82-bc0d-46c53a152f83",
   "metadata": {},
   "outputs": [],
   "source": [
    "from statsmodels.stats.multicomp import pairwise_tukeyhsd"
   ]
  },
  {
   "cell_type": "code",
   "execution_count": 14,
   "id": "d7600b5c-a3df-4a88-a413-c204c160ee3a",
   "metadata": {},
   "outputs": [],
   "source": [
    "result = pd.concat(dfs,axis=0)"
   ]
  },
  {
   "cell_type": "code",
   "execution_count": 15,
   "id": "189cf8e4-28bf-4408-86e1-1d2743678e74",
   "metadata": {},
   "outputs": [
    {
     "data": {
      "text/html": [
       "<div>\n",
       "<style scoped>\n",
       "    .dataframe tbody tr th:only-of-type {\n",
       "        vertical-align: middle;\n",
       "    }\n",
       "\n",
       "    .dataframe tbody tr th {\n",
       "        vertical-align: top;\n",
       "    }\n",
       "\n",
       "    .dataframe thead th {\n",
       "        text-align: right;\n",
       "    }\n",
       "</style>\n",
       "<table border=\"1\" class=\"dataframe\">\n",
       "  <thead>\n",
       "    <tr style=\"text-align: right;\">\n",
       "      <th></th>\n",
       "      <th>Production</th>\n",
       "      <th>Year</th>\n",
       "    </tr>\n",
       "  </thead>\n",
       "  <tbody>\n",
       "    <tr>\n",
       "      <th>0</th>\n",
       "      <td>17.545455</td>\n",
       "      <td>2018</td>\n",
       "    </tr>\n",
       "    <tr>\n",
       "      <th>1</th>\n",
       "      <td>18.022727</td>\n",
       "      <td>2018</td>\n",
       "    </tr>\n",
       "    <tr>\n",
       "      <th>2</th>\n",
       "      <td>18.278409</td>\n",
       "      <td>2018</td>\n",
       "    </tr>\n",
       "    <tr>\n",
       "      <th>3</th>\n",
       "      <td>18.443182</td>\n",
       "      <td>2018</td>\n",
       "    </tr>\n",
       "    <tr>\n",
       "      <th>4</th>\n",
       "      <td>18.568182</td>\n",
       "      <td>2018</td>\n",
       "    </tr>\n",
       "    <tr>\n",
       "      <th>...</th>\n",
       "      <td>...</td>\n",
       "      <td>...</td>\n",
       "    </tr>\n",
       "    <tr>\n",
       "      <th>348</th>\n",
       "      <td>19.631868</td>\n",
       "      <td>2022</td>\n",
       "    </tr>\n",
       "    <tr>\n",
       "      <th>349</th>\n",
       "      <td>20.461538</td>\n",
       "      <td>2022</td>\n",
       "    </tr>\n",
       "    <tr>\n",
       "      <th>350</th>\n",
       "      <td>20.631868</td>\n",
       "      <td>2022</td>\n",
       "    </tr>\n",
       "    <tr>\n",
       "      <th>351</th>\n",
       "      <td>20.686813</td>\n",
       "      <td>2022</td>\n",
       "    </tr>\n",
       "    <tr>\n",
       "      <th>352</th>\n",
       "      <td>20.785714</td>\n",
       "      <td>2022</td>\n",
       "    </tr>\n",
       "  </tbody>\n",
       "</table>\n",
       "<p>1738 rows × 2 columns</p>\n",
       "</div>"
      ],
      "text/plain": [
       "     Production  Year\n",
       "0     17.545455  2018\n",
       "1     18.022727  2018\n",
       "2     18.278409  2018\n",
       "3     18.443182  2018\n",
       "4     18.568182  2018\n",
       "..          ...   ...\n",
       "348   19.631868  2022\n",
       "349   20.461538  2022\n",
       "350   20.631868  2022\n",
       "351   20.686813  2022\n",
       "352   20.785714  2022\n",
       "\n",
       "[1738 rows x 2 columns]"
      ]
     },
     "execution_count": 15,
     "metadata": {},
     "output_type": "execute_result"
    }
   ],
   "source": [
    "result"
   ]
  },
  {
   "cell_type": "code",
   "execution_count": 16,
   "id": "d5d80377-aa66-4550-94d9-bb55eb3b0e4f",
   "metadata": {},
   "outputs": [],
   "source": [
    "tukey = pairwise_tukeyhsd(endog=result['Production'],\n",
    "                          groups=result['Year'],\n",
    "                          alpha=0.05)"
   ]
  },
  {
   "cell_type": "code",
   "execution_count": 17,
   "id": "a4819cdc-0dd5-4680-a72c-86d94ea6e3ff",
   "metadata": {},
   "outputs": [
    {
     "name": "stdout",
     "output_type": "stream",
     "text": [
      "Multiple Comparison of Means - Tukey HSD, FWER=0.05 \n",
      "====================================================\n",
      "group1 group2 meandiff p-adj   lower   upper  reject\n",
      "----------------------------------------------------\n",
      "  2018   2019    0.067  0.964 -0.2085  0.3425  False\n",
      "  2018   2020  -0.3215 0.0226 -0.6136 -0.0293   True\n",
      "  2018   2021   0.5777    0.0  0.3022  0.8532   True\n",
      "  2018   2022    1.904   -0.0  1.6261  2.1818   True\n",
      "  2019   2020  -0.3884 0.0027 -0.6803 -0.0966   True\n",
      "  2019   2021   0.5107    0.0  0.2355  0.7858   True\n",
      "  2019   2022    1.837   -0.0  1.5595  2.1144   True\n",
      "  2020   2021   0.8991   -0.0  0.6073   1.191   True\n",
      "  2020   2022   2.2254   -0.0  1.9314  2.5195   True\n",
      "  2021   2022   1.3263   -0.0  1.0488  1.6038   True\n",
      "----------------------------------------------------\n"
     ]
    }
   ],
   "source": [
    "print(tukey)"
   ]
  },
  {
   "cell_type": "markdown",
   "id": "9d028d94-8021-4f3e-b386-c7ea4d4994dd",
   "metadata": {},
   "source": [
    "**Conclusion**\n",
    "\n",
    "We can see that across most consecutive years there has been a significant difference in the electricity production"
   ]
  },
  {
   "cell_type": "markdown",
   "id": "735fc2fa-a094-4daf-9955-9152f24f39d1",
   "metadata": {},
   "source": [
    "**Q3** Use the dataset `./data/power_gen.csv`. This dataset contains information on the electrical power generated across time from `09/01/2017` to `12/22/2022` [dataset link](https://www.kaggle.com/datasets/arvindnagaonkar/power-generation-data?select=PowerGeneration.csv). It has been the belief that the power shortfall is more in summer months than winter months. Given that we have now actual data, can we do a hypothesis test and verify our hypothesis? You may want to read about Post-Hoc testing before you answer this question. In the pre-read videos this content has been explained."
   ]
  },
  {
   "cell_type": "markdown",
   "id": "0f8ebf86-cf4b-4aff-9e83-2d0024e58601",
   "metadata": {},
   "source": [
    "**Solution**\n",
    "\n",
    "- H0: Shortfall in winter and summer months is same\n",
    "- Ha: Shortfall in winter and summer months is different"
   ]
  },
  {
   "cell_type": "code",
   "execution_count": 18,
   "id": "47aa5699-623f-4a5c-a8a7-8279561d52b6",
   "metadata": {},
   "outputs": [],
   "source": [
    "df['Shortfall_Present'] = df['Excess(+) / Shortfall (-)'].map(lambda x: \"Yes\" if x<0 else \"No\")"
   ]
  },
  {
   "cell_type": "code",
   "execution_count": 20,
   "id": "4d1de444-84ac-4f10-98cf-85e7bba664fc",
   "metadata": {},
   "outputs": [],
   "source": [
    "winters = df.query(\"Months in (10,11,12,1,2,3) and Shortfall_Present=='Yes'\").groupby('Dates')['Actual(MU)'].mean()\n",
    "summers = df.query(\"Months in (4,5,6,7,8,9) and Shortfall_Present=='Yes'\").groupby('Dates')['Actual(MU)'].mean()"
   ]
  },
  {
   "cell_type": "code",
   "execution_count": 21,
   "id": "d4bcc7bd-fc5d-498e-af00-7c4f4204f0ce",
   "metadata": {},
   "outputs": [
    {
     "data": {
      "text/plain": [
       "Ttest_indResult(statistic=-13.305222939776751, pvalue=1.200162884952542e-38)"
      ]
     },
     "execution_count": 21,
     "metadata": {},
     "output_type": "execute_result"
    }
   ],
   "source": [
    "stats.ttest_ind(winters,\n",
    "                summers,equal_var=True)"
   ]
  },
  {
   "cell_type": "markdown",
   "id": "4534fddf-dc77-4c34-8dfb-21ffc02f3844",
   "metadata": {},
   "source": [
    "**Conclusion**\n",
    "\n",
    "Since the pvalue is small we can reject the H0"
   ]
  },
  {
   "cell_type": "markdown",
   "id": "8d5128fb-e224-47d5-a6ed-97f3f2c90c6f",
   "metadata": {},
   "source": [
    "**Q4** Use the dataset `./data/attrition.csv`. The dataset comes from [here](https://www.kaggle.com/datasets/patelprashant/employee-attrition) and has data on attrition of employess from a major fortune 500 company. One of the things that one would like to understand from this dataset is the link between gender and attrition. Can you do an appropriate hypothesis test, to answer this question?"
   ]
  },
  {
   "cell_type": "markdown",
   "id": "16435c80-815a-40d5-8905-6322c6ebbb64",
   "metadata": {},
   "source": [
    "**Solution**\n",
    "\n",
    "- H0: Gender and attrition are independent\n",
    "- H1: Gender and attrition are related"
   ]
  },
  {
   "cell_type": "code",
   "execution_count": 22,
   "id": "048ac70b-aeda-43c8-81f9-9f851e7680d7",
   "metadata": {},
   "outputs": [],
   "source": [
    "df = pd.read_csv(\"./data/attrition.csv\")"
   ]
  },
  {
   "cell_type": "code",
   "execution_count": 23,
   "id": "f6e36c06-4790-4d75-b721-67732217c662",
   "metadata": {},
   "outputs": [
    {
     "data": {
      "text/html": [
       "<div>\n",
       "<style scoped>\n",
       "    .dataframe tbody tr th:only-of-type {\n",
       "        vertical-align: middle;\n",
       "    }\n",
       "\n",
       "    .dataframe tbody tr th {\n",
       "        vertical-align: top;\n",
       "    }\n",
       "\n",
       "    .dataframe thead th {\n",
       "        text-align: right;\n",
       "    }\n",
       "</style>\n",
       "<table border=\"1\" class=\"dataframe\">\n",
       "  <thead>\n",
       "    <tr style=\"text-align: right;\">\n",
       "      <th></th>\n",
       "      <th>Age</th>\n",
       "      <th>Attrition</th>\n",
       "      <th>BusinessTravel</th>\n",
       "      <th>DailyRate</th>\n",
       "      <th>Department</th>\n",
       "      <th>DistanceFromHome</th>\n",
       "      <th>Education</th>\n",
       "      <th>EducationField</th>\n",
       "      <th>EmployeeCount</th>\n",
       "      <th>EmployeeNumber</th>\n",
       "      <th>...</th>\n",
       "      <th>RelationshipSatisfaction</th>\n",
       "      <th>StandardHours</th>\n",
       "      <th>StockOptionLevel</th>\n",
       "      <th>TotalWorkingYears</th>\n",
       "      <th>TrainingTimesLastYear</th>\n",
       "      <th>WorkLifeBalance</th>\n",
       "      <th>YearsAtCompany</th>\n",
       "      <th>YearsInCurrentRole</th>\n",
       "      <th>YearsSinceLastPromotion</th>\n",
       "      <th>YearsWithCurrManager</th>\n",
       "    </tr>\n",
       "  </thead>\n",
       "  <tbody>\n",
       "    <tr>\n",
       "      <th>0</th>\n",
       "      <td>41</td>\n",
       "      <td>Yes</td>\n",
       "      <td>Travel_Rarely</td>\n",
       "      <td>1102</td>\n",
       "      <td>Sales</td>\n",
       "      <td>1</td>\n",
       "      <td>2</td>\n",
       "      <td>Life Sciences</td>\n",
       "      <td>1</td>\n",
       "      <td>1</td>\n",
       "      <td>...</td>\n",
       "      <td>1</td>\n",
       "      <td>80</td>\n",
       "      <td>0</td>\n",
       "      <td>8</td>\n",
       "      <td>0</td>\n",
       "      <td>1</td>\n",
       "      <td>6</td>\n",
       "      <td>4</td>\n",
       "      <td>0</td>\n",
       "      <td>5</td>\n",
       "    </tr>\n",
       "    <tr>\n",
       "      <th>1</th>\n",
       "      <td>49</td>\n",
       "      <td>No</td>\n",
       "      <td>Travel_Frequently</td>\n",
       "      <td>279</td>\n",
       "      <td>Research &amp; Development</td>\n",
       "      <td>8</td>\n",
       "      <td>1</td>\n",
       "      <td>Life Sciences</td>\n",
       "      <td>1</td>\n",
       "      <td>2</td>\n",
       "      <td>...</td>\n",
       "      <td>4</td>\n",
       "      <td>80</td>\n",
       "      <td>1</td>\n",
       "      <td>10</td>\n",
       "      <td>3</td>\n",
       "      <td>3</td>\n",
       "      <td>10</td>\n",
       "      <td>7</td>\n",
       "      <td>1</td>\n",
       "      <td>7</td>\n",
       "    </tr>\n",
       "  </tbody>\n",
       "</table>\n",
       "<p>2 rows × 35 columns</p>\n",
       "</div>"
      ],
      "text/plain": [
       "   Age Attrition     BusinessTravel  DailyRate              Department  \\\n",
       "0   41       Yes      Travel_Rarely       1102                   Sales   \n",
       "1   49        No  Travel_Frequently        279  Research & Development   \n",
       "\n",
       "   DistanceFromHome  Education EducationField  EmployeeCount  EmployeeNumber  \\\n",
       "0                 1          2  Life Sciences              1               1   \n",
       "1                 8          1  Life Sciences              1               2   \n",
       "\n",
       "   ...  RelationshipSatisfaction StandardHours  StockOptionLevel  \\\n",
       "0  ...                         1            80                 0   \n",
       "1  ...                         4            80                 1   \n",
       "\n",
       "   TotalWorkingYears  TrainingTimesLastYear WorkLifeBalance  YearsAtCompany  \\\n",
       "0                  8                      0               1               6   \n",
       "1                 10                      3               3              10   \n",
       "\n",
       "  YearsInCurrentRole  YearsSinceLastPromotion  YearsWithCurrManager  \n",
       "0                  4                        0                     5  \n",
       "1                  7                        1                     7  \n",
       "\n",
       "[2 rows x 35 columns]"
      ]
     },
     "execution_count": 23,
     "metadata": {},
     "output_type": "execute_result"
    }
   ],
   "source": [
    "df.head(2)"
   ]
  },
  {
   "cell_type": "code",
   "execution_count": 24,
   "id": "0d032dc2-6cb0-4a04-aa8b-cecba732f415",
   "metadata": {},
   "outputs": [
    {
     "data": {
      "text/html": [
       "<div>\n",
       "<style scoped>\n",
       "    .dataframe tbody tr th:only-of-type {\n",
       "        vertical-align: middle;\n",
       "    }\n",
       "\n",
       "    .dataframe tbody tr th {\n",
       "        vertical-align: top;\n",
       "    }\n",
       "\n",
       "    .dataframe thead th {\n",
       "        text-align: right;\n",
       "    }\n",
       "</style>\n",
       "<table border=\"1\" class=\"dataframe\">\n",
       "  <thead>\n",
       "    <tr style=\"text-align: right;\">\n",
       "      <th>Gender</th>\n",
       "      <th>Female</th>\n",
       "      <th>Male</th>\n",
       "    </tr>\n",
       "    <tr>\n",
       "      <th>Attrition</th>\n",
       "      <th></th>\n",
       "      <th></th>\n",
       "    </tr>\n",
       "  </thead>\n",
       "  <tbody>\n",
       "    <tr>\n",
       "      <th>No</th>\n",
       "      <td>501</td>\n",
       "      <td>732</td>\n",
       "    </tr>\n",
       "    <tr>\n",
       "      <th>Yes</th>\n",
       "      <td>87</td>\n",
       "      <td>150</td>\n",
       "    </tr>\n",
       "  </tbody>\n",
       "</table>\n",
       "</div>"
      ],
      "text/plain": [
       "Gender     Female  Male\n",
       "Attrition              \n",
       "No            501   732\n",
       "Yes            87   150"
      ]
     },
     "execution_count": 24,
     "metadata": {},
     "output_type": "execute_result"
    }
   ],
   "source": [
    "pd.crosstab(df['Attrition'],df['Gender'])"
   ]
  },
  {
   "cell_type": "code",
   "execution_count": 25,
   "id": "ae95f202-50e3-4593-baac-7c30d797b927",
   "metadata": {},
   "outputs": [],
   "source": [
    "contingency_table = pd.crosstab(df['Attrition'],df['Gender'])"
   ]
  },
  {
   "cell_type": "code",
   "execution_count": 26,
   "id": "3b99428e-afa1-49dd-a9d8-43698ad9b742",
   "metadata": {},
   "outputs": [],
   "source": [
    "from scipy.stats import chi2_contingency"
   ]
  },
  {
   "cell_type": "code",
   "execution_count": 27,
   "id": "d1f34385-3eac-4c54-94b3-3e82c3297b3b",
   "metadata": {},
   "outputs": [],
   "source": [
    "stat, p, dof, expected = chi2_contingency(contingency_table)"
   ]
  },
  {
   "cell_type": "code",
   "execution_count": 28,
   "id": "f509d34f-80dc-44ad-b0dc-a510a96e0b14",
   "metadata": {},
   "outputs": [
    {
     "data": {
      "text/plain": [
       "0.29057244902890855"
      ]
     },
     "execution_count": 28,
     "metadata": {},
     "output_type": "execute_result"
    }
   ],
   "source": [
    "p"
   ]
  },
  {
   "cell_type": "markdown",
   "id": "92d64ed8-e119-491e-b836-8e0d2bbc5d91",
   "metadata": {},
   "source": [
    "**Conclusion**:\n",
    "\n",
    "p value is large so we can't reject H0"
   ]
  },
  {
   "cell_type": "markdown",
   "id": "36112156-2394-430a-b861-53b20d6c44bb",
   "metadata": {},
   "source": [
    "**Q5** Use the dataset `./data/attrition.csv`. The dataset comes from [here](https://www.kaggle.com/datasets/patelprashant/employee-attrition) and has data on attrition of employess from a major fortune 500 company. One of the things that one would like to understand from this dataset is the link between marital status and attrition. Can you do an appropriate hypothesis test, to answer this question?"
   ]
  },
  {
   "cell_type": "markdown",
   "id": "063469dc-d39c-49f6-9c89-51e6550fb20e",
   "metadata": {},
   "source": [
    "**Solution**\n",
    "\n",
    "- H0: Marital Status and attrition are independent\n",
    "- H1: Marital Status and attrition are related"
   ]
  },
  {
   "cell_type": "code",
   "execution_count": 29,
   "id": "19f17edc-f7f6-4832-a06d-5691c0999f0f",
   "metadata": {},
   "outputs": [
    {
     "data": {
      "text/html": [
       "<div>\n",
       "<style scoped>\n",
       "    .dataframe tbody tr th:only-of-type {\n",
       "        vertical-align: middle;\n",
       "    }\n",
       "\n",
       "    .dataframe tbody tr th {\n",
       "        vertical-align: top;\n",
       "    }\n",
       "\n",
       "    .dataframe thead th {\n",
       "        text-align: right;\n",
       "    }\n",
       "</style>\n",
       "<table border=\"1\" class=\"dataframe\">\n",
       "  <thead>\n",
       "    <tr style=\"text-align: right;\">\n",
       "      <th>MaritalStatus</th>\n",
       "      <th>Divorced</th>\n",
       "      <th>Married</th>\n",
       "      <th>Single</th>\n",
       "    </tr>\n",
       "    <tr>\n",
       "      <th>Attrition</th>\n",
       "      <th></th>\n",
       "      <th></th>\n",
       "      <th></th>\n",
       "    </tr>\n",
       "  </thead>\n",
       "  <tbody>\n",
       "    <tr>\n",
       "      <th>No</th>\n",
       "      <td>294</td>\n",
       "      <td>589</td>\n",
       "      <td>350</td>\n",
       "    </tr>\n",
       "    <tr>\n",
       "      <th>Yes</th>\n",
       "      <td>33</td>\n",
       "      <td>84</td>\n",
       "      <td>120</td>\n",
       "    </tr>\n",
       "  </tbody>\n",
       "</table>\n",
       "</div>"
      ],
      "text/plain": [
       "MaritalStatus  Divorced  Married  Single\n",
       "Attrition                               \n",
       "No                  294      589     350\n",
       "Yes                  33       84     120"
      ]
     },
     "execution_count": 29,
     "metadata": {},
     "output_type": "execute_result"
    }
   ],
   "source": [
    "pd.crosstab(df['Attrition'],df['MaritalStatus'])"
   ]
  },
  {
   "cell_type": "code",
   "execution_count": 30,
   "id": "e33e0912-f675-4397-a3b8-2b8a9751bce5",
   "metadata": {},
   "outputs": [],
   "source": [
    "contingency_table = pd.crosstab(df['Attrition'],df['MaritalStatus'])"
   ]
  },
  {
   "cell_type": "code",
   "execution_count": 31,
   "id": "31c47350-f704-4c74-890a-431411afef1e",
   "metadata": {},
   "outputs": [],
   "source": [
    "stat, p, dof, expected = chi2_contingency(contingency_table)"
   ]
  },
  {
   "cell_type": "code",
   "execution_count": 32,
   "id": "b7590597-b2e9-4741-93d2-87f34e82e632",
   "metadata": {},
   "outputs": [
    {
     "data": {
      "text/plain": [
       "9.45551106034083e-11"
      ]
     },
     "execution_count": 32,
     "metadata": {},
     "output_type": "execute_result"
    }
   ],
   "source": [
    "p"
   ]
  },
  {
   "cell_type": "markdown",
   "id": "ccf01428-f853-400b-97ac-acbb4f0c7a97",
   "metadata": {},
   "source": [
    "**Conclusion**:\n",
    "\n",
    "p value is small so we can reject H0"
   ]
  },
  {
   "cell_type": "code",
   "execution_count": null,
   "id": "72808f95-fb15-4eb1-869c-45e92f51178e",
   "metadata": {},
   "outputs": [],
   "source": []
  }
 ],
 "metadata": {
  "kernelspec": {
   "display_name": "Python 3 (ipykernel)",
   "language": "python",
   "name": "python3"
  },
  "language_info": {
   "codemirror_mode": {
    "name": "ipython",
    "version": 3
   },
   "file_extension": ".py",
   "mimetype": "text/x-python",
   "name": "python",
   "nbconvert_exporter": "python",
   "pygments_lexer": "ipython3",
   "version": "3.9.13"
  }
 },
 "nbformat": 4,
 "nbformat_minor": 5
}
