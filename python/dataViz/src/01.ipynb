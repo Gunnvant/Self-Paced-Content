{
 "cells": [
  {
   "cell_type": "markdown",
   "id": "eee7ece4-30a7-40ad-973c-27d49ae340d8",
   "metadata": {},
   "source": [
    "### Univariate Plots\n",
    "\n",
    "References:\n",
    "[1](https://learning.oreilly.com/library/view/the-data-visualization/9781800568846/B15779_02_Final_SZ.xhtml#_idParaDest-108) [2](https://learning.oreilly.com/library/view/storytelling-with-data/9781119002253/c02.xhtml#c2_9)\n",
    "- **Types of Plots: Histogram and Box and Whiskers Plot**\n",
    "- **Data: Univariate continous**\n",
    "- **Purpose: Study Statistical Properties**"
   ]
  },
  {
   "cell_type": "code",
   "execution_count": 1,
   "id": "72cd2cc4-da88-4b2e-b8fc-5e19e5b1cbc9",
   "metadata": {},
   "outputs": [
    {
     "data": {
      "text/html": [
       "<div>\n",
       "<style scoped>\n",
       "    .dataframe tbody tr th:only-of-type {\n",
       "        vertical-align: middle;\n",
       "    }\n",
       "\n",
       "    .dataframe tbody tr th {\n",
       "        vertical-align: top;\n",
       "    }\n",
       "\n",
       "    .dataframe thead th {\n",
       "        text-align: right;\n",
       "    }\n",
       "</style>\n",
       "<table border=\"1\" class=\"dataframe\">\n",
       "  <thead>\n",
       "    <tr style=\"text-align: right;\">\n",
       "      <th></th>\n",
       "      <th>date</th>\n",
       "      <th>city</th>\n",
       "      <th>AWND</th>\n",
       "      <th>PRCP</th>\n",
       "      <th>SNOW</th>\n",
       "      <th>TAVG</th>\n",
       "      <th>TMAX</th>\n",
       "      <th>TMIN</th>\n",
       "    </tr>\n",
       "  </thead>\n",
       "  <tbody>\n",
       "    <tr>\n",
       "      <th>0</th>\n",
       "      <td>2020-01-01</td>\n",
       "      <td>Atlanta</td>\n",
       "      <td>7.2</td>\n",
       "      <td>0.0</td>\n",
       "      <td>0.0</td>\n",
       "      <td>45.0</td>\n",
       "      <td>57.0</td>\n",
       "      <td>36.0</td>\n",
       "    </tr>\n",
       "    <tr>\n",
       "      <th>1</th>\n",
       "      <td>2020-01-01</td>\n",
       "      <td>Boston</td>\n",
       "      <td>15.4</td>\n",
       "      <td>0.0</td>\n",
       "      <td>0.0</td>\n",
       "      <td>39.0</td>\n",
       "      <td>43.0</td>\n",
       "      <td>36.0</td>\n",
       "    </tr>\n",
       "  </tbody>\n",
       "</table>\n",
       "</div>"
      ],
      "text/plain": [
       "         date     city  AWND  PRCP  SNOW  TAVG  TMAX  TMIN\n",
       "0  2020-01-01  Atlanta   7.2   0.0   0.0  45.0  57.0  36.0\n",
       "1  2020-01-01   Boston  15.4   0.0   0.0  39.0  43.0  36.0"
      ]
     },
     "execution_count": 1,
     "metadata": {},
     "output_type": "execute_result"
    }
   ],
   "source": [
    "import pandas as pd\n",
    "weather = pd.read_csv(\"./weather.csv\") #Daily weather observations for a few U.S. cities in 2020.\n",
    "weather.head(2)"
   ]
  },
  {
   "cell_type": "code",
   "execution_count": 2,
   "id": "6397fd21-a118-4217-a23a-b204d3a79d16",
   "metadata": {},
   "outputs": [],
   "source": [
    "weather['date'] = pd.to_datetime(weather['date'])\n",
    "weather['month'] = weather['date'].dt.month"
   ]
  },
  {
   "cell_type": "code",
   "execution_count": 3,
   "id": "cdde8236-c49a-49aa-9c99-e2456d431994",
   "metadata": {},
   "outputs": [],
   "source": [
    "atlanta = weather.query(\"city=='Atlanta'\")[['TMIN','TMAX']]"
   ]
  },
  {
   "cell_type": "code",
   "execution_count": 4,
   "id": "f04efe1e-fa6e-43a2-84e6-75e7c9094ac6",
   "metadata": {},
   "outputs": [
    {
     "data": {
      "text/plain": [
       "<AxesSubplot:>"
      ]
     },
     "execution_count": 4,
     "metadata": {},
     "output_type": "execute_result"
    },
    {
     "data": {
      "image/png": "[encoded data removed]",
      "text/plain": [
       "<Figure size 432x288 with 1 Axes>"
      ]
     },
     "metadata": {
      "needs_background": "light"
     },
     "output_type": "display_data"
    }
   ],
   "source": [
    "atlanta['TMIN'].plot(kind = 'box')"
   ]
  },
  {
   "cell_type": "code",
   "execution_count": 5,
   "id": "ceab7aa2-f286-4e51-8f20-db3276aa72d6",
   "metadata": {},
   "outputs": [
    {
     "data": {
      "text/plain": [
       "<AxesSubplot:>"
      ]
     },
     "execution_count": 5,
     "metadata": {},
     "output_type": "execute_result"
    },
    {
     "data": {
      "image/png": "[encoded data removed]",
      "text/plain": [
       "<Figure size 432x288 with 1 Axes>"
      ]
     },
     "metadata": {
      "needs_background": "light"
     },
     "output_type": "display_data"
    }
   ],
   "source": [
    "atlanta['TMAX'].plot(kind = 'box')"
   ]
  },
  {
   "cell_type": "code",
   "execution_count": 6,
   "id": "9cfbe08e-b102-4f9d-9f0c-0065bc54b970",
   "metadata": {},
   "outputs": [
    {
     "data": {
      "image/png": "[encoded data removed]",
      "text/plain": [
       "<Figure size 432x288 with 1 Axes>"
      ]
     },
     "metadata": {
      "needs_background": "light"
     },
     "output_type": "display_data"
    }
   ],
   "source": [
    "ax = atlanta['TMAX'].plot(kind = 'hist')"
   ]
  },
  {
   "cell_type": "code",
   "execution_count": 7,
   "id": "10d96ad5-3744-4c6e-87d4-de95034eb1e5",
   "metadata": {},
   "outputs": [
    {
     "data": {
      "text/plain": [
       "[(35.0, 0.0),\n",
       " (41.10000000000001, 0.0),\n",
       " (47.2, 0.0),\n",
       " (53.3, 0.0),\n",
       " (59.400000000000006, 0.0),\n",
       " (65.5, 0.0),\n",
       " (71.6, 0.0),\n",
       " (77.69999999999999, 0.0),\n",
       " (83.79999999999998, 0.0),\n",
       " (89.9, 0.0)]"
      ]
     },
     "execution_count": 7,
     "metadata": {},
     "output_type": "execute_result"
    }
   ],
   "source": [
    "[x.get_xy() for x in ax.patches]"
   ]
  },
  {
   "cell_type": "code",
   "execution_count": 8,
   "id": "b6d5fe97-5616-48e5-a718-1d8acf1be42a",
   "metadata": {},
   "outputs": [
    {
     "data": {
      "text/plain": [
       "(35.0, 0.0)"
      ]
     },
     "execution_count": 8,
     "metadata": {},
     "output_type": "execute_result"
    }
   ],
   "source": [
    "ax.patches[0].get_xy()"
   ]
  },
  {
   "cell_type": "code",
   "execution_count": 9,
   "id": "d4cf6d9d-3d66-4a6a-aa9a-07dc258b2434",
   "metadata": {},
   "outputs": [],
   "source": [
    "bins = [0,35.0,41.1,47.2,53.3,59.4,65.5,71.6,77.6,83.79,89.9]"
   ]
  },
  {
   "cell_type": "code",
   "execution_count": 10,
   "id": "12360256-abf4-4202-9da2-bada34cdc2ae",
   "metadata": {},
   "outputs": [
    {
     "data": {
      "text/html": [
       "<div>\n",
       "<style scoped>\n",
       "    .dataframe tbody tr th:only-of-type {\n",
       "        vertical-align: middle;\n",
       "    }\n",
       "\n",
       "    .dataframe tbody tr th {\n",
       "        vertical-align: top;\n",
       "    }\n",
       "\n",
       "    .dataframe thead th {\n",
       "        text-align: right;\n",
       "    }\n",
       "</style>\n",
       "<table border=\"1\" class=\"dataframe\">\n",
       "  <thead>\n",
       "    <tr style=\"text-align: right;\">\n",
       "      <th></th>\n",
       "      <th>Temperature</th>\n",
       "      <th>Count</th>\n",
       "    </tr>\n",
       "  </thead>\n",
       "  <tbody>\n",
       "    <tr>\n",
       "      <th>0</th>\n",
       "      <td>(0.0, 35.0]</td>\n",
       "      <td>1</td>\n",
       "    </tr>\n",
       "    <tr>\n",
       "      <th>1</th>\n",
       "      <td>(35.0, 41.1]</td>\n",
       "      <td>2</td>\n",
       "    </tr>\n",
       "    <tr>\n",
       "      <th>2</th>\n",
       "      <td>(41.1, 47.2]</td>\n",
       "      <td>7</td>\n",
       "    </tr>\n",
       "    <tr>\n",
       "      <th>3</th>\n",
       "      <td>(47.2, 53.3]</td>\n",
       "      <td>20</td>\n",
       "    </tr>\n",
       "    <tr>\n",
       "      <th>4</th>\n",
       "      <td>(53.3, 59.4]</td>\n",
       "      <td>34</td>\n",
       "    </tr>\n",
       "    <tr>\n",
       "      <th>5</th>\n",
       "      <td>(59.4, 65.5]</td>\n",
       "      <td>29</td>\n",
       "    </tr>\n",
       "    <tr>\n",
       "      <th>6</th>\n",
       "      <td>(65.5, 71.6]</td>\n",
       "      <td>49</td>\n",
       "    </tr>\n",
       "    <tr>\n",
       "      <th>7</th>\n",
       "      <td>(71.6, 77.6]</td>\n",
       "      <td>53</td>\n",
       "    </tr>\n",
       "    <tr>\n",
       "      <th>8</th>\n",
       "      <td>(77.6, 83.79]</td>\n",
       "      <td>45</td>\n",
       "    </tr>\n",
       "    <tr>\n",
       "      <th>9</th>\n",
       "      <td>(83.79, 89.9]</td>\n",
       "      <td>58</td>\n",
       "    </tr>\n",
       "  </tbody>\n",
       "</table>\n",
       "</div>"
      ],
      "text/plain": [
       "     Temperature  Count\n",
       "0    (0.0, 35.0]      1\n",
       "1   (35.0, 41.1]      2\n",
       "2   (41.1, 47.2]      7\n",
       "3   (47.2, 53.3]     20\n",
       "4   (53.3, 59.4]     34\n",
       "5   (59.4, 65.5]     29\n",
       "6   (65.5, 71.6]     49\n",
       "7   (71.6, 77.6]     53\n",
       "8  (77.6, 83.79]     45\n",
       "9  (83.79, 89.9]     58"
      ]
     },
     "execution_count": 10,
     "metadata": {},
     "output_type": "execute_result"
    }
   ],
   "source": [
    "atlanta['Temperature'] = pd.cut(atlanta['TMAX'],bins=bins)\n",
    "atlanta.groupby('Temperature').agg({'TMAX':'size'}).reset_index().rename(columns={'TMAX':\"Count\"})"
   ]
  },
  {
   "cell_type": "code",
   "execution_count": 20,
   "id": "2451710c-bf56-468c-8ff3-44d3eb5d684f",
   "metadata": {},
   "outputs": [
    {
     "data": {
      "text/plain": [
       "(0.0, 35.0]      0.003\n",
       "(35.0, 41.1]     0.007\n",
       "(41.1, 47.2]     0.023\n",
       "(47.2, 53.3]     0.067\n",
       "(59.4, 65.5]     0.097\n",
       "(53.3, 59.4]     0.114\n",
       "(77.6, 83.79]    0.151\n",
       "(65.5, 71.6]     0.164\n",
       "(71.6, 77.6]     0.178\n",
       "(83.79, 89.9]    0.195\n",
       "Name: Temperature, dtype: float64"
      ]
     },
     "execution_count": 20,
     "metadata": {},
     "output_type": "execute_result"
    }
   ],
   "source": [
    "atlanta['Temperature'].value_counts(normalize=True,ascending=True).round(3)"
   ]
  },
  {
   "cell_type": "code",
   "execution_count": 11,
   "id": "215cac7c-71eb-40a2-93c2-05a9bae8074f",
   "metadata": {},
   "outputs": [
    {
     "data": {
      "text/plain": [
       "<AxesSubplot:ylabel='Density'>"
      ]
     },
     "execution_count": 11,
     "metadata": {},
     "output_type": "execute_result"
    },
    {
     "data": {
      "image/png": "[encoded data removed]",
      "text/plain": [
       "<Figure size 432x288 with 1 Axes>"
      ]
     },
     "metadata": {
      "needs_background": "light"
     },
     "output_type": "display_data"
    }
   ],
   "source": [
    "atlanta['TMAX'].plot(kind = 'density')"
   ]
  },
  {
   "cell_type": "code",
   "execution_count": 16,
   "id": "ec588b8a-f627-44fd-b289-a906f2a70ca3",
   "metadata": {},
   "outputs": [
    {
     "data": {
      "text/plain": [
       "75.0"
      ]
     },
     "execution_count": 16,
     "metadata": {},
     "output_type": "execute_result"
    }
   ],
   "source": [
    "atlanta['TMAX'].quantile(0.5)"
   ]
  },
  {
   "cell_type": "code",
   "execution_count": null,
   "id": "dfd7bc9e-ca12-42bf-ad8d-5f72755a8b72",
   "metadata": {},
   "outputs": [],
   "source": []
  }
 ],
 "metadata": {
  "kernelspec": {
   "display_name": "Python 3 (ipykernel)",
   "language": "python",
   "name": "python3"
  },
  "language_info": {
   "codemirror_mode": {
    "name": "ipython",
    "version": 3
   },
   "file_extension": ".py",
   "mimetype": "text/x-python",
   "name": "python",
   "nbconvert_exporter": "python",
   "pygments_lexer": "ipython3",
   "version": "3.9.13"
  }
 },
 "nbformat": 4,
 "nbformat_minor": 5
}
