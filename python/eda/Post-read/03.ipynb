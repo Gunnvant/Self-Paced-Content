{
 "cells": [
  {
   "cell_type": "code",
   "execution_count": 1,
   "id": "46decb02-0756-474e-b05d-2318dce9a582",
   "metadata": {},
   "outputs": [
    {
     "data": {
      "text/html": [
       "<div>\n",
       "<style scoped>\n",
       "    .dataframe tbody tr th:only-of-type {\n",
       "        vertical-align: middle;\n",
       "    }\n",
       "\n",
       "    .dataframe tbody tr th {\n",
       "        vertical-align: top;\n",
       "    }\n",
       "\n",
       "    .dataframe thead th {\n",
       "        text-align: right;\n",
       "    }\n",
       "</style>\n",
       "<table border=\"1\" class=\"dataframe\">\n",
       "  <thead>\n",
       "    <tr style=\"text-align: right;\">\n",
       "      <th></th>\n",
       "      <th>trip_id</th>\n",
       "      <th>starttime</th>\n",
       "      <th>stoptime</th>\n",
       "      <th>bikeid</th>\n",
       "      <th>tripduration</th>\n",
       "      <th>from_station_id</th>\n",
       "      <th>from_station_name</th>\n",
       "      <th>to_station_id</th>\n",
       "      <th>to_station_name</th>\n",
       "      <th>usertype</th>\n",
       "      <th>gender</th>\n",
       "      <th>birthyear</th>\n",
       "    </tr>\n",
       "  </thead>\n",
       "  <tbody>\n",
       "    <tr>\n",
       "      <th>0</th>\n",
       "      <td>9080545</td>\n",
       "      <td>3/31/2016 23:30</td>\n",
       "      <td>3/31/2016 23:46</td>\n",
       "      <td>2295</td>\n",
       "      <td>15.433333</td>\n",
       "      <td>156</td>\n",
       "      <td>Clark St &amp; Wellington Ave</td>\n",
       "      <td>166</td>\n",
       "      <td>Ashland Ave &amp; Wrightwood Ave</td>\n",
       "      <td>Subscriber</td>\n",
       "      <td>Male</td>\n",
       "      <td>1990.0</td>\n",
       "    </tr>\n",
       "    <tr>\n",
       "      <th>1</th>\n",
       "      <td>9080521</td>\n",
       "      <td>3/31/2016 22:59</td>\n",
       "      <td>3/31/2016 23:02</td>\n",
       "      <td>3439</td>\n",
       "      <td>3.300000</td>\n",
       "      <td>259</td>\n",
       "      <td>California Ave &amp; Francis Pl</td>\n",
       "      <td>276</td>\n",
       "      <td>California Ave &amp; North Ave</td>\n",
       "      <td>Subscriber</td>\n",
       "      <td>Male</td>\n",
       "      <td>1974.0</td>\n",
       "    </tr>\n",
       "  </tbody>\n",
       "</table>\n",
       "</div>"
      ],
      "text/plain": [
       "   trip_id        starttime         stoptime  bikeid  tripduration  \\\n",
       "0  9080545  3/31/2016 23:30  3/31/2016 23:46    2295     15.433333   \n",
       "1  9080521  3/31/2016 22:59  3/31/2016 23:02    3439      3.300000   \n",
       "\n",
       "   from_station_id            from_station_name  to_station_id  \\\n",
       "0              156    Clark St & Wellington Ave            166   \n",
       "1              259  California Ave & Francis Pl            276   \n",
       "\n",
       "                to_station_name    usertype gender  birthyear  \n",
       "0  Ashland Ave & Wrightwood Ave  Subscriber   Male     1990.0  \n",
       "1    California Ave & North Ave  Subscriber   Male     1974.0  "
      ]
     },
     "execution_count": 1,
     "metadata": {},
     "output_type": "execute_result"
    }
   ],
   "source": [
    "### EDA\n",
    "import pandas as pd\n",
    "df = pd.read_csv('cleaned_bikes.csv')\n",
    "df.head(2)"
   ]
  },
  {
   "cell_type": "code",
   "execution_count": 3,
   "id": "07c645a2-a89e-4373-850e-a409a34cdc0a",
   "metadata": {},
   "outputs": [
    {
     "data": {
      "text/plain": [
       "array([2016])"
      ]
     },
     "execution_count": 3,
     "metadata": {},
     "output_type": "execute_result"
    }
   ],
   "source": [
    "df['starttime'] = pd.to_datetime(df['starttime'])\n",
    "df['starttime'].dt.year.unique()"
   ]
  },
  {
   "cell_type": "code",
   "execution_count": 4,
   "id": "ecb4405b-68c0-4421-a249-10db5d2bb9d3",
   "metadata": {},
   "outputs": [],
   "source": [
    "### Is there a relationship between the age and the tripduration?\n",
    "df['age'] = 2016 - df['birthyear'] ## the missing values will be omitted while creating a scatter plot"
   ]
  },
  {
   "cell_type": "code",
   "execution_count": 5,
   "id": "209e0917-6bae-43b9-b353-1db90142f8c1",
   "metadata": {},
   "outputs": [
    {
     "data": {
      "text/plain": [
       "<AxesSubplot:xlabel='age', ylabel='tripduration'>"
      ]
     },
     "execution_count": 5,
     "metadata": {},
     "output_type": "execute_result"
    },
    {
     "data": {
      "image/png": "[encoded data removed]",
      "text/plain": [
       "<Figure size 640x480 with 1 Axes>"
      ]
     },
     "metadata": {},
     "output_type": "display_data"
    }
   ],
   "source": [
    "df.plot(\"age\",\"tripduration\",kind='scatter') ## there doesn't seem to be any relationship, we can verify further by computing correlation coeffs"
   ]
  },
  {
   "cell_type": "code",
   "execution_count": 6,
   "id": "49e2b849-bc80-42e7-bbd8-a514bf1fce67",
   "metadata": {},
   "outputs": [
    {
     "data": {
      "text/html": [
       "<div>\n",
       "<style scoped>\n",
       "    .dataframe tbody tr th:only-of-type {\n",
       "        vertical-align: middle;\n",
       "    }\n",
       "\n",
       "    .dataframe tbody tr th {\n",
       "        vertical-align: top;\n",
       "    }\n",
       "\n",
       "    .dataframe thead th {\n",
       "        text-align: right;\n",
       "    }\n",
       "</style>\n",
       "<table border=\"1\" class=\"dataframe\">\n",
       "  <thead>\n",
       "    <tr style=\"text-align: right;\">\n",
       "      <th></th>\n",
       "      <th>age</th>\n",
       "      <th>tripduration</th>\n",
       "    </tr>\n",
       "  </thead>\n",
       "  <tbody>\n",
       "    <tr>\n",
       "      <th>age</th>\n",
       "      <td>1.000000</td>\n",
       "      <td>0.003924</td>\n",
       "    </tr>\n",
       "    <tr>\n",
       "      <th>tripduration</th>\n",
       "      <td>0.003924</td>\n",
       "      <td>1.000000</td>\n",
       "    </tr>\n",
       "  </tbody>\n",
       "</table>\n",
       "</div>"
      ],
      "text/plain": [
       "                   age  tripduration\n",
       "age           1.000000      0.003924\n",
       "tripduration  0.003924      1.000000"
      ]
     },
     "execution_count": 6,
     "metadata": {},
     "output_type": "execute_result"
    }
   ],
   "source": [
    "df[['age','tripduration']].corr() ## very weak relationship, missing values are omitted while computing correlations"
   ]
  },
  {
   "cell_type": "code",
   "execution_count": 12,
   "id": "9adc3469-eb1e-416c-85a1-f2fe5fd7d7fd",
   "metadata": {},
   "outputs": [
    {
     "data": {
      "text/plain": [
       "usertype\n",
       "Customer      30.979781\n",
       "Subscriber    12.067202\n",
       "Name: tripduration, dtype: float64"
      ]
     },
     "execution_count": 12,
     "metadata": {},
     "output_type": "execute_result"
    }
   ],
   "source": [
    "## Is there any relationship between the user type and tripduration\n",
    "df.groupby('usertype')['tripduration'].mean()"
   ]
  },
  {
   "cell_type": "code",
   "execution_count": 13,
   "id": "25538909-2ea4-45e9-91d9-144f51f06884",
   "metadata": {},
   "outputs": [
    {
     "data": {
      "text/plain": [
       "Subscriber    54982\n",
       "Customer      17149\n",
       "Name: usertype, dtype: int64"
      ]
     },
     "execution_count": 13,
     "metadata": {},
     "output_type": "execute_result"
    }
   ],
   "source": [
    "df.usertype.value_counts() ##more trips by subscribers but the average duration is less"
   ]
  },
  {
   "cell_type": "code",
   "execution_count": 14,
   "id": "76db0444-55cc-4269-b9e4-56b120a6f959",
   "metadata": {},
   "outputs": [
    {
     "data": {
      "text/plain": [
       "gender\n",
       "Female     13.404497\n",
       "Male       11.620317\n",
       "missing    30.972930\n",
       "Name: tripduration, dtype: float64"
      ]
     },
     "execution_count": 14,
     "metadata": {},
     "output_type": "execute_result"
    }
   ],
   "source": [
    "## Is there any relationship between the gender and and tripduration\n",
    "df.groupby('gender')['tripduration'].mean()"
   ]
  },
  {
   "cell_type": "code",
   "execution_count": 15,
   "id": "4381a13e-9314-474c-97cd-01b058f49593",
   "metadata": {},
   "outputs": [
    {
     "data": {
      "text/plain": [
       "Male       41194\n",
       "missing    17154\n",
       "Female     13783\n",
       "Name: gender, dtype: int64"
      ]
     },
     "execution_count": 15,
     "metadata": {},
     "output_type": "execute_result"
    }
   ],
   "source": [
    "df.gender.value_counts()"
   ]
  },
  {
   "cell_type": "code",
   "execution_count": 16,
   "id": "f6820014-52e6-4a9b-9f93-41c068ce7c51",
   "metadata": {},
   "outputs": [
    {
     "data": {
      "text/plain": [
       "usertype\n",
       "Customer      38.000000\n",
       "Subscriber    35.576025\n",
       "Name: age, dtype: float64"
      ]
     },
     "execution_count": 16,
     "metadata": {},
     "output_type": "execute_result"
    }
   ],
   "source": [
    "### Is there any relationship between age and usertype\n",
    "df.groupby('usertype')['age'].mean()"
   ]
  },
  {
   "cell_type": "code",
   "execution_count": null,
   "id": "77294ec6-59a3-4af7-9152-26de6094fc41",
   "metadata": {},
   "outputs": [],
   "source": []
  }
 ],
 "metadata": {
  "kernelspec": {
   "display_name": "Python 3 (ipykernel)",
   "language": "python",
   "name": "python3"
  },
  "language_info": {
   "codemirror_mode": {
    "name": "ipython",
    "version": 3
   },
   "file_extension": ".py",
   "mimetype": "text/x-python",
   "name": "python",
   "nbconvert_exporter": "python",
   "pygments_lexer": "ipython3",
   "version": "3.9.13"
  }
 },
 "nbformat": 4,
 "nbformat_minor": 5
}
