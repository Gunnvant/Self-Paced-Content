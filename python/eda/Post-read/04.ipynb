{
 "cells": [
  {
   "cell_type": "code",
   "execution_count": 1,
   "id": "df4ace5e-ee3c-4aad-aad7-b404495a28b4",
   "metadata": {},
   "outputs": [
    {
     "data": {
      "text/html": [
       "<div>\n",
       "<style scoped>\n",
       "    .dataframe tbody tr th:only-of-type {\n",
       "        vertical-align: middle;\n",
       "    }\n",
       "\n",
       "    .dataframe tbody tr th {\n",
       "        vertical-align: top;\n",
       "    }\n",
       "\n",
       "    .dataframe thead th {\n",
       "        text-align: right;\n",
       "    }\n",
       "</style>\n",
       "<table border=\"1\" class=\"dataframe\">\n",
       "  <thead>\n",
       "    <tr style=\"text-align: right;\">\n",
       "      <th></th>\n",
       "      <th>trip_id</th>\n",
       "      <th>starttime</th>\n",
       "      <th>stoptime</th>\n",
       "      <th>bikeid</th>\n",
       "      <th>tripduration</th>\n",
       "      <th>from_station_id</th>\n",
       "      <th>from_station_name</th>\n",
       "      <th>to_station_id</th>\n",
       "      <th>to_station_name</th>\n",
       "      <th>usertype</th>\n",
       "      <th>gender</th>\n",
       "      <th>birthyear</th>\n",
       "    </tr>\n",
       "  </thead>\n",
       "  <tbody>\n",
       "    <tr>\n",
       "      <th>0</th>\n",
       "      <td>9080545</td>\n",
       "      <td>3/31/2016 23:30</td>\n",
       "      <td>3/31/2016 23:46</td>\n",
       "      <td>2295</td>\n",
       "      <td>15.433333</td>\n",
       "      <td>156</td>\n",
       "      <td>Clark St &amp; Wellington Ave</td>\n",
       "      <td>166</td>\n",
       "      <td>Ashland Ave &amp; Wrightwood Ave</td>\n",
       "      <td>Subscriber</td>\n",
       "      <td>Male</td>\n",
       "      <td>1990.0</td>\n",
       "    </tr>\n",
       "    <tr>\n",
       "      <th>1</th>\n",
       "      <td>9080521</td>\n",
       "      <td>3/31/2016 22:59</td>\n",
       "      <td>3/31/2016 23:02</td>\n",
       "      <td>3439</td>\n",
       "      <td>3.300000</td>\n",
       "      <td>259</td>\n",
       "      <td>California Ave &amp; Francis Pl</td>\n",
       "      <td>276</td>\n",
       "      <td>California Ave &amp; North Ave</td>\n",
       "      <td>Subscriber</td>\n",
       "      <td>Male</td>\n",
       "      <td>1974.0</td>\n",
       "    </tr>\n",
       "  </tbody>\n",
       "</table>\n",
       "</div>"
      ],
      "text/plain": [
       "   trip_id        starttime         stoptime  bikeid  tripduration  \\\n",
       "0  9080545  3/31/2016 23:30  3/31/2016 23:46    2295     15.433333   \n",
       "1  9080521  3/31/2016 22:59  3/31/2016 23:02    3439      3.300000   \n",
       "\n",
       "   from_station_id            from_station_name  to_station_id  \\\n",
       "0              156    Clark St & Wellington Ave            166   \n",
       "1              259  California Ave & Francis Pl            276   \n",
       "\n",
       "                to_station_name    usertype gender  birthyear  \n",
       "0  Ashland Ave & Wrightwood Ave  Subscriber   Male     1990.0  \n",
       "1    California Ave & North Ave  Subscriber   Male     1974.0  "
      ]
     },
     "execution_count": 1,
     "metadata": {},
     "output_type": "execute_result"
    }
   ],
   "source": [
    "## EDA Continued\n",
    "import pandas as pd\n",
    "df = pd.read_csv('cleaned_bikes.csv')\n",
    "df.head(2)"
   ]
  },
  {
   "cell_type": "code",
   "execution_count": 7,
   "id": "d9393795-328b-4bf6-af5c-1e2f8b2100fe",
   "metadata": {},
   "outputs": [],
   "source": [
    "def get_route_raw(row):\n",
    "    frm = row['from_station_name']\n",
    "    to = row['to_station_name']\n",
    "    return frm+\"-\"+to "
   ]
  },
  {
   "cell_type": "code",
   "execution_count": 8,
   "id": "c307e649-a093-4ae5-ace7-0a033551decc",
   "metadata": {},
   "outputs": [],
   "source": [
    "df['routes_raw']=df.apply(get_route_raw,axis=1)"
   ]
  },
  {
   "cell_type": "code",
   "execution_count": 9,
   "id": "113cea0b-d9f0-4095-b676-6c66abc477e6",
   "metadata": {},
   "outputs": [
    {
     "data": {
      "text/html": [
       "<div>\n",
       "<style scoped>\n",
       "    .dataframe tbody tr th:only-of-type {\n",
       "        vertical-align: middle;\n",
       "    }\n",
       "\n",
       "    .dataframe tbody tr th {\n",
       "        vertical-align: top;\n",
       "    }\n",
       "\n",
       "    .dataframe thead th {\n",
       "        text-align: right;\n",
       "    }\n",
       "</style>\n",
       "<table border=\"1\" class=\"dataframe\">\n",
       "  <thead>\n",
       "    <tr style=\"text-align: right;\">\n",
       "      <th></th>\n",
       "      <th>trip_id</th>\n",
       "      <th>starttime</th>\n",
       "      <th>stoptime</th>\n",
       "      <th>bikeid</th>\n",
       "      <th>tripduration</th>\n",
       "      <th>from_station_id</th>\n",
       "      <th>from_station_name</th>\n",
       "      <th>to_station_id</th>\n",
       "      <th>to_station_name</th>\n",
       "      <th>usertype</th>\n",
       "      <th>gender</th>\n",
       "      <th>birthyear</th>\n",
       "      <th>routes_raw</th>\n",
       "    </tr>\n",
       "  </thead>\n",
       "  <tbody>\n",
       "    <tr>\n",
       "      <th>0</th>\n",
       "      <td>9080545</td>\n",
       "      <td>3/31/2016 23:30</td>\n",
       "      <td>3/31/2016 23:46</td>\n",
       "      <td>2295</td>\n",
       "      <td>15.433333</td>\n",
       "      <td>156</td>\n",
       "      <td>Clark St &amp; Wellington Ave</td>\n",
       "      <td>166</td>\n",
       "      <td>Ashland Ave &amp; Wrightwood Ave</td>\n",
       "      <td>Subscriber</td>\n",
       "      <td>Male</td>\n",
       "      <td>1990.0</td>\n",
       "      <td>Clark St &amp; Wellington Ave-Ashland Ave &amp; Wright...</td>\n",
       "    </tr>\n",
       "    <tr>\n",
       "      <th>1</th>\n",
       "      <td>9080521</td>\n",
       "      <td>3/31/2016 22:59</td>\n",
       "      <td>3/31/2016 23:02</td>\n",
       "      <td>3439</td>\n",
       "      <td>3.300000</td>\n",
       "      <td>259</td>\n",
       "      <td>California Ave &amp; Francis Pl</td>\n",
       "      <td>276</td>\n",
       "      <td>California Ave &amp; North Ave</td>\n",
       "      <td>Subscriber</td>\n",
       "      <td>Male</td>\n",
       "      <td>1974.0</td>\n",
       "      <td>California Ave &amp; Francis Pl-California Ave &amp; N...</td>\n",
       "    </tr>\n",
       "  </tbody>\n",
       "</table>\n",
       "</div>"
      ],
      "text/plain": [
       "   trip_id        starttime         stoptime  bikeid  tripduration  \\\n",
       "0  9080545  3/31/2016 23:30  3/31/2016 23:46    2295     15.433333   \n",
       "1  9080521  3/31/2016 22:59  3/31/2016 23:02    3439      3.300000   \n",
       "\n",
       "   from_station_id            from_station_name  to_station_id  \\\n",
       "0              156    Clark St & Wellington Ave            166   \n",
       "1              259  California Ave & Francis Pl            276   \n",
       "\n",
       "                to_station_name    usertype gender  birthyear  \\\n",
       "0  Ashland Ave & Wrightwood Ave  Subscriber   Male     1990.0   \n",
       "1    California Ave & North Ave  Subscriber   Male     1974.0   \n",
       "\n",
       "                                          routes_raw  \n",
       "0  Clark St & Wellington Ave-Ashland Ave & Wright...  \n",
       "1  California Ave & Francis Pl-California Ave & N...  "
      ]
     },
     "execution_count": 9,
     "metadata": {},
     "output_type": "execute_result"
    }
   ],
   "source": [
    "df.head(2)"
   ]
  },
  {
   "cell_type": "code",
   "execution_count": 10,
   "id": "2db58f79-c80f-49f1-9567-860eecf168ee",
   "metadata": {},
   "outputs": [
    {
     "data": {
      "text/plain": [
       "Lake Shore Dr & Monroe St-Streeter Dr & Grand Ave       222\n",
       "Streeter Dr & Grand Ave-Streeter Dr & Grand Ave         171\n",
       "Lake Shore Dr & North Blvd-Streeter Dr & Grand Ave      144\n",
       "Streeter Dr & Grand Ave-Theater on the Lake             136\n",
       "Streeter Dr & Grand Ave-Lake Shore Dr & Monroe St       135\n",
       "                                                       ... \n",
       "Clark St & Wellington Ave-Damen Ave & Grand Ave           1\n",
       "Aberdeen St & Jackson Blvd-Orleans St & Elm St (*)        1\n",
       "Lincoln Ave & Belmont Ave-Broadway & Waveland Ave         1\n",
       "Ritchie Ct & Banks St-Sheffield Ave & Wellington Ave      1\n",
       "Southport Ave & Clybourn Ave-Wood St & Hubbard St         1\n",
       "Name: routes_raw, Length: 26831, dtype: int64"
      ]
     },
     "execution_count": 10,
     "metadata": {},
     "output_type": "execute_result"
    }
   ],
   "source": [
    "df['routes_raw'].value_counts()"
   ]
  },
  {
   "cell_type": "code",
   "execution_count": null,
   "id": "d350ca35-b5d4-4cc3-bb34-c84af1b79e78",
   "metadata": {},
   "outputs": [],
   "source": []
  }
 ],
 "metadata": {
  "kernelspec": {
   "display_name": "Python 3 (ipykernel)",
   "language": "python",
   "name": "python3"
  },
  "language_info": {
   "codemirror_mode": {
    "name": "ipython",
    "version": 3
   },
   "file_extension": ".py",
   "mimetype": "text/x-python",
   "name": "python",
   "nbconvert_exporter": "python",
   "pygments_lexer": "ipython3",
   "version": "3.9.13"
  }
 },
 "nbformat": 4,
 "nbformat_minor": 5
}
