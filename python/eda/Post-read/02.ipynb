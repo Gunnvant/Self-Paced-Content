{
 "cells": [
  {
   "cell_type": "markdown",
   "id": "42789eed-073e-4738-a392-b79e42144d21",
   "metadata": {},
   "source": [
    "### Impliment the Data Quality Checks"
   ]
  },
  {
   "cell_type": "code",
   "execution_count": 1,
   "id": "cfa656e6-abce-4d4c-92c0-f32c9389f923",
   "metadata": {},
   "outputs": [],
   "source": [
    "import pandas as pd\n",
    "df=pd.read_csv(\"chicago_bikes.csv\")"
   ]
  },
  {
   "cell_type": "code",
   "execution_count": 2,
   "id": "8754de66-9f1f-418d-8723-eee4cf652389",
   "metadata": {},
   "outputs": [
    {
     "data": {
      "text/html": [
       "<div>\n",
       "<style scoped>\n",
       "    .dataframe tbody tr th:only-of-type {\n",
       "        vertical-align: middle;\n",
       "    }\n",
       "\n",
       "    .dataframe tbody tr th {\n",
       "        vertical-align: top;\n",
       "    }\n",
       "\n",
       "    .dataframe thead th {\n",
       "        text-align: right;\n",
       "    }\n",
       "</style>\n",
       "<table border=\"1\" class=\"dataframe\">\n",
       "  <thead>\n",
       "    <tr style=\"text-align: right;\">\n",
       "      <th></th>\n",
       "      <th>trip_id</th>\n",
       "      <th>starttime</th>\n",
       "      <th>stoptime</th>\n",
       "      <th>bikeid</th>\n",
       "      <th>tripduration</th>\n",
       "      <th>from_station_id</th>\n",
       "      <th>from_station_name</th>\n",
       "      <th>to_station_id</th>\n",
       "      <th>to_station_name</th>\n",
       "      <th>usertype</th>\n",
       "      <th>gender</th>\n",
       "      <th>birthyear</th>\n",
       "    </tr>\n",
       "  </thead>\n",
       "  <tbody>\n",
       "    <tr>\n",
       "      <th>0</th>\n",
       "      <td>9080545</td>\n",
       "      <td>3/31/2016 23:30</td>\n",
       "      <td>3/31/2016 23:46</td>\n",
       "      <td>2295</td>\n",
       "      <td>926</td>\n",
       "      <td>156</td>\n",
       "      <td>Clark St &amp; Wellington Ave</td>\n",
       "      <td>166</td>\n",
       "      <td>Ashland Ave &amp; Wrightwood Ave</td>\n",
       "      <td>Subscriber</td>\n",
       "      <td>Male</td>\n",
       "      <td>1990.0</td>\n",
       "    </tr>\n",
       "    <tr>\n",
       "      <th>1</th>\n",
       "      <td>9080521</td>\n",
       "      <td>3/31/2016 22:59</td>\n",
       "      <td>3/31/2016 23:02</td>\n",
       "      <td>3439</td>\n",
       "      <td>198</td>\n",
       "      <td>259</td>\n",
       "      <td>California Ave &amp; Francis Pl</td>\n",
       "      <td>276</td>\n",
       "      <td>California Ave &amp; North Ave</td>\n",
       "      <td>Subscriber</td>\n",
       "      <td>Male</td>\n",
       "      <td>1974.0</td>\n",
       "    </tr>\n",
       "  </tbody>\n",
       "</table>\n",
       "</div>"
      ],
      "text/plain": [
       "   trip_id        starttime         stoptime  bikeid  tripduration  \\\n",
       "0  9080545  3/31/2016 23:30  3/31/2016 23:46    2295           926   \n",
       "1  9080521  3/31/2016 22:59  3/31/2016 23:02    3439           198   \n",
       "\n",
       "   from_station_id            from_station_name  to_station_id  \\\n",
       "0              156    Clark St & Wellington Ave            166   \n",
       "1              259  California Ave & Francis Pl            276   \n",
       "\n",
       "                to_station_name    usertype gender  birthyear  \n",
       "0  Ashland Ave & Wrightwood Ave  Subscriber   Male     1990.0  \n",
       "1    California Ave & North Ave  Subscriber   Male     1974.0  "
      ]
     },
     "execution_count": 2,
     "metadata": {},
     "output_type": "execute_result"
    }
   ],
   "source": [
    "df.head(2)"
   ]
  },
  {
   "cell_type": "code",
   "execution_count": 3,
   "id": "c33f842c-faa0-4e63-a778-fdbcffa56899",
   "metadata": {},
   "outputs": [],
   "source": [
    "## Convert the tripduration to minutes\n",
    "df['tripduration'] = df['tripduration']/60"
   ]
  },
  {
   "cell_type": "code",
   "execution_count": 4,
   "id": "e8bc3199-e510-4508-8a17-dfef62674a78",
   "metadata": {},
   "outputs": [
    {
     "data": {
      "text/plain": [
       "count    72131.000000\n",
       "mean        16.563629\n",
       "std         32.848301\n",
       "min          1.000000\n",
       "25%          6.800000\n",
       "50%         11.683333\n",
       "75%         19.566667\n",
       "max       1439.416667\n",
       "Name: tripduration, dtype: float64"
      ]
     },
     "execution_count": 4,
     "metadata": {},
     "output_type": "execute_result"
    }
   ],
   "source": [
    "## There were some extreme values in the tripduration column\n",
    "df['tripduration'].describe()"
   ]
  },
  {
   "cell_type": "code",
   "execution_count": 5,
   "id": "14b42751-2cca-436d-afd8-fec317bd6e2a",
   "metadata": {},
   "outputs": [
    {
     "data": {
      "text/plain": [
       "89.68499999999986"
      ]
     },
     "execution_count": 5,
     "metadata": {},
     "output_type": "execute_result"
    }
   ],
   "source": [
    "## Check the distribution at higher end of the tail\n",
    "df['tripduration'].quantile(0.99)"
   ]
  },
  {
   "cell_type": "code",
   "execution_count": 6,
   "id": "633bd065-f504-4621-88d3-1d2e1970ff2c",
   "metadata": {},
   "outputs": [
    {
     "data": {
      "text/plain": [
       "333.6881666667107"
      ]
     },
     "execution_count": 6,
     "metadata": {},
     "output_type": "execute_result"
    }
   ],
   "source": [
    "df['tripduration'].quantile(0.999)"
   ]
  },
  {
   "cell_type": "code",
   "execution_count": 7,
   "id": "786779da-77de-4160-bb25-b54b2de128a2",
   "metadata": {},
   "outputs": [
    {
     "data": {
      "text/plain": [
       "73"
      ]
     },
     "execution_count": 7,
     "metadata": {},
     "output_type": "execute_result"
    }
   ],
   "source": [
    "df[df['tripduration']>333].shape[0] ## these instances aren't very frequent, \n",
    "## but is this usage more prominent among a certain type of users"
   ]
  },
  {
   "cell_type": "code",
   "execution_count": 8,
   "id": "0b89cd5f-b48a-47e6-8967-3fc4cdf8ae09",
   "metadata": {},
   "outputs": [
    {
     "data": {
      "text/plain": [
       "Customer      0.534247\n",
       "Subscriber    0.465753\n",
       "Name: usertype, dtype: float64"
      ]
     },
     "execution_count": 8,
     "metadata": {},
     "output_type": "execute_result"
    }
   ],
   "source": [
    "df[df['tripduration']>333]['usertype'].value_counts(normalize=True) ## These are probably instances where bikes are used for long rides"
   ]
  },
  {
   "cell_type": "code",
   "execution_count": 9,
   "id": "19442b14-4557-4fb1-985d-a386b81b7223",
   "metadata": {},
   "outputs": [
    {
     "data": {
      "text/plain": [
       "Subscriber    0.762252\n",
       "Customer      0.237748\n",
       "Name: usertype, dtype: float64"
      ]
     },
     "execution_count": 9,
     "metadata": {},
     "output_type": "execute_result"
    }
   ],
   "source": [
    "df['usertype'].value_counts(normalize=True)"
   ]
  },
  {
   "cell_type": "code",
   "execution_count": 10,
   "id": "1d24113d-e087-4ba1-aaf8-e7b24d584f50",
   "metadata": {},
   "outputs": [
    {
     "data": {
      "text/plain": [
       "15.734538843709236"
      ]
     },
     "execution_count": 10,
     "metadata": {},
     "output_type": "execute_result"
    }
   ],
   "source": [
    "## Are extreme observations changing the mean of alot?\n",
    "df[df['tripduration']<333]['tripduration'].mean()"
   ]
  },
  {
   "cell_type": "code",
   "execution_count": 11,
   "id": "cba201c8-0436-4077-8a5f-7388c5ef249c",
   "metadata": {},
   "outputs": [
    {
     "data": {
      "text/plain": [
       "16.563629368787343"
      ]
     },
     "execution_count": 11,
     "metadata": {},
     "output_type": "execute_result"
    }
   ],
   "source": [
    "df['tripduration'].mean() ## We need not worry about the few extreme observations"
   ]
  },
  {
   "cell_type": "code",
   "execution_count": 12,
   "id": "3ae11bce-48c3-49dc-8e95-09dde1e8a25c",
   "metadata": {},
   "outputs": [
    {
     "data": {
      "text/plain": [
       "count    54986.000000\n",
       "mean      1980.423799\n",
       "std         10.823393\n",
       "min       1899.000000\n",
       "25%       1975.000000\n",
       "50%       1984.000000\n",
       "75%       1989.000000\n",
       "max       2000.000000\n",
       "Name: birthyear, dtype: float64"
      ]
     },
     "execution_count": 12,
     "metadata": {},
     "output_type": "execute_result"
    }
   ],
   "source": [
    "## Examine the birthyear column\n",
    "df['birthyear'].describe()"
   ]
  },
  {
   "cell_type": "code",
   "execution_count": 13,
   "id": "1b0a3a71-a7ee-4f29-add9-464d647d1a06",
   "metadata": {},
   "outputs": [
    {
     "data": {
      "text/plain": [
       "1963.0"
      ]
     },
     "execution_count": 13,
     "metadata": {},
     "output_type": "execute_result"
    }
   ],
   "source": [
    "## Lets look at the lower end of the tail\n",
    "df['birthyear'].quantile(0.1)"
   ]
  },
  {
   "cell_type": "code",
   "execution_count": 17,
   "id": "d32c0113-36e8-4c25-a27f-d42dc024223b",
   "metadata": {},
   "outputs": [
    {
     "data": {
      "text/plain": [
       "1951.0"
      ]
     },
     "execution_count": 17,
     "metadata": {},
     "output_type": "execute_result"
    }
   ],
   "source": [
    "df['birthyear'].quantile(0.01) ## one can have very old people in the data"
   ]
  },
  {
   "cell_type": "code",
   "execution_count": 18,
   "id": "55ad8c2d-4e02-4c89-bfda-9947d8d7eeab",
   "metadata": {},
   "outputs": [
    {
     "data": {
      "text/plain": [
       "17154"
      ]
     },
     "execution_count": 18,
     "metadata": {},
     "output_type": "execute_result"
    }
   ],
   "source": [
    "## Missing Values\n",
    "df['gender'].isnull().sum()"
   ]
  },
  {
   "cell_type": "code",
   "execution_count": 19,
   "id": "e553c49b-3385-454f-9644-ec1ba4b62ad7",
   "metadata": {},
   "outputs": [
    {
     "data": {
      "text/plain": [
       "17145"
      ]
     },
     "execution_count": 19,
     "metadata": {},
     "output_type": "execute_result"
    }
   ],
   "source": [
    "df['birthyear'].isnull().sum()"
   ]
  },
  {
   "cell_type": "code",
   "execution_count": 20,
   "id": "ab1806ed-b5df-40bb-b2a1-2dd3cb99e67d",
   "metadata": {},
   "outputs": [
    {
     "data": {
      "text/html": [
       "<div>\n",
       "<style scoped>\n",
       "    .dataframe tbody tr th:only-of-type {\n",
       "        vertical-align: middle;\n",
       "    }\n",
       "\n",
       "    .dataframe tbody tr th {\n",
       "        vertical-align: top;\n",
       "    }\n",
       "\n",
       "    .dataframe thead th {\n",
       "        text-align: right;\n",
       "    }\n",
       "</style>\n",
       "<table border=\"1\" class=\"dataframe\">\n",
       "  <thead>\n",
       "    <tr style=\"text-align: right;\">\n",
       "      <th></th>\n",
       "      <th>trip_id</th>\n",
       "      <th>starttime</th>\n",
       "      <th>stoptime</th>\n",
       "      <th>bikeid</th>\n",
       "      <th>tripduration</th>\n",
       "      <th>from_station_id</th>\n",
       "      <th>from_station_name</th>\n",
       "      <th>to_station_id</th>\n",
       "      <th>to_station_name</th>\n",
       "      <th>usertype</th>\n",
       "      <th>gender</th>\n",
       "      <th>birthyear</th>\n",
       "    </tr>\n",
       "  </thead>\n",
       "  <tbody>\n",
       "    <tr>\n",
       "      <th>23</th>\n",
       "      <td>9079139</td>\n",
       "      <td>3/31/2016 18:43</td>\n",
       "      <td>3/31/2016 19:05</td>\n",
       "      <td>4232</td>\n",
       "      <td>21.816667</td>\n",
       "      <td>85</td>\n",
       "      <td>Michigan Ave &amp; Oak St</td>\n",
       "      <td>210</td>\n",
       "      <td>Ashland Ave &amp; Division St</td>\n",
       "      <td>Customer</td>\n",
       "      <td>NaN</td>\n",
       "      <td>NaN</td>\n",
       "    </tr>\n",
       "    <tr>\n",
       "      <th>39</th>\n",
       "      <td>9078000</td>\n",
       "      <td>3/31/2016 17:35</td>\n",
       "      <td>3/31/2016 17:58</td>\n",
       "      <td>1997</td>\n",
       "      <td>22.316667</td>\n",
       "      <td>2</td>\n",
       "      <td>Michigan Ave &amp; Balbo Ave</td>\n",
       "      <td>6</td>\n",
       "      <td>Dusable Harbor</td>\n",
       "      <td>Customer</td>\n",
       "      <td>NaN</td>\n",
       "      <td>NaN</td>\n",
       "    </tr>\n",
       "  </tbody>\n",
       "</table>\n",
       "</div>"
      ],
      "text/plain": [
       "    trip_id        starttime         stoptime  bikeid  tripduration  \\\n",
       "23  9079139  3/31/2016 18:43  3/31/2016 19:05    4232     21.816667   \n",
       "39  9078000  3/31/2016 17:35  3/31/2016 17:58    1997     22.316667   \n",
       "\n",
       "    from_station_id         from_station_name  to_station_id  \\\n",
       "23               85     Michigan Ave & Oak St            210   \n",
       "39                2  Michigan Ave & Balbo Ave              6   \n",
       "\n",
       "              to_station_name  usertype gender  birthyear  \n",
       "23  Ashland Ave & Division St  Customer    NaN        NaN  \n",
       "39             Dusable Harbor  Customer    NaN        NaN  "
      ]
     },
     "execution_count": 20,
     "metadata": {},
     "output_type": "execute_result"
    }
   ],
   "source": [
    "## Check the users who've not specified gender and birthyear are same?\n",
    "df[df['gender'].isnull()].head(2)"
   ]
  },
  {
   "cell_type": "code",
   "execution_count": 21,
   "id": "562a4bb1-f285-4c71-96bf-080f2e0bf994",
   "metadata": {},
   "outputs": [
    {
     "data": {
      "text/plain": [
       "(17154, 12)"
      ]
     },
     "execution_count": 21,
     "metadata": {},
     "output_type": "execute_result"
    }
   ],
   "source": [
    "df[df['gender'].isnull()].shape"
   ]
  },
  {
   "cell_type": "code",
   "execution_count": 22,
   "id": "43eaa0f9-915d-4567-9b40-449cf629674e",
   "metadata": {},
   "outputs": [
    {
     "data": {
      "text/plain": [
       "17145"
      ]
     },
     "execution_count": 22,
     "metadata": {},
     "output_type": "execute_result"
    }
   ],
   "source": [
    "df[df['gender'].isnull()]['birthyear'].isnull().sum()"
   ]
  },
  {
   "cell_type": "code",
   "execution_count": 23,
   "id": "058edd7e-bfd3-4e70-9b53-1e99b0eaa49f",
   "metadata": {},
   "outputs": [
    {
     "data": {
      "text/plain": [
       "Customer      0.999475\n",
       "Subscriber    0.000525\n",
       "Name: usertype, dtype: float64"
      ]
     },
     "execution_count": 23,
     "metadata": {},
     "output_type": "execute_result"
    }
   ],
   "source": [
    "## So the users who've not specified gender have also not specified birthyear.Are these special types of users?\n",
    "df[df['gender'].isnull()]['usertype'].value_counts(normalize=True)"
   ]
  },
  {
   "cell_type": "code",
   "execution_count": 24,
   "id": "78024064-f9c5-4fb9-9b8c-1b41360bf337",
   "metadata": {},
   "outputs": [
    {
     "data": {
      "text/plain": [
       "Subscriber    0.762252\n",
       "Customer      0.237748\n",
       "Name: usertype, dtype: float64"
      ]
     },
     "execution_count": 24,
     "metadata": {},
     "output_type": "execute_result"
    }
   ],
   "source": [
    "df['usertype'].value_counts(normalize=True)"
   ]
  },
  {
   "cell_type": "code",
   "execution_count": 25,
   "id": "bf6d0e6d-a98c-4cdb-8c61-bfb2a7207fd6",
   "metadata": {},
   "outputs": [],
   "source": [
    "## What can we do? We can specify these users with a special flag\n",
    "df['gender'].fillna('missing',inplace=True)"
   ]
  },
  {
   "cell_type": "code",
   "execution_count": 26,
   "id": "7d6a5f74-a0fb-46d1-8149-0d050bab5b9f",
   "metadata": {},
   "outputs": [],
   "source": [
    "## There is no point imputing the missing values here for birthyear. When we do the analysis we will need to drop\n",
    "## these observations\n",
    "df.to_csv('cleaned_bikes.csv',index=False)"
   ]
  },
  {
   "cell_type": "code",
   "execution_count": null,
   "id": "0e4209e4-0e43-4fcf-80ae-3499a8d33cc3",
   "metadata": {},
   "outputs": [],
   "source": []
  }
 ],
 "metadata": {
  "kernelspec": {
   "display_name": "Python 3 (ipykernel)",
   "language": "python",
   "name": "python3"
  },
  "language_info": {
   "codemirror_mode": {
    "name": "ipython",
    "version": 3
   },
   "file_extension": ".py",
   "mimetype": "text/x-python",
   "name": "python",
   "nbconvert_exporter": "python",
   "pygments_lexer": "ipython3",
   "version": "3.9.13"
  }
 },
 "nbformat": 4,
 "nbformat_minor": 5
}
