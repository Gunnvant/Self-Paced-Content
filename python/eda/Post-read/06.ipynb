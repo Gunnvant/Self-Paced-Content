{
 "cells": [
  {
   "cell_type": "markdown",
   "id": "6dd59bea-c5c4-4659-b743-6ca6ab1c2cf0",
   "metadata": {},
   "source": [
    "## Routes by time of day"
   ]
  },
  {
   "cell_type": "code",
   "execution_count": 1,
   "id": "58ae33c6-c5a0-44ef-9c07-db5a5a3cf681",
   "metadata": {},
   "outputs": [
    {
     "data": {
      "text/html": [
       "<div>\n",
       "<style scoped>\n",
       "    .dataframe tbody tr th:only-of-type {\n",
       "        vertical-align: middle;\n",
       "    }\n",
       "\n",
       "    .dataframe tbody tr th {\n",
       "        vertical-align: top;\n",
       "    }\n",
       "\n",
       "    .dataframe thead th {\n",
       "        text-align: right;\n",
       "    }\n",
       "</style>\n",
       "<table border=\"1\" class=\"dataframe\">\n",
       "  <thead>\n",
       "    <tr style=\"text-align: right;\">\n",
       "      <th></th>\n",
       "      <th>trip_id</th>\n",
       "      <th>starttime</th>\n",
       "      <th>stoptime</th>\n",
       "      <th>bikeid</th>\n",
       "      <th>tripduration</th>\n",
       "      <th>from_station_id</th>\n",
       "      <th>from_station_name</th>\n",
       "      <th>to_station_id</th>\n",
       "      <th>to_station_name</th>\n",
       "      <th>usertype</th>\n",
       "      <th>gender</th>\n",
       "      <th>birthyear</th>\n",
       "    </tr>\n",
       "  </thead>\n",
       "  <tbody>\n",
       "    <tr>\n",
       "      <th>0</th>\n",
       "      <td>9080545</td>\n",
       "      <td>3/31/2016 23:30</td>\n",
       "      <td>3/31/2016 23:46</td>\n",
       "      <td>2295</td>\n",
       "      <td>15.433333</td>\n",
       "      <td>156</td>\n",
       "      <td>Clark St &amp; Wellington Ave</td>\n",
       "      <td>166</td>\n",
       "      <td>Ashland Ave &amp; Wrightwood Ave</td>\n",
       "      <td>Subscriber</td>\n",
       "      <td>Male</td>\n",
       "      <td>1990.0</td>\n",
       "    </tr>\n",
       "    <tr>\n",
       "      <th>1</th>\n",
       "      <td>9080521</td>\n",
       "      <td>3/31/2016 22:59</td>\n",
       "      <td>3/31/2016 23:02</td>\n",
       "      <td>3439</td>\n",
       "      <td>3.300000</td>\n",
       "      <td>259</td>\n",
       "      <td>California Ave &amp; Francis Pl</td>\n",
       "      <td>276</td>\n",
       "      <td>California Ave &amp; North Ave</td>\n",
       "      <td>Subscriber</td>\n",
       "      <td>Male</td>\n",
       "      <td>1974.0</td>\n",
       "    </tr>\n",
       "  </tbody>\n",
       "</table>\n",
       "</div>"
      ],
      "text/plain": [
       "   trip_id        starttime         stoptime  bikeid  tripduration  \\\n",
       "0  9080545  3/31/2016 23:30  3/31/2016 23:46    2295     15.433333   \n",
       "1  9080521  3/31/2016 22:59  3/31/2016 23:02    3439      3.300000   \n",
       "\n",
       "   from_station_id            from_station_name  to_station_id  \\\n",
       "0              156    Clark St & Wellington Ave            166   \n",
       "1              259  California Ave & Francis Pl            276   \n",
       "\n",
       "                to_station_name    usertype gender  birthyear  \n",
       "0  Ashland Ave & Wrightwood Ave  Subscriber   Male     1990.0  \n",
       "1    California Ave & North Ave  Subscriber   Male     1974.0  "
      ]
     },
     "execution_count": 1,
     "metadata": {},
     "output_type": "execute_result"
    }
   ],
   "source": [
    "import pandas as pd\n",
    "df = pd.read_csv('cleaned_bikes.csv')\n",
    "df.head(2)"
   ]
  },
  {
   "cell_type": "code",
   "execution_count": 2,
   "id": "6ad61ea9-36d6-47e5-806d-2a8fbc752b1e",
   "metadata": {},
   "outputs": [],
   "source": [
    "df['starttime'] = pd.to_datetime(df['starttime'])\n",
    "df['months'] = df['starttime'].dt.month\n",
    "df['hour'] = df['starttime'].dt.hour\n",
    "df['dayweek'] = df['starttime'].dt.weekday"
   ]
  },
  {
   "cell_type": "code",
   "execution_count": 3,
   "id": "4d166a36-f1c7-4e52-a1c6-919d46a7b79a",
   "metadata": {},
   "outputs": [],
   "source": [
    "def get_route_raw(row):\n",
    "    frm = row['from_station_name']\n",
    "    to = row['to_station_name']\n",
    "    return frm+\"-\"+to  "
   ]
  },
  {
   "cell_type": "code",
   "execution_count": 4,
   "id": "6769b6ca-3201-4277-95f4-b97730abc863",
   "metadata": {},
   "outputs": [],
   "source": [
    "df['routes_raw']=df.apply(get_route_raw,axis=1)"
   ]
  },
  {
   "cell_type": "code",
   "execution_count": 5,
   "id": "5fc0cb9c-20e9-4008-b9f5-fad9324335ce",
   "metadata": {},
   "outputs": [
    {
     "data": {
      "text/plain": [
       "Lake Shore Dr & Monroe St-Streeter Dr & Grand Ave     222\n",
       "Streeter Dr & Grand Ave-Streeter Dr & Grand Ave       171\n",
       "Lake Shore Dr & North Blvd-Streeter Dr & Grand Ave    144\n",
       "Streeter Dr & Grand Ave-Theater on the Lake           136\n",
       "Streeter Dr & Grand Ave-Lake Shore Dr & Monroe St     135\n",
       "Name: routes_raw, dtype: int64"
      ]
     },
     "execution_count": 5,
     "metadata": {},
     "output_type": "execute_result"
    }
   ],
   "source": [
    "df['routes_raw'].value_counts().head()"
   ]
  },
  {
   "cell_type": "code",
   "execution_count": 6,
   "id": "d3675fd9-efe4-43eb-8d8f-7e035e025fa2",
   "metadata": {},
   "outputs": [
    {
     "data": {
      "text/plain": [
       "Lake Shore Dr & Monroe St-Streeter Dr & Grand Ave     122\n",
       "Streeter Dr & Grand Ave-Streeter Dr & Grand Ave        93\n",
       "Streeter Dr & Grand Ave-Theater on the Lake            83\n",
       "Streeter Dr & Grand Ave-Millennium Park                76\n",
       "Lake Shore Dr & North Blvd-Streeter Dr & Grand Ave     70\n",
       "Name: routes_raw, dtype: int64"
      ]
     },
     "execution_count": 6,
     "metadata": {},
     "output_type": "execute_result"
    }
   ],
   "source": [
    "### Routes which are popular during weekdays\n",
    "df.query(\"dayweek in [0,1,2,3,4]\")['routes_raw'].value_counts().head()"
   ]
  },
  {
   "cell_type": "code",
   "execution_count": 7,
   "id": "08885bc4-0464-4cb4-a810-dd1c19307e44",
   "metadata": {},
   "outputs": [
    {
     "data": {
      "text/plain": [
       "Lake Shore Dr & Monroe St-Streeter Dr & Grand Ave     100\n",
       "Streeter Dr & Grand Ave-Streeter Dr & Grand Ave        78\n",
       "Lake Shore Dr & North Blvd-Streeter Dr & Grand Ave     74\n",
       "Streeter Dr & Grand Ave-Lake Shore Dr & North Blvd     68\n",
       "Streeter Dr & Grand Ave-Lake Shore Dr & Monroe St      66\n",
       "Name: routes_raw, dtype: int64"
      ]
     },
     "execution_count": 7,
     "metadata": {},
     "output_type": "execute_result"
    }
   ],
   "source": [
    "## Routes which are popular during weekends\n",
    "df.query(\"dayweek in [5,6]\")['routes_raw'].value_counts().head()"
   ]
  },
  {
   "cell_type": "code",
   "execution_count": 8,
   "id": "452c20a7-5252-45d1-8d71-ced7124a12ca",
   "metadata": {},
   "outputs": [
    {
     "data": {
      "text/plain": [
       "Canal St & Adams St-Franklin St & Chicago Ave               7\n",
       "Aberdeen St & Jackson Blvd-LaSalle St & Jackson Blvd        5\n",
       "Larrabee St & Oak St-Franklin St & Jackson Blvd             5\n",
       "Canal St & Adams St-McClurg Ct & Erie St                    5\n",
       "Clark St & Wellington Ave-Sheffield Ave & Wellington Ave    5\n",
       "Name: routes_raw, dtype: int64"
      ]
     },
     "execution_count": 8,
     "metadata": {},
     "output_type": "execute_result"
    }
   ],
   "source": [
    "## Routes visited early morning\n",
    "df.query(\"hour in [0,1,2,3,4,5]\")['routes_raw'].value_counts().head()"
   ]
  },
  {
   "cell_type": "code",
   "execution_count": 9,
   "id": "20209f5c-40ef-4388-a384-1699dfa89b73",
   "metadata": {},
   "outputs": [
    {
     "data": {
      "text/plain": [
       "Southport Ave & Wellington Ave-Sheffield Ave & Wellington Ave    37\n",
       "Wacker Dr & Washington St-Michigan Ave & Washington St           29\n",
       "Damen Ave & Foster Ave-Damen Ave & Leland Ave                    27\n",
       "Clinton St & Madison St-LaSalle St & Jackson Blvd                26\n",
       "Canal St & Adams St-Michigan Ave & Lake St                       24\n",
       "Name: routes_raw, dtype: int64"
      ]
     },
     "execution_count": 9,
     "metadata": {},
     "output_type": "execute_result"
    }
   ],
   "source": [
    "## Routes popular during morning hours\n",
    "df.query(\"hour in [7,8,9,10]\")['routes_raw'].value_counts().head()"
   ]
  },
  {
   "cell_type": "code",
   "execution_count": 10,
   "id": "0c05a2c4-2b17-46ac-8a8c-5ae9a2891f0b",
   "metadata": {},
   "outputs": [
    {
     "data": {
      "text/plain": [
       "Lake Shore Dr & Monroe St-Streeter Dr & Grand Ave     45\n",
       "Streeter Dr & Grand Ave-Theater on the Lake           45\n",
       "Streeter Dr & Grand Ave-Streeter Dr & Grand Ave       42\n",
       "Streeter Dr & Grand Ave-Millennium Park               36\n",
       "Lake Shore Dr & North Blvd-Streeter Dr & Grand Ave    36\n",
       "Name: routes_raw, dtype: int64"
      ]
     },
     "execution_count": 10,
     "metadata": {},
     "output_type": "execute_result"
    }
   ],
   "source": [
    "## Routes popular during evening hours\n",
    "df.query(\"hour in [17,18,19,20]\")['routes_raw'].value_counts().head()"
   ]
  },
  {
   "cell_type": "code",
   "execution_count": null,
   "id": "1088b06f-b34e-485d-9b6b-10027e97d71c",
   "metadata": {},
   "outputs": [],
   "source": []
  }
 ],
 "metadata": {
  "kernelspec": {
   "display_name": "Python 3 (ipykernel)",
   "language": "python",
   "name": "python3"
  },
  "language_info": {
   "codemirror_mode": {
    "name": "ipython",
    "version": 3
   },
   "file_extension": ".py",
   "mimetype": "text/x-python",
   "name": "python",
   "nbconvert_exporter": "python",
   "pygments_lexer": "ipython3",
   "version": "3.9.13"
  }
 },
 "nbformat": 4,
 "nbformat_minor": 5
}
