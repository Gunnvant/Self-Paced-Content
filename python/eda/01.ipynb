{
 "cells": [
  {
   "cell_type": "code",
   "execution_count": 1,
   "id": "563c6f89-660a-4cf8-bf04-4d036b39a35d",
   "metadata": {},
   "outputs": [],
   "source": [
    "import pandas as pd"
   ]
  },
  {
   "cell_type": "code",
   "execution_count": 2,
   "id": "a0a3910e-8fcb-4ef1-99fb-49d626612745",
   "metadata": {},
   "outputs": [],
   "source": [
    "df = pd.read_csv('credit.csv')"
   ]
  },
  {
   "cell_type": "code",
   "execution_count": 3,
   "id": "fe9bf9c4-2f9b-4dbc-8fc4-bdb3da6047c9",
   "metadata": {},
   "outputs": [
    {
     "data": {
      "text/html": [
       "<div>\n",
       "<style scoped>\n",
       "    .dataframe tbody tr th:only-of-type {\n",
       "        vertical-align: middle;\n",
       "    }\n",
       "\n",
       "    .dataframe tbody tr th {\n",
       "        vertical-align: top;\n",
       "    }\n",
       "\n",
       "    .dataframe thead th {\n",
       "        text-align: right;\n",
       "    }\n",
       "</style>\n",
       "<table border=\"1\" class=\"dataframe\">\n",
       "  <thead>\n",
       "    <tr style=\"text-align: right;\">\n",
       "      <th></th>\n",
       "      <th>NPA Status</th>\n",
       "      <th>RevolvingUtilizationOfUnsecuredLines</th>\n",
       "      <th>age</th>\n",
       "      <th>Gender</th>\n",
       "      <th>Region</th>\n",
       "      <th>MonthlyIncome</th>\n",
       "      <th>Rented_OwnHouse</th>\n",
       "      <th>Occupation</th>\n",
       "      <th>Education</th>\n",
       "      <th>NumberOfTime30-59DaysPastDueNotWorse</th>\n",
       "      <th>DebtRatio</th>\n",
       "      <th>MonthlyIncome.1</th>\n",
       "      <th>NumberOfOpenCreditLinesAndLoans</th>\n",
       "      <th>NumberOfTimes90DaysLate</th>\n",
       "      <th>NumberRealEstateLoansOrLines</th>\n",
       "      <th>NumberOfTime60-89DaysPastDueNotWorse</th>\n",
       "      <th>NumberOfDependents</th>\n",
       "      <th>Good_Bad</th>\n",
       "    </tr>\n",
       "  </thead>\n",
       "  <tbody>\n",
       "    <tr>\n",
       "      <th>0</th>\n",
       "      <td>1</td>\n",
       "      <td>0.766127</td>\n",
       "      <td>45</td>\n",
       "      <td>Male</td>\n",
       "      <td>South</td>\n",
       "      <td>9120.0</td>\n",
       "      <td>Ownhouse</td>\n",
       "      <td>Self_Emp</td>\n",
       "      <td>Matric</td>\n",
       "      <td>2</td>\n",
       "      <td>0.802982</td>\n",
       "      <td>9120.0</td>\n",
       "      <td>13</td>\n",
       "      <td>0</td>\n",
       "      <td>6</td>\n",
       "      <td>0</td>\n",
       "      <td>2.0</td>\n",
       "      <td>Bad</td>\n",
       "    </tr>\n",
       "    <tr>\n",
       "      <th>1</th>\n",
       "      <td>0</td>\n",
       "      <td>0.957151</td>\n",
       "      <td>40</td>\n",
       "      <td>Female</td>\n",
       "      <td>South</td>\n",
       "      <td>2600.0</td>\n",
       "      <td>Ownhouse</td>\n",
       "      <td>Self_Emp</td>\n",
       "      <td>Graduate</td>\n",
       "      <td>0</td>\n",
       "      <td>0.121876</td>\n",
       "      <td>2600.0</td>\n",
       "      <td>4</td>\n",
       "      <td>0</td>\n",
       "      <td>0</td>\n",
       "      <td>0</td>\n",
       "      <td>1.0</td>\n",
       "      <td>Good</td>\n",
       "    </tr>\n",
       "    <tr>\n",
       "      <th>2</th>\n",
       "      <td>0</td>\n",
       "      <td>0.658180</td>\n",
       "      <td>38</td>\n",
       "      <td>Female</td>\n",
       "      <td>South</td>\n",
       "      <td>3042.0</td>\n",
       "      <td>Ownhouse</td>\n",
       "      <td>Self_Emp</td>\n",
       "      <td>PhD</td>\n",
       "      <td>1</td>\n",
       "      <td>0.085113</td>\n",
       "      <td>3042.0</td>\n",
       "      <td>2</td>\n",
       "      <td>1</td>\n",
       "      <td>0</td>\n",
       "      <td>0</td>\n",
       "      <td>0.0</td>\n",
       "      <td>Good</td>\n",
       "    </tr>\n",
       "    <tr>\n",
       "      <th>3</th>\n",
       "      <td>0</td>\n",
       "      <td>0.233810</td>\n",
       "      <td>30</td>\n",
       "      <td>Female</td>\n",
       "      <td>South</td>\n",
       "      <td>3300.0</td>\n",
       "      <td>Ownhouse</td>\n",
       "      <td>Self_Emp</td>\n",
       "      <td>Professional</td>\n",
       "      <td>0</td>\n",
       "      <td>0.036050</td>\n",
       "      <td>3300.0</td>\n",
       "      <td>5</td>\n",
       "      <td>0</td>\n",
       "      <td>0</td>\n",
       "      <td>0</td>\n",
       "      <td>0.0</td>\n",
       "      <td>Good</td>\n",
       "    </tr>\n",
       "    <tr>\n",
       "      <th>4</th>\n",
       "      <td>0</td>\n",
       "      <td>0.907239</td>\n",
       "      <td>49</td>\n",
       "      <td>Male</td>\n",
       "      <td>South</td>\n",
       "      <td>63588.0</td>\n",
       "      <td>Ownhouse</td>\n",
       "      <td>Self_Emp</td>\n",
       "      <td>Post-Grad</td>\n",
       "      <td>1</td>\n",
       "      <td>0.024926</td>\n",
       "      <td>63588.0</td>\n",
       "      <td>7</td>\n",
       "      <td>0</td>\n",
       "      <td>1</td>\n",
       "      <td>0</td>\n",
       "      <td>0.0</td>\n",
       "      <td>Good</td>\n",
       "    </tr>\n",
       "  </tbody>\n",
       "</table>\n",
       "</div>"
      ],
      "text/plain": [
       "   NPA Status  RevolvingUtilizationOfUnsecuredLines  age  Gender Region  \\\n",
       "0           1                              0.766127   45    Male  South   \n",
       "1           0                              0.957151   40  Female  South   \n",
       "2           0                              0.658180   38  Female  South   \n",
       "3           0                              0.233810   30  Female  South   \n",
       "4           0                              0.907239   49    Male  South   \n",
       "\n",
       "   MonthlyIncome Rented_OwnHouse Occupation     Education  \\\n",
       "0         9120.0        Ownhouse   Self_Emp        Matric   \n",
       "1         2600.0        Ownhouse   Self_Emp      Graduate   \n",
       "2         3042.0        Ownhouse   Self_Emp           PhD   \n",
       "3         3300.0        Ownhouse   Self_Emp  Professional   \n",
       "4        63588.0        Ownhouse   Self_Emp     Post-Grad   \n",
       "\n",
       "   NumberOfTime30-59DaysPastDueNotWorse  DebtRatio  MonthlyIncome.1  \\\n",
       "0                                     2   0.802982           9120.0   \n",
       "1                                     0   0.121876           2600.0   \n",
       "2                                     1   0.085113           3042.0   \n",
       "3                                     0   0.036050           3300.0   \n",
       "4                                     1   0.024926          63588.0   \n",
       "\n",
       "   NumberOfOpenCreditLinesAndLoans  NumberOfTimes90DaysLate  \\\n",
       "0                               13                        0   \n",
       "1                                4                        0   \n",
       "2                                2                        1   \n",
       "3                                5                        0   \n",
       "4                                7                        0   \n",
       "\n",
       "   NumberRealEstateLoansOrLines  NumberOfTime60-89DaysPastDueNotWorse  \\\n",
       "0                             6                                     0   \n",
       "1                             0                                     0   \n",
       "2                             0                                     0   \n",
       "3                             0                                     0   \n",
       "4                             1                                     0   \n",
       "\n",
       "   NumberOfDependents Good_Bad  \n",
       "0                 2.0      Bad  \n",
       "1                 1.0     Good  \n",
       "2                 0.0     Good  \n",
       "3                 0.0     Good  \n",
       "4                 0.0     Good  "
      ]
     },
     "execution_count": 3,
     "metadata": {},
     "output_type": "execute_result"
    }
   ],
   "source": [
    "df.head()"
   ]
  },
  {
   "cell_type": "code",
   "execution_count": 4,
   "id": "1eeb23f9-f84d-40ae-b850-7cc4d130be10",
   "metadata": {},
   "outputs": [
    {
     "data": {
      "text/plain": [
       "0    45\n",
       "1    40\n",
       "Name: age, dtype: int64"
      ]
     },
     "execution_count": 4,
     "metadata": {},
     "output_type": "execute_result"
    }
   ],
   "source": [
    "## Identifying presence of extreme values\n",
    "df['age'].head(2)"
   ]
  },
  {
   "cell_type": "code",
   "execution_count": 5,
   "id": "fbd07e67-c3e8-4ed8-8e85-30020b190d66",
   "metadata": {},
   "outputs": [
    {
     "data": {
      "text/plain": [
       "count    150000.000000\n",
       "mean         52.295207\n",
       "std          14.771866\n",
       "min           0.000000\n",
       "25%          41.000000\n",
       "50%          52.000000\n",
       "75%          63.000000\n",
       "max         109.000000\n",
       "Name: age, dtype: float64"
      ]
     },
     "execution_count": 5,
     "metadata": {},
     "output_type": "execute_result"
    }
   ],
   "source": [
    "df['age'].describe()"
   ]
  },
  {
   "cell_type": "code",
   "execution_count": 6,
   "id": "e2db48a1-ae64-4257-9178-77ea8449f428",
   "metadata": {},
   "outputs": [
    {
     "data": {
      "text/plain": [
       "count    150000.000000\n",
       "mean        353.005076\n",
       "std        2037.818523\n",
       "min           0.000000\n",
       "25%           0.175074\n",
       "50%           0.366508\n",
       "75%           0.868254\n",
       "max      329664.000000\n",
       "Name: DebtRatio, dtype: float64"
      ]
     },
     "execution_count": 6,
     "metadata": {},
     "output_type": "execute_result"
    }
   ],
   "source": [
    "df['DebtRatio'].describe()"
   ]
  },
  {
   "cell_type": "code",
   "execution_count": 7,
   "id": "a0fb4d29-c7b4-4574-a806-fae57998afef",
   "metadata": {},
   "outputs": [],
   "source": [
    "## Identifying if extreme values are frequent"
   ]
  },
  {
   "cell_type": "code",
   "execution_count": 8,
   "id": "ba3e8e01-d8a9-4acb-8169-1144d59e0aab",
   "metadata": {},
   "outputs": [
    {
     "data": {
      "text/plain": [
       "<AxesSubplot:ylabel='Frequency'>"
      ]
     },
     "execution_count": 8,
     "metadata": {},
     "output_type": "execute_result"
    },
    {
     "data": {
      "image/png": "[encoded data removed]",
      "text/plain": [
       "<Figure size 432x288 with 1 Axes>"
      ]
     },
     "metadata": {
      "needs_background": "light"
     },
     "output_type": "display_data"
    }
   ],
   "source": [
    "df['age'].plot(kind='hist')"
   ]
  },
  {
   "cell_type": "code",
   "execution_count": 9,
   "id": "1e47ee51-4b02-4100-abea-221d5506b150",
   "metadata": {},
   "outputs": [
    {
     "data": {
      "text/plain": [
       "array([ 2.,  1.,  0., nan,  3.,  4.,  5.,  6.,  8.,  7., 20., 10.,  9.,\n",
       "       13.])"
      ]
     },
     "execution_count": 9,
     "metadata": {},
     "output_type": "execute_result"
    }
   ],
   "source": [
    "## Identifying if a categorical variable has been encoded as numeric\n",
    "df['NumberOfDependents'].unique()"
   ]
  },
  {
   "cell_type": "code",
   "execution_count": 10,
   "id": "c66795e3-4a2f-4d99-9429-88c99f5f5ea2",
   "metadata": {},
   "outputs": [
    {
     "data": {
      "text/plain": [
       "array(['Matric', 'Graduate', 'PhD', 'Professional', 'Post-Grad'],\n",
       "      dtype=object)"
      ]
     },
     "execution_count": 10,
     "metadata": {},
     "output_type": "execute_result"
    }
   ],
   "source": [
    "## Identifying is there are too many levels in a categorical variable\n",
    "df['Education'].unique()"
   ]
  },
  {
   "cell_type": "code",
   "execution_count": 11,
   "id": "4c698303-b551-4b60-b9d7-522935928d7f",
   "metadata": {},
   "outputs": [
    {
     "data": {
      "text/plain": [
       "Professional    50920\n",
       "Graduate        39755\n",
       "Post-Grad       37214\n",
       "Matric          15810\n",
       "PhD              6301\n",
       "Name: Education, dtype: int64"
      ]
     },
     "execution_count": 11,
     "metadata": {},
     "output_type": "execute_result"
    }
   ],
   "source": [
    "## Identifying if some levels in a category have very few observations\n",
    "df['Education'].value_counts()"
   ]
  },
  {
   "cell_type": "code",
   "execution_count": 12,
   "id": "6c75a718-f307-48d9-a8fa-ff3b272ad05b",
   "metadata": {},
   "outputs": [
    {
     "data": {
      "text/plain": [
       "NPA Status                                  0\n",
       "RevolvingUtilizationOfUnsecuredLines        0\n",
       "age                                         0\n",
       "Gender                                      0\n",
       "Region                                      0\n",
       "MonthlyIncome                           29731\n",
       "Rented_OwnHouse                             0\n",
       "Occupation                                  0\n",
       "Education                                   0\n",
       "NumberOfTime30-59DaysPastDueNotWorse        0\n",
       "DebtRatio                                   0\n",
       "MonthlyIncome.1                         29731\n",
       "NumberOfOpenCreditLinesAndLoans             0\n",
       "NumberOfTimes90DaysLate                     0\n",
       "NumberRealEstateLoansOrLines                0\n",
       "NumberOfTime60-89DaysPastDueNotWorse        0\n",
       "NumberOfDependents                       3924\n",
       "Good_Bad                                    0\n",
       "dtype: int64"
      ]
     },
     "execution_count": 12,
     "metadata": {},
     "output_type": "execute_result"
    }
   ],
   "source": [
    "## Check for high proportion of missing values\n",
    "df.isnull().sum()"
   ]
  },
  {
   "cell_type": "code",
   "execution_count": 13,
   "id": "e16e7cb6-2afc-48d8-b827-0b3a494868df",
   "metadata": {},
   "outputs": [
    {
     "data": {
      "text/plain": [
       "NPA Status                              0.000000\n",
       "RevolvingUtilizationOfUnsecuredLines    0.000000\n",
       "age                                     0.000000\n",
       "Gender                                  0.000000\n",
       "Region                                  0.000000\n",
       "MonthlyIncome                           0.198207\n",
       "Rented_OwnHouse                         0.000000\n",
       "Occupation                              0.000000\n",
       "Education                               0.000000\n",
       "NumberOfTime30-59DaysPastDueNotWorse    0.000000\n",
       "DebtRatio                               0.000000\n",
       "MonthlyIncome.1                         0.198207\n",
       "NumberOfOpenCreditLinesAndLoans         0.000000\n",
       "NumberOfTimes90DaysLate                 0.000000\n",
       "NumberRealEstateLoansOrLines            0.000000\n",
       "NumberOfTime60-89DaysPastDueNotWorse    0.000000\n",
       "NumberOfDependents                      0.026160\n",
       "Good_Bad                                0.000000\n",
       "dtype: float64"
      ]
     },
     "execution_count": 13,
     "metadata": {},
     "output_type": "execute_result"
    }
   ],
   "source": [
    "df.isnull().mean()"
   ]
  },
  {
   "cell_type": "code",
   "execution_count": 14,
   "id": "8b486e77-f26b-4324-89b8-b83028eba1cf",
   "metadata": {},
   "outputs": [
    {
     "data": {
      "text/html": [
       "<div>\n",
       "<style scoped>\n",
       "    .dataframe tbody tr th:only-of-type {\n",
       "        vertical-align: middle;\n",
       "    }\n",
       "\n",
       "    .dataframe tbody tr th {\n",
       "        vertical-align: top;\n",
       "    }\n",
       "\n",
       "    .dataframe thead th {\n",
       "        text-align: right;\n",
       "    }\n",
       "</style>\n",
       "<table border=\"1\" class=\"dataframe\">\n",
       "  <thead>\n",
       "    <tr style=\"text-align: right;\">\n",
       "      <th></th>\n",
       "      <th>NPA Status</th>\n",
       "      <th>RevolvingUtilizationOfUnsecuredLines</th>\n",
       "      <th>age</th>\n",
       "      <th>Gender</th>\n",
       "      <th>Region</th>\n",
       "      <th>MonthlyIncome</th>\n",
       "      <th>Rented_OwnHouse</th>\n",
       "      <th>Occupation</th>\n",
       "      <th>Education</th>\n",
       "      <th>NumberOfTime30-59DaysPastDueNotWorse</th>\n",
       "      <th>DebtRatio</th>\n",
       "      <th>MonthlyIncome.1</th>\n",
       "      <th>NumberOfOpenCreditLinesAndLoans</th>\n",
       "      <th>NumberOfTimes90DaysLate</th>\n",
       "      <th>NumberRealEstateLoansOrLines</th>\n",
       "      <th>NumberOfTime60-89DaysPastDueNotWorse</th>\n",
       "      <th>NumberOfDependents</th>\n",
       "      <th>Good_Bad</th>\n",
       "    </tr>\n",
       "  </thead>\n",
       "  <tbody>\n",
       "    <tr>\n",
       "      <th>0</th>\n",
       "      <td>1</td>\n",
       "      <td>0.766127</td>\n",
       "      <td>45</td>\n",
       "      <td>Male</td>\n",
       "      <td>South</td>\n",
       "      <td>9120.0</td>\n",
       "      <td>Ownhouse</td>\n",
       "      <td>Self_Emp</td>\n",
       "      <td>Matric</td>\n",
       "      <td>2</td>\n",
       "      <td>0.802982</td>\n",
       "      <td>9120.0</td>\n",
       "      <td>13</td>\n",
       "      <td>0</td>\n",
       "      <td>6</td>\n",
       "      <td>0</td>\n",
       "      <td>2.0</td>\n",
       "      <td>Bad</td>\n",
       "    </tr>\n",
       "    <tr>\n",
       "      <th>1</th>\n",
       "      <td>0</td>\n",
       "      <td>0.957151</td>\n",
       "      <td>40</td>\n",
       "      <td>Female</td>\n",
       "      <td>South</td>\n",
       "      <td>2600.0</td>\n",
       "      <td>Ownhouse</td>\n",
       "      <td>Self_Emp</td>\n",
       "      <td>Graduate</td>\n",
       "      <td>0</td>\n",
       "      <td>0.121876</td>\n",
       "      <td>2600.0</td>\n",
       "      <td>4</td>\n",
       "      <td>0</td>\n",
       "      <td>0</td>\n",
       "      <td>0</td>\n",
       "      <td>1.0</td>\n",
       "      <td>Good</td>\n",
       "    </tr>\n",
       "  </tbody>\n",
       "</table>\n",
       "</div>"
      ],
      "text/plain": [
       "   NPA Status  RevolvingUtilizationOfUnsecuredLines  age  Gender Region  \\\n",
       "0           1                              0.766127   45    Male  South   \n",
       "1           0                              0.957151   40  Female  South   \n",
       "\n",
       "   MonthlyIncome Rented_OwnHouse Occupation Education  \\\n",
       "0         9120.0        Ownhouse   Self_Emp    Matric   \n",
       "1         2600.0        Ownhouse   Self_Emp  Graduate   \n",
       "\n",
       "   NumberOfTime30-59DaysPastDueNotWorse  DebtRatio  MonthlyIncome.1  \\\n",
       "0                                     2   0.802982           9120.0   \n",
       "1                                     0   0.121876           2600.0   \n",
       "\n",
       "   NumberOfOpenCreditLinesAndLoans  NumberOfTimes90DaysLate  \\\n",
       "0                               13                        0   \n",
       "1                                4                        0   \n",
       "\n",
       "   NumberRealEstateLoansOrLines  NumberOfTime60-89DaysPastDueNotWorse  \\\n",
       "0                             6                                     0   \n",
       "1                             0                                     0   \n",
       "\n",
       "   NumberOfDependents Good_Bad  \n",
       "0                 2.0      Bad  \n",
       "1                 1.0     Good  "
      ]
     },
     "execution_count": 14,
     "metadata": {},
     "output_type": "execute_result"
    }
   ],
   "source": [
    "## Checking for duplicate columns\n",
    "df.head(2)"
   ]
  },
  {
   "cell_type": "code",
   "execution_count": 21,
   "id": "be7d5391-9660-492d-a6ff-bb72eb121c3c",
   "metadata": {},
   "outputs": [],
   "source": [
    "df.drop('MonthlyIncome.1',axis=1,inplace=True)"
   ]
  },
  {
   "cell_type": "code",
   "execution_count": 22,
   "id": "6675cadd-4684-4652-b8e4-c8cfcfb6c237",
   "metadata": {},
   "outputs": [
    {
     "data": {
      "text/html": [
       "<div>\n",
       "<style scoped>\n",
       "    .dataframe tbody tr th:only-of-type {\n",
       "        vertical-align: middle;\n",
       "    }\n",
       "\n",
       "    .dataframe tbody tr th {\n",
       "        vertical-align: top;\n",
       "    }\n",
       "\n",
       "    .dataframe thead th {\n",
       "        text-align: right;\n",
       "    }\n",
       "</style>\n",
       "<table border=\"1\" class=\"dataframe\">\n",
       "  <thead>\n",
       "    <tr style=\"text-align: right;\">\n",
       "      <th></th>\n",
       "      <th>NPA Status</th>\n",
       "      <th>RevolvingUtilizationOfUnsecuredLines</th>\n",
       "      <th>age</th>\n",
       "      <th>Gender</th>\n",
       "      <th>Region</th>\n",
       "      <th>MonthlyIncome</th>\n",
       "      <th>Rented_OwnHouse</th>\n",
       "      <th>Occupation</th>\n",
       "      <th>Education</th>\n",
       "      <th>NumberOfTime30-59DaysPastDueNotWorse</th>\n",
       "      <th>DebtRatio</th>\n",
       "      <th>NumberOfOpenCreditLinesAndLoans</th>\n",
       "      <th>NumberOfTimes90DaysLate</th>\n",
       "      <th>NumberRealEstateLoansOrLines</th>\n",
       "      <th>NumberOfTime60-89DaysPastDueNotWorse</th>\n",
       "      <th>NumberOfDependents</th>\n",
       "      <th>Good_Bad</th>\n",
       "    </tr>\n",
       "  </thead>\n",
       "  <tbody>\n",
       "    <tr>\n",
       "      <th>0</th>\n",
       "      <td>1</td>\n",
       "      <td>0.766127</td>\n",
       "      <td>45</td>\n",
       "      <td>Male</td>\n",
       "      <td>South</td>\n",
       "      <td>9120.0</td>\n",
       "      <td>Ownhouse</td>\n",
       "      <td>Self_Emp</td>\n",
       "      <td>Matric</td>\n",
       "      <td>2</td>\n",
       "      <td>0.802982</td>\n",
       "      <td>13</td>\n",
       "      <td>0</td>\n",
       "      <td>6</td>\n",
       "      <td>0</td>\n",
       "      <td>2.0</td>\n",
       "      <td>Bad</td>\n",
       "    </tr>\n",
       "    <tr>\n",
       "      <th>1</th>\n",
       "      <td>0</td>\n",
       "      <td>0.957151</td>\n",
       "      <td>40</td>\n",
       "      <td>Female</td>\n",
       "      <td>South</td>\n",
       "      <td>2600.0</td>\n",
       "      <td>Ownhouse</td>\n",
       "      <td>Self_Emp</td>\n",
       "      <td>Graduate</td>\n",
       "      <td>0</td>\n",
       "      <td>0.121876</td>\n",
       "      <td>4</td>\n",
       "      <td>0</td>\n",
       "      <td>0</td>\n",
       "      <td>0</td>\n",
       "      <td>1.0</td>\n",
       "      <td>Good</td>\n",
       "    </tr>\n",
       "  </tbody>\n",
       "</table>\n",
       "</div>"
      ],
      "text/plain": [
       "   NPA Status  RevolvingUtilizationOfUnsecuredLines  age  Gender Region  \\\n",
       "0           1                              0.766127   45    Male  South   \n",
       "1           0                              0.957151   40  Female  South   \n",
       "\n",
       "   MonthlyIncome Rented_OwnHouse Occupation Education  \\\n",
       "0         9120.0        Ownhouse   Self_Emp    Matric   \n",
       "1         2600.0        Ownhouse   Self_Emp  Graduate   \n",
       "\n",
       "   NumberOfTime30-59DaysPastDueNotWorse  DebtRatio  \\\n",
       "0                                     2   0.802982   \n",
       "1                                     0   0.121876   \n",
       "\n",
       "   NumberOfOpenCreditLinesAndLoans  NumberOfTimes90DaysLate  \\\n",
       "0                               13                        0   \n",
       "1                                4                        0   \n",
       "\n",
       "   NumberRealEstateLoansOrLines  NumberOfTime60-89DaysPastDueNotWorse  \\\n",
       "0                             6                                     0   \n",
       "1                             0                                     0   \n",
       "\n",
       "   NumberOfDependents Good_Bad  \n",
       "0                 2.0      Bad  \n",
       "1                 1.0     Good  "
      ]
     },
     "execution_count": 22,
     "metadata": {},
     "output_type": "execute_result"
    }
   ],
   "source": [
    "df.head(2)"
   ]
  },
  {
   "cell_type": "code",
   "execution_count": null,
   "id": "d4d9192e-92fa-420b-a29c-3617f3d67473",
   "metadata": {},
   "outputs": [],
   "source": []
  }
 ],
 "metadata": {
  "kernelspec": {
   "display_name": "Python 3 (ipykernel)",
   "language": "python",
   "name": "python3"
  },
  "language_info": {
   "codemirror_mode": {
    "name": "ipython",
    "version": 3
   },
   "file_extension": ".py",
   "mimetype": "text/x-python",
   "name": "python",
   "nbconvert_exporter": "python",
   "pygments_lexer": "ipython3",
   "version": "3.9.13"
  }
 },
 "nbformat": 4,
 "nbformat_minor": 5
}
