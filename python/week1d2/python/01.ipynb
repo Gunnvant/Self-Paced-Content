{
 "cells": [
  {
   "cell_type": "markdown",
   "id": "bba8d6d5-75a2-4ff3-8475-81ae47fb4ea0",
   "metadata": {},
   "source": [
    "## Motivation for using functions"
   ]
  },
  {
   "cell_type": "code",
   "execution_count": 1,
   "id": "3a930fb3-9599-4892-8d3c-5a45606c49c8",
   "metadata": {},
   "outputs": [
    {
     "data": {
      "text/plain": [
       "['admit,gre,gpa,rank\\n',\n",
       " '0.0,380.0,3.609999895095825,3.0\\n',\n",
       " '1.0,660.0,3.6700000762939453,3.0\\n',\n",
       " '1.0,800.0,4.0,1.0\\n',\n",
       " '1.0,640.0,3.190000057220459,4.0\\n',\n",
       " '0.0,520.0,2.930000066757202,4.0\\n',\n",
       " '1.0,760.0,3.0,2.0\\n',\n",
       " '1.0,560.0,2.9800000190734863,1.0\\n',\n",
       " '0.0,400.0,3.0799999237060547,2.0\\n',\n",
       " '1.0,540.0,3.390000104904175,3.0\\n']"
      ]
     },
     "execution_count": 1,
     "metadata": {},
     "output_type": "execute_result"
    }
   ],
   "source": [
    "with open(\"admission.csv\",\"r\") as f:\n",
    "    data = f.readlines()\n",
    "data[0:10]"
   ]
  },
  {
   "cell_type": "code",
   "execution_count": 2,
   "id": "97ebbffe-31e2-4ff9-bfee-9497b284617e",
   "metadata": {},
   "outputs": [
    {
     "data": {
      "text/plain": [
       "587.7"
      ]
     },
     "execution_count": 2,
     "metadata": {},
     "output_type": "execute_result"
    }
   ],
   "source": [
    "all_values = []\n",
    "for row in data[1:]:\n",
    "    vals = row.split(\",\")\n",
    "    all_values.append(float(vals[1]))\n",
    "sum(all_values)/len(all_values)"
   ]
  },
  {
   "cell_type": "code",
   "execution_count": null,
   "id": "34ece812-4caf-406b-8f3b-091710bb834e",
   "metadata": {},
   "outputs": [],
   "source": []
  },
  {
   "cell_type": "code",
   "execution_count": null,
   "id": "f21646bb-8a29-40ec-b3d4-b46e15f38705",
   "metadata": {},
   "outputs": [],
   "source": []
  }
 ],
 "metadata": {
  "kernelspec": {
   "display_name": "Python 3 (ipykernel)",
   "language": "python",
   "name": "python3"
  },
  "language_info": {
   "codemirror_mode": {
    "name": "ipython",
    "version": 3
   },
   "file_extension": ".py",
   "mimetype": "text/x-python",
   "name": "python",
   "nbconvert_exporter": "python",
   "pygments_lexer": "ipython3",
   "version": "3.9.13"
  }
 },
 "nbformat": 4,
 "nbformat_minor": 5
}
