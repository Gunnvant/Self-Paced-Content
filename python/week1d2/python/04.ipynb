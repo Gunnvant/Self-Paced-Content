{
 "cells": [
  {
   "cell_type": "markdown",
   "id": "082531a2-1605-4b36-948f-95e44f0b2946",
   "metadata": {},
   "source": [
    "## Using `*args` and `**kwargs`  "
   ]
  },
  {
   "cell_type": "code",
   "execution_count": 1,
   "id": "78ce63d0-496e-4cb2-befe-bf75dc606cc1",
   "metadata": {},
   "outputs": [],
   "source": [
    "def compute_average(file_path,col_idx=1):\n",
    "    with open(file_path,\"r\") as f:\n",
    "        data = f.readlines()\n",
    "    all_values = []\n",
    "    for row in data[1:]:\n",
    "        vals = row.split(\",\")\n",
    "        all_values.append(float(vals[col_idx]))\n",
    "    return sum(all_values)/len(all_values)"
   ]
  },
  {
   "cell_type": "code",
   "execution_count": 2,
   "id": "a5b8e22b-80a9-4a32-8f7f-5e4850004d78",
   "metadata": {},
   "outputs": [],
   "source": [
    "def compute_average_many(*args,col_idx=1):\n",
    "    result = []\n",
    "    for arg in args:\n",
    "        with open(arg,'r') as f:\n",
    "            data = f.readlines()\n",
    "        all_values = []\n",
    "        for row in data[1:]:\n",
    "            vals = row.split(\",\")\n",
    "            all_values.append(float(vals[col_idx]))\n",
    "        result.append(sum(all_values)/len(all_values))\n",
    "    return result                            "
   ]
  },
  {
   "cell_type": "code",
   "execution_count": 3,
   "id": "b411fe09-5064-484b-b5b9-d2ca6e6aa34f",
   "metadata": {},
   "outputs": [
    {
     "data": {
      "text/plain": [
       "[587.7, 585.3333333333334]"
      ]
     },
     "execution_count": 3,
     "metadata": {},
     "output_type": "execute_result"
    }
   ],
   "source": [
    "path_files = ['admission.csv','admission1.csv']\n",
    "compute_average_many(*path_files)"
   ]
  },
  {
   "cell_type": "code",
   "execution_count": 4,
   "id": "e83a6199-605a-4b16-b2bc-411352b365dc",
   "metadata": {},
   "outputs": [],
   "source": [
    "def compute_average_many(*args,**kwargs):\n",
    "    result = []\n",
    "    for arg,col_idx in zip(args,kwargs.values()):\n",
    "        with open(arg,'r') as f:\n",
    "            data = f.readlines()\n",
    "        all_values = []\n",
    "        for row in data[1:]:\n",
    "            vals = row.split(\",\")\n",
    "            all_values.append(float(vals[col_idx]))\n",
    "        result.append(sum(all_values)/len(all_values))\n",
    "    return result  "
   ]
  },
  {
   "cell_type": "code",
   "execution_count": 5,
   "id": "b99e95d5-eacf-4290-9573-ffebaf28df2a",
   "metadata": {},
   "outputs": [],
   "source": [
    "path_files = ['admission.csv','admission1.csv']\n",
    "col_idx = {'idx1':0,'idx':1}"
   ]
  },
  {
   "cell_type": "code",
   "execution_count": 6,
   "id": "e2c25d94-ddc0-444a-bb25-29bf63e97e10",
   "metadata": {},
   "outputs": [
    {
     "data": {
      "text/plain": [
       "[0.3175, 585.3333333333334]"
      ]
     },
     "execution_count": 6,
     "metadata": {},
     "output_type": "execute_result"
    }
   ],
   "source": [
    "compute_average_many(*path_files,**col_idx)"
   ]
  },
  {
   "cell_type": "code",
   "execution_count": null,
   "id": "5b35b2e4-eeb9-4cf5-8d6c-e29343ec6a50",
   "metadata": {},
   "outputs": [],
   "source": []
  }
 ],
 "metadata": {
  "kernelspec": {
   "display_name": "Python 3 (ipykernel)",
   "language": "python",
   "name": "python3"
  },
  "language_info": {
   "codemirror_mode": {
    "name": "ipython",
    "version": 3
   },
   "file_extension": ".py",
   "mimetype": "text/x-python",
   "name": "python",
   "nbconvert_exporter": "python",
   "pygments_lexer": "ipython3",
   "version": "3.10.5"
  }
 },
 "nbformat": 4,
 "nbformat_minor": 5
}
