{
 "cells": [
  {
   "cell_type": "markdown",
   "id": "77a985bf-852a-4707-a00f-5b3d2ef1c357",
   "metadata": {},
   "source": [
    "## Using arbitrary number of arguments in a function"
   ]
  },
  {
   "cell_type": "code",
   "execution_count": 1,
   "id": "c23f3738-3d1d-4d50-bbf3-0f30ae58d022",
   "metadata": {},
   "outputs": [],
   "source": [
    "def compute_average(file_path,col_idx=1):\n",
    "    with open(file_path,\"r\") as f:\n",
    "        data = f.readlines()\n",
    "    all_values = []\n",
    "    for row in data[1:]:\n",
    "        vals = row.split(\",\")\n",
    "        all_values.append(float(vals[col_idx]))\n",
    "    return sum(all_values)/len(all_values)"
   ]
  },
  {
   "cell_type": "markdown",
   "id": "858694bb-35a3-4608-97f4-0d2c3f98d786",
   "metadata": {},
   "source": [
    "**Can we use this function to process multiple files**"
   ]
  },
  {
   "cell_type": "code",
   "execution_count": 15,
   "id": "cd93fcda-8d78-4031-9898-89b47e36e2f2",
   "metadata": {},
   "outputs": [],
   "source": [
    "def test(*args):\n",
    "    for arg in args:\n",
    "        print(arg)"
   ]
  },
  {
   "cell_type": "code",
   "execution_count": 16,
   "id": "ea1c9aee-4853-4009-8a3e-f59d84a1e74c",
   "metadata": {},
   "outputs": [
    {
     "name": "stdout",
     "output_type": "stream",
     "text": [
      "admission.csv\n",
      "admission1.csv\n"
     ]
    }
   ],
   "source": [
    "file_names = ['admission.csv','admission1.csv']\n",
    "test(*file_names)"
   ]
  },
  {
   "cell_type": "code",
   "execution_count": 17,
   "id": "e2c2eef3-1560-4eca-857a-57a1f057b9e9",
   "metadata": {},
   "outputs": [
    {
     "name": "stdout",
     "output_type": "stream",
     "text": [
      "file1.csv\n",
      "file2.csv\n",
      "file3.csv\n"
     ]
    }
   ],
   "source": [
    "test(\"file1.csv\",\"file2.csv\",'file3.csv')"
   ]
  },
  {
   "cell_type": "code",
   "execution_count": 18,
   "id": "c828eef4-a85c-471c-b62d-55937f2a69d7",
   "metadata": {},
   "outputs": [],
   "source": [
    "def test_keyword(**kwargs):\n",
    "    print(kwargs)"
   ]
  },
  {
   "cell_type": "code",
   "execution_count": 19,
   "id": "b0dfc1bd-ffa1-4dee-a16d-54984ddf866d",
   "metadata": {},
   "outputs": [
    {
     "name": "stdout",
     "output_type": "stream",
     "text": [
      "{'path_file1': 'file1.csv', 'col_idx_file1': 0, 'path_file2': 'file2.csv', 'col_idx_file2': 2}\n"
     ]
    }
   ],
   "source": [
    "test_keyword(path_file1=\"file1.csv\",col_idx_file1=0,path_file2=\"file2.csv\",col_idx_file2=2)"
   ]
  },
  {
   "cell_type": "code",
   "execution_count": null,
   "id": "9d1bff96-9d53-4a5e-b60c-76def276099f",
   "metadata": {},
   "outputs": [],
   "source": []
  }
 ],
 "metadata": {
  "kernelspec": {
   "display_name": "Python 3 (ipykernel)",
   "language": "python",
   "name": "python3"
  },
  "language_info": {
   "codemirror_mode": {
    "name": "ipython",
    "version": 3
   },
   "file_extension": ".py",
   "mimetype": "text/x-python",
   "name": "python",
   "nbconvert_exporter": "python",
   "pygments_lexer": "ipython3",
   "version": "3.9.13"
  }
 },
 "nbformat": 4,
 "nbformat_minor": 5
}
