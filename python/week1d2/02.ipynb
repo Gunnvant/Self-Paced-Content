{
 "cells": [
  {
   "cell_type": "markdown",
   "id": "02874c57-2236-4d6f-9e76-7924cc9291c1",
   "metadata": {},
   "source": [
    "## Writting Functions"
   ]
  },
  {
   "cell_type": "code",
   "execution_count": null,
   "id": "75f97a37-5170-4d84-b6af-ba4639f9eeaf",
   "metadata": {},
   "outputs": [],
   "source": [
    "def get_names(first_name,last_name):\n",
    "    name = first_name+\" \"+last_name\n",
    "    return name"
   ]
  },
  {
   "cell_type": "code",
   "execution_count": null,
   "id": "24b1fcc2-340e-4a7e-91a7-f7c8034a3acc",
   "metadata": {},
   "outputs": [],
   "source": [
    "get_names(\"Ram\", \"Pitani\")"
   ]
  },
  {
   "cell_type": "code",
   "execution_count": null,
   "id": "9b3f09ac-c377-4fca-9634-90d9dfbf85f8",
   "metadata": {},
   "outputs": [],
   "source": [
    "get_names(first_name = \"Ram\", last_name = \"Pitani\")"
   ]
  },
  {
   "cell_type": "code",
   "execution_count": null,
   "id": "cfef507e-ea28-48b9-a2e3-83f005d93ee5",
   "metadata": {},
   "outputs": [],
   "source": [
    "get_names(last_name = \"Pitani\",first_name = \"Ram\")"
   ]
  },
  {
   "cell_type": "code",
   "execution_count": null,
   "id": "139949ac-b179-43dc-9468-443f94e01de6",
   "metadata": {},
   "outputs": [],
   "source": [
    "def compute_average(file_path,col_idx=1):\n",
    "    with open(file_path,\"r\") as f:\n",
    "        data = f.readlines()\n",
    "    all_values = []\n",
    "    for row in data[1:]:\n",
    "        vals = row.split(\",\")\n",
    "        all_values.append(float(vals[col_idx]))\n",
    "    return sum(all_values)/len(all_values)"
   ]
  },
  {
   "cell_type": "code",
   "execution_count": null,
   "id": "704d708c-69a0-416b-ae5f-e569e6b1a30c",
   "metadata": {},
   "outputs": [],
   "source": [
    "compute_average(\"admission.csv\",1)"
   ]
  },
  {
   "cell_type": "code",
   "execution_count": null,
   "id": "92aefc6e-062e-46cf-bcc4-fd8b9c9538a7",
   "metadata": {},
   "outputs": [],
   "source": []
  }
 ],
 "metadata": {
  "kernelspec": {
   "display_name": "Python 3 (ipykernel)",
   "language": "python",
   "name": "python3"
  },
  "language_info": {
   "codemirror_mode": {
    "name": "ipython",
    "version": 3
   },
   "file_extension": ".py",
   "mimetype": "text/x-python",
   "name": "python",
   "nbconvert_exporter": "python",
   "pygments_lexer": "ipython3",
   "version": "3.9.13"
  }
 },
 "nbformat": 4,
 "nbformat_minor": 5
}
