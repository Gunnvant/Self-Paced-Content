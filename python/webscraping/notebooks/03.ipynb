{
 "cells": [
  {
   "cell_type": "code",
   "execution_count": 1,
   "id": "22e1ab5c-70be-42b9-a70e-59e0e6d359a3",
   "metadata": {
    "tags": []
   },
   "outputs": [],
   "source": [
    "from bs4 import BeautifulSoup\n",
    "import pandas as pd"
   ]
  },
  {
   "cell_type": "code",
   "execution_count": 3,
   "id": "b7ea4bb8-c3d2-4f7b-923d-d8dba83c79c3",
   "metadata": {
    "tags": []
   },
   "outputs": [],
   "source": [
    "with open(\"../data/imdb.html\" ,'r') as f:\n",
    "    d = f.read()"
   ]
  },
  {
   "cell_type": "code",
   "execution_count": 4,
   "id": "503c4a99-b08a-41b7-b0b5-d878d1c9814d",
   "metadata": {
    "tags": []
   },
   "outputs": [],
   "source": [
    "soup = BeautifulSoup(d,'html.parser')"
   ]
  },
  {
   "cell_type": "code",
   "execution_count": 16,
   "id": "b4ad20cc-a6cd-4118-9729-5bc1bacf4c81",
   "metadata": {
    "tags": []
   },
   "outputs": [],
   "source": [
    "movie = []\n",
    "for doc in soup.find_all(\"div\",class_=\"lister-item-content\"):\n",
    "    movie.append(doc.find(\"p\",class_=\"text-muted text-small\").a.text.strip())"
   ]
  },
  {
   "cell_type": "code",
   "execution_count": 17,
   "id": "d90e3c6a-e0ec-410d-812e-1d900585c864",
   "metadata": {
    "tags": []
   },
   "outputs": [],
   "source": [
    "actor=[]\n",
    "for doc in soup.find_all(\"h3\",class_=\"lister-item-header\"):\n",
    "    actor.append(doc.a.text.strip())"
   ]
  },
  {
   "cell_type": "code",
   "execution_count": 19,
   "id": "cbefc4ff-a41e-45e7-a36d-0e68d82018f2",
   "metadata": {
    "tags": []
   },
   "outputs": [
    {
     "data": {
      "text/html": [
       "<div>\n",
       "<style scoped>\n",
       "    .dataframe tbody tr th:only-of-type {\n",
       "        vertical-align: middle;\n",
       "    }\n",
       "\n",
       "    .dataframe tbody tr th {\n",
       "        vertical-align: top;\n",
       "    }\n",
       "\n",
       "    .dataframe thead th {\n",
       "        text-align: right;\n",
       "    }\n",
       "</style>\n",
       "<table border=\"1\" class=\"dataframe\">\n",
       "  <thead>\n",
       "    <tr style=\"text-align: right;\">\n",
       "      <th></th>\n",
       "      <th>movie</th>\n",
       "      <th>actor</th>\n",
       "    </tr>\n",
       "  </thead>\n",
       "  <tbody>\n",
       "    <tr>\n",
       "      <th>0</th>\n",
       "      <td>Battlestar Galactica</td>\n",
       "      <td>Katee Sackhoff</td>\n",
       "    </tr>\n",
       "    <tr>\n",
       "      <th>1</th>\n",
       "      <td>The Night Agent</td>\n",
       "      <td>Luciane Buchanan</td>\n",
       "    </tr>\n",
       "    <tr>\n",
       "      <th>2</th>\n",
       "      <td>Ali Wong: Baby Cobra</td>\n",
       "      <td>Ali Wong</td>\n",
       "    </tr>\n",
       "    <tr>\n",
       "      <th>3</th>\n",
       "      <td>Super 8</td>\n",
       "      <td>Gabriel Basso</td>\n",
       "    </tr>\n",
       "    <tr>\n",
       "      <th>4</th>\n",
       "      <td>The Queen's Gambit</td>\n",
       "      <td>Anya Taylor-Joy</td>\n",
       "    </tr>\n",
       "  </tbody>\n",
       "</table>\n",
       "</div>"
      ],
      "text/plain": [
       "                  movie             actor\n",
       "0  Battlestar Galactica    Katee Sackhoff\n",
       "1       The Night Agent  Luciane Buchanan\n",
       "2  Ali Wong: Baby Cobra          Ali Wong\n",
       "3               Super 8     Gabriel Basso\n",
       "4    The Queen's Gambit   Anya Taylor-Joy"
      ]
     },
     "execution_count": 19,
     "metadata": {},
     "output_type": "execute_result"
    }
   ],
   "source": [
    "pd.DataFrame({'movie':movie,'actor':actor}).head()"
   ]
  },
  {
   "cell_type": "code",
   "execution_count": null,
   "id": "757f0eab-ac0d-4d88-acee-cc34cdc1a485",
   "metadata": {},
   "outputs": [],
   "source": []
  }
 ],
 "metadata": {
  "kernelspec": {
   "display_name": "Python 3 (ipykernel)",
   "language": "python",
   "name": "python3"
  },
  "language_info": {
   "codemirror_mode": {
    "name": "ipython",
    "version": 3
   },
   "file_extension": ".py",
   "mimetype": "text/x-python",
   "name": "python",
   "nbconvert_exporter": "python",
   "pygments_lexer": "ipython3",
   "version": "3.9.16"
  }
 },
 "nbformat": 4,
 "nbformat_minor": 5
}
