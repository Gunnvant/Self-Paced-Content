{
 "cells": [
  {
   "cell_type": "markdown",
   "id": "276c5175-71bf-432e-a6fd-8cd7c9aadf42",
   "metadata": {},
   "source": [
    "### Multiprocessing"
   ]
  },
  {
   "cell_type": "code",
   "execution_count": 1,
   "id": "1569a1ae-ae04-4b16-8fee-7133811e7c7a",
   "metadata": {
    "tags": []
   },
   "outputs": [],
   "source": [
    "from bs4 import BeautifulSoup\n",
    "import os"
   ]
  },
  {
   "cell_type": "code",
   "execution_count": 2,
   "id": "2d489e2a-6ea7-4073-8cd1-2d79ea970cfb",
   "metadata": {
    "tags": []
   },
   "outputs": [],
   "source": [
    "base_path = \"../html_data\""
   ]
  },
  {
   "cell_type": "code",
   "execution_count": 3,
   "id": "072ba816-6a0b-42d2-9262-942b0bb8bead",
   "metadata": {
    "tags": []
   },
   "outputs": [],
   "source": [
    "file_names = os.listdir(base_path)"
   ]
  },
  {
   "cell_type": "code",
   "execution_count": 4,
   "id": "0300c2cc-9986-4e35-ac63-b8a403367991",
   "metadata": {
    "tags": []
   },
   "outputs": [],
   "source": [
    "file_names = [x for x in file_names if x.endswith(\"html\")]"
   ]
  },
  {
   "cell_type": "code",
   "execution_count": 10,
   "id": "0885a317-0320-49b2-b7f8-559c3e096374",
   "metadata": {
    "tags": []
   },
   "outputs": [],
   "source": [
    "def process_html(base_path,name):\n",
    "    path = os.path.join(base_path,name)\n",
    "    with open(path,'r') as f:\n",
    "        html = f.read()\n",
    "    soup = BeautifulSoup(html,'html.parser')\n",
    "    title = soup.title.text.strip()\n",
    "    name = name.replace('html','txt').replace(\"-\",\"_\")\n",
    "    try:\n",
    "        with open(name,'w') as f:\n",
    "            f.write(title)\n",
    "    except:\n",
    "        print(f\"{name} could not be written. Its content is {title}\")"
   ]
  },
  {
   "cell_type": "code",
   "execution_count": 11,
   "id": "f08d5047-76f5-4cf5-9fd8-4dcc1c952c58",
   "metadata": {
    "tags": []
   },
   "outputs": [
    {
     "name": "stdout",
     "output_type": "stream",
     "text": [
      "3.79 s ± 21.8 ms per loop (mean ± std. dev. of 7 runs, 1 loop each)\n"
     ]
    }
   ],
   "source": [
    "%%timeit\n",
    "for name in file_names:\n",
    "    process_html(base_path,name)"
   ]
  },
  {
   "cell_type": "code",
   "execution_count": 14,
   "id": "ebc0808e-39cc-423c-9fbc-a9e160caadf1",
   "metadata": {
    "tags": []
   },
   "outputs": [
    {
     "name": "stdout",
     "output_type": "stream",
     "text": [
      "zsh:1: no matches found: *.txt\n"
     ]
    }
   ],
   "source": [
    "!rm *.txt"
   ]
  },
  {
   "cell_type": "code",
   "execution_count": null,
   "id": "4483406b-4b4d-4eca-afaf-20ff9e640bba",
   "metadata": {},
   "outputs": [],
   "source": []
  }
 ],
 "metadata": {
  "kernelspec": {
   "display_name": "Python 3 (ipykernel)",
   "language": "python",
   "name": "python3"
  },
  "language_info": {
   "codemirror_mode": {
    "name": "ipython",
    "version": 3
   },
   "file_extension": ".py",
   "mimetype": "text/x-python",
   "name": "python",
   "nbconvert_exporter": "python",
   "pygments_lexer": "ipython3",
   "version": "3.9.16"
  }
 },
 "nbformat": 4,
 "nbformat_minor": 5
}
