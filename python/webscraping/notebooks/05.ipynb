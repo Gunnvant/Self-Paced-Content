{
 "cells": [
  {
   "cell_type": "code",
   "execution_count": 1,
   "id": "ec4cb50a-a70e-410f-845b-2fcae6332d48",
   "metadata": {
    "tags": []
   },
   "outputs": [],
   "source": [
    "from selenium import webdriver\n",
    "from webdriver_manager.chrome import ChromeDriverManager\n",
    "import requests"
   ]
  },
  {
   "cell_type": "code",
   "execution_count": 3,
   "id": "d043a94d-e1ae-4219-a8eb-ab1df40b07c0",
   "metadata": {},
   "outputs": [],
   "source": [
    "#browser.close()"
   ]
  },
  {
   "cell_type": "code",
   "execution_count": 4,
   "id": "67f98df9-337f-4c71-937c-24ca9beeaed6",
   "metadata": {},
   "outputs": [],
   "source": [
    "url = 'https://www.oyorooms.com/hotels-in-mg-road-bangalore/'"
   ]
  },
  {
   "cell_type": "code",
   "execution_count": 5,
   "id": "87c4314a-7347-4661-988d-ae860a7b475a",
   "metadata": {
    "tags": []
   },
   "outputs": [],
   "source": [
    "html = requests.get(url).text"
   ]
  },
  {
   "cell_type": "code",
   "execution_count": 6,
   "id": "6b06c61e-5b21-4a36-9075-f7d888cb7b12",
   "metadata": {
    "tags": []
   },
   "outputs": [
    {
     "data": {
      "text/plain": [
       "'<html>\\r\\n<head><title>403 Forbidden</title></head>\\r\\n<body>\\r\\n<center><h1>403 Forbidden</h1></center>\\r\\n<hr><center>nginx</center>\\r\\n</body>\\r\\n</html>\\r\\n'"
      ]
     },
     "execution_count": 6,
     "metadata": {},
     "output_type": "execute_result"
    }
   ],
   "source": [
    "html ### Some times one can't access webpages by just doing a get requests."
   ]
  },
  {
   "cell_type": "code",
   "execution_count": 7,
   "id": "58dfabaf-91c6-4833-b1f9-cfc170b9f44e",
   "metadata": {
    "tags": []
   },
   "outputs": [
    {
     "name": "stderr",
     "output_type": "stream",
     "text": [
      "[WDM] - Downloading: 100%|███████████████████████████████████████████████████████| 8.04M/8.04M [00:00<00:00, 57.5MB/s]\n",
      "/var/folders/7h/01sjg2sx6tl3y72r2klm24c80000gn/T/ipykernel_72666/893479022.py:1: DeprecationWarning: executable_path has been deprecated, please pass in a Service object\n",
      "  browser = webdriver.Chrome(ChromeDriverManager().install())\n"
     ]
    }
   ],
   "source": [
    "browser = webdriver.Chrome(ChromeDriverManager().install())"
   ]
  },
  {
   "cell_type": "code",
   "execution_count": 8,
   "id": "8ee415bf-f016-41c0-88db-700a7dbf8c4d",
   "metadata": {
    "tags": []
   },
   "outputs": [],
   "source": [
    "browser.get(url)"
   ]
  },
  {
   "cell_type": "code",
   "execution_count": 9,
   "id": "b207beaa-00e2-48a9-ab5b-58a4c10488cc",
   "metadata": {
    "tags": []
   },
   "outputs": [],
   "source": [
    "html = browser.page_source"
   ]
  },
  {
   "cell_type": "code",
   "execution_count": 10,
   "id": "a2abb4ca-fb09-499e-a178-6c5e897b6f1c",
   "metadata": {
    "tags": []
   },
   "outputs": [],
   "source": [
    "from bs4 import BeautifulSoup"
   ]
  },
  {
   "cell_type": "code",
   "execution_count": 11,
   "id": "d71606a0-08fd-4c28-a2c8-2dfca9a5f4b4",
   "metadata": {
    "tags": []
   },
   "outputs": [],
   "source": [
    "soup = BeautifulSoup(html,'html.parser')"
   ]
  },
  {
   "cell_type": "code",
   "execution_count": 12,
   "id": "c6e1204b-6070-461d-80fe-abc545b4465b",
   "metadata": {
    "tags": []
   },
   "outputs": [
    {
     "name": "stdout",
     "output_type": "stream",
     "text": [
      "₹1526\n",
      "₹1581\n",
      "₹1624\n",
      "₹1260\n",
      "₹1500\n",
      "₹626\n",
      "₹907\n",
      "₹576\n",
      "₹511\n",
      "₹1669\n",
      "₹1533\n",
      "₹856\n",
      "₹988\n",
      "₹914\n",
      "₹1334\n",
      "₹576\n",
      "₹1253\n",
      "₹2320\n",
      "₹2341\n",
      "₹714\n"
     ]
    }
   ],
   "source": [
    "for p in soup.find_all('span',class_='listingPrice__finalPrice'):\n",
    "    print(p.text)"
   ]
  },
  {
   "cell_type": "code",
   "execution_count": 13,
   "id": "4a6927af-7cae-414c-a33a-1b5125e73e58",
   "metadata": {},
   "outputs": [],
   "source": [
    "browser.close()"
   ]
  },
  {
   "cell_type": "code",
   "execution_count": null,
   "id": "332cd9cd-1953-4112-a73c-47c1e2b000b9",
   "metadata": {},
   "outputs": [],
   "source": []
  }
 ],
 "metadata": {
  "kernelspec": {
   "display_name": "Python 3 (ipykernel)",
   "language": "python",
   "name": "python3"
  },
  "language_info": {
   "codemirror_mode": {
    "name": "ipython",
    "version": 3
   },
   "file_extension": ".py",
   "mimetype": "text/x-python",
   "name": "python",
   "nbconvert_exporter": "python",
   "pygments_lexer": "ipython3",
   "version": "3.9.16"
  }
 },
 "nbformat": 4,
 "nbformat_minor": 5
}
