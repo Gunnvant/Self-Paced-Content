{
 "cells": [
  {
   "cell_type": "code",
   "execution_count": 1,
   "id": "75806827-3658-4cb1-ab80-dfc910119ace",
   "metadata": {
    "tags": []
   },
   "outputs": [],
   "source": [
    "import pandas as pd\n",
    "from bs4 import BeautifulSoup"
   ]
  },
  {
   "cell_type": "code",
   "execution_count": 2,
   "id": "dbb48c1f-c4b2-41d9-885f-891f5f19857b",
   "metadata": {
    "tags": []
   },
   "outputs": [],
   "source": [
    "with open(\"../data/table.html\") as f:\n",
    "    d = f.read()\n",
    "soup = BeautifulSoup(d,'html.parser')"
   ]
  },
  {
   "cell_type": "code",
   "execution_count": 3,
   "id": "ea6dd827-fc55-470d-bd07-5016e110c803",
   "metadata": {
    "tags": []
   },
   "outputs": [
    {
     "data": {
      "text/plain": [
       "<table>\n",
       "<tr>\n",
       "<th>Company</th>\n",
       "<th>Contact</th>\n",
       "<th>Country</th>\n",
       "</tr>\n",
       "<tr>\n",
       "<td>Alfreds Futterkiste</td>\n",
       "<td>Maria Anders</td>\n",
       "<td>Germany</td>\n",
       "</tr>\n",
       "<tr>\n",
       "<td>Centro comercial Moctezuma</td>\n",
       "<td>Francisco Chang</td>\n",
       "<td>Mexico</td>\n",
       "</tr>\n",
       "</table>"
      ]
     },
     "execution_count": 3,
     "metadata": {},
     "output_type": "execute_result"
    }
   ],
   "source": [
    "soup"
   ]
  },
  {
   "cell_type": "code",
   "execution_count": 4,
   "id": "b3b7c2ae-9d28-4025-8678-fc66a3f67d10",
   "metadata": {
    "tags": []
   },
   "outputs": [
    {
     "data": {
      "text/plain": [
       "[<tr>\n",
       " <th>Company</th>\n",
       " <th>Contact</th>\n",
       " <th>Country</th>\n",
       " </tr>,\n",
       " <tr>\n",
       " <td>Alfreds Futterkiste</td>\n",
       " <td>Maria Anders</td>\n",
       " <td>Germany</td>\n",
       " </tr>,\n",
       " <tr>\n",
       " <td>Centro comercial Moctezuma</td>\n",
       " <td>Francisco Chang</td>\n",
       " <td>Mexico</td>\n",
       " </tr>]"
      ]
     },
     "execution_count": 4,
     "metadata": {},
     "output_type": "execute_result"
    }
   ],
   "source": [
    "### How can you parse the table?\n",
    "soup.find_all(\"tr\") ## this gives you each row, including the header row"
   ]
  },
  {
   "cell_type": "code",
   "execution_count": 5,
   "id": "c4ce6b10-8b34-43df-8025-c09602ad015c",
   "metadata": {
    "tags": []
   },
   "outputs": [
    {
     "data": {
      "text/plain": [
       "[<tr>\n",
       " <td>Alfreds Futterkiste</td>\n",
       " <td>Maria Anders</td>\n",
       " <td>Germany</td>\n",
       " </tr>,\n",
       " <tr>\n",
       " <td>Centro comercial Moctezuma</td>\n",
       " <td>Francisco Chang</td>\n",
       " <td>Mexico</td>\n",
       " </tr>]"
      ]
     },
     "execution_count": 5,
     "metadata": {},
     "output_type": "execute_result"
    }
   ],
   "source": [
    "soup.find_all(\"tr\")[1:] ## this excludes the header row, within each row are column values for that row"
   ]
  },
  {
   "cell_type": "code",
   "execution_count": 6,
   "id": "b4b409b7-347d-4071-98f8-38fb5d5d25aa",
   "metadata": {
    "tags": []
   },
   "outputs": [
    {
     "data": {
      "text/plain": [
       "<tr>\n",
       "<td>Alfreds Futterkiste</td>\n",
       "<td>Maria Anders</td>\n",
       "<td>Germany</td>\n",
       "</tr>"
      ]
     },
     "execution_count": 6,
     "metadata": {},
     "output_type": "execute_result"
    }
   ],
   "source": [
    "soup.find_all(\"tr\")[1:][0] ## column values in the first row"
   ]
  },
  {
   "cell_type": "code",
   "execution_count": 7,
   "id": "304d355b-4a93-4604-80dd-361a89b48fdd",
   "metadata": {
    "tags": []
   },
   "outputs": [
    {
     "data": {
      "text/plain": [
       "[<td>Alfreds Futterkiste</td>, <td>Maria Anders</td>, <td>Germany</td>]"
      ]
     },
     "execution_count": 7,
     "metadata": {},
     "output_type": "execute_result"
    }
   ],
   "source": [
    "soup.find_all(\"tr\")[1:][0].find_all(\"td\")"
   ]
  },
  {
   "cell_type": "code",
   "execution_count": 8,
   "id": "14c9df00-67a7-4cd6-a28c-e92cb6bbe205",
   "metadata": {
    "tags": []
   },
   "outputs": [
    {
     "data": {
      "text/plain": [
       "['Alfreds Futterkiste', 'Maria Anders', 'Germany']"
      ]
     },
     "execution_count": 8,
     "metadata": {},
     "output_type": "execute_result"
    }
   ],
   "source": [
    "[x.text for x in soup.find_all(\"tr\")[1:][0].find_all(\"td\")]## row 1 values, we can loop over and extract all the row values"
   ]
  },
  {
   "cell_type": "code",
   "execution_count": 12,
   "id": "dcff50a8-450f-4f07-8f06-1e8c8674f714",
   "metadata": {
    "tags": []
   },
   "outputs": [],
   "source": [
    "dat=[]\n",
    "for row in soup.find_all(\"tr\")[1:]:\n",
    "    vals = row.find_all(\"td\")\n",
    "    vals = [x.text for x in vals]\n",
    "    dat.append(vals)"
   ]
  },
  {
   "cell_type": "code",
   "execution_count": 13,
   "id": "7cb2e37e-9ec1-4a81-a575-a843f6bbc828",
   "metadata": {
    "tags": []
   },
   "outputs": [
    {
     "data": {
      "text/html": [
       "<div>\n",
       "<style scoped>\n",
       "    .dataframe tbody tr th:only-of-type {\n",
       "        vertical-align: middle;\n",
       "    }\n",
       "\n",
       "    .dataframe tbody tr th {\n",
       "        vertical-align: top;\n",
       "    }\n",
       "\n",
       "    .dataframe thead th {\n",
       "        text-align: right;\n",
       "    }\n",
       "</style>\n",
       "<table border=\"1\" class=\"dataframe\">\n",
       "  <thead>\n",
       "    <tr style=\"text-align: right;\">\n",
       "      <th></th>\n",
       "      <th>0</th>\n",
       "      <th>1</th>\n",
       "      <th>2</th>\n",
       "    </tr>\n",
       "  </thead>\n",
       "  <tbody>\n",
       "    <tr>\n",
       "      <th>0</th>\n",
       "      <td>Alfreds Futterkiste</td>\n",
       "      <td>Maria Anders</td>\n",
       "      <td>Germany</td>\n",
       "    </tr>\n",
       "    <tr>\n",
       "      <th>1</th>\n",
       "      <td>Centro comercial Moctezuma</td>\n",
       "      <td>Francisco Chang</td>\n",
       "      <td>Mexico</td>\n",
       "    </tr>\n",
       "  </tbody>\n",
       "</table>\n",
       "</div>"
      ],
      "text/plain": [
       "                            0                1        2\n",
       "0         Alfreds Futterkiste     Maria Anders  Germany\n",
       "1  Centro comercial Moctezuma  Francisco Chang   Mexico"
      ]
     },
     "execution_count": 13,
     "metadata": {},
     "output_type": "execute_result"
    }
   ],
   "source": [
    "pd.DataFrame(dat)"
   ]
  },
  {
   "cell_type": "code",
   "execution_count": 14,
   "id": "c6746e67-b2d8-4244-89f3-8a47bf3a6dc3",
   "metadata": {
    "tags": []
   },
   "outputs": [
    {
     "data": {
      "text/plain": [
       "[<th>Company</th>, <th>Contact</th>, <th>Country</th>]"
      ]
     },
     "execution_count": 14,
     "metadata": {},
     "output_type": "execute_result"
    }
   ],
   "source": [
    "## How can we get column names?\n",
    "soup.find_all(\"th\")"
   ]
  },
  {
   "cell_type": "code",
   "execution_count": 15,
   "id": "e5dc101f-6f9f-4623-b6b4-cd5eb9259062",
   "metadata": {
    "tags": []
   },
   "outputs": [],
   "source": [
    "cols = [x.text for x in soup.find_all(\"th\")]"
   ]
  },
  {
   "cell_type": "code",
   "execution_count": 16,
   "id": "6e68c686-8f07-4738-81a2-43d23f8efc6e",
   "metadata": {
    "tags": []
   },
   "outputs": [
    {
     "data": {
      "text/html": [
       "<div>\n",
       "<style scoped>\n",
       "    .dataframe tbody tr th:only-of-type {\n",
       "        vertical-align: middle;\n",
       "    }\n",
       "\n",
       "    .dataframe tbody tr th {\n",
       "        vertical-align: top;\n",
       "    }\n",
       "\n",
       "    .dataframe thead th {\n",
       "        text-align: right;\n",
       "    }\n",
       "</style>\n",
       "<table border=\"1\" class=\"dataframe\">\n",
       "  <thead>\n",
       "    <tr style=\"text-align: right;\">\n",
       "      <th></th>\n",
       "      <th>Company</th>\n",
       "      <th>Contact</th>\n",
       "      <th>Country</th>\n",
       "    </tr>\n",
       "  </thead>\n",
       "  <tbody>\n",
       "    <tr>\n",
       "      <th>0</th>\n",
       "      <td>Alfreds Futterkiste</td>\n",
       "      <td>Maria Anders</td>\n",
       "      <td>Germany</td>\n",
       "    </tr>\n",
       "    <tr>\n",
       "      <th>1</th>\n",
       "      <td>Centro comercial Moctezuma</td>\n",
       "      <td>Francisco Chang</td>\n",
       "      <td>Mexico</td>\n",
       "    </tr>\n",
       "  </tbody>\n",
       "</table>\n",
       "</div>"
      ],
      "text/plain": [
       "                      Company          Contact  Country\n",
       "0         Alfreds Futterkiste     Maria Anders  Germany\n",
       "1  Centro comercial Moctezuma  Francisco Chang   Mexico"
      ]
     },
     "execution_count": 16,
     "metadata": {},
     "output_type": "execute_result"
    }
   ],
   "source": [
    "pd.DataFrame(dat,columns=cols)"
   ]
  },
  {
   "cell_type": "code",
   "execution_count": null,
   "id": "b90f849f-b08e-4d63-a777-9f4bf0088168",
   "metadata": {},
   "outputs": [],
   "source": []
  }
 ],
 "metadata": {
  "kernelspec": {
   "display_name": "Python 3 (ipykernel)",
   "language": "python",
   "name": "python3"
  },
  "language_info": {
   "codemirror_mode": {
    "name": "ipython",
    "version": 3
   },
   "file_extension": ".py",
   "mimetype": "text/x-python",
   "name": "python",
   "nbconvert_exporter": "python",
   "pygments_lexer": "ipython3",
   "version": "3.9.16"
  }
 },
 "nbformat": 4,
 "nbformat_minor": 5
}
