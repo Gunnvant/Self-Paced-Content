{
 "cells": [
  {
   "cell_type": "markdown",
   "id": "c13358d3-61b8-4859-9055-a893740473b3",
   "metadata": {},
   "source": [
    "### Getting data from static websites"
   ]
  },
  {
   "cell_type": "code",
   "execution_count": 1,
   "id": "d6b8d9e8-ebef-495f-b627-cfa9ac8b9ffa",
   "metadata": {
    "tags": []
   },
   "outputs": [],
   "source": [
    "import requests"
   ]
  },
  {
   "cell_type": "code",
   "execution_count": 2,
   "id": "a722232f-5f6c-448a-985d-f6effafc906b",
   "metadata": {
    "tags": []
   },
   "outputs": [],
   "source": [
    "url = \"https://www.goodreads.com/quotes/tag/funny\""
   ]
  },
  {
   "cell_type": "code",
   "execution_count": 3,
   "id": "45674f6b-81a6-4394-8ca3-ee9994c8547e",
   "metadata": {
    "tags": []
   },
   "outputs": [],
   "source": [
    "html = requests.get(url).text"
   ]
  },
  {
   "cell_type": "code",
   "execution_count": 4,
   "id": "f64c4d06-0175-49d0-8103-16ebe7648a61",
   "metadata": {
    "tags": []
   },
   "outputs": [],
   "source": [
    "from bs4 import BeautifulSoup"
   ]
  },
  {
   "cell_type": "code",
   "execution_count": 5,
   "id": "1eab7012-8570-4b51-9dc3-f226c8e70481",
   "metadata": {
    "tags": []
   },
   "outputs": [],
   "source": [
    "soup = BeautifulSoup(html,'html.parser')"
   ]
  },
  {
   "cell_type": "code",
   "execution_count": 8,
   "id": "d899225c-92dc-4278-a7a2-0322825b4530",
   "metadata": {
    "tags": []
   },
   "outputs": [
    {
     "data": {
      "text/plain": [
       "'Chris Rock'"
      ]
     },
     "execution_count": 8,
     "metadata": {},
     "output_type": "execute_result"
    }
   ],
   "source": [
    "soup.find_all(\"div\",class_=\"quoteText\")[0].span.text.strip()"
   ]
  },
  {
   "cell_type": "code",
   "execution_count": 9,
   "id": "e2f565dc-d8ea-4b68-bfd9-0abb78319702",
   "metadata": {},
   "outputs": [],
   "source": [
    "authors = []\n",
    "for row in soup.find_all(\"div\",class_=\"quoteText\"):\n",
    "    authors.append(row.span.text.strip())"
   ]
  },
  {
   "cell_type": "code",
   "execution_count": 15,
   "id": "1a2c05ff-abaa-4f1f-ba4f-0756d58ba3a4",
   "metadata": {
    "tags": []
   },
   "outputs": [
    {
     "data": {
      "text/plain": [
       "[<a href=\"/quotes/tag/comedy\">comedy</a>,\n",
       " <a href=\"/quotes/tag/everyday-life\">everyday-life</a>,\n",
       " <a href=\"/quotes/tag/funny\">funny</a>,\n",
       " <a href=\"/quotes/tag/humor\">humor</a>,\n",
       " <a href=\"/quotes/tag/observational-comedy\">observational-comedy</a>]"
      ]
     },
     "execution_count": 15,
     "metadata": {},
     "output_type": "execute_result"
    }
   ],
   "source": [
    "soup.find_all(\"div\",class_=\"quoteFooter\")[0].div.find_all(\"a\")"
   ]
  },
  {
   "cell_type": "code",
   "execution_count": 16,
   "id": "7ba01643-8501-4773-bf31-6a1166100877",
   "metadata": {
    "tags": []
   },
   "outputs": [],
   "source": [
    "tags = []\n",
    "for row in soup.find_all(\"div\",class_=\"quoteFooter\"):\n",
    "    t = \",\".join([x.text for x in row.div.find_all(\"a\")])\n",
    "    tags.append(t)"
   ]
  },
  {
   "cell_type": "code",
   "execution_count": 18,
   "id": "73b7d21a-58bb-4734-944d-719fecdd3641",
   "metadata": {
    "tags": []
   },
   "outputs": [],
   "source": [
    "import pandas as pd"
   ]
  },
  {
   "cell_type": "code",
   "execution_count": 20,
   "id": "c54f3531-07e9-44d7-b811-a1b324c1bec7",
   "metadata": {
    "tags": []
   },
   "outputs": [],
   "source": [
    "t = pd.DataFrame({'authors':authors,'tags':tags})"
   ]
  },
  {
   "cell_type": "code",
   "execution_count": 21,
   "id": "efbbb9b9-38cb-452b-9afa-323634c109c3",
   "metadata": {
    "tags": []
   },
   "outputs": [
    {
     "data": {
      "text/html": [
       "<div>\n",
       "<style scoped>\n",
       "    .dataframe tbody tr th:only-of-type {\n",
       "        vertical-align: middle;\n",
       "    }\n",
       "\n",
       "    .dataframe tbody tr th {\n",
       "        vertical-align: top;\n",
       "    }\n",
       "\n",
       "    .dataframe thead th {\n",
       "        text-align: right;\n",
       "    }\n",
       "</style>\n",
       "<table border=\"1\" class=\"dataframe\">\n",
       "  <thead>\n",
       "    <tr style=\"text-align: right;\">\n",
       "      <th></th>\n",
       "      <th>authors</th>\n",
       "      <th>tags</th>\n",
       "    </tr>\n",
       "  </thead>\n",
       "  <tbody>\n",
       "    <tr>\n",
       "      <th>0</th>\n",
       "      <td>Chris Rock</td>\n",
       "      <td>comedy,everyday-life,funny,humor,observational...</td>\n",
       "    </tr>\n",
       "    <tr>\n",
       "      <th>1</th>\n",
       "      <td>Suzanne Collins,</td>\n",
       "      <td>boggs,finnick,funny,humour,hunger-games,katnis...</td>\n",
       "    </tr>\n",
       "    <tr>\n",
       "      <th>2</th>\n",
       "      <td>Billy Sunday,</td>\n",
       "      <td>automobile,car,funny,humor,religious</td>\n",
       "    </tr>\n",
       "    <tr>\n",
       "      <th>3</th>\n",
       "      <td>George Carlin</td>\n",
       "      <td>funny,humanity,humor</td>\n",
       "    </tr>\n",
       "    <tr>\n",
       "      <th>4</th>\n",
       "      <td>Phyllis Diller</td>\n",
       "      <td>anger,funny,sleep</td>\n",
       "    </tr>\n",
       "  </tbody>\n",
       "</table>\n",
       "</div>"
      ],
      "text/plain": [
       "            authors                                               tags\n",
       "0        Chris Rock  comedy,everyday-life,funny,humor,observational...\n",
       "1  Suzanne Collins,  boggs,finnick,funny,humour,hunger-games,katnis...\n",
       "2     Billy Sunday,               automobile,car,funny,humor,religious\n",
       "3     George Carlin                               funny,humanity,humor\n",
       "4    Phyllis Diller                                  anger,funny,sleep"
      ]
     },
     "execution_count": 21,
     "metadata": {},
     "output_type": "execute_result"
    }
   ],
   "source": [
    "t.head()"
   ]
  },
  {
   "cell_type": "code",
   "execution_count": null,
   "id": "43e4604e-805c-4bf9-95d8-afae967aaf1b",
   "metadata": {},
   "outputs": [],
   "source": []
  }
 ],
 "metadata": {
  "kernelspec": {
   "display_name": "Python 3 (ipykernel)",
   "language": "python",
   "name": "python3"
  },
  "language_info": {
   "codemirror_mode": {
    "name": "ipython",
    "version": 3
   },
   "file_extension": ".py",
   "mimetype": "text/x-python",
   "name": "python",
   "nbconvert_exporter": "python",
   "pygments_lexer": "ipython3",
   "version": "3.9.16"
  }
 },
 "nbformat": 4,
 "nbformat_minor": 5
}
