{
 "cells": [
  {
   "cell_type": "markdown",
   "id": "1c67cea2-d330-463c-aaa0-5aea9b218476",
   "metadata": {
    "tags": []
   },
   "source": [
    "### Multithreading"
   ]
  },
  {
   "cell_type": "code",
   "execution_count": 1,
   "id": "5d292671-d5b5-41ee-9d00-3d6e68b99eb9",
   "metadata": {
    "tags": []
   },
   "outputs": [],
   "source": [
    "import threading\n",
    "import time"
   ]
  },
  {
   "cell_type": "code",
   "execution_count": 2,
   "id": "8795b1f9-a44f-4c68-8d4f-12cb4525fb62",
   "metadata": {
    "tags": []
   },
   "outputs": [],
   "source": [
    "def call_url():\n",
    "    time.sleep(0.5)\n",
    "    print(\"url\")"
   ]
  },
  {
   "cell_type": "code",
   "execution_count": 3,
   "id": "9046eddf-91e9-472b-a912-964f890e0bba",
   "metadata": {
    "tags": []
   },
   "outputs": [
    {
     "name": "stdout",
     "output_type": "stream",
     "text": [
      "url\n",
      "url\n",
      "url\n",
      "url\n",
      "2.015895128250122\n"
     ]
    }
   ],
   "source": [
    "t1 = time.time()\n",
    "for i in range(4):\n",
    "    call_url()\n",
    "t2 = time.time()\n",
    "print(t2-t1)"
   ]
  },
  {
   "cell_type": "code",
   "execution_count": 4,
   "id": "dab29718-d924-4d29-9739-018519c178ee",
   "metadata": {
    "tags": []
   },
   "outputs": [],
   "source": [
    "th1 = threading.Thread(target=call_url)\n",
    "th2 = threading.Thread(target=call_url)\n",
    "th3 = threading.Thread(target=call_url)\n",
    "th4 = threading.Thread(target=call_url)"
   ]
  },
  {
   "cell_type": "code",
   "execution_count": 5,
   "id": "7aa56f9a-0564-46d7-bf8c-054b3d7e1c68",
   "metadata": {
    "tags": []
   },
   "outputs": [],
   "source": [
    "threads = [th1,th2,th3,th4]"
   ]
  },
  {
   "cell_type": "code",
   "execution_count": 6,
   "id": "a6fb4df7-c891-4378-ae26-233c892ac8e5",
   "metadata": {
    "tags": []
   },
   "outputs": [
    {
     "name": "stdout",
     "output_type": "stream",
     "text": [
      "urlurl\n",
      "url\n",
      "url\n",
      "\n",
      "0.5077462196350098\n"
     ]
    }
   ],
   "source": [
    "t1 = time.time()\n",
    "for thread in threads:\n",
    "    thread.start()\n",
    "for thread in threads:\n",
    "    thread.join()\n",
    "t2 = time.time()\n",
    "print(t2-t1)"
   ]
  },
  {
   "cell_type": "code",
   "execution_count": 7,
   "id": "8dcfb4ed-023e-4162-8575-968750c6b3be",
   "metadata": {},
   "outputs": [],
   "source": [
    "import pandas as pd\n",
    "import requests"
   ]
  },
  {
   "cell_type": "code",
   "execution_count": 8,
   "id": "243fd448-046f-4dde-9fbd-d3643574b6fd",
   "metadata": {
    "tags": []
   },
   "outputs": [],
   "source": [
    "urls = pd.read_csv(\"../data/urls.csv\")"
   ]
  },
  {
   "cell_type": "code",
   "execution_count": 9,
   "id": "125dc972-96bf-4ccf-a449-76117c1103a7",
   "metadata": {
    "tags": []
   },
   "outputs": [
    {
     "data": {
      "text/html": [
       "<div>\n",
       "<style scoped>\n",
       "    .dataframe tbody tr th:only-of-type {\n",
       "        vertical-align: middle;\n",
       "    }\n",
       "\n",
       "    .dataframe tbody tr th {\n",
       "        vertical-align: top;\n",
       "    }\n",
       "\n",
       "    .dataframe thead th {\n",
       "        text-align: right;\n",
       "    }\n",
       "</style>\n",
       "<table border=\"1\" class=\"dataframe\">\n",
       "  <thead>\n",
       "    <tr style=\"text-align: right;\">\n",
       "      <th></th>\n",
       "      <th>urls</th>\n",
       "    </tr>\n",
       "  </thead>\n",
       "  <tbody>\n",
       "    <tr>\n",
       "      <th>0</th>\n",
       "      <td>https://gutendex.com/books/?page=1</td>\n",
       "    </tr>\n",
       "    <tr>\n",
       "      <th>1</th>\n",
       "      <td>https://gutendex.com/books/?page=2</td>\n",
       "    </tr>\n",
       "    <tr>\n",
       "      <th>2</th>\n",
       "      <td>https://gutendex.com/books/?page=3</td>\n",
       "    </tr>\n",
       "    <tr>\n",
       "      <th>3</th>\n",
       "      <td>https://gutendex.com/books/?page=4</td>\n",
       "    </tr>\n",
       "    <tr>\n",
       "      <th>4</th>\n",
       "      <td>https://gutendex.com/books/?page=5</td>\n",
       "    </tr>\n",
       "  </tbody>\n",
       "</table>\n",
       "</div>"
      ],
      "text/plain": [
       "                                 urls\n",
       "0  https://gutendex.com/books/?page=1\n",
       "1  https://gutendex.com/books/?page=2\n",
       "2  https://gutendex.com/books/?page=3\n",
       "3  https://gutendex.com/books/?page=4\n",
       "4  https://gutendex.com/books/?page=5"
      ]
     },
     "execution_count": 9,
     "metadata": {},
     "output_type": "execute_result"
    }
   ],
   "source": [
    "urls.head()"
   ]
  },
  {
   "cell_type": "code",
   "execution_count": 10,
   "id": "525a9f44-e93e-4e87-afde-a235a16db61b",
   "metadata": {
    "tags": []
   },
   "outputs": [
    {
     "name": "stdout",
     "output_type": "stream",
     "text": [
      "18.711353063583374\n"
     ]
    }
   ],
   "source": [
    "t1 = time.time()\n",
    "for u in urls.urls[0:10]:\n",
    "    requests.get(u).json()\n",
    "t2 = time.time()\n",
    "print(t2-t1)"
   ]
  },
  {
   "cell_type": "code",
   "execution_count": 11,
   "id": "8bd37496-3938-47cb-b2ad-aefd63f16037",
   "metadata": {
    "tags": []
   },
   "outputs": [],
   "source": [
    "def fetch_url(url):\n",
    "    resp = requests.get(url)"
   ]
  },
  {
   "cell_type": "code",
   "execution_count": 12,
   "id": "62ac5e5f-92bd-4cda-932c-b1026c516fd6",
   "metadata": {
    "tags": []
   },
   "outputs": [],
   "source": [
    "threads = [threading.Thread(target=fetch_url, args=(url,)) for url in urls.urls[0:10]]"
   ]
  },
  {
   "cell_type": "code",
   "execution_count": 13,
   "id": "eb9db141-0763-4eb0-9ef5-6adfd1f61d31",
   "metadata": {
    "tags": []
   },
   "outputs": [
    {
     "name": "stdout",
     "output_type": "stream",
     "text": [
      "9.526576280593872\n"
     ]
    }
   ],
   "source": [
    "t1 = time.time()\n",
    "for thread in threads:\n",
    "    thread.start()\n",
    "for thread in threads:\n",
    "    thread.join()\n",
    "t2 = time.time()\n",
    "print(t2-t1)"
   ]
  },
  {
   "cell_type": "code",
   "execution_count": null,
   "id": "3c661a50-7400-4772-bf74-9596b2469622",
   "metadata": {},
   "outputs": [],
   "source": []
  }
 ],
 "metadata": {
  "kernelspec": {
   "display_name": "Python 3 (ipykernel)",
   "language": "python",
   "name": "python3"
  },
  "language_info": {
   "codemirror_mode": {
    "name": "ipython",
    "version": 3
   },
   "file_extension": ".py",
   "mimetype": "text/x-python",
   "name": "python",
   "nbconvert_exporter": "python",
   "pygments_lexer": "ipython3",
   "version": "3.9.16"
  }
 },
 "nbformat": 4,
 "nbformat_minor": 5
}
