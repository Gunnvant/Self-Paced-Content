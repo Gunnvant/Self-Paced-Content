{
 "cells": [
  {
   "cell_type": "markdown",
   "id": "1c67cea2-d330-463c-aaa0-5aea9b218476",
   "metadata": {
    "tags": []
   },
   "source": [
    "### Multithreading"
   ]
  },
  {
   "cell_type": "code",
   "execution_count": null,
   "id": "8dcfb4ed-023e-4162-8575-968750c6b3be",
   "metadata": {},
   "outputs": [],
   "source": [
    "import pandas as pd\n",
    "import requests"
   ]
  },
  {
   "cell_type": "code",
   "execution_count": 2,
   "id": "243fd448-046f-4dde-9fbd-d3643574b6fd",
   "metadata": {
    "tags": []
   },
   "outputs": [],
   "source": [
    "urls = pd.read_csv(\"../data/urls.csv\")"
   ]
  },
  {
   "cell_type": "code",
   "execution_count": 3,
   "id": "125dc972-96bf-4ccf-a449-76117c1103a7",
   "metadata": {
    "tags": []
   },
   "outputs": [
    {
     "data": {
      "text/html": [
       "<div>\n",
       "<style scoped>\n",
       "    .dataframe tbody tr th:only-of-type {\n",
       "        vertical-align: middle;\n",
       "    }\n",
       "\n",
       "    .dataframe tbody tr th {\n",
       "        vertical-align: top;\n",
       "    }\n",
       "\n",
       "    .dataframe thead th {\n",
       "        text-align: right;\n",
       "    }\n",
       "</style>\n",
       "<table border=\"1\" class=\"dataframe\">\n",
       "  <thead>\n",
       "    <tr style=\"text-align: right;\">\n",
       "      <th></th>\n",
       "      <th>urls</th>\n",
       "    </tr>\n",
       "  </thead>\n",
       "  <tbody>\n",
       "    <tr>\n",
       "      <th>0</th>\n",
       "      <td>https://gutendex.com/books/?page=1</td>\n",
       "    </tr>\n",
       "    <tr>\n",
       "      <th>1</th>\n",
       "      <td>https://gutendex.com/books/?page=2</td>\n",
       "    </tr>\n",
       "    <tr>\n",
       "      <th>2</th>\n",
       "      <td>https://gutendex.com/books/?page=3</td>\n",
       "    </tr>\n",
       "    <tr>\n",
       "      <th>3</th>\n",
       "      <td>https://gutendex.com/books/?page=4</td>\n",
       "    </tr>\n",
       "    <tr>\n",
       "      <th>4</th>\n",
       "      <td>https://gutendex.com/books/?page=5</td>\n",
       "    </tr>\n",
       "  </tbody>\n",
       "</table>\n",
       "</div>"
      ],
      "text/plain": [
       "                                 urls\n",
       "0  https://gutendex.com/books/?page=1\n",
       "1  https://gutendex.com/books/?page=2\n",
       "2  https://gutendex.com/books/?page=3\n",
       "3  https://gutendex.com/books/?page=4\n",
       "4  https://gutendex.com/books/?page=5"
      ]
     },
     "execution_count": 3,
     "metadata": {},
     "output_type": "execute_result"
    }
   ],
   "source": [
    "urls.head()"
   ]
  },
  {
   "cell_type": "code",
   "execution_count": 4,
   "id": "525a9f44-e93e-4e87-afde-a235a16db61b",
   "metadata": {
    "tags": []
   },
   "outputs": [
    {
     "name": "stdout",
     "output_type": "stream",
     "text": [
      "CPU times: user 395 ms, sys: 29.1 ms, total: 424 ms\n",
      "Wall time: 19.2 s\n"
     ]
    }
   ],
   "source": [
    "%%time\n",
    "for u in urls.urls[0:10]:\n",
    "    requests.get(u).json()"
   ]
  },
  {
   "cell_type": "code",
   "execution_count": 5,
   "id": "acfd1c8b-aec8-47f8-84d6-6157960ce802",
   "metadata": {
    "tags": []
   },
   "outputs": [],
   "source": [
    "import threading"
   ]
  },
  {
   "cell_type": "code",
   "execution_count": 6,
   "id": "8bd37496-3938-47cb-b2ad-aefd63f16037",
   "metadata": {
    "tags": []
   },
   "outputs": [],
   "source": [
    "def fetch_url(url):\n",
    "    resp = requests.get(url)"
   ]
  },
  {
   "cell_type": "code",
   "execution_count": 7,
   "id": "62ac5e5f-92bd-4cda-932c-b1026c516fd6",
   "metadata": {
    "tags": []
   },
   "outputs": [],
   "source": [
    "threads = [threading.Thread(target=fetch_url, args=(url,)) for url in urls.urls[0:10]]"
   ]
  },
  {
   "cell_type": "code",
   "execution_count": 8,
   "id": "eb9db141-0763-4eb0-9ef5-6adfd1f61d31",
   "metadata": {
    "tags": []
   },
   "outputs": [],
   "source": [
    "for thread in threads:\n",
    "    thread.start()"
   ]
  },
  {
   "cell_type": "code",
   "execution_count": 9,
   "id": "702848c2-c601-48b0-a3d5-dbf06ab699ea",
   "metadata": {
    "tags": []
   },
   "outputs": [
    {
     "name": "stdout",
     "output_type": "stream",
     "text": [
      "CPU times: user 232 ms, sys: 95.6 ms, total: 327 ms\n",
      "Wall time: 11.6 s\n"
     ]
    }
   ],
   "source": [
    "%%time\n",
    "for thread in threads:\n",
    "    thread.join()"
   ]
  },
  {
   "cell_type": "code",
   "execution_count": null,
   "id": "3c661a50-7400-4772-bf74-9596b2469622",
   "metadata": {},
   "outputs": [],
   "source": []
  }
 ],
 "metadata": {
  "kernelspec": {
   "display_name": "Python 3 (ipykernel)",
   "language": "python",
   "name": "python3"
  },
  "language_info": {
   "codemirror_mode": {
    "name": "ipython",
    "version": 3
   },
   "file_extension": ".py",
   "mimetype": "text/x-python",
   "name": "python",
   "nbconvert_exporter": "python",
   "pygments_lexer": "ipython3",
   "version": "3.9.16"
  }
 },
 "nbformat": 4,
 "nbformat_minor": 5
}
