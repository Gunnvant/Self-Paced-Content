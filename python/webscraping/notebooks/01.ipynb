{
 "cells": [
  {
   "cell_type": "markdown",
   "id": "3563973a-9a77-4c4d-b974-e64af2e32d67",
   "metadata": {},
   "source": [
    "### Extracting data from webpages"
   ]
  },
  {
   "cell_type": "code",
   "execution_count": 1,
   "id": "5035b75f-ad2a-498c-9b28-d363308274d9",
   "metadata": {
    "tags": []
   },
   "outputs": [],
   "source": [
    "from bs4 import BeautifulSoup\n",
    "path = \"../data/sample.html\""
   ]
  },
  {
   "cell_type": "code",
   "execution_count": 2,
   "id": "95ee718a-74ef-4ed3-a075-3ad5f9a180b3",
   "metadata": {
    "tags": []
   },
   "outputs": [],
   "source": [
    "with open(path,'r') as f:\n",
    "    d = f.read()"
   ]
  },
  {
   "cell_type": "code",
   "execution_count": 3,
   "id": "3a7cbb27-ccf6-4127-88d5-4032f2e9a64c",
   "metadata": {
    "tags": []
   },
   "outputs": [],
   "source": [
    "soup = BeautifulSoup(d,'html.parser')"
   ]
  },
  {
   "cell_type": "code",
   "execution_count": 4,
   "id": "40578b54-4b80-43e4-9f5c-f6f1e476f1af",
   "metadata": {
    "tags": []
   },
   "outputs": [
    {
     "data": {
      "text/plain": [
       "<!DOCTYPE HTML>\n",
       "\n",
       "<!-- THE DOCTYPE tells the browser what type of webpage to render, the doctype used in this website is HTML5 which is the most recent HTML. -->\n",
       "<html lang=\"en-US\">\n",
       "<head>\n",
       "<meta charset=\"utf-8\"/>\n",
       "<title>My Pimpin Website</title>\n",
       "<!-- THE TITLE element is the name of the page, it is also visible in the browser tab. Its always good practice to give each page an appropriate title. -->\n",
       "<meta content=\"A sample website, nothin fancy\" name=\"description\"/>\n",
       "<meta content=\"Francisco Campos Arias\" http-equiv=\"author\"/>\n",
       "<meta content=\"html, css, web, design, sample, practice\" name=\"keywords\"/>\n",
       "<!-- These are META TAGS, they're used to describe the website, this information is read mainly by search engines like GOOGLE, YAHOO, ETC... -->\n",
       "<link href=\"style.css\" rel=\"stylesheet\"/>\n",
       "<script src=\"http://localhost:8080/target/target-script-min.js#anonymous\"></script>\n",
       "</head>\n",
       "<body>\n",
       "<div class=\"container\">\n",
       "<!-- THIS ACTUAL CONTENT BEGINS HERE...this is called a comment. which can only be seen when viewing the source code. This text CANNOT be seen by the browser. Its helpful when you need to place notes, comments or reminders in your code -->\n",
       "<header>\n",
       "<div class=\"header\">\n",
       "<h1>Welcome</h1>\n",
       "</div>\n",
       "</header>\n",
       "<!-- END HEADER | the header element in new to HTML5 -->\n",
       "<div class=\"main\">\n",
       "<h2>This is just an example with some web content. This is the Hero Unit.</h2>\n",
       "</div>\n",
       "<div class=\"feature\">\n",
       "<h3>Featured Content 1</h3>\n",
       "<p>lorem ipsum dolor amet lorem ipsum dolor ametlorem ipsum dolor ametlorem ipsum dolor ametlorem ipsum dolor ametlorem ipsum dolor ametlorem ipsum dolor ametlorem ipsum.</p>\n",
       "<!-- LOREM IPSUM is universally used. Lorem ipsum is dummy text, it does't really mean anything. Its used to fill space or for mockups. -->\n",
       "</div>\n",
       "<div class=\"feature\">\n",
       "<h3>Featured Content 2</h3>\n",
       "<p>lorem ipsum dolor amet lorem ipsum dolor ametlorem ipsum dolor ametlorem ipsum dolor ametlorem ipsum dolor ametlorem ipsum dolor ametlorem ipsum dolor ametlorem ipsum dolor.</p>\n",
       "</div>\n",
       "<footer>\n",
       "\t\t©2012 Francisco Campos Arias, All Rigts Reserved.\n",
       "\t</footer>\n",
       "<!-- END FOOTER | the footer element is also new to HTML5 -->\n",
       "</div>\n",
       "</body>\n",
       "</html>"
      ]
     },
     "execution_count": 4,
     "metadata": {},
     "output_type": "execute_result"
    }
   ],
   "source": [
    "soup"
   ]
  },
  {
   "cell_type": "code",
   "execution_count": 8,
   "id": "41480026-e287-477f-b5d7-96f8af91c578",
   "metadata": {
    "tags": []
   },
   "outputs": [
    {
     "data": {
      "text/plain": [
       "[<div class=\"container\">\n",
       " <!-- THIS ACTUAL CONTENT BEGINS HERE...this is called a comment. which can only be seen when viewing the source code. This text CANNOT be seen by the browser. Its helpful when you need to place notes, comments or reminders in your code -->\n",
       " <header>\n",
       " <div class=\"header\">\n",
       " <h1>Welcome</h1>\n",
       " </div>\n",
       " </header>\n",
       " <!-- END HEADER | the header element in new to HTML5 -->\n",
       " <div class=\"main\">\n",
       " <h2>This is just an example with some web content. This is the Hero Unit.</h2>\n",
       " </div>\n",
       " <div class=\"feature\">\n",
       " <h3>Featured Content 1</h3>\n",
       " <p>lorem ipsum dolor amet lorem ipsum dolor ametlorem ipsum dolor ametlorem ipsum dolor ametlorem ipsum dolor ametlorem ipsum dolor ametlorem ipsum dolor ametlorem ipsum.</p>\n",
       " <!-- LOREM IPSUM is universally used. Lorem ipsum is dummy text, it does't really mean anything. Its used to fill space or for mockups. -->\n",
       " </div>\n",
       " <div class=\"feature\">\n",
       " <h3>Featured Content 2</h3>\n",
       " <p>lorem ipsum dolor amet lorem ipsum dolor ametlorem ipsum dolor ametlorem ipsum dolor ametlorem ipsum dolor ametlorem ipsum dolor ametlorem ipsum dolor ametlorem ipsum dolor.</p>\n",
       " </div>\n",
       " <footer>\n",
       " \t\t©2012 Francisco Campos Arias, All Rigts Reserved.\n",
       " \t</footer>\n",
       " <!-- END FOOTER | the footer element is also new to HTML5 -->\n",
       " </div>,\n",
       " <div class=\"header\">\n",
       " <h1>Welcome</h1>\n",
       " </div>,\n",
       " <div class=\"main\">\n",
       " <h2>This is just an example with some web content. This is the Hero Unit.</h2>\n",
       " </div>,\n",
       " <div class=\"feature\">\n",
       " <h3>Featured Content 1</h3>\n",
       " <p>lorem ipsum dolor amet lorem ipsum dolor ametlorem ipsum dolor ametlorem ipsum dolor ametlorem ipsum dolor ametlorem ipsum dolor ametlorem ipsum dolor ametlorem ipsum.</p>\n",
       " <!-- LOREM IPSUM is universally used. Lorem ipsum is dummy text, it does't really mean anything. Its used to fill space or for mockups. -->\n",
       " </div>,\n",
       " <div class=\"feature\">\n",
       " <h3>Featured Content 2</h3>\n",
       " <p>lorem ipsum dolor amet lorem ipsum dolor ametlorem ipsum dolor ametlorem ipsum dolor ametlorem ipsum dolor ametlorem ipsum dolor ametlorem ipsum dolor ametlorem ipsum dolor.</p>\n",
       " </div>]"
      ]
     },
     "execution_count": 8,
     "metadata": {},
     "output_type": "execute_result"
    }
   ],
   "source": [
    "soup.find_all('div')"
   ]
  },
  {
   "cell_type": "code",
   "execution_count": 10,
   "id": "882ff7b8-e893-4a43-8be2-4d59b065e1df",
   "metadata": {
    "tags": []
   },
   "outputs": [
    {
     "data": {
      "text/plain": [
       "<div class=\"feature\">\n",
       "<h3>Featured Content 2</h3>\n",
       "<p>lorem ipsum dolor amet lorem ipsum dolor ametlorem ipsum dolor ametlorem ipsum dolor ametlorem ipsum dolor ametlorem ipsum dolor ametlorem ipsum dolor ametlorem ipsum dolor.</p>\n",
       "</div>"
      ]
     },
     "execution_count": 10,
     "metadata": {},
     "output_type": "execute_result"
    }
   ],
   "source": [
    "soup.find_all('div')[-1]"
   ]
  },
  {
   "cell_type": "code",
   "execution_count": 11,
   "id": "a1dc866b-33e6-41fd-b328-717185c7bacb",
   "metadata": {
    "tags": []
   },
   "outputs": [
    {
     "data": {
      "text/plain": [
       "<h3>Featured Content 2</h3>"
      ]
     },
     "execution_count": 11,
     "metadata": {},
     "output_type": "execute_result"
    }
   ],
   "source": [
    "soup.find_all('div')[-1].h3"
   ]
  },
  {
   "cell_type": "code",
   "execution_count": 12,
   "id": "f1e371f0-7a34-451d-8fa0-519a34fa07b4",
   "metadata": {
    "tags": []
   },
   "outputs": [
    {
     "data": {
      "text/plain": [
       "'Featured Content 2'"
      ]
     },
     "execution_count": 12,
     "metadata": {},
     "output_type": "execute_result"
    }
   ],
   "source": [
    "soup.find_all('div')[-1].h3.text"
   ]
  },
  {
   "cell_type": "code",
   "execution_count": 13,
   "id": "1609ab72-eb5c-418c-932c-d8848f90f51b",
   "metadata": {
    "tags": []
   },
   "outputs": [],
   "source": [
    "### Get data from all the divs\n",
    "dat = []\n",
    "for d in soup.find_all('div'):\n",
    "    dat.append(d.text)\n",
    "    "
   ]
  },
  {
   "cell_type": "code",
   "execution_count": 14,
   "id": "727028fc-5458-4327-b1d8-743c6663d65f",
   "metadata": {
    "tags": []
   },
   "outputs": [
    {
     "data": {
      "text/plain": [
       "['\\n\\n\\n\\nWelcome\\n\\n\\n\\n\\nThis is just an example with some web content. This is the Hero Unit.\\n\\n\\nFeatured Content 1\\nlorem ipsum dolor amet lorem ipsum dolor ametlorem ipsum dolor ametlorem ipsum dolor ametlorem ipsum dolor ametlorem ipsum dolor ametlorem ipsum dolor ametlorem ipsum.\\n\\n\\n\\nFeatured Content 2\\nlorem ipsum dolor amet lorem ipsum dolor ametlorem ipsum dolor ametlorem ipsum dolor ametlorem ipsum dolor ametlorem ipsum dolor ametlorem ipsum dolor ametlorem ipsum dolor.\\n\\n\\n\\t\\t©2012 Francisco Campos Arias, All Rigts Reserved.\\n\\t\\n\\n',\n",
       " '\\nWelcome\\n',\n",
       " '\\nThis is just an example with some web content. This is the Hero Unit.\\n',\n",
       " '\\nFeatured Content 1\\nlorem ipsum dolor amet lorem ipsum dolor ametlorem ipsum dolor ametlorem ipsum dolor ametlorem ipsum dolor ametlorem ipsum dolor ametlorem ipsum dolor ametlorem ipsum.\\n\\n',\n",
       " '\\nFeatured Content 2\\nlorem ipsum dolor amet lorem ipsum dolor ametlorem ipsum dolor ametlorem ipsum dolor ametlorem ipsum dolor ametlorem ipsum dolor ametlorem ipsum dolor ametlorem ipsum dolor.\\n']"
      ]
     },
     "execution_count": 14,
     "metadata": {},
     "output_type": "execute_result"
    }
   ],
   "source": [
    "dat"
   ]
  },
  {
   "cell_type": "code",
   "execution_count": null,
   "id": "ae44830c-2eea-415b-b975-f93101dee52e",
   "metadata": {},
   "outputs": [],
   "source": []
  }
 ],
 "metadata": {
  "kernelspec": {
   "display_name": "Python 3 (ipykernel)",
   "language": "python",
   "name": "python3"
  },
  "language_info": {
   "codemirror_mode": {
    "name": "ipython",
    "version": 3
   },
   "file_extension": ".py",
   "mimetype": "text/x-python",
   "name": "python",
   "nbconvert_exporter": "python",
   "pygments_lexer": "ipython3",
   "version": "3.9.16"
  }
 },
 "nbformat": 4,
 "nbformat_minor": 5
}
