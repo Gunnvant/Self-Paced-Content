{
 "cells": [
  {
   "cell_type": "markdown",
   "id": "631c81ff-b303-4650-9864-106485673e63",
   "metadata": {},
   "source": [
    "**Class Excercise (Joins)**\n",
    "\n",
    "- Use the files contributions.csv and candidates.csv. The file contributions.csv contains data on contributions made to political parties. The file candidates.csv contains data on the demographics of candidates belonging to different political parties. What was the highest contribution made on a Sunday?\n",
    "\n",
    "- Use the files contributions.csv and candidates.csv. The file contributions.csv contains data on contributions made to political parties. The file candidates.csv contains data on the demographics of candidates belonging to different political parties. Is there a difference between the average donations received by Democrats on weekdays vs weekends? (In the column party, R stands for Republican and D stands for Democrats)\n",
    "\n",
    "- Use the files contributions.csv and candidates.csv. The file contributions.csv contains data on contributions made to political parties. The file candidates.csv contains data on the demographics of candidates belonging to different political parties. The highest amount contributed on weekdays towards Democrats is? (In the column party, R stands for Republican and D stands for Democrats)"
   ]
  },
  {
   "cell_type": "code",
   "execution_count": 1,
   "id": "a651a615-6134-440d-a70e-d59e61f6cbfc",
   "metadata": {},
   "outputs": [],
   "source": [
    "import pandas as pd\n",
    "candidates = pd.read_csv('candidates.csv')\n",
    "contributions = pd.read_csv('contributions.csv')"
   ]
  },
  {
   "cell_type": "code",
   "execution_count": 2,
   "id": "6d24a3b0-6edf-4827-a0c8-8cd05afaafab",
   "metadata": {},
   "outputs": [
    {
     "data": {
      "text/html": [
       "<div>\n",
       "<style scoped>\n",
       "    .dataframe tbody tr th:only-of-type {\n",
       "        vertical-align: middle;\n",
       "    }\n",
       "\n",
       "    .dataframe tbody tr th {\n",
       "        vertical-align: top;\n",
       "    }\n",
       "\n",
       "    .dataframe thead th {\n",
       "        text-align: right;\n",
       "    }\n",
       "</style>\n",
       "<table border=\"1\" class=\"dataframe\">\n",
       "  <thead>\n",
       "    <tr style=\"text-align: right;\">\n",
       "      <th></th>\n",
       "      <th>id</th>\n",
       "      <th>first_name</th>\n",
       "      <th>last_name</th>\n",
       "      <th>middle_name</th>\n",
       "      <th>party</th>\n",
       "    </tr>\n",
       "  </thead>\n",
       "  <tbody>\n",
       "    <tr>\n",
       "      <th>0</th>\n",
       "      <td>33</td>\n",
       "      <td>Joseph</td>\n",
       "      <td>Biden</td>\n",
       "      <td>NaN</td>\n",
       "      <td>D</td>\n",
       "    </tr>\n",
       "    <tr>\n",
       "      <th>1</th>\n",
       "      <td>36</td>\n",
       "      <td>Samuel</td>\n",
       "      <td>Brownback</td>\n",
       "      <td>NaN</td>\n",
       "      <td>R</td>\n",
       "    </tr>\n",
       "  </tbody>\n",
       "</table>\n",
       "</div>"
      ],
      "text/plain": [
       "   id first_name  last_name middle_name party\n",
       "0  33     Joseph      Biden         NaN     D\n",
       "1  36     Samuel  Brownback         NaN     R"
      ]
     },
     "execution_count": 2,
     "metadata": {},
     "output_type": "execute_result"
    }
   ],
   "source": [
    "candidates.head(2)"
   ]
  },
  {
   "cell_type": "code",
   "execution_count": 3,
   "id": "282d8ac4-7d37-4814-9fd6-d33f7d41745b",
   "metadata": {},
   "outputs": [
    {
     "data": {
      "text/html": [
       "<div>\n",
       "<style scoped>\n",
       "    .dataframe tbody tr th:only-of-type {\n",
       "        vertical-align: middle;\n",
       "    }\n",
       "\n",
       "    .dataframe tbody tr th {\n",
       "        vertical-align: top;\n",
       "    }\n",
       "\n",
       "    .dataframe thead th {\n",
       "        text-align: right;\n",
       "    }\n",
       "</style>\n",
       "<table border=\"1\" class=\"dataframe\">\n",
       "  <thead>\n",
       "    <tr style=\"text-align: right;\">\n",
       "      <th></th>\n",
       "      <th>id</th>\n",
       "      <th>last_name</th>\n",
       "      <th>first_name</th>\n",
       "      <th>middle_name</th>\n",
       "      <th>street_1</th>\n",
       "      <th>street_2</th>\n",
       "      <th>city</th>\n",
       "      <th>state</th>\n",
       "      <th>zip</th>\n",
       "      <th>amount</th>\n",
       "      <th>date</th>\n",
       "      <th>candidate_id</th>\n",
       "    </tr>\n",
       "  </thead>\n",
       "  <tbody>\n",
       "    <tr>\n",
       "      <th>0</th>\n",
       "      <td>NaN</td>\n",
       "      <td>Agee</td>\n",
       "      <td>Steven</td>\n",
       "      <td>NaN</td>\n",
       "      <td>549 Laurel Branch Road</td>\n",
       "      <td>NaN</td>\n",
       "      <td>Floyd</td>\n",
       "      <td>VA</td>\n",
       "      <td>24091</td>\n",
       "      <td>500.0</td>\n",
       "      <td>2007-06-30</td>\n",
       "      <td>16</td>\n",
       "    </tr>\n",
       "    <tr>\n",
       "      <th>1</th>\n",
       "      <td>NaN</td>\n",
       "      <td>Ahrens</td>\n",
       "      <td>Don</td>\n",
       "      <td>NaN</td>\n",
       "      <td>4034 Rennellwood Way</td>\n",
       "      <td>NaN</td>\n",
       "      <td>Pleasanton</td>\n",
       "      <td>CA</td>\n",
       "      <td>94566</td>\n",
       "      <td>250.0</td>\n",
       "      <td>2007-05-16</td>\n",
       "      <td>16</td>\n",
       "    </tr>\n",
       "  </tbody>\n",
       "</table>\n",
       "</div>"
      ],
      "text/plain": [
       "   id last_name first_name middle_name                street_1 street_2  \\\n",
       "0 NaN      Agee     Steven         NaN  549 Laurel Branch Road      NaN   \n",
       "1 NaN    Ahrens        Don         NaN    4034 Rennellwood Way      NaN   \n",
       "\n",
       "         city state    zip  amount        date  candidate_id  \n",
       "0       Floyd    VA  24091   500.0  2007-06-30            16  \n",
       "1  Pleasanton    CA  94566   250.0  2007-05-16            16  "
      ]
     },
     "execution_count": 3,
     "metadata": {},
     "output_type": "execute_result"
    }
   ],
   "source": [
    "contributions.head(2)"
   ]
  },
  {
   "cell_type": "code",
   "execution_count": 4,
   "id": "6ed7622b-f15f-4b3c-aed3-89b580694fb1",
   "metadata": {},
   "outputs": [],
   "source": [
    "contributions['date'] = pd.to_datetime(contributions['date'])"
   ]
  },
  {
   "cell_type": "code",
   "execution_count": 5,
   "id": "bf672ffb-9ac9-4e93-a479-00a7dfd66400",
   "metadata": {},
   "outputs": [],
   "source": [
    "contributions['dow'] = contributions['date'].dt.weekday"
   ]
  },
  {
   "cell_type": "code",
   "execution_count": 6,
   "id": "b5062e2d-ddfb-4bf2-a435-75feb817a4e3",
   "metadata": {},
   "outputs": [
    {
     "data": {
      "text/plain": [
       "2300.0"
      ]
     },
     "execution_count": 6,
     "metadata": {},
     "output_type": "execute_result"
    }
   ],
   "source": [
    "## Q1\n",
    "contributions.query(\"dow==6\")['amount'].max()"
   ]
  },
  {
   "cell_type": "code",
   "execution_count": 7,
   "id": "111e4fee-1dae-4fe6-837a-0c8801ac5c06",
   "metadata": {},
   "outputs": [],
   "source": [
    "joined_table = pd.merge(contributions,candidates,how=\"inner\",left_on = \"candidate_id\", right_on=\"id\")"
   ]
  },
  {
   "cell_type": "code",
   "execution_count": 8,
   "id": "db6b3daa-9488-46fb-936f-fc12dc94eeae",
   "metadata": {},
   "outputs": [
    {
     "data": {
      "text/html": [
       "<div>\n",
       "<style scoped>\n",
       "    .dataframe tbody tr th:only-of-type {\n",
       "        vertical-align: middle;\n",
       "    }\n",
       "\n",
       "    .dataframe tbody tr th {\n",
       "        vertical-align: top;\n",
       "    }\n",
       "\n",
       "    .dataframe thead th {\n",
       "        text-align: right;\n",
       "    }\n",
       "</style>\n",
       "<table border=\"1\" class=\"dataframe\">\n",
       "  <thead>\n",
       "    <tr style=\"text-align: right;\">\n",
       "      <th></th>\n",
       "      <th>id_x</th>\n",
       "      <th>last_name_x</th>\n",
       "      <th>first_name_x</th>\n",
       "      <th>middle_name_x</th>\n",
       "      <th>street_1</th>\n",
       "      <th>street_2</th>\n",
       "      <th>city</th>\n",
       "      <th>state</th>\n",
       "      <th>zip</th>\n",
       "      <th>amount</th>\n",
       "      <th>date</th>\n",
       "      <th>candidate_id</th>\n",
       "      <th>dow</th>\n",
       "      <th>id_y</th>\n",
       "      <th>first_name_y</th>\n",
       "      <th>last_name_y</th>\n",
       "      <th>middle_name_y</th>\n",
       "      <th>party</th>\n",
       "    </tr>\n",
       "  </thead>\n",
       "  <tbody>\n",
       "    <tr>\n",
       "      <th>0</th>\n",
       "      <td>NaN</td>\n",
       "      <td>Agee</td>\n",
       "      <td>Steven</td>\n",
       "      <td>NaN</td>\n",
       "      <td>549 Laurel Branch Road</td>\n",
       "      <td>NaN</td>\n",
       "      <td>Floyd</td>\n",
       "      <td>VA</td>\n",
       "      <td>24091</td>\n",
       "      <td>500.0</td>\n",
       "      <td>2007-06-30</td>\n",
       "      <td>16</td>\n",
       "      <td>5</td>\n",
       "      <td>16</td>\n",
       "      <td>Mike</td>\n",
       "      <td>Huckabee</td>\n",
       "      <td>NaN</td>\n",
       "      <td>R</td>\n",
       "    </tr>\n",
       "    <tr>\n",
       "      <th>1</th>\n",
       "      <td>NaN</td>\n",
       "      <td>Ahrens</td>\n",
       "      <td>Don</td>\n",
       "      <td>NaN</td>\n",
       "      <td>4034 Rennellwood Way</td>\n",
       "      <td>NaN</td>\n",
       "      <td>Pleasanton</td>\n",
       "      <td>CA</td>\n",
       "      <td>94566</td>\n",
       "      <td>250.0</td>\n",
       "      <td>2007-05-16</td>\n",
       "      <td>16</td>\n",
       "      <td>2</td>\n",
       "      <td>16</td>\n",
       "      <td>Mike</td>\n",
       "      <td>Huckabee</td>\n",
       "      <td>NaN</td>\n",
       "      <td>R</td>\n",
       "    </tr>\n",
       "  </tbody>\n",
       "</table>\n",
       "</div>"
      ],
      "text/plain": [
       "   id_x last_name_x first_name_x middle_name_x                street_1  \\\n",
       "0   NaN        Agee       Steven           NaN  549 Laurel Branch Road   \n",
       "1   NaN      Ahrens          Don           NaN    4034 Rennellwood Way   \n",
       "\n",
       "  street_2        city state    zip  amount       date  candidate_id  dow  \\\n",
       "0      NaN       Floyd    VA  24091   500.0 2007-06-30            16    5   \n",
       "1      NaN  Pleasanton    CA  94566   250.0 2007-05-16            16    2   \n",
       "\n",
       "   id_y first_name_y last_name_y middle_name_y party  \n",
       "0    16         Mike    Huckabee           NaN     R  \n",
       "1    16         Mike    Huckabee           NaN     R  "
      ]
     },
     "execution_count": 8,
     "metadata": {},
     "output_type": "execute_result"
    }
   ],
   "source": [
    "joined_table.head(2)"
   ]
  },
  {
   "cell_type": "code",
   "execution_count": 9,
   "id": "8e944bc0-aeca-4b79-8ddf-906b394e6423",
   "metadata": {},
   "outputs": [
    {
     "data": {
      "text/plain": [
       "229.18571428571425"
      ]
     },
     "execution_count": 9,
     "metadata": {},
     "output_type": "execute_result"
    }
   ],
   "source": [
    "## weekday (Q2)\n",
    "joined_table.query(\"party == 'D' and dow <5\")['amount'].mean()"
   ]
  },
  {
   "cell_type": "code",
   "execution_count": 10,
   "id": "312719d5-4463-4eb5-994e-c322226a46f1",
   "metadata": {},
   "outputs": [
    {
     "data": {
      "text/plain": [
       "431.26125"
      ]
     },
     "execution_count": 10,
     "metadata": {},
     "output_type": "execute_result"
    }
   ],
   "source": [
    "## weekend (Q2)\n",
    "joined_table.query(\"party == 'D' and dow>=5\")['amount'].mean()"
   ]
  },
  {
   "cell_type": "code",
   "execution_count": 11,
   "id": "552fb317-51a4-409a-a903-61a7477191fb",
   "metadata": {},
   "outputs": [
    {
     "data": {
      "text/plain": [
       "4600.0"
      ]
     },
     "execution_count": 11,
     "metadata": {},
     "output_type": "execute_result"
    }
   ],
   "source": [
    "## Q3\n",
    "joined_table.query(\"party == 'D' and dow <5\")['amount'].max()"
   ]
  },
  {
   "cell_type": "code",
   "execution_count": null,
   "id": "625e9b27-3657-42da-947c-88173db26a79",
   "metadata": {},
   "outputs": [],
   "source": []
  }
 ],
 "metadata": {
  "kernelspec": {
   "display_name": "Python 3 (ipykernel)",
   "language": "python",
   "name": "python3"
  },
  "language_info": {
   "codemirror_mode": {
    "name": "ipython",
    "version": 3
   },
   "file_extension": ".py",
   "mimetype": "text/x-python",
   "name": "python",
   "nbconvert_exporter": "python",
   "pygments_lexer": "ipython3",
   "version": "3.9.13"
  }
 },
 "nbformat": 4,
 "nbformat_minor": 5
}
