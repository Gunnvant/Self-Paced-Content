{
 "cells": [
  {
   "cell_type": "code",
   "execution_count": 1,
   "id": "ceb697ac-60fd-4a18-ac49-d2166aa116b8",
   "metadata": {},
   "outputs": [],
   "source": [
    "import pandas as pd"
   ]
  },
  {
   "cell_type": "code",
   "execution_count": 2,
   "id": "bb4aff37-b40e-4935-a2e6-51a258e86f1f",
   "metadata": {},
   "outputs": [],
   "source": [
    "data = pd.read_csv(\"stores.csv\")"
   ]
  },
  {
   "cell_type": "code",
   "execution_count": 7,
   "id": "c0a14441-75b6-41b7-a989-3f990703139f",
   "metadata": {},
   "outputs": [],
   "source": [
    "cols = ['Sales',\"Quantity\",\"Discount\",\"Profit\"]"
   ]
  },
  {
   "cell_type": "code",
   "execution_count": 9,
   "id": "2bdfddf3-3e77-4499-869c-bcd5e9ca5e7b",
   "metadata": {},
   "outputs": [
    {
     "data": {
      "text/html": [
       "<div>\n",
       "<style scoped>\n",
       "    .dataframe tbody tr th:only-of-type {\n",
       "        vertical-align: middle;\n",
       "    }\n",
       "\n",
       "    .dataframe tbody tr th {\n",
       "        vertical-align: top;\n",
       "    }\n",
       "\n",
       "    .dataframe thead th {\n",
       "        text-align: right;\n",
       "    }\n",
       "</style>\n",
       "<table border=\"1\" class=\"dataframe\">\n",
       "  <thead>\n",
       "    <tr style=\"text-align: right;\">\n",
       "      <th></th>\n",
       "      <th>Sales</th>\n",
       "      <th>Quantity</th>\n",
       "      <th>Discount</th>\n",
       "      <th>Profit</th>\n",
       "    </tr>\n",
       "  </thead>\n",
       "  <tbody>\n",
       "    <tr>\n",
       "      <th>0</th>\n",
       "      <td>261.9600</td>\n",
       "      <td>2</td>\n",
       "      <td>0.00</td>\n",
       "      <td>41.9136</td>\n",
       "    </tr>\n",
       "    <tr>\n",
       "      <th>1</th>\n",
       "      <td>731.9400</td>\n",
       "      <td>3</td>\n",
       "      <td>0.00</td>\n",
       "      <td>219.5820</td>\n",
       "    </tr>\n",
       "    <tr>\n",
       "      <th>2</th>\n",
       "      <td>14.6200</td>\n",
       "      <td>2</td>\n",
       "      <td>0.00</td>\n",
       "      <td>6.8714</td>\n",
       "    </tr>\n",
       "    <tr>\n",
       "      <th>3</th>\n",
       "      <td>957.5775</td>\n",
       "      <td>5</td>\n",
       "      <td>0.45</td>\n",
       "      <td>-383.0310</td>\n",
       "    </tr>\n",
       "    <tr>\n",
       "      <th>4</th>\n",
       "      <td>22.3680</td>\n",
       "      <td>2</td>\n",
       "      <td>0.20</td>\n",
       "      <td>2.5164</td>\n",
       "    </tr>\n",
       "    <tr>\n",
       "      <th>...</th>\n",
       "      <td>...</td>\n",
       "      <td>...</td>\n",
       "      <td>...</td>\n",
       "      <td>...</td>\n",
       "    </tr>\n",
       "    <tr>\n",
       "      <th>9989</th>\n",
       "      <td>25.2480</td>\n",
       "      <td>3</td>\n",
       "      <td>0.20</td>\n",
       "      <td>4.1028</td>\n",
       "    </tr>\n",
       "    <tr>\n",
       "      <th>9990</th>\n",
       "      <td>91.9600</td>\n",
       "      <td>2</td>\n",
       "      <td>0.00</td>\n",
       "      <td>15.6332</td>\n",
       "    </tr>\n",
       "    <tr>\n",
       "      <th>9991</th>\n",
       "      <td>258.5760</td>\n",
       "      <td>2</td>\n",
       "      <td>0.20</td>\n",
       "      <td>19.3932</td>\n",
       "    </tr>\n",
       "    <tr>\n",
       "      <th>9992</th>\n",
       "      <td>29.6000</td>\n",
       "      <td>4</td>\n",
       "      <td>0.00</td>\n",
       "      <td>13.3200</td>\n",
       "    </tr>\n",
       "    <tr>\n",
       "      <th>9993</th>\n",
       "      <td>243.1600</td>\n",
       "      <td>2</td>\n",
       "      <td>0.00</td>\n",
       "      <td>72.9480</td>\n",
       "    </tr>\n",
       "  </tbody>\n",
       "</table>\n",
       "<p>9994 rows × 4 columns</p>\n",
       "</div>"
      ],
      "text/plain": [
       "         Sales  Quantity  Discount    Profit\n",
       "0     261.9600         2      0.00   41.9136\n",
       "1     731.9400         3      0.00  219.5820\n",
       "2      14.6200         2      0.00    6.8714\n",
       "3     957.5775         5      0.45 -383.0310\n",
       "4      22.3680         2      0.20    2.5164\n",
       "...        ...       ...       ...       ...\n",
       "9989   25.2480         3      0.20    4.1028\n",
       "9990   91.9600         2      0.00   15.6332\n",
       "9991  258.5760         2      0.20   19.3932\n",
       "9992   29.6000         4      0.00   13.3200\n",
       "9993  243.1600         2      0.00   72.9480\n",
       "\n",
       "[9994 rows x 4 columns]"
      ]
     },
     "execution_count": 9,
     "metadata": {},
     "output_type": "execute_result"
    }
   ],
   "source": [
    "data[cols]"
   ]
  },
  {
   "cell_type": "code",
   "execution_count": 10,
   "id": "00414cb4-4d94-407b-902c-d8ac7b78e114",
   "metadata": {},
   "outputs": [],
   "source": [
    "def Sum(C):\n",
    "    return C.sum()"
   ]
  },
  {
   "cell_type": "code",
   "execution_count": 11,
   "id": "a9469976-a01d-4ec5-8415-b46b9c91d227",
   "metadata": {},
   "outputs": [
    {
     "data": {
      "text/plain": [
       "Sales       2.297201e+06\n",
       "Quantity    3.787300e+04\n",
       "Discount    1.561090e+03\n",
       "Profit      2.863970e+05\n",
       "dtype: float64"
      ]
     },
     "execution_count": 11,
     "metadata": {},
     "output_type": "execute_result"
    }
   ],
   "source": [
    "data[cols].apply(Sum,axis=0)"
   ]
  },
  {
   "cell_type": "code",
   "execution_count": 12,
   "id": "670264ff-f226-4c68-9f92-ecbf4b163fd9",
   "metadata": {},
   "outputs": [
    {
     "data": {
      "text/plain": [
       "0       305.8736\n",
       "1       954.5220\n",
       "2        23.4914\n",
       "3       579.9965\n",
       "4        27.0844\n",
       "          ...   \n",
       "9989     32.5508\n",
       "9990    109.5932\n",
       "9991    280.1692\n",
       "9992     46.9200\n",
       "9993    318.1080\n",
       "Length: 9994, dtype: float64"
      ]
     },
     "execution_count": 12,
     "metadata": {},
     "output_type": "execute_result"
    }
   ],
   "source": [
    "data[cols].apply(Sum,axis=1)"
   ]
  },
  {
   "cell_type": "code",
   "execution_count": 13,
   "id": "f2c74b14-6a55-454e-8075-6e6aaf720dc4",
   "metadata": {},
   "outputs": [
    {
     "data": {
      "text/html": [
       "<div>\n",
       "<style scoped>\n",
       "    .dataframe tbody tr th:only-of-type {\n",
       "        vertical-align: middle;\n",
       "    }\n",
       "\n",
       "    .dataframe tbody tr th {\n",
       "        vertical-align: top;\n",
       "    }\n",
       "\n",
       "    .dataframe thead th {\n",
       "        text-align: right;\n",
       "    }\n",
       "</style>\n",
       "<table border=\"1\" class=\"dataframe\">\n",
       "  <thead>\n",
       "    <tr style=\"text-align: right;\">\n",
       "      <th></th>\n",
       "      <th>Row ID</th>\n",
       "      <th>Order ID</th>\n",
       "      <th>Order Date</th>\n",
       "      <th>Ship Date</th>\n",
       "      <th>Ship Mode</th>\n",
       "      <th>Customer ID</th>\n",
       "      <th>Customer Name</th>\n",
       "      <th>Segment</th>\n",
       "      <th>Country</th>\n",
       "      <th>City</th>\n",
       "      <th>...</th>\n",
       "      <th>Postal Code</th>\n",
       "      <th>Region</th>\n",
       "      <th>Product ID</th>\n",
       "      <th>Category</th>\n",
       "      <th>Sub-Category</th>\n",
       "      <th>Product Name</th>\n",
       "      <th>Sales</th>\n",
       "      <th>Quantity</th>\n",
       "      <th>Discount</th>\n",
       "      <th>Profit</th>\n",
       "    </tr>\n",
       "  </thead>\n",
       "  <tbody>\n",
       "    <tr>\n",
       "      <th>0</th>\n",
       "      <td>1</td>\n",
       "      <td>CA-2013-152156</td>\n",
       "      <td>11/9/2013</td>\n",
       "      <td>11/12/2013</td>\n",
       "      <td>Second Class</td>\n",
       "      <td>CG-12520</td>\n",
       "      <td>Claire Gute</td>\n",
       "      <td>Consumer</td>\n",
       "      <td>United States</td>\n",
       "      <td>Henderson</td>\n",
       "      <td>...</td>\n",
       "      <td>42420</td>\n",
       "      <td>South</td>\n",
       "      <td>FUR-BO-10001798</td>\n",
       "      <td>Furniture</td>\n",
       "      <td>Bookcases</td>\n",
       "      <td>Bush Somerset Collection Bookcase</td>\n",
       "      <td>261.96</td>\n",
       "      <td>2</td>\n",
       "      <td>0.0</td>\n",
       "      <td>41.9136</td>\n",
       "    </tr>\n",
       "    <tr>\n",
       "      <th>1</th>\n",
       "      <td>2</td>\n",
       "      <td>CA-2013-152156</td>\n",
       "      <td>11/9/2013</td>\n",
       "      <td>11/12/2013</td>\n",
       "      <td>Second Class</td>\n",
       "      <td>CG-12520</td>\n",
       "      <td>Claire Gute</td>\n",
       "      <td>Consumer</td>\n",
       "      <td>United States</td>\n",
       "      <td>Henderson</td>\n",
       "      <td>...</td>\n",
       "      <td>42420</td>\n",
       "      <td>South</td>\n",
       "      <td>FUR-CH-10000454</td>\n",
       "      <td>Furniture</td>\n",
       "      <td>Chairs</td>\n",
       "      <td>Hon Deluxe Fabric Upholstered Stacking Chairs,...</td>\n",
       "      <td>731.94</td>\n",
       "      <td>3</td>\n",
       "      <td>0.0</td>\n",
       "      <td>219.5820</td>\n",
       "    </tr>\n",
       "  </tbody>\n",
       "</table>\n",
       "<p>2 rows × 21 columns</p>\n",
       "</div>"
      ],
      "text/plain": [
       "   Row ID        Order ID Order Date   Ship Date     Ship Mode Customer ID  \\\n",
       "0       1  CA-2013-152156  11/9/2013  11/12/2013  Second Class    CG-12520   \n",
       "1       2  CA-2013-152156  11/9/2013  11/12/2013  Second Class    CG-12520   \n",
       "\n",
       "  Customer Name   Segment        Country       City  ... Postal Code  Region  \\\n",
       "0   Claire Gute  Consumer  United States  Henderson  ...       42420   South   \n",
       "1   Claire Gute  Consumer  United States  Henderson  ...       42420   South   \n",
       "\n",
       "        Product ID   Category Sub-Category  \\\n",
       "0  FUR-BO-10001798  Furniture    Bookcases   \n",
       "1  FUR-CH-10000454  Furniture       Chairs   \n",
       "\n",
       "                                        Product Name   Sales  Quantity  \\\n",
       "0                  Bush Somerset Collection Bookcase  261.96         2   \n",
       "1  Hon Deluxe Fabric Upholstered Stacking Chairs,...  731.94         3   \n",
       "\n",
       "   Discount    Profit  \n",
       "0       0.0   41.9136  \n",
       "1       0.0  219.5820  \n",
       "\n",
       "[2 rows x 21 columns]"
      ]
     },
     "execution_count": 13,
     "metadata": {},
     "output_type": "execute_result"
    }
   ],
   "source": [
    "data.head(2)"
   ]
  },
  {
   "cell_type": "markdown",
   "id": "c8edab84-4e6c-4c9b-8b8c-42f1ec84af6d",
   "metadata": {},
   "source": [
    "if the ship mode is first class then we incur an additional cost of 200 and this should be subtracted from the sales\n",
    "\n",
    "apply() method in a dataframe"
   ]
  },
  {
   "cell_type": "code",
   "execution_count": 14,
   "id": "e0d027b6-7824-45c8-93f3-3fc8ca3c449c",
   "metadata": {},
   "outputs": [],
   "source": [
    "def correct(row):\n",
    "    if row['Ship Mode'] == \"First Class\":\n",
    "        return row['Sales'] - 200\n",
    "    else:\n",
    "        return row['Sales']"
   ]
  },
  {
   "cell_type": "code",
   "execution_count": 15,
   "id": "43f0210b-b5a3-46c4-9a1e-37bd491cb311",
   "metadata": {},
   "outputs": [
    {
     "data": {
      "text/plain": [
       "0       261.9600\n",
       "1       731.9400\n",
       "2        14.6200\n",
       "3       957.5775\n",
       "4        22.3680\n",
       "          ...   \n",
       "9989     25.2480\n",
       "9990     91.9600\n",
       "9991    258.5760\n",
       "9992     29.6000\n",
       "9993    243.1600\n",
       "Length: 9994, dtype: float64"
      ]
     },
     "execution_count": 15,
     "metadata": {},
     "output_type": "execute_result"
    }
   ],
   "source": [
    "data.apply(correct,axis=1) ### axis=1, mean we are iterating over each row"
   ]
  },
  {
   "cell_type": "code",
   "execution_count": null,
   "id": "d4c6e6d0-ccc5-493c-a75b-3f3a18c1cc19",
   "metadata": {},
   "outputs": [],
   "source": []
  }
 ],
 "metadata": {
  "kernelspec": {
   "display_name": "Python 3 (ipykernel)",
   "language": "python",
   "name": "python3"
  },
  "language_info": {
   "codemirror_mode": {
    "name": "ipython",
    "version": 3
   },
   "file_extension": ".py",
   "mimetype": "text/x-python",
   "name": "python",
   "nbconvert_exporter": "python",
   "pygments_lexer": "ipython3",
   "version": "3.9.13"
  }
 },
 "nbformat": 4,
 "nbformat_minor": 5
}
