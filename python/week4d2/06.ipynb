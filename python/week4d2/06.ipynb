{
 "cells": [
  {
   "cell_type": "markdown",
   "id": "d2ccff11-d336-493a-8dbf-9d643299ec62",
   "metadata": {},
   "source": [
    "**Comey Dataset** \n",
    "\n",
    "Use the dataset names comey.csv. You need to use the idea of map and find out the length of each response and each question. The you need to see if there is any difference between the lengths by party affiliattion. You can read more about the testimony of James Comey (former FBI director) [here](https://www.intelligence.senate.gov/sites/default/files/documents/os-jcomey-060817.pdf?)"
   ]
  },
  {
   "cell_type": "code",
   "execution_count": 2,
   "id": "01ca218f-b8aa-4765-b58e-d8138258cc8b",
   "metadata": {},
   "outputs": [],
   "source": [
    "import pandas as pd"
   ]
  },
  {
   "cell_type": "code",
   "execution_count": 3,
   "id": "6773500e-cbd7-43bc-a8d3-9a55dbb52805",
   "metadata": {},
   "outputs": [],
   "source": [
    "path = \"comey.csv\"\n",
    "comey = pd.read_csv(path,encoding=\"latin1\")"
   ]
  },
  {
   "cell_type": "code",
   "execution_count": 4,
   "id": "dc91ea57-3b52-4389-8f9d-d4989143fee4",
   "metadata": {},
   "outputs": [
    {
     "data": {
      "text/html": [
       "<div>\n",
       "<style scoped>\n",
       "    .dataframe tbody tr th:only-of-type {\n",
       "        vertical-align: middle;\n",
       "    }\n",
       "\n",
       "    .dataframe tbody tr th {\n",
       "        vertical-align: top;\n",
       "    }\n",
       "\n",
       "    .dataframe thead th {\n",
       "        text-align: right;\n",
       "    }\n",
       "</style>\n",
       "<table border=\"1\" class=\"dataframe\">\n",
       "  <thead>\n",
       "    <tr style=\"text-align: right;\">\n",
       "      <th></th>\n",
       "      <th>Senator</th>\n",
       "      <th>Party Affiliation</th>\n",
       "      <th>Full Question</th>\n",
       "      <th>Comey</th>\n",
       "      <th>Comey Response</th>\n",
       "    </tr>\n",
       "  </thead>\n",
       "  <tbody>\n",
       "    <tr>\n",
       "      <th>0</th>\n",
       "      <td>BURR</td>\n",
       "      <td>Republican</td>\n",
       "      <td>Do you have any doubt that Russia attempted to...</td>\n",
       "      <td>COMEY</td>\n",
       "      <td>None.</td>\n",
       "    </tr>\n",
       "    <tr>\n",
       "      <th>1</th>\n",
       "      <td>BURR</td>\n",
       "      <td>Republican</td>\n",
       "      <td>Do you have any doubt that the Russian governm...</td>\n",
       "      <td>COMEY</td>\n",
       "      <td>No, no doubt.</td>\n",
       "    </tr>\n",
       "  </tbody>\n",
       "</table>\n",
       "</div>"
      ],
      "text/plain": [
       "  Senator Party Affiliation  \\\n",
       "0    BURR        Republican   \n",
       "1    BURR        Republican   \n",
       "\n",
       "                                       Full Question  Comey Comey Response  \n",
       "0  Do you have any doubt that Russia attempted to...  COMEY          None.  \n",
       "1  Do you have any doubt that the Russian governm...  COMEY  No, no doubt.  "
      ]
     },
     "execution_count": 4,
     "metadata": {},
     "output_type": "execute_result"
    }
   ],
   "source": [
    "comey.head(2)"
   ]
  },
  {
   "cell_type": "code",
   "execution_count": 5,
   "id": "74e2f3c1-d874-4d69-9cde-cd3be4849ef0",
   "metadata": {},
   "outputs": [
    {
     "data": {
      "text/plain": [
       "18"
      ]
     },
     "execution_count": 5,
     "metadata": {},
     "output_type": "execute_result"
    }
   ],
   "source": [
    "s = \"This is a sentence\"\n",
    "len(s)"
   ]
  },
  {
   "cell_type": "code",
   "execution_count": 6,
   "id": "497aa72a-e96d-4f6a-b231-d63cd6d4e251",
   "metadata": {},
   "outputs": [
    {
     "data": {
      "text/plain": [
       "['This', 'is', 'a', 'sentence']"
      ]
     },
     "execution_count": 6,
     "metadata": {},
     "output_type": "execute_result"
    }
   ],
   "source": [
    "s.split()"
   ]
  },
  {
   "cell_type": "code",
   "execution_count": 7,
   "id": "eb7e336a-b3fd-4962-ad3f-09a69ad5443d",
   "metadata": {},
   "outputs": [
    {
     "data": {
      "text/plain": [
       "4"
      ]
     },
     "execution_count": 7,
     "metadata": {},
     "output_type": "execute_result"
    }
   ],
   "source": [
    "len(s.split())"
   ]
  },
  {
   "cell_type": "code",
   "execution_count": 8,
   "id": "bdb71694-6f99-4ee4-b892-fd96794b7d21",
   "metadata": {},
   "outputs": [],
   "source": [
    "def get_len(s):\n",
    "    return len(s.split())"
   ]
  },
  {
   "cell_type": "code",
   "execution_count": 9,
   "id": "56445049-a01a-42aa-8cce-43270d6ba37c",
   "metadata": {},
   "outputs": [],
   "source": [
    "comey['ques_len'] = comey['Full Question'].map(get_len)"
   ]
  },
  {
   "cell_type": "code",
   "execution_count": 10,
   "id": "f11d8982-d8f3-499f-a5e3-dfef02d8c6d7",
   "metadata": {},
   "outputs": [],
   "source": [
    "comey['ans_len'] = comey['Comey Response'].map(get_len)"
   ]
  },
  {
   "cell_type": "code",
   "execution_count": 11,
   "id": "8eabdaca-d2d1-4fd9-a11f-b4683b4d2dba",
   "metadata": {},
   "outputs": [
    {
     "data": {
      "text/html": [
       "<div>\n",
       "<style scoped>\n",
       "    .dataframe tbody tr th:only-of-type {\n",
       "        vertical-align: middle;\n",
       "    }\n",
       "\n",
       "    .dataframe tbody tr th {\n",
       "        vertical-align: top;\n",
       "    }\n",
       "\n",
       "    .dataframe thead th {\n",
       "        text-align: right;\n",
       "    }\n",
       "</style>\n",
       "<table border=\"1\" class=\"dataframe\">\n",
       "  <thead>\n",
       "    <tr style=\"text-align: right;\">\n",
       "      <th></th>\n",
       "      <th>Senator</th>\n",
       "      <th>Party Affiliation</th>\n",
       "      <th>Full Question</th>\n",
       "      <th>Comey</th>\n",
       "      <th>Comey Response</th>\n",
       "      <th>ques_len</th>\n",
       "      <th>ans_len</th>\n",
       "    </tr>\n",
       "  </thead>\n",
       "  <tbody>\n",
       "    <tr>\n",
       "      <th>0</th>\n",
       "      <td>BURR</td>\n",
       "      <td>Republican</td>\n",
       "      <td>Do you have any doubt that Russia attempted to...</td>\n",
       "      <td>COMEY</td>\n",
       "      <td>None.</td>\n",
       "      <td>14</td>\n",
       "      <td>1</td>\n",
       "    </tr>\n",
       "    <tr>\n",
       "      <th>1</th>\n",
       "      <td>BURR</td>\n",
       "      <td>Republican</td>\n",
       "      <td>Do you have any doubt that the Russian governm...</td>\n",
       "      <td>COMEY</td>\n",
       "      <td>No, no doubt.</td>\n",
       "      <td>26</td>\n",
       "      <td>3</td>\n",
       "    </tr>\n",
       "  </tbody>\n",
       "</table>\n",
       "</div>"
      ],
      "text/plain": [
       "  Senator Party Affiliation  \\\n",
       "0    BURR        Republican   \n",
       "1    BURR        Republican   \n",
       "\n",
       "                                       Full Question  Comey Comey Response  \\\n",
       "0  Do you have any doubt that Russia attempted to...  COMEY          None.   \n",
       "1  Do you have any doubt that the Russian governm...  COMEY  No, no doubt.   \n",
       "\n",
       "   ques_len  ans_len  \n",
       "0        14        1  \n",
       "1        26        3  "
      ]
     },
     "execution_count": 11,
     "metadata": {},
     "output_type": "execute_result"
    }
   ],
   "source": [
    "comey.head(2)"
   ]
  },
  {
   "cell_type": "code",
   "execution_count": 12,
   "id": "c948e431-51c6-4032-86ee-6b3db2c84659",
   "metadata": {},
   "outputs": [
    {
     "data": {
      "text/html": [
       "<div>\n",
       "<style scoped>\n",
       "    .dataframe tbody tr th:only-of-type {\n",
       "        vertical-align: middle;\n",
       "    }\n",
       "\n",
       "    .dataframe tbody tr th {\n",
       "        vertical-align: top;\n",
       "    }\n",
       "\n",
       "    .dataframe thead th {\n",
       "        text-align: right;\n",
       "    }\n",
       "</style>\n",
       "<table border=\"1\" class=\"dataframe\">\n",
       "  <thead>\n",
       "    <tr style=\"text-align: right;\">\n",
       "      <th></th>\n",
       "      <th>ques_len</th>\n",
       "      <th>ans_len</th>\n",
       "    </tr>\n",
       "    <tr>\n",
       "      <th>Party Affiliation</th>\n",
       "      <th></th>\n",
       "      <th></th>\n",
       "    </tr>\n",
       "  </thead>\n",
       "  <tbody>\n",
       "    <tr>\n",
       "      <th>Democrat</th>\n",
       "      <td>37.236364</td>\n",
       "      <td>43.309091</td>\n",
       "    </tr>\n",
       "    <tr>\n",
       "      <th>Independent</th>\n",
       "      <td>29.500000</td>\n",
       "      <td>23.350000</td>\n",
       "    </tr>\n",
       "    <tr>\n",
       "      <th>Republican</th>\n",
       "      <td>39.839286</td>\n",
       "      <td>25.875000</td>\n",
       "    </tr>\n",
       "  </tbody>\n",
       "</table>\n",
       "</div>"
      ],
      "text/plain": [
       "                    ques_len    ans_len\n",
       "Party Affiliation                      \n",
       "Democrat           37.236364  43.309091\n",
       "Independent        29.500000  23.350000\n",
       "Republican         39.839286  25.875000"
      ]
     },
     "execution_count": 12,
     "metadata": {},
     "output_type": "execute_result"
    }
   ],
   "source": [
    "comey.groupby('Party Affiliation').agg({'ques_len':'mean','ans_len':'mean'})"
   ]
  },
  {
   "cell_type": "code",
   "execution_count": null,
   "id": "73b9c908-ad27-4c66-8523-0b524350e077",
   "metadata": {},
   "outputs": [],
   "source": []
  },
  {
   "cell_type": "code",
   "execution_count": null,
   "id": "adedec79-59b4-43af-8ed5-b1397899b628",
   "metadata": {},
   "outputs": [],
   "source": []
  }
 ],
 "metadata": {
  "kernelspec": {
   "display_name": "Python 3 (ipykernel)",
   "language": "python",
   "name": "python3"
  },
  "language_info": {
   "codemirror_mode": {
    "name": "ipython",
    "version": 3
   },
   "file_extension": ".py",
   "mimetype": "text/x-python",
   "name": "python",
   "nbconvert_exporter": "python",
   "pygments_lexer": "ipython3",
   "version": "3.9.13"
  }
 },
 "nbformat": 4,
 "nbformat_minor": 5
}
