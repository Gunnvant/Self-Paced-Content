{
 "cells": [
  {
   "cell_type": "markdown",
   "id": "a9747ae9-8134-4693-857f-7575072dc810",
   "metadata": {},
   "source": [
    "### Measuring Model Performance\n",
    "\n",
    "- Computing Accuracy\n",
    "- ROC and AUC\n",
    "- Confusion Matrix\n",
    "- Cross Validation and regularization"
   ]
  },
  {
   "cell_type": "code",
   "execution_count": 1,
   "id": "09c0f8ea-941a-4b10-b6a2-3b270cf0de1e",
   "metadata": {
    "tags": []
   },
   "outputs": [],
   "source": [
    "import pandas as pd\n",
    "df = pd.read_csv(\"../data/car_insurance.csv\")"
   ]
  },
  {
   "cell_type": "code",
   "execution_count": 2,
   "id": "d5e327cb-fd74-415b-8bb9-3ffec17c6e12",
   "metadata": {
    "tags": []
   },
   "outputs": [
    {
     "data": {
      "text/html": [
       "<div>\n",
       "<style scoped>\n",
       "    .dataframe tbody tr th:only-of-type {\n",
       "        vertical-align: middle;\n",
       "    }\n",
       "\n",
       "    .dataframe tbody tr th {\n",
       "        vertical-align: top;\n",
       "    }\n",
       "\n",
       "    .dataframe thead th {\n",
       "        text-align: right;\n",
       "    }\n",
       "</style>\n",
       "<table border=\"1\" class=\"dataframe\">\n",
       "  <thead>\n",
       "    <tr style=\"text-align: right;\">\n",
       "      <th></th>\n",
       "      <th>policy_id</th>\n",
       "      <th>policy_tenure</th>\n",
       "      <th>age_of_car</th>\n",
       "      <th>age_of_policyholder</th>\n",
       "      <th>area_cluster</th>\n",
       "      <th>population_density</th>\n",
       "      <th>make</th>\n",
       "      <th>segment</th>\n",
       "      <th>model</th>\n",
       "      <th>fuel_type</th>\n",
       "      <th>...</th>\n",
       "      <th>is_brake_assist</th>\n",
       "      <th>is_power_door_locks</th>\n",
       "      <th>is_central_locking</th>\n",
       "      <th>is_power_steering</th>\n",
       "      <th>is_driver_seat_height_adjustable</th>\n",
       "      <th>is_day_night_rear_view_mirror</th>\n",
       "      <th>is_ecw</th>\n",
       "      <th>is_speed_alert</th>\n",
       "      <th>ncap_rating</th>\n",
       "      <th>is_claim</th>\n",
       "    </tr>\n",
       "  </thead>\n",
       "  <tbody>\n",
       "    <tr>\n",
       "      <th>0</th>\n",
       "      <td>ID00001</td>\n",
       "      <td>0.515874</td>\n",
       "      <td>0.05</td>\n",
       "      <td>0.644231</td>\n",
       "      <td>C1</td>\n",
       "      <td>4990</td>\n",
       "      <td>1</td>\n",
       "      <td>A</td>\n",
       "      <td>M1</td>\n",
       "      <td>CNG</td>\n",
       "      <td>...</td>\n",
       "      <td>No</td>\n",
       "      <td>No</td>\n",
       "      <td>No</td>\n",
       "      <td>Yes</td>\n",
       "      <td>No</td>\n",
       "      <td>No</td>\n",
       "      <td>No</td>\n",
       "      <td>Yes</td>\n",
       "      <td>0</td>\n",
       "      <td>0</td>\n",
       "    </tr>\n",
       "    <tr>\n",
       "      <th>1</th>\n",
       "      <td>ID00002</td>\n",
       "      <td>0.672619</td>\n",
       "      <td>0.02</td>\n",
       "      <td>0.375000</td>\n",
       "      <td>C2</td>\n",
       "      <td>27003</td>\n",
       "      <td>1</td>\n",
       "      <td>A</td>\n",
       "      <td>M1</td>\n",
       "      <td>CNG</td>\n",
       "      <td>...</td>\n",
       "      <td>No</td>\n",
       "      <td>No</td>\n",
       "      <td>No</td>\n",
       "      <td>Yes</td>\n",
       "      <td>No</td>\n",
       "      <td>No</td>\n",
       "      <td>No</td>\n",
       "      <td>Yes</td>\n",
       "      <td>0</td>\n",
       "      <td>0</td>\n",
       "    </tr>\n",
       "  </tbody>\n",
       "</table>\n",
       "<p>2 rows × 44 columns</p>\n",
       "</div>"
      ],
      "text/plain": [
       "  policy_id  policy_tenure  age_of_car  age_of_policyholder area_cluster  \\\n",
       "0   ID00001       0.515874        0.05             0.644231           C1   \n",
       "1   ID00002       0.672619        0.02             0.375000           C2   \n",
       "\n",
       "   population_density  make segment model fuel_type  ... is_brake_assist  \\\n",
       "0                4990     1       A    M1       CNG  ...              No   \n",
       "1               27003     1       A    M1       CNG  ...              No   \n",
       "\n",
       "  is_power_door_locks is_central_locking  is_power_steering  \\\n",
       "0                  No                 No                Yes   \n",
       "1                  No                 No                Yes   \n",
       "\n",
       "  is_driver_seat_height_adjustable is_day_night_rear_view_mirror is_ecw  \\\n",
       "0                               No                            No     No   \n",
       "1                               No                            No     No   \n",
       "\n",
       "  is_speed_alert ncap_rating is_claim  \n",
       "0            Yes           0        0  \n",
       "1            Yes           0        0  \n",
       "\n",
       "[2 rows x 44 columns]"
      ]
     },
     "execution_count": 2,
     "metadata": {},
     "output_type": "execute_result"
    }
   ],
   "source": [
    "df.head(2)"
   ]
  },
  {
   "cell_type": "code",
   "execution_count": 3,
   "id": "8ee1eaa4-519b-4e81-87be-b9d000c62347",
   "metadata": {
    "tags": []
   },
   "outputs": [],
   "source": [
    "pred_vars = ['policy_tenure','age_of_car','age_of_policyholder']\n",
    "X = df[pred_vars].values\n",
    "y = df['is_claim'].values"
   ]
  },
  {
   "cell_type": "code",
   "execution_count": 4,
   "id": "ed5684de-f40b-4e93-bccb-35d91d80c747",
   "metadata": {
    "tags": []
   },
   "outputs": [],
   "source": [
    "from sklearn.model_selection import train_test_split\n",
    "from sklearn.linear_model import LogisticRegression"
   ]
  },
  {
   "cell_type": "code",
   "execution_count": 5,
   "id": "1b8486b8-3cbc-465c-a4c5-e8358851325f",
   "metadata": {
    "tags": []
   },
   "outputs": [],
   "source": [
    "X_train,X_test,y_train,y_test = train_test_split(X,y,test_size=0.2)\n",
    "reg = LogisticRegression()"
   ]
  },
  {
   "cell_type": "code",
   "execution_count": 6,
   "id": "04ea436d-30d6-4b9b-8cd3-661bdef89185",
   "metadata": {
    "tags": []
   },
   "outputs": [],
   "source": [
    "m = reg.fit(X_train,y_train)"
   ]
  },
  {
   "cell_type": "markdown",
   "id": "e1269b4b-beb7-4368-bad0-32ea976058d4",
   "metadata": {},
   "source": [
    "### Getting predictions and computing performance metrics"
   ]
  },
  {
   "cell_type": "code",
   "execution_count": 7,
   "id": "95682b78-1ef0-41e0-9b7b-7cdcd64997d5",
   "metadata": {
    "tags": []
   },
   "outputs": [],
   "source": [
    "from sklearn.metrics import roc_auc_score,roc_curve,confusion_matrix"
   ]
  },
  {
   "cell_type": "markdown",
   "id": "f8d5b508-5547-4d90-a6d7-8c3aeb558327",
   "metadata": {},
   "source": [
    "#### Confusion Matrix"
   ]
  },
  {
   "cell_type": "code",
   "execution_count": 8,
   "id": "56f0ea84-6956-418a-afab-d276843c3ec3",
   "metadata": {
    "tags": []
   },
   "outputs": [
    {
     "data": {
      "text/plain": [
       "0.06368271712926418"
      ]
     },
     "execution_count": 8,
     "metadata": {},
     "output_type": "execute_result"
    }
   ],
   "source": [
    "y_train.mean()"
   ]
  },
  {
   "cell_type": "code",
   "execution_count": 9,
   "id": "8215711b-aba0-4b2b-8734-e31925f446fc",
   "metadata": {
    "tags": []
   },
   "outputs": [],
   "source": [
    "prob_test = m.predict_proba(X_test)\n",
    "y_pred_50 = (prob_test[:,1]>0.5).astype('int')\n",
    "y_pred_6 = (prob_test[:,1]>0.06).astype('int')"
   ]
  },
  {
   "cell_type": "code",
   "execution_count": 10,
   "id": "07cace99-42c0-442c-b93e-b222571e2415",
   "metadata": {
    "tags": []
   },
   "outputs": [
    {
     "data": {
      "text/plain": [
       "array([[10956,     0],\n",
       "       [  763,     0]], dtype=int64)"
      ]
     },
     "execution_count": 10,
     "metadata": {},
     "output_type": "execute_result"
    }
   ],
   "source": [
    "confusion_matrix(y_test,y_pred_50)"
   ]
  },
  {
   "cell_type": "markdown",
   "id": "48243a6d-1a6d-4d61-b594-7ca658968981",
   "metadata": {},
   "source": [
    "#### Interpretation\n",
    "\n",
    "- 10955 belong to class 0 and predicted in class 0\n",
    "- 0 belong to class 0 and predicted in class 1\n",
    "- 764 belong to class 1 and predicted in class 0 (Missclassified)\n",
    "- 0 belong to class 1 and predicted in class 1"
   ]
  },
  {
   "cell_type": "code",
   "execution_count": 11,
   "id": "c09ae53e-8e42-41f7-9951-8eae62732322",
   "metadata": {
    "tags": []
   },
   "outputs": [
    {
     "data": {
      "text/plain": [
       "array([[5644, 5312],\n",
       "       [ 274,  489]], dtype=int64)"
      ]
     },
     "execution_count": 11,
     "metadata": {},
     "output_type": "execute_result"
    }
   ],
   "source": [
    "confusion_matrix(y_test,y_pred_6)"
   ]
  },
  {
   "cell_type": "markdown",
   "id": "73fd7e2b-36b3-411b-97d0-46b60f14db36",
   "metadata": {},
   "source": [
    "#### Interpretation\n",
    "\n",
    "- 5588 belong to class 0 and predicted in class 0\n",
    "- 5367 belong to class 0 and predicted in class 1 (Missclassified)\n",
    "- 294 belong to class 1 and predicted in class 0 (Missclassified)\n",
    "- 470 belong to class 1 and predicted in class 1"
   ]
  },
  {
   "cell_type": "markdown",
   "id": "c92b60f5-a5f8-4ee4-8bc5-91df4872fd51",
   "metadata": {},
   "source": [
    "#### ROC Curve"
   ]
  },
  {
   "cell_type": "code",
   "execution_count": 12,
   "id": "438bbd27-89d4-4f75-bf51-4232bacdd0ef",
   "metadata": {
    "tags": []
   },
   "outputs": [],
   "source": [
    "fpr,tpr,thr=roc_curve(y_test,prob_test[:,1])"
   ]
  },
  {
   "cell_type": "code",
   "execution_count": 13,
   "id": "66b6147f-fab1-427c-99bd-7be9d735c1ab",
   "metadata": {
    "tags": []
   },
   "outputs": [],
   "source": [
    "import matplotlib.pyplot as plt"
   ]
  },
  {
   "cell_type": "code",
   "execution_count": 14,
   "id": "39151f34-d987-4129-95a3-bcf626b13c1f",
   "metadata": {
    "tags": []
   },
   "outputs": [
    {
     "data": {
      "text/plain": [
       "[<matplotlib.lines.Line2D at 0x21e8551fac0>]"
      ]
     },
     "execution_count": 14,
     "metadata": {},
     "output_type": "execute_result"
    },
    {
     "data": {
      "image/png": "[encoded data removed]",
      "text/plain": [
       "<Figure size 640x480 with 1 Axes>"
      ]
     },
     "metadata": {},
     "output_type": "display_data"
    }
   ],
   "source": [
    "plt.plot(fpr,tpr,\"-\")"
   ]
  },
  {
   "cell_type": "markdown",
   "id": "7e844700-154f-4a67-85d6-6b583c4302c7",
   "metadata": {},
   "source": [
    "#### AUC Score"
   ]
  },
  {
   "cell_type": "code",
   "execution_count": 15,
   "id": "3f0a7db3-598c-41fb-b8c3-bfbfedac657e",
   "metadata": {
    "tags": []
   },
   "outputs": [
    {
     "data": {
      "text/plain": [
       "0.6090993307197574"
      ]
     },
     "execution_count": 15,
     "metadata": {},
     "output_type": "execute_result"
    }
   ],
   "source": [
    "roc_auc_score(y_test,prob_test[:,1])"
   ]
  },
  {
   "cell_type": "markdown",
   "id": "02bc4adf-f331-40d2-9ef3-368f9660ba6f",
   "metadata": {},
   "source": [
    "### Regularization in Logistic Regression\n",
    "\n",
    "Just like in linear regression setting one can use regularization in logistic regression as well.\n",
    "\n",
    "**L1 Penalty: Lasso**\n",
    "\n",
    "$Logistic Cost + \\lambda\\sum|x_i|$\n",
    "\n",
    "In sklearn instead of Lambda we use inverse of regularization strength known as C.\n",
    "\n",
    "$C = \\frac{1}{\\lambda}$\n",
    "\n",
    "$Logistic Cost +\\frac{1}{C}\\sum|x_i|$\n",
    "\n",
    "Higher the value of C lower is impact of the regularization term\n",
    "\n",
    "\n",
    "**L2 Penalty: Ridge**\n",
    "\n",
    "$Logistic Cost + \\lambda\\sum x^2_i$\n",
    "\n",
    "In sklearn instead of Lambda we use inverse of regularization strength known as C.\n",
    "\n",
    "$C = \\frac{1}{\\lambda}$\n",
    "\n",
    "$Logistic Cost +\\frac{1}{C}\\sum x^2_i$\n",
    "\n",
    "Higher the value of C lower is impact of the regularization term\n"
   ]
  },
  {
   "cell_type": "code",
   "execution_count": 16,
   "id": "226a98cf-865e-465e-827c-197c05a2d90b",
   "metadata": {
    "tags": []
   },
   "outputs": [],
   "source": [
    "### Lasso Regression\n",
    "from sklearn.model_selection import GridSearchCV\n",
    "import numpy as np\n",
    "c_grid = np.arange(1,20,1)\n",
    "reg = GridSearchCV(LogisticRegression(penalty=\"l1\",solver=\"liblinear\"),\n",
    "                   param_grid={'C':c_grid},cv=3)"
   ]
  },
  {
   "cell_type": "code",
   "execution_count": 17,
   "id": "7cbdfbc3-5d6f-4628-8060-4f5b9d4247ea",
   "metadata": {
    "tags": []
   },
   "outputs": [],
   "source": [
    "m = reg.fit(X_train,y_train)"
   ]
  },
  {
   "cell_type": "code",
   "execution_count": 18,
   "id": "2db3c439-5147-4306-9d41-bf89d51a24b9",
   "metadata": {
    "tags": []
   },
   "outputs": [
    {
     "data": {
      "text/plain": [
       "{'C': 1}"
      ]
     },
     "execution_count": 18,
     "metadata": {},
     "output_type": "execute_result"
    }
   ],
   "source": [
    "m.best_params_"
   ]
  },
  {
   "cell_type": "code",
   "execution_count": 19,
   "id": "4cc28867-75f8-4f5b-9410-c24b9c916c49",
   "metadata": {
    "tags": []
   },
   "outputs": [
    {
     "data": {
      "text/plain": [
       "array([-3.19943974])"
      ]
     },
     "execution_count": 19,
     "metadata": {},
     "output_type": "execute_result"
    }
   ],
   "source": [
    "m.best_estimator_.intercept_"
   ]
  },
  {
   "cell_type": "code",
   "execution_count": 20,
   "id": "f4b8dbd7-3a63-49c7-aa3a-a7342e524688",
   "metadata": {
    "tags": []
   },
   "outputs": [
    {
     "data": {
      "text/plain": [
       "array([[ 0.84694317, -3.04842541,  0.31008155]])"
      ]
     },
     "execution_count": 20,
     "metadata": {},
     "output_type": "execute_result"
    }
   ],
   "source": [
    "m.best_estimator_.coef_"
   ]
  },
  {
   "cell_type": "code",
   "execution_count": 21,
   "id": "10633c1d-01fc-4d7d-8651-8a0bf7daa24c",
   "metadata": {
    "tags": []
   },
   "outputs": [],
   "source": [
    "### Ridge Regression\n",
    "reg = GridSearchCV(LogisticRegression(penalty=\"l2\",solver=\"liblinear\"),\n",
    "                   param_grid={'C':c_grid},cv=3)"
   ]
  },
  {
   "cell_type": "code",
   "execution_count": 22,
   "id": "bf25beaa-ebe5-42df-899a-559c62b3c8b8",
   "metadata": {
    "tags": []
   },
   "outputs": [],
   "source": [
    "m = reg.fit(X_train,y_train)"
   ]
  },
  {
   "cell_type": "code",
   "execution_count": 23,
   "id": "9df04c76-0ea3-417f-9650-a79c518a3a6f",
   "metadata": {
    "tags": []
   },
   "outputs": [
    {
     "data": {
      "text/plain": [
       "{'C': 1}"
      ]
     },
     "execution_count": 23,
     "metadata": {},
     "output_type": "execute_result"
    }
   ],
   "source": [
    "m.best_params_"
   ]
  },
  {
   "cell_type": "code",
   "execution_count": 24,
   "id": "adaa286c-0f48-4f1f-85c4-8ceb3daad2e2",
   "metadata": {
    "tags": []
   },
   "outputs": [
    {
     "data": {
      "text/plain": [
       "array([-3.20657679])"
      ]
     },
     "execution_count": 24,
     "metadata": {},
     "output_type": "execute_result"
    }
   ],
   "source": [
    "m.best_estimator_.intercept_"
   ]
  },
  {
   "cell_type": "code",
   "execution_count": 25,
   "id": "8f0b60ee-8d5b-4a2e-b4d9-bd949d57ff30",
   "metadata": {
    "tags": []
   },
   "outputs": [
    {
     "data": {
      "text/plain": [
       "array([[ 0.83785403, -2.81972704,  0.30947497]])"
      ]
     },
     "execution_count": 25,
     "metadata": {},
     "output_type": "execute_result"
    }
   ],
   "source": [
    "m.best_estimator_.coef_"
   ]
  },
  {
   "cell_type": "code",
   "execution_count": null,
   "id": "6bec38ea-d0ef-4aeb-8566-fef4f4e95c19",
   "metadata": {},
   "outputs": [],
   "source": []
  }
 ],
 "metadata": {
  "kernelspec": {
   "display_name": "Python 3 (ipykernel)",
   "language": "python",
   "name": "python3"
  },
  "language_info": {
   "codemirror_mode": {
    "name": "ipython",
    "version": 3
   },
   "file_extension": ".py",
   "mimetype": "text/x-python",
   "name": "python",
   "nbconvert_exporter": "python",
   "pygments_lexer": "ipython3",
   "version": "3.9.16"
  }
 },
 "nbformat": 4,
 "nbformat_minor": 5
}
