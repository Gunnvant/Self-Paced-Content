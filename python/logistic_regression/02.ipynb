{
 "cells": [
  {
   "cell_type": "code",
   "execution_count": 1,
   "id": "24d08764-7882-4dda-aaa9-eedba7a1c20f",
   "metadata": {},
   "outputs": [
    {
     "data": {
      "text/html": [
       "<div>\n",
       "<style scoped>\n",
       "    .dataframe tbody tr th:only-of-type {\n",
       "        vertical-align: middle;\n",
       "    }\n",
       "\n",
       "    .dataframe tbody tr th {\n",
       "        vertical-align: top;\n",
       "    }\n",
       "\n",
       "    .dataframe thead th {\n",
       "        text-align: right;\n",
       "    }\n",
       "</style>\n",
       "<table border=\"1\" class=\"dataframe\">\n",
       "  <thead>\n",
       "    <tr style=\"text-align: right;\">\n",
       "      <th></th>\n",
       "      <th>policy_id</th>\n",
       "      <th>policy_tenure</th>\n",
       "      <th>age_of_car</th>\n",
       "      <th>age_of_policyholder</th>\n",
       "      <th>area_cluster</th>\n",
       "      <th>population_density</th>\n",
       "      <th>make</th>\n",
       "      <th>segment</th>\n",
       "      <th>model</th>\n",
       "      <th>fuel_type</th>\n",
       "      <th>...</th>\n",
       "      <th>is_brake_assist</th>\n",
       "      <th>is_power_door_locks</th>\n",
       "      <th>is_central_locking</th>\n",
       "      <th>is_power_steering</th>\n",
       "      <th>is_driver_seat_height_adjustable</th>\n",
       "      <th>is_day_night_rear_view_mirror</th>\n",
       "      <th>is_ecw</th>\n",
       "      <th>is_speed_alert</th>\n",
       "      <th>ncap_rating</th>\n",
       "      <th>is_claim</th>\n",
       "    </tr>\n",
       "  </thead>\n",
       "  <tbody>\n",
       "    <tr>\n",
       "      <th>0</th>\n",
       "      <td>ID00001</td>\n",
       "      <td>0.515874</td>\n",
       "      <td>0.05</td>\n",
       "      <td>0.644231</td>\n",
       "      <td>C1</td>\n",
       "      <td>4990</td>\n",
       "      <td>1</td>\n",
       "      <td>A</td>\n",
       "      <td>M1</td>\n",
       "      <td>CNG</td>\n",
       "      <td>...</td>\n",
       "      <td>No</td>\n",
       "      <td>No</td>\n",
       "      <td>No</td>\n",
       "      <td>Yes</td>\n",
       "      <td>No</td>\n",
       "      <td>No</td>\n",
       "      <td>No</td>\n",
       "      <td>Yes</td>\n",
       "      <td>0</td>\n",
       "      <td>0</td>\n",
       "    </tr>\n",
       "    <tr>\n",
       "      <th>1</th>\n",
       "      <td>ID00002</td>\n",
       "      <td>0.672619</td>\n",
       "      <td>0.02</td>\n",
       "      <td>0.375000</td>\n",
       "      <td>C2</td>\n",
       "      <td>27003</td>\n",
       "      <td>1</td>\n",
       "      <td>A</td>\n",
       "      <td>M1</td>\n",
       "      <td>CNG</td>\n",
       "      <td>...</td>\n",
       "      <td>No</td>\n",
       "      <td>No</td>\n",
       "      <td>No</td>\n",
       "      <td>Yes</td>\n",
       "      <td>No</td>\n",
       "      <td>No</td>\n",
       "      <td>No</td>\n",
       "      <td>Yes</td>\n",
       "      <td>0</td>\n",
       "      <td>0</td>\n",
       "    </tr>\n",
       "  </tbody>\n",
       "</table>\n",
       "<p>2 rows × 44 columns</p>\n",
       "</div>"
      ],
      "text/plain": [
       "  policy_id  policy_tenure  age_of_car  age_of_policyholder area_cluster  \\\n",
       "0   ID00001       0.515874        0.05             0.644231           C1   \n",
       "1   ID00002       0.672619        0.02             0.375000           C2   \n",
       "\n",
       "   population_density  make segment model fuel_type  ... is_brake_assist  \\\n",
       "0                4990     1       A    M1       CNG  ...              No   \n",
       "1               27003     1       A    M1       CNG  ...              No   \n",
       "\n",
       "  is_power_door_locks is_central_locking  is_power_steering  \\\n",
       "0                  No                 No                Yes   \n",
       "1                  No                 No                Yes   \n",
       "\n",
       "  is_driver_seat_height_adjustable is_day_night_rear_view_mirror is_ecw  \\\n",
       "0                               No                            No     No   \n",
       "1                               No                            No     No   \n",
       "\n",
       "  is_speed_alert ncap_rating is_claim  \n",
       "0            Yes           0        0  \n",
       "1            Yes           0        0  \n",
       "\n",
       "[2 rows x 44 columns]"
      ]
     },
     "execution_count": 1,
     "metadata": {},
     "output_type": "execute_result"
    }
   ],
   "source": [
    "import pandas as pd\n",
    "df = pd.read_csv('car_insurance.csv')\n",
    "df.head(2)"
   ]
  },
  {
   "cell_type": "markdown",
   "id": "fbe17b7a-54a6-45da-a2c9-bbaeb661a74b",
   "metadata": {},
   "source": [
    "## Dataset\n",
    "Historical Data on auto claims.The objective is to predict if someone will be filing for an insurance claim in the next 6 months?"
   ]
  },
  {
   "cell_type": "code",
   "execution_count": 2,
   "id": "6aa8e6a0-b426-4e47-ad2d-93cc002e388b",
   "metadata": {},
   "outputs": [],
   "source": [
    "from sklearn.model_selection import train_test_split\n",
    "train,test = train_test_split(df,test_size=0.25)"
   ]
  },
  {
   "cell_type": "code",
   "execution_count": 3,
   "id": "f836a537-3c39-43e5-a636-f03dcb8672d5",
   "metadata": {},
   "outputs": [],
   "source": [
    "import statsmodels.formula.api as smf\n",
    "import statsmodels.api as sm"
   ]
  },
  {
   "cell_type": "code",
   "execution_count": 4,
   "id": "83ef7a0f-28d5-49e9-bdc2-f0bedbbfe998",
   "metadata": {},
   "outputs": [],
   "source": [
    "data_sub = train[['policy_tenure','age_of_car','age_of_policyholder','is_claim']]\n",
    "model = smf.glm(\"is_claim~policy_tenure+age_of_car\",data=data_sub,family=sm.families.Binomial()).fit()"
   ]
  },
  {
   "cell_type": "code",
   "execution_count": 5,
   "id": "ec6c65be-dfc5-4a82-9454-32116ac6e8c9",
   "metadata": {},
   "outputs": [
    {
     "name": "stdout",
     "output_type": "stream",
     "text": [
      "                 Generalized Linear Model Regression Results                  \n",
      "==============================================================================\n",
      "Dep. Variable:               is_claim   No. Observations:                43944\n",
      "Model:                            GLM   Df Residuals:                    43941\n",
      "Model Family:                Binomial   Df Model:                            2\n",
      "Link Function:                  Logit   Scale:                          1.0000\n",
      "Method:                          IRLS   Log-Likelihood:                -10219.\n",
      "Date:                Mon, 09 Jan 2023   Deviance:                       20439.\n",
      "Time:                        11:03:11   Pearson chi2:                 4.38e+04\n",
      "No. Iterations:                     6   Pseudo R-squ. (CS):           0.007422\n",
      "Covariance Type:            nonrobust                                         \n",
      "=================================================================================\n",
      "                    coef    std err          z      P>|z|      [0.025      0.975]\n",
      "---------------------------------------------------------------------------------\n",
      "Intercept        -3.0361      0.044    -69.276      0.000      -3.122      -2.950\n",
      "policy_tenure     0.8395      0.050     16.892      0.000       0.742       0.937\n",
      "age_of_car       -3.2538      0.381     -8.540      0.000      -4.001      -2.507\n",
      "=================================================================================\n"
     ]
    }
   ],
   "source": [
    "print(model.summary())"
   ]
  },
  {
   "cell_type": "markdown",
   "id": "13b18935-d49b-44c4-bf7d-d2530a477dd6",
   "metadata": {},
   "source": [
    "### Making predictions and computing ROC, AUC and Confusion Matrix"
   ]
  },
  {
   "cell_type": "code",
   "execution_count": 6,
   "id": "3ba4bdda-9c24-474e-bce2-4ef5e1ce77ec",
   "metadata": {},
   "outputs": [
    {
     "data": {
      "text/plain": [
       "14544    0.046032\n",
       "41085    0.043214\n",
       "39981    0.035844\n",
       "11505    0.041722\n",
       "39175    0.057672\n",
       "           ...   \n",
       "34759    0.067285\n",
       "39705    0.044308\n",
       "22264    0.055018\n",
       "38075    0.047206\n",
       "1794     0.061375\n",
       "Length: 14648, dtype: float64"
      ]
     },
     "execution_count": 6,
     "metadata": {},
     "output_type": "execute_result"
    }
   ],
   "source": [
    "model.predict(test)"
   ]
  },
  {
   "cell_type": "code",
   "execution_count": 7,
   "id": "cc73e33c-429f-4264-8b5e-4e8d3ef3b852",
   "metadata": {},
   "outputs": [],
   "source": [
    "from sklearn.metrics import confusion_matrix, roc_auc_score, roc_curve"
   ]
  },
  {
   "cell_type": "code",
   "execution_count": 8,
   "id": "a35b0ec6-315f-43b7-a0e8-25d6ad0ab308",
   "metadata": {},
   "outputs": [
    {
     "data": {
      "text/plain": [
       "0.06560622610595303"
      ]
     },
     "execution_count": 8,
     "metadata": {},
     "output_type": "execute_result"
    }
   ],
   "source": [
    "y_true = test['is_claim']\n",
    "y_true.mean()"
   ]
  },
  {
   "cell_type": "code",
   "execution_count": 9,
   "id": "b60fc8af-14e4-4eb2-9922-c0d4464179f2",
   "metadata": {},
   "outputs": [],
   "source": [
    "y_score = model.predict(test)\n",
    "y_pred = y_score.map(lambda x: 1 if x>0.067 else  0)"
   ]
  },
  {
   "cell_type": "code",
   "execution_count": 10,
   "id": "c69b92f2-4c6d-4aeb-951c-33c2c4d9a791",
   "metadata": {},
   "outputs": [
    {
     "data": {
      "text/plain": [
       "array([[8076, 5611],\n",
       "       [ 409,  552]])"
      ]
     },
     "execution_count": 10,
     "metadata": {},
     "output_type": "execute_result"
    }
   ],
   "source": [
    "confusion_matrix(y_true,y_pred)"
   ]
  },
  {
   "cell_type": "code",
   "execution_count": 11,
   "id": "c16c1098-6f14-474d-9b8d-c4ee3d139327",
   "metadata": {},
   "outputs": [
    {
     "data": {
      "text/plain": [
       "0.6172921174280919"
      ]
     },
     "execution_count": 11,
     "metadata": {},
     "output_type": "execute_result"
    }
   ],
   "source": [
    "roc_auc_score(y_true,y_score) ## marginally better than a coin toss"
   ]
  },
  {
   "cell_type": "code",
   "execution_count": 12,
   "id": "3d91bf56-014b-4f0a-b04e-750f20a24382",
   "metadata": {},
   "outputs": [],
   "source": [
    "fpr,tpr,thresh = roc_curve(y_true,y_score)"
   ]
  },
  {
   "cell_type": "code",
   "execution_count": 13,
   "id": "1103986a-a3fd-40f7-9d6a-4273d65fef23",
   "metadata": {},
   "outputs": [],
   "source": [
    "import matplotlib.pyplot as plt\n",
    "%matplotlib inline"
   ]
  },
  {
   "cell_type": "code",
   "execution_count": 14,
   "id": "2aa605e8-888f-4a96-a6cc-5da2bc7ea849",
   "metadata": {},
   "outputs": [
    {
     "data": {
      "text/plain": [
       "[<matplotlib.lines.Line2D at 0x1395ec8e0>]"
      ]
     },
     "execution_count": 14,
     "metadata": {},
     "output_type": "execute_result"
    },
    {
     "data": {
      "image/png": "[encoded data removed]",
      "text/plain": [
       "<Figure size 640x480 with 1 Axes>"
      ]
     },
     "metadata": {},
     "output_type": "display_data"
    }
   ],
   "source": [
    "plt.plot(fpr,tpr,\"-\")"
   ]
  },
  {
   "cell_type": "markdown",
   "id": "ab897358-d7cf-4654-90a0-72c2ff68e8cf",
   "metadata": {},
   "source": [
    "### Class Excercise: Students should create a model with 5 predictors of their choice and then compare the model performance with the previous model"
   ]
  },
  {
   "cell_type": "code",
   "execution_count": null,
   "id": "6a211a4b-df58-4fe1-8b97-53fdc5fd3060",
   "metadata": {},
   "outputs": [],
   "source": []
  }
 ],
 "metadata": {
  "kernelspec": {
   "display_name": "Python 3 (ipykernel)",
   "language": "python",
   "name": "python3"
  },
  "language_info": {
   "codemirror_mode": {
    "name": "ipython",
    "version": 3
   },
   "file_extension": ".py",
   "mimetype": "text/x-python",
   "name": "python",
   "nbconvert_exporter": "python",
   "pygments_lexer": "ipython3",
   "version": "3.9.13"
  }
 },
 "nbformat": 4,
 "nbformat_minor": 5
}
