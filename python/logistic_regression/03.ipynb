{
 "cells": [
  {
   "cell_type": "code",
   "execution_count": 2,
   "id": "cc844106-6aee-4525-ba7d-cc2bbb7ab2de",
   "metadata": {},
   "outputs": [],
   "source": [
    "import pandas as pd\n",
    "import matplotlib.pyplot as plt\n",
    "%matplotlib inline"
   ]
  },
  {
   "cell_type": "code",
   "execution_count": 3,
   "id": "c3a0753c-a6e9-44a0-b4d3-17219dab7229",
   "metadata": {},
   "outputs": [],
   "source": [
    "data=pd.read_csv(\"membership.csv\",na_values=[\"\",\" \",\"Missing\"])"
   ]
  },
  {
   "cell_type": "code",
   "execution_count": 4,
   "id": "768c1122-dedc-4881-b47e-e46f6f6265bf",
   "metadata": {},
   "outputs": [
    {
     "data": {
      "text/plain": [
       "MEMBERSHIP_NUMBER           0\n",
       "MEMBERSHIP_TERM_YEARS       0\n",
       "ANNUAL_FEES                 0\n",
       "MEMBER_MARITAL_STATUS    2597\n",
       "MEMBER_GENDER             611\n",
       "MEMBER_ANNUAL_INCOME     1754\n",
       "MEMBER_OCCUPATION_CD       43\n",
       "MEMBERSHIP_PACKAGE          0\n",
       "MEMBER_AGE_AT_ISSUE         0\n",
       "ADDITIONAL_MEMBERS          0\n",
       "PAYMENT_MODE                0\n",
       "AGENT_CODE                  0\n",
       "MEMBERSHIP_STATUS           0\n",
       "START_DATE (YYYYMMDD)       0\n",
       "END_DATE  (YYYYMMDD)     7219\n",
       "dtype: int64"
      ]
     },
     "execution_count": 4,
     "metadata": {},
     "output_type": "execute_result"
    }
   ],
   "source": [
    "data.isnull().sum()"
   ]
  },
  {
   "cell_type": "code",
   "execution_count": 5,
   "id": "d7cca082-036b-4770-9c4f-e47f91e628bc",
   "metadata": {},
   "outputs": [
    {
     "data": {
      "text/plain": [
       "MEMBERSHIP_NUMBER         object\n",
       "MEMBERSHIP_TERM_YEARS      int64\n",
       "ANNUAL_FEES              float64\n",
       "MEMBER_MARITAL_STATUS     object\n",
       "MEMBER_GENDER             object\n",
       "MEMBER_ANNUAL_INCOME     float64\n",
       "MEMBER_OCCUPATION_CD     float64\n",
       "MEMBERSHIP_PACKAGE        object\n",
       "MEMBER_AGE_AT_ISSUE        int64\n",
       "ADDITIONAL_MEMBERS         int64\n",
       "PAYMENT_MODE              object\n",
       "AGENT_CODE                object\n",
       "MEMBERSHIP_STATUS         object\n",
       "START_DATE (YYYYMMDD)      int64\n",
       "END_DATE  (YYYYMMDD)     float64\n",
       "dtype: object"
      ]
     },
     "execution_count": 5,
     "metadata": {},
     "output_type": "execute_result"
    }
   ],
   "source": [
    "data.dtypes"
   ]
  },
  {
   "cell_type": "code",
   "execution_count": 6,
   "id": "0a1dbae9-4e58-4571-818a-a0ce4d457f3d",
   "metadata": {},
   "outputs": [
    {
     "data": {
      "text/plain": [
       "count    10362.000000\n",
       "mean        29.395001\n",
       "std         22.427712\n",
       "min          9.000000\n",
       "25%         12.000000\n",
       "50%         19.000000\n",
       "75%         37.000000\n",
       "max        102.000000\n",
       "Name: MEMBERSHIP_TERM_YEARS, dtype: float64"
      ]
     },
     "execution_count": 6,
     "metadata": {},
     "output_type": "execute_result"
    }
   ],
   "source": [
    "## Data Exploration\n",
    "data[\"MEMBERSHIP_TERM_YEARS\"].describe()"
   ]
  },
  {
   "cell_type": "code",
   "execution_count": 8,
   "id": "5d32c847-d159-416d-813d-a6a90f2b480a",
   "metadata": {},
   "outputs": [
    {
     "data": {
      "text/plain": [
       "0.00     9.0\n",
       "0.01    12.0\n",
       "0.02    12.0\n",
       "0.03    12.0\n",
       "0.04    12.0\n",
       "        ... \n",
       "0.95    82.0\n",
       "0.96    87.0\n",
       "0.97    92.0\n",
       "0.98    96.0\n",
       "0.99    99.0\n",
       "Name: MEMBERSHIP_TERM_YEARS, Length: 100, dtype: float64"
      ]
     },
     "execution_count": 8,
     "metadata": {},
     "output_type": "execute_result"
    }
   ],
   "source": [
    "import numpy as np\n",
    "data[\"MEMBERSHIP_TERM_YEARS\"].quantile(q=np.arange(0,1,0.01))"
   ]
  },
  {
   "cell_type": "code",
   "execution_count": 9,
   "id": "06a7998b-5eaa-411e-aa18-d4460bea1d59",
   "metadata": {},
   "outputs": [
    {
     "data": {
      "text/plain": [
       "count    1.036200e+04\n",
       "mean     1.788122e+05\n",
       "std      2.688747e+05\n",
       "min      0.000000e+00\n",
       "25%      1.000000e+05\n",
       "50%      1.182093e+05\n",
       "75%      1.900000e+05\n",
       "max      1.010000e+07\n",
       "Name: ANNUAL_FEES, dtype: float64"
      ]
     },
     "execution_count": 9,
     "metadata": {},
     "output_type": "execute_result"
    }
   ],
   "source": [
    "data[\"ANNUAL_FEES\"].describe()"
   ]
  },
  {
   "cell_type": "code",
   "execution_count": 10,
   "id": "55c05735-d94f-4676-9753-f84262cbbb80",
   "metadata": {},
   "outputs": [
    {
     "data": {
      "text/plain": [
       "0.0         0.000\n",
       "0.1    100000.000\n",
       "0.2    100000.000\n",
       "0.3    100000.000\n",
       "0.4    101000.776\n",
       "0.5    118209.280\n",
       "0.6    125000.000\n",
       "0.7    150001.200\n",
       "0.8    200000.000\n",
       "0.9    299995.656\n",
       "Name: ANNUAL_FEES, dtype: float64"
      ]
     },
     "execution_count": 10,
     "metadata": {},
     "output_type": "execute_result"
    }
   ],
   "source": [
    "data[\"ANNUAL_FEES\"].quantile(q=np.arange(0,1,0.1))"
   ]
  },
  {
   "cell_type": "code",
   "execution_count": 11,
   "id": "47502977-8a64-4241-999b-c9ea4650ff87",
   "metadata": {},
   "outputs": [],
   "source": [
    "data[\"ANNUAL_FEES\"]=data[\"ANNUAL_FEES\"].map(lambda x: 299995.656 if x>299995.656 else x)"
   ]
  },
  {
   "cell_type": "code",
   "execution_count": 12,
   "id": "87dfe8c4-f1e3-44e6-81ee-fc2d6e97a191",
   "metadata": {},
   "outputs": [
    {
     "data": {
      "text/plain": [
       "INFORCE      7219\n",
       "CANCELLED    3143\n",
       "Name: MEMBERSHIP_STATUS, dtype: int64"
      ]
     },
     "execution_count": 12,
     "metadata": {},
     "output_type": "execute_result"
    }
   ],
   "source": [
    "data.MEMBERSHIP_STATUS.value_counts()"
   ]
  },
  {
   "cell_type": "code",
   "execution_count": 13,
   "id": "f8a908ab-8d0a-4740-a9d3-52f591fb4705",
   "metadata": {},
   "outputs": [],
   "source": [
    "data['MEMBERSHIP_STATUS'].fillna(\"INFORCE\",inplace=True)"
   ]
  },
  {
   "cell_type": "code",
   "execution_count": 14,
   "id": "0462c4bb-5dae-40f2-9aef-19d75dcc1946",
   "metadata": {},
   "outputs": [
    {
     "data": {
      "text/plain": [
       "M    7330\n",
       "F    2421\n",
       "Name: MEMBER_GENDER, dtype: int64"
      ]
     },
     "execution_count": 14,
     "metadata": {},
     "output_type": "execute_result"
    }
   ],
   "source": [
    "data.MEMBER_GENDER.value_counts()"
   ]
  },
  {
   "cell_type": "code",
   "execution_count": 15,
   "id": "55641017-e668-4ac1-9c69-d8b490e8288e",
   "metadata": {},
   "outputs": [],
   "source": [
    "data.MEMBER_GENDER.fillna(\"M\",inplace=True)"
   ]
  },
  {
   "cell_type": "code",
   "execution_count": 16,
   "id": "e17b2e14-a074-4d39-a97e-b022dec6b024",
   "metadata": {},
   "outputs": [
    {
     "data": {
      "text/plain": [
       "count    8.608000e+03\n",
       "mean     1.451100e+06\n",
       "std      1.757174e+07\n",
       "min      9.996000e+03\n",
       "25%      3.999960e+05\n",
       "50%      5.499960e+05\n",
       "75%      9.999960e+05\n",
       "max      1.000000e+09\n",
       "Name: MEMBER_ANNUAL_INCOME, dtype: float64"
      ]
     },
     "execution_count": 16,
     "metadata": {},
     "output_type": "execute_result"
    }
   ],
   "source": [
    "data.MEMBER_ANNUAL_INCOME.describe()"
   ]
  },
  {
   "cell_type": "code",
   "execution_count": 17,
   "id": "b5054aa4-e45f-4022-9f00-56986c9ceee0",
   "metadata": {},
   "outputs": [
    {
     "data": {
      "text/plain": [
       "0.0       9996.0\n",
       "0.1     290000.4\n",
       "0.2     349992.0\n",
       "0.3     399996.0\n",
       "0.4     499992.0\n",
       "0.5     549996.0\n",
       "0.6     699996.0\n",
       "0.7     900000.0\n",
       "0.8    1099992.0\n",
       "0.9    1800000.0\n",
       "Name: MEMBER_ANNUAL_INCOME, dtype: float64"
      ]
     },
     "execution_count": 17,
     "metadata": {},
     "output_type": "execute_result"
    }
   ],
   "source": [
    "data.MEMBER_ANNUAL_INCOME.quantile(q=np.arange(0,1,0.1))"
   ]
  },
  {
   "cell_type": "code",
   "execution_count": 18,
   "id": "10b68225-f656-44b7-8a13-a8795c5fa793",
   "metadata": {},
   "outputs": [],
   "source": [
    "data.MEMBER_ANNUAL_INCOME=data.MEMBER_ANNUAL_INCOME.map(lambda x:  1800000 if x> 1800000 else x)"
   ]
  },
  {
   "cell_type": "code",
   "execution_count": 19,
   "id": "55b72620-0969-4b5c-9e9d-bde44d8499b4",
   "metadata": {},
   "outputs": [
    {
     "data": {
      "text/plain": [
       "count    8.608000e+03\n",
       "mean     7.436371e+05\n",
       "std      4.908218e+05\n",
       "min      9.996000e+03\n",
       "25%      3.999960e+05\n",
       "50%      5.499960e+05\n",
       "75%      9.999960e+05\n",
       "max      1.800000e+06\n",
       "Name: MEMBER_ANNUAL_INCOME, dtype: float64"
      ]
     },
     "execution_count": 19,
     "metadata": {},
     "output_type": "execute_result"
    }
   ],
   "source": [
    "data.MEMBER_ANNUAL_INCOME.describe()"
   ]
  },
  {
   "cell_type": "code",
   "execution_count": 20,
   "id": "051f5b56-8858-48e0-ba29-8ca29c8cdc79",
   "metadata": {},
   "outputs": [],
   "source": [
    "data.MEMBER_ANNUAL_INCOME.fillna(5.499960e+05,inplace=True)"
   ]
  },
  {
   "cell_type": "code",
   "execution_count": 21,
   "id": "212c1aed-e200-480a-a778-df9bac436d27",
   "metadata": {},
   "outputs": [
    {
     "data": {
      "text/plain": [
       "TYPE-B    6809\n",
       "TYPE-A    3553\n",
       "Name: MEMBERSHIP_PACKAGE, dtype: int64"
      ]
     },
     "execution_count": 21,
     "metadata": {},
     "output_type": "execute_result"
    }
   ],
   "source": [
    "data.MEMBERSHIP_PACKAGE.value_counts()"
   ]
  },
  {
   "cell_type": "code",
   "execution_count": 22,
   "id": "d2f74d4c-4ed4-4071-8717-6240a4ea3d1a",
   "metadata": {},
   "outputs": [
    {
     "data": {
      "text/plain": [
       "count    10362.000000\n",
       "mean        46.798494\n",
       "std         13.897085\n",
       "min          0.000000\n",
       "25%         37.000000\n",
       "50%         46.000000\n",
       "75%         57.000000\n",
       "max         92.000000\n",
       "Name: MEMBER_AGE_AT_ISSUE, dtype: float64"
      ]
     },
     "execution_count": 22,
     "metadata": {},
     "output_type": "execute_result"
    }
   ],
   "source": [
    "data.MEMBER_AGE_AT_ISSUE.describe()"
   ]
  },
  {
   "cell_type": "code",
   "execution_count": 23,
   "id": "0ea9649b-d3b7-4274-9d26-8d7ba7ea1475",
   "metadata": {},
   "outputs": [
    {
     "data": {
      "text/plain": [
       "count    10362.000000\n",
       "mean         1.412276\n",
       "std          1.145136\n",
       "min          0.000000\n",
       "25%          0.000000\n",
       "50%          1.000000\n",
       "75%          2.000000\n",
       "max          3.000000\n",
       "Name: ADDITIONAL_MEMBERS, dtype: float64"
      ]
     },
     "execution_count": 23,
     "metadata": {},
     "output_type": "execute_result"
    }
   ],
   "source": [
    "data.ADDITIONAL_MEMBERS.describe()"
   ]
  },
  {
   "cell_type": "code",
   "execution_count": 24,
   "id": "c901b04a-8745-4264-8b44-adb7f051ee13",
   "metadata": {},
   "outputs": [
    {
     "data": {
      "text/plain": [
       "ANNUAL            6589\n",
       "MONTHLY           1881\n",
       "SEMI-ANNUAL       1493\n",
       "QUARTERLY          390\n",
       "SINGLE-PREMIUM       9\n",
       "Name: PAYMENT_MODE, dtype: int64"
      ]
     },
     "execution_count": 24,
     "metadata": {},
     "output_type": "execute_result"
    }
   ],
   "source": [
    "data.PAYMENT_MODE.value_counts()"
   ]
  },
  {
   "cell_type": "code",
   "execution_count": 25,
   "id": "849876e2-c40f-4e45-9c7b-58510ce1d6ae",
   "metadata": {},
   "outputs": [],
   "source": [
    "mask=data[data.PAYMENT_MODE==\"SINGLE-PREMIUM\"].index"
   ]
  },
  {
   "cell_type": "code",
   "execution_count": 26,
   "id": "a4d0f4c7-3188-4d77-a983-cb88fb4c0ab7",
   "metadata": {},
   "outputs": [],
   "source": [
    "data.drop(mask,inplace=True)"
   ]
  },
  {
   "cell_type": "code",
   "execution_count": 27,
   "id": "029defd8-507d-4322-96aa-778c4640db6f",
   "metadata": {},
   "outputs": [
    {
     "data": {
      "text/plain": [
       "(10353, 15)"
      ]
     },
     "execution_count": 27,
     "metadata": {},
     "output_type": "execute_result"
    }
   ],
   "source": [
    "data.shape"
   ]
  },
  {
   "cell_type": "code",
   "execution_count": 29,
   "id": "21d813d7-6858-484d-941c-0f2c55578446",
   "metadata": {},
   "outputs": [],
   "source": [
    "## Columns to be used ror modelling\n",
    "col=[\"PAYMENT_MODE\",\"ADDITIONAL_MEMBERS\",\"MEMBER_AGE_AT_ISSUE\",\"MEMBERSHIP_PACKAGE\",\"MEMBER_ANNUAL_INCOME\",\"MEMBER_GENDER\",\n",
    "     \"MEMBERSHIP_STATUS\",\"ANNUAL_FEES\",\"MEMBERSHIP_TERM_YEARS\"]\n",
    "data_mod=data[col]"
   ]
  },
  {
   "cell_type": "code",
   "execution_count": 30,
   "id": "f4ded1fb-ac87-44be-898a-7c2d78ced358",
   "metadata": {},
   "outputs": [
    {
     "data": {
      "text/plain": [
       "INFORCE      7210\n",
       "CANCELLED    3143\n",
       "Name: MEMBERSHIP_STATUS, dtype: int64"
      ]
     },
     "execution_count": 30,
     "metadata": {},
     "output_type": "execute_result"
    }
   ],
   "source": [
    "## Create target variable\n",
    "data_mod.MEMBERSHIP_STATUS.value_counts()"
   ]
  },
  {
   "cell_type": "code",
   "execution_count": 31,
   "id": "09dc0028-19d5-4e49-9447-56c0db99d3f2",
   "metadata": {},
   "outputs": [
    {
     "name": "stderr",
     "output_type": "stream",
     "text": [
      "/var/folders/7h/01sjg2sx6tl3y72r2klm24c80000gn/T/ipykernel_14224/3928734736.py:1: SettingWithCopyWarning: \n",
      "A value is trying to be set on a copy of a slice from a DataFrame.\n",
      "Try using .loc[row_indexer,col_indexer] = value instead\n",
      "\n",
      "See the caveats in the documentation: https://pandas.pydata.org/pandas-docs/stable/user_guide/indexing.html#returning-a-view-versus-a-copy\n",
      "  data_mod.MEMBERSHIP_STATUS=data_mod.MEMBERSHIP_STATUS.map(lambda x: 0 if x==\"INFORCE\" else 1)\n"
     ]
    }
   ],
   "source": [
    "data_mod.MEMBERSHIP_STATUS=data_mod.MEMBERSHIP_STATUS.map(lambda x: 0 if x==\"INFORCE\" else 1)"
   ]
  },
  {
   "cell_type": "code",
   "execution_count": 32,
   "id": "4b103be4-c43e-4121-a7cf-4b770ee7d7f2",
   "metadata": {},
   "outputs": [],
   "source": [
    "## Create test train data\n",
    "train=data_mod.sample(frac=0.7,random_state=200)\n",
    "test=data_mod.drop(train.index)"
   ]
  },
  {
   "cell_type": "code",
   "execution_count": 33,
   "id": "02837b59-0e11-4e12-9e1a-b44934c0eba1",
   "metadata": {},
   "outputs": [
    {
     "data": {
      "text/plain": [
       "(7247, 9)"
      ]
     },
     "execution_count": 33,
     "metadata": {},
     "output_type": "execute_result"
    }
   ],
   "source": [
    "train.shape"
   ]
  },
  {
   "cell_type": "code",
   "execution_count": 34,
   "id": "6f15a0bb-2fdc-4092-b6fe-09aa46b6acc1",
   "metadata": {},
   "outputs": [
    {
     "data": {
      "text/plain": [
       "(3106, 9)"
      ]
     },
     "execution_count": 34,
     "metadata": {},
     "output_type": "execute_result"
    }
   ],
   "source": [
    "test.shape"
   ]
  },
  {
   "cell_type": "code",
   "execution_count": 35,
   "id": "e17336b6-185e-4dce-b280-1933f9b3a8d3",
   "metadata": {},
   "outputs": [],
   "source": [
    "## Model\n",
    "import statsmodels.formula.api as smf\n",
    "import statsmodels.api as sm\n",
    "from patsy import dmatrices"
   ]
  },
  {
   "cell_type": "code",
   "execution_count": 36,
   "id": "d48c2ff5-4f1f-4f3e-adcb-da03025e8a6b",
   "metadata": {},
   "outputs": [
    {
     "data": {
      "text/plain": [
       "PAYMENT_MODE              object\n",
       "ADDITIONAL_MEMBERS         int64\n",
       "MEMBER_AGE_AT_ISSUE        int64\n",
       "MEMBERSHIP_PACKAGE        object\n",
       "MEMBER_ANNUAL_INCOME     float64\n",
       "MEMBER_GENDER             object\n",
       "MEMBERSHIP_STATUS          int64\n",
       "ANNUAL_FEES              float64\n",
       "MEMBERSHIP_TERM_YEARS      int64\n",
       "dtype: object"
      ]
     },
     "execution_count": 36,
     "metadata": {},
     "output_type": "execute_result"
    }
   ],
   "source": [
    "train.dtypes"
   ]
  },
  {
   "cell_type": "code",
   "execution_count": 37,
   "id": "a4c6174b-de05-494d-a25c-a9da81205c1c",
   "metadata": {},
   "outputs": [
    {
     "data": {
      "text/plain": [
       "'PAYMENT_MODE+ADDITIONAL_MEMBERS+MEMBER_AGE_AT_ISSUE+MEMBERSHIP_PACKAGE+MEMBER_ANNUAL_INCOME+MEMBER_GENDER+MEMBERSHIP_STATUS+ANNUAL_FEES+MEMBERSHIP_TERM_YEARS'"
      ]
     },
     "execution_count": 37,
     "metadata": {},
     "output_type": "execute_result"
    }
   ],
   "source": [
    "\"+\".join(train.columns)"
   ]
  },
  {
   "cell_type": "code",
   "execution_count": 38,
   "id": "1b45f7fa-fae8-41c8-9141-febd7521a641",
   "metadata": {},
   "outputs": [],
   "source": [
    "model=smf.glm('''MEMBERSHIP_STATUS~C(PAYMENT_MODE)+ADDITIONAL_MEMBERS+MEMBER_AGE_AT_ISSUE+C(MEMBERSHIP_PACKAGE)\n",
    "               +MEMBER_ANNUAL_INCOME+C(MEMBER_GENDER)+ANNUAL_FEES+MEMBERSHIP_TERM_YEARS''',data=train,\n",
    "                family=sm.families.Binomial()).fit()"
   ]
  },
  {
   "cell_type": "code",
   "execution_count": 39,
   "id": "952f96d6-fdd6-4d53-989f-8618aa950649",
   "metadata": {},
   "outputs": [
    {
     "name": "stdout",
     "output_type": "stream",
     "text": [
      "                       Results: Generalized linear model\n",
      "================================================================================\n",
      "Model:                   GLM                    AIC:                 8379.7797  \n",
      "Link Function:           Logit                  BIC:                 -55958.2693\n",
      "Dependent Variable:      MEMBERSHIP_STATUS      Log-Likelihood:      -4178.9    \n",
      "Date:                    2023-01-09 11:28       LL-Null:             -4456.9    \n",
      "No. Observations:        7247                   Deviance:            8357.8     \n",
      "Df Model:                10                     Pearson chi2:        7.19e+03   \n",
      "Df Residuals:            7236                   Scale:               1.0000     \n",
      "Method:                  IRLS                                                   \n",
      "--------------------------------------------------------------------------------\n",
      "                                 Coef.  Std.Err.    z     P>|z|   [0.025  0.975]\n",
      "--------------------------------------------------------------------------------\n",
      "Intercept                       -1.6549   0.1528 -10.8314 0.0000 -1.9543 -1.3554\n",
      "C(PAYMENT_MODE)[T.MONTHLY]       0.1469   0.0738   1.9906 0.0465  0.0023  0.2915\n",
      "C(PAYMENT_MODE)[T.QUARTERLY]     0.5061   0.1339   3.7806 0.0002  0.2437  0.7684\n",
      "C(PAYMENT_MODE)[T.SEMI-ANNUAL]   0.3695   0.0748   4.9414 0.0000  0.2229  0.5160\n",
      "C(MEMBERSHIP_PACKAGE)[T.TYPE-B]  1.1756   0.0698  16.8460 0.0000  1.0388  1.3124\n",
      "C(MEMBER_GENDER)[T.M]            0.2010   0.0649   3.0955 0.0020  0.0737  0.3283\n",
      "ADDITIONAL_MEMBERS              -0.0621   0.0239  -2.6028 0.0092 -0.1088 -0.0153\n",
      "MEMBER_AGE_AT_ISSUE             -0.0103   0.0019  -5.3001 0.0000 -0.0141 -0.0065\n",
      "MEMBER_ANNUAL_INCOME            -0.0000   0.0000  -6.7183 0.0000 -0.0000 -0.0000\n",
      "ANNUAL_FEES                      0.0000   0.0000   7.9470 0.0000  0.0000  0.0000\n",
      "MEMBERSHIP_TERM_YEARS            0.0037   0.0014   2.7326 0.0063  0.0010  0.0064\n",
      "================================================================================\n",
      "\n"
     ]
    }
   ],
   "source": [
    "print(model.summary2())"
   ]
  },
  {
   "cell_type": "code",
   "execution_count": 40,
   "id": "114d41b9-1882-449b-a324-14e9649de2bb",
   "metadata": {},
   "outputs": [],
   "source": [
    "predictions=model.predict(test)"
   ]
  },
  {
   "cell_type": "code",
   "execution_count": 41,
   "id": "855e8ac2-66b9-450c-a878-902ac98565e9",
   "metadata": {},
   "outputs": [
    {
     "data": {
      "text/plain": [
       "2     0.231347\n",
       "3     0.225863\n",
       "5     0.311249\n",
       "12    0.435447\n",
       "17    0.443697\n",
       "dtype: float64"
      ]
     },
     "execution_count": 41,
     "metadata": {},
     "output_type": "execute_result"
    }
   ],
   "source": [
    "predictions.head()"
   ]
  },
  {
   "cell_type": "code",
   "execution_count": 42,
   "id": "a0526df9-d416-49dc-9d48-c5b9a8edb76a",
   "metadata": {},
   "outputs": [],
   "source": [
    "import sklearn.metrics as metrics"
   ]
  },
  {
   "cell_type": "code",
   "execution_count": 43,
   "id": "c4110a77-d124-4109-a2fa-c2a4d2aea2ec",
   "metadata": {},
   "outputs": [],
   "source": [
    "fpr,tpr,thresholds=metrics.roc_curve(test['MEMBERSHIP_STATUS'],predictions)"
   ]
  },
  {
   "cell_type": "code",
   "execution_count": 44,
   "id": "ac55d1c5-fc7a-4734-af5d-31b49645a27a",
   "metadata": {},
   "outputs": [
    {
     "data": {
      "text/plain": [
       "[<matplotlib.lines.Line2D at 0x169103760>]"
      ]
     },
     "execution_count": 44,
     "metadata": {},
     "output_type": "execute_result"
    },
    {
     "data": {
      "image/png": "[encoded data removed]",
      "text/plain": [
       "<Figure size 640x480 with 1 Axes>"
      ]
     },
     "metadata": {},
     "output_type": "display_data"
    }
   ],
   "source": [
    "plt.plot(fpr,tpr,\"-\")"
   ]
  },
  {
   "cell_type": "code",
   "execution_count": 45,
   "id": "b0cdd784-1976-4a8b-b682-9fc10fc5adde",
   "metadata": {},
   "outputs": [
    {
     "data": {
      "text/plain": [
       "0.6507845728217642"
      ]
     },
     "execution_count": 45,
     "metadata": {},
     "output_type": "execute_result"
    }
   ],
   "source": [
    "metrics.roc_auc_score(test[\"MEMBERSHIP_STATUS\"],predictions)"
   ]
  },
  {
   "cell_type": "code",
   "execution_count": 46,
   "id": "28f69815-06ce-4a9e-816f-b26582f542ac",
   "metadata": {},
   "outputs": [
    {
     "data": {
      "text/plain": [
       "0.30038634900193173"
      ]
     },
     "execution_count": 46,
     "metadata": {},
     "output_type": "execute_result"
    }
   ],
   "source": [
    "test['MEMBERSHIP_STATUS'].mean()"
   ]
  },
  {
   "cell_type": "code",
   "execution_count": 47,
   "id": "174fd0a7-2a37-4afd-80f2-42199c2cece4",
   "metadata": {},
   "outputs": [],
   "source": [
    "y_preds = predictions.map(lambda x: 1 if x>0.3003 else 0)"
   ]
  },
  {
   "cell_type": "code",
   "execution_count": 48,
   "id": "eb34a99c-2516-4862-850e-3b661dfd3372",
   "metadata": {},
   "outputs": [
    {
     "data": {
      "text/plain": [
       "array([[1132, 1041],\n",
       "       [ 277,  656]])"
      ]
     },
     "execution_count": 48,
     "metadata": {},
     "output_type": "execute_result"
    }
   ],
   "source": [
    "metrics.confusion_matrix(test['MEMBERSHIP_STATUS'],y_preds)"
   ]
  },
  {
   "cell_type": "code",
   "execution_count": 49,
   "id": "53a7adfb-b47d-4fb4-a277-bdce053fd8f0",
   "metadata": {},
   "outputs": [],
   "source": [
    "### Note to instructor, instructor should try to make the discussion interactive. This notebook is only indicative and \n",
    "### the instructor is free to modify ?"
   ]
  },
  {
   "cell_type": "code",
   "execution_count": null,
   "id": "c062f5f7-3fdd-4048-90b6-c73b07455f02",
   "metadata": {},
   "outputs": [],
   "source": []
  }
 ],
 "metadata": {
  "kernelspec": {
   "display_name": "Python 3 (ipykernel)",
   "language": "python",
   "name": "python3"
  },
  "language_info": {
   "codemirror_mode": {
    "name": "ipython",
    "version": 3
   },
   "file_extension": ".py",
   "mimetype": "text/x-python",
   "name": "python",
   "nbconvert_exporter": "python",
   "pygments_lexer": "ipython3",
   "version": "3.9.13"
  }
 },
 "nbformat": 4,
 "nbformat_minor": 5
}
