{
 "cells": [
  {
   "cell_type": "code",
   "execution_count": 1,
   "id": "f41e267a-dd89-45d3-9ee9-86aa3af6c327",
   "metadata": {},
   "outputs": [],
   "source": [
    "import pandas as pd"
   ]
  },
  {
   "cell_type": "code",
   "execution_count": 2,
   "id": "d8fa7615-aaec-4972-9668-d4bd0d8ccfa3",
   "metadata": {},
   "outputs": [],
   "source": [
    "df = pd.read_csv(\"./data/bank-full.csv\",encoding='latin1',sep=\";\")"
   ]
  },
  {
   "cell_type": "code",
   "execution_count": 3,
   "id": "ab00c787-94a3-4def-935e-977684e6c4d0",
   "metadata": {},
   "outputs": [
    {
     "data": {
      "text/html": [
       "<div>\n",
       "<style scoped>\n",
       "    .dataframe tbody tr th:only-of-type {\n",
       "        vertical-align: middle;\n",
       "    }\n",
       "\n",
       "    .dataframe tbody tr th {\n",
       "        vertical-align: top;\n",
       "    }\n",
       "\n",
       "    .dataframe thead th {\n",
       "        text-align: right;\n",
       "    }\n",
       "</style>\n",
       "<table border=\"1\" class=\"dataframe\">\n",
       "  <thead>\n",
       "    <tr style=\"text-align: right;\">\n",
       "      <th></th>\n",
       "      <th>age</th>\n",
       "      <th>job</th>\n",
       "      <th>marital</th>\n",
       "      <th>education</th>\n",
       "      <th>default</th>\n",
       "      <th>balance</th>\n",
       "      <th>housing</th>\n",
       "      <th>loan</th>\n",
       "      <th>contact</th>\n",
       "      <th>day</th>\n",
       "      <th>month</th>\n",
       "      <th>duration</th>\n",
       "      <th>campaign</th>\n",
       "      <th>pdays</th>\n",
       "      <th>previous</th>\n",
       "      <th>poutcome</th>\n",
       "      <th>y</th>\n",
       "    </tr>\n",
       "  </thead>\n",
       "  <tbody>\n",
       "    <tr>\n",
       "      <th>0</th>\n",
       "      <td>58</td>\n",
       "      <td>management</td>\n",
       "      <td>married</td>\n",
       "      <td>tertiary</td>\n",
       "      <td>no</td>\n",
       "      <td>2143</td>\n",
       "      <td>yes</td>\n",
       "      <td>no</td>\n",
       "      <td>unknown</td>\n",
       "      <td>5</td>\n",
       "      <td>may</td>\n",
       "      <td>261</td>\n",
       "      <td>1</td>\n",
       "      <td>-1</td>\n",
       "      <td>0</td>\n",
       "      <td>unknown</td>\n",
       "      <td>no</td>\n",
       "    </tr>\n",
       "    <tr>\n",
       "      <th>1</th>\n",
       "      <td>44</td>\n",
       "      <td>technician</td>\n",
       "      <td>single</td>\n",
       "      <td>secondary</td>\n",
       "      <td>no</td>\n",
       "      <td>29</td>\n",
       "      <td>yes</td>\n",
       "      <td>no</td>\n",
       "      <td>unknown</td>\n",
       "      <td>5</td>\n",
       "      <td>may</td>\n",
       "      <td>151</td>\n",
       "      <td>1</td>\n",
       "      <td>-1</td>\n",
       "      <td>0</td>\n",
       "      <td>unknown</td>\n",
       "      <td>no</td>\n",
       "    </tr>\n",
       "  </tbody>\n",
       "</table>\n",
       "</div>"
      ],
      "text/plain": [
       "   age         job  marital  education default  balance housing loan  contact  \\\n",
       "0   58  management  married   tertiary      no     2143     yes   no  unknown   \n",
       "1   44  technician   single  secondary      no       29     yes   no  unknown   \n",
       "\n",
       "   day month  duration  campaign  pdays  previous poutcome   y  \n",
       "0    5   may       261         1     -1         0  unknown  no  \n",
       "1    5   may       151         1     -1         0  unknown  no  "
      ]
     },
     "execution_count": 3,
     "metadata": {},
     "output_type": "execute_result"
    }
   ],
   "source": [
    "df.head(2)"
   ]
  },
  {
   "cell_type": "markdown",
   "id": "ea00e260-863b-43f2-9a00-5b9262a37478",
   "metadata": {},
   "source": [
    "## Data Exploration\n",
    "\n",
    "- Sanity Checks: Check if there are any improbably values\n",
    "- Find which continous variables are related closely to the target\n",
    "- Find which categorical variables are related closely to the target\n",
    "\n",
    "### **Sanity Checks**\n",
    "\n",
    "#### Continous variables: Sanity Checks"
   ]
  },
  {
   "cell_type": "code",
   "execution_count": 4,
   "id": "49a1a4d7-26d0-433e-acf1-38599c70a36b",
   "metadata": {},
   "outputs": [
    {
     "name": "stdout",
     "output_type": "stream",
     "text": [
      "age\n",
      "**************************************************\n",
      "count    45211.000000\n",
      "mean        40.936210\n",
      "std         10.618762\n",
      "min         18.000000\n",
      "25%         33.000000\n",
      "50%         39.000000\n",
      "75%         48.000000\n",
      "max         95.000000\n",
      "Name: age, dtype: float64\n",
      "**************************************************\n",
      "balance\n",
      "**************************************************\n",
      "count     45211.000000\n",
      "mean       1362.272058\n",
      "std        3044.765829\n",
      "min       -8019.000000\n",
      "25%          72.000000\n",
      "50%         448.000000\n",
      "75%        1428.000000\n",
      "max      102127.000000\n",
      "Name: balance, dtype: float64\n",
      "**************************************************\n",
      "day\n",
      "**************************************************\n",
      "count    45211.000000\n",
      "mean        15.806419\n",
      "std          8.322476\n",
      "min          1.000000\n",
      "25%          8.000000\n",
      "50%         16.000000\n",
      "75%         21.000000\n",
      "max         31.000000\n",
      "Name: day, dtype: float64\n",
      "**************************************************\n",
      "duration\n",
      "**************************************************\n",
      "count    45211.000000\n",
      "mean       258.163080\n",
      "std        257.527812\n",
      "min          0.000000\n",
      "25%        103.000000\n",
      "50%        180.000000\n",
      "75%        319.000000\n",
      "max       4918.000000\n",
      "Name: duration, dtype: float64\n",
      "**************************************************\n",
      "campaign\n",
      "**************************************************\n",
      "count    45211.000000\n",
      "mean         2.763841\n",
      "std          3.098021\n",
      "min          1.000000\n",
      "25%          1.000000\n",
      "50%          2.000000\n",
      "75%          3.000000\n",
      "max         63.000000\n",
      "Name: campaign, dtype: float64\n",
      "**************************************************\n",
      "pdays\n",
      "**************************************************\n",
      "count    45211.000000\n",
      "mean        40.197828\n",
      "std        100.128746\n",
      "min         -1.000000\n",
      "25%         -1.000000\n",
      "50%         -1.000000\n",
      "75%         -1.000000\n",
      "max        871.000000\n",
      "Name: pdays, dtype: float64\n",
      "**************************************************\n",
      "previous\n",
      "**************************************************\n",
      "count    45211.000000\n",
      "mean         0.580323\n",
      "std          2.303441\n",
      "min          0.000000\n",
      "25%          0.000000\n",
      "50%          0.000000\n",
      "75%          0.000000\n",
      "max        275.000000\n",
      "Name: previous, dtype: float64\n",
      "**************************************************\n"
     ]
    }
   ],
   "source": [
    "cont_variables = ['age','balance','day','duration','campaign','pdays','previous']\n",
    "for var in cont_variables:\n",
    "    print(var)\n",
    "    print(\"*\"*50)\n",
    "    print(df[var].describe())\n",
    "    print(\"*\"*50)"
   ]
  },
  {
   "cell_type": "markdown",
   "id": "bb5fb40a-0be1-452a-8e89-aef339cab38b",
   "metadata": {},
   "source": [
    "**Comments:**\n",
    "\n",
    "- Previous and pdays convey almost similar information\n",
    "- All the other variables look ok \n",
    "- One can make a new variable which tracks if previously any contact was made with the customer\n",
    "\n",
    "#### Continous Check Missing values"
   ]
  },
  {
   "cell_type": "code",
   "execution_count": 5,
   "id": "c403d01e-0c32-449c-addf-168be60b8aa1",
   "metadata": {},
   "outputs": [
    {
     "name": "stdout",
     "output_type": "stream",
     "text": [
      "age: 0\n",
      "balance: 0\n",
      "day: 0\n",
      "duration: 0\n",
      "campaign: 0\n",
      "pdays: 0\n",
      "previous: 0\n"
     ]
    }
   ],
   "source": [
    "for var in cont_variables:\n",
    "    print(f'{var}: {df[var].isnull().sum()}')"
   ]
  },
  {
   "cell_type": "markdown",
   "id": "554f081e-f907-45b8-ad68-4eb770961dac",
   "metadata": {},
   "source": [
    "#### Categorical Variable: Sanity Checks"
   ]
  },
  {
   "cell_type": "code",
   "execution_count": 6,
   "id": "affdb41e-0fc4-49f7-84e1-0a18524eedaf",
   "metadata": {},
   "outputs": [
    {
     "name": "stdout",
     "output_type": "stream",
     "text": [
      "**************************************************\n",
      "job\n",
      "blue-collar      0.215257\n",
      "management       0.209197\n",
      "technician       0.168034\n",
      "admin.           0.114375\n",
      "services         0.091880\n",
      "retired          0.050076\n",
      "self-employed    0.034925\n",
      "entrepreneur     0.032890\n",
      "unemployed       0.028820\n",
      "housemaid        0.027427\n",
      "student          0.020747\n",
      "unknown          0.006370\n",
      "Name: job, dtype: float64\n",
      "**************************************************\n",
      "**************************************************\n",
      "marital\n",
      "married     0.601933\n",
      "single      0.282896\n",
      "divorced    0.115171\n",
      "Name: marital, dtype: float64\n",
      "**************************************************\n",
      "**************************************************\n",
      "education\n",
      "secondary    0.513194\n",
      "tertiary     0.294198\n",
      "primary      0.151534\n",
      "unknown      0.041074\n",
      "Name: education, dtype: float64\n",
      "**************************************************\n",
      "**************************************************\n",
      "default\n",
      "no     0.981973\n",
      "yes    0.018027\n",
      "Name: default, dtype: float64\n",
      "**************************************************\n",
      "**************************************************\n",
      "housing\n",
      "yes    0.555838\n",
      "no     0.444162\n",
      "Name: housing, dtype: float64\n",
      "**************************************************\n",
      "**************************************************\n",
      "loan\n",
      "no     0.839774\n",
      "yes    0.160226\n",
      "Name: loan, dtype: float64\n",
      "**************************************************\n",
      "**************************************************\n",
      "contact\n",
      "cellular     0.647741\n",
      "unknown      0.287983\n",
      "telephone    0.064276\n",
      "Name: contact, dtype: float64\n",
      "**************************************************\n",
      "**************************************************\n",
      "month\n",
      "may    0.304483\n",
      "jul    0.152507\n",
      "aug    0.138174\n",
      "jun    0.118135\n",
      "nov    0.087810\n",
      "apr    0.064851\n",
      "feb    0.058592\n",
      "jan    0.031032\n",
      "oct    0.016323\n",
      "sep    0.012807\n",
      "mar    0.010551\n",
      "dec    0.004733\n",
      "Name: month, dtype: float64\n",
      "**************************************************\n",
      "**************************************************\n",
      "poutcome\n",
      "unknown    0.817478\n",
      "failure    0.108403\n",
      "other      0.040698\n",
      "success    0.033421\n",
      "Name: poutcome, dtype: float64\n",
      "**************************************************\n"
     ]
    }
   ],
   "source": [
    "cat_variables = ['job','marital','education','default','housing','loan','contact','month','poutcome']\n",
    "\n",
    "def get_dist(var):\n",
    "    return df[var].value_counts(normalize=True)\n",
    "\n",
    "for var in cat_variables:\n",
    "    print(\"*\"*50)\n",
    "    print(var)\n",
    "    print(get_dist(var))\n",
    "    print(\"*\"*50)"
   ]
  },
  {
   "cell_type": "markdown",
   "id": "a9e1bd8f-0bc2-4c63-911c-c1f20f61a043",
   "metadata": {},
   "source": [
    "**Comments**\n",
    "\n",
    "- There is nothing out of ordinary here\n",
    "- Some variables such as month may not be very informative, but this needs to be checked.\n",
    "\n",
    "### **Relationship Checks: Continous Variables**"
   ]
  },
  {
   "cell_type": "code",
   "execution_count": 7,
   "id": "46626188-b9a1-40c8-a0d5-ea2af9c9e2fe",
   "metadata": {},
   "outputs": [],
   "source": [
    "def get_rel(var,q=10):\n",
    "    table = pd.DataFrame()\n",
    "    table[var] = df[var]\n",
    "    table['target'] = df['y'].map(lambda x: 1 if x=='yes' else 0)\n",
    "    table['deciles'] = pd.qcut(table[var],q=q)\n",
    "    return table.groupby('deciles')['target'].mean()"
   ]
  },
  {
   "cell_type": "code",
   "execution_count": 8,
   "id": "b5ac0d60-581d-4757-8361-92362348e42e",
   "metadata": {},
   "outputs": [
    {
     "name": "stdout",
     "output_type": "stream",
     "text": [
      "age\n",
      "**************************************************\n",
      "deciles\n",
      "(17.999, 29.0]    0.175991\n",
      "(29.0, 32.0]      0.110312\n",
      "(32.0, 34.0]      0.104562\n",
      "(34.0, 36.0]      0.109189\n",
      "(36.0, 39.0]      0.098301\n",
      "(39.0, 42.0]      0.089249\n",
      "(42.0, 46.0]      0.089590\n",
      "(46.0, 51.0]      0.089826\n",
      "(51.0, 56.0]      0.094830\n",
      "(56.0, 95.0]      0.203299\n",
      "Name: target, dtype: float64\n",
      "**************************************************\n",
      "balance\n",
      "**************************************************\n",
      "deciles\n",
      "(-8019.001, 0.0]      0.068956\n",
      "(0.0, 22.0]           0.072194\n",
      "(22.0, 131.0]         0.091769\n",
      "(131.0, 272.0]        0.108282\n",
      "(272.0, 448.0]        0.114127\n",
      "(448.0, 701.0]        0.120080\n",
      "(701.0, 1126.0]       0.126823\n",
      "(1126.0, 1859.0]      0.142477\n",
      "(1859.0, 3574.0]      0.166114\n",
      "(3574.0, 102127.0]    0.161248\n",
      "Name: target, dtype: float64\n",
      "**************************************************\n",
      "day\n",
      "**************************************************\n",
      "deciles\n",
      "(0.999, 5.0]    0.147958\n",
      "(5.0, 7.0]      0.090157\n",
      "(7.0, 10.0]     0.127578\n",
      "(10.0, 13.0]    0.142704\n",
      "(13.0, 16.0]    0.128876\n",
      "(16.0, 18.0]    0.095126\n",
      "(18.0, 20.0]    0.069639\n",
      "(20.0, 24.0]    0.125782\n",
      "(24.0, 28.0]    0.112308\n",
      "(28.0, 31.0]    0.112797\n",
      "Name: target, dtype: float64\n",
      "**************************************************\n",
      "duration\n",
      "**************************************************\n",
      "deciles\n",
      "(-0.001, 58.0]     0.001987\n",
      "(58.0, 89.0]       0.012456\n",
      "(89.0, 117.0]      0.028476\n",
      "(117.0, 147.0]     0.045793\n",
      "(147.0, 180.0]     0.068060\n",
      "(180.0, 223.0]     0.090488\n",
      "(223.0, 280.0]     0.123312\n",
      "(280.0, 368.0]     0.137869\n",
      "(368.0, 548.0]     0.208527\n",
      "(548.0, 4918.0]    0.455413\n",
      "Name: target, dtype: float64\n",
      "**************************************************\n",
      "campaign\n",
      "**************************************************\n",
      "**************************************************\n",
      "pdays\n",
      "**************************************************\n",
      "**************************************************\n",
      "previous\n",
      "**************************************************\n",
      "**************************************************\n"
     ]
    }
   ],
   "source": [
    "retry = []\n",
    "for var in cont_variables:\n",
    "    print(var)\n",
    "    print(\"*\"*50)\n",
    "    try:\n",
    "        print(get_rel(var))\n",
    "    except:\n",
    "        retry.append(var)\n",
    "    print(\"*\"*50)"
   ]
  },
  {
   "cell_type": "markdown",
   "id": "6e0408ac-33ea-4942-9dec-f9d0ced957ef",
   "metadata": {},
   "source": [
    "**Comments**:\n",
    "\n",
    "- There is a U shaped relationship between response to marketing and age. For the variable day the relationship looks zig-zag. While building a model, one can do a categorical transformation and check which version of the variable works\n",
    "- For all the other variables, there seem to be a linear relationship\n",
    "- Decile computations for the `campaign`, `pdays` and `previous` are failing, we will need to handle them separately\n",
    "- For clarity lets look at the plots below"
   ]
  },
  {
   "cell_type": "code",
   "execution_count": 9,
   "id": "e73792cd-b1a1-422d-838c-934bccb12556",
   "metadata": {},
   "outputs": [
    {
     "data": {
      "text/plain": [
       "<AxesSubplot:xlabel='deciles'>"
      ]
     },
     "execution_count": 9,
     "metadata": {},
     "output_type": "execute_result"
    },
    {
     "data": {
      "image/png": "[encoded data removed]",
      "text/plain": [
       "<Figure size 640x480 with 1 Axes>"
      ]
     },
     "metadata": {},
     "output_type": "display_data"
    }
   ],
   "source": [
    "get_rel('age').plot()"
   ]
  },
  {
   "cell_type": "code",
   "execution_count": 10,
   "id": "e52e87ba-0bc2-4c73-8cdd-6c27d748e276",
   "metadata": {},
   "outputs": [
    {
     "data": {
      "text/plain": [
       "<AxesSubplot:xlabel='deciles'>"
      ]
     },
     "execution_count": 10,
     "metadata": {},
     "output_type": "execute_result"
    },
    {
     "data": {
      "image/png": "[encoded data removed]",
      "text/plain": [
       "<Figure size 640x480 with 1 Axes>"
      ]
     },
     "metadata": {},
     "output_type": "display_data"
    }
   ],
   "source": [
    "get_rel('balance').plot()"
   ]
  },
  {
   "cell_type": "code",
   "execution_count": 11,
   "id": "590f2084-b27a-4630-8c3b-68739a510c8b",
   "metadata": {},
   "outputs": [
    {
     "data": {
      "text/plain": [
       "<AxesSubplot:xlabel='deciles'>"
      ]
     },
     "execution_count": 11,
     "metadata": {},
     "output_type": "execute_result"
    },
    {
     "data": {
      "image/png": "[encoded data removed]",
      "text/plain": [
       "<Figure size 640x480 with 1 Axes>"
      ]
     },
     "metadata": {},
     "output_type": "display_data"
    }
   ],
   "source": [
    "get_rel('day').plot()"
   ]
  },
  {
   "cell_type": "code",
   "execution_count": 12,
   "id": "ac80b777-d507-4a11-898e-248221477ee0",
   "metadata": {},
   "outputs": [
    {
     "data": {
      "text/plain": [
       "<AxesSubplot:xlabel='deciles'>"
      ]
     },
     "execution_count": 12,
     "metadata": {},
     "output_type": "execute_result"
    },
    {
     "data": {
      "image/png": "[encoded data removed]",
      "text/plain": [
       "<Figure size 640x480 with 1 Axes>"
      ]
     },
     "metadata": {},
     "output_type": "display_data"
    }
   ],
   "source": [
    "get_rel('duration').plot()"
   ]
  },
  {
   "cell_type": "code",
   "execution_count": 13,
   "id": "821b6fb5-bb46-4bb4-ba6a-1d8abee5219b",
   "metadata": {},
   "outputs": [
    {
     "data": {
      "text/plain": [
       "deciles\n",
       "(0.999, 2.0]    0.131851\n",
       "(2.0, 63.0]     0.087521\n",
       "Name: target, dtype: float64"
      ]
     },
     "execution_count": 13,
     "metadata": {},
     "output_type": "execute_result"
    }
   ],
   "source": [
    "get_rel('campaign',q=2) ## we will make a dummy variable here"
   ]
  },
  {
   "cell_type": "code",
   "execution_count": 14,
   "id": "2046671d-6ab8-4882-aa8d-fc1e545444b3",
   "metadata": {},
   "outputs": [
    {
     "data": {
      "text/plain": [
       "deciles\n",
       "(-1.001, 871.0]    0.116985\n",
       "Name: target, dtype: float64"
      ]
     },
     "execution_count": 14,
     "metadata": {},
     "output_type": "execute_result"
    }
   ],
   "source": [
    "get_rel('pdays',q=1) ## can't do a decile split here, lets see what is the event rate when pdays=-1 (not contacted previously)"
   ]
  },
  {
   "cell_type": "code",
   "execution_count": 15,
   "id": "61f8b290-8043-49d6-b699-6b5e45004c40",
   "metadata": {},
   "outputs": [
    {
     "data": {
      "text/plain": [
       "0.09157330735509012"
      ]
     },
     "execution_count": 15,
     "metadata": {},
     "output_type": "execute_result"
    }
   ],
   "source": [
    "df[df['pdays']==-1]['y'].map(lambda x: 1 if x==\"yes\" else 0).mean() ## very low event rate"
   ]
  },
  {
   "cell_type": "code",
   "execution_count": 16,
   "id": "a0790dd6-1815-4c6a-b078-52dd8f00379e",
   "metadata": {},
   "outputs": [
    {
     "data": {
      "text/plain": [
       "36954"
      ]
     },
     "execution_count": 16,
     "metadata": {},
     "output_type": "execute_result"
    }
   ],
   "source": [
    "df[df['pdays']==-1]['y'].map(lambda x: 1 if x==\"yes\" else 0).shape[0]"
   ]
  },
  {
   "cell_type": "code",
   "execution_count": 17,
   "id": "eb5840c5-c5bf-477a-b35d-3ea1c50c933c",
   "metadata": {},
   "outputs": [
    {
     "data": {
      "text/plain": [
       "0.2307133341407291"
      ]
     },
     "execution_count": 17,
     "metadata": {},
     "output_type": "execute_result"
    }
   ],
   "source": [
    "df[df['pdays']>-1]['y'].map(lambda x: 1 if x==\"yes\" else 0).mean() ## good event rate"
   ]
  },
  {
   "cell_type": "code",
   "execution_count": 18,
   "id": "fbeefd76-9b9d-482f-9d7f-b11b12b77d77",
   "metadata": {},
   "outputs": [
    {
     "data": {
      "text/plain": [
       "8257"
      ]
     },
     "execution_count": 18,
     "metadata": {},
     "output_type": "execute_result"
    }
   ],
   "source": [
    "df[df['pdays']>-1]['y'].map(lambda x: 1 if x==\"yes\" else 0).shape[0]"
   ]
  },
  {
   "cell_type": "code",
   "execution_count": 19,
   "id": "05bb71b6-47b7-42c2-911f-8511c95b849c",
   "metadata": {},
   "outputs": [
    {
     "data": {
      "text/plain": [
       "deciles\n",
       "(-0.001, 275.0]    0.116985\n",
       "Name: target, dtype: float64"
      ]
     },
     "execution_count": 19,
     "metadata": {},
     "output_type": "execute_result"
    }
   ],
   "source": [
    "get_rel('previous',q=1) ## can't do decile split"
   ]
  },
  {
   "cell_type": "code",
   "execution_count": 20,
   "id": "f33a1e2c-57a4-48ef-a38b-5b5973e806af",
   "metadata": {},
   "outputs": [
    {
     "data": {
      "text/plain": [
       "0.09157330735509012"
      ]
     },
     "execution_count": 20,
     "metadata": {},
     "output_type": "execute_result"
    }
   ],
   "source": [
    "df[df['previous']==0]['y'].map(lambda x: 1 if x==\"yes\" else 0).mean() ## low event rate"
   ]
  },
  {
   "cell_type": "code",
   "execution_count": 21,
   "id": "f07f7827-937f-45db-ab4c-e9888e17bf86",
   "metadata": {},
   "outputs": [
    {
     "data": {
      "text/plain": [
       "36954"
      ]
     },
     "execution_count": 21,
     "metadata": {},
     "output_type": "execute_result"
    }
   ],
   "source": [
    "df[df['previous']==0]['y'].map(lambda x: 1 if x==\"yes\" else 0).shape[0]"
   ]
  },
  {
   "cell_type": "code",
   "execution_count": 22,
   "id": "16aa5718-e767-4aa2-a965-ded81d5ea194",
   "metadata": {},
   "outputs": [
    {
     "data": {
      "text/plain": [
       "0.2307133341407291"
      ]
     },
     "execution_count": 22,
     "metadata": {},
     "output_type": "execute_result"
    }
   ],
   "source": [
    "df[df['previous']>0]['y'].map(lambda x: 1 if x==\"yes\" else 0).mean() ## high event rate"
   ]
  },
  {
   "cell_type": "code",
   "execution_count": 23,
   "id": "8ef6ec18-9b50-432a-9744-5b50d0dfbc56",
   "metadata": {},
   "outputs": [
    {
     "data": {
      "text/plain": [
       "8257"
      ]
     },
     "execution_count": 23,
     "metadata": {},
     "output_type": "execute_result"
    }
   ],
   "source": [
    "df[df['previous']>0]['y'].map(lambda x: 1 if x==\"yes\" else 0).shape[0]"
   ]
  },
  {
   "cell_type": "markdown",
   "id": "abc4393c-9767-4143-9ddf-0b38784be12c",
   "metadata": {},
   "source": [
    "**Comments**:\n",
    "\n",
    "- Both `previous` and `pdays` contain same information, we can create a new variable\n",
    "- Create a dummy variable for `campaign` variable"
   ]
  },
  {
   "cell_type": "markdown",
   "id": "35c09233-ec73-4512-9b78-978ac5bb3af4",
   "metadata": {},
   "source": [
    "### **Relationship Checks: Categorical Variables**"
   ]
  },
  {
   "cell_type": "code",
   "execution_count": 24,
   "id": "217dd41a-5991-4929-8592-b381d0102b7b",
   "metadata": {},
   "outputs": [],
   "source": [
    "def get_rel_cat(var,q=10):\n",
    "    table = pd.DataFrame()\n",
    "    table[var] = df[var]\n",
    "    table['target'] = df['y'].map(lambda x: 1 if x=='yes' else 0)\n",
    "    return table.groupby(var).agg({'target':['mean','size']}).reset_index()"
   ]
  },
  {
   "cell_type": "code",
   "execution_count": 25,
   "id": "69c691a3-7852-49f3-bb6e-3038d772cd32",
   "metadata": {},
   "outputs": [
    {
     "name": "stdout",
     "output_type": "stream",
     "text": [
      "job\n",
      "**************************************************\n",
      "              job    target      \n",
      "                       mean  size\n",
      "0          admin.  0.122027  5171\n",
      "1     blue-collar  0.072750  9732\n",
      "2    entrepreneur  0.082717  1487\n",
      "3       housemaid  0.087903  1240\n",
      "4      management  0.137556  9458\n",
      "5         retired  0.227915  2264\n",
      "6   self-employed  0.118429  1579\n",
      "7        services  0.088830  4154\n",
      "8         student  0.286780   938\n",
      "9      technician  0.110570  7597\n",
      "10     unemployed  0.155027  1303\n",
      "11        unknown  0.118056   288\n",
      "**************************************************\n",
      "marital\n",
      "**************************************************\n",
      "    marital    target       \n",
      "                 mean   size\n",
      "0  divorced  0.119455   5207\n",
      "1   married  0.101235  27214\n",
      "2    single  0.149492  12790\n",
      "**************************************************\n",
      "education\n",
      "**************************************************\n",
      "   education    target       \n",
      "                  mean   size\n",
      "0    primary  0.086265   6851\n",
      "1  secondary  0.105594  23202\n",
      "2   tertiary  0.150064  13301\n",
      "3    unknown  0.135703   1857\n",
      "**************************************************\n",
      "default\n",
      "**************************************************\n",
      "  default    target       \n",
      "               mean   size\n",
      "0      no  0.117961  44396\n",
      "1     yes  0.063804    815\n",
      "**************************************************\n",
      "housing\n",
      "**************************************************\n",
      "  housing    target       \n",
      "               mean   size\n",
      "0      no  0.167024  20081\n",
      "1     yes  0.077000  25130\n",
      "**************************************************\n",
      "loan\n",
      "**************************************************\n",
      "  loan    target       \n",
      "            mean   size\n",
      "0   no  0.126557  37967\n",
      "1  yes  0.066814   7244\n",
      "**************************************************\n",
      "contact\n",
      "**************************************************\n",
      "     contact    target       \n",
      "                  mean   size\n",
      "0   cellular  0.149189  29285\n",
      "1  telephone  0.134205   2906\n",
      "2    unknown  0.040707  13020\n",
      "**************************************************\n",
      "month\n",
      "**************************************************\n",
      "   month    target       \n",
      "              mean   size\n",
      "0    apr  0.196794   2932\n",
      "1    aug  0.110133   6247\n",
      "2    dec  0.467290    214\n",
      "3    feb  0.166478   2649\n",
      "4    jan  0.101212   1403\n",
      "5    jul  0.090935   6895\n",
      "6    jun  0.102228   5341\n",
      "7    mar  0.519916    477\n",
      "8    may  0.067195  13766\n",
      "9    nov  0.101511   3970\n",
      "10   oct  0.437669    738\n",
      "11   sep  0.464594    579\n",
      "**************************************************\n",
      "poutcome\n",
      "**************************************************\n",
      "  poutcome    target       \n",
      "                mean   size\n",
      "0  failure  0.126097   4901\n",
      "1    other  0.166848   1840\n",
      "2  success  0.647253   1511\n",
      "3  unknown  0.091615  36959\n",
      "**************************************************\n"
     ]
    }
   ],
   "source": [
    "retry = []\n",
    "for var in cat_variables:\n",
    "    print(var)\n",
    "    print(\"*\"*50)\n",
    "    try:\n",
    "        print(get_rel_cat(var))\n",
    "    except:\n",
    "        retry.append(var)\n",
    "    print(\"*\"*50)"
   ]
  },
  {
   "cell_type": "markdown",
   "id": "5bc86275-e114-400e-a768-dba651e1dbfd",
   "metadata": {},
   "source": [
    "`default`, `housing` and `loan` can be converted to numeric dummies\n",
    "\n",
    "## Feature Engineering\n",
    "\n",
    "**Continous Variables**"
   ]
  },
  {
   "cell_type": "code",
   "execution_count": 26,
   "id": "7c53fc5d-eefd-4cda-a6e9-73849e1d13f2",
   "metadata": {},
   "outputs": [],
   "source": [
    "df['campaign_dummy'] = df['campaign'].map(lambda x: 1 if x<=2 else 0)"
   ]
  },
  {
   "cell_type": "code",
   "execution_count": 27,
   "id": "833e629d-8729-47e8-8eef-c3e9d933cbc7",
   "metadata": {},
   "outputs": [],
   "source": [
    "df['prev_campaign_contact'] = df['pdays'].map(lambda x: 1 if x>-1 else 0)"
   ]
  },
  {
   "cell_type": "code",
   "execution_count": 28,
   "id": "2a51a4f7-c3ca-4a35-a7d9-0919758fb09d",
   "metadata": {},
   "outputs": [],
   "source": [
    "df['age_dummy']=df['age'].map(lambda x: 1 if x<=42 else 0)"
   ]
  },
  {
   "cell_type": "code",
   "execution_count": 29,
   "id": "c6d5effb-e881-4ac7-bd9c-4770316c9a27",
   "metadata": {},
   "outputs": [],
   "source": [
    "df['y'] = df['y'].map(lambda x: 1 if x=='yes' else 0)"
   ]
  },
  {
   "cell_type": "code",
   "execution_count": 30,
   "id": "ccd5c8ff-d426-480c-ae2f-c45088d8c2fe",
   "metadata": {},
   "outputs": [],
   "source": [
    "df['default'] = df['default'].map(lambda x: 1 if x=='yes' else 0)\n",
    "df['housing'] = df['housing'].map(lambda x: 1 if x==\"yes\" else 0)\n",
    "df['loan'] = df['loan'].map(lambda x: 1 if x=='yes' else 0)"
   ]
  },
  {
   "cell_type": "markdown",
   "id": "cfe77556-3b0d-4eaa-b55f-0eeca481af1e",
   "metadata": {},
   "source": [
    "## Model Iterations"
   ]
  },
  {
   "cell_type": "code",
   "execution_count": 31,
   "id": "1cdc94d1-8ab2-46dd-a00c-c0e65923f8a9",
   "metadata": {},
   "outputs": [
    {
     "data": {
      "text/plain": [
       "Index(['age', 'job', 'marital', 'education', 'default', 'balance', 'housing',\n",
       "       'loan', 'contact', 'day', 'month', 'duration', 'campaign', 'pdays',\n",
       "       'previous', 'poutcome', 'y', 'campaign_dummy', 'prev_campaign_contact',\n",
       "       'age_dummy'],\n",
       "      dtype='object')"
      ]
     },
     "execution_count": 31,
     "metadata": {},
     "output_type": "execute_result"
    }
   ],
   "source": [
    "df.columns"
   ]
  },
  {
   "cell_type": "code",
   "execution_count": 32,
   "id": "48abd051-7db2-4678-91eb-4a8d16954b5c",
   "metadata": {},
   "outputs": [],
   "source": [
    "train = df.sample(frac=0.70,replace=False,random_state=42)\n",
    "test = df.drop(train.index)"
   ]
  },
  {
   "cell_type": "code",
   "execution_count": 33,
   "id": "4bf5c6a9-1a96-43dc-ae79-fb3473ac4bb8",
   "metadata": {},
   "outputs": [],
   "source": [
    "import statsmodels.formula.api as smf\n",
    "import statsmodels.api as sm"
   ]
  },
  {
   "cell_type": "markdown",
   "id": "857a7c53-0ee6-41de-9e2c-dbd91bd76fb4",
   "metadata": {},
   "source": [
    "Iteration 1: All numeric and feature engineered variables"
   ]
  },
  {
   "cell_type": "code",
   "execution_count": 34,
   "id": "360692f9-0ffa-40b6-9ed9-9ccb06863739",
   "metadata": {},
   "outputs": [],
   "source": [
    "mod1 = smf.glm('''y~age_dummy+balance+day+duration+campaign_dummy+prev_campaign_contact+default+housing+loan''',\n",
    "                   family=sm.families.Binomial(),data=train).fit()"
   ]
  },
  {
   "cell_type": "code",
   "execution_count": 35,
   "id": "000a91fb-64de-4c7c-82f7-5b274f7936c9",
   "metadata": {},
   "outputs": [
    {
     "name": "stdout",
     "output_type": "stream",
     "text": [
      "                 Generalized Linear Model Regression Results                  \n",
      "==============================================================================\n",
      "Dep. Variable:                      y   No. Observations:                31648\n",
      "Model:                            GLM   Df Residuals:                    31638\n",
      "Model Family:                Binomial   Df Model:                            9\n",
      "Link Function:                  Logit   Scale:                          1.0000\n",
      "Method:                          IRLS   Log-Likelihood:                -8676.7\n",
      "Date:                Mon, 30 Jan 2023   Deviance:                       17353.\n",
      "Time:                        15:33:19   Pearson chi2:                 3.28e+06\n",
      "No. Iterations:                     6   Pseudo R-squ. (CS):             0.1604\n",
      "Covariance Type:            nonrobust                                         \n",
      "=========================================================================================\n",
      "                            coef    std err          z      P>|z|      [0.025      0.975]\n",
      "-----------------------------------------------------------------------------------------\n",
      "Intercept                -3.3273      0.071    -47.068      0.000      -3.466      -3.189\n",
      "age_dummy                 0.1455      0.042      3.487      0.000       0.064       0.227\n",
      "balance                2.289e-05   5.23e-06      4.376      0.000    1.26e-05    3.31e-05\n",
      "day                      -0.0050      0.002     -2.057      0.040      -0.010      -0.000\n",
      "duration                  0.0039   7.12e-05     54.249      0.000       0.004       0.004\n",
      "campaign_dummy            0.3929      0.046      8.466      0.000       0.302       0.484\n",
      "prev_campaign_contact     1.3568      0.044     30.783      0.000       1.270       1.443\n",
      "default                  -0.3453      0.196     -1.761      0.078      -0.730       0.039\n",
      "housing                  -1.2255      0.043    -28.661      0.000      -1.309      -1.142\n",
      "loan                     -0.6838      0.067    -10.172      0.000      -0.815      -0.552\n",
      "=========================================================================================\n"
     ]
    }
   ],
   "source": [
    "print(mod1.summary())"
   ]
  },
  {
   "cell_type": "markdown",
   "id": "e2aaf4ff-0e44-4b2a-b748-6f6cd3ae3fb3",
   "metadata": {},
   "source": [
    "**Comments**\n",
    "\n",
    "- Signs of coeff of all variables are in line with EDA\n",
    "- All the coeff are significant\n",
    "\n",
    "\n",
    "Iteration 2: Add categorical variables one at a time"
   ]
  },
  {
   "cell_type": "code",
   "execution_count": 36,
   "id": "29902625-9db4-4c1f-8d08-48d70e88f5ad",
   "metadata": {},
   "outputs": [
    {
     "data": {
      "text/plain": [
       "Index(['age', 'job', 'marital', 'education', 'default', 'balance', 'housing',\n",
       "       'loan', 'contact', 'day', 'month', 'duration', 'campaign', 'pdays',\n",
       "       'previous', 'poutcome', 'y', 'campaign_dummy', 'prev_campaign_contact',\n",
       "       'age_dummy'],\n",
       "      dtype='object')"
      ]
     },
     "execution_count": 36,
     "metadata": {},
     "output_type": "execute_result"
    }
   ],
   "source": [
    "df.columns"
   ]
  },
  {
   "cell_type": "code",
   "execution_count": 37,
   "id": "f9fdcaa0-0180-49ce-b216-533400a5e894",
   "metadata": {},
   "outputs": [],
   "source": [
    "mod2 = smf.glm('''y~age_dummy+balance+day+duration+campaign_dummy+prev_campaign_contact+default+housing+loan+marital''',\n",
    "                   family=sm.families.Binomial(),data=train).fit()"
   ]
  },
  {
   "cell_type": "code",
   "execution_count": 38,
   "id": "46c86a41-d375-4692-875f-f00ae2cd0e1c",
   "metadata": {},
   "outputs": [
    {
     "name": "stdout",
     "output_type": "stream",
     "text": [
      "                 Generalized Linear Model Regression Results                  \n",
      "==============================================================================\n",
      "Dep. Variable:                      y   No. Observations:                31648\n",
      "Model:                            GLM   Df Residuals:                    31636\n",
      "Model Family:                Binomial   Df Model:                           11\n",
      "Link Function:                  Logit   Scale:                          1.0000\n",
      "Method:                          IRLS   Log-Likelihood:                -8639.9\n",
      "Date:                Mon, 30 Jan 2023   Deviance:                       17280.\n",
      "Time:                        15:33:19   Pearson chi2:                 3.27e+06\n",
      "No. Iterations:                     6   Pseudo R-squ. (CS):             0.1623\n",
      "Covariance Type:            nonrobust                                         \n",
      "=========================================================================================\n",
      "                            coef    std err          z      P>|z|      [0.025      0.975]\n",
      "-----------------------------------------------------------------------------------------\n",
      "Intercept                -3.2399      0.089    -36.576      0.000      -3.413      -3.066\n",
      "marital[T.married]       -0.1519      0.065     -2.326      0.020      -0.280      -0.024\n",
      "marital[T.single]         0.2553      0.072      3.541      0.000       0.114       0.397\n",
      "age_dummy                 0.0011      0.046      0.025      0.980      -0.089       0.091\n",
      "balance                2.327e-05   5.24e-06      4.438      0.000     1.3e-05    3.35e-05\n",
      "day                      -0.0053      0.002     -2.184      0.029      -0.010      -0.001\n",
      "duration                  0.0039   7.15e-05     54.168      0.000       0.004       0.004\n",
      "campaign_dummy            0.3802      0.047      8.174      0.000       0.289       0.471\n",
      "prev_campaign_contact     1.3527      0.044     30.630      0.000       1.266       1.439\n",
      "default                  -0.3565      0.196     -1.815      0.070      -0.741       0.029\n",
      "housing                  -1.1955      0.043    -27.875      0.000      -1.280      -1.111\n",
      "loan                     -0.6671      0.067     -9.910      0.000      -0.799      -0.535\n",
      "=========================================================================================\n"
     ]
    }
   ],
   "source": [
    "print(mod2.summary())"
   ]
  },
  {
   "cell_type": "code",
   "execution_count": 39,
   "id": "2b51705b-131a-48bc-ac82-d8a63e94bcdb",
   "metadata": {},
   "outputs": [],
   "source": [
    "mod3 = smf.glm('''y~age_dummy+balance+day+duration+campaign_dummy+prev_campaign_contact+default+housing+loan+marital+education''',\n",
    "                   family=sm.families.Binomial(),data=train).fit()"
   ]
  },
  {
   "cell_type": "code",
   "execution_count": 40,
   "id": "f4be3687-9b20-4e99-b14a-cc1f4e765484",
   "metadata": {},
   "outputs": [
    {
     "name": "stdout",
     "output_type": "stream",
     "text": [
      "                 Generalized Linear Model Regression Results                  \n",
      "==============================================================================\n",
      "Dep. Variable:                      y   No. Observations:                31648\n",
      "Model:                            GLM   Df Residuals:                    31633\n",
      "Model Family:                Binomial   Df Model:                           14\n",
      "Link Function:                  Logit   Scale:                          1.0000\n",
      "Method:                          IRLS   Log-Likelihood:                -8607.3\n",
      "Date:                Mon, 30 Jan 2023   Deviance:                       17215.\n",
      "Time:                        15:33:19   Pearson chi2:                 4.46e+06\n",
      "No. Iterations:                     6   Pseudo R-squ. (CS):             0.1640\n",
      "Covariance Type:            nonrobust                                         \n",
      "==========================================================================================\n",
      "                             coef    std err          z      P>|z|      [0.025      0.975]\n",
      "------------------------------------------------------------------------------------------\n",
      "Intercept                 -3.5303      0.104    -34.098      0.000      -3.733      -3.327\n",
      "marital[T.married]        -0.1429      0.065     -2.184      0.029      -0.271      -0.015\n",
      "marital[T.single]          0.2287      0.072      3.162      0.002       0.087       0.370\n",
      "education[T.secondary]     0.2416      0.067      3.622      0.000       0.111       0.372\n",
      "education[T.tertiary]      0.5018      0.070      7.217      0.000       0.365       0.638\n",
      "education[T.unknown]       0.4315      0.108      4.009      0.000       0.221       0.642\n",
      "age_dummy                 -0.0427      0.047     -0.916      0.359      -0.134       0.049\n",
      "balance                 2.035e-05   5.29e-06      3.847      0.000    9.98e-06    3.07e-05\n",
      "day                       -0.0056      0.002     -2.312      0.021      -0.010      -0.001\n",
      "duration                   0.0039   7.18e-05     54.207      0.000       0.004       0.004\n",
      "campaign_dummy             0.3863      0.047      8.285      0.000       0.295       0.478\n",
      "prev_campaign_contact      1.3411      0.044     30.311      0.000       1.254       1.428\n",
      "default                   -0.3394      0.197     -1.724      0.085      -0.725       0.046\n",
      "housing                   -1.1640      0.043    -27.010      0.000      -1.248      -1.080\n",
      "loan                      -0.6491      0.068     -9.609      0.000      -0.782      -0.517\n",
      "==========================================================================================\n"
     ]
    }
   ],
   "source": [
    "print(mod3.summary())"
   ]
  },
  {
   "cell_type": "markdown",
   "id": "1bb25aa4-1511-4b4b-9770-65a2b56267ac",
   "metadata": {},
   "source": [
    "**Comment: drop `age_dummy` as its no longer siginificant**"
   ]
  },
  {
   "cell_type": "code",
   "execution_count": 41,
   "id": "2c0e69c7-c0df-4a45-ba25-4931f4115930",
   "metadata": {},
   "outputs": [
    {
     "name": "stdout",
     "output_type": "stream",
     "text": [
      "                 Generalized Linear Model Regression Results                  \n",
      "==============================================================================\n",
      "Dep. Variable:                      y   No. Observations:                31648\n",
      "Model:                            GLM   Df Residuals:                    31634\n",
      "Model Family:                Binomial   Df Model:                           13\n",
      "Link Function:                  Logit   Scale:                          1.0000\n",
      "Method:                          IRLS   Log-Likelihood:                -8607.7\n",
      "Date:                Mon, 30 Jan 2023   Deviance:                       17215.\n",
      "Time:                        15:33:19   Pearson chi2:                 4.33e+06\n",
      "No. Iterations:                     6   Pseudo R-squ. (CS):             0.1640\n",
      "Covariance Type:            nonrobust                                         \n",
      "==========================================================================================\n",
      "                             coef    std err          z      P>|z|      [0.025      0.975]\n",
      "------------------------------------------------------------------------------------------\n",
      "Intercept                 -3.5370      0.103    -34.247      0.000      -3.739      -3.335\n",
      "marital[T.married]        -0.1478      0.065     -2.266      0.023      -0.276      -0.020\n",
      "marital[T.single]          0.2076      0.069      3.029      0.002       0.073       0.342\n",
      "education[T.secondary]     0.2344      0.066      3.540      0.000       0.105       0.364\n",
      "education[T.tertiary]      0.4926      0.069      7.161      0.000       0.358       0.627\n",
      "education[T.unknown]       0.4308      0.108      4.002      0.000       0.220       0.642\n",
      "balance                 2.066e-05   5.28e-06      3.917      0.000    1.03e-05     3.1e-05\n",
      "day                       -0.0056      0.002     -2.309      0.021      -0.010      -0.001\n",
      "duration                   0.0039   7.18e-05     54.204      0.000       0.004       0.004\n",
      "campaign_dummy             0.3859      0.047      8.277      0.000       0.294       0.477\n",
      "prev_campaign_contact      1.3409      0.044     30.308      0.000       1.254       1.428\n",
      "default                   -0.3416      0.197     -1.735      0.083      -0.727       0.044\n",
      "housing                   -1.1707      0.042    -27.551      0.000      -1.254      -1.087\n",
      "loan                      -0.6487      0.068     -9.603      0.000      -0.781      -0.516\n",
      "==========================================================================================\n"
     ]
    }
   ],
   "source": [
    "mod4 = smf.glm('''y~balance+day+duration+campaign_dummy+prev_campaign_contact+default+housing+loan+marital+education''',\n",
    "                   family=sm.families.Binomial(),data=train).fit()\n",
    "print(mod4.summary())"
   ]
  },
  {
   "cell_type": "code",
   "execution_count": 42,
   "id": "9d0d5d83-f055-4d58-b924-a4c58e45abd2",
   "metadata": {},
   "outputs": [
    {
     "name": "stdout",
     "output_type": "stream",
     "text": [
      "                 Generalized Linear Model Regression Results                  \n",
      "==============================================================================\n",
      "Dep. Variable:                      y   No. Observations:                31648\n",
      "Model:                            GLM   Df Residuals:                    31632\n",
      "Model Family:                Binomial   Df Model:                           15\n",
      "Link Function:                  Logit   Scale:                          1.0000\n",
      "Method:                          IRLS   Log-Likelihood:                -8447.0\n",
      "Date:                Mon, 30 Jan 2023   Deviance:                       16894.\n",
      "Time:                        15:33:19   Pearson chi2:                 6.98e+06\n",
      "No. Iterations:                     7   Pseudo R-squ. (CS):             0.1725\n",
      "Covariance Type:            nonrobust                                         \n",
      "==========================================================================================\n",
      "                             coef    std err          z      P>|z|      [0.025      0.975]\n",
      "------------------------------------------------------------------------------------------\n",
      "Intercept                 -3.2576      0.106    -30.810      0.000      -3.465      -3.050\n",
      "marital[T.married]        -0.1555      0.066     -2.364      0.018      -0.284      -0.027\n",
      "marital[T.single]          0.1822      0.069      2.636      0.008       0.047       0.318\n",
      "education[T.secondary]     0.1949      0.067      2.908      0.004       0.064       0.326\n",
      "education[T.tertiary]      0.3954      0.070      5.667      0.000       0.259       0.532\n",
      "education[T.unknown]       0.4514      0.109      4.142      0.000       0.238       0.665\n",
      "contact[T.telephone]      -0.0798      0.081     -0.983      0.326      -0.239       0.079\n",
      "contact[T.unknown]        -1.1288      0.068    -16.482      0.000      -1.263      -0.995\n",
      "balance                 2.065e-05    5.3e-06      3.892      0.000    1.02e-05     3.1e-05\n",
      "day                       -0.0077      0.002     -3.140      0.002      -0.012      -0.003\n",
      "duration                   0.0039   7.31e-05     54.003      0.000       0.004       0.004\n",
      "campaign_dummy             0.3968      0.047      8.447      0.000       0.305       0.489\n",
      "prev_campaign_contact      1.0836      0.046     23.650      0.000       0.994       1.173\n",
      "default                   -0.3261      0.200     -1.632      0.103      -0.718       0.065\n",
      "housing                   -1.0391      0.043    -23.931      0.000      -1.124      -0.954\n",
      "loan                      -0.6841      0.068    -10.029      0.000      -0.818      -0.550\n",
      "==========================================================================================\n"
     ]
    }
   ],
   "source": [
    "mod5 = smf.glm('''y~balance+day+duration+campaign_dummy+prev_campaign_contact+default+housing+loan+marital+education+contact''',\n",
    "                   family=sm.families.Binomial(),data=train).fit()\n",
    "print(mod5.summary())"
   ]
  },
  {
   "cell_type": "markdown",
   "id": "a2978686-37b9-4ddc-bccb-c9f06d2bd155",
   "metadata": {},
   "source": [
    "**Comment: Remove `contact`**"
   ]
  },
  {
   "cell_type": "code",
   "execution_count": 43,
   "id": "670bd6d3-a39b-45e5-afc3-1e4677a6438d",
   "metadata": {},
   "outputs": [
    {
     "name": "stdout",
     "output_type": "stream",
     "text": [
      "                 Generalized Linear Model Regression Results                  \n",
      "==============================================================================\n",
      "Dep. Variable:                      y   No. Observations:                31648\n",
      "Model:                            GLM   Df Residuals:                    31623\n",
      "Model Family:                Binomial   Df Model:                           24\n",
      "Link Function:                  Logit   Scale:                          1.0000\n",
      "Method:                          IRLS   Log-Likelihood:                -8514.7\n",
      "Date:                Mon, 30 Jan 2023   Deviance:                       17029.\n",
      "Time:                        15:33:20   Pearson chi2:                 5.68e+06\n",
      "No. Iterations:                     6   Pseudo R-squ. (CS):             0.1689\n",
      "Covariance Type:            nonrobust                                         \n",
      "==========================================================================================\n",
      "                             coef    std err          z      P>|z|      [0.025      0.975]\n",
      "------------------------------------------------------------------------------------------\n",
      "Intercept                 -3.3382      0.123    -27.188      0.000      -3.579      -3.098\n",
      "marital[T.married]        -0.0985      0.066     -1.496      0.135      -0.227       0.031\n",
      "marital[T.single]          0.2027      0.071      2.869      0.004       0.064       0.341\n",
      "education[T.secondary]     0.1647      0.072      2.281      0.023       0.023       0.306\n",
      "education[T.tertiary]      0.4721      0.083      5.688      0.000       0.309       0.635\n",
      "education[T.unknown]       0.3058      0.114      2.694      0.007       0.083       0.528\n",
      "job[T.blue-collar]        -0.5496      0.082     -6.675      0.000      -0.711      -0.388\n",
      "job[T.entrepreneur]       -0.5126      0.138     -3.724      0.000      -0.782      -0.243\n",
      "job[T.housemaid]          -0.5614      0.152     -3.689      0.000      -0.860      -0.263\n",
      "job[T.management]         -0.2612      0.082     -3.190      0.001      -0.422      -0.101\n",
      "job[T.retired]             0.3922      0.095      4.113      0.000       0.205       0.579\n",
      "job[T.self-employed]      -0.4264      0.126     -3.374      0.001      -0.674      -0.179\n",
      "job[T.services]           -0.3205      0.094     -3.394      0.001      -0.506      -0.135\n",
      "job[T.student]             0.5389      0.117      4.600      0.000       0.309       0.769\n",
      "job[T.technician]         -0.2176      0.076     -2.856      0.004      -0.367      -0.068\n",
      "job[T.unemployed]         -0.1951      0.123     -1.589      0.112      -0.436       0.046\n",
      "job[T.unknown]            -0.2320      0.243     -0.956      0.339      -0.708       0.244\n",
      "balance                 1.889e-05   5.35e-06      3.531      0.000    8.41e-06    2.94e-05\n",
      "day                       -0.0054      0.002     -2.239      0.025      -0.010      -0.001\n",
      "duration                   0.0039   7.24e-05     54.217      0.000       0.004       0.004\n",
      "campaign_dummy             0.3658      0.047      7.802      0.000       0.274       0.458\n",
      "prev_campaign_contact      1.2992      0.045     29.141      0.000       1.212       1.387\n",
      "default                   -0.2697      0.197     -1.369      0.171      -0.656       0.116\n",
      "housing                   -1.0571      0.044    -23.980      0.000      -1.144      -0.971\n",
      "loan                      -0.6063      0.068     -8.930      0.000      -0.739      -0.473\n",
      "==========================================================================================\n"
     ]
    }
   ],
   "source": [
    "mod6 = smf.glm('''y~balance+day+duration+campaign_dummy+prev_campaign_contact+default+housing+loan+marital+education+job''',\n",
    "                   family=sm.families.Binomial(),data=train).fit()\n",
    "print(mod6.summary())"
   ]
  },
  {
   "cell_type": "markdown",
   "id": "2b53f18e-aea4-4cfc-a1e6-42a05b577bfa",
   "metadata": {},
   "source": [
    "**Comment**: Remove level `marital[married]` and `job[unemployed]`"
   ]
  },
  {
   "cell_type": "code",
   "execution_count": 44,
   "id": "0f9cc6d4-a2e8-4a0e-a8a9-9a17162b1ee5",
   "metadata": {},
   "outputs": [],
   "source": [
    "train['single_dummy'] = train['marital'].map(lambda x: 1 if x=='single' else 0)\n",
    "test['single_dummy'] = test['marital'].map(lambda x: 1 if x=='single' else 0)\n",
    "for level in train['job'].unique():\n",
    "    if level!='unknown' or level!='unemployed':\n",
    "        train[level.replace(\"-\",\"_\").replace(\".\",\"\")+\"_dummy\"] = train['job'].map(lambda x: 1 if x==level else 0)\n",
    "        test[level.replace(\"-\",\"_\").replace(\".\",\"\")+\"_dummy\"] = test['job'].map(lambda x: 1 if x==level else 0)\n",
    "        "
   ]
  },
  {
   "cell_type": "code",
   "execution_count": 45,
   "id": "9a9eb8bd-2f4a-4df2-8b10-cf052b458c42",
   "metadata": {},
   "outputs": [
    {
     "data": {
      "text/plain": [
       "Index(['age', 'job', 'marital', 'education', 'default', 'balance', 'housing',\n",
       "       'loan', 'contact', 'day', 'month', 'duration', 'campaign', 'pdays',\n",
       "       'previous', 'poutcome', 'y', 'campaign_dummy', 'prev_campaign_contact',\n",
       "       'age_dummy', 'single_dummy', 'blue_collar_dummy', 'services_dummy',\n",
       "       'student_dummy', 'management_dummy', 'admin_dummy', 'technician_dummy',\n",
       "       'self_employed_dummy', 'entrepreneur_dummy', 'retired_dummy',\n",
       "       'unemployed_dummy', 'housemaid_dummy', 'unknown_dummy'],\n",
       "      dtype='object')"
      ]
     },
     "execution_count": 45,
     "metadata": {},
     "output_type": "execute_result"
    }
   ],
   "source": [
    "train.columns"
   ]
  },
  {
   "cell_type": "code",
   "execution_count": 46,
   "id": "517141f7-33f7-4b72-9ab3-a93afb8d35de",
   "metadata": {},
   "outputs": [
    {
     "name": "stdout",
     "output_type": "stream",
     "text": [
      "                 Generalized Linear Model Regression Results                  \n",
      "==============================================================================\n",
      "Dep. Variable:                      y   No. Observations:                31648\n",
      "Model:                            GLM   Df Residuals:                    31627\n",
      "Model Family:                Binomial   Df Model:                           20\n",
      "Link Function:                  Logit   Scale:                          1.0000\n",
      "Method:                          IRLS   Log-Likelihood:                -8523.5\n",
      "Date:                Mon, 30 Jan 2023   Deviance:                       17047.\n",
      "Time:                        15:33:20   Pearson chi2:                 5.51e+06\n",
      "No. Iterations:                     6   Pseudo R-squ. (CS):             0.1684\n",
      "Covariance Type:            nonrobust                                         \n",
      "==========================================================================================\n",
      "                             coef    std err          z      P>|z|      [0.025      0.975]\n",
      "------------------------------------------------------------------------------------------\n",
      "Intercept                 -3.5978      0.100    -36.064      0.000      -3.793      -3.402\n",
      "education[T.secondary]     0.2271      0.070      3.230      0.001       0.089       0.365\n",
      "education[T.tertiary]      0.5165      0.082      6.297      0.000       0.356       0.677\n",
      "education[T.unknown]       0.3462      0.111      3.108      0.002       0.128       0.564\n",
      "balance                  1.88e-05   5.35e-06      3.511      0.000     8.3e-06    2.93e-05\n",
      "day                       -0.0055      0.002     -2.244      0.025      -0.010      -0.001\n",
      "duration                   0.0039   7.23e-05     54.235      0.000       0.004       0.004\n",
      "campaign_dummy             0.3672      0.047      7.836      0.000       0.275       0.459\n",
      "prev_campaign_contact      1.3018      0.045     29.222      0.000       1.215       1.389\n",
      "default                   -0.2695      0.197     -1.369      0.171      -0.656       0.116\n",
      "housing                   -1.0410      0.044    -23.757      0.000      -1.127      -0.955\n",
      "loan                      -0.5991      0.068     -8.834      0.000      -0.732      -0.466\n",
      "single_dummy               0.2957      0.045      6.521      0.000       0.207       0.385\n",
      "blue_collar_dummy         -0.4268      0.074     -5.798      0.000      -0.571      -0.283\n",
      "services_dummy            -0.2082      0.089     -2.349      0.019      -0.382      -0.034\n",
      "student_dummy              0.6526      0.112      5.833      0.000       0.433       0.872\n",
      "management_dummy          -0.1374      0.073     -1.885      0.059      -0.280       0.005\n",
      "technician_dummy          -0.1038      0.068     -1.518      0.129      -0.238       0.030\n",
      "self_employed_dummy       -0.3048      0.121     -2.523      0.012      -0.542      -0.068\n",
      "entrepreneur_dummy        -0.3897      0.133     -2.939      0.003      -0.650      -0.130\n",
      "retired_dummy              0.5339      0.087      6.163      0.000       0.364       0.704\n",
      "==========================================================================================\n"
     ]
    }
   ],
   "source": [
    "mod7 = smf.glm('''y~balance+day+duration+campaign_dummy+prev_campaign_contact+default+housing+loan+education+single_dummy+\n",
    "                blue_collar_dummy+services_dummy+student_dummy+management_dummy+technician_dummy+self_employed_dummy+entrepreneur_dummy+retired_dummy''',\n",
    "                   family=sm.families.Binomial(),data=train).fit()\n",
    "print(mod7.summary())"
   ]
  },
  {
   "cell_type": "markdown",
   "id": "7f927919-b3da-40f4-a7af-eaaf73c2f46b",
   "metadata": {},
   "source": [
    "**Comment**: Remove `technician_dummy` and `default`"
   ]
  },
  {
   "cell_type": "code",
   "execution_count": 47,
   "id": "e88b0631-ec18-44b7-bcf0-be0b346693e7",
   "metadata": {},
   "outputs": [
    {
     "name": "stdout",
     "output_type": "stream",
     "text": [
      "                 Generalized Linear Model Regression Results                  \n",
      "==============================================================================\n",
      "Dep. Variable:                      y   No. Observations:                31648\n",
      "Model:                            GLM   Df Residuals:                    31629\n",
      "Model Family:                Binomial   Df Model:                           18\n",
      "Link Function:                  Logit   Scale:                          1.0000\n",
      "Method:                          IRLS   Log-Likelihood:                -8525.7\n",
      "Date:                Mon, 30 Jan 2023   Deviance:                       17051.\n",
      "Time:                        15:33:20   Pearson chi2:                 5.80e+06\n",
      "No. Iterations:                     6   Pseudo R-squ. (CS):             0.1683\n",
      "Covariance Type:            nonrobust                                         \n",
      "==========================================================================================\n",
      "                             coef    std err          z      P>|z|      [0.025      0.975]\n",
      "------------------------------------------------------------------------------------------\n",
      "Intercept                 -3.6407      0.097    -37.683      0.000      -3.830      -3.451\n",
      "education[T.secondary]     0.2181      0.070      3.110      0.002       0.081       0.356\n",
      "education[T.tertiary]      0.5006      0.081      6.162      0.000       0.341       0.660\n",
      "education[T.unknown]       0.3392      0.111      3.047      0.002       0.121       0.557\n",
      "balance                 1.918e-05   5.35e-06      3.589      0.000    8.71e-06    2.97e-05\n",
      "day                       -0.0056      0.002     -2.292      0.022      -0.010      -0.001\n",
      "duration                   0.0039   7.23e-05     54.255      0.000       0.004       0.004\n",
      "campaign_dummy             0.3696      0.047      7.891      0.000       0.278       0.461\n",
      "prev_campaign_contact      1.3050      0.045     29.309      0.000       1.218       1.392\n",
      "housing                   -1.0422      0.044    -23.791      0.000      -1.128      -0.956\n",
      "loan                      -0.6067      0.068     -8.966      0.000      -0.739      -0.474\n",
      "single_dummy               0.2935      0.045      6.475      0.000       0.205       0.382\n",
      "blue_collar_dummy         -0.3821      0.067     -5.665      0.000      -0.514      -0.250\n",
      "services_dummy            -0.1590      0.083     -1.917      0.055      -0.322       0.004\n",
      "student_dummy              0.7047      0.107      6.573      0.000       0.495       0.915\n",
      "management_dummy          -0.0831      0.063     -1.312      0.189      -0.207       0.041\n",
      "self_employed_dummy       -0.2538      0.116     -2.193      0.028      -0.481      -0.027\n",
      "entrepreneur_dummy        -0.3429      0.128     -2.673      0.008      -0.594      -0.092\n",
      "retired_dummy              0.5802      0.081      7.129      0.000       0.421       0.740\n",
      "==========================================================================================\n"
     ]
    }
   ],
   "source": [
    "mod8 = smf.glm('''y~balance+day+duration+campaign_dummy+prev_campaign_contact+housing+loan+education+single_dummy+\n",
    "                blue_collar_dummy+services_dummy+student_dummy+management_dummy+self_employed_dummy+entrepreneur_dummy+retired_dummy''',\n",
    "                   family=sm.families.Binomial(),data=train).fit()\n",
    "print(mod8.summary())"
   ]
  },
  {
   "cell_type": "markdown",
   "id": "133d4287-c752-4bd5-a30e-0d727097cd0d",
   "metadata": {},
   "source": [
    "**Comment**: The above model is finalized as all the coefficients are significant"
   ]
  },
  {
   "cell_type": "code",
   "execution_count": 48,
   "id": "48296612-695a-41fe-932a-e5b21ac7d9ce",
   "metadata": {},
   "outputs": [],
   "source": [
    "from sklearn.metrics import confusion_matrix,roc_auc_score"
   ]
  },
  {
   "cell_type": "code",
   "execution_count": 49,
   "id": "959e6754-a9ce-4150-91dd-41d09ddd80eb",
   "metadata": {},
   "outputs": [
    {
     "data": {
      "text/plain": [
       "0.11732178968655207"
      ]
     },
     "execution_count": 49,
     "metadata": {},
     "output_type": "execute_result"
    }
   ],
   "source": [
    "train['y'].mean()"
   ]
  },
  {
   "cell_type": "code",
   "execution_count": 50,
   "id": "556504f5-31ce-4c1f-a5b1-4a851fbd19fa",
   "metadata": {},
   "outputs": [],
   "source": [
    "pred_scores = mod8.predict(test)\n",
    "pred_labels = pred_scores.map(lambda x: 1 if x>=0.11732178968655207 else 0)"
   ]
  },
  {
   "cell_type": "code",
   "execution_count": 51,
   "id": "e2cfbd16-7c6a-4fb5-99cc-b8a5d36c7c31",
   "metadata": {},
   "outputs": [
    {
     "data": {
      "text/plain": [
       "array([[9619, 2368],\n",
       "       [ 327, 1249]])"
      ]
     },
     "execution_count": 51,
     "metadata": {},
     "output_type": "execute_result"
    }
   ],
   "source": [
    "confusion_matrix(test['y'],pred_labels)"
   ]
  },
  {
   "cell_type": "code",
   "execution_count": 52,
   "id": "1ddee304-cc76-4e88-ba56-eb4fc28aef17",
   "metadata": {},
   "outputs": [
    {
     "data": {
      "text/plain": [
       "0.8732853675237853"
      ]
     },
     "execution_count": 52,
     "metadata": {},
     "output_type": "execute_result"
    }
   ],
   "source": [
    "roc_auc_score(test['y'],pred_scores)"
   ]
  },
  {
   "cell_type": "code",
   "execution_count": null,
   "id": "41eb1023-8a9e-403d-b4e9-597cd3b4fc1a",
   "metadata": {},
   "outputs": [],
   "source": []
  }
 ],
 "metadata": {
  "kernelspec": {
   "display_name": "Python 3 (ipykernel)",
   "language": "python",
   "name": "python3"
  },
  "language_info": {
   "codemirror_mode": {
    "name": "ipython",
    "version": 3
   },
   "file_extension": ".py",
   "mimetype": "text/x-python",
   "name": "python",
   "nbconvert_exporter": "python",
   "pygments_lexer": "ipython3",
   "version": "3.9.13"
  }
 },
 "nbformat": 4,
 "nbformat_minor": 5
}
