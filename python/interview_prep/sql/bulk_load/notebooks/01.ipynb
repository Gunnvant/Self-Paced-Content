{
 "cells": [
  {
   "cell_type": "code",
   "execution_count": 1,
   "id": "856f2cb5-2318-49e0-a6dd-9364dd648ff4",
   "metadata": {},
   "outputs": [],
   "source": [
    "import psycopg2"
   ]
  },
  {
   "cell_type": "code",
   "execution_count": 2,
   "id": "12981d55-e9dc-4a5b-a861-0ba89297ec04",
   "metadata": {},
   "outputs": [],
   "source": [
    "dbname=\"dwh\"\n",
    "user=\"postgres\"\n",
    "password=\"123\"\n",
    "host=\"localhost\"\n",
    "port=\"5432\"\n",
    "tablename = \"health_facilities\"\n",
    "file_path = \"../data/health_facilities_gh.csv\""
   ]
  },
  {
   "cell_type": "code",
   "execution_count": 3,
   "id": "2af193fa-1402-48ba-8a54-747ef2b2cc98",
   "metadata": {},
   "outputs": [],
   "source": [
    "conn = psycopg2.connect(dbname = dbname,\n",
    "                        user = user,\n",
    "                        password = password,\n",
    "                        host = host,\n",
    "                        port = port)"
   ]
  },
  {
   "cell_type": "code",
   "execution_count": 4,
   "id": "68f34b6e-af39-4441-9b64-c300673c1237",
   "metadata": {},
   "outputs": [],
   "source": [
    "curr = conn.cursor()"
   ]
  },
  {
   "cell_type": "code",
   "execution_count": 5,
   "id": "3b0005ff-ca7b-4322-9020-7f0564e3df46",
   "metadata": {},
   "outputs": [],
   "source": [
    "table_create = '''\n",
    "create table if not exists health_facilities(\n",
    "Region varchar,\n",
    "District varchar,\n",
    "FacilityName varchar,\n",
    "Kind varchar, \n",
    "Town varchar,\n",
    "Type_Ownership varchar,\n",
    "Latitude float,\n",
    "Longitude float    \n",
    ")\n",
    "'''\n",
    "curr.execute(table_create)\n",
    "conn.commit()"
   ]
  },
  {
   "cell_type": "code",
   "execution_count": 6,
   "id": "4291d13c-90a8-47d1-8d4d-56acf609bcd0",
   "metadata": {},
   "outputs": [],
   "source": [
    "with open(file_path,'r') as f:\n",
    "    curr.copy_expert(f\"COPY {tablename} FROM STDIN WITH HEADER CSV\",f)\n",
    "    curr.close()\n",
    "    conn.commit()\n",
    "    conn.close()"
   ]
  },
  {
   "cell_type": "code",
   "execution_count": null,
   "id": "af28bdab-a972-4eda-869d-399708e30c84",
   "metadata": {},
   "outputs": [],
   "source": []
  }
 ],
 "metadata": {
  "kernelspec": {
   "display_name": "Python 3 (ipykernel)",
   "language": "python",
   "name": "python3"
  },
  "language_info": {
   "codemirror_mode": {
    "name": "ipython",
    "version": 3
   },
   "file_extension": ".py",
   "mimetype": "text/x-python",
   "name": "python",
   "nbconvert_exporter": "python",
   "pygments_lexer": "ipython3",
   "version": "3.8.16"
  }
 },
 "nbformat": 4,
 "nbformat_minor": 5
}
