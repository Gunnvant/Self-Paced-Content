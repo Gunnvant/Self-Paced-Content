{
 "cells": [
  {
   "cell_type": "code",
   "execution_count": 1,
   "id": "0a690d52-9c54-4a46-9777-89809f73435d",
   "metadata": {},
   "outputs": [],
   "source": [
    "import os\n",
    "import pandas as pd"
   ]
  },
  {
   "cell_type": "code",
   "execution_count": 2,
   "id": "d0429654-7b37-4b6b-ad97-388e22f0b999",
   "metadata": {},
   "outputs": [],
   "source": [
    "base_dir = \"/Users/gunnvantsaini/Downloads/2022-02\"\n",
    "files = os.listdir(base_dir)"
   ]
  },
  {
   "cell_type": "code",
   "execution_count": 3,
   "id": "b523d7e5-d9be-4101-9f3f-38a09bbbbcab",
   "metadata": {},
   "outputs": [],
   "source": [
    "cats = {\"outcomes.csv\":'outcomes',\n",
    "       \"street.csv\":\"crimes\",\n",
    "       \"stop-and-search.csv\":\"stop_and_search\"}"
   ]
  },
  {
   "cell_type": "code",
   "execution_count": 4,
   "id": "5afdf9b8-bde5-4919-bad3-9bbcfba791be",
   "metadata": {},
   "outputs": [],
   "source": [
    "file_cats = {}\n",
    "for file in files:\n",
    "    for cat in cats:\n",
    "        if cat in file:\n",
    "            if cats[cat] not in file_cats:\n",
    "                file_cats[cats[cat]]=[]\n",
    "            else:\n",
    "                file_cats[cats[cat]].append(file)           "
   ]
  },
  {
   "cell_type": "code",
   "execution_count": 7,
   "id": "e251cd1b-aaaa-4734-b898-ee6a615c27c9",
   "metadata": {},
   "outputs": [],
   "source": [
    "data = {}\n",
    "for cat in file_cats:\n",
    "    dfs = []\n",
    "    for file in file_cats[cat]:\n",
    "        path = os.path.join(base_dir,file)\n",
    "        dfs.append(pd.read_csv(path))\n",
    "    data[cat] = pd.concat(dfs,axis=0)        "
   ]
  },
  {
   "cell_type": "code",
   "execution_count": 8,
   "id": "f77b8670-c5e1-4f78-96d7-ffce2198a168",
   "metadata": {},
   "outputs": [
    {
     "data": {
      "text/plain": [
       "dict_keys(['crimes', 'outcomes', 'stop_and_search'])"
      ]
     },
     "execution_count": 8,
     "metadata": {},
     "output_type": "execute_result"
    }
   ],
   "source": [
    "data.keys()"
   ]
  },
  {
   "cell_type": "code",
   "execution_count": null,
   "id": "c94ba91b-6be6-446d-b868-89e0386df02e",
   "metadata": {},
   "outputs": [],
   "source": []
  }
 ],
 "metadata": {
  "kernelspec": {
   "display_name": "Python 3 (ipykernel)",
   "language": "python",
   "name": "python3"
  },
  "language_info": {
   "codemirror_mode": {
    "name": "ipython",
    "version": 3
   },
   "file_extension": ".py",
   "mimetype": "text/x-python",
   "name": "python",
   "nbconvert_exporter": "python",
   "pygments_lexer": "ipython3",
   "version": "3.9.10"
  }
 },
 "nbformat": 4,
 "nbformat_minor": 5
}
