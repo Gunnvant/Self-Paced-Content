{
 "cells": [
  {
   "cell_type": "markdown",
   "metadata": {},
   "source": [
    "a. Use the dataset called [narcos.json](https://drive.google.com/file/d/1JdRVciBHaPu33Gc461nk6Y28EBD8dfyL/view?usp=sharing). In this json file is there a key named `WebChannel`?\n",
    "\n",
    "1. Yes\n",
    "2. **No**"
   ]
  },
  {
   "cell_type": "code",
   "execution_count": 1,
   "metadata": {},
   "outputs": [],
   "source": [
    "import json\n",
    "path = \"/Users/gunnvantsaini/Downloads/narcos.json\"\n",
    "with open(path,'r') as f:\n",
    "    data=json.loads(f.read())"
   ]
  },
  {
   "cell_type": "code",
   "execution_count": 3,
   "metadata": {},
   "outputs": [
    {
     "data": {
      "text/plain": [
       "False"
      ]
     },
     "execution_count": 3,
     "metadata": {},
     "output_type": "execute_result"
    }
   ],
   "source": [
    "\"WebChannel\" in data"
   ]
  },
  {
   "cell_type": "markdown",
   "metadata": {},
   "source": [
    "b. Now define a function called `fetch()` which takes the dictionary created after reading the json file and returns a list of lists with following fields:\n",
    "\n",
    "1. id of the episode\n",
    "2. url of the episode\n",
    "3. name of the episode\n",
    "4. season of the episode\n",
    "5. number of the episode\n",
    "6. type\n",
    "7. airdate\n",
    "8. airtime\n",
    "9. airtimestamp\n",
    "10. runtime\n",
    "11. summary (Remove the ```<p>``` and ```</p>``` tags from the summary)\n",
    "\n",
    "``` python\n",
    "def fetch(dicttionary_json_data):\n",
    "# your code goes here\n",
    "    return result ##result should be a list of lists with the fields given above.\n",
    "\n",
    "```"
   ]
  },
  {
   "cell_type": "code",
   "execution_count": 4,
   "metadata": {},
   "outputs": [],
   "source": [
    "def fetch(data):\n",
    "    results = []\n",
    "    for episode in data['_embedded']['episodes']:\n",
    "        results.append([episode['id'], \n",
    "                            episode['url'], \n",
    "                            episode['name'], \n",
    "                            episode['season'],\n",
    "                            episode['number'],\n",
    "                            episode['type'],\n",
    "                            episode['airdate'],\n",
    "                            episode['airtime'],\n",
    "                            episode['airstamp'],\n",
    "                            episode['runtime'],\n",
    "                            episode['summary'].replace(\"<p>\",\"\").replace(\"</p>\",\"\")])\n",
    "    return results"
   ]
  },
  {
   "cell_type": "markdown",
   "metadata": {},
   "source": [
    "c. Now write a function named `dump()` which will write the contents of the results obtained from `fetch()` defined earlier to a csv file. The headers of the file should be in the following order:\n",
    "\n",
    "1. id \n",
    "2. url \n",
    "3. name \n",
    "4. season \n",
    "5. number \n",
    "6. type\n",
    "7. airdate\n",
    "8. airtime\n",
    "9. airtimestamp\n",
    "10. runtime\n",
    "11. summary \n",
    "\n",
    "The function should take the following inputs:\n",
    "1. Path where you want to save the results\n",
    "2. The name you want to give this file\n",
    "3. The output of `fetch()` function\n",
    "\n",
    "The function should return:\n",
    "1. True if file has been created\n",
    "2. False otherwise (Hint use the `os` module in python to check if a file at a given location exits or not)\n",
    "\n",
    "```python\n",
    "import os\n",
    "import csv\n",
    "def dump(path,name,results):\n",
    "    '''Your code goes here'''\n",
    "    \n",
    "```\n"
   ]
  },
  {
   "cell_type": "code",
   "execution_count": 5,
   "metadata": {},
   "outputs": [],
   "source": [
    "import os\n",
    "import csv\n",
    "def dump(path, name, results):\n",
    "    headers = ['id','url','name','season','number','type','airdate','airtime','airstamp','runtime','summary']\n",
    "    path_write = path+\"/\"+name\n",
    "    with open(path_write,'w',encoding='utf-8') as f:\n",
    "        writer = csv.writer(f)\n",
    "        writer.writerow(headers)\n",
    "        for result in results:\n",
    "            writer.writerow(result)\n",
    "    if os.path.isfile(path_write):\n",
    "        return True\n",
    "    else:\n",
    "        return False"
   ]
  },
  {
   "cell_type": "code",
   "execution_count": null,
   "metadata": {},
   "outputs": [],
   "source": []
  }
 ],
 "metadata": {
  "kernelspec": {
   "display_name": "Python 3.9.13 ('base')",
   "language": "python",
   "name": "python3"
  },
  "language_info": {
   "codemirror_mode": {
    "name": "ipython",
    "version": 3
   },
   "file_extension": ".py",
   "mimetype": "text/x-python",
   "name": "python",
   "nbconvert_exporter": "python",
   "pygments_lexer": "ipython3",
   "version": "3.9.13"
  },
  "orig_nbformat": 4,
  "vscode": {
   "interpreter": {
    "hash": "e7daf05c69c155aebd2e559915f14874f994643a3478331c2f87e5ba1291b428"
   }
  }
 },
 "nbformat": 4,
 "nbformat_minor": 2
}
