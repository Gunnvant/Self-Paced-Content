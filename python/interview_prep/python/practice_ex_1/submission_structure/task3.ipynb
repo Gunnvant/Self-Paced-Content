{
 "cells": [
  {
   "cell_type": "markdown",
   "id": "e138da1a-ff49-4da2-90d1-64fabe41dfc0",
   "metadata": {},
   "source": [
    "**Task 3**\n",
    "\n",
    "Use the `peter_pan.txt`. Download the file [here](https://drive.google.com/file/d/1D4q06bZ_hSEICxE8j843N4KasLq8YWPq/view?usp=sharing)  to answer the questions. \n",
    "\n",
    "a. The number of characters in the file are?\n",
    "\n",
    "1. 274394\n",
    "2. 274951\n",
    "3. 374950\n",
    "4. 374951"
   ]
  },
  {
   "cell_type": "markdown",
   "id": "06c7338c-7594-4161-a9db-cad37ba34a85",
   "metadata": {},
   "source": [
    "Provide your code here\n",
    "```python\n",
    "your code goes below this cell\n",
    "```"
   ]
  },
  {
   "cell_type": "code",
   "execution_count": null,
   "id": "55b6ded0-5a8b-4efd-b280-541c497b06ed",
   "metadata": {},
   "outputs": [],
   "source": []
  },
  {
   "cell_type": "markdown",
   "id": "ce173feb-b711-4382-acf3-0a2cdbfa5ec0",
   "metadata": {},
   "source": [
    "b. How many chapters does this text have?\n",
    "\n",
    "1. 18\n",
    "2. 17\n",
    "3. 16\n",
    "4. 21\n",
    "\n",
    "Provide your code here\n",
    "```python\n",
    "your code goes below this cell\n",
    "```"
   ]
  },
  {
   "cell_type": "code",
   "execution_count": null,
   "id": "8bd8c71e-4010-48bc-a608-af8776c75b58",
   "metadata": {},
   "outputs": [],
   "source": []
  },
  {
   "cell_type": "markdown",
   "id": "51ffb24c-3fb9-47a8-9e92-ae76b9ff05c4",
   "metadata": {},
   "source": [
    "c. Find the index where Chapter II starts?\n",
    "\n",
    "Provide your code here\n",
    "```python\n",
    "your code goes here\n",
    "```"
   ]
  },
  {
   "cell_type": "code",
   "execution_count": null,
   "id": "cd5c50a0-54a1-4534-893f-1cd6af19a21a",
   "metadata": {},
   "outputs": [],
   "source": []
  },
  {
   "cell_type": "markdown",
   "id": "9b664049-ea60-4ade-bdad-903aa3c4a783",
   "metadata": {},
   "source": [
    "d. Find the index where Chapter III starts?\n",
    "\n",
    "Provide your code here\n",
    "```python\n",
    "your code goes here\n",
    "```"
   ]
  },
  {
   "cell_type": "code",
   "execution_count": null,
   "id": "96c26237-9ebd-4b23-bbd4-24f671e758ac",
   "metadata": {},
   "outputs": [],
   "source": []
  },
  {
   "cell_type": "markdown",
   "id": "2d12d2c7-3db0-4e1e-9457-cb314f8c64e1",
   "metadata": {},
   "source": [
    "e. How many characters/alphabets/symbols (including white spaces etc) are there in Chapter II?\n",
    "\n",
    "1. 15926\n",
    "2. 15921\n",
    "3. 15929\n",
    "4. 15920\n",
    "\n",
    "Provide your code here\n",
    "```python\n",
    "your code goes here\n",
    "```"
   ]
  },
  {
   "cell_type": "code",
   "execution_count": null,
   "id": "a3a825d7-bb75-45d0-b2b6-7d1bae9b44c4",
   "metadata": {},
   "outputs": [],
   "source": []
  }
 ],
 "metadata": {
  "kernelspec": {
   "display_name": "Python 3 (ipykernel)",
   "language": "python",
   "name": "python3"
  },
  "language_info": {
   "codemirror_mode": {
    "name": "ipython",
    "version": 3
   },
   "file_extension": ".py",
   "mimetype": "text/x-python",
   "name": "python",
   "nbconvert_exporter": "python",
   "pygments_lexer": "ipython3",
   "version": "3.9.10"
  }
 },
 "nbformat": 4,
 "nbformat_minor": 5
}
