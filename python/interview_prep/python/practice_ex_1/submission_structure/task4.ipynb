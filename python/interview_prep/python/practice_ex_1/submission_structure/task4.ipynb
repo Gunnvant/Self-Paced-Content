{
 "cells": [
  {
   "cell_type": "markdown",
   "id": "f140afff-ceb2-489a-922f-4d176baddc74",
   "metadata": {},
   "source": [
    "**Task 4**\n",
    "\n",
    "a. Use the dataset called [narcos.json](https://drive.google.com/file/d/1JdRVciBHaPu33Gc461nk6Y28EBD8dfyL/view?usp=sharing). In this json file is there a key named `WebChannel`?\n",
    "\n",
    "1. Yes\n",
    "2. No\n",
    "\n",
    "```python\n",
    "your code goes here\n",
    "```\n",
    "\n"
   ]
  },
  {
   "cell_type": "code",
   "execution_count": null,
   "id": "a4d7eea5-6d4c-478c-a2ed-b31b097f16f8",
   "metadata": {},
   "outputs": [],
   "source": []
  },
  {
   "cell_type": "markdown",
   "id": "940c7754-9701-4fdb-bb97-647cadeb80a1",
   "metadata": {},
   "source": [
    "b. Now define a function called `fetch()` which takes the dictionary created after reading the json file and returns a list of lists with following fields:\n",
    "\n",
    "1. id of the episode\n",
    "2. url of the episode\n",
    "3. name of the episode\n",
    "4. season of the episode\n",
    "5. number of the episode\n",
    "6. type\n",
    "7. airdate\n",
    "8. airtime\n",
    "9. airtimestamp\n",
    "10. runtime\n",
    "11. summary (Remove the ```<p>``` and ```</p>``` tags from the summary)\n"
   ]
  },
  {
   "cell_type": "code",
   "execution_count": null,
   "id": "930549fe-f4d4-426a-bc6c-6ba92d8c8fc2",
   "metadata": {},
   "outputs": [],
   "source": [
    "def fetch(dicttionary_json_data):\n",
    "# your code goes here\n",
    "    return result ##result should be a list of lists with the fields given above.\n",
    "\n"
   ]
  },
  {
   "cell_type": "markdown",
   "id": "bba8b827-d015-4e8d-ac52-6b68ca9164b5",
   "metadata": {},
   "source": [
    "c. Now write a function named `dump()` which will write the contents of the results obtained from `fetch()` defined earlier to a csv file. The headers of the file should be in the following order:\n",
    "\n",
    "1. id \n",
    "2. url \n",
    "3. name \n",
    "4. season \n",
    "5. number \n",
    "6. type\n",
    "7. airdate\n",
    "8. airtime\n",
    "9. airtimestamp\n",
    "10. runtime\n",
    "11. summary \n",
    "\n",
    "The function should take the following inputs:\n",
    "1. Path where you want to save the results\n",
    "2. The name you want to give this file\n",
    "3. The output of `fetch()` function\n",
    "\n",
    "The function should return:\n",
    "1. True if file has been created\n",
    "2. False otherwise (Hint use the `os` module in python to check if a file at a given location exits or not)\n",
    "\n"
   ]
  },
  {
   "cell_type": "code",
   "execution_count": null,
   "id": "6f216bf8-be71-4fe6-b3eb-18afad29f5a0",
   "metadata": {},
   "outputs": [],
   "source": [
    "import os\n",
    "import csv\n",
    "def dump(path,name,results):\n",
    "    '''Your code goes here'''\n",
    "\n"
   ]
  }
 ],
 "metadata": {
  "kernelspec": {
   "display_name": "Python 3 (ipykernel)",
   "language": "python",
   "name": "python3"
  },
  "language_info": {
   "codemirror_mode": {
    "name": "ipython",
    "version": 3
   },
   "file_extension": ".py",
   "mimetype": "text/x-python",
   "name": "python",
   "nbconvert_exporter": "python",
   "pygments_lexer": "ipython3",
   "version": "3.9.10"
  }
 },
 "nbformat": 4,
 "nbformat_minor": 5
}
