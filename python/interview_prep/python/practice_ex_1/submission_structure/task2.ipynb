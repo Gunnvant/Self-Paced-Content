{
 "cells": [
  {
   "cell_type": "code",
   "execution_count": null,
   "id": "f2351d31-ce9d-4701-9b78-f898afd46e59",
   "metadata": {},
   "outputs": [],
   "source": [
    "path = \"\" ## this is the path to the folder which has all the files"
   ]
  },
  {
   "cell_type": "code",
   "execution_count": null,
   "id": "a2090c8f-18a1-4be1-958d-630901fdc197",
   "metadata": {},
   "outputs": [],
   "source": [
    "## Your code goes here"
   ]
  }
 ],
 "metadata": {
  "kernelspec": {
   "display_name": "Python 3 (ipykernel)",
   "language": "python",
   "name": "python3"
  },
  "language_info": {
   "codemirror_mode": {
    "name": "ipython",
    "version": 3
   },
   "file_extension": ".py",
   "mimetype": "text/x-python",
   "name": "python",
   "nbconvert_exporter": "python",
   "pygments_lexer": "ipython3",
   "version": "3.9.10"
  }
 },
 "nbformat": 4,
 "nbformat_minor": 5
}
