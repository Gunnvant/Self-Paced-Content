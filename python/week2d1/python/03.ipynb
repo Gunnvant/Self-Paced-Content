{
 "cells": [
  {
   "cell_type": "markdown",
   "id": "ae540b4f-46b7-4bf7-add2-34d4f22c8682",
   "metadata": {},
   "source": [
    "Use the tweets_assignment.txt to find out how many tweets were posted on 23, 24, 25, 26 December. Write the results in a csv file using the writer or DictWriter class. The file should follow the following format:\n",
    "\n",
    "```\n",
    "count_23,count_24,count_25,count_26\n",
    "val1,val2,val3,val4\n",
    "```"
   ]
  },
  {
   "cell_type": "code",
   "execution_count": 1,
   "id": "fd961d29-bea2-4b29-98af-ab473693867a",
   "metadata": {},
   "outputs": [],
   "source": [
    "import csv"
   ]
  },
  {
   "cell_type": "code",
   "execution_count": 3,
   "id": "b9cf6fd7-de64-407d-88fa-af19ec1e46fd",
   "metadata": {},
   "outputs": [],
   "source": [
    "with open(\"tweets_assignment.txt\",\"r\") as f:\n",
    "    data = []\n",
    "    reader = csv.DictReader(f,delimiter=\"|\")\n",
    "    for row in reader:\n",
    "        data.append(row)"
   ]
  },
  {
   "cell_type": "code",
   "execution_count": 13,
   "id": "5bfbb231-0768-45fa-8398-0b7a1b52bf04",
   "metadata": {},
   "outputs": [
    {
     "data": {
      "text/plain": [
       "{'Tweet_Date': 'Thu Dec 26 082216 0000 2013',\n",
       " 'Tweet_Text': 'sameergupta84 AamAadmiParty indirectly join congress',\n",
       " 'Tweet_Handle': 'Nirajss'}"
      ]
     },
     "execution_count": 13,
     "metadata": {},
     "output_type": "execute_result"
    }
   ],
   "source": [
    "data[1000]"
   ]
  },
  {
   "cell_type": "code",
   "execution_count": 14,
   "id": "10d743e4-0094-4b73-a280-ac0b3baba972",
   "metadata": {},
   "outputs": [],
   "source": [
    "date_indx = {'23':'Mon Dec 23',\n",
    "            '24':'Tue Dec 24',\n",
    "            '25':'Wed Dec 25',\n",
    "            '26':'Thu Dec 26'}"
   ]
  },
  {
   "cell_type": "code",
   "execution_count": 15,
   "id": "18a67f98-21dd-46ee-be40-0b23ae32ee02",
   "metadata": {},
   "outputs": [],
   "source": [
    "def check_dates(date_idx,date):\n",
    "    if date.startswith(date_idx['23']):\n",
    "        res = 23\n",
    "    if date.startswith(date_idx['24']):\n",
    "        res = 24\n",
    "    if date.startswith(date_idx['25']):\n",
    "        res = 25\n",
    "    if date.startswith(date_idx['26']):\n",
    "        res = 26\n",
    "    return res"
   ]
  },
  {
   "cell_type": "code",
   "execution_count": 16,
   "id": "23dc9c7f-7e30-40e8-b616-b417c5476ad6",
   "metadata": {},
   "outputs": [],
   "source": [
    "count = {23:0,24:0,25:0,26:0}"
   ]
  },
  {
   "cell_type": "code",
   "execution_count": 19,
   "id": "557e65d9-e0c0-4696-8e2b-0da905a474a4",
   "metadata": {},
   "outputs": [],
   "source": [
    "for row in data:\n",
    "    res = check_dates(date_indx,row['Tweet_Date'])\n",
    "    count[res]+=1"
   ]
  },
  {
   "cell_type": "code",
   "execution_count": 20,
   "id": "bdf6adc0-016a-4211-90ac-625ef79924af",
   "metadata": {},
   "outputs": [
    {
     "data": {
      "text/plain": [
       "{23: 5092, 24: 4079, 25: 3103, 26: 1999}"
      ]
     },
     "execution_count": 20,
     "metadata": {},
     "output_type": "execute_result"
    }
   ],
   "source": [
    "count"
   ]
  },
  {
   "cell_type": "code",
   "execution_count": 22,
   "id": "a75bc636-0398-40cc-8b55-24fda976f452",
   "metadata": {},
   "outputs": [],
   "source": [
    "with open(\"results.csv\",'w') as f:\n",
    "    writer = csv.DictWriter(f,delimiter=\",\",fieldnames = ['count_23','count_24','count_25','count_26'])\n",
    "    writer.writeheader()\n",
    "    writer.writerow({'count_23':count[23],\n",
    "                    'count_24':count[24],\n",
    "                    'count_25':count[25],\n",
    "                    'count_26':count[26]})"
   ]
  },
  {
   "cell_type": "code",
   "execution_count": null,
   "id": "34572018-f39b-4cac-998a-ea1d92444dcc",
   "metadata": {},
   "outputs": [],
   "source": []
  }
 ],
 "metadata": {
  "kernelspec": {
   "display_name": "Python 3 (ipykernel)",
   "language": "python",
   "name": "python3"
  },
  "language_info": {
   "codemirror_mode": {
    "name": "ipython",
    "version": 3
   },
   "file_extension": ".py",
   "mimetype": "text/x-python",
   "name": "python",
   "nbconvert_exporter": "python",
   "pygments_lexer": "ipython3",
   "version": "3.9.13"
  }
 },
 "nbformat": 4,
 "nbformat_minor": 5
}
