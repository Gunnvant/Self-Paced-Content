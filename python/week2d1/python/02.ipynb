{
 "cells": [
  {
   "cell_type": "markdown",
   "id": "3c978e36-e89e-4ef4-9def-f2c72b4400b2",
   "metadata": {},
   "source": [
    "## Using `csv` module to handle flat files"
   ]
  },
  {
   "cell_type": "code",
   "execution_count": 1,
   "id": "c0e2214b-1ecc-483f-be90-3baba9842592",
   "metadata": {},
   "outputs": [],
   "source": [
    "import csv"
   ]
  },
  {
   "cell_type": "code",
   "execution_count": 2,
   "id": "c7a365f5-45f9-418d-a6bb-ebcea57d5e30",
   "metadata": {},
   "outputs": [
    {
     "name": "stdout",
     "output_type": "stream",
     "text": [
      "['Name', 'Age', 'Gender']\n",
      "['Sumit', '12', 'M']\n",
      "['Rob', '21', 'M']\n",
      "['Emily', '45', 'F']\n"
     ]
    }
   ],
   "source": [
    "with open(\"sample1.csv\",\"r\") as f:\n",
    "    reader = csv.reader(f,delimiter=\",\")\n",
    "    for row in reader:\n",
    "        print(row)"
   ]
  },
  {
   "cell_type": "code",
   "execution_count": 3,
   "id": "78c3cf2e-6bcc-4881-8ce0-6e4ed80c8205",
   "metadata": {},
   "outputs": [
    {
     "name": "stdout",
     "output_type": "stream",
     "text": [
      "['Name', 'Age', 'Gender']\n",
      "['Sumit', '12', 'M']\n",
      "['Rob', '21', 'M']\n",
      "['Emily', '45', 'F']\n"
     ]
    }
   ],
   "source": [
    "with open(\"sample2.txt\",\"r\") as f:\n",
    "    reader = csv.reader(f,delimiter=\"|\")\n",
    "    for row in reader:\n",
    "        print(row)"
   ]
  },
  {
   "cell_type": "code",
   "execution_count": 5,
   "id": "ac0e536f-006b-4e19-a1d9-efae09a09f20",
   "metadata": {},
   "outputs": [
    {
     "name": "stdout",
     "output_type": "stream",
     "text": [
      "['Name', 'Age', 'Gender']\n",
      "['Sumit', '12', 'M']\n",
      "['Rob', '21', 'M']\n",
      "['Emily', '45', 'F']\n"
     ]
    }
   ],
   "source": [
    "with open(\"sample3.tsv\",\"r\") as f:\n",
    "    reader = csv.reader(f,delimiter=\"\\t\")\n",
    "    for row in reader:\n",
    "        print(row)"
   ]
  },
  {
   "cell_type": "code",
   "execution_count": 6,
   "id": "d5b8ab10-d60f-49ee-9f94-5efe5ac21e27",
   "metadata": {},
   "outputs": [
    {
     "name": "stdout",
     "output_type": "stream",
     "text": [
      "{'Name': 'Sumit', 'Age': '12', 'Gender': 'M'}\n",
      "{'Name': 'Rob', 'Age': '21', 'Gender': 'M'}\n",
      "{'Name': 'Emily', 'Age': '45', 'Gender': 'F'}\n"
     ]
    }
   ],
   "source": [
    "with open(\"sample3.tsv\",\"r\") as f:\n",
    "    reader = csv.DictReader(f,delimiter=\"\\t\")\n",
    "    for row in reader:\n",
    "        print(row)"
   ]
  },
  {
   "cell_type": "code",
   "execution_count": 7,
   "id": "bcee0412-ed12-45d0-8b08-db865f79e157",
   "metadata": {},
   "outputs": [
    {
     "name": "stdout",
     "output_type": "stream",
     "text": [
      "12\n",
      "21\n",
      "45\n"
     ]
    }
   ],
   "source": [
    "with open(\"sample3.tsv\",\"r\") as f:\n",
    "    reader = csv.DictReader(f,delimiter=\"\\t\")\n",
    "    for row in reader:\n",
    "        print(row['Age'])"
   ]
  },
  {
   "cell_type": "code",
   "execution_count": 8,
   "id": "459bf446-4b6c-4ce3-9411-5a4c5701e49f",
   "metadata": {},
   "outputs": [],
   "source": [
    "def read_data(path:str,sep:str)->list:\n",
    "    data = []\n",
    "    with open(path,'r') as f:\n",
    "        reader = csv.DictReader(f,delimiter=sep)\n",
    "        for row in reader:\n",
    "            data.append(row)\n",
    "    return data"
   ]
  },
  {
   "cell_type": "code",
   "execution_count": 9,
   "id": "34594835-2d37-428e-b9fe-6b254db95abf",
   "metadata": {},
   "outputs": [
    {
     "data": {
      "text/plain": [
       "[{'Name': 'Sumit', 'Age': '12', 'Gender': 'M'},\n",
       " {'Name': 'Rob', 'Age': '21', 'Gender': 'M'},\n",
       " {'Name': 'Emily', 'Age': '45', 'Gender': 'F'}]"
      ]
     },
     "execution_count": 9,
     "metadata": {},
     "output_type": "execute_result"
    }
   ],
   "source": [
    "read_data(\"sample3.tsv\",\"\\t\")"
   ]
  },
  {
   "cell_type": "code",
   "execution_count": 10,
   "id": "85be78e4-ca5c-4d94-a6d1-dd01c98f886b",
   "metadata": {},
   "outputs": [
    {
     "data": {
      "text/plain": [
       "[{'Name': 'Sumit', 'Age': '12', 'Gender': 'M'},\n",
       " {'Name': 'Rob', 'Age': '21', 'Gender': 'M'},\n",
       " {'Name': 'Emily', 'Age': '45', 'Gender': 'F'}]"
      ]
     },
     "execution_count": 10,
     "metadata": {},
     "output_type": "execute_result"
    }
   ],
   "source": [
    "read_data(\"sample2.txt\",\"|\")"
   ]
  },
  {
   "cell_type": "code",
   "execution_count": 11,
   "id": "906c07f8-8b55-4508-b735-21666bd2c32c",
   "metadata": {},
   "outputs": [
    {
     "data": {
      "text/plain": [
       "[{'Name': 'Sumit', 'Age': '12', 'Gender': 'M'},\n",
       " {'Name': 'Rob', 'Age': '21', 'Gender': 'M'},\n",
       " {'Name': 'Emily', 'Age': '45', 'Gender': 'F'}]"
      ]
     },
     "execution_count": 11,
     "metadata": {},
     "output_type": "execute_result"
    }
   ],
   "source": [
    "read_data(\"sample1.csv\",\",\")"
   ]
  },
  {
   "cell_type": "markdown",
   "id": "61c8b525-be94-49da-a4d8-b80ece07ccb0",
   "metadata": {},
   "source": [
    "## Exporting data"
   ]
  },
  {
   "cell_type": "code",
   "execution_count": 12,
   "id": "2752fe88-0429-4730-8b16-c2de7bda117e",
   "metadata": {},
   "outputs": [],
   "source": [
    "data = [['Name','Age','Gender'],\n",
    "           ['Sumit','12','M'],\n",
    "           ['Rob','21','M'],\n",
    "           ['Emily','45','F']]"
   ]
  },
  {
   "cell_type": "code",
   "execution_count": 13,
   "id": "50920c87-d45e-4503-adcb-fc7c92a0cd14",
   "metadata": {},
   "outputs": [],
   "source": [
    "with open(\"sample_write.csv\",\"w\") as f:\n",
    "    writer = csv.writer(f,delimiter=\",\")\n",
    "    for row in data:\n",
    "        writer.writerow(row)"
   ]
  },
  {
   "cell_type": "code",
   "execution_count": null,
   "id": "a94370c0-a618-4d4a-9f16-3d10b30e1ec1",
   "metadata": {},
   "outputs": [],
   "source": []
  }
 ],
 "metadata": {
  "kernelspec": {
   "display_name": "Python 3 (ipykernel)",
   "language": "python",
   "name": "python3"
  },
  "language_info": {
   "codemirror_mode": {
    "name": "ipython",
    "version": 3
   },
   "file_extension": ".py",
   "mimetype": "text/x-python",
   "name": "python",
   "nbconvert_exporter": "python",
   "pygments_lexer": "ipython3",
   "version": "3.9.13"
  }
 },
 "nbformat": 4,
 "nbformat_minor": 5
}
