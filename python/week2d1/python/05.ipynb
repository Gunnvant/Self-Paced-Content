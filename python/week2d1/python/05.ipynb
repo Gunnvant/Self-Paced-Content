{
 "cells": [
  {
   "cell_type": "markdown",
   "id": "0b870ddc-3622-4271-af43-9c7c3d7210e7",
   "metadata": {},
   "source": [
    "## Working with `json` data 3"
   ]
  },
  {
   "cell_type": "code",
   "execution_count": 1,
   "id": "49f7b6e0-c484-4a08-8c68-b84bb0f180c6",
   "metadata": {},
   "outputs": [],
   "source": [
    "import json\n",
    "import csv"
   ]
  },
  {
   "cell_type": "code",
   "execution_count": 2,
   "id": "78cdf2f2-a474-4ffe-8eef-da8a43dd3ff3",
   "metadata": {},
   "outputs": [],
   "source": [
    "with open(\"meteorite.json\",\"r\") as f:\n",
    "    d_str = f.read()\n",
    "d_json = json.loads(d_str)"
   ]
  },
  {
   "cell_type": "code",
   "execution_count": 5,
   "id": "a12ec442-d6b7-497b-af2e-670970f75857",
   "metadata": {},
   "outputs": [
    {
     "data": {
      "text/plain": [
       "{'name': 'Tomakovka',\n",
       " 'id': '24019',\n",
       " 'nametype': 'Valid',\n",
       " 'recclass': 'LL6',\n",
       " 'mass': '600',\n",
       " 'fall': 'Fell',\n",
       " 'year': '1905-01-01T00:00:00.000',\n",
       " 'reclat': '47.850000',\n",
       " 'reclong': '34.766670',\n",
       " 'geolocation': {'type': 'Point', 'coordinates': [34.76667, 47.85]}}"
      ]
     },
     "execution_count": 5,
     "metadata": {},
     "output_type": "execute_result"
    }
   ],
   "source": [
    "d_json[-1]"
   ]
  },
  {
   "cell_type": "markdown",
   "id": "143534c1-af51-4c3f-8066-0ea3547b9abb",
   "metadata": {},
   "source": [
    "**Store data on name, id, mass, year and location of the meteorite strikes in a csv file**"
   ]
  },
  {
   "cell_type": "code",
   "execution_count": 10,
   "id": "029c197a-6a26-416c-8a15-5be8ad1d07d8",
   "metadata": {},
   "outputs": [],
   "source": [
    "def get_row(row:dict)->dict:\n",
    "    r = {}\n",
    "    for item in row:\n",
    "        if item in ['name','id','mass','year','reclat','reclong']:\n",
    "            r[item] = row[item]\n",
    "    return r"
   ]
  },
  {
   "cell_type": "code",
   "execution_count": 11,
   "id": "bfd704a3-d7f3-4d72-b2a8-4e7a37b2e5db",
   "metadata": {},
   "outputs": [],
   "source": [
    "with open(\"meteorite.csv\",\"w\") as f:\n",
    "    writer = csv.DictWriter(f,fieldnames = ['name','id','mass','year','reclat','reclong'])\n",
    "    writer.writeheader()\n",
    "    for row in d_json:\n",
    "        r = get_row(row)\n",
    "        writer.writerow(r)"
   ]
  },
  {
   "cell_type": "code",
   "execution_count": null,
   "id": "ef3e52ca-5c2b-4783-9814-902b4b0b4b17",
   "metadata": {},
   "outputs": [],
   "source": []
  }
 ],
 "metadata": {
  "kernelspec": {
   "display_name": "Python 3 (ipykernel)",
   "language": "python",
   "name": "python3"
  },
  "language_info": {
   "codemirror_mode": {
    "name": "ipython",
    "version": 3
   },
   "file_extension": ".py",
   "mimetype": "text/x-python",
   "name": "python",
   "nbconvert_exporter": "python",
   "pygments_lexer": "ipython3",
   "version": "3.9.13"
  }
 },
 "nbformat": 4,
 "nbformat_minor": 5
}
