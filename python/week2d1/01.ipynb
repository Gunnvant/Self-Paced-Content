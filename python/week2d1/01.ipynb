{
 "cells": [
  {
   "cell_type": "markdown",
   "id": "aa35c6ce-e0be-4ec1-83b1-898bba8eb590",
   "metadata": {},
   "source": [
    "## Working with `csv`, `tsv` and pipe delimited files"
   ]
  },
  {
   "cell_type": "code",
   "execution_count": 1,
   "id": "6e30bc83-3243-4704-89b3-e8f6dd49d595",
   "metadata": {},
   "outputs": [],
   "source": [
    "with open(\"sample1.csv\",\"r\") as f:\n",
    "    data = f.readlines()"
   ]
  },
  {
   "cell_type": "code",
   "execution_count": 4,
   "id": "a33a881d-fae1-45f3-931f-8a06ef6ae2e9",
   "metadata": {},
   "outputs": [
    {
     "data": {
      "text/plain": [
       "['Name', 'Age', 'Gender\\n']"
      ]
     },
     "execution_count": 4,
     "metadata": {},
     "output_type": "execute_result"
    }
   ],
   "source": [
    "data[0].split(\",\")"
   ]
  },
  {
   "cell_type": "code",
   "execution_count": 6,
   "id": "347aac6c-d86b-45eb-9e1d-c37c6bd569e6",
   "metadata": {},
   "outputs": [],
   "source": [
    "with open(\"sample2.txt\",\"r\") as f:\n",
    "    data = f.readlines()"
   ]
  },
  {
   "cell_type": "code",
   "execution_count": 8,
   "id": "9352a2ab-c76e-46ce-890c-9d814dee552d",
   "metadata": {},
   "outputs": [
    {
     "data": {
      "text/plain": [
       "['Name', 'Age', 'Gender\\n']"
      ]
     },
     "execution_count": 8,
     "metadata": {},
     "output_type": "execute_result"
    }
   ],
   "source": [
    "data[0].split(\"|\")"
   ]
  },
  {
   "cell_type": "code",
   "execution_count": 17,
   "id": "16538c03-962e-4411-9fa9-8bf6f1364c76",
   "metadata": {},
   "outputs": [],
   "source": [
    "with open(\"sample3.tsv\",\"r\") as f:\n",
    "    data = f.readlines()"
   ]
  },
  {
   "cell_type": "code",
   "execution_count": 19,
   "id": "4b195786-ea7b-450e-9285-57619ee3fd6f",
   "metadata": {},
   "outputs": [
    {
     "data": {
      "text/plain": [
       "'Name\\tAge\\tGender\\n'"
      ]
     },
     "execution_count": 19,
     "metadata": {},
     "output_type": "execute_result"
    }
   ],
   "source": [
    "data[0]"
   ]
  },
  {
   "cell_type": "code",
   "execution_count": 20,
   "id": "fd60f7b0-9129-4451-b487-b6e81997ca0d",
   "metadata": {},
   "outputs": [
    {
     "data": {
      "text/plain": [
       "['Name', 'Age', 'Gender\\n']"
      ]
     },
     "execution_count": 20,
     "metadata": {},
     "output_type": "execute_result"
    }
   ],
   "source": [
    "data[0].split(\"\\t\")"
   ]
  },
  {
   "cell_type": "code",
   "execution_count": null,
   "id": "ba4014a7-ff5c-4b1a-b98f-15154e73ac65",
   "metadata": {},
   "outputs": [],
   "source": []
  }
 ],
 "metadata": {
  "kernelspec": {
   "display_name": "Python 3 (ipykernel)",
   "language": "python",
   "name": "python3"
  },
  "language_info": {
   "codemirror_mode": {
    "name": "ipython",
    "version": 3
   },
   "file_extension": ".py",
   "mimetype": "text/x-python",
   "name": "python",
   "nbconvert_exporter": "python",
   "pygments_lexer": "ipython3",
   "version": "3.9.13"
  }
 },
 "nbformat": 4,
 "nbformat_minor": 5
}
