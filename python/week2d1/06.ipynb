{
 "cells": [
  {
   "cell_type": "markdown",
   "id": "b9cdd62d-e230-4e34-8ec6-752a6cb258a0",
   "metadata": {},
   "source": [
    "## Working with `json` 2"
   ]
  },
  {
   "cell_type": "code",
   "execution_count": 1,
   "id": "f0e8c319-314c-4ba6-9319-15a4914ff038",
   "metadata": {},
   "outputs": [],
   "source": [
    "import json\n",
    "import csv"
   ]
  },
  {
   "cell_type": "code",
   "execution_count": 2,
   "id": "b84798f5-5c6e-44af-8abd-d16c885e94e8",
   "metadata": {},
   "outputs": [],
   "source": [
    "with open(\"homeland.json\",\"r\") as f:\n",
    "    d_string = f.read()\n",
    "d_json = json.loads(d_string)"
   ]
  },
  {
   "cell_type": "code",
   "execution_count": 3,
   "id": "4a6c63bb-80b3-4e1f-a355-a04ae6dec849",
   "metadata": {},
   "outputs": [
    {
     "data": {
      "text/plain": [
       "dict_keys(['id', 'url', 'name', 'type', 'language', 'genres', 'status', 'runtime', 'averageRuntime', 'premiered', 'ended', 'officialSite', 'schedule', 'rating', 'weight', 'network', 'webChannel', 'dvdCountry', 'externals', 'image', 'summary', 'updated', '_links', '_embedded'])"
      ]
     },
     "execution_count": 3,
     "metadata": {},
     "output_type": "execute_result"
    }
   ],
   "source": [
    "d_json.keys()"
   ]
  },
  {
   "cell_type": "code",
   "execution_count": 4,
   "id": "cf40ec0d-dc20-47c1-b389-7ef67bba33ff",
   "metadata": {},
   "outputs": [
    {
     "data": {
      "text/plain": [
       "'<p>The winner of 6 Emmy Awards including Outstanding Drama Series, <b>Homeland</b> is an edge-of-your-seat sensation. Marine Sergeant Nicholas Brody is both a decorated hero and a serious threat. CIA officer Carrie Mathison is tops in her field despite being bipolar. The delicate dance these two complex characters perform, built on lies, suspicion, and desire, is at the heart of this gripping, emotional thriller in which nothing short of the fate of our nation is at stake.</p>'"
      ]
     },
     "execution_count": 4,
     "metadata": {},
     "output_type": "execute_result"
    }
   ],
   "source": [
    "d_json['summary']"
   ]
  },
  {
   "cell_type": "code",
   "execution_count": 5,
   "id": "06883052-5511-4d91-8ce4-57f608d0ff85",
   "metadata": {},
   "outputs": [
    {
     "data": {
      "text/plain": [
       "{'id': 189,\n",
       " 'url': 'https://www.tvmaze.com/episodes/189/homeland-1x01-pilot',\n",
       " 'name': 'Pilot',\n",
       " 'season': 1,\n",
       " 'number': 1,\n",
       " 'type': 'regular',\n",
       " 'airdate': '2011-10-02',\n",
       " 'airtime': '22:00',\n",
       " 'airstamp': '2011-10-03T02:00:00+00:00',\n",
       " 'runtime': 60,\n",
       " 'rating': {'average': 8.4},\n",
       " 'image': {'medium': 'https://static.tvmaze.com/uploads/images/medium_landscape/5/14578.jpg',\n",
       "  'original': 'https://static.tvmaze.com/uploads/images/original_untouched/5/14578.jpg'},\n",
       " 'summary': '<p>In the opener of this \"Manchurian Candidate\"-like political thriller, a marine rescued after eight years as a POW in Afghanistan returns home a war hero. But a CIA operative suspects he may actually be an enemy agent with a connection to Al Qaeda and part of a plan to commit a terrorist act on U.S. soil.</p>',\n",
       " '_links': {'self': {'href': 'https://api.tvmaze.com/episodes/189'}}}"
      ]
     },
     "execution_count": 5,
     "metadata": {},
     "output_type": "execute_result"
    }
   ],
   "source": [
    "d_json['_embedded']['episodes'][0]"
   ]
  },
  {
   "cell_type": "code",
   "execution_count": 6,
   "id": "0e2d9d10-4ef2-487a-8627-567378c89d02",
   "metadata": {},
   "outputs": [],
   "source": [
    "import csv"
   ]
  },
  {
   "cell_type": "code",
   "execution_count": 7,
   "id": "df0b3ad0-5838-4a2f-8106-a1a0e11cdf96",
   "metadata": {},
   "outputs": [],
   "source": [
    "with open(\"homeland.csv\",\"w\") as f:\n",
    "    writer = csv.DictWriter(f,fieldnames=['id','url',\n",
    "                                          'name','season',\n",
    "                                          'number','type',\n",
    "                                          'airdate','airtime',\n",
    "                                          'airstamp','runtime',\n",
    "                                         'rating','image',\n",
    "                                         'summary','links'])\n",
    "    writer.writeheader()\n",
    "    for row in d_json['_embedded']['episodes']:\n",
    "        r = {}\n",
    "        for item in row:\n",
    "            if item not in ['rating','image','_links','summary']:\n",
    "                r[item] = row[item]\n",
    "        r['summary'] = row['summary'].replace(\"<p>\",\"\").replace(\"</p>\",\"\")\n",
    "        r['rating'] = row['rating']['average']\n",
    "        r['image'] = row['image']['medium']\n",
    "        r['links'] = row['_links']['self']['href']\n",
    "        writer.writerow(r)"
   ]
  },
  {
   "cell_type": "code",
   "execution_count": 8,
   "id": "6729e0cd-ab3d-4690-90ef-3f18bb2a8aef",
   "metadata": {},
   "outputs": [],
   "source": [
    "def create_row(row:dict)->dict:\n",
    "        r = {}\n",
    "        for item in row:\n",
    "            if item not in ['rating','image','_links','summary']:\n",
    "                r[item] = row[item]\n",
    "        r['summary'] = row['summary'].replace(\"<p>\",\"\").replace(\"</p>\",\"\")\n",
    "        r['rating'] = row['rating']['average']\n",
    "        r['image'] = row['image']['medium']\n",
    "        r['links'] = row['_links']['self']['href']\n",
    "        return r"
   ]
  },
  {
   "cell_type": "code",
   "execution_count": 9,
   "id": "4547d9fb-3be5-4235-bf25-110e11a46b2d",
   "metadata": {},
   "outputs": [],
   "source": [
    "with open(\"homeland.csv\",\"w\") as f:\n",
    "    writer = csv.DictWriter(f,fieldnames=['id','url',\n",
    "                                          'name','season',\n",
    "                                          'number','type',\n",
    "                                          'airdate','airtime',\n",
    "                                          'airstamp','runtime',\n",
    "                                         'rating','image',\n",
    "                                         'summary','links'])\n",
    "    writer.writeheader()\n",
    "    for row in d_json['_embedded']['episodes']:\n",
    "        r = create_row(row)\n",
    "        writer.writerow(r)"
   ]
  },
  {
   "cell_type": "code",
   "execution_count": null,
   "id": "db407c3e-0dc2-4901-b518-80d47f3756a2",
   "metadata": {},
   "outputs": [],
   "source": []
  },
  {
   "cell_type": "code",
   "execution_count": null,
   "id": "2813a1d3-267e-4cae-9c86-33bf85bdae9d",
   "metadata": {},
   "outputs": [],
   "source": []
  },
  {
   "cell_type": "code",
   "execution_count": null,
   "id": "2e2011ae-0b02-4311-9d56-8bba48536f46",
   "metadata": {},
   "outputs": [],
   "source": []
  }
 ],
 "metadata": {
  "kernelspec": {
   "display_name": "Python 3 (ipykernel)",
   "language": "python",
   "name": "python3"
  },
  "language_info": {
   "codemirror_mode": {
    "name": "ipython",
    "version": 3
   },
   "file_extension": ".py",
   "mimetype": "text/x-python",
   "name": "python",
   "nbconvert_exporter": "python",
   "pygments_lexer": "ipython3",
   "version": "3.9.13"
  }
 },
 "nbformat": 4,
 "nbformat_minor": 5
}
