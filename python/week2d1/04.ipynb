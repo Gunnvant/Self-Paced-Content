{
 "cells": [
  {
   "cell_type": "markdown",
   "id": "4ef384a4-a45b-4d50-8107-10494bb486d0",
   "metadata": {},
   "source": [
    "## Reading `json` data"
   ]
  },
  {
   "cell_type": "code",
   "execution_count": 1,
   "id": "3dc05801-ed7b-4310-9222-4787449387d7",
   "metadata": {},
   "outputs": [],
   "source": [
    "import json"
   ]
  },
  {
   "cell_type": "code",
   "execution_count": 2,
   "id": "92cf97d3-1135-4471-a120-d468ba7cbcf3",
   "metadata": {},
   "outputs": [],
   "source": [
    "with open(\"sample.json\",\"r\") as f:\n",
    "    string_data = f.read()\n",
    "json_data = json.loads(string_data)"
   ]
  },
  {
   "cell_type": "code",
   "execution_count": 3,
   "id": "1de4e9eb-914f-4466-a2e2-6f7e51348037",
   "metadata": {},
   "outputs": [
    {
     "data": {
      "text/plain": [
       "{'page': 1,\n",
       " 'pages': 1,\n",
       " 'per_page': 5000,\n",
       " 'total': 62,\n",
       " 'sourceid': '2',\n",
       " 'sourcename': 'World Development Indicators',\n",
       " 'lastupdated': '2022-07-20'}"
      ]
     },
     "execution_count": 3,
     "metadata": {},
     "output_type": "execute_result"
    }
   ],
   "source": [
    "json_data[0]"
   ]
  },
  {
   "cell_type": "code",
   "execution_count": 4,
   "id": "238a775b-8b27-487f-bc5b-e3277a24373d",
   "metadata": {},
   "outputs": [
    {
     "data": {
      "text/plain": [
       "[{'indicator': {'id': 'NY.GDP.MKTP.CD', 'value': 'GDP (current US$)'},\n",
       "  'country': {'id': 'IN', 'value': 'India'},\n",
       "  'countryiso3code': 'IND',\n",
       "  'date': '2021',\n",
       "  'value': 3173397590816.91,\n",
       "  'unit': '',\n",
       "  'obs_status': '',\n",
       "  'decimal': 0},\n",
       " {'indicator': {'id': 'NY.GDP.MKTP.CD', 'value': 'GDP (current US$)'},\n",
       "  'country': {'id': 'IN', 'value': 'India'},\n",
       "  'countryiso3code': 'IND',\n",
       "  'date': '2020',\n",
       "  'value': 2667687951796.56,\n",
       "  'unit': '',\n",
       "  'obs_status': '',\n",
       "  'decimal': 0},\n",
       " {'indicator': {'id': 'NY.GDP.MKTP.CD', 'value': 'GDP (current US$)'},\n",
       "  'country': {'id': 'IN', 'value': 'India'},\n",
       "  'countryiso3code': 'IND',\n",
       "  'date': '2019',\n",
       "  'value': 2831552222519.99,\n",
       "  'unit': '',\n",
       "  'obs_status': '',\n",
       "  'decimal': 0},\n",
       " {'indicator': {'id': 'NY.GDP.MKTP.CD', 'value': 'GDP (current US$)'},\n",
       "  'country': {'id': 'IN', 'value': 'India'},\n",
       "  'countryiso3code': 'IND',\n",
       "  'date': '2018',\n",
       "  'value': 2702929718960.46,\n",
       "  'unit': '',\n",
       "  'obs_status': '',\n",
       "  'decimal': 0},\n",
       " {'indicator': {'id': 'NY.GDP.MKTP.CD', 'value': 'GDP (current US$)'},\n",
       "  'country': {'id': 'IN', 'value': 'India'},\n",
       "  'countryiso3code': 'IND',\n",
       "  'date': '2017',\n",
       "  'value': 2651472946374.91,\n",
       "  'unit': '',\n",
       "  'obs_status': '',\n",
       "  'decimal': 0},\n",
       " {'indicator': {'id': 'NY.GDP.MKTP.CD', 'value': 'GDP (current US$)'},\n",
       "  'country': {'id': 'IN', 'value': 'India'},\n",
       "  'countryiso3code': 'IND',\n",
       "  'date': '2016',\n",
       "  'value': 2294797980509.01,\n",
       "  'unit': '',\n",
       "  'obs_status': '',\n",
       "  'decimal': 0}]"
      ]
     },
     "execution_count": 4,
     "metadata": {},
     "output_type": "execute_result"
    }
   ],
   "source": [
    "json_data[1][0:6]"
   ]
  },
  {
   "cell_type": "code",
   "execution_count": 5,
   "id": "6cb4830c-88ed-4670-a604-25940de4d64b",
   "metadata": {},
   "outputs": [
    {
     "name": "stdout",
     "output_type": "stream",
     "text": [
      "Date->2021, Value->3173397590816.91\n",
      "Date->2020, Value->2667687951796.56\n",
      "Date->2019, Value->2831552222519.99\n",
      "Date->2018, Value->2702929718960.46\n",
      "Date->2017, Value->2651472946374.91\n",
      "Date->2016, Value->2294797980509.01\n",
      "Date->2015, Value->2103587813812.75\n",
      "Date->2014, Value->2039127446298.55\n",
      "Date->2013, Value->1856722121394.53\n",
      "Date->2012, Value->1827637859135.7\n",
      "Date->2011, Value->1823049927771.46\n",
      "Date->2010, Value->1675615335600.56\n",
      "Date->2009, Value->1341886602798.69\n",
      "Date->2008, Value->1198895582137.51\n",
      "Date->2007, Value->1216735441524.86\n",
      "Date->2006, Value->940259888792.141\n",
      "Date->2005, Value->820381595512.902\n",
      "Date->2004, Value->709148514804.659\n",
      "Date->2003, Value->607699285433.872\n",
      "Date->2002, Value->514937948870.08\n",
      "Date->2001, Value->485441014538.638\n",
      "Date->2000, Value->468394937262.37\n",
      "Date->1999, Value->458820417337.807\n",
      "Date->1998, Value->421351477504.743\n",
      "Date->1997, Value->415867753863.874\n",
      "Date->1996, Value->392897054348.071\n",
      "Date->1995, Value->360281952716.797\n",
      "Date->1994, Value->327275583539.559\n",
      "Date->1993, Value->279296022987.919\n",
      "Date->1992, Value->288208430383.964\n",
      "Date->1991, Value->270105341879.226\n",
      "Date->1990, Value->320979026420.035\n",
      "Date->1989, Value->296042354984.876\n",
      "Date->1988, Value->296588994812.354\n",
      "Date->1987, Value->279033584092.223\n",
      "Date->1986, Value->248985994040.59\n",
      "Date->1985, Value->232511877841.698\n",
      "Date->1984, Value->212158234167.312\n",
      "Date->1983, Value->218262273406.969\n",
      "Date->1982, Value->200715145363.148\n",
      "Date->1981, Value->193490610029.789\n",
      "Date->1980, Value->186325345086.661\n",
      "Date->1979, Value->152991653793.77\n",
      "Date->1978, Value->137300295313.3\n",
      "Date->1977, Value->121487322475.912\n",
      "Date->1976, Value->102717164466.397\n",
      "Date->1975, Value->98472796456.884\n",
      "Date->1974, Value->99525899116.054\n",
      "Date->1973, Value->85515269585.4\n",
      "Date->1972, Value->71463193831.0092\n",
      "Date->1971, Value->67350988021.3932\n",
      "Date->1970, Value->62422483054.6667\n",
      "Date->1969, Value->58447995017.3333\n",
      "Date->1968, Value->53085455870.6667\n",
      "Date->1967, Value->50134942204\n",
      "Date->1966, Value->45865462034.2857\n",
      "Date->1965, Value->59554854575.8085\n",
      "Date->1964, Value->56480289940.9899\n",
      "Date->1963, Value->48421923459.1235\n",
      "Date->1962, Value->42161481858.0819\n",
      "Date->1961, Value->39232435784.0358\n",
      "Date->1960, Value->37029883876.1839\n"
     ]
    }
   ],
   "source": [
    "for row in json_data[1]:\n",
    "    print(f\"Date->{row['date']}, Value->{row['value']}\")"
   ]
  },
  {
   "cell_type": "markdown",
   "id": "3bf7e4cb-edbe-4ad6-a8c5-c4a23efad169",
   "metadata": {},
   "source": [
    "## Writting json data"
   ]
  },
  {
   "cell_type": "code",
   "execution_count": 6,
   "id": "6a8a0e2c-5e7e-4e05-ba43-3229d298196d",
   "metadata": {},
   "outputs": [],
   "source": [
    "sample_dict = [{\"name\":\"randy\",\"age\":31},\n",
    "              {\"name\":\"sandy\",\"age\":29}]"
   ]
  },
  {
   "cell_type": "code",
   "execution_count": 7,
   "id": "27f074f0-3f01-4f65-93ea-af8a837a05c3",
   "metadata": {},
   "outputs": [],
   "source": [
    "with open(\"samplejson_write.json\",\"w\") as f:\n",
    "    json.dump(sample_dict,f)"
   ]
  },
  {
   "cell_type": "code",
   "execution_count": null,
   "id": "7399638a-007b-4ef1-82fe-fd3a44b9a775",
   "metadata": {},
   "outputs": [],
   "source": []
  }
 ],
 "metadata": {
  "kernelspec": {
   "display_name": "Python 3 (ipykernel)",
   "language": "python",
   "name": "python3"
  },
  "language_info": {
   "codemirror_mode": {
    "name": "ipython",
    "version": 3
   },
   "file_extension": ".py",
   "mimetype": "text/x-python",
   "name": "python",
   "nbconvert_exporter": "python",
   "pygments_lexer": "ipython3",
   "version": "3.9.13"
  }
 },
 "nbformat": 4,
 "nbformat_minor": 5
}
