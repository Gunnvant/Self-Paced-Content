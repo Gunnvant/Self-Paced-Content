{
 "cells": [
  {
   "cell_type": "code",
   "execution_count": 1,
   "id": "2b762002-895b-4de2-9c59-e53410fe30f6",
   "metadata": {},
   "outputs": [],
   "source": [
    "import pandas as pd\n",
    "df = pd.read_csv(\"./data/bank_transactions.csv\")"
   ]
  },
  {
   "cell_type": "code",
   "execution_count": 2,
   "id": "bfa24841-41c3-4657-a3aa-b321dcf6d24d",
   "metadata": {},
   "outputs": [
    {
     "data": {
      "text/html": [
       "<div>\n",
       "<style scoped>\n",
       "    .dataframe tbody tr th:only-of-type {\n",
       "        vertical-align: middle;\n",
       "    }\n",
       "\n",
       "    .dataframe tbody tr th {\n",
       "        vertical-align: top;\n",
       "    }\n",
       "\n",
       "    .dataframe thead th {\n",
       "        text-align: right;\n",
       "    }\n",
       "</style>\n",
       "<table border=\"1\" class=\"dataframe\">\n",
       "  <thead>\n",
       "    <tr style=\"text-align: right;\">\n",
       "      <th></th>\n",
       "      <th>ATM Name</th>\n",
       "      <th>Transaction Date</th>\n",
       "      <th>No Of Withdrawals</th>\n",
       "      <th>No Of XYZ Card Withdrawals</th>\n",
       "      <th>No Of Other Card Withdrawals</th>\n",
       "      <th>Total amount Withdrawn</th>\n",
       "      <th>Amount withdrawn XYZ Card</th>\n",
       "      <th>Amount withdrawn Other Card</th>\n",
       "      <th>Weekday</th>\n",
       "      <th>Festival Religion</th>\n",
       "      <th>Working Day</th>\n",
       "      <th>Holiday Sequence</th>\n",
       "    </tr>\n",
       "  </thead>\n",
       "  <tbody>\n",
       "    <tr>\n",
       "      <th>0</th>\n",
       "      <td>Big Street ATM</td>\n",
       "      <td>1/1/2011</td>\n",
       "      <td>50</td>\n",
       "      <td>20</td>\n",
       "      <td>30</td>\n",
       "      <td>123800</td>\n",
       "      <td>41700</td>\n",
       "      <td>82100</td>\n",
       "      <td>Saturday</td>\n",
       "      <td>H</td>\n",
       "      <td>H</td>\n",
       "      <td>WHH</td>\n",
       "    </tr>\n",
       "    <tr>\n",
       "      <th>1</th>\n",
       "      <td>Mount Road ATM</td>\n",
       "      <td>1/1/2011</td>\n",
       "      <td>253</td>\n",
       "      <td>67</td>\n",
       "      <td>186</td>\n",
       "      <td>767900</td>\n",
       "      <td>270900</td>\n",
       "      <td>497000</td>\n",
       "      <td>Saturday</td>\n",
       "      <td>C</td>\n",
       "      <td>H</td>\n",
       "      <td>WHH</td>\n",
       "    </tr>\n",
       "  </tbody>\n",
       "</table>\n",
       "</div>"
      ],
      "text/plain": [
       "         ATM Name Transaction Date  No Of Withdrawals  \\\n",
       "0  Big Street ATM         1/1/2011                 50   \n",
       "1  Mount Road ATM         1/1/2011                253   \n",
       "\n",
       "   No Of XYZ Card Withdrawals  No Of Other Card Withdrawals  \\\n",
       "0                          20                            30   \n",
       "1                          67                           186   \n",
       "\n",
       "   Total amount Withdrawn  Amount withdrawn XYZ Card  \\\n",
       "0                  123800                      41700   \n",
       "1                  767900                     270900   \n",
       "\n",
       "   Amount withdrawn Other Card   Weekday Festival Religion Working Day  \\\n",
       "0                        82100  Saturday                 H           H   \n",
       "1                       497000  Saturday                 C           H   \n",
       "\n",
       "  Holiday Sequence  \n",
       "0              WHH  \n",
       "1              WHH  "
      ]
     },
     "execution_count": 2,
     "metadata": {},
     "output_type": "execute_result"
    }
   ],
   "source": [
    "df.head(2)"
   ]
  },
  {
   "cell_type": "code",
   "execution_count": 5,
   "id": "fd8a47c5-bc86-446a-bb2e-d761ff8e9ecf",
   "metadata": {},
   "outputs": [
    {
     "data": {
      "text/plain": [
       "array(['Big Street ATM', 'Mount Road ATM', 'Airport ATM', 'KK Nagar ATM',\n",
       "       'Christ College ATM'], dtype=object)"
      ]
     },
     "execution_count": 5,
     "metadata": {},
     "output_type": "execute_result"
    }
   ],
   "source": [
    "df['ATM Name'].unique()"
   ]
  },
  {
   "cell_type": "code",
   "execution_count": 10,
   "id": "06f76984-a06c-4c48-9ad7-cf27cd6dcd9f",
   "metadata": {},
   "outputs": [
    {
     "data": {
      "text/plain": [
       "144"
      ]
     },
     "execution_count": 10,
     "metadata": {},
     "output_type": "execute_result"
    }
   ],
   "source": [
    "round(df[df['ATM Name']=='Mount Road ATM']['No Of Withdrawals'].mean())"
   ]
  },
  {
   "cell_type": "code",
   "execution_count": 8,
   "id": "55c7559c-025e-423e-a944-2e5b7243392f",
   "metadata": {},
   "outputs": [],
   "source": [
    "## What are the chances that there will be more than 148 withdrawls in a day for Mount Road ATM"
   ]
  },
  {
   "cell_type": "code",
   "execution_count": 19,
   "id": "be355cb4-e778-4f47-8663-68b06af1ae53",
   "metadata": {},
   "outputs": [],
   "source": [
    "from scipy.stats import binom, poisson\n",
    "import math\n",
    "import scipy"
   ]
  },
  {
   "cell_type": "code",
   "execution_count": 12,
   "id": "75c7da91-913e-4a0b-882d-496c8aa1cbec",
   "metadata": {},
   "outputs": [
    {
     "data": {
      "text/plain": [
       "0.38"
      ]
     },
     "execution_count": 12,
     "metadata": {},
     "output_type": "execute_result"
    }
   ],
   "source": [
    "round(1-poisson.cdf(147,144),2)"
   ]
  },
  {
   "cell_type": "code",
   "execution_count": 13,
   "id": "bbdfa99c-1373-453f-80a2-761067363f25",
   "metadata": {},
   "outputs": [
    {
     "data": {
      "text/plain": [
       "514833.29"
      ]
     },
     "execution_count": 13,
     "metadata": {},
     "output_type": "execute_result"
    }
   ],
   "source": [
    "df[df['ATM Name']=='Mount Road ATM']['Total amount Withdrawn'].mean().round(2)"
   ]
  },
  {
   "cell_type": "code",
   "execution_count": 34,
   "id": "c7652efd-753f-496a-ab38-e4ee2e09b277",
   "metadata": {},
   "outputs": [],
   "source": [
    "## It is believed that on an average 490000 Rs are withdrawn from the Mount Road ATM daily, is there substantial \n",
    "# statistical evidence to the belief or have average daily withdrawls increased? Use a significance level of 5%."
   ]
  },
  {
   "cell_type": "code",
   "execution_count": 14,
   "id": "0c4e5b98-4a19-4acf-a1f5-a7eb464a1725",
   "metadata": {},
   "outputs": [],
   "source": [
    "def p_value(pop_mean,sample_mean,sample_stdev,sample_size):\n",
    "    SE = sample_stdev/math.sqrt(sample_size)\n",
    "    if pop_mean>sample_mean:\n",
    "        pval = scipy.stats.norm(pop_mean,SE).cdf(sample_mean)\n",
    "    else:\n",
    "        pval = 1-scipy.stats.norm(pop_mean,SE).cdf(sample_mean)\n",
    "    return pval"
   ]
  },
  {
   "cell_type": "code",
   "execution_count": 31,
   "id": "6296842a-a590-457c-a10a-464d74139442",
   "metadata": {},
   "outputs": [],
   "source": [
    "pop_mean = 490000\n",
    "sample_mean = df[df['ATM Name']=='Mount Road ATM']['Total amount Withdrawn'].mean()\n",
    "sample_stdev = df[df['ATM Name']=='Mount Road ATM']['Total amount Withdrawn'].std()\n",
    "sample_size = df[df['ATM Name']=='Mount Road ATM']['Total amount Withdrawn'].shape[0]"
   ]
  },
  {
   "cell_type": "code",
   "execution_count": 32,
   "id": "983fc4ce-b806-4b0a-9dbf-0d62de0a93ef",
   "metadata": {},
   "outputs": [
    {
     "data": {
      "text/plain": [
       "1.9297584258337608e-06"
      ]
     },
     "execution_count": 32,
     "metadata": {},
     "output_type": "execute_result"
    }
   ],
   "source": [
    "p_value(pop_mean,sample_mean,sample_stdev,sample_size) ### Reject H0, withdrawls have increased"
   ]
  },
  {
   "cell_type": "code",
   "execution_count": 33,
   "id": "92fcf9ae-67f4-4511-aaa4-21f84f50874d",
   "metadata": {},
   "outputs": [],
   "source": [
    "### Compare the average daily withdrawls on Mount Road ATM vs Big Street ATM for year 2015. Do you find them to be statistically \n",
    "## different?"
   ]
  },
  {
   "cell_type": "code",
   "execution_count": 48,
   "id": "09aaffa9-5cc4-4bee-bc93-eaa398584a2b",
   "metadata": {},
   "outputs": [],
   "source": [
    "def replace(x):\n",
    "    return x.replace(\"-\",\"/\")\n",
    "df['Transaction Date']=df['Transaction Date'].map(replace)"
   ]
  },
  {
   "cell_type": "code",
   "execution_count": 49,
   "id": "ef29b588-249d-43a9-bb24-4aab29089742",
   "metadata": {},
   "outputs": [],
   "source": [
    "df['Year']=pd.to_datetime(df['Transaction Date'],format=\"%d/%m/%Y\").dt.year"
   ]
  },
  {
   "cell_type": "code",
   "execution_count": 50,
   "id": "d8fbb6df-70f8-448c-9e75-b5f84564c468",
   "metadata": {},
   "outputs": [],
   "source": [
    "mnt_rd = df[df['ATM Name']=='Mount Road ATM'].query(\"Year==2015\")['Total amount Withdrawn'].values\n",
    "big_street = df[df['ATM Name']=='Big Street ATM'].query(\"Year==2015\")['Total amount Withdrawn'].values"
   ]
  },
  {
   "cell_type": "code",
   "execution_count": 51,
   "id": "bc8b22af-62a8-44c1-bec3-dc7703ddb2b1",
   "metadata": {},
   "outputs": [],
   "source": [
    "import scipy.stats as stats"
   ]
  },
  {
   "cell_type": "code",
   "execution_count": 52,
   "id": "6d075d3a-de51-4d4c-8a10-115e5e4d15df",
   "metadata": {},
   "outputs": [
    {
     "data": {
      "text/plain": [
       "Ttest_indResult(statistic=14.612061019409644, pvalue=2.3454211411114258e-42)"
      ]
     },
     "execution_count": 52,
     "metadata": {},
     "output_type": "execute_result"
    }
   ],
   "source": [
    "stats.ttest_ind(mnt_rd,\n",
    "                big_street,equal_var=True) ## pvalue is low so reject"
   ]
  },
  {
   "cell_type": "code",
   "execution_count": 56,
   "id": "f45fcf51-80b1-4ee0-9d5d-c126808fe655",
   "metadata": {},
   "outputs": [
    {
     "data": {
      "text/plain": [
       "684350.0"
      ]
     },
     "execution_count": 56,
     "metadata": {},
     "output_type": "execute_result"
    }
   ],
   "source": [
    "df[df['ATM Name']=='Mount Road ATM']['Total amount Withdrawn'].quantile(0.75)"
   ]
  },
  {
   "cell_type": "code",
   "execution_count": 57,
   "id": "d67425e3-54bf-43e3-9201-d8ad8991d316",
   "metadata": {},
   "outputs": [],
   "source": [
    "### For the Mount Road ATM, in a month what is the probability that there will be 10 days in which the withdrawl amoiunt \n",
    "## will be more than 684350.0?"
   ]
  },
  {
   "cell_type": "code",
   "execution_count": 59,
   "id": "f5534b45-4563-484c-bdde-b6df6baf1e4e",
   "metadata": {},
   "outputs": [],
   "source": [
    "n = df[df['ATM Name']=='Mount Road ATM']['Total amount Withdrawn'].shape[0]"
   ]
  },
  {
   "cell_type": "code",
   "execution_count": 60,
   "id": "f976093d-8dea-4beb-83e3-2d5713bc958b",
   "metadata": {},
   "outputs": [],
   "source": [
    "obs = df[(df['ATM Name']=='Mount Road ATM')&(df['Total amount Withdrawn']>684350)]['Total amount Withdrawn'].shape[0]"
   ]
  },
  {
   "cell_type": "code",
   "execution_count": 61,
   "id": "d3bfb2cf-b5fb-4069-97aa-06c1ee30c6a3",
   "metadata": {},
   "outputs": [
    {
     "data": {
      "text/plain": [
       "0.25"
      ]
     },
     "execution_count": 61,
     "metadata": {},
     "output_type": "execute_result"
    }
   ],
   "source": [
    "p = obs/n"
   ]
  },
  {
   "cell_type": "code",
   "execution_count": 63,
   "id": "0d86d2ff-4634-4f51-b1dc-6873df9329e2",
   "metadata": {},
   "outputs": [
    {
     "data": {
      "text/plain": [
       "0.8942718773073399"
      ]
     },
     "execution_count": 63,
     "metadata": {},
     "output_type": "execute_result"
    }
   ],
   "source": [
    "binom.cdf(10,30,0.25)"
   ]
  },
  {
   "cell_type": "code",
   "execution_count": null,
   "id": "fbc1953e-dda2-41c5-a41a-ef49113057f4",
   "metadata": {},
   "outputs": [],
   "source": []
  }
 ],
 "metadata": {
  "kernelspec": {
   "display_name": "Python 3 (ipykernel)",
   "language": "python",
   "name": "python3"
  },
  "language_info": {
   "codemirror_mode": {
    "name": "ipython",
    "version": 3
   },
   "file_extension": ".py",
   "mimetype": "text/x-python",
   "name": "python",
   "nbconvert_exporter": "python",
   "pygments_lexer": "ipython3",
   "version": "3.9.13"
  }
 },
 "nbformat": 4,
 "nbformat_minor": 5
}
