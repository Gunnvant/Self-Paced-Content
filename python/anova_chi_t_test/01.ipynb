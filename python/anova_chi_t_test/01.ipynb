{
 "cells": [
  {
   "cell_type": "code",
   "execution_count": 1,
   "id": "03d905d2-db05-483a-a161-472e36998feb",
   "metadata": {},
   "outputs": [
    {
     "data": {
      "text/html": [
       "<div>\n",
       "<style scoped>\n",
       "    .dataframe tbody tr th:only-of-type {\n",
       "        vertical-align: middle;\n",
       "    }\n",
       "\n",
       "    .dataframe tbody tr th {\n",
       "        vertical-align: top;\n",
       "    }\n",
       "\n",
       "    .dataframe thead th {\n",
       "        text-align: right;\n",
       "    }\n",
       "</style>\n",
       "<table border=\"1\" class=\"dataframe\">\n",
       "  <thead>\n",
       "    <tr style=\"text-align: right;\">\n",
       "      <th></th>\n",
       "      <th>control</th>\n",
       "      <th>experiment</th>\n",
       "    </tr>\n",
       "  </thead>\n",
       "  <tbody>\n",
       "    <tr>\n",
       "      <th>0</th>\n",
       "      <td>166</td>\n",
       "      <td>83</td>\n",
       "    </tr>\n",
       "    <tr>\n",
       "      <th>1</th>\n",
       "      <td>165</td>\n",
       "      <td>100</td>\n",
       "    </tr>\n",
       "  </tbody>\n",
       "</table>\n",
       "</div>"
      ],
      "text/plain": [
       "   control  experiment\n",
       "0      166          83\n",
       "1      165         100"
      ]
     },
     "execution_count": 1,
     "metadata": {},
     "output_type": "execute_result"
    }
   ],
   "source": [
    "import pandas as pd\n",
    "import scipy.stats as stats\n",
    "df = pd.read_csv('t_test_data.csv')\n",
    "df.head(2)"
   ]
  },
  {
   "cell_type": "markdown",
   "id": "af8e792e-6204-4d1a-96e1-06e99ecbcac6",
   "metadata": {},
   "source": [
    "\n",
    "```\n",
    "The 50 subjects in the control group have an average systolic blood pressure of 121.38 who have been given a placebo drug.\n",
    "```\n",
    "```\n",
    "The 50 subjects in the experimental / treatment group have an average systolic blood pressure of 111.56 after treatment with the drug being tested.\n",
    "```"
   ]
  },
  {
   "cell_type": "code",
   "execution_count": 2,
   "id": "bfce0efd-da3f-40ac-9612-448dbd5a9bec",
   "metadata": {},
   "outputs": [
    {
     "data": {
      "text/plain": [
       "121.38"
      ]
     },
     "execution_count": 2,
     "metadata": {},
     "output_type": "execute_result"
    }
   ],
   "source": [
    "df['control'].mean()"
   ]
  },
  {
   "cell_type": "code",
   "execution_count": 3,
   "id": "86af8921-3e96-4565-83c3-a35e8ffa5f94",
   "metadata": {},
   "outputs": [
    {
     "data": {
      "text/plain": [
       "111.56"
      ]
     },
     "execution_count": 3,
     "metadata": {},
     "output_type": "execute_result"
    }
   ],
   "source": [
    "df['experiment'].mean()"
   ]
  },
  {
   "cell_type": "markdown",
   "id": "8ae57d58-9044-4bba-be09-df288293b916",
   "metadata": {},
   "source": [
    "```\n",
    "H0: Avg Control = Avg Exp\n",
    "Ha: Avg Control != Avg Exp\n",
    "\n",
    "```"
   ]
  },
  {
   "cell_type": "code",
   "execution_count": 4,
   "id": "2282bbcd-fec2-4f2f-b559-c606050ca1a6",
   "metadata": {},
   "outputs": [
    {
     "data": {
      "text/plain": [
       "Ttest_indResult(statistic=1.8915462966190273, pvalue=0.06150424067253038)"
      ]
     },
     "execution_count": 4,
     "metadata": {},
     "output_type": "execute_result"
    }
   ],
   "source": [
    "stats.ttest_ind(a=df['control'], b=df['experiment'], equal_var=True) ## When sample sizes are same we use equal variance option"
   ]
  },
  {
   "cell_type": "markdown",
   "id": "f63ea9c2-9f73-44e7-8d36-f94c4d50003d",
   "metadata": {},
   "source": [
    "```\n",
    "Conclusion\n",
    "Reject H0, there is evidence that the drug lowers systolic blood pressure\n",
    "```"
   ]
  },
  {
   "cell_type": "code",
   "execution_count": null,
   "id": "2d080ed0-0259-484a-b8f7-d6901ab4ce24",
   "metadata": {},
   "outputs": [],
   "source": []
  }
 ],
 "metadata": {
  "kernelspec": {
   "display_name": "Python 3 (ipykernel)",
   "language": "python",
   "name": "python3"
  },
  "language_info": {
   "codemirror_mode": {
    "name": "ipython",
    "version": 3
   },
   "file_extension": ".py",
   "mimetype": "text/x-python",
   "name": "python",
   "nbconvert_exporter": "python",
   "pygments_lexer": "ipython3",
   "version": "3.9.13"
  }
 },
 "nbformat": 4,
 "nbformat_minor": 5
}
