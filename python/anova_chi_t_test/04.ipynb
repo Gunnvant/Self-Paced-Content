{
 "cells": [
  {
   "cell_type": "markdown",
   "id": "3060e035-582d-4c2f-a1a9-04da178cec49",
   "metadata": {},
   "source": [
    "#### ANOVA More than two sample comparisons"
   ]
  },
  {
   "cell_type": "code",
   "execution_count": 1,
   "id": "a0ffba8e-f896-4f59-bdb5-6097738fe5eb",
   "metadata": {},
   "outputs": [],
   "source": [
    "import pandas as pd\n",
    "df = pd.read_csv('anova.csv')"
   ]
  },
  {
   "cell_type": "code",
   "execution_count": 2,
   "id": "85a42c10-335e-497e-9bfc-7ba740ce5cc0",
   "metadata": {},
   "outputs": [
    {
     "data": {
      "text/html": [
       "<div>\n",
       "<style scoped>\n",
       "    .dataframe tbody tr th:only-of-type {\n",
       "        vertical-align: middle;\n",
       "    }\n",
       "\n",
       "    .dataframe tbody tr th {\n",
       "        vertical-align: top;\n",
       "    }\n",
       "\n",
       "    .dataframe thead th {\n",
       "        text-align: right;\n",
       "    }\n",
       "</style>\n",
       "<table border=\"1\" class=\"dataframe\">\n",
       "  <thead>\n",
       "    <tr style=\"text-align: right;\">\n",
       "      <th></th>\n",
       "      <th>SL</th>\n",
       "      <th>CLQ</th>\n",
       "    </tr>\n",
       "  </thead>\n",
       "  <tbody>\n",
       "    <tr>\n",
       "      <th>0</th>\n",
       "      <td>SL1</td>\n",
       "      <td>21.0</td>\n",
       "    </tr>\n",
       "    <tr>\n",
       "      <th>1</th>\n",
       "      <td>SL1</td>\n",
       "      <td>27.7</td>\n",
       "    </tr>\n",
       "  </tbody>\n",
       "</table>\n",
       "</div>"
      ],
      "text/plain": [
       "    SL   CLQ\n",
       "0  SL1  21.0\n",
       "1  SL1  27.7"
      ]
     },
     "execution_count": 2,
     "metadata": {},
     "output_type": "execute_result"
    }
   ],
   "source": [
    "df.head(2)"
   ]
  },
  {
   "cell_type": "code",
   "execution_count": 3,
   "id": "d4abb10d-d52e-44bd-88dd-550714475fc6",
   "metadata": {},
   "outputs": [],
   "source": [
    "from scipy.stats import f_oneway"
   ]
  },
  {
   "cell_type": "markdown",
   "id": "3d7942d4-a060-4e56-8fab-e1863908e114",
   "metadata": {},
   "source": [
    "```\n",
    "H0: Mean 1 = Mean 2 = Mean 3 =...=Mean N\n",
    "\n",
    "Ha: Atleast one pair is different\n",
    "\n",
    "```"
   ]
  },
  {
   "cell_type": "code",
   "execution_count": 4,
   "id": "dbe9e870-faaa-418e-af35-c34933dcae95",
   "metadata": {},
   "outputs": [],
   "source": [
    "groups = []\n",
    "for level in df.SL.unique():\n",
    "    vals = df[df['SL']==level]['CLQ'].values\n",
    "    groups.append(vals)"
   ]
  },
  {
   "cell_type": "code",
   "execution_count": 5,
   "id": "53db4f83-5c41-443d-8906-6854afad86f7",
   "metadata": {},
   "outputs": [
    {
     "data": {
      "text/plain": [
       "F_onewayResult(statistic=46.6347776805843, pvalue=3.263604278259159e-09)"
      ]
     },
     "execution_count": 5,
     "metadata": {},
     "output_type": "execute_result"
    }
   ],
   "source": [
    "f_oneway(groups[0],groups[1],groups[2],groups[3])"
   ]
  },
  {
   "cell_type": "markdown",
   "id": "de572c38-3ef2-407a-8857-dea903f0f775",
   "metadata": {},
   "source": [
    "```Conclusion\n",
    "P-value is very small so we reject the H0\n",
    "```"
   ]
  },
  {
   "cell_type": "code",
   "execution_count": null,
   "id": "7daf3c8a-1639-4e55-9309-5b15da964c27",
   "metadata": {},
   "outputs": [],
   "source": []
  }
 ],
 "metadata": {
  "kernelspec": {
   "display_name": "Python 3 (ipykernel)",
   "language": "python",
   "name": "python3"
  },
  "language_info": {
   "codemirror_mode": {
    "name": "ipython",
    "version": 3
   },
   "file_extension": ".py",
   "mimetype": "text/x-python",
   "name": "python",
   "nbconvert_exporter": "python",
   "pygments_lexer": "ipython3",
   "version": "3.9.13"
  }
 },
 "nbformat": 4,
 "nbformat_minor": 5
}
