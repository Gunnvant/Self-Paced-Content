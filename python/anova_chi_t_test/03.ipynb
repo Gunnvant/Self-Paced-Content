{
 "cells": [
  {
   "cell_type": "code",
   "execution_count": 1,
   "id": "62c64d57-588b-4fb8-8320-3116b9b8631c",
   "metadata": {},
   "outputs": [],
   "source": [
    "import pandas as pd\n",
    "from scipy.stats import ttest_rel"
   ]
  },
  {
   "cell_type": "code",
   "execution_count": 2,
   "id": "800e5282-31d7-4e5a-9774-793fcbec0772",
   "metadata": {},
   "outputs": [],
   "source": [
    "df = pd.read_csv('jump_training.csv')"
   ]
  },
  {
   "cell_type": "code",
   "execution_count": 3,
   "id": "27b3f137-bb9c-4dea-8e5c-370b68374e5c",
   "metadata": {},
   "outputs": [
    {
     "data": {
      "text/html": [
       "<div>\n",
       "<style scoped>\n",
       "    .dataframe tbody tr th:only-of-type {\n",
       "        vertical-align: middle;\n",
       "    }\n",
       "\n",
       "    .dataframe tbody tr th {\n",
       "        vertical-align: top;\n",
       "    }\n",
       "\n",
       "    .dataframe thead th {\n",
       "        text-align: right;\n",
       "    }\n",
       "</style>\n",
       "<table border=\"1\" class=\"dataframe\">\n",
       "  <thead>\n",
       "    <tr style=\"text-align: right;\">\n",
       "      <th></th>\n",
       "      <th>before_training</th>\n",
       "      <th>after_training</th>\n",
       "    </tr>\n",
       "  </thead>\n",
       "  <tbody>\n",
       "    <tr>\n",
       "      <th>0</th>\n",
       "      <td>22</td>\n",
       "      <td>24</td>\n",
       "    </tr>\n",
       "    <tr>\n",
       "      <th>1</th>\n",
       "      <td>20</td>\n",
       "      <td>22</td>\n",
       "    </tr>\n",
       "  </tbody>\n",
       "</table>\n",
       "</div>"
      ],
      "text/plain": [
       "   before_training  after_training\n",
       "0               22              24\n",
       "1               20              22"
      ]
     },
     "execution_count": 3,
     "metadata": {},
     "output_type": "execute_result"
    }
   ],
   "source": [
    "df.head(2)"
   ]
  },
  {
   "cell_type": "markdown",
   "id": "fd8342a3-fde1-40a6-ac17-18c50ed7d32b",
   "metadata": {},
   "source": [
    "## Business Problem\n",
    "\n",
    "Suppose you are the couch of a basketball team and you're preparing your team for a tournament next month. One of the training objective is that you want to maximize the vertical jump of the players, so you measure their maximum vertical jump before and after the training program. How can you ensure that your team did make a progress?\n",
    "\n",
    "The above situation can perfectly be answered by using paired samples t-test. A paired sample t-test is a hypothesis testing conducted to determine whether the mean of the same sample group has a significant difference of not. Paired sample t-test is another form of t-test which aims to test two means from those from the same sample group. The purpose of this test is to determine whether there is a statistically significant difference in the mean between the paired objects."
   ]
  },
  {
   "cell_type": "code",
   "execution_count": 4,
   "id": "d9b562e8-a174-4abe-8af3-33a2ee7fbb77",
   "metadata": {},
   "outputs": [],
   "source": [
    "t_statistic, p_value = ttest_rel(df['before_training'], df['after_training'])"
   ]
  },
  {
   "cell_type": "markdown",
   "id": "6675e2bc-d92b-4648-9718-64e5cef788d8",
   "metadata": {},
   "source": [
    "```\n",
    "H0: There is no difference in the vertical jump before and after training\n",
    "Ha: There is a difference in the vertical jump before and after training\n",
    "```"
   ]
  },
  {
   "cell_type": "code",
   "execution_count": 5,
   "id": "27b2ebb9-f0dc-4e6e-bb2a-451bcfcd3c49",
   "metadata": {},
   "outputs": [
    {
     "data": {
      "text/plain": [
       "0.004445370704412228"
      ]
     },
     "execution_count": 5,
     "metadata": {},
     "output_type": "execute_result"
    }
   ],
   "source": [
    "p_value"
   ]
  },
  {
   "cell_type": "markdown",
   "id": "91bd1753-e0e0-49b1-8efd-a990e1cac73c",
   "metadata": {},
   "source": [
    "```\n",
    "Conclusion\n",
    "\n",
    "We can reject H0, and conclude that there is a difference after training in the vertical jump distance\n",
    "\n",
    "```"
   ]
  },
  {
   "cell_type": "code",
   "execution_count": null,
   "id": "524f8057-0c8e-475c-a588-f3abe5af7751",
   "metadata": {},
   "outputs": [],
   "source": []
  }
 ],
 "metadata": {
  "kernelspec": {
   "display_name": "Python 3 (ipykernel)",
   "language": "python",
   "name": "python3"
  },
  "language_info": {
   "codemirror_mode": {
    "name": "ipython",
    "version": 3
   },
   "file_extension": ".py",
   "mimetype": "text/x-python",
   "name": "python",
   "nbconvert_exporter": "python",
   "pygments_lexer": "ipython3",
   "version": "3.9.13"
  }
 },
 "nbformat": 4,
 "nbformat_minor": 5
}
