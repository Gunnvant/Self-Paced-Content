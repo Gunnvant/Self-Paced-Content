{
 "cells": [
  {
   "cell_type": "code",
   "execution_count": 1,
   "id": "f1cb9a37-0892-44ab-bed3-1d125369ff0e",
   "metadata": {},
   "outputs": [],
   "source": [
    "import pandas as pd\n",
    "from scipy.stats import f_oneway"
   ]
  },
  {
   "cell_type": "code",
   "execution_count": 2,
   "id": "b8c7276a-ea05-4991-b4c9-84932189e0af",
   "metadata": {},
   "outputs": [
    {
     "data": {
      "text/html": [
       "<div>\n",
       "<style scoped>\n",
       "    .dataframe tbody tr th:only-of-type {\n",
       "        vertical-align: middle;\n",
       "    }\n",
       "\n",
       "    .dataframe tbody tr th {\n",
       "        vertical-align: top;\n",
       "    }\n",
       "\n",
       "    .dataframe thead th {\n",
       "        text-align: right;\n",
       "    }\n",
       "</style>\n",
       "<table border=\"1\" class=\"dataframe\">\n",
       "  <thead>\n",
       "    <tr style=\"text-align: right;\">\n",
       "      <th></th>\n",
       "      <th>Brands</th>\n",
       "      <th>Mileage</th>\n",
       "    </tr>\n",
       "  </thead>\n",
       "  <tbody>\n",
       "    <tr>\n",
       "      <th>0</th>\n",
       "      <td>Apollo</td>\n",
       "      <td>32.998</td>\n",
       "    </tr>\n",
       "    <tr>\n",
       "      <th>1</th>\n",
       "      <td>Apollo</td>\n",
       "      <td>36.435</td>\n",
       "    </tr>\n",
       "  </tbody>\n",
       "</table>\n",
       "</div>"
      ],
      "text/plain": [
       "   Brands  Mileage\n",
       "0  Apollo   32.998\n",
       "1  Apollo   36.435"
      ]
     },
     "execution_count": 2,
     "metadata": {},
     "output_type": "execute_result"
    }
   ],
   "source": [
    "df = pd.read_csv(\"car_data.csv\")\n",
    "df.head(2)"
   ]
  },
  {
   "cell_type": "code",
   "execution_count": 3,
   "id": "5c1e1bee-d8e0-4177-83c3-0400ab7f907f",
   "metadata": {},
   "outputs": [],
   "source": [
    "### Mileage and Brand\n",
    "groups = []\n",
    "for brand in df.Brands.unique():\n",
    "    groups.append(df[df.Brands==brand]['Mileage'])"
   ]
  },
  {
   "cell_type": "markdown",
   "id": "e0270df1-8d70-47e9-8dee-aab3c632ee84",
   "metadata": {},
   "source": [
    "```\n",
    "H0: Mileage and Car brand are not related\n",
    "Ha: Mileage and Car brand are related\n",
    "```"
   ]
  },
  {
   "cell_type": "code",
   "execution_count": 4,
   "id": "8a906747-4363-46ba-8430-667c50e4c41b",
   "metadata": {},
   "outputs": [
    {
     "data": {
      "text/plain": [
       "F_onewayResult(statistic=17.941513342446925, pvalue=2.78098919789432e-08)"
      ]
     },
     "execution_count": 4,
     "metadata": {},
     "output_type": "execute_result"
    }
   ],
   "source": [
    "f_oneway(groups[0],groups[1],groups[2],groups[3])"
   ]
  },
  {
   "cell_type": "markdown",
   "id": "23580ea2-69df-4184-8ea8-923e533dd8c1",
   "metadata": {},
   "source": [
    "``` Conclusion\n",
    "Computed p-value is very small so we reject the H0\n",
    "````"
   ]
  },
  {
   "cell_type": "code",
   "execution_count": 5,
   "id": "fc2f0091-f009-4cd8-9a3c-0dfa7ff40c7d",
   "metadata": {},
   "outputs": [],
   "source": [
    "from statsmodels.stats.multicomp import pairwise_tukeyhsd"
   ]
  },
  {
   "cell_type": "code",
   "execution_count": 6,
   "id": "1b9a2c91-efe6-4406-b596-3589e5bef63c",
   "metadata": {},
   "outputs": [],
   "source": [
    "tukey = pairwise_tukeyhsd(endog=df['Mileage'],\n",
    "                          groups=df['Brands'],\n",
    "                          alpha=0.05)"
   ]
  },
  {
   "cell_type": "code",
   "execution_count": 7,
   "id": "a275e8bb-b408-4fd5-913e-880e94c7024a",
   "metadata": {},
   "outputs": [
    {
     "name": "stdout",
     "output_type": "stream",
     "text": [
      "     Multiple Comparison of Means - Tukey HSD, FWER=0.05      \n",
      "==============================================================\n",
      "   group1      group2   meandiff p-adj   lower   upper  reject\n",
      "--------------------------------------------------------------\n",
      "     Apollo Bridgestone   -3.019 0.0021 -5.1288 -0.9092   True\n",
      "     Apollo        CEAT  -0.0379    1.0 -2.1477  2.0719  False\n",
      "     Apollo      Falken   2.8255 0.0043  0.7157  4.9354   True\n",
      "Bridgestone        CEAT   2.9811 0.0024  0.8713  5.0909   True\n",
      "Bridgestone      Falken   5.8445    0.0  3.7347  7.9544   True\n",
      "       CEAT      Falken   2.8635 0.0037  0.7536  4.9733   True\n",
      "--------------------------------------------------------------\n"
     ]
    }
   ],
   "source": [
    "print(tukey)"
   ]
  },
  {
   "cell_type": "markdown",
   "id": "36541408-2bc3-46db-a0f7-5cbb4ee69cf2",
   "metadata": {},
   "source": [
    "```Conclusion\n",
    "There is a difference in mileage between\n",
    "\n",
    "- Apollo and Bridgestone\n",
    "- Apollo and Falken\n",
    "- Bridgestone and CEAT\n",
    "- Bridgestone and Falken\n",
    "- CEAT and Falken\n",
    "\n",
    "```"
   ]
  },
  {
   "cell_type": "code",
   "execution_count": null,
   "id": "39c163b4-627f-42de-a938-249d090a6a43",
   "metadata": {},
   "outputs": [],
   "source": []
  }
 ],
 "metadata": {
  "kernelspec": {
   "display_name": "Python 3 (ipykernel)",
   "language": "python",
   "name": "python3"
  },
  "language_info": {
   "codemirror_mode": {
    "name": "ipython",
    "version": 3
   },
   "file_extension": ".py",
   "mimetype": "text/x-python",
   "name": "python",
   "nbconvert_exporter": "python",
   "pygments_lexer": "ipython3",
   "version": "3.9.13"
  }
 },
 "nbformat": 4,
 "nbformat_minor": 5
}
