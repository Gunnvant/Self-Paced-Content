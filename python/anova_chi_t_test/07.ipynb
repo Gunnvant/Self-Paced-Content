{
 "cells": [
  {
   "cell_type": "code",
   "execution_count": 1,
   "id": "edf1ca35-f282-433e-8a30-e49c20b41c79",
   "metadata": {},
   "outputs": [],
   "source": [
    "from scipy.stats import chi2_contingency"
   ]
  },
  {
   "cell_type": "markdown",
   "id": "741ce864-757b-462b-bb68-836307af57bf",
   "metadata": {},
   "source": [
    "![](chi.png)"
   ]
  },
  {
   "cell_type": "code",
   "execution_count": 2,
   "id": "470a2d72-b7c7-4e2e-9be4-047e5d68de31",
   "metadata": {},
   "outputs": [],
   "source": [
    "d1 = [573,516,422]\n",
    "d2 = [386,475,399]"
   ]
  },
  {
   "cell_type": "code",
   "execution_count": 3,
   "id": "2472733f-bf9c-465d-a544-e810d312a140",
   "metadata": {},
   "outputs": [
    {
     "data": {
      "text/plain": [
       "[[573, 516, 422], [386, 475, 399]]"
      ]
     },
     "execution_count": 3,
     "metadata": {},
     "output_type": "execute_result"
    }
   ],
   "source": [
    "data = [d1,d2]\n",
    "data"
   ]
  },
  {
   "cell_type": "code",
   "execution_count": 5,
   "id": "51a3a723-e4c4-4292-b2ab-0991323e80ba",
   "metadata": {},
   "outputs": [],
   "source": [
    "_, p, _, _ = chi2_contingency(data)"
   ]
  },
  {
   "cell_type": "code",
   "execution_count": 6,
   "id": "3bea5500-e114-43a1-9b3a-e41a9bff00b5",
   "metadata": {},
   "outputs": [
    {
     "data": {
      "text/plain": [
       "0.0003032772908939342"
      ]
     },
     "execution_count": 6,
     "metadata": {},
     "output_type": "execute_result"
    }
   ],
   "source": [
    "p"
   ]
  },
  {
   "cell_type": "markdown",
   "id": "16d41ed2-5c00-4867-b4bf-b95f6411e157",
   "metadata": {},
   "source": [
    "```\n",
    "H0: Gender and Party Affiliation are Independent\n",
    "Ha: Gender and Party Affiliation are Dependent\n",
    "```\n",
    "\n",
    "```Conclusion\n",
    "P value is small so we reject the H0\n",
    "```"
   ]
  },
  {
   "cell_type": "code",
   "execution_count": null,
   "id": "2dce178f-e000-4d23-81b6-796d5002e08e",
   "metadata": {},
   "outputs": [],
   "source": []
  }
 ],
 "metadata": {
  "kernelspec": {
   "display_name": "Python 3 (ipykernel)",
   "language": "python",
   "name": "python3"
  },
  "language_info": {
   "codemirror_mode": {
    "name": "ipython",
    "version": 3
   },
   "file_extension": ".py",
   "mimetype": "text/x-python",
   "name": "python",
   "nbconvert_exporter": "python",
   "pygments_lexer": "ipython3",
   "version": "3.9.13"
  }
 },
 "nbformat": 4,
 "nbformat_minor": 5
}
