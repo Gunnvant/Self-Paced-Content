{
 "cells": [
  {
   "cell_type": "code",
   "execution_count": 1,
   "id": "cc4c8e78-05bb-4b6c-92d4-34ec2125358c",
   "metadata": {
    "tags": []
   },
   "outputs": [],
   "source": [
    "import psycopg2\n",
    "import pandas as pd"
   ]
  },
  {
   "cell_type": "markdown",
   "id": "d84ad3c9-fd05-46c7-af4a-a1da4767b4a2",
   "metadata": {},
   "source": [
    "**Task 1**\n",
    "\n",
    "- **Business Hypothesis**:\n",
    "    - H0: There is no association between the onboarding flow and completion\n",
    "    - Ha: There is a relationship between onboarding flow and completion"
   ]
  },
  {
   "cell_type": "code",
   "execution_count": 2,
   "id": "285cc34a-7536-491d-8941-87b2ccd3d517",
   "metadata": {
    "tags": []
   },
   "outputs": [],
   "source": [
    "conn = psycopg2.connect(user='postgres',dbname='dwh',host='localhost',password='gun125')"
   ]
  },
  {
   "cell_type": "code",
   "execution_count": 3,
   "id": "edb89482-b06e-43e1-9126-2c3fd474117a",
   "metadata": {
    "tags": []
   },
   "outputs": [
    {
     "name": "stderr",
     "output_type": "stream",
     "text": [
      "/var/folders/7h/01sjg2sx6tl3y72r2klm24c80000gn/T/ipykernel_92953/2361552590.py:11: UserWarning: pandas only supports SQLAlchemy connectable (engine/connection) or database string URI or sqlite3 DBAPI2 connection. Other DBAPI2 objects are not tested. Please consider using SQLAlchemy.\n",
      "  df1 = pd.read_sql(sql,conn)\n"
     ]
    }
   ],
   "source": [
    "sql = '''\n",
    "SELECT a.variant\n",
    ",count(case when b.user_id is not null then a.user_id end) as completed\n",
    ",count(case when b.user_id is null then a.user_id end) as not_completed\n",
    "FROM exp_assignment a\n",
    "LEFT JOIN game_actions b on a.user_id = b.user_id\n",
    " and b.action = 'onboarding complete'\n",
    "WHERE a.exp_name = 'Onboarding'\n",
    "GROUP BY 1\n",
    "'''\n",
    "df1 = pd.read_sql(sql,conn)"
   ]
  },
  {
   "cell_type": "code",
   "execution_count": 4,
   "id": "2843a04d-786c-4bcb-b1f3-6ff1dc0eb792",
   "metadata": {
    "tags": []
   },
   "outputs": [
    {
     "data": {
      "text/html": [
       "<div>\n",
       "<style scoped>\n",
       "    .dataframe tbody tr th:only-of-type {\n",
       "        vertical-align: middle;\n",
       "    }\n",
       "\n",
       "    .dataframe tbody tr th {\n",
       "        vertical-align: top;\n",
       "    }\n",
       "\n",
       "    .dataframe thead th {\n",
       "        text-align: right;\n",
       "    }\n",
       "</style>\n",
       "<table border=\"1\" class=\"dataframe\">\n",
       "  <thead>\n",
       "    <tr style=\"text-align: right;\">\n",
       "      <th></th>\n",
       "      <th>variant</th>\n",
       "      <th>completed</th>\n",
       "      <th>not_completed</th>\n",
       "    </tr>\n",
       "  </thead>\n",
       "  <tbody>\n",
       "    <tr>\n",
       "      <th>0</th>\n",
       "      <td>variant 1</td>\n",
       "      <td>38280</td>\n",
       "      <td>11995</td>\n",
       "    </tr>\n",
       "    <tr>\n",
       "      <th>1</th>\n",
       "      <td>control</td>\n",
       "      <td>36268</td>\n",
       "      <td>13629</td>\n",
       "    </tr>\n",
       "  </tbody>\n",
       "</table>\n",
       "</div>"
      ],
      "text/plain": [
       "     variant  completed  not_completed\n",
       "0  variant 1      38280          11995\n",
       "1    control      36268          13629"
      ]
     },
     "execution_count": 4,
     "metadata": {},
     "output_type": "execute_result"
    }
   ],
   "source": [
    "df1"
   ]
  },
  {
   "cell_type": "code",
   "execution_count": 5,
   "id": "1715ca21-96b5-4d58-951a-d1eee4faa849",
   "metadata": {
    "tags": []
   },
   "outputs": [],
   "source": [
    "from scipy.stats import chi2_contingency"
   ]
  },
  {
   "cell_type": "code",
   "execution_count": 7,
   "id": "0ed45eb2-a97a-465b-8e12-731839bb047b",
   "metadata": {},
   "outputs": [],
   "source": [
    "stat, p, dof, expected=chi2_contingency(df1[['completed','not_completed']])"
   ]
  },
  {
   "cell_type": "code",
   "execution_count": 9,
   "id": "20b4546c-da94-4858-80d1-b4ea107b92f1",
   "metadata": {
    "tags": []
   },
   "outputs": [
    {
     "name": "stdout",
     "output_type": "stream",
     "text": [
      "5.397977210897444e-36\n"
     ]
    }
   ],
   "source": [
    "print(p)"
   ]
  },
  {
   "cell_type": "markdown",
   "id": "327a4765-42bf-4e5f-ac14-2d439cd9542f",
   "metadata": {},
   "source": [
    "Since the p-value is very low, we can reject H0. So we can conclude that there is a relationship between onboarding flow and onboarding completion."
   ]
  },
  {
   "cell_type": "markdown",
   "id": "c228bfc3-d5c7-4a71-b862-d5ab021f605b",
   "metadata": {},
   "source": [
    "**Task2**\n",
    "\n",
    "- Business Hypothesis:\n",
    "    - H0: There is no difference in the average amount spent by people who have experienced new onboarding flow vs old onboarding flow\n",
    "    - Ha: There is a difference in the average amount spent by people who have experienced new onboarding flow vs old onboarding flow"
   ]
  },
  {
   "cell_type": "code",
   "execution_count": 10,
   "id": "88327645-d717-4c3c-b4f5-e2a285622c44",
   "metadata": {
    "tags": []
   },
   "outputs": [
    {
     "name": "stderr",
     "output_type": "stream",
     "text": [
      "/var/folders/7h/01sjg2sx6tl3y72r2klm24c80000gn/T/ipykernel_92953/1406369281.py:10: UserWarning: pandas only supports SQLAlchemy connectable (engine/connection) or database string URI or sqlite3 DBAPI2 connection. Other DBAPI2 objects are not tested. Please consider using SQLAlchemy.\n",
      "  df2 = pd.read_sql(sql,conn)\n"
     ]
    }
   ],
   "source": [
    "sql = '''\n",
    "SELECT a.variant\n",
    "    ,a.user_id\n",
    "    ,sum(coalesce(b.amount,0)) as amount\n",
    "    FROM exp_assignment a\n",
    "    LEFT JOIN game_purchases b on a.user_id = b.user_id\n",
    "    WHERE a.exp_name = 'Onboarding'\n",
    "    GROUP BY 1,2\n",
    "'''\n",
    "df2 = pd.read_sql(sql,conn)"
   ]
  },
  {
   "cell_type": "code",
   "execution_count": 12,
   "id": "bc36cad7-f35b-4f25-b8c6-525c5c6bc188",
   "metadata": {
    "tags": []
   },
   "outputs": [
    {
     "data": {
      "text/html": [
       "<div>\n",
       "<style scoped>\n",
       "    .dataframe tbody tr th:only-of-type {\n",
       "        vertical-align: middle;\n",
       "    }\n",
       "\n",
       "    .dataframe tbody tr th {\n",
       "        vertical-align: top;\n",
       "    }\n",
       "\n",
       "    .dataframe thead th {\n",
       "        text-align: right;\n",
       "    }\n",
       "</style>\n",
       "<table border=\"1\" class=\"dataframe\">\n",
       "  <thead>\n",
       "    <tr style=\"text-align: right;\">\n",
       "      <th></th>\n",
       "      <th>variant</th>\n",
       "      <th>user_id</th>\n",
       "      <th>amount</th>\n",
       "    </tr>\n",
       "  </thead>\n",
       "  <tbody>\n",
       "    <tr>\n",
       "      <th>0</th>\n",
       "      <td>control</td>\n",
       "      <td>6216</td>\n",
       "      <td>0.0</td>\n",
       "    </tr>\n",
       "    <tr>\n",
       "      <th>1</th>\n",
       "      <td>control</td>\n",
       "      <td>56447</td>\n",
       "      <td>0.0</td>\n",
       "    </tr>\n",
       "    <tr>\n",
       "      <th>2</th>\n",
       "      <td>variant 1</td>\n",
       "      <td>46230</td>\n",
       "      <td>0.0</td>\n",
       "    </tr>\n",
       "    <tr>\n",
       "      <th>3</th>\n",
       "      <td>control</td>\n",
       "      <td>62649</td>\n",
       "      <td>0.0</td>\n",
       "    </tr>\n",
       "    <tr>\n",
       "      <th>4</th>\n",
       "      <td>control</td>\n",
       "      <td>53258</td>\n",
       "      <td>0.0</td>\n",
       "    </tr>\n",
       "  </tbody>\n",
       "</table>\n",
       "</div>"
      ],
      "text/plain": [
       "     variant  user_id  amount\n",
       "0    control     6216     0.0\n",
       "1    control    56447     0.0\n",
       "2  variant 1    46230     0.0\n",
       "3    control    62649     0.0\n",
       "4    control    53258     0.0"
      ]
     },
     "execution_count": 12,
     "metadata": {},
     "output_type": "execute_result"
    }
   ],
   "source": [
    "df2.head()"
   ]
  },
  {
   "cell_type": "code",
   "execution_count": 13,
   "id": "2b87a89d-9ed4-477a-b71d-b525cf9a3afc",
   "metadata": {
    "tags": []
   },
   "outputs": [],
   "source": [
    "old_flow = df2[df2['variant']=='control']['amount']\n",
    "new_flow = df2[df2['variant']=='variant 1']['amount']"
   ]
  },
  {
   "cell_type": "code",
   "execution_count": 14,
   "id": "5c28ed00-323a-4f25-bce6-95e0a14ecb0d",
   "metadata": {
    "tags": []
   },
   "outputs": [],
   "source": [
    "import scipy.stats as stats"
   ]
  },
  {
   "cell_type": "code",
   "execution_count": 15,
   "id": "b2042499-b800-4861-bfa2-22c5d725e9c1",
   "metadata": {
    "tags": []
   },
   "outputs": [
    {
     "data": {
      "text/plain": [
       "(49897,)"
      ]
     },
     "execution_count": 15,
     "metadata": {},
     "output_type": "execute_result"
    }
   ],
   "source": [
    "old_flow.shape"
   ]
  },
  {
   "cell_type": "code",
   "execution_count": 16,
   "id": "6d8ca77d-70d8-47de-a5dd-0c81cf07fe98",
   "metadata": {
    "tags": []
   },
   "outputs": [
    {
     "data": {
      "text/plain": [
       "(50275,)"
      ]
     },
     "execution_count": 16,
     "metadata": {},
     "output_type": "execute_result"
    }
   ],
   "source": [
    "new_flow.shape"
   ]
  },
  {
   "cell_type": "code",
   "execution_count": 17,
   "id": "cf8e5e33-ea52-4d38-90ed-81f836c6c76e",
   "metadata": {
    "tags": []
   },
   "outputs": [
    {
     "data": {
      "text/plain": [
       "Ttest_indResult(statistic=0.776545812794534, pvalue=0.43742861555660695)"
      ]
     },
     "execution_count": 17,
     "metadata": {},
     "output_type": "execute_result"
    }
   ],
   "source": [
    "stats.ttest_ind(old_flow,new_flow,equal_var=False)"
   ]
  },
  {
   "cell_type": "markdown",
   "id": "06ab87fd-b25c-4915-b8dd-af6c704b22a2",
   "metadata": {},
   "source": [
    "Since the p-value is not low, we can't reject H0. This implies that, there is no reason to believe that the avg amount spent by users coming from new vs old onboarding flow is any different"
   ]
  },
  {
   "cell_type": "markdown",
   "id": "879b1016-411b-4db1-9b66-9f3d1bb8c75c",
   "metadata": {},
   "source": [
    "**Task3**\n",
    "\n",
    "- Business Hypothesis\n",
    "    - H0: There is no difference in the average amount spent by people who have completed new onboarding flow vs old onboarding flow.\n",
    "    - H1: There is a difference in the average amount spent by people who have completed new onboarding flow vs old onboarding flow."
   ]
  },
  {
   "cell_type": "code",
   "execution_count": 18,
   "id": "4dd4052f-b07f-4207-bfc9-fdf267178989",
   "metadata": {
    "tags": []
   },
   "outputs": [
    {
     "name": "stderr",
     "output_type": "stream",
     "text": [
      "/var/folders/7h/01sjg2sx6tl3y72r2klm24c80000gn/T/ipykernel_92953/1571760798.py:12: UserWarning: pandas only supports SQLAlchemy connectable (engine/connection) or database string URI or sqlite3 DBAPI2 connection. Other DBAPI2 objects are not tested. Please consider using SQLAlchemy.\n",
      "  df3 = pd.read_sql(sql,conn)\n"
     ]
    }
   ],
   "source": [
    "sql = '''\n",
    "SELECT a.variant\n",
    "    ,a.user_id\n",
    "    ,sum(coalesce(b.amount,0)) as amount\n",
    "    FROM exp_assignment a\n",
    "    LEFT JOIN game_purchases b on a.user_id = b.user_id\n",
    "    JOIN game_actions c on a.user_id = c.user_id\n",
    "     and c.action = 'onboarding complete'\n",
    "    WHERE a.exp_name = 'Onboarding'\n",
    "    GROUP BY 1,2\n",
    "'''\n",
    "df3 = pd.read_sql(sql,conn)"
   ]
  },
  {
   "cell_type": "code",
   "execution_count": 19,
   "id": "15b4644a-baac-4351-841d-941d55cac0cf",
   "metadata": {
    "tags": []
   },
   "outputs": [
    {
     "data": {
      "text/html": [
       "<div>\n",
       "<style scoped>\n",
       "    .dataframe tbody tr th:only-of-type {\n",
       "        vertical-align: middle;\n",
       "    }\n",
       "\n",
       "    .dataframe tbody tr th {\n",
       "        vertical-align: top;\n",
       "    }\n",
       "\n",
       "    .dataframe thead th {\n",
       "        text-align: right;\n",
       "    }\n",
       "</style>\n",
       "<table border=\"1\" class=\"dataframe\">\n",
       "  <thead>\n",
       "    <tr style=\"text-align: right;\">\n",
       "      <th></th>\n",
       "      <th>variant</th>\n",
       "      <th>user_id</th>\n",
       "      <th>amount</th>\n",
       "    </tr>\n",
       "  </thead>\n",
       "  <tbody>\n",
       "    <tr>\n",
       "      <th>0</th>\n",
       "      <td>control</td>\n",
       "      <td>6216</td>\n",
       "      <td>0.0</td>\n",
       "    </tr>\n",
       "    <tr>\n",
       "      <th>1</th>\n",
       "      <td>control</td>\n",
       "      <td>56447</td>\n",
       "      <td>0.0</td>\n",
       "    </tr>\n",
       "    <tr>\n",
       "      <th>2</th>\n",
       "      <td>variant 1</td>\n",
       "      <td>46230</td>\n",
       "      <td>0.0</td>\n",
       "    </tr>\n",
       "    <tr>\n",
       "      <th>3</th>\n",
       "      <td>control</td>\n",
       "      <td>62649</td>\n",
       "      <td>0.0</td>\n",
       "    </tr>\n",
       "    <tr>\n",
       "      <th>4</th>\n",
       "      <td>control</td>\n",
       "      <td>53258</td>\n",
       "      <td>0.0</td>\n",
       "    </tr>\n",
       "  </tbody>\n",
       "</table>\n",
       "</div>"
      ],
      "text/plain": [
       "     variant  user_id  amount\n",
       "0    control     6216     0.0\n",
       "1    control    56447     0.0\n",
       "2  variant 1    46230     0.0\n",
       "3    control    62649     0.0\n",
       "4    control    53258     0.0"
      ]
     },
     "execution_count": 19,
     "metadata": {},
     "output_type": "execute_result"
    }
   ],
   "source": [
    "df3.head()"
   ]
  },
  {
   "cell_type": "code",
   "execution_count": 20,
   "id": "f462036d-cf8d-4de5-ae5d-866e535c1b44",
   "metadata": {
    "tags": []
   },
   "outputs": [],
   "source": [
    "old_flow = df3[df3['variant']=='control']['amount']\n",
    "new_flow = df3[df3['variant']=='variant 1']['amount']"
   ]
  },
  {
   "cell_type": "code",
   "execution_count": 21,
   "id": "caa32506-686c-47f3-8ba4-396232d072d3",
   "metadata": {
    "tags": []
   },
   "outputs": [
    {
     "data": {
      "text/plain": [
       "(36268,)"
      ]
     },
     "execution_count": 21,
     "metadata": {},
     "output_type": "execute_result"
    }
   ],
   "source": [
    "old_flow.shape"
   ]
  },
  {
   "cell_type": "code",
   "execution_count": 22,
   "id": "3c4e1252-b1bb-467c-bd4b-66df25d6425e",
   "metadata": {
    "tags": []
   },
   "outputs": [
    {
     "data": {
      "text/plain": [
       "(38280,)"
      ]
     },
     "execution_count": 22,
     "metadata": {},
     "output_type": "execute_result"
    }
   ],
   "source": [
    "new_flow.shape"
   ]
  },
  {
   "cell_type": "code",
   "execution_count": 23,
   "id": "0e6180d0-611f-43bf-ae48-e2a2fea9c78b",
   "metadata": {
    "tags": []
   },
   "outputs": [
    {
     "data": {
      "text/plain": [
       "Ttest_indResult(statistic=2.2296491118689623, pvalue=0.025773724266754013)"
      ]
     },
     "execution_count": 23,
     "metadata": {},
     "output_type": "execute_result"
    }
   ],
   "source": [
    "stats.ttest_ind(old_flow,new_flow,equal_var=False)"
   ]
  },
  {
   "cell_type": "markdown",
   "id": "172615da-a863-4933-9c46-9160ff306ee0",
   "metadata": {},
   "source": [
    "Since the p-value is low,we can reject H0. This means that the average amount spent by people who have completed new vs old flow is different."
   ]
  },
  {
   "cell_type": "markdown",
   "id": "851b46cc-2234-4ea5-9f80-373fdda1155c",
   "metadata": {},
   "source": [
    "**Task4**\n",
    "\n",
    "- Business Hypothesis\n",
    "    - H0: There is no difference in the email opt-in rate pre vs post legislation\n",
    "    - H1: There is a difference in the email opt-in rate pre vs post legislation"
   ]
  },
  {
   "cell_type": "code",
   "execution_count": 36,
   "id": "08380673-5a04-4559-b9cb-2fbf615e8b24",
   "metadata": {
    "tags": []
   },
   "outputs": [
    {
     "name": "stderr",
     "output_type": "stream",
     "text": [
      "/var/folders/7h/01sjg2sx6tl3y72r2klm24c80000gn/T/ipykernel_92953/611703061.py:23: UserWarning: pandas only supports SQLAlchemy connectable (engine/connection) or database string URI or sqlite3 DBAPI2 connection. Other DBAPI2 objects are not tested. Please consider using SQLAlchemy.\n",
      "  df4 = pd.read_sql(sql,conn)\n"
     ]
    }
   ],
   "source": [
    "sql = '''\n",
    " with t2 as (\n",
    "\twith t1 as (\n",
    "\t\tselect\n",
    "\t\tcreated,\n",
    "\t\tcase when a.created between '2020-01-13' and '2020-01-26' then 'pre'\n",
    "\t\t     when a.created between '2020-01-27' and '2020-02-09' then 'post'\n",
    "\t\t     end as variant\n",
    "\t\t, b.user_id as opted_in,\n",
    "\t\ta.user_id  as cohorted\n",
    "\t\tFROM game_users a\n",
    "\t\tLEFT JOIN game_actions b on a.user_id = b.user_id \n",
    "\t\t and b.action = 'email_optin'\n",
    "\t\tWHERE a.created between '2020-01-13' and '2020-02-09')\n",
    "\t\tselect created,variant,count(distinct opted_in) as opted_in,\n",
    "\t\tcount(distinct cohorted) as cohorted\n",
    "\t\tfrom t1\n",
    "\t\tgroup by 1,2)\n",
    "select created,variant,opted_in::float/cohorted::float as perc_opted\n",
    "from t2\n",
    "\n",
    "'''\n",
    "df4 = pd.read_sql(sql,conn)"
   ]
  },
  {
   "cell_type": "code",
   "execution_count": 38,
   "id": "61c4e7e2-fba9-4530-bd2f-dca6af3bad4a",
   "metadata": {
    "tags": []
   },
   "outputs": [
    {
     "data": {
      "text/html": [
       "<div>\n",
       "<style scoped>\n",
       "    .dataframe tbody tr th:only-of-type {\n",
       "        vertical-align: middle;\n",
       "    }\n",
       "\n",
       "    .dataframe tbody tr th {\n",
       "        vertical-align: top;\n",
       "    }\n",
       "\n",
       "    .dataframe thead th {\n",
       "        text-align: right;\n",
       "    }\n",
       "</style>\n",
       "<table border=\"1\" class=\"dataframe\">\n",
       "  <thead>\n",
       "    <tr style=\"text-align: right;\">\n",
       "      <th></th>\n",
       "      <th>created</th>\n",
       "      <th>variant</th>\n",
       "      <th>perc_opted</th>\n",
       "    </tr>\n",
       "  </thead>\n",
       "  <tbody>\n",
       "    <tr>\n",
       "      <th>0</th>\n",
       "      <td>2020-01-13</td>\n",
       "      <td>pre</td>\n",
       "      <td>0.603009</td>\n",
       "    </tr>\n",
       "    <tr>\n",
       "      <th>1</th>\n",
       "      <td>2020-01-14</td>\n",
       "      <td>pre</td>\n",
       "      <td>0.594896</td>\n",
       "    </tr>\n",
       "    <tr>\n",
       "      <th>2</th>\n",
       "      <td>2020-01-15</td>\n",
       "      <td>pre</td>\n",
       "      <td>0.616311</td>\n",
       "    </tr>\n",
       "    <tr>\n",
       "      <th>3</th>\n",
       "      <td>2020-01-16</td>\n",
       "      <td>pre</td>\n",
       "      <td>0.580982</td>\n",
       "    </tr>\n",
       "    <tr>\n",
       "      <th>4</th>\n",
       "      <td>2020-01-17</td>\n",
       "      <td>pre</td>\n",
       "      <td>0.600287</td>\n",
       "    </tr>\n",
       "  </tbody>\n",
       "</table>\n",
       "</div>"
      ],
      "text/plain": [
       "      created variant  perc_opted\n",
       "0  2020-01-13     pre    0.603009\n",
       "1  2020-01-14     pre    0.594896\n",
       "2  2020-01-15     pre    0.616311\n",
       "3  2020-01-16     pre    0.580982\n",
       "4  2020-01-17     pre    0.600287"
      ]
     },
     "execution_count": 38,
     "metadata": {},
     "output_type": "execute_result"
    }
   ],
   "source": [
    "df4.head()"
   ]
  },
  {
   "cell_type": "code",
   "execution_count": 39,
   "id": "17a7e189-acdb-42dc-b0e8-7903db5e1915",
   "metadata": {
    "tags": []
   },
   "outputs": [],
   "source": [
    "pre = df4[df4['variant']=='pre']['perc_opted']\n",
    "post = df4[df4['variant']=='post']['perc_opted']"
   ]
  },
  {
   "cell_type": "code",
   "execution_count": 40,
   "id": "ebe35ac9-292b-454e-99d6-e42baf23fcf7",
   "metadata": {
    "tags": []
   },
   "outputs": [
    {
     "data": {
      "text/plain": [
       "(14,)"
      ]
     },
     "execution_count": 40,
     "metadata": {},
     "output_type": "execute_result"
    }
   ],
   "source": [
    "pre.shape"
   ]
  },
  {
   "cell_type": "code",
   "execution_count": 41,
   "id": "ae482394-046c-4c0a-8a23-fbca9415152b",
   "metadata": {
    "tags": []
   },
   "outputs": [
    {
     "data": {
      "text/plain": [
       "(14,)"
      ]
     },
     "execution_count": 41,
     "metadata": {},
     "output_type": "execute_result"
    }
   ],
   "source": [
    "post.shape"
   ]
  },
  {
   "cell_type": "code",
   "execution_count": 43,
   "id": "b4af4b3d-a611-40f7-9f29-0c7acba7eb52",
   "metadata": {
    "tags": []
   },
   "outputs": [
    {
     "data": {
      "text/plain": [
       "0.5860421451914261"
      ]
     },
     "execution_count": 43,
     "metadata": {},
     "output_type": "execute_result"
    }
   ],
   "source": [
    "pre.mean()"
   ]
  },
  {
   "cell_type": "code",
   "execution_count": 44,
   "id": "534a7c94-f045-42de-93f8-cbef0868b903",
   "metadata": {
    "tags": []
   },
   "outputs": [
    {
     "data": {
      "text/plain": [
       "0.40678111885456747"
      ]
     },
     "execution_count": 44,
     "metadata": {},
     "output_type": "execute_result"
    }
   ],
   "source": [
    "post.mean()"
   ]
  },
  {
   "cell_type": "code",
   "execution_count": 42,
   "id": "56c68670-7767-48a4-8fea-7946eb3051e2",
   "metadata": {
    "tags": []
   },
   "outputs": [
    {
     "data": {
      "text/plain": [
       "Ttest_indResult(statistic=28.54822227709363, pvalue=3.70597995898679e-21)"
      ]
     },
     "execution_count": 42,
     "metadata": {},
     "output_type": "execute_result"
    }
   ],
   "source": [
    "stats.ttest_ind(pre,post,equal_var=True)"
   ]
  },
  {
   "cell_type": "markdown",
   "id": "44565a21-3fe3-4dfd-ab3a-14e59498d761",
   "metadata": {},
   "source": [
    "The computed p-value is low so we reject H0. We can conclude that there is a change in the pre and post rates. There is an evidence to suggest rates have come down due to the impact of legislation"
   ]
  },
  {
   "cell_type": "code",
   "execution_count": null,
   "id": "2b75cfbe-cb93-45a3-8a71-8270a9d23e9f",
   "metadata": {},
   "outputs": [],
   "source": []
  }
 ],
 "metadata": {
  "kernelspec": {
   "display_name": "Python 3 (ipykernel)",
   "language": "python",
   "name": "python3"
  },
  "language_info": {
   "codemirror_mode": {
    "name": "ipython",
    "version": 3
   },
   "file_extension": ".py",
   "mimetype": "text/x-python",
   "name": "python",
   "nbconvert_exporter": "python",
   "pygments_lexer": "ipython3",
   "version": "3.9.16"
  }
 },
 "nbformat": 4,
 "nbformat_minor": 5
}
