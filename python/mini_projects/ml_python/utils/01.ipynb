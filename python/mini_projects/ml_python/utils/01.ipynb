{
 "cells": [
  {
   "cell_type": "code",
   "execution_count": 1,
   "id": "8c7e3d75-b3e2-4fcd-9a90-827880a8b46e",
   "metadata": {},
   "outputs": [],
   "source": [
    "import pandas as pd"
   ]
  },
  {
   "cell_type": "code",
   "execution_count": 2,
   "id": "7a821ff8-caf1-40a2-b519-845795399436",
   "metadata": {},
   "outputs": [],
   "source": [
    "df = pd.read_csv(\"../raw_data/traffic-collision-data-from-2010-to-present.csv\")"
   ]
  },
  {
   "cell_type": "code",
   "execution_count": 3,
   "id": "65c8bc51-2443-4905-9972-c12c4ab22db7",
   "metadata": {},
   "outputs": [],
   "source": [
    "### Combine files with different formats/\n",
    "### Do a time series analysis (Is there seasonality in certain months, years,trend)\n",
    "### Summarize the distance in each area id yoy\n",
    "### Package this project as a cli program\n",
    "### Write unit tests"
   ]
  },
  {
   "cell_type": "code",
   "execution_count": 4,
   "id": "f0e8fcfa-bc72-4567-a25f-a6de2ef815ae",
   "metadata": {},
   "outputs": [],
   "source": [
    "add2id = {}\n",
    "for idx,val in enumerate(df['Address'].dropna().unique()):\n",
    "    add2id[val]=idx+1"
   ]
  },
  {
   "cell_type": "code",
   "execution_count": 5,
   "id": "92d784fe-858c-43d0-9324-e36dbefaf6fa",
   "metadata": {},
   "outputs": [],
   "source": [
    "loc2id = {}\n",
    "for idx,val in enumerate(df['Location'].dropna().unique()):\n",
    "    loc2id[val]=idx+1"
   ]
  },
  {
   "cell_type": "code",
   "execution_count": 6,
   "id": "4322714b-47e2-4b6f-98e1-94a55c01a969",
   "metadata": {},
   "outputs": [],
   "source": [
    "df['Location_Id']=df['Location'].map(loc2id)\n",
    "df['Address_Id']=df['Address'].map(add2id)"
   ]
  },
  {
   "cell_type": "code",
   "execution_count": 7,
   "id": "cbd5431b-0cc2-4f49-b031-30d1c18a8369",
   "metadata": {},
   "outputs": [],
   "source": [
    "incidents_cols = ['DR Number', 'Date Reported', 'Date Occurred', 'Time Occurred',\n",
    "       'Area ID','Crime Code','Location_Id','Address_Id']\n",
    "incidents = df[incidents_cols]"
   ]
  },
  {
   "cell_type": "code",
   "execution_count": 8,
   "id": "b69de7e4-de12-46bc-889b-9d79397661ed",
   "metadata": {},
   "outputs": [],
   "source": [
    "incidents.drop_duplicates().to_csv('../data/incidents.csv',index=False)"
   ]
  },
  {
   "cell_type": "code",
   "execution_count": 18,
   "id": "70205460-3195-4f3e-9818-6f26d5301a1b",
   "metadata": {},
   "outputs": [],
   "source": [
    "df[['Area ID','Area Name']].drop_duplicates().to_csv(\"../data/area.csv\",index=False)"
   ]
  },
  {
   "cell_type": "code",
   "execution_count": 10,
   "id": "1d164cd6-f8cb-42a3-9d53-d34ef67309e9",
   "metadata": {},
   "outputs": [],
   "source": [
    "df[['DR Number','Victim Age', 'Victim Sex','Victim Descent']].drop_duplicates().to_csv(\"../data/victims.csv\",index=False)"
   ]
  },
  {
   "cell_type": "code",
   "execution_count": 14,
   "id": "1176a086-d3ec-442b-93d8-3cb19fd9cc3d",
   "metadata": {},
   "outputs": [],
   "source": [
    "import re\n",
    "import json\n",
    "def get_lat_long(x):\n",
    "    pattern = re.compile(r\"\\d+\\.\\d+\")\n",
    "    lat,long = re.findall(pattern,x)\n",
    "    return lat,long"
   ]
  },
  {
   "cell_type": "code",
   "execution_count": 15,
   "id": "21afdeeb-ece7-469c-b8ee-e32e7d297394",
   "metadata": {},
   "outputs": [],
   "source": [
    "docs = []\n",
    "for loc,l_id in zip(df['Location'].values,df['Location_Id'].values):\n",
    "    lat,long = get_lat_long(loc)\n",
    "    Id = int(l_id)\n",
    "    doc = {'lat':lat,'long':long,'id':Id}\n",
    "    docs.append(doc)\n",
    "    "
   ]
  },
  {
   "cell_type": "code",
   "execution_count": 17,
   "id": "39d83355-993c-488f-af53-75bd3603e6b8",
   "metadata": {},
   "outputs": [],
   "source": [
    "with open(\"../data/latlong.json\",\"w\") as f:\n",
    "    json.dump(docs,f)"
   ]
  },
  {
   "cell_type": "code",
   "execution_count": null,
   "id": "d5b3cf21-ced7-4318-abe7-676ce0d9abc0",
   "metadata": {},
   "outputs": [],
   "source": []
  }
 ],
 "metadata": {
  "kernelspec": {
   "display_name": "Python 3 (ipykernel)",
   "language": "python",
   "name": "python3"
  },
  "language_info": {
   "codemirror_mode": {
    "name": "ipython",
    "version": 3
   },
   "file_extension": ".py",
   "mimetype": "text/x-python",
   "name": "python",
   "nbconvert_exporter": "python",
   "pygments_lexer": "ipython3",
   "version": "3.8.16"
  }
 },
 "nbformat": 4,
 "nbformat_minor": 5
}
