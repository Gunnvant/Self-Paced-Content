{
 "cells": [
  {
   "cell_type": "code",
   "execution_count": 1,
   "id": "ced8af4b-7fcf-4d3a-94aa-bbff011226b4",
   "metadata": {},
   "outputs": [],
   "source": [
    "import psycopg2\n",
    "import os"
   ]
  },
  {
   "cell_type": "code",
   "execution_count": 11,
   "id": "8729f4b2-a650-49de-8a08-3d667e8f9f61",
   "metadata": {},
   "outputs": [],
   "source": [
    "data_dir_path = \"../data\"\n",
    "\n",
    "file_table_mapping = (\n",
    "    ('region.csv','region'),\n",
    "    ('sales_rep.csv','sales_rep'),\n",
    "    ('accounts.csv','accounts'),\n",
    "    ('web_events.csv','web_events'),\n",
    "    ('orders.csv','orders')\n",
    ")"
   ]
  },
  {
   "cell_type": "code",
   "execution_count": 3,
   "id": "e4f85335-3912-4cb6-aae9-16fa0b89d48b",
   "metadata": {},
   "outputs": [],
   "source": [
    "dbname_default=\"postgres\"\n",
    "dbname_created=\"dwh\"\n",
    "user=\"username\"\n",
    "password=\"your pw\"\n",
    "host=\"localhost\"\n",
    "port=\"5432\""
   ]
  },
  {
   "cell_type": "code",
   "execution_count": 4,
   "id": "f428b8f4-8cc0-486f-91b0-07b3fcf19a4a",
   "metadata": {},
   "outputs": [],
   "source": [
    "def connect_db(dbname,user,password,host,port):\n",
    "    conn = psycopg2.connect(dbname=dbname,\n",
    "                            user=user,\n",
    "                            password=password,\n",
    "                            host=host,\n",
    "                            port=port)\n",
    "    return conn"
   ]
  },
  {
   "cell_type": "code",
   "execution_count": 8,
   "id": "002fccab-6119-495f-a711-587dbca9a180",
   "metadata": {},
   "outputs": [],
   "source": [
    "create_tables = [\n",
    "'''create table REGION(\n",
    "ID INT,\n",
    "NAME VARCHAR,\n",
    "primary key (ID)\n",
    ");''',\n",
    "'''\n",
    "create table SALES_REP(\n",
    "ID INT,\n",
    "NAME VARCHAR,\n",
    "REGION_ID INT,\n",
    "primary key (ID),\n",
    "constraint SALESREP_FK \n",
    "\tforeign key(REGION_ID)\n",
    "\t\treferences region(ID)\n",
    ");\n",
    "''',\n",
    "'''\n",
    "create table ACCOUNTS (\n",
    "ID INT,\n",
    "NAME VARCHAR,\n",
    "WEBSITE VARCHAR,\n",
    "LAT FLOAT,\n",
    "LONG FLOAT,\n",
    "PRIMARY_POC VARCHAR,\n",
    "SALES_REP_ID INT,\n",
    "primary key (ID),\n",
    "constraint ACCOUNTS_FK\n",
    "\tforeign key(SALES_REP_ID)\n",
    "\t\treferences SALES_REP(ID)\n",
    ");\n",
    "''',\n",
    "'''\n",
    "create table WEB_EVENTS (\n",
    "ID INT,\n",
    "ACCOUNT_ID INT,\n",
    "OCCURED_AT TIMESTAMP,\n",
    "CHANNEL VARCHAR,\n",
    "primary key (ID),\n",
    "constraint webevents_fk\n",
    "\tforeign key(ACCOUNT_ID)\n",
    "\t\treferences ACCOUNTS(ID)\n",
    ");\n",
    "''',\n",
    "'''\n",
    "create table ORDERS (\n",
    "ID INT,\n",
    "ACCOUNT_ID INT,\n",
    "OCCURED_AT TIMESTAMP,\n",
    "STANDARD_QTY INT,\n",
    "GLOSS_QTY INT,\n",
    "POSTER_QTY INT,\n",
    "TOTAL INT,\n",
    "STANDARD_AMT_USD FLOAT,\n",
    "GLOSS_AMT_USD FLOAT,\n",
    "POSTER_AMT_USD FLOAT,\n",
    "TOTAL_AMT_USD FLOAT,\n",
    "primary key (ID),\n",
    "constraint ORDERS_FK\n",
    "\tforeign key(ACCOUNT_ID)\n",
    "\t\treferences ACCOUNTS(ID)\n",
    ");\n",
    "'''\n",
    "]\n",
    "\n",
    "create_db = '''\n",
    "create database dwh;\n",
    "'''"
   ]
  },
  {
   "cell_type": "code",
   "execution_count": 6,
   "id": "cb9bde47-c476-4a38-87ed-f5753f0655df",
   "metadata": {},
   "outputs": [],
   "source": [
    "### Connecting to db and database\n",
    "conn_default = connect_db(dbname=dbname_default,\n",
    "                            user=user,\n",
    "                            password=password,\n",
    "                            port=port,\n",
    "                            host=host)\n",
    "conn_default.set_session(autocommit=True)\n",
    "curr = conn_default.cursor()\n",
    "curr.execute(create_db)\n",
    "curr.close()\n",
    "conn_default.close()"
   ]
  },
  {
   "cell_type": "code",
   "execution_count": 14,
   "id": "e1da0c62-c067-4ef1-b17d-a81a81e15fb5",
   "metadata": {},
   "outputs": [],
   "source": [
    "### Connecting to dwh and creating tables\n",
    "conn = connect_db(dbname=dbname_created,\n",
    "                            user=user,\n",
    "                            password=password,\n",
    "                            port=port,\n",
    "                            host=host)\n",
    "conn.set_session(autocommit=True)\n",
    "curr = conn.cursor()\n",
    "for table_query in create_tables:\n",
    "    curr.execute(table_query)\n",
    "    "
   ]
  },
  {
   "cell_type": "code",
   "execution_count": 15,
   "id": "c443c51b-3dd3-4c1c-a024-fb1c13205989",
   "metadata": {},
   "outputs": [],
   "source": [
    "### Loading data\n",
    "for file_name,table_name in file_table_mapping:\n",
    "        path = os.path.join(data_dir_path,file_name)\n",
    "        with open(path,'r') as f:\n",
    "            curr.copy_expert(f\"COPY {table_name} FROM STDIN WITH HEADER CSV\",f)"
   ]
  },
  {
   "cell_type": "code",
   "execution_count": 16,
   "id": "2f68eee3-b15a-4dcd-a27a-be4be999428c",
   "metadata": {},
   "outputs": [],
   "source": [
    "curr.close()\n",
    "conn.close()"
   ]
  },
  {
   "cell_type": "code",
   "execution_count": null,
   "id": "466e39e8-130b-4bd6-a361-95325077fd48",
   "metadata": {},
   "outputs": [],
   "source": []
  }
 ],
 "metadata": {
  "kernelspec": {
   "display_name": "Python 3 (ipykernel)",
   "language": "python",
   "name": "python3"
  },
  "language_info": {
   "codemirror_mode": {
    "name": "ipython",
    "version": 3
   },
   "file_extension": ".py",
   "mimetype": "text/x-python",
   "name": "python",
   "nbconvert_exporter": "python",
   "pygments_lexer": "ipython3",
   "version": "3.8.16"
  }
 },
 "nbformat": 4,
 "nbformat_minor": 5
}
