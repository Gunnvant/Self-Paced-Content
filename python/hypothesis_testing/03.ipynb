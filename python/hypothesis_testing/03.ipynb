{
 "cells": [
  {
   "cell_type": "code",
   "execution_count": 1,
   "id": "aea2e808-6f02-40fd-813e-74836a01a0d0",
   "metadata": {},
   "outputs": [],
   "source": [
    "import pandas as pd\n",
    "df = pd.read_csv('Leads.csv')"
   ]
  },
  {
   "cell_type": "code",
   "execution_count": 2,
   "id": "6d668c3a-f780-457f-8bf5-c8099804c90f",
   "metadata": {},
   "outputs": [
    {
     "data": {
      "text/html": [
       "<div>\n",
       "<style scoped>\n",
       "    .dataframe tbody tr th:only-of-type {\n",
       "        vertical-align: middle;\n",
       "    }\n",
       "\n",
       "    .dataframe tbody tr th {\n",
       "        vertical-align: top;\n",
       "    }\n",
       "\n",
       "    .dataframe thead th {\n",
       "        text-align: right;\n",
       "    }\n",
       "</style>\n",
       "<table border=\"1\" class=\"dataframe\">\n",
       "  <thead>\n",
       "    <tr style=\"text-align: right;\">\n",
       "      <th></th>\n",
       "      <th>Prospect ID</th>\n",
       "      <th>Lead Number</th>\n",
       "      <th>Lead Origin</th>\n",
       "      <th>Lead Source</th>\n",
       "      <th>Do Not Email</th>\n",
       "      <th>Do Not Call</th>\n",
       "      <th>Converted</th>\n",
       "      <th>TotalVisits</th>\n",
       "      <th>Total Time Spent on Website</th>\n",
       "      <th>Page Views Per Visit</th>\n",
       "      <th>...</th>\n",
       "      <th>Get updates on DM Content</th>\n",
       "      <th>Lead Profile</th>\n",
       "      <th>City</th>\n",
       "      <th>Asymmetrique Activity Index</th>\n",
       "      <th>Asymmetrique Profile Index</th>\n",
       "      <th>Asymmetrique Activity Score</th>\n",
       "      <th>Asymmetrique Profile Score</th>\n",
       "      <th>I agree to pay the amount through cheque</th>\n",
       "      <th>A free copy of Mastering The Interview</th>\n",
       "      <th>Last Notable Activity</th>\n",
       "    </tr>\n",
       "  </thead>\n",
       "  <tbody>\n",
       "    <tr>\n",
       "      <th>0</th>\n",
       "      <td>7927b2df-8bba-4d29-b9a2-b6e0beafe620</td>\n",
       "      <td>660737</td>\n",
       "      <td>API</td>\n",
       "      <td>Olark Chat</td>\n",
       "      <td>No</td>\n",
       "      <td>No</td>\n",
       "      <td>0</td>\n",
       "      <td>0.0</td>\n",
       "      <td>0</td>\n",
       "      <td>0.0</td>\n",
       "      <td>...</td>\n",
       "      <td>No</td>\n",
       "      <td>Select</td>\n",
       "      <td>Select</td>\n",
       "      <td>02.Medium</td>\n",
       "      <td>02.Medium</td>\n",
       "      <td>15.0</td>\n",
       "      <td>15.0</td>\n",
       "      <td>No</td>\n",
       "      <td>No</td>\n",
       "      <td>Modified</td>\n",
       "    </tr>\n",
       "    <tr>\n",
       "      <th>1</th>\n",
       "      <td>2a272436-5132-4136-86fa-dcc88c88f482</td>\n",
       "      <td>660728</td>\n",
       "      <td>API</td>\n",
       "      <td>Organic Search</td>\n",
       "      <td>No</td>\n",
       "      <td>No</td>\n",
       "      <td>0</td>\n",
       "      <td>5.0</td>\n",
       "      <td>674</td>\n",
       "      <td>2.5</td>\n",
       "      <td>...</td>\n",
       "      <td>No</td>\n",
       "      <td>Select</td>\n",
       "      <td>Select</td>\n",
       "      <td>02.Medium</td>\n",
       "      <td>02.Medium</td>\n",
       "      <td>15.0</td>\n",
       "      <td>15.0</td>\n",
       "      <td>No</td>\n",
       "      <td>No</td>\n",
       "      <td>Email Opened</td>\n",
       "    </tr>\n",
       "  </tbody>\n",
       "</table>\n",
       "<p>2 rows × 37 columns</p>\n",
       "</div>"
      ],
      "text/plain": [
       "                            Prospect ID  Lead Number Lead Origin  \\\n",
       "0  7927b2df-8bba-4d29-b9a2-b6e0beafe620       660737         API   \n",
       "1  2a272436-5132-4136-86fa-dcc88c88f482       660728         API   \n",
       "\n",
       "      Lead Source Do Not Email Do Not Call  Converted  TotalVisits  \\\n",
       "0      Olark Chat           No          No          0          0.0   \n",
       "1  Organic Search           No          No          0          5.0   \n",
       "\n",
       "   Total Time Spent on Website  Page Views Per Visit  ...  \\\n",
       "0                            0                   0.0  ...   \n",
       "1                          674                   2.5  ...   \n",
       "\n",
       "  Get updates on DM Content Lead Profile    City Asymmetrique Activity Index  \\\n",
       "0                        No       Select  Select                   02.Medium   \n",
       "1                        No       Select  Select                   02.Medium   \n",
       "\n",
       "  Asymmetrique Profile Index Asymmetrique Activity Score  \\\n",
       "0                  02.Medium                        15.0   \n",
       "1                  02.Medium                        15.0   \n",
       "\n",
       "  Asymmetrique Profile Score I agree to pay the amount through cheque  \\\n",
       "0                       15.0                                       No   \n",
       "1                       15.0                                       No   \n",
       "\n",
       "  A free copy of Mastering The Interview Last Notable Activity  \n",
       "0                                     No              Modified  \n",
       "1                                     No          Email Opened  \n",
       "\n",
       "[2 rows x 37 columns]"
      ]
     },
     "execution_count": 2,
     "metadata": {},
     "output_type": "execute_result"
    }
   ],
   "source": [
    "df.head(2)"
   ]
  },
  {
   "cell_type": "code",
   "execution_count": 8,
   "id": "a2f65bf7-9a48-47e1-909e-dd2d007e4354",
   "metadata": {},
   "outputs": [
    {
     "data": {
      "text/plain": [
       "436"
      ]
     },
     "execution_count": 8,
     "metadata": {},
     "output_type": "execute_result"
    }
   ],
   "source": [
    "df[df['Lead Source']=='Organic Search']['Converted'].sum()"
   ]
  },
  {
   "cell_type": "code",
   "execution_count": 9,
   "id": "248b855c-490f-4b73-a069-2c08bb4ee0ef",
   "metadata": {},
   "outputs": [
    {
     "data": {
      "text/plain": [
       "6832.0"
      ]
     },
     "execution_count": 9,
     "metadata": {},
     "output_type": "execute_result"
    }
   ],
   "source": [
    "df[df['Lead Source']=='Organic Search']['TotalVisits'].sum()"
   ]
  },
  {
   "cell_type": "code",
   "execution_count": 12,
   "id": "f9f694d1-d370-4cf4-b669-ba45cd068aef",
   "metadata": {},
   "outputs": [
    {
     "data": {
      "text/plain": [
       "0.06"
      ]
     },
     "execution_count": 12,
     "metadata": {},
     "output_type": "execute_result"
    }
   ],
   "source": [
    "round(436/6832,2)"
   ]
  },
  {
   "cell_type": "markdown",
   "id": "dffd6669-f212-45de-9685-4a545c762fb3",
   "metadata": {},
   "source": [
    "```\n",
    "Historically there is a 6% chance that a lead coming from Organic Search will convert. In a recent random sample of 120 leads from organic search, the performance marketing team discovered that 12 leads were converted. \n",
    "\n",
    "Do we have a reason to believe that the conversion rate has increased?\n",
    "\n",
    "```\n",
    "\n",
    "```\n",
    "H0: Conversion Rate = 6%\n",
    "Ha: Conversion Rate > 6%\n",
    "\n",
    "pval = Pr(X>=12) = 1 - Pr(X<=11)\n",
    "```"
   ]
  },
  {
   "cell_type": "code",
   "execution_count": 6,
   "id": "d67eb764-99a5-4fc2-bbf5-5088a358635e",
   "metadata": {},
   "outputs": [],
   "source": [
    "from scipy.stats import binom"
   ]
  },
  {
   "cell_type": "code",
   "execution_count": 13,
   "id": "6c3fb26a-b539-4b49-9731-839cf56f57eb",
   "metadata": {},
   "outputs": [
    {
     "data": {
      "text/plain": [
       "0.05703482551930916"
      ]
     },
     "execution_count": 13,
     "metadata": {},
     "output_type": "execute_result"
    }
   ],
   "source": [
    "1 - binom.cdf(11,120,0.06)"
   ]
  },
  {
   "cell_type": "markdown",
   "id": "7e88c836-f6ed-4524-85fe-e49f6fee2c91",
   "metadata": {},
   "source": [
    "#### Find out the historical conversion rate for Lead Origin as API"
   ]
  },
  {
   "cell_type": "code",
   "execution_count": 15,
   "id": "6db949bb-858c-473c-8c83-29dcd27800b2",
   "metadata": {},
   "outputs": [],
   "source": [
    "df['Lead API'] = df['Lead Origin'].map(lambda x: 1 if x=='API' else 0)"
   ]
  },
  {
   "cell_type": "code",
   "execution_count": 16,
   "id": "5df6774b-1988-48de-96b4-3895cecd8c98",
   "metadata": {},
   "outputs": [
    {
     "data": {
      "text/plain": [
       "1115"
      ]
     },
     "execution_count": 16,
     "metadata": {},
     "output_type": "execute_result"
    }
   ],
   "source": [
    "df[df['Lead API']==1]['Converted'].sum()"
   ]
  },
  {
   "cell_type": "code",
   "execution_count": 18,
   "id": "c7e6807f-b033-4a98-aa14-a6fa25a52d6d",
   "metadata": {},
   "outputs": [
    {
     "data": {
      "text/plain": [
       "7912.0"
      ]
     },
     "execution_count": 18,
     "metadata": {},
     "output_type": "execute_result"
    }
   ],
   "source": [
    "df[df['Lead API']==1]['TotalVisits'].sum()"
   ]
  },
  {
   "cell_type": "code",
   "execution_count": 19,
   "id": "a898178a-4b05-4d0e-8879-f9d3075f2fd7",
   "metadata": {},
   "outputs": [
    {
     "data": {
      "text/plain": [
       "0.14"
      ]
     },
     "execution_count": 19,
     "metadata": {},
     "output_type": "execute_result"
    }
   ],
   "source": [
    "round(1115/7912,2)"
   ]
  },
  {
   "cell_type": "markdown",
   "id": "d875327c-f329-43e2-82c8-9f793056a17e",
   "metadata": {},
   "source": [
    "```\n",
    "Now imagine that out of 200 visits from API source there are 36 conversions, will that mean that the conversion rate from API has increased?\n",
    "```\n",
    "\n",
    "```\n",
    "H0: Rate = 14%\n",
    "Ha: Rate > 14%\n",
    "\n",
    "pval = Pr(X>=36) = 1-Pr(X<=35)\n"
   ]
  },
  {
   "cell_type": "code",
   "execution_count": 20,
   "id": "50979e28-2900-4bca-a101-dab86206670f",
   "metadata": {},
   "outputs": [
    {
     "data": {
      "text/plain": [
       "0.06676103717002435"
      ]
     },
     "execution_count": 20,
     "metadata": {},
     "output_type": "execute_result"
    }
   ],
   "source": [
    "1 - binom.cdf(35,200,0.14)"
   ]
  },
  {
   "cell_type": "markdown",
   "id": "cf919ee9-d2f2-4f0d-a350-f797edd4dc32",
   "metadata": {},
   "source": [
    "### Number of pages visited"
   ]
  },
  {
   "cell_type": "code",
   "execution_count": 24,
   "id": "9a2b70d5-bf51-440c-990c-b959aebfea23",
   "metadata": {},
   "outputs": [
    {
     "data": {
      "text/plain": [
       "2.36"
      ]
     },
     "execution_count": 24,
     "metadata": {},
     "output_type": "execute_result"
    }
   ],
   "source": [
    "df['Page Views Per Visit'].mean().round(2)"
   ]
  },
  {
   "cell_type": "markdown",
   "id": "ddd61821-54b5-40a4-a06d-4ce1d8dd3298",
   "metadata": {},
   "source": [
    "```\n",
    "Sample of 40 leads, the avg views per visit = 2.42, std deviation = 0.4\n",
    "\n",
    "Has the number of pages visited increased?\n",
    "\n",
    "```\n",
    "\n",
    "```\n",
    "H0: There no change in number of pages visited\n",
    "Ha: There is a change in the number of pages visited\n",
    "\n",
    "H0: Mean=2.36\n",
    "Ha: Mean>2.36\n",
    "\n",
    "SE/Standard Deviation of Sampling distribution = sample_std/sqrt(sample_size)\n",
    "Pvalue: Pr(X>=2.42) = 1-Pr(X<=2.42)\n",
    "```"
   ]
  },
  {
   "cell_type": "code",
   "execution_count": 1,
   "id": "7b8ba687-25b4-4cdc-879e-5cfb8bc4a2ae",
   "metadata": {},
   "outputs": [],
   "source": [
    "import math\n",
    "from scipy.stats import norm"
   ]
  },
  {
   "cell_type": "code",
   "execution_count": 2,
   "id": "1c97a2fa-8d24-4dea-b550-c64388e68da7",
   "metadata": {},
   "outputs": [],
   "source": [
    "pop_mean = 2.36\n",
    "sample_mean = 2.42\n",
    "sample_std = 0.4\n",
    "sample_size = 40\n",
    "SE = sample_std/math.sqrt(sample_size)"
   ]
  },
  {
   "cell_type": "code",
   "execution_count": 3,
   "id": "09e92f6c-c21d-4b5c-8b2c-bb5256d074c9",
   "metadata": {},
   "outputs": [
    {
     "data": {
      "text/plain": [
       "0.1713908555739555"
      ]
     },
     "execution_count": 3,
     "metadata": {},
     "output_type": "execute_result"
    }
   ],
   "source": [
    "1-norm(pop_mean,SE).cdf(sample_mean)"
   ]
  },
  {
   "cell_type": "markdown",
   "id": "66fb2e4b-5f75-4486-b235-a97275729789",
   "metadata": {},
   "source": [
    "```\n",
    "Conclusion\n",
    "P-value is high so I can't reject the H0\n",
    "```"
   ]
  },
  {
   "cell_type": "code",
   "execution_count": null,
   "id": "ed982111-2c26-4362-be75-d56de572d832",
   "metadata": {},
   "outputs": [],
   "source": []
  }
 ],
 "metadata": {
  "kernelspec": {
   "display_name": "Python 3 (ipykernel)",
   "language": "python",
   "name": "python3"
  },
  "language_info": {
   "codemirror_mode": {
    "name": "ipython",
    "version": 3
   },
   "file_extension": ".py",
   "mimetype": "text/x-python",
   "name": "python",
   "nbconvert_exporter": "python",
   "pygments_lexer": "ipython3",
   "version": "3.9.13"
  }
 },
 "nbformat": 4,
 "nbformat_minor": 5
}
