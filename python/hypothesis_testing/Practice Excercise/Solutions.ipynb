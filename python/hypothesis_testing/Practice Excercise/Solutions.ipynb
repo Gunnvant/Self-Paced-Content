{
 "cells": [
  {
   "cell_type": "code",
   "execution_count": 1,
   "id": "30017fe4-d200-4363-800a-a5817664ac73",
   "metadata": {},
   "outputs": [],
   "source": [
    "import pandas as pd\n",
    "df = pd.read_csv('./Data/salaries.csv')"
   ]
  },
  {
   "cell_type": "code",
   "execution_count": 2,
   "id": "185503b2-4909-4966-9fa9-4adc8ca567ad",
   "metadata": {},
   "outputs": [
    {
     "data": {
      "text/html": [
       "<div>\n",
       "<style scoped>\n",
       "    .dataframe tbody tr th:only-of-type {\n",
       "        vertical-align: middle;\n",
       "    }\n",
       "\n",
       "    .dataframe tbody tr th {\n",
       "        vertical-align: top;\n",
       "    }\n",
       "\n",
       "    .dataframe thead th {\n",
       "        text-align: right;\n",
       "    }\n",
       "</style>\n",
       "<table border=\"1\" class=\"dataframe\">\n",
       "  <thead>\n",
       "    <tr style=\"text-align: right;\">\n",
       "      <th></th>\n",
       "      <th>index</th>\n",
       "      <th>Name</th>\n",
       "      <th>Base Pay</th>\n",
       "      <th>University or Office</th>\n",
       "      <th>Position</th>\n",
       "    </tr>\n",
       "  </thead>\n",
       "  <tbody>\n",
       "    <tr>\n",
       "      <th>0</th>\n",
       "      <td>0</td>\n",
       "      <td>Driscoll, Michael Allan</td>\n",
       "      <td>$275000</td>\n",
       "      <td>Indiana</td>\n",
       "      <td>University President</td>\n",
       "    </tr>\n",
       "    <tr>\n",
       "      <th>1</th>\n",
       "      <td>1</td>\n",
       "      <td>Weisenstein, Greg R</td>\n",
       "      <td>$241935</td>\n",
       "      <td>West Chester</td>\n",
       "      <td>University President</td>\n",
       "    </tr>\n",
       "  </tbody>\n",
       "</table>\n",
       "</div>"
      ],
      "text/plain": [
       "   index                     Name Base Pay University or Office  \\\n",
       "0      0  Driscoll, Michael Allan  $275000              Indiana   \n",
       "1      1      Weisenstein, Greg R  $241935         West Chester   \n",
       "\n",
       "               Position  \n",
       "0  University President  \n",
       "1  University President  "
      ]
     },
     "execution_count": 2,
     "metadata": {},
     "output_type": "execute_result"
    }
   ],
   "source": [
    "df.head(2)"
   ]
  },
  {
   "cell_type": "markdown",
   "id": "20a72964-8760-439a-809b-d92b0e112614",
   "metadata": {},
   "source": [
    "**Q1.** A recent survey was done on the state of compensation in academia. The detailed survey data is stored in the file `./Data/salaries.csv`. The belief before the survey was commissioned was that a Professor, on an average earns $100,100. Look at the data provided to you in the file and see if this belief about the compensation is credible or not. "
   ]
  },
  {
   "cell_type": "markdown",
   "id": "b63ca6a5-0b90-43ba-a68d-46aa3af20fc9",
   "metadata": {},
   "source": [
    "**Solution**\n",
    "\n",
    "- H0: The average salary of a professor is `$101000`\n",
    "- Ha: The average salary of a professor > `$101000` (See the sample average below)"
   ]
  },
  {
   "cell_type": "code",
   "execution_count": 3,
   "id": "39a25ad8-01bf-432a-ae9c-12ccb7e05f05",
   "metadata": {},
   "outputs": [
    {
     "data": {
      "text/plain": [
       "101902.3792822186"
      ]
     },
     "execution_count": 3,
     "metadata": {},
     "output_type": "execute_result"
    }
   ],
   "source": [
    "df['Base Pay'] = df['Base Pay'].map(lambda x: float(x.replace(\"$\",\"\")))\n",
    "role = 'professor'\n",
    "cond = df['Position'].str.lower().str.startswith('professor')\n",
    "df[(cond)]['Base Pay'].mean()"
   ]
  },
  {
   "cell_type": "code",
   "execution_count": 4,
   "id": "febf68f4-5f34-452c-94d6-1ffd7f15f3cd",
   "metadata": {},
   "outputs": [],
   "source": [
    "import scipy.stats\n",
    "import math"
   ]
  },
  {
   "cell_type": "code",
   "execution_count": 5,
   "id": "fe7a7f9f-19dd-459b-8602-a14b14cba644",
   "metadata": {},
   "outputs": [],
   "source": [
    "def p_value(pop_mean,sample_mean,sample_stdev,sample_size):\n",
    "    SE = sample_stdev/math.sqrt(sample_size)\n",
    "    if pop_mean>sample_mean:\n",
    "        pval = scipy.stats.norm(pop_mean,SE).cdf(sample_mean)\n",
    "    else:\n",
    "        pval = 1-scipy.stats.norm(pop_mean,SE).cdf(sample_mean)\n",
    "    return pval"
   ]
  },
  {
   "cell_type": "code",
   "execution_count": 6,
   "id": "f634d865-1408-445a-9517-cf14d73fc84a",
   "metadata": {},
   "outputs": [],
   "source": [
    "pop_mean = 101000\n",
    "sample_mean = df[(cond)]['Base Pay'].mean()\n",
    "sample_stdev = df[(cond)]['Base Pay'].std()\n",
    "sample_size = df[(cond)]['Base Pay'].shape[0]"
   ]
  },
  {
   "cell_type": "code",
   "execution_count": 7,
   "id": "217887d5-3b7a-4c23-9f59-dfcac1870351",
   "metadata": {},
   "outputs": [
    {
     "data": {
      "text/plain": [
       "0.0001497070410003687"
      ]
     },
     "execution_count": 7,
     "metadata": {},
     "output_type": "execute_result"
    }
   ],
   "source": [
    "p_value(pop_mean,sample_mean,sample_stdev,sample_size)"
   ]
  },
  {
   "cell_type": "markdown",
   "id": "2e735199-4069-4940-8db4-8cbfe626d9ef",
   "metadata": {},
   "source": [
    "**Conclusion**\n",
    "p-value is very small so we reject H0, it can be concluded that the salary is more than $101,000"
   ]
  },
  {
   "cell_type": "markdown",
   "id": "02448ade-f3ac-466a-8771-c281035c4e6b",
   "metadata": {},
   "source": [
    "**Q2.** A recent survey was done on the state of compensation in academia. The detailed survey data is stored in the file `./Data/salaries.csv`. The belief before the survey was commissioned was that a Dean, on an average earns $100,100. Look at the data provided to you in the file and see if this belief about the compensation is credible or not. "
   ]
  },
  {
   "cell_type": "markdown",
   "id": "cf8be416-a403-4d88-8851-999823053637",
   "metadata": {},
   "source": [
    "**Solution**\n",
    "\n",
    "- H0: The average salary of a dean is `$101,000`\n",
    "- Ha: The average salary of a dean > `$101,000` (See the sample average below)"
   ]
  },
  {
   "cell_type": "code",
   "execution_count": 8,
   "id": "f40a2453-9e56-4910-bacd-58850b025dde",
   "metadata": {},
   "outputs": [],
   "source": [
    "def check_if_dean(x):\n",
    "    x = x.lower()\n",
    "    if \"dean\" in x.split(\" \"):\n",
    "        return True\n",
    "    else:\n",
    "        return False"
   ]
  },
  {
   "cell_type": "code",
   "execution_count": 11,
   "id": "493e9064-e866-4653-bc38-1f2efb2a831a",
   "metadata": {},
   "outputs": [
    {
     "data": {
      "text/plain": [
       "101830.15"
      ]
     },
     "execution_count": 11,
     "metadata": {},
     "output_type": "execute_result"
    }
   ],
   "source": [
    "cond = df['Position'].map(check_if_dean)\n",
    "df[cond]['Base Pay'].mean()"
   ]
  },
  {
   "cell_type": "code",
   "execution_count": 12,
   "id": "fdebce8a-1a5c-453b-853a-d20ca3d85931",
   "metadata": {},
   "outputs": [],
   "source": [
    "pop_mean = 101000\n",
    "sample_mean = df[(cond)]['Base Pay'].mean()\n",
    "sample_stdev = df[(cond)]['Base Pay'].std()\n",
    "sample_size = df[(cond)]['Base Pay'].shape[0]"
   ]
  },
  {
   "cell_type": "code",
   "execution_count": 13,
   "id": "c505e434-f039-4148-ae9a-09da58b96f20",
   "metadata": {},
   "outputs": [
    {
     "data": {
      "text/plain": [
       "0.40021995241851205"
      ]
     },
     "execution_count": 13,
     "metadata": {},
     "output_type": "execute_result"
    }
   ],
   "source": [
    "p_value(pop_mean,sample_mean,sample_stdev,sample_size)"
   ]
  },
  {
   "cell_type": "markdown",
   "id": "ee3caa42-b490-4fc4-8d6e-719d6e474bf8",
   "metadata": {},
   "source": [
    "**Conclusion**\n",
    "p-value is large so we can't reject H0"
   ]
  },
  {
   "cell_type": "markdown",
   "id": "8cce6d47-09e8-4da9-95a3-06181006099e",
   "metadata": {},
   "source": [
    "**Q3.** Use the dataset `./Data/power_gen.csv`. This dataset contains information on the electrical power generated across time from `09/01/2017` to `12/22/2022` [dataset link](https://www.kaggle.com/datasets/arvindnagaonkar/power-generation-data?select=PowerGeneration.csv). It has been the belief that the average daily power production is 19.1 MU. Given that we have now actual data, can we do a hypothesis test and verify our hypothesis?"
   ]
  },
  {
   "cell_type": "code",
   "execution_count": 14,
   "id": "f32eb086-f82d-40f6-a758-864724b68131",
   "metadata": {},
   "outputs": [],
   "source": [
    "df2 = pd.read_csv('./Data/power_gen.csv')"
   ]
  },
  {
   "cell_type": "code",
   "execution_count": 15,
   "id": "1ba6846e-24d8-4a92-be74-cc425d066421",
   "metadata": {},
   "outputs": [
    {
     "data": {
      "text/html": [
       "<div>\n",
       "<style scoped>\n",
       "    .dataframe tbody tr th:only-of-type {\n",
       "        vertical-align: middle;\n",
       "    }\n",
       "\n",
       "    .dataframe tbody tr th {\n",
       "        vertical-align: top;\n",
       "    }\n",
       "\n",
       "    .dataframe thead th {\n",
       "        text-align: right;\n",
       "    }\n",
       "</style>\n",
       "<table border=\"1\" class=\"dataframe\">\n",
       "  <thead>\n",
       "    <tr style=\"text-align: right;\">\n",
       "      <th></th>\n",
       "      <th>Dates</th>\n",
       "      <th>Power Station</th>\n",
       "      <th>Monitored Cap.(MW)</th>\n",
       "      <th>Total Cap. Under Maintenace (MW)</th>\n",
       "      <th>Planned Maintanence (MW)</th>\n",
       "      <th>Forced Maintanence(MW)</th>\n",
       "      <th>Other Reasons (MW)</th>\n",
       "      <th>Programme or Expected(MU)</th>\n",
       "      <th>Actual(MU)</th>\n",
       "      <th>Excess(+) / Shortfall (-)</th>\n",
       "      <th>Deviation</th>\n",
       "    </tr>\n",
       "  </thead>\n",
       "  <tbody>\n",
       "    <tr>\n",
       "      <th>0</th>\n",
       "      <td>2017-09-01</td>\n",
       "      <td>Delhi</td>\n",
       "      <td>2235.4</td>\n",
       "      <td>135.0</td>\n",
       "      <td>0.0</td>\n",
       "      <td>135.0</td>\n",
       "      <td>0</td>\n",
       "      <td>13</td>\n",
       "      <td>18</td>\n",
       "      <td>5.0</td>\n",
       "      <td>0.0</td>\n",
       "    </tr>\n",
       "    <tr>\n",
       "      <th>1</th>\n",
       "      <td>2017-09-01</td>\n",
       "      <td>Haryana</td>\n",
       "      <td>2720.0</td>\n",
       "      <td>2470.0</td>\n",
       "      <td>0.0</td>\n",
       "      <td>2470.0</td>\n",
       "      <td>0</td>\n",
       "      <td>28</td>\n",
       "      <td>7</td>\n",
       "      <td>-21.8</td>\n",
       "      <td>0.0</td>\n",
       "    </tr>\n",
       "  </tbody>\n",
       "</table>\n",
       "</div>"
      ],
      "text/plain": [
       "        Dates Power Station  Monitored Cap.(MW)  \\\n",
       "0  2017-09-01         Delhi              2235.4   \n",
       "1  2017-09-01       Haryana              2720.0   \n",
       "\n",
       "   Total Cap. Under Maintenace (MW)  Planned Maintanence (MW)  \\\n",
       "0                             135.0                       0.0   \n",
       "1                            2470.0                       0.0   \n",
       "\n",
       "   Forced Maintanence(MW)  Other Reasons (MW)  Programme or Expected(MU)  \\\n",
       "0                   135.0                   0                         13   \n",
       "1                  2470.0                   0                         28   \n",
       "\n",
       "   Actual(MU)  Excess(+) / Shortfall (-)  Deviation  \n",
       "0          18                        5.0        0.0  \n",
       "1           7                      -21.8        0.0  "
      ]
     },
     "execution_count": 15,
     "metadata": {},
     "output_type": "execute_result"
    }
   ],
   "source": [
    "df2.head(2)"
   ]
  },
  {
   "cell_type": "markdown",
   "id": "b92bb87b-c40f-4f07-a84e-8b4c0a8e0889",
   "metadata": {},
   "source": [
    "**Solution**\n",
    "\n",
    "- H0: The average daily power production is 19.1 MU\n",
    "- Ha: The average daily power production is more than 19.1 MU\n"
   ]
  },
  {
   "cell_type": "code",
   "execution_count": 17,
   "id": "6f4ee782-8fa0-4928-aaff-039e027e31d1",
   "metadata": {},
   "outputs": [
    {
     "data": {
      "text/plain": [
       "19.223266310725037"
      ]
     },
     "execution_count": 17,
     "metadata": {},
     "output_type": "execute_result"
    }
   ],
   "source": [
    "df2.groupby('Dates')['Actual(MU)'].mean().mean()"
   ]
  },
  {
   "cell_type": "code",
   "execution_count": 24,
   "id": "d16eefbc-8e87-4166-b51e-a83fff39b0d9",
   "metadata": {},
   "outputs": [],
   "source": [
    "pop_mean = 19.1\n",
    "sample_mean = df2.groupby('Dates')['Actual(MU)'].mean().mean()\n",
    "sample_stdev = df2.groupby('Dates')['Actual(MU)'].mean().std()\n",
    "sample_size = df2.groupby('Dates')['Actual(MU)'].mean().shape[0]"
   ]
  },
  {
   "cell_type": "code",
   "execution_count": 25,
   "id": "ae3ca6f2-4adb-41bb-97a7-988eb44dff4d",
   "metadata": {},
   "outputs": [
    {
     "data": {
      "text/plain": [
       "0.0005362100127317415"
      ]
     },
     "execution_count": 25,
     "metadata": {},
     "output_type": "execute_result"
    }
   ],
   "source": [
    "p_value(pop_mean,sample_mean,sample_stdev,sample_size)"
   ]
  },
  {
   "cell_type": "markdown",
   "id": "15947154-28fa-4acb-8121-2850188f0dc4",
   "metadata": {},
   "source": [
    "**Conclusion**\n",
    "\n",
    "p-value is very small so we reject H0, it can be concluded that the power production is more than 19.1 MU"
   ]
  },
  {
   "cell_type": "markdown",
   "id": "98a77a33-71ad-4e47-95cd-4bb2022e7fe7",
   "metadata": {},
   "source": [
    "**Q4** Use the dataset `./Data/power_gen.csv`. This dataset contains information on the electrical power generated across time from `09/01/2017` to `12/22/2022` [dataset link](https://www.kaggle.com/datasets/arvindnagaonkar/power-generation-data?select=PowerGeneration.csv). It has been the belief that the average daily power production is 19.5 MU in the summer months (April-September). Given that we have now actual data, can we do a hypothesis test and verify our hypothesis?"
   ]
  },
  {
   "cell_type": "markdown",
   "id": "7adb0c6a-0de0-4820-a412-c61c8270b826",
   "metadata": {},
   "source": [
    "**Solution**\n",
    "\n",
    "- H0: The average daily power production is 19.5 MU\n",
    "- Ha: The average daily power production is more than 19.5 MU\n"
   ]
  },
  {
   "cell_type": "code",
   "execution_count": 27,
   "id": "3a08c467-935d-419e-a5f4-ed11d67f7b85",
   "metadata": {},
   "outputs": [],
   "source": [
    "df2['Dates'] = pd.to_datetime(df2['Dates'])\n",
    "df2['Months'] = df2['Dates'].dt.month"
   ]
  },
  {
   "cell_type": "code",
   "execution_count": 28,
   "id": "2f1fb91c-cfa4-41b0-9b9e-bcd3cfd2e41d",
   "metadata": {},
   "outputs": [
    {
     "data": {
      "text/plain": [
       "19.78686720234407"
      ]
     },
     "execution_count": 28,
     "metadata": {},
     "output_type": "execute_result"
    }
   ],
   "source": [
    "df2.query(\"Months in (4,5,6,7,8,9)\").groupby('Dates')['Actual(MU)'].mean().mean()"
   ]
  },
  {
   "cell_type": "code",
   "execution_count": 29,
   "id": "921fd22b-fc44-4ff6-bd76-ac653aeacc47",
   "metadata": {},
   "outputs": [],
   "source": [
    "pop_mean = 19.5\n",
    "sample_mean = df2.query(\"Months in (4,5,6,7,8,9)\").groupby('Dates')['Actual(MU)'].mean().mean()\n",
    "sample_stdev = df2.query(\"Months in (4,5,6,7,8,9)\").groupby('Dates')['Actual(MU)'].mean().std()\n",
    "sample_size = df2.query(\"Months in (4,5,6,7,8,9)\").groupby('Dates')['Actual(MU)'].mean().shape[0]"
   ]
  },
  {
   "cell_type": "code",
   "execution_count": 30,
   "id": "aad93e26-3c4a-473d-ae3c-07906f858429",
   "metadata": {},
   "outputs": [
    {
     "data": {
      "text/plain": [
       "9.340143111158383e-07"
      ]
     },
     "execution_count": 30,
     "metadata": {},
     "output_type": "execute_result"
    }
   ],
   "source": [
    "p_value(pop_mean,sample_mean,sample_stdev,sample_size)"
   ]
  },
  {
   "cell_type": "markdown",
   "id": "0d74188f-9a1b-4399-b79b-68a00490845b",
   "metadata": {},
   "source": [
    "**Conclusion**\n",
    "\n",
    "p-value is very small so we reject H0, it can be concluded that the power production is more than 19.5 MU"
   ]
  },
  {
   "cell_type": "markdown",
   "id": "548c74d3-24fd-49c7-9fbf-687d09a3c364",
   "metadata": {},
   "source": [
    "**Q5** Use the dataset `./Data/power_gen.csv`. This dataset contains information on the electrical power generated across time from `09/01/2017` to `12/22/2022` [dataset link](https://www.kaggle.com/datasets/arvindnagaonkar/power-generation-data?select=PowerGeneration.csv). It has been the belief that the average daily power production is 18.5 MU in the summer months (October-March). Given that we have now actual data, can we do a hypothesis test and verify our hypothesis?"
   ]
  },
  {
   "cell_type": "markdown",
   "id": "34269f9d-4bf1-417e-9371-b59fdb804a02",
   "metadata": {},
   "source": [
    "**Solution**\n",
    "\n",
    "- H0: The average daily power production is 18.5 MU\n",
    "- Ha: The average daily power production is more than 18.5 MU\n"
   ]
  },
  {
   "cell_type": "code",
   "execution_count": 31,
   "id": "1054a14e-8003-4439-8107-cea130cced50",
   "metadata": {},
   "outputs": [
    {
     "data": {
      "text/plain": [
       "18.714524112450068"
      ]
     },
     "execution_count": 31,
     "metadata": {},
     "output_type": "execute_result"
    }
   ],
   "source": [
    "df2.query(\"Months in (10,11,12,1,2,3)\").groupby('Dates')['Actual(MU)'].mean().mean()"
   ]
  },
  {
   "cell_type": "code",
   "execution_count": 32,
   "id": "aa6d8583-47a2-48d3-8158-5d4dc99ae187",
   "metadata": {},
   "outputs": [],
   "source": [
    "pop_mean = 18.5\n",
    "sample_mean = df2.query(\"Months in (10,11,12,1,2,3)\").groupby('Dates')['Actual(MU)'].mean().mean()\n",
    "sample_stdev = df2.query(\"Months in (10,11,12,1,2,3)\").groupby('Dates')['Actual(MU)'].mean().std()\n",
    "sample_size = df2.query(\"Months in (10,11,12,1,2,3)\").groupby('Dates')['Actual(MU)'].mean().shape[0]"
   ]
  },
  {
   "cell_type": "code",
   "execution_count": 33,
   "id": "f2294552-e06e-4ff2-8e5d-a88ab690d7ed",
   "metadata": {},
   "outputs": [
    {
     "data": {
      "text/plain": [
       "5.597539975976673e-08"
      ]
     },
     "execution_count": 33,
     "metadata": {},
     "output_type": "execute_result"
    }
   ],
   "source": [
    "p_value(pop_mean,sample_mean,sample_stdev,sample_size)"
   ]
  },
  {
   "cell_type": "markdown",
   "id": "dc872e9b-5a3d-48c7-81d2-4c78ca9c9ea9",
   "metadata": {},
   "source": [
    "**Conclusion**\n",
    "\n",
    "p-value is very small so we reject H0, it can be concluded that the power production is more than 18.5 MU"
   ]
  },
  {
   "cell_type": "code",
   "execution_count": null,
   "id": "e3bde73e-4fbe-49a2-8032-eda4ff25d182",
   "metadata": {},
   "outputs": [],
   "source": []
  }
 ],
 "metadata": {
  "kernelspec": {
   "display_name": "Python 3 (ipykernel)",
   "language": "python",
   "name": "python3"
  },
  "language_info": {
   "codemirror_mode": {
    "name": "ipython",
    "version": 3
   },
   "file_extension": ".py",
   "mimetype": "text/x-python",
   "name": "python",
   "nbconvert_exporter": "python",
   "pygments_lexer": "ipython3",
   "version": "3.9.13"
  }
 },
 "nbformat": 4,
 "nbformat_minor": 5
}
