{
 "cells": [
  {
   "cell_type": "code",
   "execution_count": 1,
   "id": "23000de9-ea12-4a76-a4e7-980272fcfeee",
   "metadata": {},
   "outputs": [],
   "source": [
    "import pandas as pd\n",
    "all_data = pd.read_csv('global_temp.csv')\n",
    "recent = pd.read_csv('recent_temp.csv')"
   ]
  },
  {
   "cell_type": "markdown",
   "id": "04303c47-9605-4460-8c7e-4475c59ee466",
   "metadata": {},
   "source": [
    "Verify using a hypothesis test if the temperature in New Delhi has gone up in the recent years.\n",
    "\n",
    "The file `global_temp.csv`, contains the average temperature for each city for a period starting from 2018 to 2020.\n",
    "\n",
    "The file `recent_temp.csv`, contains the temperature data for the year 2021."
   ]
  },
  {
   "cell_type": "code",
   "execution_count": 2,
   "id": "a6807858-32e2-4512-8f5e-bb9c128ccf9c",
   "metadata": {},
   "outputs": [
    {
     "data": {
      "text/html": [
       "<div>\n",
       "<style scoped>\n",
       "    .dataframe tbody tr th:only-of-type {\n",
       "        vertical-align: middle;\n",
       "    }\n",
       "\n",
       "    .dataframe tbody tr th {\n",
       "        vertical-align: top;\n",
       "    }\n",
       "\n",
       "    .dataframe thead th {\n",
       "        text-align: right;\n",
       "    }\n",
       "</style>\n",
       "<table border=\"1\" class=\"dataframe\">\n",
       "  <thead>\n",
       "    <tr style=\"text-align: right;\">\n",
       "      <th></th>\n",
       "      <th>city</th>\n",
       "      <th>avg_temp</th>\n",
       "    </tr>\n",
       "  </thead>\n",
       "  <tbody>\n",
       "    <tr>\n",
       "      <th>0</th>\n",
       "      <td>Sukhumi</td>\n",
       "      <td>15.116536</td>\n",
       "    </tr>\n",
       "    <tr>\n",
       "      <th>1</th>\n",
       "      <td>Mariehamn</td>\n",
       "      <td>7.336081</td>\n",
       "    </tr>\n",
       "  </tbody>\n",
       "</table>\n",
       "</div>"
      ],
      "text/plain": [
       "        city   avg_temp\n",
       "0    Sukhumi  15.116536\n",
       "1  Mariehamn   7.336081"
      ]
     },
     "execution_count": 2,
     "metadata": {},
     "output_type": "execute_result"
    }
   ],
   "source": [
    "all_data.head(2)"
   ]
  },
  {
   "cell_type": "code",
   "execution_count": 3,
   "id": "60e14f3b-a7d8-4b44-b7da-7b00ac329996",
   "metadata": {},
   "outputs": [
    {
     "data": {
      "text/html": [
       "<div>\n",
       "<style scoped>\n",
       "    .dataframe tbody tr th:only-of-type {\n",
       "        vertical-align: middle;\n",
       "    }\n",
       "\n",
       "    .dataframe tbody tr th {\n",
       "        vertical-align: top;\n",
       "    }\n",
       "\n",
       "    .dataframe thead th {\n",
       "        text-align: right;\n",
       "    }\n",
       "</style>\n",
       "<table border=\"1\" class=\"dataframe\">\n",
       "  <thead>\n",
       "    <tr style=\"text-align: right;\">\n",
       "      <th></th>\n",
       "      <th>date</th>\n",
       "      <th>country</th>\n",
       "      <th>city</th>\n",
       "      <th>Latitude</th>\n",
       "      <th>Longitude</th>\n",
       "      <th>tavg</th>\n",
       "      <th>tmin</th>\n",
       "      <th>tmax</th>\n",
       "      <th>wdir</th>\n",
       "      <th>wspd</th>\n",
       "      <th>pres</th>\n",
       "    </tr>\n",
       "  </thead>\n",
       "  <tbody>\n",
       "    <tr>\n",
       "      <th>0</th>\n",
       "      <td>2021-01-01</td>\n",
       "      <td>Abkhazia</td>\n",
       "      <td>Sukhumi</td>\n",
       "      <td>43.001525</td>\n",
       "      <td>41.023415</td>\n",
       "      <td>8.6</td>\n",
       "      <td>5.4</td>\n",
       "      <td>14.9</td>\n",
       "      <td>81.0</td>\n",
       "      <td>9.4</td>\n",
       "      <td>1019.2</td>\n",
       "    </tr>\n",
       "    <tr>\n",
       "      <th>1</th>\n",
       "      <td>2021-01-02</td>\n",
       "      <td>Abkhazia</td>\n",
       "      <td>Sukhumi</td>\n",
       "      <td>43.001525</td>\n",
       "      <td>41.023415</td>\n",
       "      <td>8.5</td>\n",
       "      <td>4.0</td>\n",
       "      <td>13.7</td>\n",
       "      <td>47.0</td>\n",
       "      <td>7.7</td>\n",
       "      <td>1024.8</td>\n",
       "    </tr>\n",
       "  </tbody>\n",
       "</table>\n",
       "</div>"
      ],
      "text/plain": [
       "         date   country     city   Latitude  Longitude  tavg  tmin  tmax  \\\n",
       "0  2021-01-01  Abkhazia  Sukhumi  43.001525  41.023415   8.6   5.4  14.9   \n",
       "1  2021-01-02  Abkhazia  Sukhumi  43.001525  41.023415   8.5   4.0  13.7   \n",
       "\n",
       "   wdir  wspd    pres  \n",
       "0  81.0   9.4  1019.2  \n",
       "1  47.0   7.7  1024.8  "
      ]
     },
     "execution_count": 3,
     "metadata": {},
     "output_type": "execute_result"
    }
   ],
   "source": [
    "recent.head(2)"
   ]
  },
  {
   "cell_type": "code",
   "execution_count": 7,
   "id": "ceef2f87-85f4-4b98-ba26-d8d3af3c6efb",
   "metadata": {},
   "outputs": [
    {
     "data": {
      "text/html": [
       "<div>\n",
       "<style scoped>\n",
       "    .dataframe tbody tr th:only-of-type {\n",
       "        vertical-align: middle;\n",
       "    }\n",
       "\n",
       "    .dataframe tbody tr th {\n",
       "        vertical-align: top;\n",
       "    }\n",
       "\n",
       "    .dataframe thead th {\n",
       "        text-align: right;\n",
       "    }\n",
       "</style>\n",
       "<table border=\"1\" class=\"dataframe\">\n",
       "  <thead>\n",
       "    <tr style=\"text-align: right;\">\n",
       "      <th></th>\n",
       "      <th>city</th>\n",
       "      <th>avg_temp</th>\n",
       "    </tr>\n",
       "  </thead>\n",
       "  <tbody>\n",
       "    <tr>\n",
       "      <th>73</th>\n",
       "      <td>New Delhi</td>\n",
       "      <td>26.133759</td>\n",
       "    </tr>\n",
       "  </tbody>\n",
       "</table>\n",
       "</div>"
      ],
      "text/plain": [
       "         city   avg_temp\n",
       "73  New Delhi  26.133759"
      ]
     },
     "execution_count": 7,
     "metadata": {},
     "output_type": "execute_result"
    }
   ],
   "source": [
    "all_data[all_data['city']=='New Delhi']"
   ]
  },
  {
   "cell_type": "code",
   "execution_count": 9,
   "id": "78845655-5885-411a-bd59-a1cd23377600",
   "metadata": {},
   "outputs": [
    {
     "data": {
      "text/plain": [
       "25.87123287671233"
      ]
     },
     "execution_count": 9,
     "metadata": {},
     "output_type": "execute_result"
    }
   ],
   "source": [
    "recent[recent['city']=='New Delhi']['tavg'].mean()"
   ]
  },
  {
   "cell_type": "code",
   "execution_count": 11,
   "id": "0571efa7-0562-44d2-a7c8-33f77134f10e",
   "metadata": {},
   "outputs": [
    {
     "data": {
      "text/plain": [
       "7.044814932408316"
      ]
     },
     "execution_count": 11,
     "metadata": {},
     "output_type": "execute_result"
    }
   ],
   "source": [
    "recent[recent['city']=='New Delhi']['tavg'].std()"
   ]
  },
  {
   "cell_type": "code",
   "execution_count": 12,
   "id": "72b17ff1-5cf9-4e88-850c-9693d610390c",
   "metadata": {},
   "outputs": [
    {
     "data": {
      "text/plain": [
       "365"
      ]
     },
     "execution_count": 12,
     "metadata": {},
     "output_type": "execute_result"
    }
   ],
   "source": [
    "recent[recent['city']=='New Delhi']['tavg'].shape[0]"
   ]
  },
  {
   "cell_type": "markdown",
   "id": "98383b6a-3f06-4c77-b0cc-fb6f059c7f0a",
   "metadata": {},
   "source": [
    "H0: Avg Temp = 26.133759\n",
    "\n",
    "Ha: Avg Temp < 26.133759\n",
    "\n",
    "p-value = Pr(Temp<=25..87123287671233)\n",
    "\n",
    "Standard Deviation of Sampling Distribution = 7.044814932408316/sqrt(365)"
   ]
  },
  {
   "cell_type": "code",
   "execution_count": 13,
   "id": "59ac359e-0e5b-4e1e-96b3-9ad82cdc8185",
   "metadata": {},
   "outputs": [],
   "source": [
    "import math\n",
    "import scipy.stats\n",
    "stdev_samp = 7.044814932408316/math.sqrt(365)"
   ]
  },
  {
   "cell_type": "code",
   "execution_count": 16,
   "id": "938ed2b3-94c4-49cb-b816-ea066a492084",
   "metadata": {},
   "outputs": [],
   "source": [
    "p_value = scipy.stats.norm(26.133759,stdev_samp).cdf(25.87123287671233)"
   ]
  },
  {
   "cell_type": "code",
   "execution_count": 17,
   "id": "bab8e679-a212-47a7-8817-69b8a3d15ed9",
   "metadata": {},
   "outputs": [
    {
     "data": {
      "text/plain": [
       "0.23824793291705038"
      ]
     },
     "execution_count": 17,
     "metadata": {},
     "output_type": "execute_result"
    }
   ],
   "source": [
    "p_value"
   ]
  },
  {
   "cell_type": "code",
   "execution_count": null,
   "id": "a6a2ec9e-dedc-4a28-9706-4c795a3c3f48",
   "metadata": {},
   "outputs": [],
   "source": []
  }
 ],
 "metadata": {
  "kernelspec": {
   "display_name": "Python 3 (ipykernel)",
   "language": "python",
   "name": "python3"
  },
  "language_info": {
   "codemirror_mode": {
    "name": "ipython",
    "version": 3
   },
   "file_extension": ".py",
   "mimetype": "text/x-python",
   "name": "python",
   "nbconvert_exporter": "python",
   "pygments_lexer": "ipython3",
   "version": "3.9.13"
  }
 },
 "nbformat": 4,
 "nbformat_minor": 5
}
