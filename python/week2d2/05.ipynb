{
 "cells": [
  {
   "cell_type": "code",
   "execution_count": 1,
   "id": "2f3c0bc8-555d-4495-ac6e-eb4b3ff2291d",
   "metadata": {},
   "outputs": [],
   "source": [
    "import csv \n",
    "from typing import Union"
   ]
  },
  {
   "cell_type": "code",
   "execution_count": 2,
   "id": "8a5bfa6e-d199-403c-a64d-3fa172235a9e",
   "metadata": {},
   "outputs": [],
   "source": [
    "class IO:\n",
    "    \n",
    "    def read_csv(self,path:str,delim:str)->list:\n",
    "        with open(path,'r') as f:\n",
    "            reader = csv.DictReader(f,delimiter=delim)\n",
    "            data = []\n",
    "            for row in reader:\n",
    "                data.append(row)\n",
    "        return data\n",
    "    \n",
    "    def write_csv(self,path:str,data:list,headers:Union[str,None]=None):\n",
    "        with open(path,'w') as f:\n",
    "            if headers is None:\n",
    "                headers = list(data[0].keys())\n",
    "            writer = csv.DictWriter(f,fieldnames=headers)\n",
    "            writer.writeheader()\n",
    "            for row in data:\n",
    "                writer.writerow(row)"
   ]
  },
  {
   "cell_type": "code",
   "execution_count": 3,
   "id": "5af16340-0c67-4127-9db0-0166e2448309",
   "metadata": {},
   "outputs": [],
   "source": [
    "class Dataset:\n",
    "    def __init__(self,data:list):\n",
    "        self.data = data\n",
    "\n",
    "    def summary(self)->dict:\n",
    "        n_cols = len(self.data[0].keys())\n",
    "        n_rows = len(self.data)\n",
    "        col_names = list(self.data[0].keys())\n",
    "        return {'n_cols':n_cols,'n_rows':n_rows,'col_names':col_names}\n",
    "\n",
    "    def dtypes(self)->dict:\n",
    "        row = self.data[1].items()  \n",
    "        schema = {}\n",
    "        for k,v in row:\n",
    "            if type(v)!=str:\n",
    "                schema[k] = str(type(v))\n",
    "            else:\n",
    "                if v.isnumeric():\n",
    "                    schema[k] = 'num'\n",
    "                else:\n",
    "                    schema[k] = 'str'\n",
    "        return schema"
   ]
  },
  {
   "cell_type": "code",
   "execution_count": 4,
   "id": "a9251ed2-3857-48a0-92ec-a3b7df9e05c0",
   "metadata": {},
   "outputs": [],
   "source": [
    "io = IO()"
   ]
  },
  {
   "cell_type": "code",
   "execution_count": 5,
   "id": "c478cc94-cde9-4937-b135-6636d3d0cb38",
   "metadata": {},
   "outputs": [],
   "source": [
    "data = io.read_csv(\"breweries.csv\",\",\")"
   ]
  },
  {
   "cell_type": "code",
   "execution_count": 6,
   "id": "eecb1521-7284-452d-afd7-a5dd1ee839fd",
   "metadata": {},
   "outputs": [],
   "source": [
    "dataset = Dataset(data)"
   ]
  },
  {
   "cell_type": "code",
   "execution_count": 7,
   "id": "24068fe8-9de5-48c1-af8b-4bc5f91f9443",
   "metadata": {},
   "outputs": [
    {
     "data": {
      "text/plain": [
       "{'obdb_id': 'str',\n",
       " 'name': 'str',\n",
       " 'brewery_type': 'str',\n",
       " 'street': 'str',\n",
       " 'address_2': 'str',\n",
       " 'address_3': 'str',\n",
       " 'city': 'str',\n",
       " 'state': 'str',\n",
       " 'county_province': 'str',\n",
       " 'postal_code': 'str',\n",
       " 'website_url': 'str',\n",
       " 'phone': 'num',\n",
       " 'country': 'str',\n",
       " 'longitude': 'str',\n",
       " 'latitude': 'str',\n",
       " 'tags': 'str'}"
      ]
     },
     "execution_count": 7,
     "metadata": {},
     "output_type": "execute_result"
    }
   ],
   "source": [
    "dataset.dtypes()"
   ]
  },
  {
   "cell_type": "code",
   "execution_count": 8,
   "id": "0becc614-7c21-47a8-8fad-b0770c193ba4",
   "metadata": {},
   "outputs": [
    {
     "data": {
      "text/plain": [
       "{'n_cols': 16,\n",
       " 'n_rows': 8106,\n",
       " 'col_names': ['obdb_id',\n",
       "  'name',\n",
       "  'brewery_type',\n",
       "  'street',\n",
       "  'address_2',\n",
       "  'address_3',\n",
       "  'city',\n",
       "  'state',\n",
       "  'county_province',\n",
       "  'postal_code',\n",
       "  'website_url',\n",
       "  'phone',\n",
       "  'country',\n",
       "  'longitude',\n",
       "  'latitude',\n",
       "  'tags']}"
      ]
     },
     "execution_count": 8,
     "metadata": {},
     "output_type": "execute_result"
    }
   ],
   "source": [
    "dataset.summary()"
   ]
  },
  {
   "cell_type": "code",
   "execution_count": null,
   "id": "a7cb1e3f-6d97-4dc5-88ae-b7e3f50bacd5",
   "metadata": {},
   "outputs": [],
   "source": []
  }
 ],
 "metadata": {
  "kernelspec": {
   "display_name": "Python 3 (ipykernel)",
   "language": "python",
   "name": "python3"
  },
  "language_info": {
   "codemirror_mode": {
    "name": "ipython",
    "version": 3
   },
   "file_extension": ".py",
   "mimetype": "text/x-python",
   "name": "python",
   "nbconvert_exporter": "python",
   "pygments_lexer": "ipython3",
   "version": "3.9.13"
  }
 },
 "nbformat": 4,
 "nbformat_minor": 5
}
