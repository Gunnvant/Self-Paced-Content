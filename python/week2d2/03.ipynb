{
 "cells": [
  {
   "cell_type": "markdown",
   "id": "35842c33-8c90-4b92-84b0-693176bd26eb",
   "metadata": {},
   "source": [
    "## Classes and Objects\n",
    "\n",
    "Lets create the bank account functionality using classes and objects\n",
    "\n",
    "A bank account should be able to :\n",
    "- Store firstname, lastname and age of customer\n",
    "- Should be able to facilitate withdrawls and deposits\n",
    "- Should be able to check account balance"
   ]
  },
  {
   "cell_type": "code",
   "execution_count": 2,
   "id": "ba6094af-740b-4433-addc-391014aab45b",
   "metadata": {},
   "outputs": [],
   "source": [
    "class Account:\n",
    "    \n",
    "    def __init__(self):\n",
    "        self.balance = 0\n",
    "    \n",
    "    def set_info(self,first_name:str,last_name:str,age:float):\n",
    "        self.first_name = first_name\n",
    "        self.last_name = last_name\n",
    "        self.age = age\n",
    "        print(f\"Account of {first_name} {last_name} aged {age} created\")\n",
    "    \n",
    "    def deposit(self,amount:float):\n",
    "        self.balance = self.balance + amount\n",
    "        print(f\"An amount of {amount} deposited\")\n",
    "        \n",
    "    def withdrawal(self,withdraw:float):\n",
    "        self.balance = self.balance-withdraw\n",
    "        print(f\"An amount of {withdraw} withdrawn\")"
   ]
  },
  {
   "cell_type": "code",
   "execution_count": 3,
   "id": "0e721af1-a893-428a-ab53-be3c818cad6f",
   "metadata": {},
   "outputs": [
    {
     "name": "stdout",
     "output_type": "stream",
     "text": [
      "Account of Ram Pitani aged 32 created\n"
     ]
    }
   ],
   "source": [
    "c1 = Account()\n",
    "c1.set_info(\"Ram\",\"Pitani\",32)"
   ]
  },
  {
   "cell_type": "code",
   "execution_count": 4,
   "id": "a2afbb14-3d2c-41c2-88dd-ded242158fce",
   "metadata": {},
   "outputs": [
    {
     "name": "stdout",
     "output_type": "stream",
     "text": [
      "An amount of 500 deposited\n"
     ]
    }
   ],
   "source": [
    "c1.deposit(500)"
   ]
  },
  {
   "cell_type": "code",
   "execution_count": 5,
   "id": "af0cbd5d-8e66-4a2e-9016-dea8b44ea327",
   "metadata": {},
   "outputs": [
    {
     "data": {
      "text/plain": [
       "500"
      ]
     },
     "execution_count": 5,
     "metadata": {},
     "output_type": "execute_result"
    }
   ],
   "source": [
    "c1.balance"
   ]
  },
  {
   "cell_type": "code",
   "execution_count": 7,
   "id": "c8d63f5f-6788-4e4a-a313-7ea18e621438",
   "metadata": {},
   "outputs": [
    {
     "name": "stdout",
     "output_type": "stream",
     "text": [
      "An amount of 299 withdrawn\n"
     ]
    }
   ],
   "source": [
    "c1.withdrawal(299)"
   ]
  },
  {
   "cell_type": "code",
   "execution_count": 9,
   "id": "4c47bf15-f38f-4302-ad45-d003f3bd8328",
   "metadata": {},
   "outputs": [
    {
     "data": {
      "text/plain": [
       "201"
      ]
     },
     "execution_count": 9,
     "metadata": {},
     "output_type": "execute_result"
    }
   ],
   "source": [
    "c1.balance"
   ]
  },
  {
   "cell_type": "code",
   "execution_count": 10,
   "id": "a0800236-1713-43fc-b300-8d03e6d55e6d",
   "metadata": {},
   "outputs": [],
   "source": [
    "## We can add the ability to track transaction history also\n",
    "\n",
    "class Account:\n",
    "    \n",
    "    def __init__(self):\n",
    "        self.balance = 0\n",
    "        self.history = []\n",
    "    \n",
    "    def set_info(self,first_name:str,last_name:str,age:float):\n",
    "        self.first_name = first_name\n",
    "        self.last_name = last_name\n",
    "        self.age = age\n",
    "        print(f\"Account of {first_name} {last_name} aged {age} created\")\n",
    "    \n",
    "    def deposit(self,amount:float):\n",
    "        self.balance = self.balance + amount\n",
    "        self.history.append({\"deposit\":amount})\n",
    "        print(f\"An amount of {amount} deposited\")\n",
    "        \n",
    "    def withdrawal(self,withdraw:float):\n",
    "        self.balance = self.balance-withdraw\n",
    "        self.history.append({\"withdrawal\":withdraw})\n",
    "        print(f\"An amount of {withdraw} withdrawn\")"
   ]
  },
  {
   "cell_type": "code",
   "execution_count": 11,
   "id": "b157b63b-c847-417c-8a4d-6bbe55134c4f",
   "metadata": {},
   "outputs": [
    {
     "name": "stdout",
     "output_type": "stream",
     "text": [
      "Account of Ram Pitani aged 32 created\n"
     ]
    }
   ],
   "source": [
    "c1 = Account()\n",
    "c1.set_info(\"Ram\",\"Pitani\",32)"
   ]
  },
  {
   "cell_type": "code",
   "execution_count": 12,
   "id": "8f836963-506a-4a5a-8913-87c949dffe5a",
   "metadata": {},
   "outputs": [
    {
     "name": "stdout",
     "output_type": "stream",
     "text": [
      "An amount of 500 deposited\n"
     ]
    }
   ],
   "source": [
    "c1.deposit(500)"
   ]
  },
  {
   "cell_type": "code",
   "execution_count": 13,
   "id": "a33ab776-3dec-45bd-ab22-7f88f8eb684a",
   "metadata": {},
   "outputs": [
    {
     "name": "stdout",
     "output_type": "stream",
     "text": [
      "An amount of 299 withdrawn\n"
     ]
    }
   ],
   "source": [
    "c1.withdrawal(299)"
   ]
  },
  {
   "cell_type": "code",
   "execution_count": 14,
   "id": "e2fff691-5f97-4595-8412-0cac7810b759",
   "metadata": {},
   "outputs": [
    {
     "data": {
      "text/plain": [
       "[{'deposit': 500}, {'withdrawal': 299}]"
      ]
     },
     "execution_count": 14,
     "metadata": {},
     "output_type": "execute_result"
    }
   ],
   "source": [
    "c1.history"
   ]
  },
  {
   "cell_type": "code",
   "execution_count": null,
   "id": "c65994bb-1606-4e64-a6b1-c97ed3b59cd9",
   "metadata": {},
   "outputs": [],
   "source": []
  }
 ],
 "metadata": {
  "kernelspec": {
   "display_name": "Python 3 (ipykernel)",
   "language": "python",
   "name": "python3"
  },
  "language_info": {
   "codemirror_mode": {
    "name": "ipython",
    "version": 3
   },
   "file_extension": ".py",
   "mimetype": "text/x-python",
   "name": "python",
   "nbconvert_exporter": "python",
   "pygments_lexer": "ipython3",
   "version": "3.9.13"
  }
 },
 "nbformat": 4,
 "nbformat_minor": 5
}
