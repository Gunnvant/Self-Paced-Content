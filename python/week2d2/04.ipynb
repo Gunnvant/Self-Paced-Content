{
 "cells": [
  {
   "cell_type": "code",
   "execution_count": 1,
   "id": "214b91da-2ea4-4ca2-b958-227881510576",
   "metadata": {},
   "outputs": [],
   "source": [
    "class Account:\n",
    "    \n",
    "    def __init__(self):\n",
    "        self.balance = 0\n",
    "        self.history = []\n",
    "    \n",
    "    def set_info(self,first_name:str,last_name:str,age:float):\n",
    "        self.first_name = first_name\n",
    "        self.last_name = last_name\n",
    "        self.age = age\n",
    "        print(f\"Account of {first_name} {last_name} aged {age} created\")\n",
    "    \n",
    "    def deposit(self,amount:float):\n",
    "        self.balance = self.balance + amount\n",
    "        self.history.append({\"deposit\":amount})\n",
    "        print(f\"An amount of {amount} deposited\")\n",
    "        \n",
    "    def withdrawal(self,withdraw:float):\n",
    "        self.balance = self.balance-withdraw\n",
    "        self.history.append({\"withdrawal\":withdraw})\n",
    "        print(f\"An amount of {withdraw} withdrawn\")"
   ]
  },
  {
   "cell_type": "code",
   "execution_count": 2,
   "id": "3e28cc73-ac74-4dd1-af47-cb055e906301",
   "metadata": {},
   "outputs": [],
   "source": [
    "## What if we wanted to give a length property to this class\n",
    "\n",
    "class Account:\n",
    "    \n",
    "    def __init__(self):\n",
    "        self.balance = 0\n",
    "        self.history = []\n",
    "    \n",
    "    def set_info(self,first_name:str,last_name:str,age:float):\n",
    "        self.first_name = first_name\n",
    "        self.last_name = last_name\n",
    "        self.age = age\n",
    "        print(f\"Account of {first_name} {last_name} aged {age} created\")\n",
    "    \n",
    "    def deposit(self,amount:float):\n",
    "        self.balance = self.balance + amount\n",
    "        self.history.append({\"deposit\":amount})\n",
    "        print(f\"An amount of {amount} deposited\")\n",
    "        \n",
    "    def withdrawal(self,withdraw:float):\n",
    "        self.balance = self.balance-withdraw\n",
    "        self.history.append({\"withdrawal\":withdraw})\n",
    "        print(f\"An amount of {withdraw} withdrawn\")\n",
    "        \n",
    "    def __len__(self):\n",
    "        return len(self.history)"
   ]
  },
  {
   "cell_type": "code",
   "execution_count": 3,
   "id": "a9cbef07-6be5-4937-aba6-84f9208d3210",
   "metadata": {},
   "outputs": [
    {
     "name": "stdout",
     "output_type": "stream",
     "text": [
      "Account of Ram Pitani aged 32 created\n"
     ]
    }
   ],
   "source": [
    "c1 = Account()\n",
    "c1.set_info(\"Ram\",\"Pitani\",32)"
   ]
  },
  {
   "cell_type": "code",
   "execution_count": 4,
   "id": "f7e832bc-17f8-4419-8fe8-8f6064264c2b",
   "metadata": {},
   "outputs": [
    {
     "data": {
      "text/plain": [
       "0"
      ]
     },
     "execution_count": 4,
     "metadata": {},
     "output_type": "execute_result"
    }
   ],
   "source": [
    "len(c1)"
   ]
  },
  {
   "cell_type": "code",
   "execution_count": 5,
   "id": "77055443-7f23-4419-afe5-edd0a2bc26e7",
   "metadata": {},
   "outputs": [
    {
     "name": "stdout",
     "output_type": "stream",
     "text": [
      "An amount of 500 deposited\n"
     ]
    }
   ],
   "source": [
    "c1.deposit(500)"
   ]
  },
  {
   "cell_type": "code",
   "execution_count": 6,
   "id": "8b84009a-3984-4bd0-b62c-370f0bf23bb6",
   "metadata": {},
   "outputs": [
    {
     "data": {
      "text/plain": [
       "1"
      ]
     },
     "execution_count": 6,
     "metadata": {},
     "output_type": "execute_result"
    }
   ],
   "source": [
    "len(c1)"
   ]
  },
  {
   "cell_type": "code",
   "execution_count": 7,
   "id": "3035250a-b730-4dc0-8b12-6b24f7d13046",
   "metadata": {},
   "outputs": [
    {
     "name": "stdout",
     "output_type": "stream",
     "text": [
      "An amount of 299 withdrawn\n"
     ]
    }
   ],
   "source": [
    "c1.withdrawal(299)"
   ]
  },
  {
   "cell_type": "code",
   "execution_count": 8,
   "id": "b581057b-2c04-491d-8f0d-05a8f27812c4",
   "metadata": {},
   "outputs": [
    {
     "data": {
      "text/plain": [
       "2"
      ]
     },
     "execution_count": 8,
     "metadata": {},
     "output_type": "execute_result"
    }
   ],
   "source": [
    "len(c1)"
   ]
  },
  {
   "cell_type": "code",
   "execution_count": 9,
   "id": "bac6d8c1-05f1-4117-9fba-9bb6fe333343",
   "metadata": {},
   "outputs": [],
   "source": [
    "## We can also enable loops on the objects of this class\n",
    "\n",
    "class Account:\n",
    "    \n",
    "    def __init__(self):\n",
    "        self.balance = 0\n",
    "        self.history = []\n",
    "    \n",
    "    def set_info(self,first_name:str,last_name:str,age:float):\n",
    "        self.first_name = first_name\n",
    "        self.last_name = last_name\n",
    "        self.age = age\n",
    "        print(f\"Account of {first_name} {last_name} aged {age} created\")\n",
    "    \n",
    "    def deposit(self,amount:float):\n",
    "        self.balance = self.balance + amount\n",
    "        self.history.append({\"deposit\":amount})\n",
    "        print(f\"An amount of {amount} deposited\")\n",
    "        \n",
    "    def withdrawal(self,withdraw:float):\n",
    "        self.balance = self.balance-withdraw\n",
    "        self.history.append({\"withdrawal\":withdraw})\n",
    "        print(f\"An amount of {withdraw} withdrawn\")\n",
    "        \n",
    "    def __len__(self):\n",
    "        return len(self.history)\n",
    "    \n",
    "    def __getitem__(self,idx):\n",
    "        return self.history[idx]"
   ]
  },
  {
   "cell_type": "code",
   "execution_count": 10,
   "id": "7db649cb-35d7-43b1-9e7a-53dfcbcb39dd",
   "metadata": {},
   "outputs": [
    {
     "name": "stdout",
     "output_type": "stream",
     "text": [
      "Account of Ram Pitani aged 32 created\n",
      "An amount of 500 deposited\n",
      "An amount of 299 withdrawn\n"
     ]
    }
   ],
   "source": [
    "c1 = Account()\n",
    "c1.set_info(\"Ram\",\"Pitani\",32)\n",
    "c1.deposit(500)\n",
    "c1.withdrawal(299)"
   ]
  },
  {
   "cell_type": "code",
   "execution_count": 11,
   "id": "ee0ca21e-8cc8-4356-86c9-0cf6f3740b4f",
   "metadata": {},
   "outputs": [
    {
     "data": {
      "text/plain": [
       "2"
      ]
     },
     "execution_count": 11,
     "metadata": {},
     "output_type": "execute_result"
    }
   ],
   "source": [
    "len(c1)"
   ]
  },
  {
   "cell_type": "code",
   "execution_count": 12,
   "id": "83e1ebda-818a-4552-a888-d8a9131a3707",
   "metadata": {},
   "outputs": [
    {
     "data": {
      "text/plain": [
       "{'deposit': 500}"
      ]
     },
     "execution_count": 12,
     "metadata": {},
     "output_type": "execute_result"
    }
   ],
   "source": [
    "c1[0]"
   ]
  },
  {
   "cell_type": "code",
   "execution_count": 13,
   "id": "17f5f7b3-5a02-4391-94ba-6481d51835f7",
   "metadata": {},
   "outputs": [
    {
     "data": {
      "text/plain": [
       "{'withdrawal': 299}"
      ]
     },
     "execution_count": 13,
     "metadata": {},
     "output_type": "execute_result"
    }
   ],
   "source": [
    "c1[1]"
   ]
  },
  {
   "cell_type": "code",
   "execution_count": 14,
   "id": "580896bf-bc89-41bc-8290-41e3e5a37f30",
   "metadata": {},
   "outputs": [
    {
     "name": "stdout",
     "output_type": "stream",
     "text": [
      "{'deposit': 500}\n",
      "{'withdrawal': 299}\n"
     ]
    }
   ],
   "source": [
    "for trans in c1:\n",
    "    print(trans)"
   ]
  },
  {
   "cell_type": "code",
   "execution_count": null,
   "id": "2d556a64-1593-44a6-b2d2-8445af941740",
   "metadata": {},
   "outputs": [],
   "source": []
  }
 ],
 "metadata": {
  "kernelspec": {
   "display_name": "Python 3 (ipykernel)",
   "language": "python",
   "name": "python3"
  },
  "language_info": {
   "codemirror_mode": {
    "name": "ipython",
    "version": 3
   },
   "file_extension": ".py",
   "mimetype": "text/x-python",
   "name": "python",
   "nbconvert_exporter": "python",
   "pygments_lexer": "ipython3",
   "version": "3.9.13"
  }
 },
 "nbformat": 4,
 "nbformat_minor": 5
}
