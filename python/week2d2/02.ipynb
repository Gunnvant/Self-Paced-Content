{
 "cells": [
  {
   "cell_type": "markdown",
   "id": "832d84fd-56eb-464c-b1d7-1230abc33d3c",
   "metadata": {},
   "source": [
    "## Classes and Objects\n",
    "\n",
    "Lets create the bank account functionality using classes and objects\n",
    "\n",
    "A bank account should be able to :\n",
    "- Store firstname, lastname and age of customer\n",
    "- Should be able to facilitate withdrawls and deposits\n",
    "- Should be able to check account balance"
   ]
  },
  {
   "cell_type": "code",
   "execution_count": 1,
   "id": "ff860f32-2090-479c-b90e-41662d9e07ab",
   "metadata": {},
   "outputs": [],
   "source": [
    "## Class that stores only information\n",
    "\n",
    "class Account:\n",
    "    def set_info(self,first_name:str,last_name:str,age:float):\n",
    "        self.first_name = first_name\n",
    "        self.last_name = last_name\n",
    "        self.age = age\n",
    "        print(f\"Account of {first_name} {last_name} aged {age} created\")"
   ]
  },
  {
   "cell_type": "code",
   "execution_count": 2,
   "id": "80f1a396-2b55-4b1d-9a1c-33a0610243af",
   "metadata": {},
   "outputs": [],
   "source": [
    "c1 = Account()"
   ]
  },
  {
   "cell_type": "code",
   "execution_count": 3,
   "id": "84437040-e28c-4407-921f-2e8311231e4e",
   "metadata": {},
   "outputs": [
    {
     "name": "stdout",
     "output_type": "stream",
     "text": [
      "Account of Ram Pitani aged 32 created\n"
     ]
    }
   ],
   "source": [
    "c1.set_info(\"Ram\",\"Pitani\",32)"
   ]
  },
  {
   "cell_type": "code",
   "execution_count": 4,
   "id": "1ea84293-a4de-4db7-a36c-72d3b8ceabea",
   "metadata": {},
   "outputs": [
    {
     "data": {
      "text/plain": [
       "'Ram'"
      ]
     },
     "execution_count": 4,
     "metadata": {},
     "output_type": "execute_result"
    }
   ],
   "source": [
    "c1.first_name"
   ]
  },
  {
   "cell_type": "code",
   "execution_count": 5,
   "id": "ae1545e4-c1f0-4144-9bc4-1a1a69f8adc0",
   "metadata": {},
   "outputs": [
    {
     "data": {
      "text/plain": [
       "'Pitani'"
      ]
     },
     "execution_count": 5,
     "metadata": {},
     "output_type": "execute_result"
    }
   ],
   "source": [
    "c1.last_name"
   ]
  },
  {
   "cell_type": "code",
   "execution_count": 6,
   "id": "3d45e907-35c5-4414-b0d6-4cb569e70e8b",
   "metadata": {},
   "outputs": [
    {
     "data": {
      "text/plain": [
       "32"
      ]
     },
     "execution_count": 6,
     "metadata": {},
     "output_type": "execute_result"
    }
   ],
   "source": [
    "c1.age"
   ]
  },
  {
   "cell_type": "code",
   "execution_count": 7,
   "id": "29926fb6-dde0-4856-b0b6-861d291c53a5",
   "metadata": {},
   "outputs": [
    {
     "data": {
      "text/plain": [
       "__main__.Account"
      ]
     },
     "execution_count": 7,
     "metadata": {},
     "output_type": "execute_result"
    }
   ],
   "source": [
    "type(c1)"
   ]
  },
  {
   "cell_type": "code",
   "execution_count": 8,
   "id": "80850444-b8c4-460c-9da7-082ac2de63fe",
   "metadata": {},
   "outputs": [
    {
     "name": "stdout",
     "output_type": "stream",
     "text": [
      "['__class__', '__delattr__', '__dict__', '__dir__', '__doc__', '__eq__', '__format__', '__ge__', '__getattribute__', '__gt__', '__hash__', '__init__', '__init_subclass__', '__le__', '__lt__', '__module__', '__ne__', '__new__', '__reduce__', '__reduce_ex__', '__repr__', '__setattr__', '__sizeof__', '__str__', '__subclasshook__', '__weakref__', 'age', 'first_name', 'last_name', 'set_info']\n"
     ]
    }
   ],
   "source": [
    "print(dir(c1))"
   ]
  },
  {
   "cell_type": "code",
   "execution_count": 9,
   "id": "d064d3d6-364b-49e0-9996-b76bd74fb1d6",
   "metadata": {},
   "outputs": [
    {
     "data": {
      "text/plain": [
       "\u001b[0;31mSignature:\u001b[0m \u001b[0mc1\u001b[0m\u001b[0;34m.\u001b[0m\u001b[0mset_info\u001b[0m\u001b[0;34m(\u001b[0m\u001b[0mfirst_name\u001b[0m\u001b[0;34m:\u001b[0m \u001b[0mstr\u001b[0m\u001b[0;34m,\u001b[0m \u001b[0mlast_name\u001b[0m\u001b[0;34m:\u001b[0m \u001b[0mstr\u001b[0m\u001b[0;34m,\u001b[0m \u001b[0mage\u001b[0m\u001b[0;34m:\u001b[0m \u001b[0mfloat\u001b[0m\u001b[0;34m)\u001b[0m\u001b[0;34m\u001b[0m\u001b[0;34m\u001b[0m\u001b[0m\n",
       "\u001b[0;31mDocstring:\u001b[0m <no docstring>\n",
       "\u001b[0;31mFile:\u001b[0m      /var/folders/7h/01sjg2sx6tl3y72r2klm24c80000gn/T/ipykernel_4651/4125625341.py\n",
       "\u001b[0;31mType:\u001b[0m      method\n"
      ]
     },
     "metadata": {},
     "output_type": "display_data"
    }
   ],
   "source": [
    "?c1.set_info"
   ]
  },
  {
   "cell_type": "code",
   "execution_count": 10,
   "id": "affd2d28-2565-4e11-acc0-bce3446c4c9d",
   "metadata": {},
   "outputs": [],
   "source": [
    "## We can set up a class that executes some instructions the moment an object is created\n",
    "\n",
    "class Account:\n",
    "    def __init__(self):\n",
    "        self.balance = 0\n",
    "    def set_info(self,first_name:str,last_name:str,age:float):\n",
    "        self.first_name = first_name\n",
    "        self.last_name = last_name\n",
    "        self.age = age\n",
    "        print(f\"Account of {first_name} {last_name} aged {age} created\")"
   ]
  },
  {
   "cell_type": "code",
   "execution_count": 11,
   "id": "9a400a47-48ae-4b89-8a2c-78d8ec73804a",
   "metadata": {},
   "outputs": [],
   "source": [
    "c1 = Account()"
   ]
  },
  {
   "cell_type": "code",
   "execution_count": 12,
   "id": "1334fe1d-aba7-480b-88d3-57c98af13b83",
   "metadata": {},
   "outputs": [
    {
     "data": {
      "text/plain": [
       "0"
      ]
     },
     "execution_count": 12,
     "metadata": {},
     "output_type": "execute_result"
    }
   ],
   "source": [
    "c1.balance"
   ]
  },
  {
   "cell_type": "code",
   "execution_count": null,
   "id": "7101cd5d-e019-4662-b16e-85aae73b9a73",
   "metadata": {},
   "outputs": [],
   "source": []
  }
 ],
 "metadata": {
  "kernelspec": {
   "display_name": "Python 3 (ipykernel)",
   "language": "python",
   "name": "python3"
  },
  "language_info": {
   "codemirror_mode": {
    "name": "ipython",
    "version": 3
   },
   "file_extension": ".py",
   "mimetype": "text/x-python",
   "name": "python",
   "nbconvert_exporter": "python",
   "pygments_lexer": "ipython3",
   "version": "3.9.13"
  }
 },
 "nbformat": 4,
 "nbformat_minor": 5
}
