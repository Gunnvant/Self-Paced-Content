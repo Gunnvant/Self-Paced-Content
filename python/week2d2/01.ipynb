{
 "cells": [
  {
   "cell_type": "markdown",
   "id": "0d4168dc-6f37-4977-a6ee-90967fd08d72",
   "metadata": {},
   "source": [
    "## Object Oriented Programming Motivation"
   ]
  },
  {
   "cell_type": "code",
   "execution_count": 1,
   "id": "7038f5d9-a4ca-4f04-ad2d-04b7488feb06",
   "metadata": {},
   "outputs": [],
   "source": [
    "import csv\n",
    "from typing import Union"
   ]
  },
  {
   "cell_type": "code",
   "execution_count": 2,
   "id": "eb398ded-51da-4cdd-9dae-7cb0dc68a455",
   "metadata": {},
   "outputs": [],
   "source": [
    "def read_csv(path:str,delim:str)->list:\n",
    "    with open(path,'r') as f:\n",
    "        reader = csv.DictReader(f,delimiter=delim)\n",
    "        data = []\n",
    "        for row in reader:\n",
    "            data.append(row)\n",
    "    return data\n",
    "\n",
    "def write_csv(path:str,data:list,headers:Union[str,None]=None):\n",
    "    with open(path,'w') as f:\n",
    "        if headers is None:\n",
    "            headers = list(data[0].keys())\n",
    "        writer = csv.DictWriter(f,fieldnames=headers)\n",
    "        writer.writeheader()\n",
    "        for row in data:\n",
    "            writer.writerow(row)\n",
    "\n",
    "def summary(data:list)->dict:\n",
    "    n_cols = len(data[0].keys())\n",
    "    n_rows = len(data)\n",
    "    col_names = list(data[0].keys())\n",
    "    return {'n_cols':n_cols,'n_rows':n_rows,'col_names':col_names}\n",
    "\n",
    "def dtypes(data:list)->dict:\n",
    "    row = data[1]\n",
    "    schema = {}\n",
    "    for k,v in row:\n",
    "        if type(v)!=str:\n",
    "            schema[k] = str(type(v))\n",
    "        else:\n",
    "            if v.isnumeric():\n",
    "                schema[k] = 'num'\n",
    "            else:\n",
    "                schema[k] = 'str'\n",
    "    return schema"
   ]
  },
  {
   "cell_type": "code",
   "execution_count": null,
   "id": "2d3c46d8-44e1-409f-9637-f7ee0c809364",
   "metadata": {},
   "outputs": [],
   "source": []
  }
 ],
 "metadata": {
  "kernelspec": {
   "display_name": "Python 3 (ipykernel)",
   "language": "python",
   "name": "python3"
  },
  "language_info": {
   "codemirror_mode": {
    "name": "ipython",
    "version": 3
   },
   "file_extension": ".py",
   "mimetype": "text/x-python",
   "name": "python",
   "nbconvert_exporter": "python",
   "pygments_lexer": "ipython3",
   "version": "3.9.13"
  }
 },
 "nbformat": 4,
 "nbformat_minor": 5
}
