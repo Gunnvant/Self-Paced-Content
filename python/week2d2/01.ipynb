{
 "cells": [
  {
   "cell_type": "markdown",
   "id": "0d4168dc-6f37-4977-a6ee-90967fd08d72",
   "metadata": {},
   "source": [
    "## Object Oriented Programming Motivation"
   ]
  },
  {
   "cell_type": "code",
   "execution_count": 1,
   "id": "2d3c46d8-44e1-409f-9637-f7ee0c809364",
   "metadata": {},
   "outputs": [],
   "source": [
    "from utils import read_csv, write_csv,summary, dtypes"
   ]
  },
  {
   "cell_type": "code",
   "execution_count": 2,
   "id": "a8906fd6-d34e-4bec-8e1a-65b6a1b12c32",
   "metadata": {},
   "outputs": [],
   "source": [
    "data = read_csv(\"breweries.csv\",\",\")"
   ]
  },
  {
   "cell_type": "code",
   "execution_count": 3,
   "id": "4569acc2-ad01-46df-a60e-c53225941155",
   "metadata": {},
   "outputs": [],
   "source": [
    "write_csv(\"breweries_copy.csv\",data)"
   ]
  },
  {
   "cell_type": "code",
   "execution_count": 4,
   "id": "7a66b90a-96f2-40ec-a0a3-cf194594f95f",
   "metadata": {},
   "outputs": [
    {
     "data": {
      "text/plain": [
       "{'n_cols': 16,\n",
       " 'n_rows': 8106,\n",
       " 'col_names': ['obdb_id',\n",
       "  'name',\n",
       "  'brewery_type',\n",
       "  'street',\n",
       "  'address_2',\n",
       "  'address_3',\n",
       "  'city',\n",
       "  'state',\n",
       "  'county_province',\n",
       "  'postal_code',\n",
       "  'website_url',\n",
       "  'phone',\n",
       "  'country',\n",
       "  'longitude',\n",
       "  'latitude',\n",
       "  'tags']}"
      ]
     },
     "execution_count": 4,
     "metadata": {},
     "output_type": "execute_result"
    }
   ],
   "source": [
    "summary(data)"
   ]
  },
  {
   "cell_type": "code",
   "execution_count": 5,
   "id": "dfe0aeee-dd80-4170-a673-44e7f48a32ab",
   "metadata": {},
   "outputs": [
    {
     "data": {
      "text/plain": [
       "{'obdb_id': 'str',\n",
       " 'name': 'str',\n",
       " 'brewery_type': 'str',\n",
       " 'street': 'str',\n",
       " 'address_2': 'str',\n",
       " 'address_3': 'str',\n",
       " 'city': 'str',\n",
       " 'state': 'str',\n",
       " 'county_province': 'str',\n",
       " 'postal_code': 'str',\n",
       " 'website_url': 'str',\n",
       " 'phone': 'num',\n",
       " 'country': 'str',\n",
       " 'longitude': 'str',\n",
       " 'latitude': 'str',\n",
       " 'tags': 'str'}"
      ]
     },
     "execution_count": 5,
     "metadata": {},
     "output_type": "execute_result"
    }
   ],
   "source": [
    "dtypes(data)"
   ]
  },
  {
   "cell_type": "code",
   "execution_count": 6,
   "id": "d7489dd6-9a49-4244-b40d-1a7de9a1a490",
   "metadata": {},
   "outputs": [],
   "source": [
    "from utils import IO,Dataset"
   ]
  },
  {
   "cell_type": "code",
   "execution_count": 8,
   "id": "4318a1a4-1b77-4dcd-a93a-5501d42052d8",
   "metadata": {},
   "outputs": [],
   "source": [
    "io = IO()\n",
    "data = io.read_csv(\"breweries.csv\",\",\")"
   ]
  },
  {
   "cell_type": "code",
   "execution_count": 9,
   "id": "b5abc881-725c-470b-87b4-1e4fa902fe8b",
   "metadata": {},
   "outputs": [],
   "source": [
    "io.write_csv(\"breweries_class.csv\",data)"
   ]
  },
  {
   "cell_type": "code",
   "execution_count": 10,
   "id": "12726cb7-31d9-47d0-9a63-22975e8f14eb",
   "metadata": {},
   "outputs": [],
   "source": [
    "d = Dataset(data)"
   ]
  },
  {
   "cell_type": "code",
   "execution_count": 11,
   "id": "24dd52cf-0957-4d5b-9463-79b4b26d720d",
   "metadata": {},
   "outputs": [
    {
     "data": {
      "text/plain": [
       "{'obdb_id': 'str',\n",
       " 'name': 'str',\n",
       " 'brewery_type': 'str',\n",
       " 'street': 'str',\n",
       " 'address_2': 'str',\n",
       " 'address_3': 'str',\n",
       " 'city': 'str',\n",
       " 'state': 'str',\n",
       " 'county_province': 'str',\n",
       " 'postal_code': 'str',\n",
       " 'website_url': 'str',\n",
       " 'phone': 'num',\n",
       " 'country': 'str',\n",
       " 'longitude': 'str',\n",
       " 'latitude': 'str',\n",
       " 'tags': 'str'}"
      ]
     },
     "execution_count": 11,
     "metadata": {},
     "output_type": "execute_result"
    }
   ],
   "source": [
    "d.dtypes()"
   ]
  },
  {
   "cell_type": "code",
   "execution_count": 12,
   "id": "dc79b762-4218-4643-94c8-80cafa3d3090",
   "metadata": {},
   "outputs": [
    {
     "data": {
      "text/plain": [
       "{'n_cols': 16,\n",
       " 'n_rows': 8106,\n",
       " 'col_names': ['obdb_id',\n",
       "  'name',\n",
       "  'brewery_type',\n",
       "  'street',\n",
       "  'address_2',\n",
       "  'address_3',\n",
       "  'city',\n",
       "  'state',\n",
       "  'county_province',\n",
       "  'postal_code',\n",
       "  'website_url',\n",
       "  'phone',\n",
       "  'country',\n",
       "  'longitude',\n",
       "  'latitude',\n",
       "  'tags']}"
      ]
     },
     "execution_count": 12,
     "metadata": {},
     "output_type": "execute_result"
    }
   ],
   "source": [
    "d.summary()"
   ]
  },
  {
   "cell_type": "code",
   "execution_count": null,
   "id": "2517a09d-a3ad-4d05-8f8c-929cb4a3e5f6",
   "metadata": {},
   "outputs": [],
   "source": []
  }
 ],
 "metadata": {
  "kernelspec": {
   "display_name": "Python 3 (ipykernel)",
   "language": "python",
   "name": "python3"
  },
  "language_info": {
   "codemirror_mode": {
    "name": "ipython",
    "version": 3
   },
   "file_extension": ".py",
   "mimetype": "text/x-python",
   "name": "python",
   "nbconvert_exporter": "python",
   "pygments_lexer": "ipython3",
   "version": "3.9.13"
  }
 },
 "nbformat": 4,
 "nbformat_minor": 5
}
