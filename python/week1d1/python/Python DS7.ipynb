{
 "cells": [
  {
   "cell_type": "markdown",
   "id": "14d01ef3-2165-44a2-a80a-7aa956f84e01",
   "metadata": {},
   "source": [
    "## File descriptors"
   ]
  },
  {
   "cell_type": "code",
   "execution_count": 1,
   "id": "bc3b34e8-25c9-4841-a304-4484807e5a68",
   "metadata": {},
   "outputs": [],
   "source": [
    "con = open(\"pollution_data.csv\",\"r\")"
   ]
  },
  {
   "cell_type": "code",
   "execution_count": 2,
   "id": "32214ca0-4c63-45ec-a3b6-e5349bef84fe",
   "metadata": {},
   "outputs": [],
   "source": [
    "data = con.read()\n",
    "con.close()"
   ]
  },
  {
   "cell_type": "code",
   "execution_count": 4,
   "id": "7bf2af8a-c59e-4c0d-a7f1-c728c9659680",
   "metadata": {},
   "outputs": [
    {
     "data": {
      "text/plain": [
       "'ozone,particullate_matter,carbon_monoxide,sulfure_dioxide,nitrogen_dioxide,longitude,latitude,timestamp\\n92,52,91,96,84,10.186762304229774,56.14563850929,2014-08-01 00:05:00\\n91,52,96,97,88,10.186762304229774,56.14563850929,2014-08-01 00:10:00\\n86,56,98,95,93,10.186762304229774,56.14563850929,2014-08-01 00:15:00\\n85,52,98,93,98,10.186762304229774,56.14563850929,2014-08-01 00:20:00\\n84,56,101,92,95,10.186762304229774,56.14563850929,2014-08-01 00:25:00\\n86,60,104,88,95,10.186762304229774,56.14563850929,2014-08-01 00:30:00\\n90,59,102,92,90,10.186762304229774,56.14563850929,2014-08-01 00:35:00\\n90,55,97,90,85,10.186762304229774,56.14563850929,2014-08-01 00:40:00\\n85,52,92,93,86,10.186762304229774,56.14563850929,2014-08-01 00:45:00\\n86,51,92,91,84,10.186762304229774,56.14563850929,2014-08-01 00:50:00\\n87,52,89,90,84,10.186762304229774,56.14563850929,2014-08-01 00:55:00\\n85,56,90,85,84,10.186762304229774,56.14563850929,2014-08-01 01:00:00\\n82,56,93,82,84,10.186762304229774,56.14563850929,2014-08-01 01:05'"
      ]
     },
     "execution_count": 4,
     "metadata": {},
     "output_type": "execute_result"
    }
   ],
   "source": [
    "data[0:1000]"
   ]
  },
  {
   "cell_type": "code",
   "execution_count": 5,
   "id": "64fdf99e-f937-4ecb-8993-26624c22c8e8",
   "metadata": {},
   "outputs": [],
   "source": [
    "con = open(\"pollution_data.csv\",\"r\")\n",
    "data_lines = con.readlines()\n",
    "con.close()"
   ]
  },
  {
   "cell_type": "code",
   "execution_count": 6,
   "id": "51af5c86-f0fc-40b1-818d-78f435ef9954",
   "metadata": {},
   "outputs": [
    {
     "data": {
      "text/plain": [
       "['ozone,particullate_matter,carbon_monoxide,sulfure_dioxide,nitrogen_dioxide,longitude,latitude,timestamp\\n',\n",
       " '92,52,91,96,84,10.186762304229774,56.14563850929,2014-08-01 00:05:00\\n',\n",
       " '91,52,96,97,88,10.186762304229774,56.14563850929,2014-08-01 00:10:00\\n',\n",
       " '86,56,98,95,93,10.186762304229774,56.14563850929,2014-08-01 00:15:00\\n',\n",
       " '85,52,98,93,98,10.186762304229774,56.14563850929,2014-08-01 00:20:00\\n',\n",
       " '84,56,101,92,95,10.186762304229774,56.14563850929,2014-08-01 00:25:00\\n',\n",
       " '86,60,104,88,95,10.186762304229774,56.14563850929,2014-08-01 00:30:00\\n',\n",
       " '90,59,102,92,90,10.186762304229774,56.14563850929,2014-08-01 00:35:00\\n',\n",
       " '90,55,97,90,85,10.186762304229774,56.14563850929,2014-08-01 00:40:00\\n',\n",
       " '85,52,92,93,86,10.186762304229774,56.14563850929,2014-08-01 00:45:00\\n']"
      ]
     },
     "execution_count": 6,
     "metadata": {},
     "output_type": "execute_result"
    }
   ],
   "source": [
    "data_lines[0:10]"
   ]
  },
  {
   "cell_type": "code",
   "execution_count": 7,
   "id": "f619db22-c260-4f65-be90-6fc018c05c77",
   "metadata": {},
   "outputs": [],
   "source": [
    "with open(\"pollution_data.csv\",\"r\") as f:\n",
    "    lines = f.readlines()"
   ]
  },
  {
   "cell_type": "code",
   "execution_count": 8,
   "id": "bf11db0a-1ad5-4c5a-b083-97249f5912b2",
   "metadata": {},
   "outputs": [
    {
     "data": {
      "text/plain": [
       "['ozone,particullate_matter,carbon_monoxide,sulfure_dioxide,nitrogen_dioxide,longitude,latitude,timestamp\\n',\n",
       " '92,52,91,96,84,10.186762304229774,56.14563850929,2014-08-01 00:05:00\\n',\n",
       " '91,52,96,97,88,10.186762304229774,56.14563850929,2014-08-01 00:10:00\\n',\n",
       " '86,56,98,95,93,10.186762304229774,56.14563850929,2014-08-01 00:15:00\\n',\n",
       " '85,52,98,93,98,10.186762304229774,56.14563850929,2014-08-01 00:20:00\\n',\n",
       " '84,56,101,92,95,10.186762304229774,56.14563850929,2014-08-01 00:25:00\\n',\n",
       " '86,60,104,88,95,10.186762304229774,56.14563850929,2014-08-01 00:30:00\\n',\n",
       " '90,59,102,92,90,10.186762304229774,56.14563850929,2014-08-01 00:35:00\\n',\n",
       " '90,55,97,90,85,10.186762304229774,56.14563850929,2014-08-01 00:40:00\\n',\n",
       " '85,52,92,93,86,10.186762304229774,56.14563850929,2014-08-01 00:45:00\\n']"
      ]
     },
     "execution_count": 8,
     "metadata": {},
     "output_type": "execute_result"
    }
   ],
   "source": [
    "lines[0:10]"
   ]
  },
  {
   "cell_type": "code",
   "execution_count": null,
   "id": "503216b9-9b14-40ff-a82d-6c78bbbac13c",
   "metadata": {},
   "outputs": [],
   "source": []
  }
 ],
 "metadata": {
  "kernelspec": {
   "display_name": "Python 3 (ipykernel)",
   "language": "python",
   "name": "python3"
  },
  "language_info": {
   "codemirror_mode": {
    "name": "ipython",
    "version": 3
   },
   "file_extension": ".py",
   "mimetype": "text/x-python",
   "name": "python",
   "nbconvert_exporter": "python",
   "pygments_lexer": "ipython3",
   "version": "3.9.13"
  }
 },
 "nbformat": 4,
 "nbformat_minor": 5
}
