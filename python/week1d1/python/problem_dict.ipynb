{
 "cells": [
  {
   "cell_type": "markdown",
   "id": "421b67bb-c9a8-453f-89fd-5d859ccd254f",
   "metadata": {},
   "source": [
    "## Dictionaries\n",
    "**Count the number of times each word appears in the above couplet**"
   ]
  },
  {
   "cell_type": "code",
   "execution_count": 6,
   "id": "5dcdff30-93d3-45c8-b0da-1ec463a99de6",
   "metadata": {},
   "outputs": [],
   "source": [
    "ghalib = '''\n",
    "It’s only my heart, not unfeeling stone,\n",
    "so why be dismayed when it throbs with pain?\n",
    "It was made to suffer ten thousand darts;\n",
    "why let one more torment impede us?\n",
    "\n",
    "The miracle of your absence\n",
    "is that I found myself endlessly searching for you.\n",
    "\n",
    "On the subject of mystic philosophy, Ghalib,\n",
    "your words might have struck us as deeply profound\n",
    "and we might have pronounced you a saint ...\n",
    "Yes, if only we hadn't found\n",
    "you drunk\n",
    "as a skunk!\n",
    "    \n",
    "Not the blossomings of songs nor the adornments of music:\n",
    "I am the voice of my own heart breaking.\n",
    "You toy with your long, dark curls\n",
    "while I remain captive to my dark, pensive thoughts.\n",
    "We congratulate ourselves that we two are different:\n",
    "that this weakness has not burdened us both with inchoate grief.\n",
    "Now you are here, and I find myself bowing—\n",
    "as if sadness is a blessing, and longing a sacrament.\n",
    "I am a fragment of sound rebounding;\n",
    "you are the walls impounding my echoes.\n",
    "\n",
    "All your life, O Ghalib,\n",
    "You kept repeating the same mistake:\n",
    "Your face was dirty\n",
    "But you were obsessed with cleaning the mirror!\n",
    "'''"
   ]
  },
  {
   "cell_type": "code",
   "execution_count": 10,
   "id": "9a5de617-ab37-4b95-8417-3621e085c869",
   "metadata": {},
   "outputs": [
    {
     "data": {
      "text/plain": [
       "['it’s', 'only', 'my', 'heart,', 'not', 'unfeeling', 'stone,', 'so']"
      ]
     },
     "execution_count": 10,
     "metadata": {},
     "output_type": "execute_result"
    }
   ],
   "source": [
    "ghalib.lower().split()[0:8]"
   ]
  },
  {
   "cell_type": "code",
   "execution_count": 11,
   "id": "64d0c3b5-29cb-490d-a9f7-46c817165a7b",
   "metadata": {},
   "outputs": [],
   "source": [
    "count = {}"
   ]
  },
  {
   "cell_type": "code",
   "execution_count": 12,
   "id": "db8c2ea3-3673-492e-9dc8-0bc965f6bade",
   "metadata": {},
   "outputs": [],
   "source": [
    "bow = ['the','in','the','many']"
   ]
  },
  {
   "cell_type": "code",
   "execution_count": 13,
   "id": "33b80fef-097f-4e1f-9d51-a83300f95577",
   "metadata": {},
   "outputs": [
    {
     "data": {
      "text/plain": [
       "False"
      ]
     },
     "execution_count": 13,
     "metadata": {},
     "output_type": "execute_result"
    }
   ],
   "source": [
    "##iter 1\n",
    "'the' in count"
   ]
  },
  {
   "cell_type": "code",
   "execution_count": 14,
   "id": "520380e5-cf25-4456-810f-2458da4c3932",
   "metadata": {},
   "outputs": [],
   "source": [
    "count['the']=1"
   ]
  },
  {
   "cell_type": "code",
   "execution_count": 15,
   "id": "e2f5bb0e-ea86-485d-8c08-9cec6d31c442",
   "metadata": {},
   "outputs": [
    {
     "data": {
      "text/plain": [
       "{'the': 1}"
      ]
     },
     "execution_count": 15,
     "metadata": {},
     "output_type": "execute_result"
    }
   ],
   "source": [
    "count"
   ]
  },
  {
   "cell_type": "code",
   "execution_count": 16,
   "id": "8843a741-06d1-4d30-9f5a-5ac8e4c9ddec",
   "metadata": {},
   "outputs": [
    {
     "data": {
      "text/plain": [
       "False"
      ]
     },
     "execution_count": 16,
     "metadata": {},
     "output_type": "execute_result"
    }
   ],
   "source": [
    "##iter 2\n",
    "'in' in count"
   ]
  },
  {
   "cell_type": "code",
   "execution_count": 17,
   "id": "ce56448d-8ce9-45ab-90ae-b96eeb7090b8",
   "metadata": {},
   "outputs": [],
   "source": [
    "count['in']=1"
   ]
  },
  {
   "cell_type": "code",
   "execution_count": 18,
   "id": "094764c6-fabf-4b8b-bdea-bcf27f921be8",
   "metadata": {},
   "outputs": [
    {
     "data": {
      "text/plain": [
       "{'the': 1, 'in': 1}"
      ]
     },
     "execution_count": 18,
     "metadata": {},
     "output_type": "execute_result"
    }
   ],
   "source": [
    "count"
   ]
  },
  {
   "cell_type": "code",
   "execution_count": 19,
   "id": "ed902c62-2af7-4f48-bbc9-ff1bbb70ae17",
   "metadata": {},
   "outputs": [
    {
     "data": {
      "text/plain": [
       "True"
      ]
     },
     "execution_count": 19,
     "metadata": {},
     "output_type": "execute_result"
    }
   ],
   "source": [
    "##iter3\n",
    "'the' in count"
   ]
  },
  {
   "cell_type": "code",
   "execution_count": 22,
   "id": "4ba81959-2579-4792-ac7b-de3b1c34fc0a",
   "metadata": {},
   "outputs": [],
   "source": [
    "count['the'] = count['the']+1"
   ]
  },
  {
   "cell_type": "code",
   "execution_count": 23,
   "id": "427dbba2-1f2e-44c1-9de6-abe5adb43df3",
   "metadata": {},
   "outputs": [
    {
     "data": {
      "text/plain": [
       "{'the': 2, 'in': 1}"
      ]
     },
     "execution_count": 23,
     "metadata": {},
     "output_type": "execute_result"
    }
   ],
   "source": [
    "count"
   ]
  },
  {
   "cell_type": "code",
   "execution_count": 25,
   "id": "28e6c264-92cf-4b54-8e4a-7c4c855d0adc",
   "metadata": {},
   "outputs": [],
   "source": [
    "count = {}\n",
    "for word in ghalib.lower().split():\n",
    "    if word in count:\n",
    "        count[word] = count[word]+1\n",
    "    else:\n",
    "        count[word]=1"
   ]
  },
  {
   "cell_type": "code",
   "execution_count": 26,
   "id": "59a58322-12bd-4e4f-94b0-473651485b06",
   "metadata": {},
   "outputs": [
    {
     "data": {
      "text/plain": [
       "{'it’s': 1,\n",
       " 'only': 2,\n",
       " 'my': 4,\n",
       " 'heart,': 1,\n",
       " 'not': 3,\n",
       " 'unfeeling': 1,\n",
       " 'stone,': 1,\n",
       " 'so': 1,\n",
       " 'why': 2,\n",
       " 'be': 1,\n",
       " 'dismayed': 1,\n",
       " 'when': 1,\n",
       " 'it': 2,\n",
       " 'throbs': 1,\n",
       " 'with': 4,\n",
       " 'pain?': 1,\n",
       " 'was': 2,\n",
       " 'made': 1,\n",
       " 'to': 2,\n",
       " 'suffer': 1,\n",
       " 'ten': 1,\n",
       " 'thousand': 1,\n",
       " 'darts;': 1,\n",
       " 'let': 1,\n",
       " 'one': 1,\n",
       " 'more': 1,\n",
       " 'torment': 1,\n",
       " 'impede': 1,\n",
       " 'us?': 1,\n",
       " 'the': 8,\n",
       " 'miracle': 1,\n",
       " 'of': 6,\n",
       " 'your': 5,\n",
       " 'absence': 1,\n",
       " 'is': 2,\n",
       " 'that': 3,\n",
       " 'i': 5,\n",
       " 'found': 2,\n",
       " 'myself': 2,\n",
       " 'endlessly': 1,\n",
       " 'searching': 1,\n",
       " 'for': 1,\n",
       " 'you.': 1,\n",
       " 'on': 1,\n",
       " 'subject': 1,\n",
       " 'mystic': 1,\n",
       " 'philosophy,': 1,\n",
       " 'ghalib,': 2,\n",
       " 'words': 1,\n",
       " 'might': 2,\n",
       " 'have': 2,\n",
       " 'struck': 1,\n",
       " 'us': 2,\n",
       " 'as': 3,\n",
       " 'deeply': 1,\n",
       " 'profound': 1,\n",
       " 'and': 3,\n",
       " 'we': 4,\n",
       " 'pronounced': 1,\n",
       " 'you': 7,\n",
       " 'a': 5,\n",
       " 'saint': 1,\n",
       " '...': 1,\n",
       " 'yes,': 1,\n",
       " 'if': 2,\n",
       " \"hadn't\": 1,\n",
       " 'drunk': 1,\n",
       " 'skunk!': 1,\n",
       " 'blossomings': 1,\n",
       " 'songs': 1,\n",
       " 'nor': 1,\n",
       " 'adornments': 1,\n",
       " 'music:': 1,\n",
       " 'am': 2,\n",
       " 'voice': 1,\n",
       " 'own': 1,\n",
       " 'heart': 1,\n",
       " 'breaking.': 1,\n",
       " 'toy': 1,\n",
       " 'long,': 1,\n",
       " 'dark': 1,\n",
       " 'curls': 1,\n",
       " 'while': 1,\n",
       " 'remain': 1,\n",
       " 'captive': 1,\n",
       " 'dark,': 1,\n",
       " 'pensive': 1,\n",
       " 'thoughts.': 1,\n",
       " 'congratulate': 1,\n",
       " 'ourselves': 1,\n",
       " 'two': 1,\n",
       " 'are': 3,\n",
       " 'different:': 1,\n",
       " 'this': 1,\n",
       " 'weakness': 1,\n",
       " 'has': 1,\n",
       " 'burdened': 1,\n",
       " 'both': 1,\n",
       " 'inchoate': 1,\n",
       " 'grief.': 1,\n",
       " 'now': 1,\n",
       " 'here,': 1,\n",
       " 'find': 1,\n",
       " 'bowing—': 1,\n",
       " 'sadness': 1,\n",
       " 'blessing,': 1,\n",
       " 'longing': 1,\n",
       " 'sacrament.': 1,\n",
       " 'fragment': 1,\n",
       " 'sound': 1,\n",
       " 'rebounding;': 1,\n",
       " 'walls': 1,\n",
       " 'impounding': 1,\n",
       " 'echoes.': 1,\n",
       " 'all': 1,\n",
       " 'life,': 1,\n",
       " 'o': 1,\n",
       " 'kept': 1,\n",
       " 'repeating': 1,\n",
       " 'same': 1,\n",
       " 'mistake:': 1,\n",
       " 'face': 1,\n",
       " 'dirty': 1,\n",
       " 'but': 1,\n",
       " 'were': 1,\n",
       " 'obsessed': 1,\n",
       " 'cleaning': 1,\n",
       " 'mirror!': 1}"
      ]
     },
     "execution_count": 26,
     "metadata": {},
     "output_type": "execute_result"
    }
   ],
   "source": [
    "count"
   ]
  },
  {
   "cell_type": "code",
   "execution_count": null,
   "id": "ad1dab2d-3805-4afd-9e46-4d5f67aff522",
   "metadata": {},
   "outputs": [],
   "source": []
  }
 ],
 "metadata": {
  "kernelspec": {
   "display_name": "Python 3 (ipykernel)",
   "language": "python",
   "name": "python3"
  },
  "language_info": {
   "codemirror_mode": {
    "name": "ipython",
    "version": 3
   },
   "file_extension": ".py",
   "mimetype": "text/x-python",
   "name": "python",
   "nbconvert_exporter": "python",
   "pygments_lexer": "ipython3",
   "version": "3.9.13"
  }
 },
 "nbformat": 4,
 "nbformat_minor": 5
}
