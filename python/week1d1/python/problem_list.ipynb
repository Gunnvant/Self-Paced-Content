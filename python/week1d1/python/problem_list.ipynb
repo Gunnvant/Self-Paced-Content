{
 "cells": [
  {
   "cell_type": "markdown",
   "id": "f48733d5-4f45-48b4-b2dd-1d69ae73cc8d",
   "metadata": {},
   "source": [
    "P1. Count the number of sentences in the review\n",
    "\n",
    "```python\n",
    "amazon_review = '''\n",
    "What can I say!\n",
    "SIMPLY SPECTACULAR.\n",
    "PUBG - smooth +90 FPS\n",
    "Smashing all the bench marks by some margin (140%~~)\n",
    "4 SPEAKERS are like home theatre.\n",
    "Battery backup is excellent\n",
    "Could have been better than 20 wts charger\n",
    "\n",
    "I will keep u guys posted...stay tuned\n",
    "\n",
    "'''\n",
    "```\n",
    "\n",
    "P2. Find out how many words (approximately, consider \"say!\" as one word) are there in each paragraph?\n",
    "\n",
    "```python\n",
    "dinkar = '''\n",
    "वर्षों तक वन में घूम-घूम,\n",
    "बाधा-विघ्नों को चूम-चूम,\n",
    "सह धूप-घाम, पानी-पत्थर,\n",
    "पांडव आये कुछ और निखर।\n",
    "सौभाग्य न सब दिन सोता है,\n",
    "देखें, आगे क्या होता है।\n",
    "\n",
    "मैत्री की राह बताने को,\n",
    "सबको सुमार्ग पर लाने को,\n",
    "दुर्योधन को समझाने को,\n",
    "भीषण विध्वंस बचाने को,\n",
    "भगवान् हस्तिनापुर आये,\n",
    "पांडव का संदेशा लाये।\n",
    "\n",
    "‘दो न्याय अगर तो आधा दो,\n",
    "पर, इसमें भी यदि बाधा हो,\n",
    "तो दे दो केवल पाँच ग्राम,\n",
    "रक्खो अपनी धरती तमाम।\n",
    "हम वहीं खुशी से खायेंगे,\n",
    "परिजन पर असि न उठायेंगे!\n",
    "\n",
    "दुर्योधन वह भी दे ना सका,\n",
    "आशीष समाज की ले न सका,\n",
    "उलटे, हरि को बाँधने चला,\n",
    "जो था असाध्य, साधने चला।\n",
    "जब नाश मनुज पर छाता है,\n",
    "पहले विवेक मर जाता है।\n",
    "\n",
    "हरि ने भीषण हुंकार किया,\n",
    "अपना स्वरूप-विस्तार किया,\n",
    "डगमग-डगमग दिग्गज डोले,\n",
    "भगवान् कुपित होकर बोले-\n",
    "‘जंजीर बढ़ा कर साध मुझे,\n",
    "हाँ, हाँ दुर्योधन! बाँध मुझे।\n",
    "\n",
    "यह देख, गगन मुझमें लय है,\n",
    "यह देख, पवन मुझमें लय है,\n",
    "मुझमें विलीन झंकार सकल,\n",
    "मुझमें लय है संसार सकल।\n",
    "अमरत्व फूलता है मुझमें,\n",
    "संहार झूलता है मुझमें।\n",
    "'''\n",
    "```\n"
   ]
  },
  {
   "cell_type": "code",
   "execution_count": 1,
   "id": "62715373-81a7-4cdf-8c85-3c6dda20b998",
   "metadata": {},
   "outputs": [],
   "source": [
    "amazon_review = '''\n",
    "What can I say!\n",
    "SIMPLY SPECTACULAR.\n",
    "PUBG - smooth +90 FPS\n",
    "Smashing all the bench marks by some margin (140%~~)\n",
    "4 SPEAKERS are like home theatre.\n",
    "Battery backup is excellent\n",
    "Could have been better than 20 wts charger\n",
    "\n",
    "I will keep u guys posted...stay tuned\n",
    "\n",
    "'''"
   ]
  },
  {
   "cell_type": "code",
   "execution_count": 5,
   "id": "c73bfbfa-99b0-414d-808c-02ff5aedc0ce",
   "metadata": {},
   "outputs": [
    {
     "name": "stdout",
     "output_type": "stream",
     "text": [
      "8\n"
     ]
    }
   ],
   "source": [
    "count = 0\n",
    "for sent in amazon_review.split(\"\\n\"):\n",
    "    if sent!=\"\":\n",
    "        count=count+1\n",
    "print(count)"
   ]
  },
  {
   "cell_type": "code",
   "execution_count": 6,
   "id": "200b58ec-f6e7-4802-99d1-3add643e221e",
   "metadata": {},
   "outputs": [],
   "source": [
    "dinkar = '''\n",
    "वर्षों तक वन में घूम-घूम,\n",
    "बाधा-विघ्नों को चूम-चूम,\n",
    "सह धूप-घाम, पानी-पत्थर,\n",
    "पांडव आये कुछ और निखर।\n",
    "सौभाग्य न सब दिन सोता है,\n",
    "देखें, आगे क्या होता है।\n",
    "\n",
    "मैत्री की राह बताने को,\n",
    "सबको सुमार्ग पर लाने को,\n",
    "दुर्योधन को समझाने को,\n",
    "भीषण विध्वंस बचाने को,\n",
    "भगवान् हस्तिनापुर आये,\n",
    "पांडव का संदेशा लाये।\n",
    "\n",
    "‘दो न्याय अगर तो आधा दो,\n",
    "पर, इसमें भी यदि बाधा हो,\n",
    "तो दे दो केवल पाँच ग्राम,\n",
    "रक्खो अपनी धरती तमाम।\n",
    "हम वहीं खुशी से खायेंगे,\n",
    "परिजन पर असि न उठायेंगे!\n",
    "\n",
    "दुर्योधन वह भी दे ना सका,\n",
    "आशीष समाज की ले न सका,\n",
    "उलटे, हरि को बाँधने चला,\n",
    "जो था असाध्य, साधने चला।\n",
    "जब नाश मनुज पर छाता है,\n",
    "पहले विवेक मर जाता है।\n",
    "\n",
    "हरि ने भीषण हुंकार किया,\n",
    "अपना स्वरूप-विस्तार किया,\n",
    "डगमग-डगमग दिग्गज डोले,\n",
    "भगवान् कुपित होकर बोले-\n",
    "‘जंजीर बढ़ा कर साध मुझे,\n",
    "हाँ, हाँ दुर्योधन! बाँध मुझे।\n",
    "\n",
    "यह देख, गगन मुझमें लय है,\n",
    "यह देख, पवन मुझमें लय है,\n",
    "मुझमें विलीन झंकार सकल,\n",
    "मुझमें लय है संसार सकल।\n",
    "अमरत्व फूलता है मुझमें,\n",
    "संहार झूलता है मुझमें।\n",
    "'''"
   ]
  },
  {
   "cell_type": "code",
   "execution_count": 14,
   "id": "cde8b441-e879-4233-9a15-9ca4c49315d6",
   "metadata": {},
   "outputs": [
    {
     "data": {
      "text/plain": [
       "27"
      ]
     },
     "execution_count": 14,
     "metadata": {},
     "output_type": "execute_result"
    }
   ],
   "source": [
    "len(dinkar.split(\"\\n\\n\")[0].split())"
   ]
  },
  {
   "cell_type": "code",
   "execution_count": 18,
   "id": "e76a5ab0-d892-4790-8e3a-577507999e1e",
   "metadata": {},
   "outputs": [],
   "source": [
    "counts = []\n",
    "for para in dinkar.split(\"\\n\\n\"):\n",
    "    C = len(para.split())\n",
    "    counts.append(C)"
   ]
  },
  {
   "cell_type": "code",
   "execution_count": 19,
   "id": "4d295d98-6cd4-4329-af7e-a4e6458030e4",
   "metadata": {},
   "outputs": [
    {
     "data": {
      "text/plain": [
       "[27, 25, 32, 33, 25, 29]"
      ]
     },
     "execution_count": 19,
     "metadata": {},
     "output_type": "execute_result"
    }
   ],
   "source": [
    "counts"
   ]
  },
  {
   "cell_type": "code",
   "execution_count": null,
   "id": "202996b1-d0b2-4e40-b283-ec725a6b0906",
   "metadata": {},
   "outputs": [],
   "source": []
  }
 ],
 "metadata": {
  "kernelspec": {
   "display_name": "Python 3 (ipykernel)",
   "language": "python",
   "name": "python3"
  },
  "language_info": {
   "codemirror_mode": {
    "name": "ipython",
    "version": 3
   },
   "file_extension": ".py",
   "mimetype": "text/x-python",
   "name": "python",
   "nbconvert_exporter": "python",
   "pygments_lexer": "ipython3",
   "version": "3.9.13"
  }
 },
 "nbformat": 4,
 "nbformat_minor": 5
}
