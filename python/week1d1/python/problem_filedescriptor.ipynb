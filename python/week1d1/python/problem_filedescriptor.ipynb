{
 "cells": [
  {
   "cell_type": "markdown",
   "id": "471f5d12-381d-4045-ac33-204d5a8516ce",
   "metadata": {},
   "source": [
    "## File descriptor\n",
    "Use the file `pollution_data.csv` and find out\n",
    "\n",
    "**How many times the ozone measurements were greater than 70**"
   ]
  },
  {
   "cell_type": "code",
   "execution_count": 1,
   "id": "86cb47b4-829f-40aa-a9f3-d87fe3c7d406",
   "metadata": {},
   "outputs": [],
   "source": [
    "with open(\"pollution_data.csv\",\"r\") as f:\n",
    "    data = f.readlines()"
   ]
  },
  {
   "cell_type": "code",
   "execution_count": 10,
   "id": "03bd5c07-b38e-41e1-89dc-602271027232",
   "metadata": {},
   "outputs": [
    {
     "data": {
      "text/plain": [
       "False"
      ]
     },
     "execution_count": 10,
     "metadata": {},
     "output_type": "execute_result"
    }
   ],
   "source": [
    "float(data[110].split(\",\")[0])>70"
   ]
  },
  {
   "cell_type": "code",
   "execution_count": 13,
   "id": "cd2a7cdf-20fb-403e-b992-3ecbbaf8d49a",
   "metadata": {},
   "outputs": [
    {
     "data": {
      "text/plain": [
       "['52',\n",
       " '94',\n",
       " '105',\n",
       " '72',\n",
       " '74',\n",
       " '10.186762304229774',\n",
       " '56.14563850929',\n",
       " '2014-08-01 09:10:00\\n']"
      ]
     },
     "execution_count": 13,
     "metadata": {},
     "output_type": "execute_result"
    }
   ],
   "source": [
    "data[110].split(\",\")"
   ]
  },
  {
   "cell_type": "code",
   "execution_count": 14,
   "id": "7553957e-3305-40be-8c33-0c4a9f43cead",
   "metadata": {},
   "outputs": [],
   "source": [
    "count = 0\n",
    "for row in data[1:]:\n",
    "    if float(row.split(\",\")[0])>70:\n",
    "        count = count+1"
   ]
  },
  {
   "cell_type": "code",
   "execution_count": 15,
   "id": "7b6c383b-ca71-4a93-99fb-962ab1549f87",
   "metadata": {},
   "outputs": [
    {
     "data": {
      "text/plain": [
       "9731"
      ]
     },
     "execution_count": 15,
     "metadata": {},
     "output_type": "execute_result"
    }
   ],
   "source": [
    "count"
   ]
  },
  {
   "cell_type": "code",
   "execution_count": null,
   "id": "4d12f045-f1f0-49ea-8a78-7164ef1f9cb5",
   "metadata": {},
   "outputs": [],
   "source": []
  }
 ],
 "metadata": {
  "kernelspec": {
   "display_name": "Python 3 (ipykernel)",
   "language": "python",
   "name": "python3"
  },
  "language_info": {
   "codemirror_mode": {
    "name": "ipython",
    "version": 3
   },
   "file_extension": ".py",
   "mimetype": "text/x-python",
   "name": "python",
   "nbconvert_exporter": "python",
   "pygments_lexer": "ipython3",
   "version": "3.9.13"
  }
 },
 "nbformat": 4,
 "nbformat_minor": 5
}
