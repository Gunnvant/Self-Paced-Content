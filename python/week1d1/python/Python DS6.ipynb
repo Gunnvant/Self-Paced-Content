{
 "cells": [
  {
   "cell_type": "markdown",
   "id": "4ed91f54-4d8f-4ef0-b03b-d8aa8a551b52",
   "metadata": {},
   "source": [
    "## Dictionary"
   ]
  },
  {
   "cell_type": "code",
   "execution_count": 1,
   "id": "133b774d-a3d7-40ec-b87d-0c7ea26860fc",
   "metadata": {},
   "outputs": [],
   "source": [
    "l1 = [1,2,'a','c',5]"
   ]
  },
  {
   "cell_type": "code",
   "execution_count": 2,
   "id": "e6e67251-8001-408d-983a-a8bb5eec13b7",
   "metadata": {},
   "outputs": [
    {
     "data": {
      "text/plain": [
       "1"
      ]
     },
     "execution_count": 2,
     "metadata": {},
     "output_type": "execute_result"
    }
   ],
   "source": [
    "l1[0]"
   ]
  },
  {
   "cell_type": "code",
   "execution_count": 3,
   "id": "c12d839a-e37c-46cf-9eae-ae11ad34f50d",
   "metadata": {},
   "outputs": [
    {
     "data": {
      "text/plain": [
       "'a'"
      ]
     },
     "execution_count": 3,
     "metadata": {},
     "output_type": "execute_result"
    }
   ],
   "source": [
    "l1[2]"
   ]
  },
  {
   "cell_type": "code",
   "execution_count": 4,
   "id": "17b6b4c9-2e69-44b8-9217-8e5fbb868f0e",
   "metadata": {},
   "outputs": [],
   "source": [
    "d = {'name':'a','age':23,'previous_orgs':['abc','def']}"
   ]
  },
  {
   "cell_type": "code",
   "execution_count": 5,
   "id": "89877e6c-a1f4-4b95-a9ba-01e3bac69b9c",
   "metadata": {},
   "outputs": [
    {
     "data": {
      "text/plain": [
       "{'name': 'a', 'age': 23, 'previous_orgs': ['abc', 'def']}"
      ]
     },
     "execution_count": 5,
     "metadata": {},
     "output_type": "execute_result"
    }
   ],
   "source": [
    "d"
   ]
  },
  {
   "cell_type": "code",
   "execution_count": 6,
   "id": "59440382-910d-4818-89e2-f3e71b42f0e1",
   "metadata": {},
   "outputs": [
    {
     "ename": "KeyError",
     "evalue": "0",
     "output_type": "error",
     "traceback": [
      "\u001b[0;31m---------------------------------------------------------------------------\u001b[0m",
      "\u001b[0;31mKeyError\u001b[0m                                  Traceback (most recent call last)",
      "Input \u001b[0;32mIn [6]\u001b[0m, in \u001b[0;36m<cell line: 1>\u001b[0;34m()\u001b[0m\n\u001b[0;32m----> 1\u001b[0m \u001b[43md\u001b[49m\u001b[43m[\u001b[49m\u001b[38;5;241;43m0\u001b[39;49m\u001b[43m]\u001b[49m\n",
      "\u001b[0;31mKeyError\u001b[0m: 0"
     ]
    }
   ],
   "source": [
    "d[0]"
   ]
  },
  {
   "cell_type": "code",
   "execution_count": 7,
   "id": "00954f98-aee0-41b9-a8cf-a94ba3813712",
   "metadata": {},
   "outputs": [
    {
     "data": {
      "text/plain": [
       "['abc', 'def']"
      ]
     },
     "execution_count": 7,
     "metadata": {},
     "output_type": "execute_result"
    }
   ],
   "source": [
    "d['previous_orgs']"
   ]
  },
  {
   "cell_type": "code",
   "execution_count": 8,
   "id": "2a6638dd-ab42-4724-8cff-5e50eb1ee950",
   "metadata": {},
   "outputs": [
    {
     "name": "stdout",
     "output_type": "stream",
     "text": [
      "name\n",
      "age\n",
      "previous_orgs\n"
     ]
    }
   ],
   "source": [
    "for i in d:\n",
    "    print(i)"
   ]
  },
  {
   "cell_type": "code",
   "execution_count": 9,
   "id": "be9ac9ce-5ffa-43f0-aa93-36cbda018206",
   "metadata": {},
   "outputs": [
    {
     "name": "stdout",
     "output_type": "stream",
     "text": [
      "name a\n",
      "age 23\n",
      "previous_orgs ['abc', 'def']\n"
     ]
    }
   ],
   "source": [
    "for i in d:\n",
    "    print(i,d[i])"
   ]
  },
  {
   "cell_type": "code",
   "execution_count": 10,
   "id": "bb8bdfac-bca8-45bb-95ad-0162446ba4fa",
   "metadata": {},
   "outputs": [
    {
     "data": {
      "text/plain": [
       "{'name': 'a', 'age': 23, 'previous_orgs': ['abc', 'def']}"
      ]
     },
     "execution_count": 10,
     "metadata": {},
     "output_type": "execute_result"
    }
   ],
   "source": [
    "d"
   ]
  },
  {
   "cell_type": "code",
   "execution_count": 11,
   "id": "3e1d6369-8a49-4fa8-8fae-cd403c8f33ea",
   "metadata": {},
   "outputs": [],
   "source": [
    "d['income']=80000"
   ]
  },
  {
   "cell_type": "code",
   "execution_count": 12,
   "id": "4db1b7c3-6150-433c-b15f-e97dde918270",
   "metadata": {},
   "outputs": [
    {
     "data": {
      "text/plain": [
       "{'name': 'a', 'age': 23, 'previous_orgs': ['abc', 'def'], 'income': 80000}"
      ]
     },
     "execution_count": 12,
     "metadata": {},
     "output_type": "execute_result"
    }
   ],
   "source": [
    "d"
   ]
  },
  {
   "cell_type": "code",
   "execution_count": 13,
   "id": "d9ee28a4-17eb-40e9-b315-08f087ca077d",
   "metadata": {},
   "outputs": [
    {
     "data": {
      "text/plain": [
       "True"
      ]
     },
     "execution_count": 13,
     "metadata": {},
     "output_type": "execute_result"
    }
   ],
   "source": [
    "\"income\" in d"
   ]
  },
  {
   "cell_type": "code",
   "execution_count": 14,
   "id": "0bf172e3-13a9-4d78-b5f5-9f88d449f832",
   "metadata": {},
   "outputs": [
    {
     "data": {
      "text/plain": [
       "False"
      ]
     },
     "execution_count": 14,
     "metadata": {},
     "output_type": "execute_result"
    }
   ],
   "source": [
    "\"nationality\" in d"
   ]
  },
  {
   "cell_type": "code",
   "execution_count": null,
   "id": "b6545f82-0159-4d7c-a960-5e6599f8f1e0",
   "metadata": {},
   "outputs": [],
   "source": []
  }
 ],
 "metadata": {
  "kernelspec": {
   "display_name": "Python 3 (ipykernel)",
   "language": "python",
   "name": "python3"
  },
  "language_info": {
   "codemirror_mode": {
    "name": "ipython",
    "version": 3
   },
   "file_extension": ".py",
   "mimetype": "text/x-python",
   "name": "python",
   "nbconvert_exporter": "python",
   "pygments_lexer": "ipython3",
   "version": "3.9.13"
  }
 },
 "nbformat": 4,
 "nbformat_minor": 5
}
