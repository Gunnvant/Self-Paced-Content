{
 "cells": [
  {
   "cell_type": "markdown",
   "id": "e684e568-26ee-49e9-89b9-366fbd0eb17b",
   "metadata": {},
   "source": [
    "### Credit Card Transactions in India\n",
    "\n",
    "This dataset contains information about the credit card transactions in India. The data has the following schema:\n",
    "\n",
    "- City\tThe city in which the transaction took place. (String)\n",
    "- Date\tThe date of the transaction. (Date)\n",
    "- Card Type\tThe type of credit card used for the transaction. (String)\n",
    "- Exp Type\tThe type of expense associated with the transaction. (String)\n",
    "- Gender\tThe gender of the cardholder. (String)\n",
    "- Amount\tThe amount of the transaction. (Number)"
   ]
  },
  {
   "cell_type": "code",
   "execution_count": 1,
   "id": "807fc46d-0703-44b5-af4b-d3e45380aebd",
   "metadata": {},
   "outputs": [],
   "source": [
    "import pandas as pd\n",
    "df = pd.read_csv('./data/cc_transactions.csv')"
   ]
  },
  {
   "cell_type": "code",
   "execution_count": 2,
   "id": "0e4d3fb9-3897-468b-813b-9dc265f059e7",
   "metadata": {},
   "outputs": [
    {
     "data": {
      "text/html": [
       "<div>\n",
       "<style scoped>\n",
       "    .dataframe tbody tr th:only-of-type {\n",
       "        vertical-align: middle;\n",
       "    }\n",
       "\n",
       "    .dataframe tbody tr th {\n",
       "        vertical-align: top;\n",
       "    }\n",
       "\n",
       "    .dataframe thead th {\n",
       "        text-align: right;\n",
       "    }\n",
       "</style>\n",
       "<table border=\"1\" class=\"dataframe\">\n",
       "  <thead>\n",
       "    <tr style=\"text-align: right;\">\n",
       "      <th></th>\n",
       "      <th>index</th>\n",
       "      <th>City</th>\n",
       "      <th>Date</th>\n",
       "      <th>Card Type</th>\n",
       "      <th>Exp Type</th>\n",
       "      <th>Gender</th>\n",
       "      <th>Amount</th>\n",
       "    </tr>\n",
       "  </thead>\n",
       "  <tbody>\n",
       "    <tr>\n",
       "      <th>0</th>\n",
       "      <td>0</td>\n",
       "      <td>Delhi, India</td>\n",
       "      <td>29-Oct-14</td>\n",
       "      <td>Gold</td>\n",
       "      <td>Bills</td>\n",
       "      <td>F</td>\n",
       "      <td>82475</td>\n",
       "    </tr>\n",
       "    <tr>\n",
       "      <th>1</th>\n",
       "      <td>1</td>\n",
       "      <td>Greater Mumbai, India</td>\n",
       "      <td>22-Aug-14</td>\n",
       "      <td>Platinum</td>\n",
       "      <td>Bills</td>\n",
       "      <td>F</td>\n",
       "      <td>32555</td>\n",
       "    </tr>\n",
       "  </tbody>\n",
       "</table>\n",
       "</div>"
      ],
      "text/plain": [
       "   index                   City       Date Card Type Exp Type Gender  Amount\n",
       "0      0           Delhi, India  29-Oct-14      Gold    Bills      F   82475\n",
       "1      1  Greater Mumbai, India  22-Aug-14  Platinum    Bills      F   32555"
      ]
     },
     "execution_count": 2,
     "metadata": {},
     "output_type": "execute_result"
    }
   ],
   "source": [
    "df.head(2)"
   ]
  },
  {
   "cell_type": "markdown",
   "id": "ebe463e6-762b-425a-9e0f-daf153f0293f",
   "metadata": {},
   "source": [
    "Q1. Use the dataset `./data/cc_transactions.csv` to find out the following:\n",
    "- The number of transactions that have happened on each day of week across month and years.\n",
    "- From the above find out the average number of transactions per day of week\n",
    "- Now use an appropriate probability distribution to compute the Probability of seeing upto 190 transactions"
   ]
  },
  {
   "cell_type": "code",
   "execution_count": 3,
   "id": "7876c79e-8da0-47e5-8b67-1b0cdbef42c5",
   "metadata": {},
   "outputs": [],
   "source": [
    "df['Date']=pd.to_datetime(df.Date)\n",
    "df['Month'] = df['Date'].dt.month\n",
    "df['Dow'] = df['Date'].dt.dayofweek\n",
    "df['Year'] = df['Date'].dt.year"
   ]
  },
  {
   "cell_type": "markdown",
   "id": "1d293cdf-0541-44de-9e47-e0af84d5b55d",
   "metadata": {},
   "source": [
    "**The number of transactions that have happened on each day of week across month and years**"
   ]
  },
  {
   "cell_type": "code",
   "execution_count": 4,
   "id": "92f2951a-b331-45e2-8d11-edfe363cc4aa",
   "metadata": {},
   "outputs": [
    {
     "data": {
      "text/html": [
       "<div>\n",
       "<style scoped>\n",
       "    .dataframe tbody tr th:only-of-type {\n",
       "        vertical-align: middle;\n",
       "    }\n",
       "\n",
       "    .dataframe tbody tr th {\n",
       "        vertical-align: top;\n",
       "    }\n",
       "\n",
       "    .dataframe thead th {\n",
       "        text-align: right;\n",
       "    }\n",
       "</style>\n",
       "<table border=\"1\" class=\"dataframe\">\n",
       "  <thead>\n",
       "    <tr style=\"text-align: right;\">\n",
       "      <th></th>\n",
       "      <th></th>\n",
       "      <th></th>\n",
       "      <th>Date</th>\n",
       "    </tr>\n",
       "    <tr>\n",
       "      <th>Year</th>\n",
       "      <th>Month</th>\n",
       "      <th>Dow</th>\n",
       "      <th></th>\n",
       "    </tr>\n",
       "  </thead>\n",
       "  <tbody>\n",
       "    <tr>\n",
       "      <th rowspan=\"5\" valign=\"top\">2013</th>\n",
       "      <th rowspan=\"5\" valign=\"top\">10</th>\n",
       "      <th>0</th>\n",
       "      <td>165</td>\n",
       "    </tr>\n",
       "    <tr>\n",
       "      <th>1</th>\n",
       "      <td>185</td>\n",
       "    </tr>\n",
       "    <tr>\n",
       "      <th>2</th>\n",
       "      <td>201</td>\n",
       "    </tr>\n",
       "    <tr>\n",
       "      <th>3</th>\n",
       "      <td>181</td>\n",
       "    </tr>\n",
       "    <tr>\n",
       "      <th>4</th>\n",
       "      <td>196</td>\n",
       "    </tr>\n",
       "    <tr>\n",
       "      <th>...</th>\n",
       "      <th>...</th>\n",
       "      <th>...</th>\n",
       "      <td>...</td>\n",
       "    </tr>\n",
       "    <tr>\n",
       "      <th rowspan=\"5\" valign=\"top\">2015</th>\n",
       "      <th rowspan=\"5\" valign=\"top\">5</th>\n",
       "      <th>2</th>\n",
       "      <td>137</td>\n",
       "    </tr>\n",
       "    <tr>\n",
       "      <th>3</th>\n",
       "      <td>139</td>\n",
       "    </tr>\n",
       "    <tr>\n",
       "      <th>4</th>\n",
       "      <td>151</td>\n",
       "    </tr>\n",
       "    <tr>\n",
       "      <th>5</th>\n",
       "      <td>174</td>\n",
       "    </tr>\n",
       "    <tr>\n",
       "      <th>6</th>\n",
       "      <td>179</td>\n",
       "    </tr>\n",
       "  </tbody>\n",
       "</table>\n",
       "<p>140 rows × 1 columns</p>\n",
       "</div>"
      ],
      "text/plain": [
       "                Date\n",
       "Year Month Dow      \n",
       "2013 10    0     165\n",
       "           1     185\n",
       "           2     201\n",
       "           3     181\n",
       "           4     196\n",
       "...              ...\n",
       "2015 5     2     137\n",
       "           3     139\n",
       "           4     151\n",
       "           5     174\n",
       "           6     179\n",
       "\n",
       "[140 rows x 1 columns]"
      ]
     },
     "execution_count": 4,
     "metadata": {},
     "output_type": "execute_result"
    }
   ],
   "source": [
    "df.groupby(['Year','Month','Dow']).agg({'Date':'count'})"
   ]
  },
  {
   "cell_type": "markdown",
   "id": "3210d2f4-d24f-4bd6-8876-75f31e7aeb97",
   "metadata": {},
   "source": [
    "**From the above find out the average number of transactions per day of week**"
   ]
  },
  {
   "cell_type": "code",
   "execution_count": 5,
   "id": "468715c9-6594-4096-bead-4cce7ff6eae0",
   "metadata": {},
   "outputs": [
    {
     "data": {
      "text/plain": [
       "Date    186.0\n",
       "dtype: float64"
      ]
     },
     "execution_count": 5,
     "metadata": {},
     "output_type": "execute_result"
    }
   ],
   "source": [
    "df.groupby(['Year','Month','Dow']).agg({'Date':'count'}).mean().round()"
   ]
  },
  {
   "cell_type": "markdown",
   "id": "a8411ca3-17bd-438a-8d0a-f2dbfc8121d7",
   "metadata": {},
   "source": [
    "**Now use an appropriate probability distribution to compute the Probability of seeing upto 190 transactions**"
   ]
  },
  {
   "cell_type": "code",
   "execution_count": 6,
   "id": "5e800edb-6408-4461-aa00-4a25bdc5af65",
   "metadata": {},
   "outputs": [],
   "source": [
    "from scipy.stats import binom, poisson"
   ]
  },
  {
   "cell_type": "code",
   "execution_count": 7,
   "id": "701e44a8-e2fb-4081-9e62-9c17e4edfa66",
   "metadata": {},
   "outputs": [
    {
     "data": {
      "text/plain": [
       "0.6333797603939718"
      ]
     },
     "execution_count": 7,
     "metadata": {},
     "output_type": "execute_result"
    }
   ],
   "source": [
    "poisson.cdf(190,186)"
   ]
  },
  {
   "cell_type": "markdown",
   "id": "b9a2a2ee-01e8-467d-9229-efb92b2248e4",
   "metadata": {},
   "source": [
    "Q2. Use the dataset `./data/cc_transactions.csv` to answer the following:\n",
    "- The number of transactions that have happened on each day of week across month and years when the card type was **Gold**\n",
    "- From the above find out the average number of transactions per day of week\n",
    "- Now use an appropriate probability distribution to compute the Probability of seeing upto 70 transactions"
   ]
  },
  {
   "cell_type": "markdown",
   "id": "ace18516-b22f-4031-9e32-933908e72166",
   "metadata": {},
   "source": [
    "**The number of transactions that have happened on each day of week across month and years when the card type was Gold**"
   ]
  },
  {
   "cell_type": "code",
   "execution_count": 8,
   "id": "7fe69935-d4a0-4012-b499-b7917edffa0b",
   "metadata": {},
   "outputs": [
    {
     "data": {
      "text/html": [
       "<div>\n",
       "<style scoped>\n",
       "    .dataframe tbody tr th:only-of-type {\n",
       "        vertical-align: middle;\n",
       "    }\n",
       "\n",
       "    .dataframe tbody tr th {\n",
       "        vertical-align: top;\n",
       "    }\n",
       "\n",
       "    .dataframe thead th {\n",
       "        text-align: right;\n",
       "    }\n",
       "</style>\n",
       "<table border=\"1\" class=\"dataframe\">\n",
       "  <thead>\n",
       "    <tr style=\"text-align: right;\">\n",
       "      <th></th>\n",
       "      <th></th>\n",
       "      <th></th>\n",
       "      <th>Date</th>\n",
       "    </tr>\n",
       "    <tr>\n",
       "      <th>Year</th>\n",
       "      <th>Month</th>\n",
       "      <th>Dow</th>\n",
       "      <th></th>\n",
       "    </tr>\n",
       "  </thead>\n",
       "  <tbody>\n",
       "    <tr>\n",
       "      <th rowspan=\"5\" valign=\"top\">2013</th>\n",
       "      <th rowspan=\"5\" valign=\"top\">10</th>\n",
       "      <th>0</th>\n",
       "      <td>36</td>\n",
       "    </tr>\n",
       "    <tr>\n",
       "      <th>1</th>\n",
       "      <td>44</td>\n",
       "    </tr>\n",
       "    <tr>\n",
       "      <th>2</th>\n",
       "      <td>46</td>\n",
       "    </tr>\n",
       "    <tr>\n",
       "      <th>3</th>\n",
       "      <td>35</td>\n",
       "    </tr>\n",
       "    <tr>\n",
       "      <th>4</th>\n",
       "      <td>55</td>\n",
       "    </tr>\n",
       "    <tr>\n",
       "      <th>...</th>\n",
       "      <th>...</th>\n",
       "      <th>...</th>\n",
       "      <td>...</td>\n",
       "    </tr>\n",
       "    <tr>\n",
       "      <th rowspan=\"5\" valign=\"top\">2015</th>\n",
       "      <th rowspan=\"5\" valign=\"top\">5</th>\n",
       "      <th>2</th>\n",
       "      <td>33</td>\n",
       "    </tr>\n",
       "    <tr>\n",
       "      <th>3</th>\n",
       "      <td>30</td>\n",
       "    </tr>\n",
       "    <tr>\n",
       "      <th>4</th>\n",
       "      <td>37</td>\n",
       "    </tr>\n",
       "    <tr>\n",
       "      <th>5</th>\n",
       "      <td>44</td>\n",
       "    </tr>\n",
       "    <tr>\n",
       "      <th>6</th>\n",
       "      <td>37</td>\n",
       "    </tr>\n",
       "  </tbody>\n",
       "</table>\n",
       "<p>140 rows × 1 columns</p>\n",
       "</div>"
      ],
      "text/plain": [
       "                Date\n",
       "Year Month Dow      \n",
       "2013 10    0      36\n",
       "           1      44\n",
       "           2      46\n",
       "           3      35\n",
       "           4      55\n",
       "...              ...\n",
       "2015 5     2      33\n",
       "           3      30\n",
       "           4      37\n",
       "           5      44\n",
       "           6      37\n",
       "\n",
       "[140 rows x 1 columns]"
      ]
     },
     "execution_count": 8,
     "metadata": {},
     "output_type": "execute_result"
    }
   ],
   "source": [
    "df[df['Card Type']=='Gold'].groupby(['Year','Month','Dow']).agg({'Date':'count'})"
   ]
  },
  {
   "cell_type": "markdown",
   "id": "eb4dbdd3-4f6f-4610-9780-f899aa588613",
   "metadata": {},
   "source": [
    "**From the above find out the average number of transactions per day of week**"
   ]
  },
  {
   "cell_type": "code",
   "execution_count": 9,
   "id": "0374a7c8-1efd-4837-9868-b8eae59e4108",
   "metadata": {},
   "outputs": [
    {
     "data": {
      "text/plain": [
       "Date    45.0\n",
       "dtype: float64"
      ]
     },
     "execution_count": 9,
     "metadata": {},
     "output_type": "execute_result"
    }
   ],
   "source": [
    "df[df['Card Type']=='Gold'].groupby(['Year','Month','Dow']).agg({'Date':'count'}).mean().round()"
   ]
  },
  {
   "cell_type": "markdown",
   "id": "651b94cc-345d-41ca-876c-057cf41e23d0",
   "metadata": {},
   "source": [
    "**Now use an appropriate probability distribution to compute the Probability of seeing upto 70 transactions**"
   ]
  },
  {
   "cell_type": "code",
   "execution_count": 10,
   "id": "5fb30ccb-0752-4fea-b1dc-5292435f90fd",
   "metadata": {},
   "outputs": [
    {
     "data": {
      "text/plain": [
       "0.9997925314710944"
      ]
     },
     "execution_count": 10,
     "metadata": {},
     "output_type": "execute_result"
    }
   ],
   "source": [
    "poisson.cdf(70,45)"
   ]
  },
  {
   "cell_type": "markdown",
   "id": "deb1c70e-76d9-4ce0-a01d-efcec1773973",
   "metadata": {},
   "source": [
    "Q3. In a survey of 60 universities across the country it was observed that there were only 10 universities which had courses on quantum computing. If you randomly survey 15 universities, what is the probability that more than 8 will have a course on quantum computing?"
   ]
  },
  {
   "cell_type": "code",
   "execution_count": 14,
   "id": "c3577213-a214-4e44-8291-37eb26f0e6a3",
   "metadata": {},
   "outputs": [
    {
     "data": {
      "text/plain": [
       "0.00018822421792097366"
      ]
     },
     "execution_count": 14,
     "metadata": {},
     "output_type": "execute_result"
    }
   ],
   "source": [
    "num_trials = 15\n",
    "prob_success = 10/60\n",
    "num_successes = 8\n",
    "1 - binom.cdf(num_successes,num_trials,prob_success)"
   ]
  },
  {
   "cell_type": "markdown",
   "id": "4aa5abdc-0bfc-48aa-b221-cb6b7521438e",
   "metadata": {},
   "source": [
    "Q4. A Bengali Sweet restaurant is very famous for it’s Gulab Jamun .Now one day the owner\n",
    "claimed that 60% of customers like the sweet from his restaurant.If 20 customers were sampled\n",
    "randomly. What is the probability that 5 would like the sweet.your answer should be\n",
    "round to 3."
   ]
  },
  {
   "cell_type": "code",
   "execution_count": 16,
   "id": "d84dd5b9-a82e-482c-82d5-8e1ec801f69d",
   "metadata": {},
   "outputs": [
    {
     "data": {
      "text/plain": [
       "0.034"
      ]
     },
     "execution_count": 16,
     "metadata": {},
     "output_type": "execute_result"
    }
   ],
   "source": [
    "num_trails = 20\n",
    "prob_success = 0.60\n",
    "num_successes = 5\n",
    "round(binom.cdf(num_successes,num_trials,prob_success),3)"
   ]
  },
  {
   "cell_type": "markdown",
   "id": "71ed2f15-ef4d-4ed3-944f-2e738f06c499",
   "metadata": {},
   "source": [
    "Q5. Use the dataset `./data/bakery_sales.csv`. Find out the probability that out of 40 transactions, atleast 12 will be where a baguette is sold?"
   ]
  },
  {
   "cell_type": "code",
   "execution_count": 24,
   "id": "cda98b2d-73d3-4bdd-a252-8cbe7c3a393d",
   "metadata": {},
   "outputs": [
    {
     "data": {
      "text/html": [
       "<div>\n",
       "<style scoped>\n",
       "    .dataframe tbody tr th:only-of-type {\n",
       "        vertical-align: middle;\n",
       "    }\n",
       "\n",
       "    .dataframe tbody tr th {\n",
       "        vertical-align: top;\n",
       "    }\n",
       "\n",
       "    .dataframe thead th {\n",
       "        text-align: right;\n",
       "    }\n",
       "</style>\n",
       "<table border=\"1\" class=\"dataframe\">\n",
       "  <thead>\n",
       "    <tr style=\"text-align: right;\">\n",
       "      <th></th>\n",
       "      <th>Unnamed: 0</th>\n",
       "      <th>date</th>\n",
       "      <th>time</th>\n",
       "      <th>ticket_number</th>\n",
       "      <th>article</th>\n",
       "      <th>Quantity</th>\n",
       "      <th>unit_price</th>\n",
       "    </tr>\n",
       "  </thead>\n",
       "  <tbody>\n",
       "    <tr>\n",
       "      <th>0</th>\n",
       "      <td>0</td>\n",
       "      <td>2021-01-02</td>\n",
       "      <td>08:38</td>\n",
       "      <td>150040.0</td>\n",
       "      <td>BAGUETTE</td>\n",
       "      <td>1.0</td>\n",
       "      <td>0,90 €</td>\n",
       "    </tr>\n",
       "    <tr>\n",
       "      <th>1</th>\n",
       "      <td>1</td>\n",
       "      <td>2021-01-02</td>\n",
       "      <td>08:38</td>\n",
       "      <td>150040.0</td>\n",
       "      <td>PAIN AU CHOCOLAT</td>\n",
       "      <td>3.0</td>\n",
       "      <td>1,20 €</td>\n",
       "    </tr>\n",
       "  </tbody>\n",
       "</table>\n",
       "</div>"
      ],
      "text/plain": [
       "   Unnamed: 0        date   time  ticket_number           article  Quantity  \\\n",
       "0           0  2021-01-02  08:38       150040.0          BAGUETTE       1.0   \n",
       "1           1  2021-01-02  08:38       150040.0  PAIN AU CHOCOLAT       3.0   \n",
       "\n",
       "  unit_price  \n",
       "0     0,90 €  \n",
       "1     1,20 €  "
      ]
     },
     "execution_count": 24,
     "metadata": {},
     "output_type": "execute_result"
    }
   ],
   "source": [
    "df2 = pd.read_csv(\"./data/bakery_sales.csv\")\n",
    "df2.head(2)"
   ]
  },
  {
   "cell_type": "code",
   "execution_count": 25,
   "id": "9dc239c8-a0b8-4ad1-a750-2c4a92246b2e",
   "metadata": {},
   "outputs": [
    {
     "data": {
      "text/plain": [
       "15292"
      ]
     },
     "execution_count": 25,
     "metadata": {},
     "output_type": "execute_result"
    }
   ],
   "source": [
    "df2[df2['article']=='BAGUETTE'].shape[0]"
   ]
  },
  {
   "cell_type": "code",
   "execution_count": 26,
   "id": "1670c648-a460-4da5-b6ed-915dc8c86747",
   "metadata": {},
   "outputs": [
    {
     "data": {
      "text/plain": [
       "234005"
      ]
     },
     "execution_count": 26,
     "metadata": {},
     "output_type": "execute_result"
    }
   ],
   "source": [
    "df2.shape[0]"
   ]
  },
  {
   "cell_type": "code",
   "execution_count": 27,
   "id": "03bed649-9023-45cf-848a-a2a44858b04d",
   "metadata": {},
   "outputs": [
    {
     "data": {
      "text/plain": [
       "0.06534903100361103"
      ]
     },
     "execution_count": 27,
     "metadata": {},
     "output_type": "execute_result"
    }
   ],
   "source": [
    "15292/234005"
   ]
  },
  {
   "cell_type": "code",
   "execution_count": 28,
   "id": "879ac8aa-9f22-458e-b6d2-6525b47e4d75",
   "metadata": {},
   "outputs": [
    {
     "data": {
      "text/plain": [
       "5.994646452900376e-06"
      ]
     },
     "execution_count": 28,
     "metadata": {},
     "output_type": "execute_result"
    }
   ],
   "source": [
    "num_trials = 40\n",
    "prob_success = 15292/234005\n",
    "num_successes = 11 ## (Atleast 12 = P(X>=12)=1 - P(X<=11)\n",
    "1 - binom.cdf(num_successes,num_trials,prob_success)"
   ]
  },
  {
   "cell_type": "code",
   "execution_count": null,
   "id": "209416fb-47d5-4e68-8adc-37a9e41969f2",
   "metadata": {},
   "outputs": [],
   "source": []
  }
 ],
 "metadata": {
  "kernelspec": {
   "display_name": "Python 3 (ipykernel)",
   "language": "python",
   "name": "python3"
  },
  "language_info": {
   "codemirror_mode": {
    "name": "ipython",
    "version": 3
   },
   "file_extension": ".py",
   "mimetype": "text/x-python",
   "name": "python",
   "nbconvert_exporter": "python",
   "pygments_lexer": "ipython3",
   "version": "3.9.13"
  }
 },
 "nbformat": 4,
 "nbformat_minor": 5
}
