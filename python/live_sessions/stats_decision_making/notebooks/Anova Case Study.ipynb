{
 "cells": [
  {
   "cell_type": "code",
   "execution_count": 1,
   "id": "53a370c2-5050-44d1-a7f1-fe9271dd9372",
   "metadata": {},
   "outputs": [],
   "source": [
    "import pandas as pd\n",
    "df = pd.read_csv('311_requests.csv')"
   ]
  },
  {
   "cell_type": "code",
   "execution_count": 2,
   "id": "1a8a1c55-2c7f-43f1-909a-4def27658489",
   "metadata": {},
   "outputs": [
    {
     "data": {
      "text/plain": [
       "(27298, 8)"
      ]
     },
     "execution_count": 2,
     "metadata": {},
     "output_type": "execute_result"
    }
   ],
   "source": [
    "df.shape"
   ]
  },
  {
   "cell_type": "code",
   "execution_count": 3,
   "id": "257d20fe-aded-4fd0-b030-9b3994198a9c",
   "metadata": {},
   "outputs": [
    {
     "data": {
      "text/html": [
       "<div>\n",
       "<style scoped>\n",
       "    .dataframe tbody tr th:only-of-type {\n",
       "        vertical-align: middle;\n",
       "    }\n",
       "\n",
       "    .dataframe tbody tr th {\n",
       "        vertical-align: top;\n",
       "    }\n",
       "\n",
       "    .dataframe thead th {\n",
       "        text-align: right;\n",
       "    }\n",
       "</style>\n",
       "<table border=\"1\" class=\"dataframe\">\n",
       "  <thead>\n",
       "    <tr style=\"text-align: right;\">\n",
       "      <th></th>\n",
       "      <th>Unique Key</th>\n",
       "      <th>Created Date</th>\n",
       "      <th>Closed Date</th>\n",
       "      <th>Agency</th>\n",
       "      <th>Agency Name</th>\n",
       "      <th>Complaint Type</th>\n",
       "      <th>Location Type</th>\n",
       "      <th>Incident Address</th>\n",
       "    </tr>\n",
       "  </thead>\n",
       "  <tbody>\n",
       "    <tr>\n",
       "      <th>0</th>\n",
       "      <td>32309424</td>\n",
       "      <td>12/31/2015 11:47:37 PM</td>\n",
       "      <td>01/01/16 10:17</td>\n",
       "      <td>NYPD</td>\n",
       "      <td>New York City Police Department</td>\n",
       "      <td>Derelict Vehicle</td>\n",
       "      <td>Street/Sidewalk</td>\n",
       "      <td>62-13 62 AVENUE</td>\n",
       "    </tr>\n",
       "    <tr>\n",
       "      <th>1</th>\n",
       "      <td>32305448</td>\n",
       "      <td>12/31/2015 10:28:13 PM</td>\n",
       "      <td>01/01/16 1:38</td>\n",
       "      <td>NYPD</td>\n",
       "      <td>New York City Police Department</td>\n",
       "      <td>Vending</td>\n",
       "      <td>Store/Commercial</td>\n",
       "      <td>76 11 AVENUE</td>\n",
       "    </tr>\n",
       "  </tbody>\n",
       "</table>\n",
       "</div>"
      ],
      "text/plain": [
       "   Unique Key            Created Date     Closed Date Agency  \\\n",
       "0    32309424  12/31/2015 11:47:37 PM  01/01/16 10:17   NYPD   \n",
       "1    32305448  12/31/2015 10:28:13 PM   01/01/16 1:38   NYPD   \n",
       "\n",
       "                       Agency Name    Complaint Type     Location Type  \\\n",
       "0  New York City Police Department  Derelict Vehicle   Street/Sidewalk   \n",
       "1  New York City Police Department           Vending  Store/Commercial   \n",
       "\n",
       "  Incident Address  \n",
       "0  62-13 62 AVENUE  \n",
       "1     76 11 AVENUE  "
      ]
     },
     "execution_count": 3,
     "metadata": {},
     "output_type": "execute_result"
    }
   ],
   "source": [
    "df.head(2)"
   ]
  },
  {
   "attachments": {},
   "cell_type": "markdown",
   "id": "0f1198be-6d22-4cad-af87-ce7dfe74999b",
   "metadata": {},
   "source": [
    "## Business Context\n",
    "\n",
    "311 is an organization in New York city that tracks and provides quick redressal to problems posed by the general public. They recieve hundreds of complaints everyday about issues ranging from noise complaints, plumbing issues, and illegally parked cars. These requests are received by NYC311 and forwarded to the relevant agencies such as the police, buildings, or transportation. The agency responds to the request, addresses it, and then closes it.\n",
    "\n"
   ]
  },
  {
   "attachments": {},
   "cell_type": "markdown",
   "id": "6dee275d-762e-4160-b7ac-34cdfccd0941",
   "metadata": {},
   "source": [
    "**Business Problem**\n",
    "\n",
    "The city of New York maintains that the average time spent in solving the complaints recieved by different departments, the city admnistratition wants to know if they are keeping their promises."
   ]
  },
  {
   "cell_type": "code",
   "execution_count": null,
   "id": "556bc18f-c054-4b61-8052-0695a491b8eb",
   "metadata": {},
   "outputs": [],
   "source": []
  }
 ],
 "metadata": {
  "kernelspec": {
   "display_name": "Python 3 (ipykernel)",
   "language": "python",
   "name": "python3"
  },
  "language_info": {
   "codemirror_mode": {
    "name": "ipython",
    "version": 3
   },
   "file_extension": ".py",
   "mimetype": "text/x-python",
   "name": "python",
   "nbconvert_exporter": "python",
   "pygments_lexer": "ipython3",
   "version": "3.9.13"
  }
 },
 "nbformat": 4,
 "nbformat_minor": 5
}
