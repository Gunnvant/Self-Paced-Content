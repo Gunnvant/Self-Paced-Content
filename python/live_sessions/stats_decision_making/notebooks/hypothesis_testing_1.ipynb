{
 "cells": [
  {
   "cell_type": "markdown",
   "id": "f4e0b679-4424-4ab5-87d6-0534bfde3ded",
   "metadata": {},
   "source": [
    "## Reddit Case Study"
   ]
  },
  {
   "cell_type": "code",
   "execution_count": 1,
   "id": "816d31c8-dcf2-4bc0-bb72-f148adf7da7e",
   "metadata": {
    "tags": []
   },
   "outputs": [],
   "source": [
    "import pandas as pd\n",
    "df = pd.read_csv(\"reddit.csv\")"
   ]
  },
  {
   "cell_type": "code",
   "execution_count": 12,
   "id": "724d51dc-7802-4c24-84d7-394eb16de77b",
   "metadata": {
    "tags": []
   },
   "outputs": [
    {
     "data": {
      "text/html": [
       "<div>\n",
       "<style scoped>\n",
       "    .dataframe tbody tr th:only-of-type {\n",
       "        vertical-align: middle;\n",
       "    }\n",
       "\n",
       "    .dataframe tbody tr th {\n",
       "        vertical-align: top;\n",
       "    }\n",
       "\n",
       "    .dataframe thead th {\n",
       "        text-align: right;\n",
       "    }\n",
       "</style>\n",
       "<table border=\"1\" class=\"dataframe\">\n",
       "  <thead>\n",
       "    <tr style=\"text-align: right;\">\n",
       "      <th></th>\n",
       "      <th>register_index</th>\n",
       "      <th>post_id</th>\n",
       "      <th>comment_id</th>\n",
       "      <th>author</th>\n",
       "      <th>datetime</th>\n",
       "      <th>title</th>\n",
       "      <th>url</th>\n",
       "      <th>score</th>\n",
       "      <th>comments</th>\n",
       "      <th>text</th>\n",
       "      <th>author_post_karma</th>\n",
       "      <th>tag</th>\n",
       "      <th>post_len</th>\n",
       "    </tr>\n",
       "  </thead>\n",
       "  <tbody>\n",
       "    <tr>\n",
       "      <th>0</th>\n",
       "      <td>145k12dpost</td>\n",
       "      <td>145k12d</td>\n",
       "      <td>NaN</td>\n",
       "      <td>SauloJr</td>\n",
       "      <td>2023-06-09 23:17:15</td>\n",
       "      <td>Reddit CEO Spez answered a grand total of 14 q...</td>\n",
       "      <td>https://www.reddit.com/r/technology/comments/1...</td>\n",
       "      <td>1.0</td>\n",
       "      <td>0.0</td>\n",
       "      <td>Reddit CEO Spez answered a grand total of 14 q...</td>\n",
       "      <td>44092.0</td>\n",
       "      <td>Social Media</td>\n",
       "      <td>19</td>\n",
       "    </tr>\n",
       "    <tr>\n",
       "      <th>1</th>\n",
       "      <td>145hyeyjnlh1vx</td>\n",
       "      <td>145hyey</td>\n",
       "      <td>jnlh1vx</td>\n",
       "      <td>Illustrious_Risk3732</td>\n",
       "      <td>2023-06-09 23:42:43</td>\n",
       "      <td>NaN</td>\n",
       "      <td>NaN</td>\n",
       "      <td>1.0</td>\n",
       "      <td>NaN</td>\n",
       "      <td>He even gives him self Awards to make sure he ...</td>\n",
       "      <td>17109.0</td>\n",
       "      <td>Social Media</td>\n",
       "      <td>20</td>\n",
       "    </tr>\n",
       "  </tbody>\n",
       "</table>\n",
       "</div>"
      ],
      "text/plain": [
       "   register_index  post_id comment_id                author  \\\n",
       "0     145k12dpost  145k12d        NaN               SauloJr   \n",
       "1  145hyeyjnlh1vx  145hyey    jnlh1vx  Illustrious_Risk3732   \n",
       "\n",
       "              datetime                                              title  \\\n",
       "0  2023-06-09 23:17:15  Reddit CEO Spez answered a grand total of 14 q...   \n",
       "1  2023-06-09 23:42:43                                                NaN   \n",
       "\n",
       "                                                 url  score  comments  \\\n",
       "0  https://www.reddit.com/r/technology/comments/1...    1.0       0.0   \n",
       "1                                                NaN    1.0       NaN   \n",
       "\n",
       "                                                text  author_post_karma  \\\n",
       "0  Reddit CEO Spez answered a grand total of 14 q...            44092.0   \n",
       "1  He even gives him self Awards to make sure he ...            17109.0   \n",
       "\n",
       "            tag  post_len  \n",
       "0  Social Media        19  \n",
       "1  Social Media        20  "
      ]
     },
     "execution_count": 12,
     "metadata": {},
     "output_type": "execute_result"
    }
   ],
   "source": [
    "df.head(2)"
   ]
  },
  {
   "cell_type": "markdown",
   "id": "ea2d7b3c-e2b1-4948-a8ea-8cc06871404e",
   "metadata": {},
   "source": [
    "**DIY**\n",
    "- Convert the date column to datetime format\n",
    "- Extract the date from this column\n"
   ]
  },
  {
   "cell_type": "code",
   "execution_count": null,
   "id": "26e44129-e345-441c-aee3-645d0e1a8622",
   "metadata": {},
   "outputs": [],
   "source": []
  },
  {
   "cell_type": "markdown",
   "id": "10161cd8-d430-414c-9110-dfb61aa63d75",
   "metadata": {},
   "source": [
    "**DIY**\n",
    "- Find out the average number of posts per day"
   ]
  },
  {
   "cell_type": "code",
   "execution_count": null,
   "id": "0a58b6f3-5286-4279-9416-b9ae20ac7a07",
   "metadata": {},
   "outputs": [],
   "source": []
  },
  {
   "cell_type": "markdown",
   "id": "38970166-a3b6-42aa-8347-016cbca033b6",
   "metadata": {},
   "source": [
    "**DIY**\n",
    "- Recently it was observed that there were 2500 posts, has the average number of posts come down?"
   ]
  },
  {
   "cell_type": "code",
   "execution_count": null,
   "id": "74be5aea-23da-46dd-b19b-20f682199699",
   "metadata": {},
   "outputs": [],
   "source": []
  },
  {
   "cell_type": "markdown",
   "id": "d1253ec9-96e5-4017-a1b0-a1f25ef56446",
   "metadata": {},
   "source": [
    "**DIY**\n",
    "- Find out how many comments does a post gets on an average"
   ]
  },
  {
   "cell_type": "code",
   "execution_count": 6,
   "id": "f54049d4-5edb-438a-a5dd-4aa281ffcb22",
   "metadata": {
    "tags": []
   },
   "outputs": [
    {
     "data": {
      "text/plain": [
       "80.0"
      ]
     },
     "execution_count": 6,
     "metadata": {},
     "output_type": "execute_result"
    }
   ],
   "source": [
    "df.groupby('post_id')['post_id'].count().quantile(0.75)"
   ]
  },
  {
   "cell_type": "markdown",
   "id": "54682d14-c75f-4007-bf81-39a83f6eaf74",
   "metadata": {},
   "source": [
    "**DIY**\n",
    "- What are chances that a typical post will recieve more than 80 comments?"
   ]
  },
  {
   "cell_type": "code",
   "execution_count": null,
   "id": "79679e99-6840-48f8-9c35-754d1d68f839",
   "metadata": {},
   "outputs": [],
   "source": []
  },
  {
   "cell_type": "markdown",
   "id": "bd2757e7-c658-4dae-ab87-4659d4b7a71e",
   "metadata": {},
   "source": [
    "**DIY**\n",
    "- If for a random sample of 40 posts, we observe that 30 have more than 80 comments. Has there been a systematic change in the number of comments that are being recieved."
   ]
  },
  {
   "cell_type": "code",
   "execution_count": null,
   "id": "11575052-d022-49e3-a872-2c960a7fb7b6",
   "metadata": {},
   "outputs": [],
   "source": []
  },
  {
   "cell_type": "markdown",
   "id": "9b8fb647-c2e3-47f6-b0a5-e95867aa226e",
   "metadata": {},
   "source": [
    "**DIY**\n",
    "- Find out the average number of words in all the comments to each post"
   ]
  },
  {
   "cell_type": "code",
   "execution_count": null,
   "id": "3a515b52-aa0c-417f-8cb6-3fe200c3c56b",
   "metadata": {
    "tags": []
   },
   "outputs": [],
   "source": []
  },
  {
   "cell_type": "markdown",
   "id": "2a9a946e-3675-4c8d-9b49-ecd68aa0e072",
   "metadata": {},
   "source": [
    "**DIY**\n",
    "- In a sample of recent posts it was found that average number of words in comments to each post are 45. Have have the comments become more verbose?"
   ]
  },
  {
   "cell_type": "code",
   "execution_count": null,
   "id": "912ad3a7-42e6-4c34-89fc-b945e0aa686b",
   "metadata": {},
   "outputs": [],
   "source": []
  }
 ],
 "metadata": {
  "kernelspec": {
   "display_name": "Python 3 (ipykernel)",
   "language": "python",
   "name": "python3"
  },
  "language_info": {
   "codemirror_mode": {
    "name": "ipython",
    "version": 3
   },
   "file_extension": ".py",
   "mimetype": "text/x-python",
   "name": "python",
   "nbconvert_exporter": "python",
   "pygments_lexer": "ipython3",
   "version": "3.9.16"
  }
 },
 "nbformat": 4,
 "nbformat_minor": 5
}
