{
 "cells": [
  {
   "cell_type": "markdown",
   "id": "0180dfda-88bd-4022-addf-1a6c30b7718a",
   "metadata": {},
   "source": [
    "## Binomial Distribution\n",
    "\n",
    "- How is PMF computed?\n",
    "- Stock market case study: Using binomial distribution to answer business \n",
    "\n",
    "Imagine we wanted to find out the probability of finding 2 defective peices in a lot of 5, if the probability of finding a single defective piece is 0.3."
   ]
  },
  {
   "cell_type": "code",
   "execution_count": null,
   "id": "b4c67799-82d6-4a89-b2f7-38762721f84b",
   "metadata": {},
   "outputs": [],
   "source": [
    "#!pip install ipywidgets"
   ]
  },
  {
   "cell_type": "code",
   "execution_count": 1,
   "id": "df7b05ad-e310-4927-a9d1-cf0ebe890625",
   "metadata": {
    "tags": []
   },
   "outputs": [],
   "source": [
    "from itertools import combinations"
   ]
  },
  {
   "cell_type": "code",
   "execution_count": 2,
   "id": "83079602-4422-4783-8d16-ffd2aa90d0f8",
   "metadata": {
    "tags": []
   },
   "outputs": [],
   "source": [
    "s1 = [f'p{i}' for i in range(1,6)]"
   ]
  },
  {
   "cell_type": "code",
   "execution_count": 3,
   "id": "9247038f-e2c6-4bdc-8199-85e49743ff98",
   "metadata": {
    "tags": []
   },
   "outputs": [
    {
     "data": {
      "text/plain": [
       "['p1', 'p2', 'p3', 'p4', 'p5']"
      ]
     },
     "execution_count": 3,
     "metadata": {},
     "output_type": "execute_result"
    }
   ],
   "source": [
    "s1"
   ]
  },
  {
   "cell_type": "code",
   "execution_count": 4,
   "id": "14670ef6-5822-4f2f-ad22-1255b74242f2",
   "metadata": {
    "tags": []
   },
   "outputs": [],
   "source": [
    "comb = combinations(s1,2)"
   ]
  },
  {
   "cell_type": "code",
   "execution_count": 5,
   "id": "815f3a6c-7a83-4e0e-b623-90f63b36a8d2",
   "metadata": {
    "tags": []
   },
   "outputs": [
    {
     "name": "stdout",
     "output_type": "stream",
     "text": [
      "('p1', 'p2')\n",
      "('p1', 'p3')\n",
      "('p1', 'p4')\n",
      "('p1', 'p5')\n",
      "('p2', 'p3')\n",
      "('p2', 'p4')\n",
      "('p2', 'p5')\n",
      "('p3', 'p4')\n",
      "('p3', 'p5')\n",
      "('p4', 'p5')\n",
      "10\n"
     ]
    }
   ],
   "source": [
    "s=0\n",
    "for i in comb:\n",
    "    print(i)\n",
    "    s=s+1\n",
    "print(s)"
   ]
  },
  {
   "cell_type": "code",
   "execution_count": 6,
   "id": "ec38e6a4-ec58-4e5e-9b31-e3fe096a2495",
   "metadata": {
    "tags": []
   },
   "outputs": [],
   "source": [
    "import math"
   ]
  },
  {
   "cell_type": "code",
   "execution_count": 7,
   "id": "e9ebb605-f27a-426f-8e75-9c29ca43af86",
   "metadata": {
    "tags": []
   },
   "outputs": [
    {
     "data": {
      "text/plain": [
       "10"
      ]
     },
     "execution_count": 7,
     "metadata": {},
     "output_type": "execute_result"
    }
   ],
   "source": [
    "math.comb(5,2)"
   ]
  },
  {
   "cell_type": "code",
   "execution_count": 8,
   "id": "bb4549c7-ff00-45ad-8a3b-aebf843d03c9",
   "metadata": {
    "tags": []
   },
   "outputs": [],
   "source": [
    "### Stock market case study\n",
    "import pandas as pd\n",
    "url = \"https://raw.githubusercontent.com/Gunnvant/Self-Paced-Content/main/python/live_sessions/stats_decision_making/notebooks/stock_price_data_with_date.csv\"\n",
    "df = pd.read_csv(url)"
   ]
  },
  {
   "cell_type": "code",
   "execution_count": 9,
   "id": "df98cd96-4d69-471d-9162-0ec0870c35c8",
   "metadata": {
    "tags": []
   },
   "outputs": [
    {
     "data": {
      "text/html": [
       "<div>\n",
       "<style scoped>\n",
       "    .dataframe tbody tr th:only-of-type {\n",
       "        vertical-align: middle;\n",
       "    }\n",
       "\n",
       "    .dataframe tbody tr th {\n",
       "        vertical-align: top;\n",
       "    }\n",
       "\n",
       "    .dataframe thead th {\n",
       "        text-align: right;\n",
       "    }\n",
       "</style>\n",
       "<table border=\"1\" class=\"dataframe\">\n",
       "  <thead>\n",
       "    <tr style=\"text-align: right;\">\n",
       "      <th></th>\n",
       "      <th>Date</th>\n",
       "      <th>adaniports</th>\n",
       "      <th>asianpaints</th>\n",
       "      <th>axisbank</th>\n",
       "      <th>cipla</th>\n",
       "      <th>tcs</th>\n",
       "    </tr>\n",
       "  </thead>\n",
       "  <tbody>\n",
       "    <tr>\n",
       "      <th>0</th>\n",
       "      <td>01/01/08</td>\n",
       "      <td>1296.85</td>\n",
       "      <td>1123.19</td>\n",
       "      <td>972.55</td>\n",
       "      <td>211.10</td>\n",
       "      <td>1054.55</td>\n",
       "    </tr>\n",
       "    <tr>\n",
       "      <th>1</th>\n",
       "      <td>02/01/08</td>\n",
       "      <td>1307.45</td>\n",
       "      <td>1135.45</td>\n",
       "      <td>1034.65</td>\n",
       "      <td>218.85</td>\n",
       "      <td>1050.00</td>\n",
       "    </tr>\n",
       "  </tbody>\n",
       "</table>\n",
       "</div>"
      ],
      "text/plain": [
       "       Date  adaniports  asianpaints  axisbank   cipla      tcs\n",
       "0  01/01/08     1296.85      1123.19    972.55  211.10  1054.55\n",
       "1  02/01/08     1307.45      1135.45   1034.65  218.85  1050.00"
      ]
     },
     "execution_count": 9,
     "metadata": {},
     "output_type": "execute_result"
    }
   ],
   "source": [
    "df.head(2)"
   ]
  },
  {
   "cell_type": "code",
   "execution_count": 10,
   "id": "c09ae034-3c84-4a8e-8ac2-1349aa0fd5cf",
   "metadata": {
    "tags": []
   },
   "outputs": [],
   "source": [
    "### Find out how the priceshave been across these stocks?\n",
    "df_melt=pd.melt(df.drop(\"Date\",axis=1))"
   ]
  },
  {
   "cell_type": "code",
   "execution_count": 11,
   "id": "973404b3-5e03-4146-93c4-4ae25f7f8ccf",
   "metadata": {
    "tags": []
   },
   "outputs": [
    {
     "data": {
      "text/html": [
       "<div>\n",
       "<style scoped>\n",
       "    .dataframe tbody tr th:only-of-type {\n",
       "        vertical-align: middle;\n",
       "    }\n",
       "\n",
       "    .dataframe tbody tr th {\n",
       "        vertical-align: top;\n",
       "    }\n",
       "\n",
       "    .dataframe thead th {\n",
       "        text-align: right;\n",
       "    }\n",
       "</style>\n",
       "<table border=\"1\" class=\"dataframe\">\n",
       "  <thead>\n",
       "    <tr style=\"text-align: right;\">\n",
       "      <th></th>\n",
       "      <th>variable</th>\n",
       "      <th>value</th>\n",
       "    </tr>\n",
       "  </thead>\n",
       "  <tbody>\n",
       "    <tr>\n",
       "      <th>0</th>\n",
       "      <td>adaniports</td>\n",
       "      <td>1296.85</td>\n",
       "    </tr>\n",
       "    <tr>\n",
       "      <th>1</th>\n",
       "      <td>adaniports</td>\n",
       "      <td>1307.45</td>\n",
       "    </tr>\n",
       "  </tbody>\n",
       "</table>\n",
       "</div>"
      ],
      "text/plain": [
       "     variable    value\n",
       "0  adaniports  1296.85\n",
       "1  adaniports  1307.45"
      ]
     },
     "execution_count": 11,
     "metadata": {},
     "output_type": "execute_result"
    }
   ],
   "source": [
    "df_melt.head(2)"
   ]
  },
  {
   "cell_type": "code",
   "execution_count": 12,
   "id": "6258acb9-dbae-43a2-bf80-1c22c982c8fa",
   "metadata": {
    "tags": []
   },
   "outputs": [
    {
     "data": {
      "text/plain": [
       "<Axes: title={'center': 'value'}, xlabel='variable'>"
      ]
     },
     "execution_count": 12,
     "metadata": {},
     "output_type": "execute_result"
    },
    {
     "data": {
      "image/png": "[encoded data removed]",
      "text/plain": [
       "<Figure size 640x480 with 1 Axes>"
      ]
     },
     "metadata": {},
     "output_type": "display_data"
    }
   ],
   "source": [
    "df_melt.boxplot(column=\"value\",by=\"variable\")"
   ]
  },
  {
   "cell_type": "code",
   "execution_count": 13,
   "id": "23ee8c3f-3ab4-4c2e-93a3-5f8e3a4616a7",
   "metadata": {
    "tags": []
   },
   "outputs": [],
   "source": [
    "### What does this tell us?\n",
    "### Which stock is less risky?\n",
    "### Which stocks have a higher chance of upside?"
   ]
  },
  {
   "cell_type": "code",
   "execution_count": 14,
   "id": "12bb1a7d-2abe-405f-a04f-0f6bcc53d9a2",
   "metadata": {
    "tags": []
   },
   "outputs": [
    {
     "data": {
      "text/plain": [
       "0      211.10\n",
       "1      218.85\n",
       "2      216.35\n",
       "3      213.65\n",
       "4      212.65\n",
       "        ...  \n",
       "241    181.05\n",
       "242    181.95\n",
       "243    184.00\n",
       "244    183.90\n",
       "245    186.60\n",
       "Name: cipla, Length: 246, dtype: float64"
      ]
     },
     "execution_count": 14,
     "metadata": {},
     "output_type": "execute_result"
    }
   ],
   "source": [
    "## Imagine that your risk appetite is 20%, at what price would you buy stock of, eg cipla?\n",
    "## Assume that past behaviour of the stock will also hold in future\n",
    "df['cipla']"
   ]
  },
  {
   "cell_type": "code",
   "execution_count": 15,
   "id": "455cadda-924a-4dd7-931a-0193ad176584",
   "metadata": {
    "tags": []
   },
   "outputs": [],
   "source": [
    "## At what price, if you buy this stock will the price be higher than the bought price 80% of the time?\n",
    "import ipywidgets as widgets\n",
    "from ipywidgets import interact, interactive"
   ]
  },
  {
   "cell_type": "code",
   "execution_count": 16,
   "id": "45d00f67-3f14-4eb5-9a25-42d3e074486c",
   "metadata": {
    "tags": []
   },
   "outputs": [],
   "source": [
    "def get_price(price,col):\n",
    "    num = df[df[col]>price].shape[0]\n",
    "    den = df.shape[0]\n",
    "    print(f\"Probability that if {col} is bought at {round(price,2)}, the price will be higher than {round(price,2)} is {round(num/den,2)}\")"
   ]
  },
  {
   "cell_type": "code",
   "execution_count": 17,
   "id": "30e6f7a4-d657-4e8d-be24-30c9734da3cd",
   "metadata": {
    "tags": []
   },
   "outputs": [
    {
     "data": {
      "application/vnd.jupyter.widget-view+json": {
       "model_id": "34fcc2e1a1fc411781060872cac62463",
       "version_major": 2,
       "version_minor": 0
      },
      "text/plain": [
       "interactive(children=(FloatSlider(value=160.1, description='price', max=240.7, min=160.1), Text(value='cipla',…"
      ]
     },
     "execution_count": 17,
     "metadata": {},
     "output_type": "execute_result"
    }
   ],
   "source": [
    "col = \"cipla\"\n",
    "interactive(get_price,col=col,price=widgets.FloatSlider(min=df[col].min(),max=df[col].max()))"
   ]
  },
  {
   "cell_type": "markdown",
   "id": "53cf4375-5576-4603-a469-6644543f41de",
   "metadata": {},
   "source": [
    "**In class excercise** \n",
    "\n",
    "- Do the same excercise using other stocks\n",
    "- Can you think of any other way to do the same task without using this hit and trial method?"
   ]
  },
  {
   "cell_type": "code",
   "execution_count": 18,
   "id": "94c1e67b-561b-4c80-af0e-bce6ab214f2d",
   "metadata": {
    "tags": []
   },
   "outputs": [],
   "source": [
    "### Find the probability of positive price change\n",
    "df['cipla_1d_delta']=df['cipla']-df['cipla'].shift()"
   ]
  },
  {
   "cell_type": "code",
   "execution_count": 19,
   "id": "c7dfbc23-8441-4e81-a70d-65fe805f89d1",
   "metadata": {
    "tags": []
   },
   "outputs": [],
   "source": [
    "### Find how many days the change in cipla's price was positive"
   ]
  },
  {
   "cell_type": "code",
   "execution_count": 21,
   "id": "19aadac4-7e7a-4c6c-94bb-773b8f692d33",
   "metadata": {
    "tags": []
   },
   "outputs": [
    {
     "data": {
      "text/plain": [
       "123"
      ]
     },
     "execution_count": 21,
     "metadata": {},
     "output_type": "execute_result"
    }
   ],
   "source": [
    "df[df['cipla_1d_delta']>0].shape[0]"
   ]
  },
  {
   "cell_type": "code",
   "execution_count": 22,
   "id": "7f7bb5ce-6962-4e0b-9c76-24171dd876e6",
   "metadata": {
    "tags": []
   },
   "outputs": [
    {
     "data": {
      "text/plain": [
       "246"
      ]
     },
     "execution_count": 22,
     "metadata": {},
     "output_type": "execute_result"
    }
   ],
   "source": [
    "df.shape[0]"
   ]
  },
  {
   "cell_type": "code",
   "execution_count": 23,
   "id": "ed0d0ebb-899a-471c-a0ff-c61cfc58a50f",
   "metadata": {
    "tags": []
   },
   "outputs": [],
   "source": [
    "probs = {'cipla_positive':(123/246)}"
   ]
  },
  {
   "cell_type": "code",
   "execution_count": 24,
   "id": "bf7ca42b-381e-46dd-9483-3c66b7cd6610",
   "metadata": {
    "tags": []
   },
   "outputs": [
    {
     "data": {
      "text/plain": [
       "{'cipla_positive': 0.5}"
      ]
     },
     "execution_count": 24,
     "metadata": {},
     "output_type": "execute_result"
    }
   ],
   "source": [
    "probs"
   ]
  },
  {
   "cell_type": "markdown",
   "id": "f2e965cb-8a19-423c-a658-f3e41645bcd9",
   "metadata": {},
   "source": [
    "### Using Binomial Distributiion on this data\n",
    "\n",
    "- What will be the probability that if we sample 10 days randomly from this dataset, the price change will be positive for exactly 7 days?"
   ]
  },
  {
   "cell_type": "code",
   "execution_count": 25,
   "id": "4cdcfe14-b076-4eb7-ba62-d93b0be7cb84",
   "metadata": {
    "tags": []
   },
   "outputs": [],
   "source": [
    "from scipy.stats import binom"
   ]
  },
  {
   "cell_type": "code",
   "execution_count": 26,
   "id": "3397a575-6160-4642-a3ef-9a0d12dc1039",
   "metadata": {
    "tags": []
   },
   "outputs": [
    {
     "data": {
      "text/plain": [
       "0.11718749999999999"
      ]
     },
     "execution_count": 26,
     "metadata": {},
     "output_type": "execute_result"
    }
   ],
   "source": [
    "binom.pmf(7,10,0.5)"
   ]
  },
  {
   "cell_type": "markdown",
   "id": "d835d57c-98c2-4c43-9556-9cd7029efbc8",
   "metadata": {},
   "source": [
    "### Class Excercise repeat the same excercise with the other stocks as well"
   ]
  },
  {
   "cell_type": "code",
   "execution_count": 27,
   "id": "5f9b36c2-2b21-4767-982c-95bbf226d6f8",
   "metadata": {
    "tags": []
   },
   "outputs": [],
   "source": [
    "##todo"
   ]
  },
  {
   "cell_type": "markdown",
   "id": "bbaa2e0c-3b2e-4e9b-add2-2abdf5a2f133",
   "metadata": {},
   "source": [
    "**DIY**\n",
    "\n",
    "The probability that a randomly chosen sales prospect will make a purchase is 0.20. If a sales representative calls on six propects, what is the probability that exactly four sales will be made?"
   ]
  },
  {
   "cell_type": "markdown",
   "id": "eda70f30-aee1-4bae-b33f-41e6bcebcf74",
   "metadata": {},
   "source": [
    "**DIY**\n",
    "\n",
    "The probability that a randomly selected salaried employee is a participant in an optional retirement program is 0.40. If five salaried employees are chosen randomly, what is the probability that the proportion of participants is exactly 0.60?"
   ]
  },
  {
   "cell_type": "code",
   "execution_count": null,
   "id": "03932252-a340-4de4-a938-4834aa391770",
   "metadata": {},
   "outputs": [],
   "source": []
  }
 ],
 "metadata": {
  "kernelspec": {
   "display_name": "Python 3 (ipykernel)",
   "language": "python",
   "name": "python3"
  },
  "language_info": {
   "codemirror_mode": {
    "name": "ipython",
    "version": 3
   },
   "file_extension": ".py",
   "mimetype": "text/x-python",
   "name": "python",
   "nbconvert_exporter": "python",
   "pygments_lexer": "ipython3",
   "version": "3.10.10"
  }
 },
 "nbformat": 4,
 "nbformat_minor": 5
}
