{
 "cells": [
  {
   "cell_type": "code",
   "execution_count": 1,
   "id": "0ac81a19-c5c1-41a2-a560-ad21ffebbe7c",
   "metadata": {},
   "outputs": [],
   "source": [
    "import pandas as pd\n",
    "from scipy.stats import f_oneway"
   ]
  },
  {
   "cell_type": "code",
   "execution_count": 2,
   "id": "fbeb5dfa-59bc-4a58-b545-6b7a7191ced4",
   "metadata": {},
   "outputs": [
    {
     "data": {
      "text/html": [
       "<div>\n",
       "<style scoped>\n",
       "    .dataframe tbody tr th:only-of-type {\n",
       "        vertical-align: middle;\n",
       "    }\n",
       "\n",
       "    .dataframe tbody tr th {\n",
       "        vertical-align: top;\n",
       "    }\n",
       "\n",
       "    .dataframe thead th {\n",
       "        text-align: right;\n",
       "    }\n",
       "</style>\n",
       "<table border=\"1\" class=\"dataframe\">\n",
       "  <thead>\n",
       "    <tr style=\"text-align: right;\">\n",
       "      <th></th>\n",
       "      <th>Brands</th>\n",
       "      <th>Mileage</th>\n",
       "    </tr>\n",
       "  </thead>\n",
       "  <tbody>\n",
       "    <tr>\n",
       "      <th>0</th>\n",
       "      <td>Apollo</td>\n",
       "      <td>32.998</td>\n",
       "    </tr>\n",
       "    <tr>\n",
       "      <th>1</th>\n",
       "      <td>Apollo</td>\n",
       "      <td>36.435</td>\n",
       "    </tr>\n",
       "  </tbody>\n",
       "</table>\n",
       "</div>"
      ],
      "text/plain": [
       "   Brands  Mileage\n",
       "0  Apollo   32.998\n",
       "1  Apollo   36.435"
      ]
     },
     "execution_count": 2,
     "metadata": {},
     "output_type": "execute_result"
    }
   ],
   "source": [
    "df = pd.read_csv(\"car_data.csv\")\n",
    "df.head(2)"
   ]
  },
  {
   "cell_type": "code",
   "execution_count": 3,
   "id": "31f8325f-cc37-40ac-9ff4-11d82cfe63fa",
   "metadata": {},
   "outputs": [],
   "source": [
    "### Mileage and Brand\n",
    "groups = []\n",
    "for brand in df.Brands.unique():\n",
    "    groups.append(df[df.Brands==brand]['Mileage'])"
   ]
  },
  {
   "cell_type": "code",
   "execution_count": 4,
   "id": "56fb7d75-12f3-4083-8a8d-dfdf04c17ab6",
   "metadata": {},
   "outputs": [
    {
     "data": {
      "text/plain": [
       "4"
      ]
     },
     "execution_count": 4,
     "metadata": {},
     "output_type": "execute_result"
    }
   ],
   "source": [
    "len(groups)"
   ]
  },
  {
   "cell_type": "markdown",
   "id": "f6e17a5c-ecd5-4d90-9370-7e9865130018",
   "metadata": {},
   "source": [
    "```\n",
    "H0: Mileage and Car brand are not related\n",
    "Ha: Mileage and Car brand are related\n",
    "```"
   ]
  },
  {
   "cell_type": "code",
   "execution_count": 5,
   "id": "a883e8e4-4e5d-434b-b899-7617744d15e5",
   "metadata": {},
   "outputs": [
    {
     "data": {
      "text/plain": [
       "F_onewayResult(statistic=17.941513342446925, pvalue=2.78098919789432e-08)"
      ]
     },
     "execution_count": 5,
     "metadata": {},
     "output_type": "execute_result"
    }
   ],
   "source": [
    "f_oneway(groups[0],groups[1],groups[2],groups[3])"
   ]
  },
  {
   "cell_type": "markdown",
   "id": "7dc71cff-d042-45b1-ae99-7a907751e3f6",
   "metadata": {},
   "source": [
    "``` Conclusion\n",
    "Computed p-value is very small so we reject the H0\n",
    "````"
   ]
  },
  {
   "cell_type": "code",
   "execution_count": null,
   "id": "e72841d6-fc68-4a46-8ee3-b76edff3f2d8",
   "metadata": {},
   "outputs": [],
   "source": []
  }
 ],
 "metadata": {
  "kernelspec": {
   "display_name": "Python 3 (ipykernel)",
   "language": "python",
   "name": "python3"
  },
  "language_info": {
   "codemirror_mode": {
    "name": "ipython",
    "version": 3
   },
   "file_extension": ".py",
   "mimetype": "text/x-python",
   "name": "python",
   "nbconvert_exporter": "python",
   "pygments_lexer": "ipython3",
   "version": "3.9.13"
  }
 },
 "nbformat": 4,
 "nbformat_minor": 5
}
