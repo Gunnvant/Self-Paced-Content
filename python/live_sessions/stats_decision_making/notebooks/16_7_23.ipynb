{
 "cells": [
  {
   "cell_type": "code",
   "execution_count": 1,
   "id": "63370dd7-4f68-4fd7-bf27-b035a7490ddd",
   "metadata": {
    "tags": []
   },
   "outputs": [],
   "source": [
    "import pandas as pd\n",
    "url= \"https://raw.githubusercontent.com/Gunnvant/Self-Paced-Content/main/python/live_sessions/stats_decision_making/notebooks/anova.csv\"\n",
    "df = pd.read_csv(url)"
   ]
  },
  {
   "cell_type": "code",
   "execution_count": 2,
   "id": "d51da858-ce5d-4e26-8e6d-2b0c755e7d8a",
   "metadata": {
    "tags": []
   },
   "outputs": [
    {
     "data": {
      "text/html": [
       "<div>\n",
       "<style scoped>\n",
       "    .dataframe tbody tr th:only-of-type {\n",
       "        vertical-align: middle;\n",
       "    }\n",
       "\n",
       "    .dataframe tbody tr th {\n",
       "        vertical-align: top;\n",
       "    }\n",
       "\n",
       "    .dataframe thead th {\n",
       "        text-align: right;\n",
       "    }\n",
       "</style>\n",
       "<table border=\"1\" class=\"dataframe\">\n",
       "  <thead>\n",
       "    <tr style=\"text-align: right;\">\n",
       "      <th></th>\n",
       "      <th>SL</th>\n",
       "      <th>CLQ</th>\n",
       "    </tr>\n",
       "  </thead>\n",
       "  <tbody>\n",
       "    <tr>\n",
       "      <th>0</th>\n",
       "      <td>SL1</td>\n",
       "      <td>21.0</td>\n",
       "    </tr>\n",
       "    <tr>\n",
       "      <th>1</th>\n",
       "      <td>SL1</td>\n",
       "      <td>27.7</td>\n",
       "    </tr>\n",
       "    <tr>\n",
       "      <th>2</th>\n",
       "      <td>SL1</td>\n",
       "      <td>19.7</td>\n",
       "    </tr>\n",
       "    <tr>\n",
       "      <th>3</th>\n",
       "      <td>SL1</td>\n",
       "      <td>23.7</td>\n",
       "    </tr>\n",
       "    <tr>\n",
       "      <th>4</th>\n",
       "      <td>SL1</td>\n",
       "      <td>28.6</td>\n",
       "    </tr>\n",
       "  </tbody>\n",
       "</table>\n",
       "</div>"
      ],
      "text/plain": [
       "    SL   CLQ\n",
       "0  SL1  21.0\n",
       "1  SL1  27.7\n",
       "2  SL1  19.7\n",
       "3  SL1  23.7\n",
       "4  SL1  28.6"
      ]
     },
     "execution_count": 2,
     "metadata": {},
     "output_type": "execute_result"
    }
   ],
   "source": [
    "df.head()"
   ]
  },
  {
   "cell_type": "code",
   "execution_count": 3,
   "id": "6b9e7d40-16e0-49d4-a60a-826109ffe3c5",
   "metadata": {
    "tags": []
   },
   "outputs": [
    {
     "data": {
      "text/plain": [
       "array(['SL1', 'SL2', 'SL3', 'SL4'], dtype=object)"
      ]
     },
     "execution_count": 3,
     "metadata": {},
     "output_type": "execute_result"
    }
   ],
   "source": [
    "df['SL'].unique()"
   ]
  },
  {
   "cell_type": "code",
   "execution_count": 5,
   "id": "c8bea2e0-bc9d-4c53-9115-182e054ab2c5",
   "metadata": {
    "tags": []
   },
   "outputs": [],
   "source": [
    "### Click through rate of different pages on a website\n",
    "## H0: CTR for G1 = CTR for G2...=CTR G4\n",
    "## Ha: Atleast one pair is different\n",
    "## p-value?"
   ]
  },
  {
   "cell_type": "code",
   "execution_count": 6,
   "id": "96e97d34-bc6a-4b7a-a034-5aee83a4038a",
   "metadata": {
    "tags": []
   },
   "outputs": [
    {
     "data": {
      "text/html": [
       "<div>\n",
       "<style scoped>\n",
       "    .dataframe tbody tr th:only-of-type {\n",
       "        vertical-align: middle;\n",
       "    }\n",
       "\n",
       "    .dataframe tbody tr th {\n",
       "        vertical-align: top;\n",
       "    }\n",
       "\n",
       "    .dataframe thead th {\n",
       "        text-align: right;\n",
       "    }\n",
       "</style>\n",
       "<table border=\"1\" class=\"dataframe\">\n",
       "  <thead>\n",
       "    <tr style=\"text-align: right;\">\n",
       "      <th></th>\n",
       "      <th>SL</th>\n",
       "      <th>CLQ</th>\n",
       "    </tr>\n",
       "  </thead>\n",
       "  <tbody>\n",
       "    <tr>\n",
       "      <th>0</th>\n",
       "      <td>SL1</td>\n",
       "      <td>21.0</td>\n",
       "    </tr>\n",
       "    <tr>\n",
       "      <th>1</th>\n",
       "      <td>SL1</td>\n",
       "      <td>27.7</td>\n",
       "    </tr>\n",
       "    <tr>\n",
       "      <th>2</th>\n",
       "      <td>SL1</td>\n",
       "      <td>19.7</td>\n",
       "    </tr>\n",
       "    <tr>\n",
       "      <th>3</th>\n",
       "      <td>SL1</td>\n",
       "      <td>23.7</td>\n",
       "    </tr>\n",
       "    <tr>\n",
       "      <th>4</th>\n",
       "      <td>SL1</td>\n",
       "      <td>28.6</td>\n",
       "    </tr>\n",
       "  </tbody>\n",
       "</table>\n",
       "</div>"
      ],
      "text/plain": [
       "    SL   CLQ\n",
       "0  SL1  21.0\n",
       "1  SL1  27.7\n",
       "2  SL1  19.7\n",
       "3  SL1  23.7\n",
       "4  SL1  28.6"
      ]
     },
     "execution_count": 6,
     "metadata": {},
     "output_type": "execute_result"
    }
   ],
   "source": [
    "df.head()"
   ]
  },
  {
   "cell_type": "code",
   "execution_count": 9,
   "id": "b9f2cfed-b4bd-4c86-8a67-60db47e9c119",
   "metadata": {
    "tags": []
   },
   "outputs": [],
   "source": [
    "df_sl1 = df.query(\"SL=='SL1'\")['CLQ'].values\n",
    "df_sl2 = df.query(\"SL=='SL2'\")['CLQ'].values\n",
    "df_sl3 = df.query(\"SL=='SL3'\")['CLQ'].values\n",
    "df_sl4 = df.query(\"SL=='SL4'\")['CLQ'].values"
   ]
  },
  {
   "cell_type": "code",
   "execution_count": 11,
   "id": "bcb8dca8-b225-40d8-8f9d-88a0eb979b11",
   "metadata": {
    "tags": []
   },
   "outputs": [],
   "source": [
    "from scipy.stats import f_oneway ## Sig level 5%"
   ]
  },
  {
   "cell_type": "code",
   "execution_count": 13,
   "id": "8d3b7577-ea8c-4c2f-bbfb-c5316a8fee40",
   "metadata": {
    "tags": []
   },
   "outputs": [
    {
     "data": {
      "text/plain": [
       "F_onewayResult(statistic=46.6347776805843, pvalue=3.263604278259159e-09)"
      ]
     },
     "execution_count": 13,
     "metadata": {},
     "output_type": "execute_result"
    }
   ],
   "source": [
    "f_oneway(df_sl1,df_sl2,df_sl3,df_sl4)"
   ]
  },
  {
   "cell_type": "code",
   "execution_count": 14,
   "id": "c39ceccb-f70c-4d55-8f2c-4fca4341ed27",
   "metadata": {
    "tags": []
   },
   "outputs": [],
   "source": [
    "## pvalue is low\n",
    "## Conclusion: Reject H0"
   ]
  },
  {
   "cell_type": "code",
   "execution_count": 15,
   "id": "677226d0-e30b-40ee-83ba-66b544a005b0",
   "metadata": {
    "tags": []
   },
   "outputs": [],
   "source": [
    "from scipy.stats import chi2_contingency"
   ]
  },
  {
   "cell_type": "code",
   "execution_count": 18,
   "id": "e1706f4f-6f4b-498c-be86-f2abeb0d0cbd",
   "metadata": {
    "tags": []
   },
   "outputs": [
    {
     "data": {
      "text/plain": [
       "\u001b[0;31mSignature:\u001b[0m \u001b[0mchi2_contingency\u001b[0m\u001b[0;34m(\u001b[0m\u001b[0mobserved\u001b[0m\u001b[0;34m,\u001b[0m \u001b[0mcorrection\u001b[0m\u001b[0;34m=\u001b[0m\u001b[0;32mTrue\u001b[0m\u001b[0;34m,\u001b[0m \u001b[0mlambda_\u001b[0m\u001b[0;34m=\u001b[0m\u001b[0;32mNone\u001b[0m\u001b[0;34m)\u001b[0m\u001b[0;34m\u001b[0m\u001b[0;34m\u001b[0m\u001b[0m\n",
       "\u001b[0;31mDocstring:\u001b[0m\n",
       "Chi-square test of independence of variables in a contingency table.\n",
       "\n",
       "This function computes the chi-square statistic and p-value for the\n",
       "hypothesis test of independence of the observed frequencies in the\n",
       "contingency table [1]_ `observed`.  The expected frequencies are computed\n",
       "based on the marginal sums under the assumption of independence; see\n",
       "`scipy.stats.contingency.expected_freq`.  The number of degrees of\n",
       "freedom is (expressed using numpy functions and attributes)::\n",
       "\n",
       "    dof = observed.size - sum(observed.shape) + observed.ndim - 1\n",
       "\n",
       "\n",
       "Parameters\n",
       "----------\n",
       "observed : array_like\n",
       "    The contingency table. The table contains the observed frequencies\n",
       "    (i.e. number of occurrences) in each category.  In the two-dimensional\n",
       "    case, the table is often described as an \"R x C table\".\n",
       "correction : bool, optional\n",
       "    If True, *and* the degrees of freedom is 1, apply Yates' correction\n",
       "    for continuity.  The effect of the correction is to adjust each\n",
       "    observed value by 0.5 towards the corresponding expected value.\n",
       "lambda_ : float or str, optional\n",
       "    By default, the statistic computed in this test is Pearson's\n",
       "    chi-squared statistic [2]_.  `lambda_` allows a statistic from the\n",
       "    Cressie-Read power divergence family [3]_ to be used instead.  See\n",
       "    `scipy.stats.power_divergence` for details.\n",
       "\n",
       "Returns\n",
       "-------\n",
       "res : Chi2ContingencyResult\n",
       "    An object containing attributes:\n",
       "\n",
       "    statistic : float\n",
       "        The test statistic.\n",
       "    pvalue : float\n",
       "        The p-value of the test.\n",
       "    dof : int\n",
       "        The degrees of freedom.\n",
       "    expected_freq : ndarray, same shape as `observed`\n",
       "        The expected frequencies, based on the marginal sums of the table.\n",
       "\n",
       "See Also\n",
       "--------\n",
       "scipy.stats.contingency.expected_freq\n",
       "scipy.stats.fisher_exact\n",
       "scipy.stats.chisquare\n",
       "scipy.stats.power_divergence\n",
       "scipy.stats.barnard_exact\n",
       "scipy.stats.boschloo_exact\n",
       "\n",
       "Notes\n",
       "-----\n",
       "An often quoted guideline for the validity of this calculation is that\n",
       "the test should be used only if the observed and expected frequencies\n",
       "in each cell are at least 5.\n",
       "\n",
       "This is a test for the independence of different categories of a\n",
       "population. The test is only meaningful when the dimension of\n",
       "`observed` is two or more.  Applying the test to a one-dimensional\n",
       "table will always result in `expected` equal to `observed` and a\n",
       "chi-square statistic equal to 0.\n",
       "\n",
       "This function does not handle masked arrays, because the calculation\n",
       "does not make sense with missing values.\n",
       "\n",
       "Like `scipy.stats.chisquare`, this function computes a chi-square\n",
       "statistic; the convenience this function provides is to figure out the\n",
       "expected frequencies and degrees of freedom from the given contingency\n",
       "table. If these were already known, and if the Yates' correction was not\n",
       "required, one could use `scipy.stats.chisquare`.  That is, if one calls::\n",
       "\n",
       "    res = chi2_contingency(obs, correction=False)\n",
       "\n",
       "then the following is true::\n",
       "\n",
       "    (res.statistic, res.pvalue) == stats.chisquare(obs.ravel(),\n",
       "                                                   f_exp=ex.ravel(),\n",
       "                                                   ddof=obs.size - 1 - dof)\n",
       "\n",
       "The `lambda_` argument was added in version 0.13.0 of scipy.\n",
       "\n",
       "References\n",
       "----------\n",
       ".. [1] \"Contingency table\",\n",
       "       https://en.wikipedia.org/wiki/Contingency_table\n",
       ".. [2] \"Pearson's chi-squared test\",\n",
       "       https://en.wikipedia.org/wiki/Pearson%27s_chi-squared_test\n",
       ".. [3] Cressie, N. and Read, T. R. C., \"Multinomial Goodness-of-Fit\n",
       "       Tests\", J. Royal Stat. Soc. Series B, Vol. 46, No. 3 (1984),\n",
       "       pp. 440-464.\n",
       ".. [4] Berger, Jeffrey S. et al. \"Aspirin for the Primary Prevention of\n",
       "       Cardiovascular Events in Women and Men: A Sex-Specific\n",
       "       Meta-analysis of Randomized Controlled Trials.\"\n",
       "       JAMA, 295(3):306-313, :doi:`10.1001/jama.295.3.306`, 2006.\n",
       "\n",
       "Examples\n",
       "--------\n",
       "In [4]_, the use of aspirin to prevent cardiovascular events in women\n",
       "and men was investigated. The study notably concluded:\n",
       "\n",
       "    ...aspirin therapy reduced the risk of a composite of\n",
       "    cardiovascular events due to its effect on reducing the risk of\n",
       "    ischemic stroke in women [...]\n",
       "\n",
       "The article lists studies of various cardiovascular events. Let's\n",
       "focus on the ischemic stoke in women.\n",
       "\n",
       "The following table summarizes the results of the experiment in which\n",
       "participants took aspirin or a placebo on a regular basis for several\n",
       "years. Cases of ischemic stroke were recorded::\n",
       "\n",
       "                      Aspirin   Control/Placebo\n",
       "    Ischemic stroke     176           230\n",
       "    No stroke         21035         21018\n",
       "\n",
       "Is there evidence that the aspirin reduces the risk of ischemic stroke?\n",
       "We begin by formulating a null hypothesis :math:`H_0`:\n",
       "\n",
       "    The effect of aspirin is equivalent to that of placebo.\n",
       "\n",
       "Let's assess the plausibility of this hypothesis with\n",
       "a chi-square test.\n",
       "\n",
       ">>> import numpy as np\n",
       ">>> from scipy.stats import chi2_contingency\n",
       ">>> table = np.array([[176, 230], [21035, 21018]])\n",
       ">>> res = chi2_contingency(table)\n",
       ">>> res.statistic\n",
       "6.892569132546561\n",
       ">>> res.pvalue\n",
       "0.008655478161175739\n",
       "\n",
       "Using a significance level of 5%, we would reject the null hypothesis in\n",
       "favor of the alternative hypothesis: \"the effect of aspirin\n",
       "is not equivalent to the effect of placebo\".\n",
       "Because `scipy.stats.contingency.chi2_contingency` performs a two-sided\n",
       "test, the alternative hypothesis does not indicate the direction of the\n",
       "effect. We can use `stats.contingency.odds_ratio` to support the\n",
       "conclusion that aspirin *reduces* the risk of ischemic stroke.\n",
       "\n",
       "Below are further examples showing how larger contingency tables can be\n",
       "tested.\n",
       "\n",
       "A two-way example (2 x 3):\n",
       "\n",
       ">>> obs = np.array([[10, 10, 20], [20, 20, 20]])\n",
       ">>> res = chi2_contingency(obs)\n",
       ">>> res.statistic\n",
       "2.7777777777777777\n",
       ">>> res.pvalue\n",
       "0.24935220877729619\n",
       ">>> res.dof\n",
       "2\n",
       ">>> res.expected_freq\n",
       "array([[ 12.,  12.,  16.],\n",
       "       [ 18.,  18.,  24.]])\n",
       "\n",
       "Perform the test using the log-likelihood ratio (i.e. the \"G-test\")\n",
       "instead of Pearson's chi-squared statistic.\n",
       "\n",
       ">>> res = chi2_contingency(obs, lambda_=\"log-likelihood\")\n",
       ">>> res.statistic\n",
       "2.7688587616781319\n",
       ">>> res.pvalue\n",
       "0.25046668010954165\n",
       "\n",
       "A four-way example (2 x 2 x 2 x 2):\n",
       "\n",
       ">>> obs = np.array(\n",
       "...     [[[[12, 17],\n",
       "...        [11, 16]],\n",
       "...       [[11, 12],\n",
       "...        [15, 16]]],\n",
       "...      [[[23, 15],\n",
       "...        [30, 22]],\n",
       "...       [[14, 17],\n",
       "...        [15, 16]]]])\n",
       ">>> res = chi2_contingency(obs)\n",
       ">>> res.statistic\n",
       "8.7584514426741897\n",
       ">>> res.pvalue\n",
       "0.64417725029295503\n",
       "\u001b[0;31mFile:\u001b[0m      ~/miniforge3/envs/dt/lib/python3.9/site-packages/scipy/stats/contingency.py\n",
       "\u001b[0;31mType:\u001b[0m      function"
      ]
     },
     "metadata": {},
     "output_type": "display_data"
    }
   ],
   "source": [
    "?chi2_contingency"
   ]
  },
  {
   "cell_type": "code",
   "execution_count": 17,
   "id": "5d887d09-bfb5-4b7d-bb52-5b9df6bf6b6f",
   "metadata": {
    "tags": []
   },
   "outputs": [],
   "source": [
    "cont_table = [[40,217],[34,1350]]"
   ]
  },
  {
   "cell_type": "code",
   "execution_count": 19,
   "id": "9e0aeeb2-3bb1-49e0-9b85-aa7648abc8ee",
   "metadata": {
    "tags": []
   },
   "outputs": [],
   "source": [
    "a,p,c,d = chi2_contingency(cont_table)"
   ]
  },
  {
   "cell_type": "code",
   "execution_count": 20,
   "id": "144e451b-ea1b-408c-addd-ad3c8ae19bdb",
   "metadata": {
    "tags": []
   },
   "outputs": [
    {
     "data": {
      "text/plain": [
       "6.48941080228602e-20"
      ]
     },
     "execution_count": 20,
     "metadata": {},
     "output_type": "execute_result"
    }
   ],
   "source": [
    "p"
   ]
  },
  {
   "cell_type": "code",
   "execution_count": 21,
   "id": "8b74a58e-cf89-485b-98e7-4b3806dc17f8",
   "metadata": {
    "tags": []
   },
   "outputs": [
    {
     "data": {
      "text/plain": [
       "array([[  11.58927483,  245.41072517],\n",
       "       [  62.41072517, 1321.58927483]])"
      ]
     },
     "execution_count": 21,
     "metadata": {},
     "output_type": "execute_result"
    }
   ],
   "source": [
    "d"
   ]
  },
  {
   "cell_type": "code",
   "execution_count": null,
   "id": "bda65109-e87e-4c3a-9795-8c14c8df1c14",
   "metadata": {},
   "outputs": [],
   "source": []
  }
 ],
 "metadata": {
  "kernelspec": {
   "display_name": "Python 3 (ipykernel)",
   "language": "python",
   "name": "python3"
  },
  "language_info": {
   "codemirror_mode": {
    "name": "ipython",
    "version": 3
   },
   "file_extension": ".py",
   "mimetype": "text/x-python",
   "name": "python",
   "nbconvert_exporter": "python",
   "pygments_lexer": "ipython3",
   "version": "3.9.16"
  }
 },
 "nbformat": 4,
 "nbformat_minor": 5
}
