{
 "cells": [
  {
   "cell_type": "code",
   "execution_count": 1,
   "id": "79aacbc3-67f7-4e23-b2d4-1626b907f9c3",
   "metadata": {},
   "outputs": [],
   "source": [
    "import pandas as pd\n",
    "path1 = \"test_result.csv\""
   ]
  },
  {
   "cell_type": "code",
   "execution_count": 2,
   "id": "70b71827-801c-4e2a-9483-67dde3aa2d2f",
   "metadata": {},
   "outputs": [],
   "source": [
    "df1 = pd.read_csv(path1)"
   ]
  },
  {
   "cell_type": "code",
   "execution_count": 3,
   "id": "f3af4812-2156-4e5b-bac7-cd1c8bc8a3d1",
   "metadata": {},
   "outputs": [
    {
     "data": {
      "text/html": [
       "<div>\n",
       "<style scoped>\n",
       "    .dataframe tbody tr th:only-of-type {\n",
       "        vertical-align: middle;\n",
       "    }\n",
       "\n",
       "    .dataframe tbody tr th {\n",
       "        vertical-align: top;\n",
       "    }\n",
       "\n",
       "    .dataframe thead th {\n",
       "        text-align: right;\n",
       "    }\n",
       "</style>\n",
       "<table border=\"1\" class=\"dataframe\">\n",
       "  <thead>\n",
       "    <tr style=\"text-align: right;\">\n",
       "      <th></th>\n",
       "      <th>user_id</th>\n",
       "      <th>timestamp</th>\n",
       "      <th>source</th>\n",
       "      <th>device</th>\n",
       "      <th>operative_system</th>\n",
       "      <th>test</th>\n",
       "      <th>price</th>\n",
       "      <th>converted</th>\n",
       "    </tr>\n",
       "  </thead>\n",
       "  <tbody>\n",
       "    <tr>\n",
       "      <th>0</th>\n",
       "      <td>604839</td>\n",
       "      <td>2015-05-08 03:38:34</td>\n",
       "      <td>ads_facebook</td>\n",
       "      <td>mobile</td>\n",
       "      <td>iOS</td>\n",
       "      <td>0</td>\n",
       "      <td>39</td>\n",
       "      <td>0</td>\n",
       "    </tr>\n",
       "    <tr>\n",
       "      <th>1</th>\n",
       "      <td>624057</td>\n",
       "      <td>2015-05-10 21:08:46</td>\n",
       "      <td>seo-google</td>\n",
       "      <td>mobile</td>\n",
       "      <td>android</td>\n",
       "      <td>0</td>\n",
       "      <td>39</td>\n",
       "      <td>0</td>\n",
       "    </tr>\n",
       "  </tbody>\n",
       "</table>\n",
       "</div>"
      ],
      "text/plain": [
       "   user_id            timestamp        source  device operative_system  test  \\\n",
       "0   604839  2015-05-08 03:38:34  ads_facebook  mobile              iOS     0   \n",
       "1   624057  2015-05-10 21:08:46    seo-google  mobile          android     0   \n",
       "\n",
       "   price  converted  \n",
       "0     39          0  \n",
       "1     39          0  "
      ]
     },
     "execution_count": 3,
     "metadata": {},
     "output_type": "execute_result"
    }
   ],
   "source": [
    "df1.head(2)"
   ]
  },
  {
   "attachments": {},
   "cell_type": "markdown",
   "id": "004f0d21-5998-4fcb-ac8e-4f98221ae655",
   "metadata": {},
   "source": [
    "## Business Context\n",
    "\n",
    "Pricing optimization is, non surprisingly, another area where data science can provide huge value.\n",
    "The goal here is to evaluate whether a pricing test running on the site has been successful. As always, you should focus on user segmentation and provide insights about segments who behave differently as well as any other insights you might find.\n",
    "\n",
    "\n",
    "### Problem Statement\n",
    "\n",
    "Company XYZ sells a software for 39 dollars. Since revenue has been flat for some time, the VP of Product has decided to run a test increasing the price. She hopes that this would increase revenue. In the experiment, 66% of the users have seen the old price (39 dollars), while a random sample of 33% users a higher price (59 dollars).\n",
    "\n",
    "The test has been running for some time and the VP of Product is interested in understanding how it went and whether it would make sense to increase the price for all the users.\n",
    "Especially he asked you the following questions:\n",
    "\n",
    "- Should the company sell its software for 39 or 59 dollars?\n",
    "- The VP of Product is interested in having a holistic view into user behavior, especially focusing on actionable insights that might increase conversion rate. What are your main findings looking at the data?\n",
    "\n",
    "\n",
    "#### Data\n",
    "\n",
    "**test_results.csv**\n",
    "\n",
    "Columns:\n",
    "- user_id : the Id of the user. Can be joined to user_id in user_table\n",
    "- timestamp : the date and time when the user hit for the first time company XYZ webpage. It is in user local time\n",
    "- source : marketing channel that led to the user coming to the site. It can be:\n",
    "    - ads-[\"google\", \"facebook\", \"bing\", \"yahoo\", \"other\"]. That is, user coming from google ads, yahoo ads, etc.\n",
    "    - seo - [\"google\", \"facebook\", \"bing\", \"yahoo\", \"other\"]. That is, user coming from google search, yahoo, facebook, etc.\n",
    "    - friend_referral : user coming from a referral link of another user\n",
    "    - direct_traffic: user coming by directly typing the address of the site on the browser\n",
    "- device : user device. Can be mobile or web\n",
    "- operative_system : user operative system. Can be: \"windows\", \"linux\", \"mac\" for web, and \"android\", \"iOS\" for mobile.Other if it is none of the above\n",
    "- test: whether the user was in the test (i.e. 1 -> higher price) or in control (0 -> oldlower price)\n",
    "- price : the price the user sees. It should match test\n",
    "- converted : whether the user converted (i.e. 1 -> bought the software) or not (0 -> left the site without buying it).\n"
   ]
  },
  {
   "attachments": {},
   "cell_type": "markdown",
   "id": "f4072f30-7957-4b0b-8d9d-98d742511499",
   "metadata": {},
   "source": [
    "```Conclusion\n",
    "p-value is small so we can reject H0, lower pricing is increasing the conversions\n",
    "```"
   ]
  },
  {
   "cell_type": "code",
   "execution_count": null,
   "id": "51b6b14c-5245-429c-ba9e-80f061b390f3",
   "metadata": {},
   "outputs": [],
   "source": []
  }
 ],
 "metadata": {
  "kernelspec": {
   "display_name": "Python 3 (ipykernel)",
   "language": "python",
   "name": "python3"
  },
  "language_info": {
   "codemirror_mode": {
    "name": "ipython",
    "version": 3
   },
   "file_extension": ".py",
   "mimetype": "text/x-python",
   "name": "python",
   "nbconvert_exporter": "python",
   "pygments_lexer": "ipython3",
   "version": "3.9.13"
  }
 },
 "nbformat": 4,
 "nbformat_minor": 5
}
