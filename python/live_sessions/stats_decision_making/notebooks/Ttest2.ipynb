{
 "cells": [
  {
   "cell_type": "code",
   "execution_count": 1,
   "id": "c2c40aac-d36f-4e3f-a4c6-c74f5181f098",
   "metadata": {},
   "outputs": [
    {
     "data": {
      "text/html": [
       "<div>\n",
       "<style scoped>\n",
       "    .dataframe tbody tr th:only-of-type {\n",
       "        vertical-align: middle;\n",
       "    }\n",
       "\n",
       "    .dataframe tbody tr th {\n",
       "        vertical-align: top;\n",
       "    }\n",
       "\n",
       "    .dataframe thead th {\n",
       "        text-align: right;\n",
       "    }\n",
       "</style>\n",
       "<table border=\"1\" class=\"dataframe\">\n",
       "  <thead>\n",
       "    <tr style=\"text-align: right;\">\n",
       "      <th></th>\n",
       "      <th>user_id</th>\n",
       "      <th>date_served</th>\n",
       "      <th>marketing_channel</th>\n",
       "      <th>variant</th>\n",
       "      <th>converted</th>\n",
       "      <th>language_displayed</th>\n",
       "      <th>language_preferred</th>\n",
       "      <th>age_group</th>\n",
       "      <th>date_subscribed</th>\n",
       "      <th>date_canceled</th>\n",
       "      <th>subscribing_channel</th>\n",
       "      <th>is_retained</th>\n",
       "    </tr>\n",
       "  </thead>\n",
       "  <tbody>\n",
       "    <tr>\n",
       "      <th>0</th>\n",
       "      <td>a100000029</td>\n",
       "      <td>1/1/18</td>\n",
       "      <td>House Ads</td>\n",
       "      <td>personalization</td>\n",
       "      <td>True</td>\n",
       "      <td>English</td>\n",
       "      <td>English</td>\n",
       "      <td>0-18 years</td>\n",
       "      <td>1/1/18</td>\n",
       "      <td>NaN</td>\n",
       "      <td>House Ads</td>\n",
       "      <td>True</td>\n",
       "    </tr>\n",
       "    <tr>\n",
       "      <th>1</th>\n",
       "      <td>a100000030</td>\n",
       "      <td>1/1/18</td>\n",
       "      <td>House Ads</td>\n",
       "      <td>personalization</td>\n",
       "      <td>True</td>\n",
       "      <td>English</td>\n",
       "      <td>English</td>\n",
       "      <td>19-24 years</td>\n",
       "      <td>1/1/18</td>\n",
       "      <td>NaN</td>\n",
       "      <td>House Ads</td>\n",
       "      <td>True</td>\n",
       "    </tr>\n",
       "  </tbody>\n",
       "</table>\n",
       "</div>"
      ],
      "text/plain": [
       "      user_id date_served marketing_channel          variant converted  \\\n",
       "0  a100000029      1/1/18         House Ads  personalization      True   \n",
       "1  a100000030      1/1/18         House Ads  personalization      True   \n",
       "\n",
       "  language_displayed language_preferred    age_group date_subscribed  \\\n",
       "0            English            English   0-18 years          1/1/18   \n",
       "1            English            English  19-24 years          1/1/18   \n",
       "\n",
       "  date_canceled subscribing_channel is_retained  \n",
       "0           NaN           House Ads        True  \n",
       "1           NaN           House Ads        True  "
      ]
     },
     "execution_count": 1,
     "metadata": {},
     "output_type": "execute_result"
    }
   ],
   "source": [
    "import pandas as pd\n",
    "df = pd.read_csv('fb_marketing.csv')\n",
    "df.head(2)"
   ]
  },
  {
   "cell_type": "markdown",
   "id": "e0e68fc7-a13b-40c0-9f13-56646a6986f8",
   "metadata": {},
   "source": [
    "### Executive Summary\n",
    "Objective: determine if personalized marketing content are more effective than control in subscribing users?\n"
   ]
  },
  {
   "cell_type": "code",
   "execution_count": 2,
   "id": "59f166de-0372-4c5c-a9d7-eb0066c04b03",
   "metadata": {},
   "outputs": [
    {
     "data": {
      "text/plain": [
       "array(['personalization', 'control'], dtype=object)"
      ]
     },
     "execution_count": 2,
     "metadata": {},
     "output_type": "execute_result"
    }
   ],
   "source": [
    "df['variant'].unique()"
   ]
  },
  {
   "cell_type": "code",
   "execution_count": 3,
   "id": "266cc4d8-7147-4faa-affb-bdad6f623148",
   "metadata": {},
   "outputs": [
    {
     "data": {
      "text/plain": [
       "array(['House Ads', 'Email', 'Push', 'Facebook', 'Instagram', nan],\n",
       "      dtype=object)"
      ]
     },
     "execution_count": 3,
     "metadata": {},
     "output_type": "execute_result"
    }
   ],
   "source": [
    "df['subscribing_channel'].unique()"
   ]
  },
  {
   "cell_type": "code",
   "execution_count": 4,
   "id": "fe9c2b13-3d63-4c4c-8501-c35fb5ad271f",
   "metadata": {},
   "outputs": [],
   "source": [
    "personal = df.query(\"subscribing_channel=='Email' and variant=='personalization'\")[['subscribing_channel','variant','date_served','converted']]"
   ]
  },
  {
   "cell_type": "code",
   "execution_count": 5,
   "id": "f4f14753-3439-4d2e-bfc3-f1a6f2d835e5",
   "metadata": {},
   "outputs": [],
   "source": [
    "control = df.query(\"subscribing_channel=='Email' and variant=='control'\")[['subscribing_channel','variant','date_served','converted']]"
   ]
  },
  {
   "cell_type": "code",
   "execution_count": 6,
   "id": "c5769d6a-0482-4312-9834-53bd07fe3de3",
   "metadata": {},
   "outputs": [
    {
     "data": {
      "text/plain": [
       "0.7168253968253969"
      ]
     },
     "execution_count": 6,
     "metadata": {},
     "output_type": "execute_result"
    }
   ],
   "source": [
    "(personal.groupby('date_served')['converted'].mean()).mean()"
   ]
  },
  {
   "cell_type": "code",
   "execution_count": 7,
   "id": "2862d59c-9503-429f-bb9e-b684970141e7",
   "metadata": {},
   "outputs": [
    {
     "data": {
      "text/plain": [
       "0.20178797904604356"
      ]
     },
     "execution_count": 7,
     "metadata": {},
     "output_type": "execute_result"
    }
   ],
   "source": [
    "(control.groupby('date_served')['converted'].mean()).mean()"
   ]
  },
  {
   "cell_type": "code",
   "execution_count": 8,
   "id": "beeccd6b-30e2-4da4-89d6-4aa48b37dad2",
   "metadata": {},
   "outputs": [],
   "source": [
    "import scipy.stats as stats"
   ]
  },
  {
   "cell_type": "code",
   "execution_count": 9,
   "id": "97c58c17-ef75-4f65-ad3c-6aad701cfd72",
   "metadata": {},
   "outputs": [
    {
     "data": {
      "text/plain": [
       "Ttest_indResult(statistic=6.625621426500147, pvalue=1.2434018743739575e-08)"
      ]
     },
     "execution_count": 9,
     "metadata": {},
     "output_type": "execute_result"
    }
   ],
   "source": [
    "stats.ttest_ind(personal.groupby('date_served')['converted'].mean(),\n",
    "                control.groupby('date_served')['converted'].mean(),equal_var=True)"
   ]
  },
  {
   "cell_type": "code",
   "execution_count": null,
   "id": "93427def-3543-4228-8403-0bcefdb127d3",
   "metadata": {},
   "outputs": [],
   "source": []
  }
 ],
 "metadata": {
  "kernelspec": {
   "display_name": "Python 3 (ipykernel)",
   "language": "python",
   "name": "python3"
  },
  "language_info": {
   "codemirror_mode": {
    "name": "ipython",
    "version": 3
   },
   "file_extension": ".py",
   "mimetype": "text/x-python",
   "name": "python",
   "nbconvert_exporter": "python",
   "pygments_lexer": "ipython3",
   "version": "3.9.13"
  }
 },
 "nbformat": 4,
 "nbformat_minor": 5
}
