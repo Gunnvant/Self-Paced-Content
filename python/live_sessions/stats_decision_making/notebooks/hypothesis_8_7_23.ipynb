{
 "cells": [
  {
   "cell_type": "code",
   "execution_count": 1,
   "id": "65b1ff1f-8797-48bd-bd8b-d533964e5dc7",
   "metadata": {
    "tags": []
   },
   "outputs": [],
   "source": [
    "import pandas as pd\n",
    "url = \"https://raw.githubusercontent.com/Gunnvant/Self-Paced-Content/main/python/live_sessions/stats_decision_making/notebooks/reddit.csv\""
   ]
  },
  {
   "cell_type": "code",
   "execution_count": 2,
   "id": "9c60798c-b5bc-4ad0-aa0c-4bac62a22a40",
   "metadata": {
    "tags": []
   },
   "outputs": [],
   "source": [
    "df = pd.read_csv(url)"
   ]
  },
  {
   "cell_type": "code",
   "execution_count": 3,
   "id": "5ffac49b-d162-4764-914e-57182b0c0015",
   "metadata": {
    "tags": []
   },
   "outputs": [
    {
     "data": {
      "text/html": [
       "<div>\n",
       "<style scoped>\n",
       "    .dataframe tbody tr th:only-of-type {\n",
       "        vertical-align: middle;\n",
       "    }\n",
       "\n",
       "    .dataframe tbody tr th {\n",
       "        vertical-align: top;\n",
       "    }\n",
       "\n",
       "    .dataframe thead th {\n",
       "        text-align: right;\n",
       "    }\n",
       "</style>\n",
       "<table border=\"1\" class=\"dataframe\">\n",
       "  <thead>\n",
       "    <tr style=\"text-align: right;\">\n",
       "      <th></th>\n",
       "      <th>register_index</th>\n",
       "      <th>post_id</th>\n",
       "      <th>comment_id</th>\n",
       "      <th>author</th>\n",
       "      <th>datetime</th>\n",
       "      <th>title</th>\n",
       "      <th>url</th>\n",
       "      <th>score</th>\n",
       "      <th>comments</th>\n",
       "      <th>text</th>\n",
       "      <th>author_post_karma</th>\n",
       "      <th>tag</th>\n",
       "    </tr>\n",
       "  </thead>\n",
       "  <tbody>\n",
       "    <tr>\n",
       "      <th>0</th>\n",
       "      <td>145k12dpost</td>\n",
       "      <td>145k12d</td>\n",
       "      <td>NaN</td>\n",
       "      <td>SauloJr</td>\n",
       "      <td>2023-06-09 23:17:15</td>\n",
       "      <td>Reddit CEO Spez answered a grand total of 14 q...</td>\n",
       "      <td>https://www.reddit.com/r/technology/comments/1...</td>\n",
       "      <td>1.0</td>\n",
       "      <td>0.0</td>\n",
       "      <td>Reddit CEO Spez answered a grand total of 14 q...</td>\n",
       "      <td>44092.0</td>\n",
       "      <td>Social Media</td>\n",
       "    </tr>\n",
       "    <tr>\n",
       "      <th>1</th>\n",
       "      <td>145hyeyjnlh1vx</td>\n",
       "      <td>145hyey</td>\n",
       "      <td>jnlh1vx</td>\n",
       "      <td>Illustrious_Risk3732</td>\n",
       "      <td>2023-06-09 23:42:43</td>\n",
       "      <td>NaN</td>\n",
       "      <td>NaN</td>\n",
       "      <td>1.0</td>\n",
       "      <td>NaN</td>\n",
       "      <td>He even gives him self Awards to make sure he ...</td>\n",
       "      <td>17109.0</td>\n",
       "      <td>Social Media</td>\n",
       "    </tr>\n",
       "  </tbody>\n",
       "</table>\n",
       "</div>"
      ],
      "text/plain": [
       "   register_index  post_id comment_id                author  \\\n",
       "0     145k12dpost  145k12d        NaN               SauloJr   \n",
       "1  145hyeyjnlh1vx  145hyey    jnlh1vx  Illustrious_Risk3732   \n",
       "\n",
       "              datetime                                              title  \\\n",
       "0  2023-06-09 23:17:15  Reddit CEO Spez answered a grand total of 14 q...   \n",
       "1  2023-06-09 23:42:43                                                NaN   \n",
       "\n",
       "                                                 url  score  comments  \\\n",
       "0  https://www.reddit.com/r/technology/comments/1...    1.0       0.0   \n",
       "1                                                NaN    1.0       NaN   \n",
       "\n",
       "                                                text  author_post_karma  \\\n",
       "0  Reddit CEO Spez answered a grand total of 14 q...            44092.0   \n",
       "1  He even gives him self Awards to make sure he ...            17109.0   \n",
       "\n",
       "            tag  \n",
       "0  Social Media  \n",
       "1  Social Media  "
      ]
     },
     "execution_count": 3,
     "metadata": {},
     "output_type": "execute_result"
    }
   ],
   "source": [
    "df.head(2)"
   ]
  },
  {
   "cell_type": "markdown",
   "id": "ff102aef-b633-47b8-af46-b92656793a50",
   "metadata": {},
   "source": [
    "**Took a sample and found out that there were 2500 comments in a day. Is the rate of posts per day 2500 or is it different**"
   ]
  },
  {
   "cell_type": "code",
   "execution_count": 5,
   "id": "5884145f-d9bc-464f-bb81-6454b5b390f9",
   "metadata": {
    "tags": []
   },
   "outputs": [],
   "source": [
    "df['datetime']=pd.to_datetime(df['datetime'])"
   ]
  },
  {
   "cell_type": "code",
   "execution_count": 9,
   "id": "c4c9f06a-f2be-4237-9d4a-4fe9ca8af499",
   "metadata": {
    "tags": []
   },
   "outputs": [],
   "source": [
    "df['date']=df['datetime'].dt.date"
   ]
  },
  {
   "cell_type": "code",
   "execution_count": 11,
   "id": "7bf0050d-66f9-401b-8638-0fdbbeb51e7f",
   "metadata": {
    "tags": []
   },
   "outputs": [
    {
     "data": {
      "text/plain": [
       "(1265,)"
      ]
     },
     "execution_count": 11,
     "metadata": {},
     "output_type": "execute_result"
    }
   ],
   "source": [
    "df['post_id'].unique().shape"
   ]
  },
  {
   "cell_type": "code",
   "execution_count": 12,
   "id": "093ae593-5e6e-4532-92b8-aa64d53dd1b2",
   "metadata": {
    "tags": []
   },
   "outputs": [
    {
     "data": {
      "text/plain": [
       "115062"
      ]
     },
     "execution_count": 12,
     "metadata": {},
     "output_type": "execute_result"
    }
   ],
   "source": [
    "df.shape[0]"
   ]
  },
  {
   "cell_type": "code",
   "execution_count": 13,
   "id": "63c59b80-074b-478e-9d5e-3b97cf46ea39",
   "metadata": {
    "tags": []
   },
   "outputs": [
    {
     "data": {
      "text/html": [
       "<div>\n",
       "<style scoped>\n",
       "    .dataframe tbody tr th:only-of-type {\n",
       "        vertical-align: middle;\n",
       "    }\n",
       "\n",
       "    .dataframe tbody tr th {\n",
       "        vertical-align: top;\n",
       "    }\n",
       "\n",
       "    .dataframe thead th {\n",
       "        text-align: right;\n",
       "    }\n",
       "</style>\n",
       "<table border=\"1\" class=\"dataframe\">\n",
       "  <thead>\n",
       "    <tr style=\"text-align: right;\">\n",
       "      <th></th>\n",
       "      <th>register_index</th>\n",
       "      <th>post_id</th>\n",
       "      <th>comment_id</th>\n",
       "      <th>author</th>\n",
       "      <th>datetime</th>\n",
       "      <th>title</th>\n",
       "      <th>url</th>\n",
       "      <th>score</th>\n",
       "      <th>comments</th>\n",
       "      <th>text</th>\n",
       "      <th>author_post_karma</th>\n",
       "      <th>tag</th>\n",
       "      <th>date</th>\n",
       "    </tr>\n",
       "  </thead>\n",
       "  <tbody>\n",
       "    <tr>\n",
       "      <th>0</th>\n",
       "      <td>145k12dpost</td>\n",
       "      <td>145k12d</td>\n",
       "      <td>NaN</td>\n",
       "      <td>SauloJr</td>\n",
       "      <td>2023-06-09 23:17:15</td>\n",
       "      <td>Reddit CEO Spez answered a grand total of 14 q...</td>\n",
       "      <td>https://www.reddit.com/r/technology/comments/1...</td>\n",
       "      <td>1.0</td>\n",
       "      <td>0.0</td>\n",
       "      <td>Reddit CEO Spez answered a grand total of 14 q...</td>\n",
       "      <td>44092.0</td>\n",
       "      <td>Social Media</td>\n",
       "      <td>2023-06-09</td>\n",
       "    </tr>\n",
       "    <tr>\n",
       "      <th>1</th>\n",
       "      <td>145hyeyjnlh1vx</td>\n",
       "      <td>145hyey</td>\n",
       "      <td>jnlh1vx</td>\n",
       "      <td>Illustrious_Risk3732</td>\n",
       "      <td>2023-06-09 23:42:43</td>\n",
       "      <td>NaN</td>\n",
       "      <td>NaN</td>\n",
       "      <td>1.0</td>\n",
       "      <td>NaN</td>\n",
       "      <td>He even gives him self Awards to make sure he ...</td>\n",
       "      <td>17109.0</td>\n",
       "      <td>Social Media</td>\n",
       "      <td>2023-06-09</td>\n",
       "    </tr>\n",
       "    <tr>\n",
       "      <th>2</th>\n",
       "      <td>1453u2ojnjtk7f</td>\n",
       "      <td>1453u2o</td>\n",
       "      <td>jnjtk7f</td>\n",
       "      <td>ProdigiousPlays</td>\n",
       "      <td>2023-06-09 16:47:51</td>\n",
       "      <td>NaN</td>\n",
       "      <td>NaN</td>\n",
       "      <td>1.0</td>\n",
       "      <td>NaN</td>\n",
       "      <td>RIF already announced it s shutting down at th...</td>\n",
       "      <td>118844.0</td>\n",
       "      <td>Social Media</td>\n",
       "      <td>2023-06-09</td>\n",
       "    </tr>\n",
       "    <tr>\n",
       "      <th>3</th>\n",
       "      <td>1453u2ojnjtv9u</td>\n",
       "      <td>1453u2o</td>\n",
       "      <td>jnjtv9u</td>\n",
       "      <td>YJSubs</td>\n",
       "      <td>2023-06-09 16:49:52</td>\n",
       "      <td>NaN</td>\n",
       "      <td>NaN</td>\n",
       "      <td>1.0</td>\n",
       "      <td>NaN</td>\n",
       "      <td>I wonder which sub left on that day</td>\n",
       "      <td>50085.0</td>\n",
       "      <td>Social Media</td>\n",
       "      <td>2023-06-09</td>\n",
       "    </tr>\n",
       "    <tr>\n",
       "      <th>4</th>\n",
       "      <td>1453u2ojnjusm9</td>\n",
       "      <td>1453u2o</td>\n",
       "      <td>jnjusm9</td>\n",
       "      <td>jamnewton22</td>\n",
       "      <td>2023-06-09 16:55:57</td>\n",
       "      <td>NaN</td>\n",
       "      <td>NaN</td>\n",
       "      <td>1.0</td>\n",
       "      <td>NaN</td>\n",
       "      <td>Oh I m sure this will go well lol</td>\n",
       "      <td>171705.0</td>\n",
       "      <td>Social Media</td>\n",
       "      <td>2023-06-09</td>\n",
       "    </tr>\n",
       "  </tbody>\n",
       "</table>\n",
       "</div>"
      ],
      "text/plain": [
       "   register_index  post_id comment_id                author  \\\n",
       "0     145k12dpost  145k12d        NaN               SauloJr   \n",
       "1  145hyeyjnlh1vx  145hyey    jnlh1vx  Illustrious_Risk3732   \n",
       "2  1453u2ojnjtk7f  1453u2o    jnjtk7f       ProdigiousPlays   \n",
       "3  1453u2ojnjtv9u  1453u2o    jnjtv9u                YJSubs   \n",
       "4  1453u2ojnjusm9  1453u2o    jnjusm9           jamnewton22   \n",
       "\n",
       "             datetime                                              title  \\\n",
       "0 2023-06-09 23:17:15  Reddit CEO Spez answered a grand total of 14 q...   \n",
       "1 2023-06-09 23:42:43                                                NaN   \n",
       "2 2023-06-09 16:47:51                                                NaN   \n",
       "3 2023-06-09 16:49:52                                                NaN   \n",
       "4 2023-06-09 16:55:57                                                NaN   \n",
       "\n",
       "                                                 url  score  comments  \\\n",
       "0  https://www.reddit.com/r/technology/comments/1...    1.0       0.0   \n",
       "1                                                NaN    1.0       NaN   \n",
       "2                                                NaN    1.0       NaN   \n",
       "3                                                NaN    1.0       NaN   \n",
       "4                                                NaN    1.0       NaN   \n",
       "\n",
       "                                                text  author_post_karma  \\\n",
       "0  Reddit CEO Spez answered a grand total of 14 q...            44092.0   \n",
       "1  He even gives him self Awards to make sure he ...            17109.0   \n",
       "2  RIF already announced it s shutting down at th...           118844.0   \n",
       "3              I wonder which sub left on that day              50085.0   \n",
       "4                  Oh I m sure this will go well lol           171705.0   \n",
       "\n",
       "            tag        date  \n",
       "0  Social Media  2023-06-09  \n",
       "1  Social Media  2023-06-09  \n",
       "2  Social Media  2023-06-09  \n",
       "3  Social Media  2023-06-09  \n",
       "4  Social Media  2023-06-09  "
      ]
     },
     "execution_count": 13,
     "metadata": {},
     "output_type": "execute_result"
    }
   ],
   "source": [
    "df.head()"
   ]
  },
  {
   "cell_type": "code",
   "execution_count": 15,
   "id": "b7d6d604-3c33-4c0b-ab23-9958bfd0e33b",
   "metadata": {
    "tags": []
   },
   "outputs": [
    {
     "data": {
      "text/plain": [
       "3835.4"
      ]
     },
     "execution_count": 15,
     "metadata": {},
     "output_type": "execute_result"
    }
   ],
   "source": [
    "(df.groupby('date')['date'].count()).mean()"
   ]
  },
  {
   "cell_type": "code",
   "execution_count": null,
   "id": "15a4cd9d-2178-49b1-8c04-809d167bd143",
   "metadata": {},
   "outputs": [],
   "source": [
    "## 3835 comments per day (belief from my whole data)\n",
    "# H0: Avg rate is 3835 comments\n",
    "# Ha: Avg rate is < 3835 comments\n"
   ]
  }
 ],
 "metadata": {
  "kernelspec": {
   "display_name": "Python 3 (ipykernel)",
   "language": "python",
   "name": "python3"
  },
  "language_info": {
   "codemirror_mode": {
    "name": "ipython",
    "version": 3
   },
   "file_extension": ".py",
   "mimetype": "text/x-python",
   "name": "python",
   "nbconvert_exporter": "python",
   "pygments_lexer": "ipython3",
   "version": "3.9.16"
  }
 },
 "nbformat": 4,
 "nbformat_minor": 5
}
