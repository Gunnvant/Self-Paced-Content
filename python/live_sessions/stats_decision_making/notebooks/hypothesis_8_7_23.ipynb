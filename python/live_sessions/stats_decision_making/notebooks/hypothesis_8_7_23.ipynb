{
 "cells": [
  {
   "cell_type": "code",
   "execution_count": 1,
   "id": "65b1ff1f-8797-48bd-bd8b-d533964e5dc7",
   "metadata": {
    "tags": []
   },
   "outputs": [],
   "source": [
    "import pandas as pd\n",
    "url = \"https://raw.githubusercontent.com/Gunnvant/Self-Paced-Content/main/python/live_sessions/stats_decision_making/notebooks/reddit.csv\""
   ]
  },
  {
   "cell_type": "code",
   "execution_count": 2,
   "id": "9c60798c-b5bc-4ad0-aa0c-4bac62a22a40",
   "metadata": {
    "tags": []
   },
   "outputs": [],
   "source": [
    "df = pd.read_csv(url)"
   ]
  },
  {
   "cell_type": "code",
   "execution_count": 3,
   "id": "5ffac49b-d162-4764-914e-57182b0c0015",
   "metadata": {
    "tags": []
   },
   "outputs": [
    {
     "data": {
      "text/html": [
       "<div>\n",
       "<style scoped>\n",
       "    .dataframe tbody tr th:only-of-type {\n",
       "        vertical-align: middle;\n",
       "    }\n",
       "\n",
       "    .dataframe tbody tr th {\n",
       "        vertical-align: top;\n",
       "    }\n",
       "\n",
       "    .dataframe thead th {\n",
       "        text-align: right;\n",
       "    }\n",
       "</style>\n",
       "<table border=\"1\" class=\"dataframe\">\n",
       "  <thead>\n",
       "    <tr style=\"text-align: right;\">\n",
       "      <th></th>\n",
       "      <th>register_index</th>\n",
       "      <th>post_id</th>\n",
       "      <th>comment_id</th>\n",
       "      <th>author</th>\n",
       "      <th>datetime</th>\n",
       "      <th>title</th>\n",
       "      <th>url</th>\n",
       "      <th>score</th>\n",
       "      <th>comments</th>\n",
       "      <th>text</th>\n",
       "      <th>author_post_karma</th>\n",
       "      <th>tag</th>\n",
       "    </tr>\n",
       "  </thead>\n",
       "  <tbody>\n",
       "    <tr>\n",
       "      <th>0</th>\n",
       "      <td>145k12dpost</td>\n",
       "      <td>145k12d</td>\n",
       "      <td>NaN</td>\n",
       "      <td>SauloJr</td>\n",
       "      <td>2023-06-09 23:17:15</td>\n",
       "      <td>Reddit CEO Spez answered a grand total of 14 q...</td>\n",
       "      <td>https://www.reddit.com/r/technology/comments/1...</td>\n",
       "      <td>1.0</td>\n",
       "      <td>0.0</td>\n",
       "      <td>Reddit CEO Spez answered a grand total of 14 q...</td>\n",
       "      <td>44092.0</td>\n",
       "      <td>Social Media</td>\n",
       "    </tr>\n",
       "    <tr>\n",
       "      <th>1</th>\n",
       "      <td>145hyeyjnlh1vx</td>\n",
       "      <td>145hyey</td>\n",
       "      <td>jnlh1vx</td>\n",
       "      <td>Illustrious_Risk3732</td>\n",
       "      <td>2023-06-09 23:42:43</td>\n",
       "      <td>NaN</td>\n",
       "      <td>NaN</td>\n",
       "      <td>1.0</td>\n",
       "      <td>NaN</td>\n",
       "      <td>He even gives him self Awards to make sure he ...</td>\n",
       "      <td>17109.0</td>\n",
       "      <td>Social Media</td>\n",
       "    </tr>\n",
       "  </tbody>\n",
       "</table>\n",
       "</div>"
      ],
      "text/plain": [
       "   register_index  post_id comment_id                author  \\\n",
       "0     145k12dpost  145k12d        NaN               SauloJr   \n",
       "1  145hyeyjnlh1vx  145hyey    jnlh1vx  Illustrious_Risk3732   \n",
       "\n",
       "              datetime                                              title  \\\n",
       "0  2023-06-09 23:17:15  Reddit CEO Spez answered a grand total of 14 q...   \n",
       "1  2023-06-09 23:42:43                                                NaN   \n",
       "\n",
       "                                                 url  score  comments  \\\n",
       "0  https://www.reddit.com/r/technology/comments/1...    1.0       0.0   \n",
       "1                                                NaN    1.0       NaN   \n",
       "\n",
       "                                                text  author_post_karma  \\\n",
       "0  Reddit CEO Spez answered a grand total of 14 q...            44092.0   \n",
       "1  He even gives him self Awards to make sure he ...            17109.0   \n",
       "\n",
       "            tag  \n",
       "0  Social Media  \n",
       "1  Social Media  "
      ]
     },
     "execution_count": 3,
     "metadata": {},
     "output_type": "execute_result"
    }
   ],
   "source": [
    "df.head(2)"
   ]
  },
  {
   "cell_type": "markdown",
   "id": "ff102aef-b633-47b8-af46-b92656793a50",
   "metadata": {},
   "source": [
    "**Took a sample and found out that there were 2500 comments in a day. Is the rate of posts per day 2500 or is it different**"
   ]
  },
  {
   "cell_type": "code",
   "execution_count": 4,
   "id": "5884145f-d9bc-464f-bb81-6454b5b390f9",
   "metadata": {
    "tags": []
   },
   "outputs": [],
   "source": [
    "df['datetime']=pd.to_datetime(df['datetime'])"
   ]
  },
  {
   "cell_type": "code",
   "execution_count": 5,
   "id": "c4c9f06a-f2be-4237-9d4a-4fe9ca8af499",
   "metadata": {
    "tags": []
   },
   "outputs": [],
   "source": [
    "df['date']=df['datetime'].dt.date"
   ]
  },
  {
   "cell_type": "code",
   "execution_count": 6,
   "id": "7bf0050d-66f9-401b-8638-0fdbbeb51e7f",
   "metadata": {
    "tags": []
   },
   "outputs": [
    {
     "data": {
      "text/plain": [
       "(1265,)"
      ]
     },
     "execution_count": 6,
     "metadata": {},
     "output_type": "execute_result"
    }
   ],
   "source": [
    "df['post_id'].unique().shape"
   ]
  },
  {
   "cell_type": "code",
   "execution_count": 7,
   "id": "093ae593-5e6e-4532-92b8-aa64d53dd1b2",
   "metadata": {
    "tags": []
   },
   "outputs": [
    {
     "data": {
      "text/plain": [
       "115062"
      ]
     },
     "execution_count": 7,
     "metadata": {},
     "output_type": "execute_result"
    }
   ],
   "source": [
    "df.shape[0]"
   ]
  },
  {
   "cell_type": "code",
   "execution_count": 8,
   "id": "63c59b80-074b-478e-9d5e-3b97cf46ea39",
   "metadata": {
    "tags": []
   },
   "outputs": [
    {
     "data": {
      "text/html": [
       "<div>\n",
       "<style scoped>\n",
       "    .dataframe tbody tr th:only-of-type {\n",
       "        vertical-align: middle;\n",
       "    }\n",
       "\n",
       "    .dataframe tbody tr th {\n",
       "        vertical-align: top;\n",
       "    }\n",
       "\n",
       "    .dataframe thead th {\n",
       "        text-align: right;\n",
       "    }\n",
       "</style>\n",
       "<table border=\"1\" class=\"dataframe\">\n",
       "  <thead>\n",
       "    <tr style=\"text-align: right;\">\n",
       "      <th></th>\n",
       "      <th>register_index</th>\n",
       "      <th>post_id</th>\n",
       "      <th>comment_id</th>\n",
       "      <th>author</th>\n",
       "      <th>datetime</th>\n",
       "      <th>title</th>\n",
       "      <th>url</th>\n",
       "      <th>score</th>\n",
       "      <th>comments</th>\n",
       "      <th>text</th>\n",
       "      <th>author_post_karma</th>\n",
       "      <th>tag</th>\n",
       "      <th>date</th>\n",
       "    </tr>\n",
       "  </thead>\n",
       "  <tbody>\n",
       "    <tr>\n",
       "      <th>0</th>\n",
       "      <td>145k12dpost</td>\n",
       "      <td>145k12d</td>\n",
       "      <td>NaN</td>\n",
       "      <td>SauloJr</td>\n",
       "      <td>2023-06-09 23:17:15</td>\n",
       "      <td>Reddit CEO Spez answered a grand total of 14 q...</td>\n",
       "      <td>https://www.reddit.com/r/technology/comments/1...</td>\n",
       "      <td>1.0</td>\n",
       "      <td>0.0</td>\n",
       "      <td>Reddit CEO Spez answered a grand total of 14 q...</td>\n",
       "      <td>44092.0</td>\n",
       "      <td>Social Media</td>\n",
       "      <td>2023-06-09</td>\n",
       "    </tr>\n",
       "    <tr>\n",
       "      <th>1</th>\n",
       "      <td>145hyeyjnlh1vx</td>\n",
       "      <td>145hyey</td>\n",
       "      <td>jnlh1vx</td>\n",
       "      <td>Illustrious_Risk3732</td>\n",
       "      <td>2023-06-09 23:42:43</td>\n",
       "      <td>NaN</td>\n",
       "      <td>NaN</td>\n",
       "      <td>1.0</td>\n",
       "      <td>NaN</td>\n",
       "      <td>He even gives him self Awards to make sure he ...</td>\n",
       "      <td>17109.0</td>\n",
       "      <td>Social Media</td>\n",
       "      <td>2023-06-09</td>\n",
       "    </tr>\n",
       "    <tr>\n",
       "      <th>2</th>\n",
       "      <td>1453u2ojnjtk7f</td>\n",
       "      <td>1453u2o</td>\n",
       "      <td>jnjtk7f</td>\n",
       "      <td>ProdigiousPlays</td>\n",
       "      <td>2023-06-09 16:47:51</td>\n",
       "      <td>NaN</td>\n",
       "      <td>NaN</td>\n",
       "      <td>1.0</td>\n",
       "      <td>NaN</td>\n",
       "      <td>RIF already announced it s shutting down at th...</td>\n",
       "      <td>118844.0</td>\n",
       "      <td>Social Media</td>\n",
       "      <td>2023-06-09</td>\n",
       "    </tr>\n",
       "    <tr>\n",
       "      <th>3</th>\n",
       "      <td>1453u2ojnjtv9u</td>\n",
       "      <td>1453u2o</td>\n",
       "      <td>jnjtv9u</td>\n",
       "      <td>YJSubs</td>\n",
       "      <td>2023-06-09 16:49:52</td>\n",
       "      <td>NaN</td>\n",
       "      <td>NaN</td>\n",
       "      <td>1.0</td>\n",
       "      <td>NaN</td>\n",
       "      <td>I wonder which sub left on that day</td>\n",
       "      <td>50085.0</td>\n",
       "      <td>Social Media</td>\n",
       "      <td>2023-06-09</td>\n",
       "    </tr>\n",
       "    <tr>\n",
       "      <th>4</th>\n",
       "      <td>1453u2ojnjusm9</td>\n",
       "      <td>1453u2o</td>\n",
       "      <td>jnjusm9</td>\n",
       "      <td>jamnewton22</td>\n",
       "      <td>2023-06-09 16:55:57</td>\n",
       "      <td>NaN</td>\n",
       "      <td>NaN</td>\n",
       "      <td>1.0</td>\n",
       "      <td>NaN</td>\n",
       "      <td>Oh I m sure this will go well lol</td>\n",
       "      <td>171705.0</td>\n",
       "      <td>Social Media</td>\n",
       "      <td>2023-06-09</td>\n",
       "    </tr>\n",
       "  </tbody>\n",
       "</table>\n",
       "</div>"
      ],
      "text/plain": [
       "   register_index  post_id comment_id                author  \\\n",
       "0     145k12dpost  145k12d        NaN               SauloJr   \n",
       "1  145hyeyjnlh1vx  145hyey    jnlh1vx  Illustrious_Risk3732   \n",
       "2  1453u2ojnjtk7f  1453u2o    jnjtk7f       ProdigiousPlays   \n",
       "3  1453u2ojnjtv9u  1453u2o    jnjtv9u                YJSubs   \n",
       "4  1453u2ojnjusm9  1453u2o    jnjusm9           jamnewton22   \n",
       "\n",
       "             datetime                                              title  \\\n",
       "0 2023-06-09 23:17:15  Reddit CEO Spez answered a grand total of 14 q...   \n",
       "1 2023-06-09 23:42:43                                                NaN   \n",
       "2 2023-06-09 16:47:51                                                NaN   \n",
       "3 2023-06-09 16:49:52                                                NaN   \n",
       "4 2023-06-09 16:55:57                                                NaN   \n",
       "\n",
       "                                                 url  score  comments  \\\n",
       "0  https://www.reddit.com/r/technology/comments/1...    1.0       0.0   \n",
       "1                                                NaN    1.0       NaN   \n",
       "2                                                NaN    1.0       NaN   \n",
       "3                                                NaN    1.0       NaN   \n",
       "4                                                NaN    1.0       NaN   \n",
       "\n",
       "                                                text  author_post_karma  \\\n",
       "0  Reddit CEO Spez answered a grand total of 14 q...            44092.0   \n",
       "1  He even gives him self Awards to make sure he ...            17109.0   \n",
       "2  RIF already announced it s shutting down at th...           118844.0   \n",
       "3              I wonder which sub left on that day              50085.0   \n",
       "4                  Oh I m sure this will go well lol           171705.0   \n",
       "\n",
       "            tag        date  \n",
       "0  Social Media  2023-06-09  \n",
       "1  Social Media  2023-06-09  \n",
       "2  Social Media  2023-06-09  \n",
       "3  Social Media  2023-06-09  \n",
       "4  Social Media  2023-06-09  "
      ]
     },
     "execution_count": 8,
     "metadata": {},
     "output_type": "execute_result"
    }
   ],
   "source": [
    "df.head()"
   ]
  },
  {
   "cell_type": "code",
   "execution_count": 9,
   "id": "b7d6d604-3c33-4c0b-ab23-9958bfd0e33b",
   "metadata": {
    "tags": []
   },
   "outputs": [
    {
     "data": {
      "text/plain": [
       "3835.4"
      ]
     },
     "execution_count": 9,
     "metadata": {},
     "output_type": "execute_result"
    }
   ],
   "source": [
    "(df.groupby('date')['date'].count()).mean()"
   ]
  },
  {
   "cell_type": "code",
   "execution_count": 10,
   "id": "15a4cd9d-2178-49b1-8c04-809d167bd143",
   "metadata": {},
   "outputs": [],
   "source": [
    "## 3835 comments per day (belief from my whole data)\n",
    "# H0: Avg rate is 3835 comments\n",
    "# Ha: Avg rate is < 3835 comments\n",
    "# pvalue: P(X<=2500|3835)\n",
    "# P(X<=2500) PMF/CDF? (Poisson)\n",
    "from scipy.stats import poisson"
   ]
  },
  {
   "cell_type": "code",
   "execution_count": 11,
   "id": "6ffab1ed-cb6f-43ce-9182-2a2e0556c13a",
   "metadata": {
    "tags": []
   },
   "outputs": [
    {
     "data": {
      "text/plain": [
       "1.379968577894847e-117"
      ]
     },
     "execution_count": 11,
     "metadata": {},
     "output_type": "execute_result"
    }
   ],
   "source": [
    "poisson.cdf(2500,3835) ### low p-value"
   ]
  },
  {
   "cell_type": "code",
   "execution_count": 12,
   "id": "e674a0b4-e7bf-4ba0-a1ae-0ceca1805b7c",
   "metadata": {
    "tags": []
   },
   "outputs": [],
   "source": [
    "## Conclusion:\n",
    "# H0 can be rejected,\n",
    "# Avg rate is not 3835 comments per day, high chances it is less."
   ]
  },
  {
   "cell_type": "code",
   "execution_count": 13,
   "id": "d7700647-ea87-4f3a-9815-3cc1c75f0915",
   "metadata": {
    "tags": []
   },
   "outputs": [
    {
     "data": {
      "text/html": [
       "<div>\n",
       "<style scoped>\n",
       "    .dataframe tbody tr th:only-of-type {\n",
       "        vertical-align: middle;\n",
       "    }\n",
       "\n",
       "    .dataframe tbody tr th {\n",
       "        vertical-align: top;\n",
       "    }\n",
       "\n",
       "    .dataframe thead th {\n",
       "        text-align: right;\n",
       "    }\n",
       "</style>\n",
       "<table border=\"1\" class=\"dataframe\">\n",
       "  <thead>\n",
       "    <tr style=\"text-align: right;\">\n",
       "      <th></th>\n",
       "      <th>register_index</th>\n",
       "      <th>post_id</th>\n",
       "      <th>comment_id</th>\n",
       "      <th>author</th>\n",
       "      <th>datetime</th>\n",
       "      <th>title</th>\n",
       "      <th>url</th>\n",
       "      <th>score</th>\n",
       "      <th>comments</th>\n",
       "      <th>text</th>\n",
       "      <th>author_post_karma</th>\n",
       "      <th>tag</th>\n",
       "      <th>date</th>\n",
       "    </tr>\n",
       "  </thead>\n",
       "  <tbody>\n",
       "    <tr>\n",
       "      <th>0</th>\n",
       "      <td>145k12dpost</td>\n",
       "      <td>145k12d</td>\n",
       "      <td>NaN</td>\n",
       "      <td>SauloJr</td>\n",
       "      <td>2023-06-09 23:17:15</td>\n",
       "      <td>Reddit CEO Spez answered a grand total of 14 q...</td>\n",
       "      <td>https://www.reddit.com/r/technology/comments/1...</td>\n",
       "      <td>1.0</td>\n",
       "      <td>0.0</td>\n",
       "      <td>Reddit CEO Spez answered a grand total of 14 q...</td>\n",
       "      <td>44092.0</td>\n",
       "      <td>Social Media</td>\n",
       "      <td>2023-06-09</td>\n",
       "    </tr>\n",
       "    <tr>\n",
       "      <th>1</th>\n",
       "      <td>145hyeyjnlh1vx</td>\n",
       "      <td>145hyey</td>\n",
       "      <td>jnlh1vx</td>\n",
       "      <td>Illustrious_Risk3732</td>\n",
       "      <td>2023-06-09 23:42:43</td>\n",
       "      <td>NaN</td>\n",
       "      <td>NaN</td>\n",
       "      <td>1.0</td>\n",
       "      <td>NaN</td>\n",
       "      <td>He even gives him self Awards to make sure he ...</td>\n",
       "      <td>17109.0</td>\n",
       "      <td>Social Media</td>\n",
       "      <td>2023-06-09</td>\n",
       "    </tr>\n",
       "  </tbody>\n",
       "</table>\n",
       "</div>"
      ],
      "text/plain": [
       "   register_index  post_id comment_id                author  \\\n",
       "0     145k12dpost  145k12d        NaN               SauloJr   \n",
       "1  145hyeyjnlh1vx  145hyey    jnlh1vx  Illustrious_Risk3732   \n",
       "\n",
       "             datetime                                              title  \\\n",
       "0 2023-06-09 23:17:15  Reddit CEO Spez answered a grand total of 14 q...   \n",
       "1 2023-06-09 23:42:43                                                NaN   \n",
       "\n",
       "                                                 url  score  comments  \\\n",
       "0  https://www.reddit.com/r/technology/comments/1...    1.0       0.0   \n",
       "1                                                NaN    1.0       NaN   \n",
       "\n",
       "                                                text  author_post_karma  \\\n",
       "0  Reddit CEO Spez answered a grand total of 14 q...            44092.0   \n",
       "1  He even gives him self Awards to make sure he ...            17109.0   \n",
       "\n",
       "            tag        date  \n",
       "0  Social Media  2023-06-09  \n",
       "1  Social Media  2023-06-09  "
      ]
     },
     "execution_count": 13,
     "metadata": {},
     "output_type": "execute_result"
    }
   ],
   "source": [
    "df.head(2)"
   ]
  },
  {
   "cell_type": "code",
   "execution_count": 14,
   "id": "c83a7df3-21bd-410e-aa18-8d89bd33f436",
   "metadata": {
    "tags": []
   },
   "outputs": [
    {
     "data": {
      "text/html": [
       "<div>\n",
       "<style scoped>\n",
       "    .dataframe tbody tr th:only-of-type {\n",
       "        vertical-align: middle;\n",
       "    }\n",
       "\n",
       "    .dataframe tbody tr th {\n",
       "        vertical-align: top;\n",
       "    }\n",
       "\n",
       "    .dataframe thead th {\n",
       "        text-align: right;\n",
       "    }\n",
       "</style>\n",
       "<table border=\"1\" class=\"dataframe\">\n",
       "  <thead>\n",
       "    <tr style=\"text-align: right;\">\n",
       "      <th></th>\n",
       "      <th>post_id</th>\n",
       "      <th>comment_id</th>\n",
       "      <th>text</th>\n",
       "    </tr>\n",
       "  </thead>\n",
       "  <tbody>\n",
       "    <tr>\n",
       "      <th>0</th>\n",
       "      <td>145k12d</td>\n",
       "      <td>NaN</td>\n",
       "      <td>Reddit CEO Spez answered a grand total of 14 q...</td>\n",
       "    </tr>\n",
       "    <tr>\n",
       "      <th>1</th>\n",
       "      <td>145hyey</td>\n",
       "      <td>jnlh1vx</td>\n",
       "      <td>He even gives him self Awards to make sure he ...</td>\n",
       "    </tr>\n",
       "    <tr>\n",
       "      <th>2</th>\n",
       "      <td>1453u2o</td>\n",
       "      <td>jnjtk7f</td>\n",
       "      <td>RIF already announced it s shutting down at th...</td>\n",
       "    </tr>\n",
       "    <tr>\n",
       "      <th>3</th>\n",
       "      <td>1453u2o</td>\n",
       "      <td>jnjtv9u</td>\n",
       "      <td>I wonder which sub left on that day</td>\n",
       "    </tr>\n",
       "    <tr>\n",
       "      <th>4</th>\n",
       "      <td>1453u2o</td>\n",
       "      <td>jnjusm9</td>\n",
       "      <td>Oh I m sure this will go well lol</td>\n",
       "    </tr>\n",
       "    <tr>\n",
       "      <th>...</th>\n",
       "      <td>...</td>\n",
       "      <td>...</td>\n",
       "      <td>...</td>\n",
       "    </tr>\n",
       "    <tr>\n",
       "      <th>115057</th>\n",
       "      <td>14emafb</td>\n",
       "      <td>jox5jnn</td>\n",
       "      <td>juggle uppity concerned fade fanatical station...</td>\n",
       "    </tr>\n",
       "    <tr>\n",
       "      <th>115058</th>\n",
       "      <td>14emafb</td>\n",
       "      <td>jox5k2p</td>\n",
       "      <td>Just like Pyrex</td>\n",
       "    </tr>\n",
       "    <tr>\n",
       "      <th>115059</th>\n",
       "      <td>14emafb</td>\n",
       "      <td>joxjgso</td>\n",
       "      <td>It s really really deep  the titanic is in a d...</td>\n",
       "    </tr>\n",
       "    <tr>\n",
       "      <th>115060</th>\n",
       "      <td>14emafb</td>\n",
       "      <td>joxppiw</td>\n",
       "      <td>The ocean is huge  They look for people for ho...</td>\n",
       "    </tr>\n",
       "    <tr>\n",
       "      <th>115061</th>\n",
       "      <td>14emafb</td>\n",
       "      <td>jox6ifj</td>\n",
       "      <td>Small remaining pockets of air trapped in inst...</td>\n",
       "    </tr>\n",
       "  </tbody>\n",
       "</table>\n",
       "<p>115062 rows × 3 columns</p>\n",
       "</div>"
      ],
      "text/plain": [
       "        post_id comment_id                                               text\n",
       "0       145k12d        NaN  Reddit CEO Spez answered a grand total of 14 q...\n",
       "1       145hyey    jnlh1vx  He even gives him self Awards to make sure he ...\n",
       "2       1453u2o    jnjtk7f  RIF already announced it s shutting down at th...\n",
       "3       1453u2o    jnjtv9u              I wonder which sub left on that day  \n",
       "4       1453u2o    jnjusm9                  Oh I m sure this will go well lol\n",
       "...         ...        ...                                                ...\n",
       "115057  14emafb    jox5jnn  juggle uppity concerned fade fanatical station...\n",
       "115058  14emafb    jox5k2p                                   Just like Pyrex \n",
       "115059  14emafb    joxjgso  It s really really deep  the titanic is in a d...\n",
       "115060  14emafb    joxppiw  The ocean is huge  They look for people for ho...\n",
       "115061  14emafb    jox6ifj  Small remaining pockets of air trapped in inst...\n",
       "\n",
       "[115062 rows x 3 columns]"
      ]
     },
     "execution_count": 14,
     "metadata": {},
     "output_type": "execute_result"
    }
   ],
   "source": [
    "## Find out on an average how many words were there in each comment?\n",
    "df[['post_id','comment_id','text']]"
   ]
  },
  {
   "cell_type": "code",
   "execution_count": 21,
   "id": "d6dca1fe-8a7c-4ac5-af0f-4835f2a7cfee",
   "metadata": {
    "tags": []
   },
   "outputs": [],
   "source": [
    "df_only_comments = df[~df['comment_id'].isnull()] ## True it means its not a comment "
   ]
  },
  {
   "cell_type": "code",
   "execution_count": 25,
   "id": "09a2d804-ca3a-4ff5-ad4e-8feece95be54",
   "metadata": {
    "tags": []
   },
   "outputs": [
    {
     "data": {
      "text/html": [
       "<div>\n",
       "<style scoped>\n",
       "    .dataframe tbody tr th:only-of-type {\n",
       "        vertical-align: middle;\n",
       "    }\n",
       "\n",
       "    .dataframe tbody tr th {\n",
       "        vertical-align: top;\n",
       "    }\n",
       "\n",
       "    .dataframe thead th {\n",
       "        text-align: right;\n",
       "    }\n",
       "</style>\n",
       "<table border=\"1\" class=\"dataframe\">\n",
       "  <thead>\n",
       "    <tr style=\"text-align: right;\">\n",
       "      <th></th>\n",
       "      <th>post_id</th>\n",
       "      <th>comment_id</th>\n",
       "      <th>text</th>\n",
       "    </tr>\n",
       "  </thead>\n",
       "  <tbody>\n",
       "    <tr>\n",
       "      <th>1</th>\n",
       "      <td>145hyey</td>\n",
       "      <td>jnlh1vx</td>\n",
       "      <td>He even gives him self Awards to make sure he ...</td>\n",
       "    </tr>\n",
       "    <tr>\n",
       "      <th>2</th>\n",
       "      <td>1453u2o</td>\n",
       "      <td>jnjtk7f</td>\n",
       "      <td>RIF already announced it s shutting down at th...</td>\n",
       "    </tr>\n",
       "    <tr>\n",
       "      <th>3</th>\n",
       "      <td>1453u2o</td>\n",
       "      <td>jnjtv9u</td>\n",
       "      <td>I wonder which sub left on that day</td>\n",
       "    </tr>\n",
       "    <tr>\n",
       "      <th>4</th>\n",
       "      <td>1453u2o</td>\n",
       "      <td>jnjusm9</td>\n",
       "      <td>Oh I m sure this will go well lol</td>\n",
       "    </tr>\n",
       "    <tr>\n",
       "      <th>5</th>\n",
       "      <td>1453u2o</td>\n",
       "      <td>jnjvwlv</td>\n",
       "      <td>Oh boy i can t wait for him to say  the devs a...</td>\n",
       "    </tr>\n",
       "    <tr>\n",
       "      <th>...</th>\n",
       "      <td>...</td>\n",
       "      <td>...</td>\n",
       "      <td>...</td>\n",
       "    </tr>\n",
       "    <tr>\n",
       "      <th>115057</th>\n",
       "      <td>14emafb</td>\n",
       "      <td>jox5jnn</td>\n",
       "      <td>juggle uppity concerned fade fanatical station...</td>\n",
       "    </tr>\n",
       "    <tr>\n",
       "      <th>115058</th>\n",
       "      <td>14emafb</td>\n",
       "      <td>jox5k2p</td>\n",
       "      <td>Just like Pyrex</td>\n",
       "    </tr>\n",
       "    <tr>\n",
       "      <th>115059</th>\n",
       "      <td>14emafb</td>\n",
       "      <td>joxjgso</td>\n",
       "      <td>It s really really deep  the titanic is in a d...</td>\n",
       "    </tr>\n",
       "    <tr>\n",
       "      <th>115060</th>\n",
       "      <td>14emafb</td>\n",
       "      <td>joxppiw</td>\n",
       "      <td>The ocean is huge  They look for people for ho...</td>\n",
       "    </tr>\n",
       "    <tr>\n",
       "      <th>115061</th>\n",
       "      <td>14emafb</td>\n",
       "      <td>jox6ifj</td>\n",
       "      <td>Small remaining pockets of air trapped in inst...</td>\n",
       "    </tr>\n",
       "  </tbody>\n",
       "</table>\n",
       "<p>113797 rows × 3 columns</p>\n",
       "</div>"
      ],
      "text/plain": [
       "        post_id comment_id                                               text\n",
       "1       145hyey    jnlh1vx  He even gives him self Awards to make sure he ...\n",
       "2       1453u2o    jnjtk7f  RIF already announced it s shutting down at th...\n",
       "3       1453u2o    jnjtv9u              I wonder which sub left on that day  \n",
       "4       1453u2o    jnjusm9                  Oh I m sure this will go well lol\n",
       "5       1453u2o    jnjvwlv  Oh boy i can t wait for him to say  the devs a...\n",
       "...         ...        ...                                                ...\n",
       "115057  14emafb    jox5jnn  juggle uppity concerned fade fanatical station...\n",
       "115058  14emafb    jox5k2p                                   Just like Pyrex \n",
       "115059  14emafb    joxjgso  It s really really deep  the titanic is in a d...\n",
       "115060  14emafb    joxppiw  The ocean is huge  They look for people for ho...\n",
       "115061  14emafb    jox6ifj  Small remaining pockets of air trapped in inst...\n",
       "\n",
       "[113797 rows x 3 columns]"
      ]
     },
     "execution_count": 25,
     "metadata": {},
     "output_type": "execute_result"
    }
   ],
   "source": [
    "## Find out on an average how many words were there in each comment?\n",
    "df_only_comments[['post_id','comment_id','text']]"
   ]
  },
  {
   "cell_type": "code",
   "execution_count": 26,
   "id": "e9c80d87-ef54-4275-a1c2-f53caf40c901",
   "metadata": {
    "tags": []
   },
   "outputs": [],
   "source": [
    "c1 = 'He even gives him self Awards to make sure he can t lose his karma from all the downvotes '"
   ]
  },
  {
   "cell_type": "code",
   "execution_count": 29,
   "id": "9a30abed-53fd-4239-af54-56350f20419d",
   "metadata": {
    "tags": []
   },
   "outputs": [
    {
     "data": {
      "text/plain": [
       "3"
      ]
     },
     "execution_count": 29,
     "metadata": {},
     "output_type": "execute_result"
    }
   ],
   "source": [
    "len(\"This is sentence\".split(\" \"))"
   ]
  },
  {
   "cell_type": "code",
   "execution_count": 31,
   "id": "54e7f5b2-c580-4077-a37a-771b51d868f5",
   "metadata": {
    "tags": []
   },
   "outputs": [
    {
     "data": {
      "text/plain": [
       "20"
      ]
     },
     "execution_count": 31,
     "metadata": {},
     "output_type": "execute_result"
    }
   ],
   "source": [
    "len(c1.split(\" \"))"
   ]
  },
  {
   "cell_type": "code",
   "execution_count": 32,
   "id": "3a624dbf-87e5-4a6b-9189-5a2909053b2e",
   "metadata": {
    "tags": []
   },
   "outputs": [],
   "source": [
    "def count_words(x):\n",
    "    return len(x.split(\" \"))"
   ]
  },
  {
   "cell_type": "code",
   "execution_count": 34,
   "id": "3b8c64e8-84e0-4513-89ac-21bbf2a6f694",
   "metadata": {
    "tags": []
   },
   "outputs": [
    {
     "name": "stderr",
     "output_type": "stream",
     "text": [
      "/var/folders/7h/01sjg2sx6tl3y72r2klm24c80000gn/T/ipykernel_44037/3176480113.py:1: SettingWithCopyWarning: \n",
      "A value is trying to be set on a copy of a slice from a DataFrame.\n",
      "Try using .loc[row_indexer,col_indexer] = value instead\n",
      "\n",
      "See the caveats in the documentation: https://pandas.pydata.org/pandas-docs/stable/user_guide/indexing.html#returning-a-view-versus-a-copy\n",
      "  df_only_comments['num_words']=df_only_comments['text'].map(count_words)\n"
     ]
    }
   ],
   "source": [
    "df_only_comments['num_words']=df_only_comments['text'].map(count_words)"
   ]
  },
  {
   "cell_type": "code",
   "execution_count": 36,
   "id": "4732375e-0d13-4281-b1af-5c1bf3f58269",
   "metadata": {
    "tags": []
   },
   "outputs": [
    {
     "data": {
      "text/plain": [
       "42.03373551148097"
      ]
     },
     "execution_count": 36,
     "metadata": {},
     "output_type": "execute_result"
    }
   ],
   "source": [
    "## Find out on an average how many words were there in each comment?\n",
    "df_only_comments[['post_id','comment_id','text','num_words']]['num_words'].mean()"
   ]
  },
  {
   "cell_type": "code",
   "execution_count": 37,
   "id": "2b69cc7f-b0a1-4249-9321-3a71f230bff7",
   "metadata": {
    "tags": []
   },
   "outputs": [
    {
     "data": {
      "text/plain": [
       "0.28833759445712315"
      ]
     },
     "execution_count": 37,
     "metadata": {},
     "output_type": "execute_result"
    }
   ],
   "source": [
    "### I took a sample and in that sample the number of words per comment were 46.\n",
    "# H0: Average number of comments is 42\n",
    "# Ha: Average is more than 42\n",
    "# p-value: P(X>=46|Assuming that average is 42)\n",
    "# Probability model to use: Poisson\n",
    "# P(X>=46) = 1-P(X<=45)\n",
    "1-poisson.cdf(45,42)"
   ]
  },
  {
   "cell_type": "code",
   "execution_count": 38,
   "id": "4fcb1565-1911-4c3b-abd6-d72c91939aff",
   "metadata": {
    "tags": []
   },
   "outputs": [],
   "source": [
    "## High p-value\n",
    "## Conclusion: H0 can't be rejected"
   ]
  },
  {
   "cell_type": "code",
   "execution_count": 39,
   "id": "b6219796-d4e1-4928-a455-5f29edbe2635",
   "metadata": {
    "tags": []
   },
   "outputs": [],
   "source": [
    "url1 = \"https://raw.githubusercontent.com/Gunnvant/Self-Paced-Content/main/python/hypothesis_testing/global_temp.csv\"\n",
    "all_data = pd.read_csv(url1)"
   ]
  },
  {
   "cell_type": "code",
   "execution_count": 40,
   "id": "98257631-633a-4b01-a3a5-b794f2f369cb",
   "metadata": {
    "tags": []
   },
   "outputs": [],
   "source": [
    "url2 = \"https://raw.githubusercontent.com/Gunnvant/Self-Paced-Content/main/python/hypothesis_testing/recent_temp.csv\"\n",
    "recent = pd.read_csv(url2)"
   ]
  },
  {
   "cell_type": "code",
   "execution_count": 41,
   "id": "a56fafc4-5053-4dc5-b23e-7e7ea2601dad",
   "metadata": {
    "tags": []
   },
   "outputs": [
    {
     "data": {
      "text/html": [
       "<div>\n",
       "<style scoped>\n",
       "    .dataframe tbody tr th:only-of-type {\n",
       "        vertical-align: middle;\n",
       "    }\n",
       "\n",
       "    .dataframe tbody tr th {\n",
       "        vertical-align: top;\n",
       "    }\n",
       "\n",
       "    .dataframe thead th {\n",
       "        text-align: right;\n",
       "    }\n",
       "</style>\n",
       "<table border=\"1\" class=\"dataframe\">\n",
       "  <thead>\n",
       "    <tr style=\"text-align: right;\">\n",
       "      <th></th>\n",
       "      <th>city</th>\n",
       "      <th>avg_temp</th>\n",
       "    </tr>\n",
       "  </thead>\n",
       "  <tbody>\n",
       "    <tr>\n",
       "      <th>0</th>\n",
       "      <td>Sukhumi</td>\n",
       "      <td>15.116536</td>\n",
       "    </tr>\n",
       "    <tr>\n",
       "      <th>1</th>\n",
       "      <td>Mariehamn</td>\n",
       "      <td>7.336081</td>\n",
       "    </tr>\n",
       "    <tr>\n",
       "      <th>2</th>\n",
       "      <td>Tirana</td>\n",
       "      <td>16.496259</td>\n",
       "    </tr>\n",
       "    <tr>\n",
       "      <th>3</th>\n",
       "      <td>Algiers</td>\n",
       "      <td>19.524179</td>\n",
       "    </tr>\n",
       "    <tr>\n",
       "      <th>4</th>\n",
       "      <td>Pago Pago</td>\n",
       "      <td>27.298266</td>\n",
       "    </tr>\n",
       "  </tbody>\n",
       "</table>\n",
       "</div>"
      ],
      "text/plain": [
       "        city   avg_temp\n",
       "0    Sukhumi  15.116536\n",
       "1  Mariehamn   7.336081\n",
       "2     Tirana  16.496259\n",
       "3    Algiers  19.524179\n",
       "4  Pago Pago  27.298266"
      ]
     },
     "execution_count": 41,
     "metadata": {},
     "output_type": "execute_result"
    }
   ],
   "source": [
    "all_data.head()"
   ]
  },
  {
   "cell_type": "code",
   "execution_count": 42,
   "id": "9108c094-7b82-4b68-92ab-02d1af641e7a",
   "metadata": {
    "tags": []
   },
   "outputs": [
    {
     "data": {
      "text/html": [
       "<div>\n",
       "<style scoped>\n",
       "    .dataframe tbody tr th:only-of-type {\n",
       "        vertical-align: middle;\n",
       "    }\n",
       "\n",
       "    .dataframe tbody tr th {\n",
       "        vertical-align: top;\n",
       "    }\n",
       "\n",
       "    .dataframe thead th {\n",
       "        text-align: right;\n",
       "    }\n",
       "</style>\n",
       "<table border=\"1\" class=\"dataframe\">\n",
       "  <thead>\n",
       "    <tr style=\"text-align: right;\">\n",
       "      <th></th>\n",
       "      <th>date</th>\n",
       "      <th>country</th>\n",
       "      <th>city</th>\n",
       "      <th>Latitude</th>\n",
       "      <th>Longitude</th>\n",
       "      <th>tavg</th>\n",
       "      <th>tmin</th>\n",
       "      <th>tmax</th>\n",
       "      <th>wdir</th>\n",
       "      <th>wspd</th>\n",
       "      <th>pres</th>\n",
       "    </tr>\n",
       "  </thead>\n",
       "  <tbody>\n",
       "    <tr>\n",
       "      <th>0</th>\n",
       "      <td>2021-01-01</td>\n",
       "      <td>Abkhazia</td>\n",
       "      <td>Sukhumi</td>\n",
       "      <td>43.001525</td>\n",
       "      <td>41.023415</td>\n",
       "      <td>8.6</td>\n",
       "      <td>5.4</td>\n",
       "      <td>14.9</td>\n",
       "      <td>81.0</td>\n",
       "      <td>9.4</td>\n",
       "      <td>1019.2</td>\n",
       "    </tr>\n",
       "    <tr>\n",
       "      <th>1</th>\n",
       "      <td>2021-01-02</td>\n",
       "      <td>Abkhazia</td>\n",
       "      <td>Sukhumi</td>\n",
       "      <td>43.001525</td>\n",
       "      <td>41.023415</td>\n",
       "      <td>8.5</td>\n",
       "      <td>4.0</td>\n",
       "      <td>13.7</td>\n",
       "      <td>47.0</td>\n",
       "      <td>7.7</td>\n",
       "      <td>1024.8</td>\n",
       "    </tr>\n",
       "    <tr>\n",
       "      <th>2</th>\n",
       "      <td>2021-01-03</td>\n",
       "      <td>Abkhazia</td>\n",
       "      <td>Sukhumi</td>\n",
       "      <td>43.001525</td>\n",
       "      <td>41.023415</td>\n",
       "      <td>7.8</td>\n",
       "      <td>5.0</td>\n",
       "      <td>12.9</td>\n",
       "      <td>57.0</td>\n",
       "      <td>8.2</td>\n",
       "      <td>1028.2</td>\n",
       "    </tr>\n",
       "    <tr>\n",
       "      <th>3</th>\n",
       "      <td>2021-01-04</td>\n",
       "      <td>Abkhazia</td>\n",
       "      <td>Sukhumi</td>\n",
       "      <td>43.001525</td>\n",
       "      <td>41.023415</td>\n",
       "      <td>7.6</td>\n",
       "      <td>3.8</td>\n",
       "      <td>14.3</td>\n",
       "      <td>83.0</td>\n",
       "      <td>10.5</td>\n",
       "      <td>1024.1</td>\n",
       "    </tr>\n",
       "    <tr>\n",
       "      <th>4</th>\n",
       "      <td>2021-01-05</td>\n",
       "      <td>Abkhazia</td>\n",
       "      <td>Sukhumi</td>\n",
       "      <td>43.001525</td>\n",
       "      <td>41.023415</td>\n",
       "      <td>8.9</td>\n",
       "      <td>5.2</td>\n",
       "      <td>15.1</td>\n",
       "      <td>91.0</td>\n",
       "      <td>13.5</td>\n",
       "      <td>1019.6</td>\n",
       "    </tr>\n",
       "  </tbody>\n",
       "</table>\n",
       "</div>"
      ],
      "text/plain": [
       "         date   country     city   Latitude  Longitude  tavg  tmin  tmax  \\\n",
       "0  2021-01-01  Abkhazia  Sukhumi  43.001525  41.023415   8.6   5.4  14.9   \n",
       "1  2021-01-02  Abkhazia  Sukhumi  43.001525  41.023415   8.5   4.0  13.7   \n",
       "2  2021-01-03  Abkhazia  Sukhumi  43.001525  41.023415   7.8   5.0  12.9   \n",
       "3  2021-01-04  Abkhazia  Sukhumi  43.001525  41.023415   7.6   3.8  14.3   \n",
       "4  2021-01-05  Abkhazia  Sukhumi  43.001525  41.023415   8.9   5.2  15.1   \n",
       "\n",
       "   wdir  wspd    pres  \n",
       "0  81.0   9.4  1019.2  \n",
       "1  47.0   7.7  1024.8  \n",
       "2  57.0   8.2  1028.2  \n",
       "3  83.0  10.5  1024.1  \n",
       "4  91.0  13.5  1019.6  "
      ]
     },
     "execution_count": 42,
     "metadata": {},
     "output_type": "execute_result"
    }
   ],
   "source": [
    "recent.head()"
   ]
  },
  {
   "cell_type": "code",
   "execution_count": 43,
   "id": "91a097f2-9114-419c-af83-87535bd2f13c",
   "metadata": {
    "tags": []
   },
   "outputs": [
    {
     "data": {
      "text/html": [
       "<div>\n",
       "<style scoped>\n",
       "    .dataframe tbody tr th:only-of-type {\n",
       "        vertical-align: middle;\n",
       "    }\n",
       "\n",
       "    .dataframe tbody tr th {\n",
       "        vertical-align: top;\n",
       "    }\n",
       "\n",
       "    .dataframe thead th {\n",
       "        text-align: right;\n",
       "    }\n",
       "</style>\n",
       "<table border=\"1\" class=\"dataframe\">\n",
       "  <thead>\n",
       "    <tr style=\"text-align: right;\">\n",
       "      <th></th>\n",
       "      <th>city</th>\n",
       "      <th>avg_temp</th>\n",
       "    </tr>\n",
       "  </thead>\n",
       "  <tbody>\n",
       "    <tr>\n",
       "      <th>73</th>\n",
       "      <td>New Delhi</td>\n",
       "      <td>26.133759</td>\n",
       "    </tr>\n",
       "  </tbody>\n",
       "</table>\n",
       "</div>"
      ],
      "text/plain": [
       "         city   avg_temp\n",
       "73  New Delhi  26.133759"
      ]
     },
     "execution_count": 43,
     "metadata": {},
     "output_type": "execute_result"
    }
   ],
   "source": [
    "### What was the historical avg temp in New Delhi\n",
    "all_data[all_data['city']=='New Delhi']"
   ]
  },
  {
   "cell_type": "code",
   "execution_count": 46,
   "id": "8d800024-af8a-44d6-9aed-cd21eef96e45",
   "metadata": {
    "tags": []
   },
   "outputs": [
    {
     "data": {
      "text/plain": [
       "25.87123287671233"
      ]
     },
     "execution_count": 46,
     "metadata": {},
     "output_type": "execute_result"
    }
   ],
   "source": [
    "### Find out the recent avg temp in New Delhi\n",
    "recent[recent['city']=='New Delhi']['tavg'].mean() ## Is this sample average?"
   ]
  },
  {
   "cell_type": "code",
   "execution_count": 47,
   "id": "e234d55c-8819-4f3c-ad6a-bd4a90121ea0",
   "metadata": {
    "tags": []
   },
   "outputs": [
    {
     "data": {
      "text/plain": [
       "7.044814932408316"
      ]
     },
     "execution_count": 47,
     "metadata": {},
     "output_type": "execute_result"
    }
   ],
   "source": [
    "### Difference in sample avg and population avg\n",
    "## H0: Avg temp=26.133\n",
    "## Ha: Avg temp<26.133\n",
    "## P-value P(X<=25.971)\n",
    "recent[recent['city']=='New Delhi']['tavg'].std() ## Std dev of sample"
   ]
  },
  {
   "cell_type": "code",
   "execution_count": 48,
   "id": "d94d8c3b-2a1d-48a1-be7c-178e60845d38",
   "metadata": {
    "tags": []
   },
   "outputs": [
    {
     "data": {
      "text/plain": [
       "(365,)"
      ]
     },
     "execution_count": 48,
     "metadata": {},
     "output_type": "execute_result"
    }
   ],
   "source": [
    "recent[recent['city']=='New Delhi']['tavg'].shape"
   ]
  },
  {
   "cell_type": "code",
   "execution_count": 49,
   "id": "6d4ef154-db29-4d01-a632-a3d72293103d",
   "metadata": {
    "tags": []
   },
   "outputs": [
    {
     "data": {
      "text/plain": [
       "0.3687424665843272"
      ]
     },
     "execution_count": 49,
     "metadata": {},
     "output_type": "execute_result"
    }
   ],
   "source": [
    "import math\n",
    "7.044814932408316/math.sqrt(365) ## std of sampling distribution"
   ]
  },
  {
   "cell_type": "code",
   "execution_count": 50,
   "id": "3f9d5da1-b889-47bf-a674-e76ac7852b99",
   "metadata": {
    "tags": []
   },
   "outputs": [],
   "source": [
    "## P-value P(X<=25.971)\n",
    "import scipy.stats as stats"
   ]
  },
  {
   "cell_type": "code",
   "execution_count": 51,
   "id": "57c8b003-92dc-4be6-939c-0b4557a7ba9e",
   "metadata": {
    "tags": []
   },
   "outputs": [
    {
     "data": {
      "text/plain": [
       "0.329465573164723"
      ]
     },
     "execution_count": 51,
     "metadata": {},
     "output_type": "execute_result"
    }
   ],
   "source": [
    "stats.norm.cdf(25.971,26.133759,0.3687424665843272)"
   ]
  },
  {
   "cell_type": "code",
   "execution_count": null,
   "id": "e0dedb2e-6acd-4842-9c61-e2e67fe17fb6",
   "metadata": {},
   "outputs": [],
   "source": [
    "## pvalue is high, we can't reject h0"
   ]
  }
 ],
 "metadata": {
  "kernelspec": {
   "display_name": "Python 3 (ipykernel)",
   "language": "python",
   "name": "python3"
  },
  "language_info": {
   "codemirror_mode": {
    "name": "ipython",
    "version": 3
   },
   "file_extension": ".py",
   "mimetype": "text/x-python",
   "name": "python",
   "nbconvert_exporter": "python",
   "pygments_lexer": "ipython3",
   "version": "3.9.13"
  }
 },
 "nbformat": 4,
 "nbformat_minor": 5
}
