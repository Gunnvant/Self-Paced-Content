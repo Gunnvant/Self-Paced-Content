{
 "cells": [
  {
   "cell_type": "code",
   "execution_count": 1,
   "id": "07e2d1e3-7e1b-4d69-96a1-f48142e36278",
   "metadata": {
    "tags": []
   },
   "outputs": [],
   "source": [
    "import pandas as pd\n",
    "df = pd.read_csv(\"stock_price_data_with_date.csv\")"
   ]
  },
  {
   "cell_type": "code",
   "execution_count": 2,
   "id": "27023f1b-79b9-410a-9db4-b60e7fec337d",
   "metadata": {
    "tags": []
   },
   "outputs": [
    {
     "data": {
      "text/html": [
       "<div>\n",
       "<style scoped>\n",
       "    .dataframe tbody tr th:only-of-type {\n",
       "        vertical-align: middle;\n",
       "    }\n",
       "\n",
       "    .dataframe tbody tr th {\n",
       "        vertical-align: top;\n",
       "    }\n",
       "\n",
       "    .dataframe thead th {\n",
       "        text-align: right;\n",
       "    }\n",
       "</style>\n",
       "<table border=\"1\" class=\"dataframe\">\n",
       "  <thead>\n",
       "    <tr style=\"text-align: right;\">\n",
       "      <th></th>\n",
       "      <th>Date</th>\n",
       "      <th>adaniports</th>\n",
       "      <th>asianpaints</th>\n",
       "      <th>axisbank</th>\n",
       "      <th>cipla</th>\n",
       "      <th>tcs</th>\n",
       "    </tr>\n",
       "  </thead>\n",
       "  <tbody>\n",
       "    <tr>\n",
       "      <th>0</th>\n",
       "      <td>01/01/08</td>\n",
       "      <td>1296.85</td>\n",
       "      <td>1123.19</td>\n",
       "      <td>972.55</td>\n",
       "      <td>211.10</td>\n",
       "      <td>1054.55</td>\n",
       "    </tr>\n",
       "    <tr>\n",
       "      <th>1</th>\n",
       "      <td>02/01/08</td>\n",
       "      <td>1307.45</td>\n",
       "      <td>1135.45</td>\n",
       "      <td>1034.65</td>\n",
       "      <td>218.85</td>\n",
       "      <td>1050.00</td>\n",
       "    </tr>\n",
       "  </tbody>\n",
       "</table>\n",
       "</div>"
      ],
      "text/plain": [
       "       Date  adaniports  asianpaints  axisbank   cipla      tcs\n",
       "0  01/01/08     1296.85      1123.19    972.55  211.10  1054.55\n",
       "1  02/01/08     1307.45      1135.45   1034.65  218.85  1050.00"
      ]
     },
     "execution_count": 2,
     "metadata": {},
     "output_type": "execute_result"
    }
   ],
   "source": [
    "df.head(2)"
   ]
  },
  {
   "cell_type": "code",
   "execution_count": 3,
   "id": "87546b66-f909-42fb-92d9-26e8c34a89d2",
   "metadata": {
    "tags": []
   },
   "outputs": [
    {
     "data": {
      "text/html": [
       "<div>\n",
       "<style scoped>\n",
       "    .dataframe tbody tr th:only-of-type {\n",
       "        vertical-align: middle;\n",
       "    }\n",
       "\n",
       "    .dataframe tbody tr th {\n",
       "        vertical-align: top;\n",
       "    }\n",
       "\n",
       "    .dataframe thead th {\n",
       "        text-align: right;\n",
       "    }\n",
       "</style>\n",
       "<table border=\"1\" class=\"dataframe\">\n",
       "  <thead>\n",
       "    <tr style=\"text-align: right;\">\n",
       "      <th></th>\n",
       "      <th>variable</th>\n",
       "      <th>value</th>\n",
       "    </tr>\n",
       "  </thead>\n",
       "  <tbody>\n",
       "    <tr>\n",
       "      <th>0</th>\n",
       "      <td>adaniports</td>\n",
       "      <td>1296.85</td>\n",
       "    </tr>\n",
       "    <tr>\n",
       "      <th>1</th>\n",
       "      <td>adaniports</td>\n",
       "      <td>1307.45</td>\n",
       "    </tr>\n",
       "    <tr>\n",
       "      <th>2</th>\n",
       "      <td>adaniports</td>\n",
       "      <td>1275.80</td>\n",
       "    </tr>\n",
       "    <tr>\n",
       "      <th>3</th>\n",
       "      <td>adaniports</td>\n",
       "      <td>1240.35</td>\n",
       "    </tr>\n",
       "    <tr>\n",
       "      <th>4</th>\n",
       "      <td>adaniports</td>\n",
       "      <td>1227.25</td>\n",
       "    </tr>\n",
       "    <tr>\n",
       "      <th>...</th>\n",
       "      <td>...</td>\n",
       "      <td>...</td>\n",
       "    </tr>\n",
       "    <tr>\n",
       "      <th>1225</th>\n",
       "      <td>tcs</td>\n",
       "      <td>478.15</td>\n",
       "    </tr>\n",
       "    <tr>\n",
       "      <th>1226</th>\n",
       "      <td>tcs</td>\n",
       "      <td>471.65</td>\n",
       "    </tr>\n",
       "    <tr>\n",
       "      <th>1227</th>\n",
       "      <td>tcs</td>\n",
       "      <td>476.80</td>\n",
       "    </tr>\n",
       "    <tr>\n",
       "      <th>1228</th>\n",
       "      <td>tcs</td>\n",
       "      <td>482.55</td>\n",
       "    </tr>\n",
       "    <tr>\n",
       "      <th>1229</th>\n",
       "      <td>tcs</td>\n",
       "      <td>477.90</td>\n",
       "    </tr>\n",
       "  </tbody>\n",
       "</table>\n",
       "<p>1230 rows × 2 columns</p>\n",
       "</div>"
      ],
      "text/plain": [
       "        variable    value\n",
       "0     adaniports  1296.85\n",
       "1     adaniports  1307.45\n",
       "2     adaniports  1275.80\n",
       "3     adaniports  1240.35\n",
       "4     adaniports  1227.25\n",
       "...          ...      ...\n",
       "1225         tcs   478.15\n",
       "1226         tcs   471.65\n",
       "1227         tcs   476.80\n",
       "1228         tcs   482.55\n",
       "1229         tcs   477.90\n",
       "\n",
       "[1230 rows x 2 columns]"
      ]
     },
     "execution_count": 3,
     "metadata": {},
     "output_type": "execute_result"
    }
   ],
   "source": [
    "pd.melt(df.drop(\"Date\",axis=1))"
   ]
  },
  {
   "cell_type": "code",
   "execution_count": 4,
   "id": "4def818b-2711-44af-adcf-6d962927a8c1",
   "metadata": {
    "tags": []
   },
   "outputs": [
    {
     "data": {
      "text/plain": [
       "0      211.10\n",
       "1      218.85\n",
       "2      216.35\n",
       "3      213.65\n",
       "4      212.65\n",
       "        ...  \n",
       "241    181.05\n",
       "242    181.95\n",
       "243    184.00\n",
       "244    183.90\n",
       "245    186.60\n",
       "Name: cipla, Length: 246, dtype: float64"
      ]
     },
     "execution_count": 4,
     "metadata": {},
     "output_type": "execute_result"
    }
   ],
   "source": [
    "df['cipla']"
   ]
  },
  {
   "cell_type": "code",
   "execution_count": 6,
   "id": "68130423-48e9-47d1-89c7-440f7e1b89eb",
   "metadata": {
    "tags": []
   },
   "outputs": [
    {
     "data": {
      "text/plain": [
       "188.35"
      ]
     },
     "execution_count": 6,
     "metadata": {},
     "output_type": "execute_result"
    }
   ],
   "source": [
    "df['cipla'].quantile(0.20) ## 20th percentile"
   ]
  },
  {
   "cell_type": "code",
   "execution_count": 9,
   "id": "d96769e5-6459-4761-b9ab-c675a992886f",
   "metadata": {
    "tags": []
   },
   "outputs": [
    {
     "data": {
      "text/plain": [
       "232"
      ]
     },
     "execution_count": 9,
     "metadata": {},
     "output_type": "execute_result"
    }
   ],
   "source": [
    "df[df['cipla']>180].shape[0]"
   ]
  },
  {
   "cell_type": "code",
   "execution_count": 10,
   "id": "b079b0a6-e99e-40d9-9a37-ad216cf0a288",
   "metadata": {
    "tags": []
   },
   "outputs": [
    {
     "data": {
      "text/plain": [
       "246"
      ]
     },
     "execution_count": 10,
     "metadata": {},
     "output_type": "execute_result"
    }
   ],
   "source": [
    "df.shape[0]"
   ]
  },
  {
   "cell_type": "code",
   "execution_count": 11,
   "id": "6f23c9fe-11dd-41c5-8e20-ffb285f8e293",
   "metadata": {
    "tags": []
   },
   "outputs": [],
   "source": [
    "### Cipla, if out of 10 days if the change in stock price is positive for 7 days, I make money.\n",
    "### What is the probability that I will make money?"
   ]
  },
  {
   "cell_type": "code",
   "execution_count": 12,
   "id": "f66b6054-8e77-44d0-be21-a809e657c295",
   "metadata": {
    "tags": []
   },
   "outputs": [
    {
     "data": {
      "text/html": [
       "<div>\n",
       "<style scoped>\n",
       "    .dataframe tbody tr th:only-of-type {\n",
       "        vertical-align: middle;\n",
       "    }\n",
       "\n",
       "    .dataframe tbody tr th {\n",
       "        vertical-align: top;\n",
       "    }\n",
       "\n",
       "    .dataframe thead th {\n",
       "        text-align: right;\n",
       "    }\n",
       "</style>\n",
       "<table border=\"1\" class=\"dataframe\">\n",
       "  <thead>\n",
       "    <tr style=\"text-align: right;\">\n",
       "      <th></th>\n",
       "      <th>Date</th>\n",
       "      <th>adaniports</th>\n",
       "      <th>asianpaints</th>\n",
       "      <th>axisbank</th>\n",
       "      <th>cipla</th>\n",
       "      <th>tcs</th>\n",
       "    </tr>\n",
       "  </thead>\n",
       "  <tbody>\n",
       "    <tr>\n",
       "      <th>0</th>\n",
       "      <td>01/01/08</td>\n",
       "      <td>1296.85</td>\n",
       "      <td>1123.19</td>\n",
       "      <td>972.55</td>\n",
       "      <td>211.10</td>\n",
       "      <td>1054.55</td>\n",
       "    </tr>\n",
       "    <tr>\n",
       "      <th>1</th>\n",
       "      <td>02/01/08</td>\n",
       "      <td>1307.45</td>\n",
       "      <td>1135.45</td>\n",
       "      <td>1034.65</td>\n",
       "      <td>218.85</td>\n",
       "      <td>1050.00</td>\n",
       "    </tr>\n",
       "    <tr>\n",
       "      <th>2</th>\n",
       "      <td>03/01/08</td>\n",
       "      <td>1275.80</td>\n",
       "      <td>1133.90</td>\n",
       "      <td>1035.85</td>\n",
       "      <td>216.35</td>\n",
       "      <td>1011.05</td>\n",
       "    </tr>\n",
       "    <tr>\n",
       "      <th>3</th>\n",
       "      <td>04/01/08</td>\n",
       "      <td>1240.35</td>\n",
       "      <td>1150.08</td>\n",
       "      <td>1054.90</td>\n",
       "      <td>213.65</td>\n",
       "      <td>1005.20</td>\n",
       "    </tr>\n",
       "    <tr>\n",
       "      <th>4</th>\n",
       "      <td>07/01/08</td>\n",
       "      <td>1227.25</td>\n",
       "      <td>1182.62</td>\n",
       "      <td>1090.15</td>\n",
       "      <td>212.65</td>\n",
       "      <td>975.60</td>\n",
       "    </tr>\n",
       "    <tr>\n",
       "      <th>...</th>\n",
       "      <td>...</td>\n",
       "      <td>...</td>\n",
       "      <td>...</td>\n",
       "      <td>...</td>\n",
       "      <td>...</td>\n",
       "      <td>...</td>\n",
       "    </tr>\n",
       "    <tr>\n",
       "      <th>241</th>\n",
       "      <td>24/12/08</td>\n",
       "      <td>312.80</td>\n",
       "      <td>868.23</td>\n",
       "      <td>490.75</td>\n",
       "      <td>181.05</td>\n",
       "      <td>478.15</td>\n",
       "    </tr>\n",
       "    <tr>\n",
       "      <th>242</th>\n",
       "      <td>26/12/08</td>\n",
       "      <td>305.45</td>\n",
       "      <td>868.44</td>\n",
       "      <td>482.80</td>\n",
       "      <td>181.95</td>\n",
       "      <td>471.65</td>\n",
       "    </tr>\n",
       "    <tr>\n",
       "      <th>243</th>\n",
       "      <td>29/12/08</td>\n",
       "      <td>315.75</td>\n",
       "      <td>867.77</td>\n",
       "      <td>494.95</td>\n",
       "      <td>184.00</td>\n",
       "      <td>476.80</td>\n",
       "    </tr>\n",
       "    <tr>\n",
       "      <th>244</th>\n",
       "      <td>30/12/08</td>\n",
       "      <td>319.70</td>\n",
       "      <td>873.45</td>\n",
       "      <td>510.25</td>\n",
       "      <td>183.90</td>\n",
       "      <td>482.55</td>\n",
       "    </tr>\n",
       "    <tr>\n",
       "      <th>245</th>\n",
       "      <td>31/12/08</td>\n",
       "      <td>325.30</td>\n",
       "      <td>883.53</td>\n",
       "      <td>504.70</td>\n",
       "      <td>186.60</td>\n",
       "      <td>477.90</td>\n",
       "    </tr>\n",
       "  </tbody>\n",
       "</table>\n",
       "<p>246 rows × 6 columns</p>\n",
       "</div>"
      ],
      "text/plain": [
       "         Date  adaniports  asianpaints  axisbank   cipla      tcs\n",
       "0    01/01/08     1296.85      1123.19    972.55  211.10  1054.55\n",
       "1    02/01/08     1307.45      1135.45   1034.65  218.85  1050.00\n",
       "2    03/01/08     1275.80      1133.90   1035.85  216.35  1011.05\n",
       "3    04/01/08     1240.35      1150.08   1054.90  213.65  1005.20\n",
       "4    07/01/08     1227.25      1182.62   1090.15  212.65   975.60\n",
       "..        ...         ...          ...       ...     ...      ...\n",
       "241  24/12/08      312.80       868.23    490.75  181.05   478.15\n",
       "242  26/12/08      305.45       868.44    482.80  181.95   471.65\n",
       "243  29/12/08      315.75       867.77    494.95  184.00   476.80\n",
       "244  30/12/08      319.70       873.45    510.25  183.90   482.55\n",
       "245  31/12/08      325.30       883.53    504.70  186.60   477.90\n",
       "\n",
       "[246 rows x 6 columns]"
      ]
     },
     "execution_count": 12,
     "metadata": {},
     "output_type": "execute_result"
    }
   ],
   "source": [
    "### How many time was the change in price from one day to the other was positive?"
   ]
  },
  {
   "cell_type": "code",
   "execution_count": 27,
   "id": "76e69a91-6c47-4504-8dff-74a6fe41310e",
   "metadata": {
    "tags": []
   },
   "outputs": [
    {
     "data": {
      "text/plain": [
       "0         NaN\n",
       "1      211.10\n",
       "2      218.85\n",
       "3      216.35\n",
       "4      213.65\n",
       "        ...  \n",
       "241    182.00\n",
       "242    181.05\n",
       "243    181.95\n",
       "244    184.00\n",
       "245    183.90\n",
       "Name: cipla, Length: 246, dtype: float64"
      ]
     },
     "execution_count": 27,
     "metadata": {},
     "output_type": "execute_result"
    }
   ],
   "source": [
    "df['cipla'].shift()"
   ]
  },
  {
   "cell_type": "code",
   "execution_count": 17,
   "id": "07e7c4ea-bdce-4f0a-9313-626cb2dc2556",
   "metadata": {
    "tags": []
   },
   "outputs": [],
   "source": [
    "df['price_change_cipla']=df['cipla']-df['cipla'].shift()"
   ]
  },
  {
   "cell_type": "code",
   "execution_count": 18,
   "id": "b1951e83-7bb3-409b-b253-3955ace2410d",
   "metadata": {
    "tags": []
   },
   "outputs": [
    {
     "data": {
      "text/html": [
       "<div>\n",
       "<style scoped>\n",
       "    .dataframe tbody tr th:only-of-type {\n",
       "        vertical-align: middle;\n",
       "    }\n",
       "\n",
       "    .dataframe tbody tr th {\n",
       "        vertical-align: top;\n",
       "    }\n",
       "\n",
       "    .dataframe thead th {\n",
       "        text-align: right;\n",
       "    }\n",
       "</style>\n",
       "<table border=\"1\" class=\"dataframe\">\n",
       "  <thead>\n",
       "    <tr style=\"text-align: right;\">\n",
       "      <th></th>\n",
       "      <th>Date</th>\n",
       "      <th>adaniports</th>\n",
       "      <th>asianpaints</th>\n",
       "      <th>axisbank</th>\n",
       "      <th>cipla</th>\n",
       "      <th>tcs</th>\n",
       "      <th>price_change_cipla</th>\n",
       "    </tr>\n",
       "  </thead>\n",
       "  <tbody>\n",
       "    <tr>\n",
       "      <th>0</th>\n",
       "      <td>01/01/08</td>\n",
       "      <td>1296.85</td>\n",
       "      <td>1123.19</td>\n",
       "      <td>972.55</td>\n",
       "      <td>211.10</td>\n",
       "      <td>1054.55</td>\n",
       "      <td>NaN</td>\n",
       "    </tr>\n",
       "    <tr>\n",
       "      <th>1</th>\n",
       "      <td>02/01/08</td>\n",
       "      <td>1307.45</td>\n",
       "      <td>1135.45</td>\n",
       "      <td>1034.65</td>\n",
       "      <td>218.85</td>\n",
       "      <td>1050.00</td>\n",
       "      <td>7.75</td>\n",
       "    </tr>\n",
       "    <tr>\n",
       "      <th>2</th>\n",
       "      <td>03/01/08</td>\n",
       "      <td>1275.80</td>\n",
       "      <td>1133.90</td>\n",
       "      <td>1035.85</td>\n",
       "      <td>216.35</td>\n",
       "      <td>1011.05</td>\n",
       "      <td>-2.50</td>\n",
       "    </tr>\n",
       "    <tr>\n",
       "      <th>3</th>\n",
       "      <td>04/01/08</td>\n",
       "      <td>1240.35</td>\n",
       "      <td>1150.08</td>\n",
       "      <td>1054.90</td>\n",
       "      <td>213.65</td>\n",
       "      <td>1005.20</td>\n",
       "      <td>-2.70</td>\n",
       "    </tr>\n",
       "    <tr>\n",
       "      <th>4</th>\n",
       "      <td>07/01/08</td>\n",
       "      <td>1227.25</td>\n",
       "      <td>1182.62</td>\n",
       "      <td>1090.15</td>\n",
       "      <td>212.65</td>\n",
       "      <td>975.60</td>\n",
       "      <td>-1.00</td>\n",
       "    </tr>\n",
       "    <tr>\n",
       "      <th>...</th>\n",
       "      <td>...</td>\n",
       "      <td>...</td>\n",
       "      <td>...</td>\n",
       "      <td>...</td>\n",
       "      <td>...</td>\n",
       "      <td>...</td>\n",
       "      <td>...</td>\n",
       "    </tr>\n",
       "    <tr>\n",
       "      <th>241</th>\n",
       "      <td>24/12/08</td>\n",
       "      <td>312.80</td>\n",
       "      <td>868.23</td>\n",
       "      <td>490.75</td>\n",
       "      <td>181.05</td>\n",
       "      <td>478.15</td>\n",
       "      <td>-0.95</td>\n",
       "    </tr>\n",
       "    <tr>\n",
       "      <th>242</th>\n",
       "      <td>26/12/08</td>\n",
       "      <td>305.45</td>\n",
       "      <td>868.44</td>\n",
       "      <td>482.80</td>\n",
       "      <td>181.95</td>\n",
       "      <td>471.65</td>\n",
       "      <td>0.90</td>\n",
       "    </tr>\n",
       "    <tr>\n",
       "      <th>243</th>\n",
       "      <td>29/12/08</td>\n",
       "      <td>315.75</td>\n",
       "      <td>867.77</td>\n",
       "      <td>494.95</td>\n",
       "      <td>184.00</td>\n",
       "      <td>476.80</td>\n",
       "      <td>2.05</td>\n",
       "    </tr>\n",
       "    <tr>\n",
       "      <th>244</th>\n",
       "      <td>30/12/08</td>\n",
       "      <td>319.70</td>\n",
       "      <td>873.45</td>\n",
       "      <td>510.25</td>\n",
       "      <td>183.90</td>\n",
       "      <td>482.55</td>\n",
       "      <td>-0.10</td>\n",
       "    </tr>\n",
       "    <tr>\n",
       "      <th>245</th>\n",
       "      <td>31/12/08</td>\n",
       "      <td>325.30</td>\n",
       "      <td>883.53</td>\n",
       "      <td>504.70</td>\n",
       "      <td>186.60</td>\n",
       "      <td>477.90</td>\n",
       "      <td>2.70</td>\n",
       "    </tr>\n",
       "  </tbody>\n",
       "</table>\n",
       "<p>246 rows × 7 columns</p>\n",
       "</div>"
      ],
      "text/plain": [
       "         Date  adaniports  asianpaints  axisbank   cipla      tcs  \\\n",
       "0    01/01/08     1296.85      1123.19    972.55  211.10  1054.55   \n",
       "1    02/01/08     1307.45      1135.45   1034.65  218.85  1050.00   \n",
       "2    03/01/08     1275.80      1133.90   1035.85  216.35  1011.05   \n",
       "3    04/01/08     1240.35      1150.08   1054.90  213.65  1005.20   \n",
       "4    07/01/08     1227.25      1182.62   1090.15  212.65   975.60   \n",
       "..        ...         ...          ...       ...     ...      ...   \n",
       "241  24/12/08      312.80       868.23    490.75  181.05   478.15   \n",
       "242  26/12/08      305.45       868.44    482.80  181.95   471.65   \n",
       "243  29/12/08      315.75       867.77    494.95  184.00   476.80   \n",
       "244  30/12/08      319.70       873.45    510.25  183.90   482.55   \n",
       "245  31/12/08      325.30       883.53    504.70  186.60   477.90   \n",
       "\n",
       "     price_change_cipla  \n",
       "0                   NaN  \n",
       "1                  7.75  \n",
       "2                 -2.50  \n",
       "3                 -2.70  \n",
       "4                 -1.00  \n",
       "..                  ...  \n",
       "241               -0.95  \n",
       "242                0.90  \n",
       "243                2.05  \n",
       "244               -0.10  \n",
       "245                2.70  \n",
       "\n",
       "[246 rows x 7 columns]"
      ]
     },
     "execution_count": 18,
     "metadata": {},
     "output_type": "execute_result"
    }
   ],
   "source": [
    "df"
   ]
  },
  {
   "cell_type": "code",
   "execution_count": 20,
   "id": "c934c101-d9a7-44e5-b849-44385e4ba5a0",
   "metadata": {
    "tags": []
   },
   "outputs": [
    {
     "data": {
      "text/plain": [
       "123"
      ]
     },
     "execution_count": 20,
     "metadata": {},
     "output_type": "execute_result"
    }
   ],
   "source": [
    "### How many time was the change in price from one day to the other was positive?\n",
    "df[df['price_change_cipla']>0].shape[0]"
   ]
  },
  {
   "cell_type": "code",
   "execution_count": 21,
   "id": "9226526a-92c1-4104-b8f4-1b4bb1552408",
   "metadata": {
    "tags": []
   },
   "outputs": [
    {
     "data": {
      "text/plain": [
       "246"
      ]
     },
     "execution_count": 21,
     "metadata": {},
     "output_type": "execute_result"
    }
   ],
   "source": [
    "df.shape[0]"
   ]
  },
  {
   "cell_type": "code",
   "execution_count": 22,
   "id": "f4881d69-37e4-4843-bd7e-71175ba54c8b",
   "metadata": {
    "tags": []
   },
   "outputs": [
    {
     "data": {
      "text/plain": [
       "0.5"
      ]
     },
     "execution_count": 22,
     "metadata": {},
     "output_type": "execute_result"
    }
   ],
   "source": [
    "## On an average what is the chance that the stock price change in cipla be positive?\n",
    "123/246"
   ]
  },
  {
   "cell_type": "code",
   "execution_count": 23,
   "id": "237452f9-6e91-45fd-96a7-b27d48567630",
   "metadata": {
    "tags": []
   },
   "outputs": [],
   "source": [
    "### Cipla, if out of 10 days if the change in stock price is positive for 7 days, I make money.\n",
    "### What is the probability that I will make money?"
   ]
  },
  {
   "cell_type": "code",
   "execution_count": 25,
   "id": "aad08d3d-ea52-493b-b8b0-cefaaa54d498",
   "metadata": {
    "tags": []
   },
   "outputs": [],
   "source": [
    "from scipy.stats import binom"
   ]
  },
  {
   "cell_type": "code",
   "execution_count": 26,
   "id": "ee9b1992-e24a-460c-aee2-4c9973a1f81e",
   "metadata": {
    "tags": []
   },
   "outputs": [
    {
     "data": {
      "text/plain": [
       "0.11718750000000004"
      ]
     },
     "execution_count": 26,
     "metadata": {},
     "output_type": "execute_result"
    }
   ],
   "source": [
    "binom.pmf(7,10,0.5)"
   ]
  },
  {
   "cell_type": "code",
   "execution_count": null,
   "id": "45a4e35f-3810-477e-92da-ae46f910e1b5",
   "metadata": {},
   "outputs": [],
   "source": [
    "    "
   ]
  }
 ],
 "metadata": {
  "kernelspec": {
   "display_name": "Python 3 (ipykernel)",
   "language": "python",
   "name": "python3"
  },
  "language_info": {
   "codemirror_mode": {
    "name": "ipython",
    "version": 3
   },
   "file_extension": ".py",
   "mimetype": "text/x-python",
   "name": "python",
   "nbconvert_exporter": "python",
   "pygments_lexer": "ipython3",
   "version": "3.9.13"
  }
 },
 "nbformat": 4,
 "nbformat_minor": 5
}
