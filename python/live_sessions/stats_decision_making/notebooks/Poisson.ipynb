{
 "cells": [
  {
   "cell_type": "markdown",
   "id": "2795a857-06b0-4746-afca-a60e5efef941",
   "metadata": {},
   "source": [
    "## Poisson Distribution\n",
    "\n",
    "- Using scipy to compute poisson probs\n",
    "- Football data case study"
   ]
  },
  {
   "cell_type": "code",
   "execution_count": 13,
   "id": "0b14bd77-a62e-4f65-8d37-88f76162b0a1",
   "metadata": {
    "tags": []
   },
   "outputs": [],
   "source": [
    "import scipy"
   ]
  },
  {
   "cell_type": "markdown",
   "id": "04015ac3-c3f9-458b-b8d0-52fceada9b6e",
   "metadata": {},
   "source": [
    "1. Given a manuscript, where there are on an average 3 errors in a given page. What are the chances of finding exactly 4 errors?"
   ]
  },
  {
   "cell_type": "code",
   "execution_count": 14,
   "id": "f38803d4-3af1-4378-99a8-ccfb8497cd6f",
   "metadata": {
    "tags": []
   },
   "outputs": [
    {
     "data": {
      "text/plain": [
       "0.16803135574154085"
      ]
     },
     "execution_count": 14,
     "metadata": {},
     "output_type": "execute_result"
    }
   ],
   "source": [
    "scipy.stats.poisson.pmf(4,3)"
   ]
  },
  {
   "cell_type": "markdown",
   "id": "8e5e47e6-2d68-4251-b7ba-27d6007410da",
   "metadata": {},
   "source": [
    "2. Given a manuscript, where there are on an average 3 errors in a given page. What are the chances of finding upto 4 errors in a page?"
   ]
  },
  {
   "cell_type": "code",
   "execution_count": 15,
   "id": "c32196f8-8f7f-4bba-8a81-9e15371048eb",
   "metadata": {
    "tags": []
   },
   "outputs": [
    {
     "data": {
      "text/plain": [
       "0.8152632445237722"
      ]
     },
     "execution_count": 15,
     "metadata": {},
     "output_type": "execute_result"
    }
   ],
   "source": [
    "scipy.stats.poisson.cdf(4,3)"
   ]
  },
  {
   "cell_type": "code",
   "execution_count": 1,
   "id": "04e98e15-2683-4a2e-a464-61cded4e169b",
   "metadata": {
    "tags": []
   },
   "outputs": [],
   "source": [
    "import pandas as pd\n",
    "url = \"https://raw.githubusercontent.com/Gunnvant/Self-Paced-Content/main/python/live_sessions/stats_decision_making/notebooks/football_results.csv\"\n",
    "df = pd.read_csv(url)"
   ]
  },
  {
   "cell_type": "code",
   "execution_count": 2,
   "id": "3cbde7ce-b7f5-43e4-9fd2-9e7570b7596e",
   "metadata": {
    "tags": []
   },
   "outputs": [
    {
     "data": {
      "text/html": [
       "<div>\n",
       "<style scoped>\n",
       "    .dataframe tbody tr th:only-of-type {\n",
       "        vertical-align: middle;\n",
       "    }\n",
       "\n",
       "    .dataframe tbody tr th {\n",
       "        vertical-align: top;\n",
       "    }\n",
       "\n",
       "    .dataframe thead th {\n",
       "        text-align: right;\n",
       "    }\n",
       "</style>\n",
       "<table border=\"1\" class=\"dataframe\">\n",
       "  <thead>\n",
       "    <tr style=\"text-align: right;\">\n",
       "      <th></th>\n",
       "      <th>date</th>\n",
       "      <th>home_team</th>\n",
       "      <th>away_team</th>\n",
       "      <th>home_score</th>\n",
       "      <th>away_score</th>\n",
       "      <th>tournament</th>\n",
       "      <th>city</th>\n",
       "      <th>country</th>\n",
       "      <th>neutral</th>\n",
       "    </tr>\n",
       "  </thead>\n",
       "  <tbody>\n",
       "    <tr>\n",
       "      <th>0</th>\n",
       "      <td>1872-11-30</td>\n",
       "      <td>Scotland</td>\n",
       "      <td>England</td>\n",
       "      <td>0</td>\n",
       "      <td>0</td>\n",
       "      <td>Friendly</td>\n",
       "      <td>Glasgow</td>\n",
       "      <td>Scotland</td>\n",
       "      <td>False</td>\n",
       "    </tr>\n",
       "    <tr>\n",
       "      <th>1</th>\n",
       "      <td>1873-03-08</td>\n",
       "      <td>England</td>\n",
       "      <td>Scotland</td>\n",
       "      <td>4</td>\n",
       "      <td>2</td>\n",
       "      <td>Friendly</td>\n",
       "      <td>London</td>\n",
       "      <td>England</td>\n",
       "      <td>False</td>\n",
       "    </tr>\n",
       "    <tr>\n",
       "      <th>2</th>\n",
       "      <td>1874-03-07</td>\n",
       "      <td>Scotland</td>\n",
       "      <td>England</td>\n",
       "      <td>2</td>\n",
       "      <td>1</td>\n",
       "      <td>Friendly</td>\n",
       "      <td>Glasgow</td>\n",
       "      <td>Scotland</td>\n",
       "      <td>False</td>\n",
       "    </tr>\n",
       "    <tr>\n",
       "      <th>3</th>\n",
       "      <td>1875-03-06</td>\n",
       "      <td>England</td>\n",
       "      <td>Scotland</td>\n",
       "      <td>2</td>\n",
       "      <td>2</td>\n",
       "      <td>Friendly</td>\n",
       "      <td>London</td>\n",
       "      <td>England</td>\n",
       "      <td>False</td>\n",
       "    </tr>\n",
       "    <tr>\n",
       "      <th>4</th>\n",
       "      <td>1876-03-04</td>\n",
       "      <td>Scotland</td>\n",
       "      <td>England</td>\n",
       "      <td>3</td>\n",
       "      <td>0</td>\n",
       "      <td>Friendly</td>\n",
       "      <td>Glasgow</td>\n",
       "      <td>Scotland</td>\n",
       "      <td>False</td>\n",
       "    </tr>\n",
       "  </tbody>\n",
       "</table>\n",
       "</div>"
      ],
      "text/plain": [
       "         date home_team away_team  home_score  away_score tournament     city  \\\n",
       "0  1872-11-30  Scotland   England           0           0   Friendly  Glasgow   \n",
       "1  1873-03-08   England  Scotland           4           2   Friendly   London   \n",
       "2  1874-03-07  Scotland   England           2           1   Friendly  Glasgow   \n",
       "3  1875-03-06   England  Scotland           2           2   Friendly   London   \n",
       "4  1876-03-04  Scotland   England           3           0   Friendly  Glasgow   \n",
       "\n",
       "    country  neutral  \n",
       "0  Scotland    False  \n",
       "1   England    False  \n",
       "2  Scotland    False  \n",
       "3   England    False  \n",
       "4  Scotland    False  "
      ]
     },
     "execution_count": 2,
     "metadata": {},
     "output_type": "execute_result"
    }
   ],
   "source": [
    "df.head()"
   ]
  },
  {
   "cell_type": "markdown",
   "id": "ca9224a1-a70d-4390-b476-9ace03385d6f",
   "metadata": {},
   "source": [
    "**DIY:**\n",
    "\n",
    "How many matches were in a neutral venue?"
   ]
  },
  {
   "cell_type": "markdown",
   "id": "68444729-b927-455c-b6ef-cb5e3b9f5007",
   "metadata": {},
   "source": [
    "**DIY:**\n",
    "\n",
    "Select rows in the DataFrame where the venue was neutral"
   ]
  },
  {
   "cell_type": "markdown",
   "id": "47625005-4e5e-40fa-922c-49cbf822092d",
   "metadata": {},
   "source": [
    "**DIY:**\n",
    "\n",
    "Add a new column to the DataFrame which contains the total number of goals scored in *EACH MATCH*"
   ]
  },
  {
   "cell_type": "markdown",
   "id": "06c7e496-f338-4af9-8bf5-67b1111995c0",
   "metadata": {},
   "source": [
    "**DIY:**\n",
    "\n",
    "Find the number of matches in which 5 goals were scored"
   ]
  },
  {
   "cell_type": "markdown",
   "id": "f8f0e5f4-65cd-495d-8abf-fc6130d56d26",
   "metadata": {},
   "source": [
    "**Class Discussion**\n",
    "\n",
    "Create a dictionary where the keys are the number of goals, and the values are the number of matches in which that many goals were scored.\n",
    "\n",
    "Ex: dict_ex = {3:5, 4:10} for a dataset in which 3 goals were scored in 5 matches and 4 goals were scored in 10 matches."
   ]
  },
  {
   "cell_type": "code",
   "execution_count": 3,
   "id": "c38ec701-615e-4056-b694-531c6f667515",
   "metadata": {
    "tags": []
   },
   "outputs": [
    {
     "name": "stdout",
     "output_type": "stream",
     "text": [
      "31\n"
     ]
    }
   ],
   "source": [
    "df[\"total_goals\"]=df[\"home_score\"] + df[\"away_score\"]\n",
    "\n",
    "max_goals = df[\"total_goals\"].max()\n",
    "print(max_goals)"
   ]
  },
  {
   "cell_type": "code",
   "execution_count": 5,
   "id": "14e22034-2f5a-4597-8499-dce80a29e4a1",
   "metadata": {
    "tags": []
   },
   "outputs": [],
   "source": [
    "dict_goals = {}\n",
    "for i in range(max_goals+1):\n",
    "    dict_goals[i] = len(df[df[\"total_goals\"] == i])"
   ]
  },
  {
   "cell_type": "code",
   "execution_count": 6,
   "id": "c7cd0e69-b085-4c9b-bbcf-e2807d45e279",
   "metadata": {
    "tags": []
   },
   "outputs": [
    {
     "data": {
      "text/plain": [
       "{0: 3623,\n",
       " 1: 7707,\n",
       " 2: 9915,\n",
       " 3: 8765,\n",
       " 4: 6131,\n",
       " 5: 3765,\n",
       " 6: 2044,\n",
       " 7: 1111,\n",
       " 8: 577,\n",
       " 9: 308,\n",
       " 10: 160,\n",
       " 11: 85,\n",
       " 12: 58,\n",
       " 13: 31,\n",
       " 14: 16,\n",
       " 15: 13,\n",
       " 16: 11,\n",
       " 17: 9,\n",
       " 18: 8,\n",
       " 19: 5,\n",
       " 20: 4,\n",
       " 21: 2,\n",
       " 22: 2,\n",
       " 23: 0,\n",
       " 24: 1,\n",
       " 25: 0,\n",
       " 26: 0,\n",
       " 27: 0,\n",
       " 28: 0,\n",
       " 29: 0,\n",
       " 30: 1,\n",
       " 31: 1}"
      ]
     },
     "execution_count": 6,
     "metadata": {},
     "output_type": "execute_result"
    }
   ],
   "source": [
    "dict_goals"
   ]
  },
  {
   "cell_type": "code",
   "execution_count": 7,
   "id": "a0047fdc-82d9-4761-a3e3-1c9fb81309c3",
   "metadata": {
    "tags": []
   },
   "outputs": [
    {
     "data": {
      "text/plain": [
       "<Axes: >"
      ]
     },
     "execution_count": 7,
     "metadata": {},
     "output_type": "execute_result"
    },
    {
     "data": {
      "image/png": "[encoded data removed]",
      "text/plain": [
       "<Figure size 640x480 with 1 Axes>"
      ]
     },
     "metadata": {},
     "output_type": "display_data"
    }
   ],
   "source": [
    "pd.Series(dict_goals).plot(kind=\"bar\")"
   ]
  },
  {
   "cell_type": "markdown",
   "id": "95ef6fe1-5ed7-402a-88f1-29d6832c48a2",
   "metadata": {},
   "source": [
    "### Can we model this data using poisson distribution?"
   ]
  },
  {
   "cell_type": "markdown",
   "id": "1ad366a3-42f4-49d9-ad21-dea6a8171408",
   "metadata": {},
   "source": [
    "**Discussion**\n",
    "\n",
    "What is the average number of goals?"
   ]
  },
  {
   "cell_type": "code",
   "execution_count": 11,
   "id": "e0c31e75-9b34-4302-a00c-36a9b35b9285",
   "metadata": {
    "tags": []
   },
   "outputs": [
    {
     "name": "stdout",
     "output_type": "stream",
     "text": [
      "2.9193515658467297\n"
     ]
    }
   ],
   "source": [
    "total_number_goals = df[\"total_goals\"].sum()\n",
    "total_number_matches = len(df)\n",
    "\n",
    "mean = total_number_goals/total_number_matches\n",
    "print(mean)"
   ]
  },
  {
   "cell_type": "markdown",
   "id": "03cb9744-7d45-4ad3-9edd-d23218431642",
   "metadata": {},
   "source": [
    "We can treat the above average as lambda or rate term"
   ]
  },
  {
   "cell_type": "markdown",
   "id": "675bff91-0a21-4b87-9d33-a9dab213d497",
   "metadata": {},
   "source": [
    "**Discussion**\n",
    "\n",
    "Using this Poisson Distribution, predict the probability of the next match having exactly 6 goals. Compare it with the actual data says."
   ]
  },
  {
   "cell_type": "code",
   "execution_count": 12,
   "id": "5e9a5c47-2950-4323-b9d7-5dda2520c675",
   "metadata": {
    "tags": []
   },
   "outputs": [
    {
     "name": "stdout",
     "output_type": "stream",
     "text": [
      "Prediction using Poisson:  0.04638381659916773\n",
      "Actual Data :  0.046084819516154486\n"
     ]
    }
   ],
   "source": [
    "import scipy\n",
    "print(\"Prediction using Poisson: \",scipy.stats.poisson.pmf(6,2.919))\n",
    "print(\"Actual Data : \",dict_goals[6]/len(df))"
   ]
  },
  {
   "cell_type": "markdown",
   "id": "f1535c93-288d-4d03-a453-50fa88e69d61",
   "metadata": {},
   "source": [
    "**DIY**\n",
    "\n",
    "In a match between Scotland and England, what are the chances of a match having upto 3 goals."
   ]
  },
  {
   "cell_type": "markdown",
   "id": "c6838af0-202d-4788-8fab-25fb79959096",
   "metadata": {},
   "source": [
    "**DIY**\n",
    "\n",
    "For macthes that take place in Glasgow, what are the chances of seeing a match where more than 4 goals are scored"
   ]
  },
  {
   "cell_type": "markdown",
   "id": "7c625524-4314-401e-a97e-4df8cce0b228",
   "metadata": {},
   "source": [
    "### Car Accessories Case Study [Optional]"
   ]
  },
  {
   "cell_type": "code",
   "execution_count": 16,
   "id": "8df7a119-9029-466f-a838-38245fa0cb85",
   "metadata": {
    "tags": []
   },
   "outputs": [],
   "source": [
    "url = \"https://raw.githubusercontent.com/Gunnvant/Self-Paced-Content/main/python/live_sessions/stats_decision_making/notebooks/car_access.csv\"\n",
    "df = pd.read_csv(url)"
   ]
  },
  {
   "cell_type": "code",
   "execution_count": 17,
   "id": "f6c94cf6-42fc-4f73-9e16-c7d6d51c7eb8",
   "metadata": {
    "tags": []
   },
   "outputs": [
    {
     "data": {
      "text/html": [
       "<div>\n",
       "<style scoped>\n",
       "    .dataframe tbody tr th:only-of-type {\n",
       "        vertical-align: middle;\n",
       "    }\n",
       "\n",
       "    .dataframe tbody tr th {\n",
       "        vertical-align: top;\n",
       "    }\n",
       "\n",
       "    .dataframe thead th {\n",
       "        text-align: right;\n",
       "    }\n",
       "</style>\n",
       "<table border=\"1\" class=\"dataframe\">\n",
       "  <thead>\n",
       "    <tr style=\"text-align: right;\">\n",
       "      <th></th>\n",
       "      <th>Title</th>\n",
       "      <th>Price</th>\n",
       "      <th>Number reviews</th>\n",
       "      <th>Real price</th>\n",
       "      <th>Free days</th>\n",
       "      <th>Shipment</th>\n",
       "      <th>Delivery Date</th>\n",
       "      <th>How many time in past month</th>\n",
       "      <th>Stock update</th>\n",
       "    </tr>\n",
       "  </thead>\n",
       "  <tbody>\n",
       "    <tr>\n",
       "      <th>0</th>\n",
       "      <td>Dorman 955-167 Driver Side Power Door Mirror f...</td>\n",
       "      <td>35</td>\n",
       "      <td>101</td>\n",
       "      <td>$1.92</td>\n",
       "      <td>90 days FREE. Terms apply.</td>\n",
       "      <td>Yes</td>\n",
       "      <td>Mon, Jun 19</td>\n",
       "      <td>50+ bought in past week</td>\n",
       "      <td>Only 7 left in stock - order soon.</td>\n",
       "    </tr>\n",
       "    <tr>\n",
       "      <th>1</th>\n",
       "      <td>CURT 51323 Quick Plug Electric Trailer Brake C...</td>\n",
       "      <td>19</td>\n",
       "      <td>386</td>\n",
       "      <td>$1.93</td>\n",
       "      <td>90 days FREE. Terms apply.</td>\n",
       "      <td>Yes</td>\n",
       "      <td>Mon, Jun 19</td>\n",
       "      <td>50+ bought in past week</td>\n",
       "      <td>Only 4 left in stock (more on the way).</td>\n",
       "    </tr>\n",
       "  </tbody>\n",
       "</table>\n",
       "</div>"
      ],
      "text/plain": [
       "                                               Title Price Number reviews  \\\n",
       "0  Dorman 955-167 Driver Side Power Door Mirror f...    35            101   \n",
       "1  CURT 51323 Quick Plug Electric Trailer Brake C...    19            386   \n",
       "\n",
       "  Real price                   Free days Shipment Delivery Date  \\\n",
       "0      $1.92  90 days FREE. Terms apply.      Yes   Mon, Jun 19   \n",
       "1      $1.93  90 days FREE. Terms apply.      Yes   Mon, Jun 19   \n",
       "\n",
       "  How many time in past month                             Stock update  \n",
       "0     50+ bought in past week       Only 7 left in stock - order soon.  \n",
       "1     50+ bought in past week  Only 4 left in stock (more on the way).  "
      ]
     },
     "execution_count": 17,
     "metadata": {},
     "output_type": "execute_result"
    }
   ],
   "source": [
    "df.head(2)"
   ]
  },
  {
   "cell_type": "markdown",
   "id": "432089d8-51b9-4d26-bce7-639f5fb9233b",
   "metadata": {},
   "source": [
    "**DIY**\n",
    "\n",
    "- Find out what are the chances of having an item for delievery whose price is more than \\$2?\n",
    "- For a random sample of 10 deliveries on a Jun 19, what are the chances that upto 6 deliveries will have an item whose price is more than \\$2?\n",
    "- Repeat the excercise of a June 20 and June 22?\n",
    "\n"
   ]
  },
  {
   "cell_type": "code",
   "execution_count": null,
   "id": "7c8b4d11-37aa-41b7-b3e0-ca0541e3df67",
   "metadata": {},
   "outputs": [],
   "source": []
  }
 ],
 "metadata": {
  "kernelspec": {
   "display_name": "Python 3 (ipykernel)",
   "language": "python",
   "name": "python3"
  },
  "language_info": {
   "codemirror_mode": {
    "name": "ipython",
    "version": 3
   },
   "file_extension": ".py",
   "mimetype": "text/x-python",
   "name": "python",
   "nbconvert_exporter": "python",
   "pygments_lexer": "ipython3",
   "version": "3.10.10"
  }
 },
 "nbformat": 4,
 "nbformat_minor": 5
}
