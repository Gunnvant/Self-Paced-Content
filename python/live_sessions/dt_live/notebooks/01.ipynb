{
 "cells": [
  {
   "cell_type": "markdown",
   "id": "e3f414aa-e80a-48a6-a5a7-1ebc86dc93f8",
   "metadata": {},
   "source": [
    "## DT Intuition:\n",
    "\n",
    "- How splitting works?\n",
    "- How to measure the impact of split\n",
    "- Examples from both classification and regression setting"
   ]
  },
  {
   "cell_type": "code",
   "execution_count": 1,
   "id": "a27d4d8f-ec7b-4082-bf57-b9e2a037ea48",
   "metadata": {
    "tags": []
   },
   "outputs": [],
   "source": [
    "import pandas as pd\n",
    "import numpy as np\n",
    "import matplotlib.pyplot as plt"
   ]
  },
  {
   "cell_type": "code",
   "execution_count": 2,
   "id": "d599eaf2-982d-4ce1-ac76-724dbb844c63",
   "metadata": {
    "tags": []
   },
   "outputs": [],
   "source": [
    "vals = np.array([['36','M','P'],\n",
    "    ['32','S','U'],\n",
    "    ['38','M','P'],\n",
    "    ['40','S','U'],\n",
    "    ['44','M','P'],\n",
    "    ['56','M','P'],\n",
    "    ['58','S','U'],\n",
    "    ['30','S','P'],\n",
    "    ['28','M','U'],\n",
    "    ['26','M','U']])"
   ]
  },
  {
   "cell_type": "code",
   "execution_count": 3,
   "id": "0c70d431-fdb6-4dab-868f-8ad1318ceb10",
   "metadata": {
    "tags": []
   },
   "outputs": [],
   "source": [
    "df = pd.DataFrame(vals,columns=[\"Age\",\"Gender\",\"Profitability\"])"
   ]
  },
  {
   "cell_type": "code",
   "execution_count": 4,
   "id": "8b54d410-ff43-4c51-ad8b-ae69959cce19",
   "metadata": {
    "tags": []
   },
   "outputs": [],
   "source": [
    "df['Age']=df['Age'].astype('int')"
   ]
  },
  {
   "cell_type": "code",
   "execution_count": 5,
   "id": "1df36b40-3cab-437c-b298-71e33d9c19df",
   "metadata": {
    "tags": []
   },
   "outputs": [],
   "source": [
    "import ipywidgets as widgets"
   ]
  },
  {
   "cell_type": "code",
   "execution_count": 6,
   "id": "8e3d567c-3d4b-4193-9809-882d276abf84",
   "metadata": {
    "tags": []
   },
   "outputs": [],
   "source": [
    "from ipywidgets import interact, interactive, fixed, interact_manual"
   ]
  },
  {
   "cell_type": "code",
   "execution_count": 7,
   "id": "43ed3345-ab32-49e1-8725-703eec8334af",
   "metadata": {
    "tags": []
   },
   "outputs": [],
   "source": [
    "def f(x,col):\n",
    "    cutoff = x\n",
    "    fig, axes = plt.subplots(nrows=1, ncols=2, figsize=(10, 5))\n",
    "    try:\n",
    "        df[df[col]>cutoff]['Profitability'].value_counts(normalize=False).plot(kind='bar',ax=axes[0])\n",
    "        df[df[col]<=cutoff]['Profitability'].value_counts(normalize=False).plot(kind='bar',ax=axes[1])\n",
    "        axes[0].set_title(f'{col}>={cutoff}')\n",
    "        axes[1].set_title(f'{col}<{cutoff}')\n",
    "        plt.tight_layout()\n",
    "    except:\n",
    "        print(\"Can't compute\")\n",
    "    return plt.show()"
   ]
  },
  {
   "cell_type": "code",
   "execution_count": 8,
   "id": "ae2b8da9-29a9-494b-aa2d-d50fca0c0c68",
   "metadata": {
    "tags": []
   },
   "outputs": [
    {
     "data": {
      "application/vnd.jupyter.widget-view+json": {
       "model_id": "853d451e313241419b17d9d4d1d5fbed",
       "version_major": 2,
       "version_minor": 0
      },
      "text/plain": [
       "interactive(children=(IntSlider(value=0, description='x', max=58), Text(value='Age', description='col'), Outpu…"
      ]
     },
     "execution_count": 8,
     "metadata": {},
     "output_type": "execute_result"
    }
   ],
   "source": [
    "interactive(f,col='Age',x=widgets.IntSlider(min=0,max=df.Age.max()))"
   ]
  },
  {
   "cell_type": "code",
   "execution_count": 9,
   "id": "88b5488f-e0b8-4dd5-bb59-70ab03ce4ff4",
   "metadata": {
    "tags": []
   },
   "outputs": [],
   "source": [
    "def compute_node_entropy(n1,n2):\n",
    "    p1 = (n1)/(n1+n2)\n",
    "    p2 = (n2)/(n1+n2)\n",
    "    l1 = np.log2(p1)\n",
    "    l2 = np.log2(p2)\n",
    "    e = p1*l1+p2*l2\n",
    "    return -1*e\n",
    "def compute_node_metrics_right(col,cutoff):\n",
    "    p = df[df[col]>cutoff]['Profitability'].value_counts(normalize=False).get(\"P\")\n",
    "    u = df[df[col]>cutoff]['Profitability'].value_counts(normalize=False).get(\"U\")\n",
    "    return (p,u)\n",
    "def compute_node_metrics_left(col,cutoff):\n",
    "    p = df[df[col]<=cutoff]['Profitability'].value_counts(normalize=False).get(\"P\")\n",
    "    u = df[df[col]<=cutoff]['Profitability'].value_counts(normalize=False).get(\"U\")\n",
    "    return (p,u)\n",
    "def plot_entropy(x,col):\n",
    "    cutoff = x\n",
    "    fig, axes = plt.subplots(nrows=1, ncols=2, figsize=(10, 5))\n",
    "    try:\n",
    "        df[df[col]>=cutoff]['Profitability'].value_counts(normalize=False).plot(kind='bar',ax=axes[0])\n",
    "        df[df[col]<cutoff]['Profitability'].value_counts(normalize=False).plot(kind='bar',ax=axes[1])\n",
    "        n1,n2 = compute_node_metrics_right(col,cutoff)\n",
    "        tot1 = n1+n2\n",
    "        p11 = round(n1/(tot1),2)\n",
    "        e1 = compute_node_entropy(n1,n2)\n",
    "        n1,n2 = compute_node_metrics_left(col,cutoff)\n",
    "        e2 = compute_node_entropy(n1,n2)\n",
    "        tot2 = n1+n2\n",
    "        p12 = round(n1/(tot2),2)\n",
    "        entropy = (tot1/(tot1+tot2))*e1+((tot2)/(tot1+tot2))*e2\n",
    "        axes[0].set_title(f'{col}>={cutoff}, Entropy: {round(entropy,4)}, Pr(P)={p11}')\n",
    "        axes[1].set_title(f'{col}<{cutoff}, Entropy: {round(entropy,4)}, Pr(P)={p12}')\n",
    "        plt.tight_layout()\n",
    "    except:\n",
    "        print(\"Can't compute\")\n",
    "    return plt.show()\n",
    "        "
   ]
  },
  {
   "cell_type": "code",
   "execution_count": 10,
   "id": "f5b71097-050a-4b09-a23d-5dd45d9040ce",
   "metadata": {
    "tags": []
   },
   "outputs": [
    {
     "data": {
      "application/vnd.jupyter.widget-view+json": {
       "model_id": "9470fe3de7884365ab36aeca23226b65",
       "version_major": 2,
       "version_minor": 0
      },
      "text/plain": [
       "interactive(children=(IntSlider(value=0, description='x', max=58), Text(value='Age', description='col'), Outpu…"
      ]
     },
     "metadata": {},
     "output_type": "display_data"
    },
    {
     "data": {
      "text/plain": [
       "<function __main__.plot_entropy(x, col)>"
      ]
     },
     "execution_count": 10,
     "metadata": {},
     "output_type": "execute_result"
    }
   ],
   "source": [
    "interact(plot_entropy,col='Age',x=widgets.IntSlider(min=0,max=df.Age.max()))"
   ]
  },
  {
   "cell_type": "markdown",
   "id": "44e8604d-3f92-4985-8b00-5229b8c256d1",
   "metadata": {},
   "source": [
    "### Regression Example"
   ]
  },
  {
   "cell_type": "code",
   "execution_count": 9,
   "id": "99f5d6d1-46b3-4a6c-adc6-2303f26b4a2a",
   "metadata": {
    "tags": []
   },
   "outputs": [],
   "source": [
    "from io import StringIO\n",
    "reg = pd.read_table(StringIO('''Country\tRim\tTires\tType\tPrice\n",
    "Japan\tR14\t195/60\tSmall\t11.95\n",
    "Japan\tR15\t205/60\tMedium\t24.76\n",
    "Germany\tR15\t205/60\tMedium\t26.9\n",
    "Germany\tR14\t175/70\tCompact\t18.9\n",
    "Germany\tR14\t195/65\tCompact\t24.65\n",
    "Germany\tR15\t225/60\tMedium\t33.2\n",
    "USA\tR14\t185/75\tMedium\t13.15\n",
    "USA\tR14\t205/75\tLarge\t20.225\n",
    "USA\tR14\t205/75\tLarge\t16.145\n",
    "USA\tR15\t205/70\tMedium\t23.04''')\n",
    ",sep=\"\\t\")"
   ]
  },
  {
   "cell_type": "code",
   "execution_count": 10,
   "id": "5c8cd1bf-459d-4be1-8d70-7f22b121de52",
   "metadata": {
    "tags": []
   },
   "outputs": [
    {
     "data": {
      "text/html": [
       "<div>\n",
       "<style scoped>\n",
       "    .dataframe tbody tr th:only-of-type {\n",
       "        vertical-align: middle;\n",
       "    }\n",
       "\n",
       "    .dataframe tbody tr th {\n",
       "        vertical-align: top;\n",
       "    }\n",
       "\n",
       "    .dataframe thead th {\n",
       "        text-align: right;\n",
       "    }\n",
       "</style>\n",
       "<table border=\"1\" class=\"dataframe\">\n",
       "  <thead>\n",
       "    <tr style=\"text-align: right;\">\n",
       "      <th></th>\n",
       "      <th>Country</th>\n",
       "      <th>Rim</th>\n",
       "      <th>Tires</th>\n",
       "      <th>Type</th>\n",
       "      <th>Price</th>\n",
       "    </tr>\n",
       "  </thead>\n",
       "  <tbody>\n",
       "    <tr>\n",
       "      <th>0</th>\n",
       "      <td>Japan</td>\n",
       "      <td>R14</td>\n",
       "      <td>195/60</td>\n",
       "      <td>Small</td>\n",
       "      <td>11.950</td>\n",
       "    </tr>\n",
       "    <tr>\n",
       "      <th>1</th>\n",
       "      <td>Japan</td>\n",
       "      <td>R15</td>\n",
       "      <td>205/60</td>\n",
       "      <td>Medium</td>\n",
       "      <td>24.760</td>\n",
       "    </tr>\n",
       "    <tr>\n",
       "      <th>2</th>\n",
       "      <td>Germany</td>\n",
       "      <td>R15</td>\n",
       "      <td>205/60</td>\n",
       "      <td>Medium</td>\n",
       "      <td>26.900</td>\n",
       "    </tr>\n",
       "    <tr>\n",
       "      <th>3</th>\n",
       "      <td>Germany</td>\n",
       "      <td>R14</td>\n",
       "      <td>175/70</td>\n",
       "      <td>Compact</td>\n",
       "      <td>18.900</td>\n",
       "    </tr>\n",
       "    <tr>\n",
       "      <th>4</th>\n",
       "      <td>Germany</td>\n",
       "      <td>R14</td>\n",
       "      <td>195/65</td>\n",
       "      <td>Compact</td>\n",
       "      <td>24.650</td>\n",
       "    </tr>\n",
       "    <tr>\n",
       "      <th>5</th>\n",
       "      <td>Germany</td>\n",
       "      <td>R15</td>\n",
       "      <td>225/60</td>\n",
       "      <td>Medium</td>\n",
       "      <td>33.200</td>\n",
       "    </tr>\n",
       "    <tr>\n",
       "      <th>6</th>\n",
       "      <td>USA</td>\n",
       "      <td>R14</td>\n",
       "      <td>185/75</td>\n",
       "      <td>Medium</td>\n",
       "      <td>13.150</td>\n",
       "    </tr>\n",
       "    <tr>\n",
       "      <th>7</th>\n",
       "      <td>USA</td>\n",
       "      <td>R14</td>\n",
       "      <td>205/75</td>\n",
       "      <td>Large</td>\n",
       "      <td>20.225</td>\n",
       "    </tr>\n",
       "    <tr>\n",
       "      <th>8</th>\n",
       "      <td>USA</td>\n",
       "      <td>R14</td>\n",
       "      <td>205/75</td>\n",
       "      <td>Large</td>\n",
       "      <td>16.145</td>\n",
       "    </tr>\n",
       "    <tr>\n",
       "      <th>9</th>\n",
       "      <td>USA</td>\n",
       "      <td>R15</td>\n",
       "      <td>205/70</td>\n",
       "      <td>Medium</td>\n",
       "      <td>23.040</td>\n",
       "    </tr>\n",
       "  </tbody>\n",
       "</table>\n",
       "</div>"
      ],
      "text/plain": [
       "   Country  Rim   Tires     Type   Price\n",
       "0    Japan  R14  195/60    Small  11.950\n",
       "1    Japan  R15  205/60   Medium  24.760\n",
       "2  Germany  R15  205/60   Medium  26.900\n",
       "3  Germany  R14  175/70  Compact  18.900\n",
       "4  Germany  R14  195/65  Compact  24.650\n",
       "5  Germany  R15  225/60   Medium  33.200\n",
       "6      USA  R14  185/75   Medium  13.150\n",
       "7      USA  R14  205/75    Large  20.225\n",
       "8      USA  R14  205/75    Large  16.145\n",
       "9      USA  R15  205/70   Medium  23.040"
      ]
     },
     "execution_count": 10,
     "metadata": {},
     "output_type": "execute_result"
    }
   ],
   "source": [
    "reg"
   ]
  },
  {
   "cell_type": "code",
   "execution_count": 11,
   "id": "82d5baea-b27f-43e7-b2d4-51a40ec6f077",
   "metadata": {
    "tags": []
   },
   "outputs": [],
   "source": [
    "from pandas.plotting import table    "
   ]
  },
  {
   "cell_type": "code",
   "execution_count": 12,
   "id": "e2761a6f-8636-4af2-bdcd-8f93b8acb2ac",
   "metadata": {
    "tags": []
   },
   "outputs": [],
   "source": [
    "def split(x,col):\n",
    "    t1 = reg[reg[col]==x]\n",
    "    t2 = reg[reg[col]!=x]\n",
    "    avg1 = t1['Price'].mean().round(3)\n",
    "    avg2 = t2['Price'].mean().round(3)\n",
    "    fig, axes = plt.subplots(nrows=1, ncols=2, figsize=(10, 5))\n",
    "    axes[0].xaxis.set_visible(False)\n",
    "    axes[1].xaxis.set_visible(False)\n",
    "    axes[0].yaxis.set_visible(False)\n",
    "    axes[1].yaxis.set_visible(False) \n",
    "    axes[0].set(frame_on=False)\n",
    "    axes[1].set(frame_on=False)\n",
    "    axes[0].table(cellText=t1.values, colLabels=t1.keys(), loc='top')\n",
    "    axes[1].table(cellText=t2.values, colLabels=t2.keys(), loc='top')\n",
    "    axes[0].text(x=axes[0].get_xticks()[0],y=axes[0].get_yticks()[-2],s=f'{col}={x}: Avg Price: {round(avg1,4)}')\n",
    "    axes[1].text(x=axes[1].get_xticks()[0],y=axes[1].get_yticks()[-2],s=f'{col}!={x}: Avg Price: {round(avg2,4)}')\n",
    "    plt.tight_layout()\n",
    "    return plt.show()\n",
    "    "
   ]
  },
  {
   "cell_type": "code",
   "execution_count": 13,
   "id": "5e726b59-e8a6-4a12-9390-21e64eae3154",
   "metadata": {
    "tags": []
   },
   "outputs": [
    {
     "data": {
      "application/vnd.jupyter.widget-view+json": {
       "model_id": "331f9c597c81418e8ed9a0a6a1fede94",
       "version_major": 2,
       "version_minor": 0
      },
      "text/plain": [
       "interactive(children=(Dropdown(description='Type', options=('Small', 'Medium', 'Compact', 'Large'), value='Sma…"
      ]
     },
     "metadata": {},
     "output_type": "display_data"
    }
   ],
   "source": [
    "column = \"Type\"\n",
    "default = reg[column].unique().tolist()[0]\n",
    "x=interact(split,col=column,x=widgets.Dropdown(\n",
    "    options=reg[column].unique().tolist(),\n",
    "    value=default,\n",
    "    description=column,\n",
    "    disabled=False))"
   ]
  },
  {
   "cell_type": "markdown",
   "id": "bc8b9267-f70a-48f4-8122-85a5901ed4e1",
   "metadata": {},
   "source": [
    "## Regression Purity Metrics"
   ]
  },
  {
   "cell_type": "code",
   "execution_count": 14,
   "id": "c69ffe46-14c4-4683-bba1-dc3873a9dac4",
   "metadata": {
    "tags": []
   },
   "outputs": [],
   "source": [
    "def process_subset(t,col,x):\n",
    "    t1 = t[t[col]==x]\n",
    "    t2 = t[t[col]!=x]\n",
    "    avg1 = t1.Price.mean().round(3)\n",
    "    avg2 = t2.Price.mean().round(3)\n",
    "    t1 = t1[[col,'Price']]\n",
    "    t2 = t2[[col,'Price']]\n",
    "    t1['Pred']=avg1\n",
    "    t2['Pred']=avg2\n",
    "    t1['Error^2'] = (t1['Price']-t1['Pred'])**2\n",
    "    t2['Error^2'] = (t2['Price']-t2['Pred'])**2\n",
    "    t1['MSE'] = t1['Error^2'].mean().round(2)\n",
    "    t2['MSE'] = t2['Error^2'].mean().round(2)\n",
    "    t1['Error^2'] = t1['Error^2'].round(3)\n",
    "    t2['Error^2'] = t2['Error^2'].round(3)\n",
    "    mse1 = t1['MSE'].iloc[0]\n",
    "    mse2 = t2['MSE'].iloc[0]\n",
    "    w1 = t1.shape[0]\n",
    "    w2 = t2.shape[0]\n",
    "    mse = (w1/(w1+w2))*(mse1)+(w2/(w1+w2))*(mse2)\n",
    "    return t1,t2,mse,mse1,mse2,w1,w2"
   ]
  },
  {
   "cell_type": "code",
   "execution_count": 15,
   "id": "49d67ac6-3a4c-49cb-92bd-052ad5b8f5a2",
   "metadata": {
    "tags": []
   },
   "outputs": [],
   "source": [
    "def split(x,col):\n",
    "    t1,t2,mse,mse1,mse2,w1,w2=process_subset(reg,col,x)\n",
    "    fig, axes = plt.subplots(nrows=1, ncols=2, figsize=(10, 5))\n",
    "    axes[0].xaxis.set_visible(False)\n",
    "    axes[1].xaxis.set_visible(False)\n",
    "    axes[0].yaxis.set_visible(False)\n",
    "    axes[1].yaxis.set_visible(False) \n",
    "    axes[0].set(frame_on=False)\n",
    "    axes[1].set(frame_on=False)\n",
    "    axes[0].table(cellText=t1.values, colLabels=t1.keys(), loc='top')\n",
    "    axes[1].table(cellText=t2.values, colLabels=t2.keys(), loc='top')\n",
    "    axes[0].text(x=axes[0].get_xticks()[0],y=axes[0].get_yticks()[-2],s=f'''{col}={x}: MSE: {round(mse1,4)}, W: {w1}, Wtd MSE: {round(mse,2)}''')\n",
    "    axes[1].text(x=axes[1].get_xticks()[0],y=axes[1].get_yticks()[-2],s=f'{col}!={x}: MSE: {round(mse2,4)}, W {w2}, Wtd MSE: {round(mse,2)}')\n",
    "    plt.tight_layout()\n",
    "    return plt.show()"
   ]
  },
  {
   "cell_type": "code",
   "execution_count": 17,
   "id": "969a7a52-daf9-4629-a02d-68ebcd29ed61",
   "metadata": {
    "tags": []
   },
   "outputs": [
    {
     "data": {
      "application/vnd.jupyter.widget-view+json": {
       "model_id": "fe800bd21eda4e2c9b57c8c0f320ae59",
       "version_major": 2,
       "version_minor": 0
      },
      "text/plain": [
       "interactive(children=(Dropdown(description='Country', options=('Japan', 'Germany', 'USA'), value='Japan'), Tex…"
      ]
     },
     "metadata": {},
     "output_type": "display_data"
    }
   ],
   "source": [
    "column = \"Country\"\n",
    "default = reg[column].unique().tolist()[0]\n",
    "x=interact(split,col=column,x=widgets.Dropdown(\n",
    "    options=reg[column].unique().tolist(),\n",
    "    value=default,\n",
    "    description=column,\n",
    "    disabled=False))"
   ]
  },
  {
   "cell_type": "code",
   "execution_count": null,
   "id": "0dc2adac-b440-449b-86b9-8c2dffebf53f",
   "metadata": {},
   "outputs": [],
   "source": []
  }
 ],
 "metadata": {
  "kernelspec": {
   "display_name": "Python 3 (ipykernel)",
   "language": "python",
   "name": "python3"
  },
  "language_info": {
   "codemirror_mode": {
    "name": "ipython",
    "version": 3
   },
   "file_extension": ".py",
   "mimetype": "text/x-python",
   "name": "python",
   "nbconvert_exporter": "python",
   "pygments_lexer": "ipython3",
   "version": "3.9.13"
  }
 },
 "nbformat": 4,
 "nbformat_minor": 5
}
